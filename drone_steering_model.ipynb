{
 "cells": [
  {
   "cell_type": "code",
   "execution_count": 1,
   "metadata": {},
   "outputs": [
    {
     "ename": "ModuleNotFoundError",
     "evalue": "No module named 'pandas'",
     "output_type": "error",
     "traceback": [
      "\u001b[1;31m---------------------------------------------------------------------------\u001b[0m",
      "\u001b[1;31mModuleNotFoundError\u001b[0m                       Traceback (most recent call last)",
      "\u001b[1;32m<ipython-input-1-835526552d66>\u001b[0m in \u001b[0;36m<module>\u001b[1;34m\u001b[0m\n\u001b[1;32m----> 1\u001b[1;33m \u001b[1;32mimport\u001b[0m \u001b[0mpandas\u001b[0m \u001b[1;32mas\u001b[0m \u001b[0mpd\u001b[0m\u001b[1;33m\u001b[0m\u001b[0m\n\u001b[0m\u001b[0;32m      2\u001b[0m \u001b[1;32mimport\u001b[0m \u001b[0mnumpy\u001b[0m \u001b[1;32mas\u001b[0m \u001b[0mnp\u001b[0m\u001b[1;33m\u001b[0m\u001b[0m\n\u001b[0;32m      3\u001b[0m \u001b[1;32mimport\u001b[0m \u001b[0mseaborn\u001b[0m \u001b[1;32mas\u001b[0m \u001b[0msns\u001b[0m\u001b[1;33m\u001b[0m\u001b[0m\n",
      "\u001b[1;31mModuleNotFoundError\u001b[0m: No module named 'pandas'"
     ]
    }
   ],
   "source": [
    "import pandas as pd\n",
    "import numpy as np\n",
    "import seaborn as sns"
   ]
  },
  {
   "cell_type": "markdown",
   "metadata": {},
   "source": [
    "### Inspecting Train Data"
   ]
  },
  {
   "cell_type": "code",
   "execution_count": 94,
   "metadata": {},
   "outputs": [
    {
     "data": {
      "text/html": [
       "<div>\n",
       "<style scoped>\n",
       "    .dataframe tbody tr th:only-of-type {\n",
       "        vertical-align: middle;\n",
       "    }\n",
       "\n",
       "    .dataframe tbody tr th {\n",
       "        vertical-align: top;\n",
       "    }\n",
       "\n",
       "    .dataframe thead th {\n",
       "        text-align: right;\n",
       "    }\n",
       "</style>\n",
       "<table border=\"1\" class=\"dataframe\">\n",
       "  <thead>\n",
       "    <tr style=\"text-align: right;\">\n",
       "      <th></th>\n",
       "      <th>leftShoulder_x</th>\n",
       "      <th>leftShoulder_y</th>\n",
       "      <th>rightShoulder_x</th>\n",
       "      <th>rightShoulder_y</th>\n",
       "      <th>leftElbow_x</th>\n",
       "      <th>leftElbow_y</th>\n",
       "      <th>rightElbow_x</th>\n",
       "      <th>rightElbow_y</th>\n",
       "      <th>leftWrist_x</th>\n",
       "      <th>leftWrist_y</th>\n",
       "      <th>rightWrist_x</th>\n",
       "      <th>rightWrist_y</th>\n",
       "      <th>label</th>\n",
       "    </tr>\n",
       "  </thead>\n",
       "  <tbody>\n",
       "    <tr>\n",
       "      <th>0</th>\n",
       "      <td>392</td>\n",
       "      <td>152</td>\n",
       "      <td>322</td>\n",
       "      <td>146</td>\n",
       "      <td>402</td>\n",
       "      <td>210</td>\n",
       "      <td>268</td>\n",
       "      <td>160</td>\n",
       "      <td>401</td>\n",
       "      <td>267</td>\n",
       "      <td>230</td>\n",
       "      <td>148</td>\n",
       "      <td>1</td>\n",
       "    </tr>\n",
       "    <tr>\n",
       "      <th>1</th>\n",
       "      <td>393</td>\n",
       "      <td>152</td>\n",
       "      <td>319</td>\n",
       "      <td>147</td>\n",
       "      <td>399</td>\n",
       "      <td>210</td>\n",
       "      <td>260</td>\n",
       "      <td>164</td>\n",
       "      <td>402</td>\n",
       "      <td>272</td>\n",
       "      <td>219</td>\n",
       "      <td>147</td>\n",
       "      <td>1</td>\n",
       "    </tr>\n",
       "    <tr>\n",
       "      <th>2</th>\n",
       "      <td>391</td>\n",
       "      <td>151</td>\n",
       "      <td>321</td>\n",
       "      <td>147</td>\n",
       "      <td>403</td>\n",
       "      <td>207</td>\n",
       "      <td>269</td>\n",
       "      <td>162</td>\n",
       "      <td>408</td>\n",
       "      <td>270</td>\n",
       "      <td>356</td>\n",
       "      <td>272</td>\n",
       "      <td>1</td>\n",
       "    </tr>\n",
       "    <tr>\n",
       "      <th>3</th>\n",
       "      <td>391</td>\n",
       "      <td>150</td>\n",
       "      <td>321</td>\n",
       "      <td>145</td>\n",
       "      <td>403</td>\n",
       "      <td>207</td>\n",
       "      <td>265</td>\n",
       "      <td>166</td>\n",
       "      <td>397</td>\n",
       "      <td>267</td>\n",
       "      <td>335</td>\n",
       "      <td>266</td>\n",
       "      <td>1</td>\n",
       "    </tr>\n",
       "    <tr>\n",
       "      <th>4</th>\n",
       "      <td>390</td>\n",
       "      <td>150</td>\n",
       "      <td>322</td>\n",
       "      <td>149</td>\n",
       "      <td>403</td>\n",
       "      <td>210</td>\n",
       "      <td>270</td>\n",
       "      <td>159</td>\n",
       "      <td>406</td>\n",
       "      <td>269</td>\n",
       "      <td>224</td>\n",
       "      <td>148</td>\n",
       "      <td>1</td>\n",
       "    </tr>\n",
       "  </tbody>\n",
       "</table>\n",
       "</div>"
      ],
      "text/plain": [
       "   leftShoulder_x  leftShoulder_y  rightShoulder_x  rightShoulder_y  \\\n",
       "0             392             152              322              146   \n",
       "1             393             152              319              147   \n",
       "2             391             151              321              147   \n",
       "3             391             150              321              145   \n",
       "4             390             150              322              149   \n",
       "\n",
       "   leftElbow_x  leftElbow_y  rightElbow_x  rightElbow_y  leftWrist_x  \\\n",
       "0          402          210           268           160          401   \n",
       "1          399          210           260           164          402   \n",
       "2          403          207           269           162          408   \n",
       "3          403          207           265           166          397   \n",
       "4          403          210           270           159          406   \n",
       "\n",
       "   leftWrist_y  rightWrist_x  rightWrist_y  label  \n",
       "0          267           230           148      1  \n",
       "1          272           219           147      1  \n",
       "2          270           356           272      1  \n",
       "3          267           335           266      1  \n",
       "4          269           224           148      1  "
      ]
     },
     "execution_count": 94,
     "metadata": {},
     "output_type": "execute_result"
    }
   ],
   "source": [
    "df = pd.read_csv(r'data\\video_001.csv')\n",
    "df.head()"
   ]
  },
  {
   "cell_type": "code",
   "execution_count": 95,
   "metadata": {},
   "outputs": [
    {
     "data": {
      "text/html": [
       "<div>\n",
       "<style scoped>\n",
       "    .dataframe tbody tr th:only-of-type {\n",
       "        vertical-align: middle;\n",
       "    }\n",
       "\n",
       "    .dataframe tbody tr th {\n",
       "        vertical-align: top;\n",
       "    }\n",
       "\n",
       "    .dataframe thead th {\n",
       "        text-align: right;\n",
       "    }\n",
       "</style>\n",
       "<table border=\"1\" class=\"dataframe\">\n",
       "  <thead>\n",
       "    <tr style=\"text-align: right;\">\n",
       "      <th></th>\n",
       "      <th>leftShoulder_x</th>\n",
       "      <th>leftShoulder_y</th>\n",
       "      <th>rightShoulder_x</th>\n",
       "      <th>rightShoulder_y</th>\n",
       "      <th>leftElbow_x</th>\n",
       "      <th>leftElbow_y</th>\n",
       "      <th>rightElbow_x</th>\n",
       "      <th>rightElbow_y</th>\n",
       "      <th>leftWrist_x</th>\n",
       "      <th>leftWrist_y</th>\n",
       "      <th>rightWrist_x</th>\n",
       "      <th>rightWrist_y</th>\n",
       "      <th>label</th>\n",
       "    </tr>\n",
       "  </thead>\n",
       "  <tbody>\n",
       "    <tr>\n",
       "      <th>count</th>\n",
       "      <td>63.000000</td>\n",
       "      <td>63.000000</td>\n",
       "      <td>63.000000</td>\n",
       "      <td>63.000000</td>\n",
       "      <td>63.000000</td>\n",
       "      <td>63.000000</td>\n",
       "      <td>63.000000</td>\n",
       "      <td>63.000000</td>\n",
       "      <td>63.000000</td>\n",
       "      <td>63.000000</td>\n",
       "      <td>63.000000</td>\n",
       "      <td>63.000000</td>\n",
       "      <td>63.000000</td>\n",
       "    </tr>\n",
       "    <tr>\n",
       "      <th>mean</th>\n",
       "      <td>379.285714</td>\n",
       "      <td>147.746032</td>\n",
       "      <td>309.888889</td>\n",
       "      <td>147.349206</td>\n",
       "      <td>402.412698</td>\n",
       "      <td>184.238095</td>\n",
       "      <td>282.222222</td>\n",
       "      <td>177.222222</td>\n",
       "      <td>405.190476</td>\n",
       "      <td>226.682540</td>\n",
       "      <td>277.634921</td>\n",
       "      <td>205.222222</td>\n",
       "      <td>2.619048</td>\n",
       "    </tr>\n",
       "    <tr>\n",
       "      <th>std</th>\n",
       "      <td>5.592127</td>\n",
       "      <td>5.665311</td>\n",
       "      <td>4.701102</td>\n",
       "      <td>6.481136</td>\n",
       "      <td>15.449851</td>\n",
       "      <td>41.403488</td>\n",
       "      <td>24.600973</td>\n",
       "      <td>45.937350</td>\n",
       "      <td>37.441937</td>\n",
       "      <td>76.862849</td>\n",
       "      <td>41.038653</td>\n",
       "      <td>82.635118</td>\n",
       "      <td>1.249885</td>\n",
       "    </tr>\n",
       "    <tr>\n",
       "      <th>min</th>\n",
       "      <td>367.000000</td>\n",
       "      <td>130.000000</td>\n",
       "      <td>298.000000</td>\n",
       "      <td>129.000000</td>\n",
       "      <td>375.000000</td>\n",
       "      <td>88.000000</td>\n",
       "      <td>245.000000</td>\n",
       "      <td>83.000000</td>\n",
       "      <td>373.000000</td>\n",
       "      <td>19.000000</td>\n",
       "      <td>186.000000</td>\n",
       "      <td>13.000000</td>\n",
       "      <td>1.000000</td>\n",
       "    </tr>\n",
       "    <tr>\n",
       "      <th>25%</th>\n",
       "      <td>377.000000</td>\n",
       "      <td>148.000000</td>\n",
       "      <td>308.000000</td>\n",
       "      <td>146.000000</td>\n",
       "      <td>392.000000</td>\n",
       "      <td>156.000000</td>\n",
       "      <td>265.000000</td>\n",
       "      <td>156.000000</td>\n",
       "      <td>387.000000</td>\n",
       "      <td>253.000000</td>\n",
       "      <td>251.500000</td>\n",
       "      <td>141.000000</td>\n",
       "      <td>1.000000</td>\n",
       "    </tr>\n",
       "    <tr>\n",
       "      <th>50%</th>\n",
       "      <td>379.000000</td>\n",
       "      <td>150.000000</td>\n",
       "      <td>309.000000</td>\n",
       "      <td>150.000000</td>\n",
       "      <td>397.000000</td>\n",
       "      <td>209.000000</td>\n",
       "      <td>291.000000</td>\n",
       "      <td>210.000000</td>\n",
       "      <td>392.000000</td>\n",
       "      <td>263.000000</td>\n",
       "      <td>290.000000</td>\n",
       "      <td>263.000000</td>\n",
       "      <td>3.000000</td>\n",
       "    </tr>\n",
       "    <tr>\n",
       "      <th>75%</th>\n",
       "      <td>382.000000</td>\n",
       "      <td>151.000000</td>\n",
       "      <td>311.500000</td>\n",
       "      <td>152.000000</td>\n",
       "      <td>410.000000</td>\n",
       "      <td>211.000000</td>\n",
       "      <td>295.000000</td>\n",
       "      <td>215.000000</td>\n",
       "      <td>402.500000</td>\n",
       "      <td>267.000000</td>\n",
       "      <td>298.000000</td>\n",
       "      <td>268.000000</td>\n",
       "      <td>4.000000</td>\n",
       "    </tr>\n",
       "    <tr>\n",
       "      <th>max</th>\n",
       "      <td>393.000000</td>\n",
       "      <td>154.000000</td>\n",
       "      <td>322.000000</td>\n",
       "      <td>154.000000</td>\n",
       "      <td>446.000000</td>\n",
       "      <td>217.000000</td>\n",
       "      <td>414.000000</td>\n",
       "      <td>219.000000</td>\n",
       "      <td>523.000000</td>\n",
       "      <td>273.000000</td>\n",
       "      <td>404.000000</td>\n",
       "      <td>274.000000</td>\n",
       "      <td>4.000000</td>\n",
       "    </tr>\n",
       "  </tbody>\n",
       "</table>\n",
       "</div>"
      ],
      "text/plain": [
       "       leftShoulder_x  leftShoulder_y  rightShoulder_x  rightShoulder_y  \\\n",
       "count       63.000000       63.000000        63.000000        63.000000   \n",
       "mean       379.285714      147.746032       309.888889       147.349206   \n",
       "std          5.592127        5.665311         4.701102         6.481136   \n",
       "min        367.000000      130.000000       298.000000       129.000000   \n",
       "25%        377.000000      148.000000       308.000000       146.000000   \n",
       "50%        379.000000      150.000000       309.000000       150.000000   \n",
       "75%        382.000000      151.000000       311.500000       152.000000   \n",
       "max        393.000000      154.000000       322.000000       154.000000   \n",
       "\n",
       "       leftElbow_x  leftElbow_y  rightElbow_x  rightElbow_y  leftWrist_x  \\\n",
       "count    63.000000    63.000000     63.000000     63.000000    63.000000   \n",
       "mean    402.412698   184.238095    282.222222    177.222222   405.190476   \n",
       "std      15.449851    41.403488     24.600973     45.937350    37.441937   \n",
       "min     375.000000    88.000000    245.000000     83.000000   373.000000   \n",
       "25%     392.000000   156.000000    265.000000    156.000000   387.000000   \n",
       "50%     397.000000   209.000000    291.000000    210.000000   392.000000   \n",
       "75%     410.000000   211.000000    295.000000    215.000000   402.500000   \n",
       "max     446.000000   217.000000    414.000000    219.000000   523.000000   \n",
       "\n",
       "       leftWrist_y  rightWrist_x  rightWrist_y      label  \n",
       "count    63.000000     63.000000     63.000000  63.000000  \n",
       "mean    226.682540    277.634921    205.222222   2.619048  \n",
       "std      76.862849     41.038653     82.635118   1.249885  \n",
       "min      19.000000    186.000000     13.000000   1.000000  \n",
       "25%     253.000000    251.500000    141.000000   1.000000  \n",
       "50%     263.000000    290.000000    263.000000   3.000000  \n",
       "75%     267.000000    298.000000    268.000000   4.000000  \n",
       "max     273.000000    404.000000    274.000000   4.000000  "
      ]
     },
     "execution_count": 95,
     "metadata": {},
     "output_type": "execute_result"
    }
   ],
   "source": [
    "df.describe()"
   ]
  },
  {
   "cell_type": "code",
   "execution_count": 96,
   "metadata": {},
   "outputs": [
    {
     "data": {
      "text/plain": [
       "array([1, 3, 4, 2], dtype=int64)"
      ]
     },
     "execution_count": 96,
     "metadata": {},
     "output_type": "execute_result"
    }
   ],
   "source": [
    "df.label.unique()"
   ]
  },
  {
   "cell_type": "markdown",
   "metadata": {},
   "source": [
    "### Loading Data and Training Model"
   ]
  },
  {
   "cell_type": "code",
   "execution_count": 3,
   "metadata": {},
   "outputs": [],
   "source": [
    "import numpy as np"
   ]
  },
  {
   "cell_type": "code",
   "execution_count": 4,
   "metadata": {},
   "outputs": [],
   "source": [
    "data_csv = np.genfromtxt('data/video_001.csv', delimiter=',')\n",
    "\n",
    "train_x = data_csv[1:50,0:12] / 600\n",
    "train_y = data_csv[1:50,12:13]\n",
    "test_x = data_csv[50:,0:12] / 600\n",
    "test_y = data_csv[50:,12:13]"
   ]
  },
  {
   "cell_type": "code",
   "execution_count": 5,
   "metadata": {},
   "outputs": [
    {
     "data": {
      "text/plain": [
       "(49, 12)"
      ]
     },
     "execution_count": 5,
     "metadata": {},
     "output_type": "execute_result"
    }
   ],
   "source": [
    "train_x.shape"
   ]
  },
  {
   "cell_type": "code",
   "execution_count": 6,
   "metadata": {},
   "outputs": [
    {
     "name": "stderr",
     "output_type": "stream",
     "text": [
      "Using TensorFlow backend.\n"
     ]
    }
   ],
   "source": [
    "from keras.utils import to_categorical\n",
    "train_y = to_categorical(train_y)\n",
    "test_y = to_categorical(test_y)"
   ]
  },
  {
   "cell_type": "code",
   "execution_count": 7,
   "metadata": {},
   "outputs": [
    {
     "name": "stdout",
     "output_type": "stream",
     "text": [
      "[0.65       0.25       0.53666667 0.24833333 0.67166667 0.35\n",
      " 0.45       0.265      0.67666667 0.44833333 0.37333333 0.24666667]\n",
      "[0. 1. 0. 0. 0.]\n"
     ]
    }
   ],
   "source": [
    "print(train_x[4])\n",
    "print(train_y[4])"
   ]
  },
  {
   "cell_type": "code",
   "execution_count": 8,
   "metadata": {},
   "outputs": [
    {
     "name": "stdout",
     "output_type": "stream",
     "text": [
      "[0.63166667 0.24666667 0.51333333 0.25166667 0.655      0.355\n",
      " 0.49333333 0.35333333 0.65333333 0.445      0.49333333 0.45166667]\n",
      "[0. 0. 0. 0. 1.]\n"
     ]
    }
   ],
   "source": [
    "print(test_x[4])\n",
    "print(test_y[4])"
   ]
  },
  {
   "cell_type": "code",
   "execution_count": 9,
   "metadata": {},
   "outputs": [
    {
     "name": "stdout",
     "output_type": "stream",
     "text": [
      "_________________________________________________________________\n",
      "Layer (type)                 Output Shape              Param #   \n",
      "=================================================================\n",
      "dense_1 (Dense)              (None, 10)                130       \n",
      "_________________________________________________________________\n",
      "dense_2 (Dense)              (None, 8)                 88        \n",
      "_________________________________________________________________\n",
      "dense_3 (Dense)              (None, 5)                 45        \n",
      "=================================================================\n",
      "Total params: 263\n",
      "Trainable params: 263\n",
      "Non-trainable params: 0\n",
      "_________________________________________________________________\n"
     ]
    }
   ],
   "source": [
    "from keras import models, layers\n",
    "\n",
    "model = models.Sequential()\n",
    "model.add(layers.Dense(\n",
    "    10, \n",
    "    activation=\"relu\", \n",
    "    input_shape=(12, )))\n",
    "model.add(layers.Dense(8, activation=\"relu\"))\n",
    "model.add(layers.Dense(5, activation=\"softmax\"))\n",
    "\n",
    "model.summary()                                         \n",
    "\n",
    "from keras import optimizers, losses, metrics\n",
    "model.compile(\n",
    "    optimizer=optimizers.RMSprop(lr=0.001),\n",
    "    loss=losses.categorical_crossentropy,\n",
    "    metrics=[metrics.categorical_accuracy]\n",
    ")"
   ]
  },
  {
   "cell_type": "code",
   "execution_count": 10,
   "metadata": {},
   "outputs": [
    {
     "name": "stdout",
     "output_type": "stream",
     "text": [
      "Epoch 1/3\n",
      "49/49 [==============================] - 0s 9ms/step - loss: 1.5298 - categorical_accuracy: 0.3673\n",
      "Epoch 2/3\n",
      "49/49 [==============================] - 0s 245us/step - loss: 1.5094 - categorical_accuracy: 0.3878\n",
      "Epoch 3/3\n",
      "49/49 [==============================] - 0s 326us/step - loss: 1.4985 - categorical_accuracy: 0.3673\n"
     ]
    }
   ],
   "source": [
    "history = model.fit(\n",
    "    train_x,\n",
    "    train_y,\n",
    "    epochs=3,\n",
    "    batch_size=10\n",
    ")"
   ]
  },
  {
   "cell_type": "code",
   "execution_count": 11,
   "metadata": {},
   "outputs": [
    {
     "name": "stdout",
     "output_type": "stream",
     "text": [
      "14/14 [==============================] - 0s 4ms/step\n",
      "Loss / Accuracy Evaluation\n",
      "--------------------------\n",
      "Loss:     1.39607\n",
      "Accuracy: 0.79\n"
     ]
    }
   ],
   "source": [
    "test_loss, test_acc = model.evaluate(test_x, test_y)\n",
    "print(\"Loss / Accuracy Evaluation\")\n",
    "print(\"--------------------------\")\n",
    "print(\"Loss:     \" + str(round(test_loss,5)))\n",
    "print(\"Accuracy: \" + str(round(test_acc,2)))"
   ]
  },
  {
   "cell_type": "code",
   "execution_count": 12,
   "metadata": {},
   "outputs": [],
   "source": [
    "test_y_pred = model.predict(test_x)"
   ]
  },
  {
   "cell_type": "code",
   "execution_count": 13,
   "metadata": {},
   "outputs": [
    {
     "data": {
      "text/plain": [
       "array([[0.12138621, 0.2043669 , 0.21782994, 0.19924143, 0.2571755 ],\n",
       "       [0.12083072, 0.20257555, 0.21766469, 0.19971877, 0.25921032],\n",
       "       [0.12045828, 0.20135248, 0.21687013, 0.19998716, 0.26133195],\n",
       "       [0.12029037, 0.2011014 , 0.21720842, 0.20025946, 0.26114023],\n",
       "       [0.12031044, 0.20099978, 0.21689826, 0.20010126, 0.2616903 ],\n",
       "       [0.11971876, 0.20038189, 0.2170972 , 0.20027792, 0.26252425],\n",
       "       [0.12013637, 0.20147209, 0.21715093, 0.19994609, 0.2612945 ],\n",
       "       [0.12025196, 0.20170231, 0.2170756 , 0.19985394, 0.2611162 ],\n",
       "       [0.11998167, 0.2006515 , 0.21720871, 0.20022787, 0.26193026],\n",
       "       [0.11992314, 0.20065507, 0.21737687, 0.20030275, 0.26174217],\n",
       "       [0.12044746, 0.20102696, 0.21679291, 0.20008206, 0.26165062],\n",
       "       [0.1207404 , 0.2014052 , 0.21647029, 0.19996926, 0.2614149 ],\n",
       "       [0.12136436, 0.20162149, 0.21646275, 0.19997257, 0.2605789 ],\n",
       "       [0.12136436, 0.20162149, 0.21646273, 0.19997257, 0.2605789 ]],\n",
       "      dtype=float32)"
      ]
     },
     "execution_count": 13,
     "metadata": {},
     "output_type": "execute_result"
    }
   ],
   "source": [
    "test_y_pred"
   ]
  },
  {
   "cell_type": "code",
   "execution_count": 14,
   "metadata": {},
   "outputs": [],
   "source": [
    "model.save('model.hdf5')"
   ]
  },
  {
   "cell_type": "code",
   "execution_count": 16,
   "metadata": {},
   "outputs": [],
   "source": [
    "import tensorflowjs as tfjs"
   ]
  },
  {
   "cell_type": "code",
   "execution_count": 17,
   "metadata": {},
   "outputs": [],
   "source": [
    "tfjs.converters.save_keras_model(model, 'model_tfjs')"
   ]
  }
 ],
 "metadata": {
  "kernelspec": {
   "display_name": "Python 3",
   "language": "python",
   "name": "python3"
  },
  "language_info": {
   "codemirror_mode": {
    "name": "ipython",
    "version": 3
   },
   "file_extension": ".py",
   "mimetype": "text/x-python",
   "name": "python",
   "nbconvert_exporter": "python",
   "pygments_lexer": "ipython3",
   "version": "3.6.6"
  }
 },
 "nbformat": 4,
 "nbformat_minor": 2
}
