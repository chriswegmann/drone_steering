{
 "cells": [
  {
   "cell_type": "markdown",
   "metadata": {},
   "source": [
    "# Gesture Detection Model"
   ]
  },
  {
   "cell_type": "markdown",
   "metadata": {},
   "source": [
    "## 1 Engineer features"
   ]
  },
  {
   "cell_type": "markdown",
   "metadata": {},
   "source": [
    "### 1.1 Import libraries and transformers  "
   ]
  },
  {
   "cell_type": "code",
   "execution_count": 1,
   "metadata": {},
   "outputs": [
    {
     "name": "stderr",
     "output_type": "stream",
     "text": [
      "Using TensorFlow backend.\n"
     ]
    }
   ],
   "source": [
    "import numpy as np\n",
    "import pandas as pd\n",
    "import warnings\n",
    "import matplotlib.pyplot as plt\n",
    "from keras.utils import to_categorical\n",
    "warnings.filterwarnings(\"ignore\")"
   ]
  },
  {
   "cell_type": "code",
   "execution_count": 2,
   "metadata": {},
   "outputs": [
    {
     "data": {
      "text/plain": [
       "'C:\\\\Users\\\\Christian\\\\git\\\\drone_steering\\\\models'"
      ]
     },
     "execution_count": 2,
     "metadata": {},
     "output_type": "execute_result"
    }
   ],
   "source": [
    "import os\n",
    "os.getcwd()"
   ]
  },
  {
   "cell_type": "code",
   "execution_count": 3,
   "metadata": {},
   "outputs": [],
   "source": [
    "os.chdir('..')"
   ]
  },
  {
   "cell_type": "code",
   "execution_count": 4,
   "metadata": {},
   "outputs": [],
   "source": [
    "from app_local.module import DataEnsembler, LabelGenerator, GestureTransformer, DataResampler"
   ]
  },
  {
   "cell_type": "markdown",
   "metadata": {},
   "source": [
    "### 1.2  Load data"
   ]
  },
  {
   "cell_type": "code",
   "execution_count": 5,
   "metadata": {},
   "outputs": [],
   "source": [
    "tolerance_range = 2\n",
    "sazero = 15777"
   ]
  },
  {
   "cell_type": "code",
   "execution_count": 6,
   "metadata": {},
   "outputs": [
    {
     "data": {
      "text/html": [
       "<div>\n",
       "<style scoped>\n",
       "    .dataframe tbody tr th:only-of-type {\n",
       "        vertical-align: middle;\n",
       "    }\n",
       "\n",
       "    .dataframe tbody tr th {\n",
       "        vertical-align: top;\n",
       "    }\n",
       "\n",
       "    .dataframe thead th {\n",
       "        text-align: right;\n",
       "    }\n",
       "</style>\n",
       "<table border=\"1\" class=\"dataframe\">\n",
       "  <thead>\n",
       "    <tr style=\"text-align: right;\">\n",
       "      <th></th>\n",
       "      <th>filename_features</th>\n",
       "      <th>filename_labels</th>\n",
       "    </tr>\n",
       "  </thead>\n",
       "  <tbody>\n",
       "    <tr>\n",
       "      <th>0</th>\n",
       "      <td>features_flip_c_01_120.csv</td>\n",
       "      <td>labels_flip_c_01.csv</td>\n",
       "    </tr>\n",
       "    <tr>\n",
       "      <th>1</th>\n",
       "      <td>features_flip_c_02_120.csv</td>\n",
       "      <td>labels_flip_c_02.csv</td>\n",
       "    </tr>\n",
       "    <tr>\n",
       "      <th>2</th>\n",
       "      <td>features_flip_c_03_120.csv</td>\n",
       "      <td>labels_flip_c_03.csv</td>\n",
       "    </tr>\n",
       "    <tr>\n",
       "      <th>3</th>\n",
       "      <td>features_flip_l_01_120.csv</td>\n",
       "      <td>labels_flip_l_01.csv</td>\n",
       "    </tr>\n",
       "    <tr>\n",
       "      <th>4</th>\n",
       "      <td>features_flip_l_02_120.csv</td>\n",
       "      <td>labels_flip_l_02.csv</td>\n",
       "    </tr>\n",
       "    <tr>\n",
       "      <th>5</th>\n",
       "      <td>features_flip_l_03_120.csv</td>\n",
       "      <td>labels_flip_l_03.csv</td>\n",
       "    </tr>\n",
       "    <tr>\n",
       "      <th>6</th>\n",
       "      <td>features_flip_p_01_120.csv</td>\n",
       "      <td>labels_flip_p_01.csv</td>\n",
       "    </tr>\n",
       "    <tr>\n",
       "      <th>7</th>\n",
       "      <td>features_land_c_01_120.csv</td>\n",
       "      <td>labels_land_c_01.csv</td>\n",
       "    </tr>\n",
       "    <tr>\n",
       "      <th>8</th>\n",
       "      <td>features_land_c_02_120.csv</td>\n",
       "      <td>labels_land_c_02.csv</td>\n",
       "    </tr>\n",
       "    <tr>\n",
       "      <th>9</th>\n",
       "      <td>features_land_c_03_120.csv</td>\n",
       "      <td>labels_land_c_03.csv</td>\n",
       "    </tr>\n",
       "    <tr>\n",
       "      <th>10</th>\n",
       "      <td>features_land_l_01_120.csv</td>\n",
       "      <td>labels_land_l_01.csv</td>\n",
       "    </tr>\n",
       "    <tr>\n",
       "      <th>11</th>\n",
       "      <td>features_land_l_02_120.csv</td>\n",
       "      <td>labels_land_l_02.csv</td>\n",
       "    </tr>\n",
       "    <tr>\n",
       "      <th>12</th>\n",
       "      <td>features_land_l_03_120.csv</td>\n",
       "      <td>labels_land_l_03.csv</td>\n",
       "    </tr>\n",
       "    <tr>\n",
       "      <th>13</th>\n",
       "      <td>features_left_c_01_120.csv</td>\n",
       "      <td>labels_left_c_01.csv</td>\n",
       "    </tr>\n",
       "    <tr>\n",
       "      <th>14</th>\n",
       "      <td>features_left_c_02_120.csv</td>\n",
       "      <td>labels_left_c_02.csv</td>\n",
       "    </tr>\n",
       "    <tr>\n",
       "      <th>15</th>\n",
       "      <td>features_left_c_03_120.csv</td>\n",
       "      <td>labels_left_c_03.csv</td>\n",
       "    </tr>\n",
       "    <tr>\n",
       "      <th>16</th>\n",
       "      <td>features_left_l_01_120.csv</td>\n",
       "      <td>labels_left_l_01.csv</td>\n",
       "    </tr>\n",
       "    <tr>\n",
       "      <th>17</th>\n",
       "      <td>features_left_l_02_120.csv</td>\n",
       "      <td>labels_left_l_02.csv</td>\n",
       "    </tr>\n",
       "    <tr>\n",
       "      <th>18</th>\n",
       "      <td>features_left_l_03_120.csv</td>\n",
       "      <td>labels_left_l_03.csv</td>\n",
       "    </tr>\n",
       "    <tr>\n",
       "      <th>19</th>\n",
       "      <td>features_left_l_04_120.csv</td>\n",
       "      <td>labels_left_l_04.csv</td>\n",
       "    </tr>\n",
       "    <tr>\n",
       "      <th>20</th>\n",
       "      <td>features_move_c_01_120.csv</td>\n",
       "      <td>labels_move_c_01.csv</td>\n",
       "    </tr>\n",
       "    <tr>\n",
       "      <th>21</th>\n",
       "      <td>features_move_l_01_120.csv</td>\n",
       "      <td>labels_move_l_01.csv</td>\n",
       "    </tr>\n",
       "    <tr>\n",
       "      <th>22</th>\n",
       "      <td>features_move_l_02_120.csv</td>\n",
       "      <td>labels_move_l_02.csv</td>\n",
       "    </tr>\n",
       "    <tr>\n",
       "      <th>23</th>\n",
       "      <td>features_move_p_01_120.csv</td>\n",
       "      <td>labels_move_p_01.csv</td>\n",
       "    </tr>\n",
       "    <tr>\n",
       "      <th>24</th>\n",
       "      <td>features_none_p_01_120.csv</td>\n",
       "      <td>labels_none.csv</td>\n",
       "    </tr>\n",
       "    <tr>\n",
       "      <th>25</th>\n",
       "      <td>features_none_p_02_120.csv</td>\n",
       "      <td>labels_none.csv</td>\n",
       "    </tr>\n",
       "    <tr>\n",
       "      <th>26</th>\n",
       "      <td>features_none_p_03_120.csv</td>\n",
       "      <td>labels_none.csv</td>\n",
       "    </tr>\n",
       "    <tr>\n",
       "      <th>27</th>\n",
       "      <td>features_right_c_01_120.csv</td>\n",
       "      <td>labels_right_c_01.csv</td>\n",
       "    </tr>\n",
       "    <tr>\n",
       "      <th>28</th>\n",
       "      <td>features_right_c_02_120.csv</td>\n",
       "      <td>labels_right_c_02.csv</td>\n",
       "    </tr>\n",
       "    <tr>\n",
       "      <th>29</th>\n",
       "      <td>features_right_l_01_120.csv</td>\n",
       "      <td>labels_right_l_01.csv</td>\n",
       "    </tr>\n",
       "    <tr>\n",
       "      <th>30</th>\n",
       "      <td>features_right_l_02_120.csv</td>\n",
       "      <td>labels_right_l_02.csv</td>\n",
       "    </tr>\n",
       "    <tr>\n",
       "      <th>31</th>\n",
       "      <td>features_right_l_03_120.csv</td>\n",
       "      <td>labels_right_l_03.csv</td>\n",
       "    </tr>\n",
       "    <tr>\n",
       "      <th>32</th>\n",
       "      <td>features_takeoff_c_01_120.csv</td>\n",
       "      <td>labels_takeoff_c_01.csv</td>\n",
       "    </tr>\n",
       "    <tr>\n",
       "      <th>33</th>\n",
       "      <td>features_takeoff_c_02_120.csv</td>\n",
       "      <td>labels_takeoff_c_02.csv</td>\n",
       "    </tr>\n",
       "    <tr>\n",
       "      <th>34</th>\n",
       "      <td>features_takeoff_c_03_120.csv</td>\n",
       "      <td>labels_takeoff_c_03.csv</td>\n",
       "    </tr>\n",
       "    <tr>\n",
       "      <th>35</th>\n",
       "      <td>features_takeoff_l_01_120.csv</td>\n",
       "      <td>labels_takeoff_l_01.csv</td>\n",
       "    </tr>\n",
       "    <tr>\n",
       "      <th>36</th>\n",
       "      <td>features_takeoff_l_02_120.csv</td>\n",
       "      <td>labels_takeoff_l_02.csv</td>\n",
       "    </tr>\n",
       "    <tr>\n",
       "      <th>37</th>\n",
       "      <td>features_takeoff_l_03_120.csv</td>\n",
       "      <td>labels_takeoff_l_03.csv</td>\n",
       "    </tr>\n",
       "  </tbody>\n",
       "</table>\n",
       "</div>"
      ],
      "text/plain": [
       "                filename_features          filename_labels\n",
       "0      features_flip_c_01_120.csv     labels_flip_c_01.csv\n",
       "1      features_flip_c_02_120.csv     labels_flip_c_02.csv\n",
       "2      features_flip_c_03_120.csv     labels_flip_c_03.csv\n",
       "3      features_flip_l_01_120.csv     labels_flip_l_01.csv\n",
       "4      features_flip_l_02_120.csv     labels_flip_l_02.csv\n",
       "5      features_flip_l_03_120.csv     labels_flip_l_03.csv\n",
       "6      features_flip_p_01_120.csv     labels_flip_p_01.csv\n",
       "7      features_land_c_01_120.csv     labels_land_c_01.csv\n",
       "8      features_land_c_02_120.csv     labels_land_c_02.csv\n",
       "9      features_land_c_03_120.csv     labels_land_c_03.csv\n",
       "10     features_land_l_01_120.csv     labels_land_l_01.csv\n",
       "11     features_land_l_02_120.csv     labels_land_l_02.csv\n",
       "12     features_land_l_03_120.csv     labels_land_l_03.csv\n",
       "13     features_left_c_01_120.csv     labels_left_c_01.csv\n",
       "14     features_left_c_02_120.csv     labels_left_c_02.csv\n",
       "15     features_left_c_03_120.csv     labels_left_c_03.csv\n",
       "16     features_left_l_01_120.csv     labels_left_l_01.csv\n",
       "17     features_left_l_02_120.csv     labels_left_l_02.csv\n",
       "18     features_left_l_03_120.csv     labels_left_l_03.csv\n",
       "19     features_left_l_04_120.csv     labels_left_l_04.csv\n",
       "20     features_move_c_01_120.csv     labels_move_c_01.csv\n",
       "21     features_move_l_01_120.csv     labels_move_l_01.csv\n",
       "22     features_move_l_02_120.csv     labels_move_l_02.csv\n",
       "23     features_move_p_01_120.csv     labels_move_p_01.csv\n",
       "24     features_none_p_01_120.csv          labels_none.csv\n",
       "25     features_none_p_02_120.csv          labels_none.csv\n",
       "26     features_none_p_03_120.csv          labels_none.csv\n",
       "27    features_right_c_01_120.csv    labels_right_c_01.csv\n",
       "28    features_right_c_02_120.csv    labels_right_c_02.csv\n",
       "29    features_right_l_01_120.csv    labels_right_l_01.csv\n",
       "30    features_right_l_02_120.csv    labels_right_l_02.csv\n",
       "31    features_right_l_03_120.csv    labels_right_l_03.csv\n",
       "32  features_takeoff_c_01_120.csv  labels_takeoff_c_01.csv\n",
       "33  features_takeoff_c_02_120.csv  labels_takeoff_c_02.csv\n",
       "34  features_takeoff_c_03_120.csv  labels_takeoff_c_03.csv\n",
       "35  features_takeoff_l_01_120.csv  labels_takeoff_l_01.csv\n",
       "36  features_takeoff_l_02_120.csv  labels_takeoff_l_02.csv\n",
       "37  features_takeoff_l_03_120.csv  labels_takeoff_l_03.csv"
      ]
     },
     "execution_count": 6,
     "metadata": {},
     "output_type": "execute_result"
    }
   ],
   "source": [
    "de = DataEnsembler(ms_per_frame=120)\n",
    "de.investigate_available_datafiles(data_dir='data/gesture/', is_frame_based = True)\n",
    "de.combined_data_files_df"
   ]
  },
  {
   "cell_type": "code",
   "execution_count": 7,
   "metadata": {},
   "outputs": [],
   "source": [
    "de.load_data()\n",
    "de.assemble_data(tolerance_range=tolerance_range)"
   ]
  },
  {
   "cell_type": "code",
   "execution_count": 8,
   "metadata": {},
   "outputs": [
    {
     "name": "stdout",
     "output_type": "stream",
     "text": [
      "i: 0 \tshape X: (603, 18, 16) \tshape y: (603,) \tcount: 101\n",
      "i: 1 \tshape X: (519, 18, 16) \tshape y: (519,) \tcount: 89\n",
      "i: 2 \tshape X: (498, 18, 16) \tshape y: (498,) \tcount: 119\n",
      "i: 3 \tshape X: (650, 18, 16) \tshape y: (650,) \tcount: 230\n",
      "i: 4 \tshape X: (508, 18, 16) \tshape y: (508,) \tcount: 147\n",
      "i: 5 \tshape X: (466, 18, 16) \tshape y: (466,) \tcount: 146\n",
      "i: 6 \tshape X: (601, 18, 16) \tshape y: (601,) \tcount: 159\n",
      "i: 7 \tshape X: (440, 18, 16) \tshape y: (440,) \tcount: 127\n",
      "i: 8 \tshape X: (490, 18, 16) \tshape y: (490,) \tcount: 110\n",
      "i: 9 \tshape X: (476, 18, 16) \tshape y: (476,) \tcount: 118\n",
      "i: 10 \tshape X: (492, 18, 16) \tshape y: (492,) \tcount: 121\n",
      "i: 11 \tshape X: (436, 18, 16) \tshape y: (436,) \tcount: 87\n",
      "i: 12 \tshape X: (466, 18, 16) \tshape y: (466,) \tcount: 126\n",
      "i: 13 \tshape X: (551, 18, 16) \tshape y: (551,) \tcount: 127\n",
      "i: 14 \tshape X: (550, 18, 16) \tshape y: (550,) \tcount: 114\n",
      "i: 15 \tshape X: (549, 18, 16) \tshape y: (549,) \tcount: 115\n",
      "i: 16 \tshape X: (541, 18, 16) \tshape y: (541,) \tcount: 92\n",
      "i: 17 \tshape X: (535, 18, 16) \tshape y: (535,) \tcount: 121\n",
      "i: 18 \tshape X: (549, 18, 16) \tshape y: (549,) \tcount: 108\n",
      "i: 19 \tshape X: (482, 18, 16) \tshape y: (482,) \tcount: 205\n",
      "i: 20 \tshape X: (616, 18, 16) \tshape y: (616,) \tcount: 136\n",
      "i: 21 \tshape X: (621, 18, 16) \tshape y: (621,) \tcount: 269\n",
      "i: 22 \tshape X: (470, 18, 16) \tshape y: (470,) \tcount: 187\n",
      "i: 23 \tshape X: (590, 18, 16) \tshape y: (590,) \tcount: 171\n",
      "i: 24 \tshape X: (460, 18, 16) \tshape y: (460,) \tcount: 0\n",
      "i: 25 \tshape X: (400, 18, 16) \tshape y: (400,) \tcount: 0\n",
      "i: 26 \tshape X: (419, 18, 16) \tshape y: (419,) \tcount: 0\n",
      "i: 27 \tshape X: (514, 18, 16) \tshape y: (514,) \tcount: 120\n",
      "i: 28 \tshape X: (923, 18, 16) \tshape y: (923,) \tcount: 214\n",
      "i: 29 \tshape X: (545, 18, 16) \tshape y: (545,) \tcount: 91\n",
      "i: 30 \tshape X: (547, 18, 16) \tshape y: (547,) \tcount: 124\n",
      "i: 31 \tshape X: (505, 18, 16) \tshape y: (505,) \tcount: 111\n",
      "i: 32 \tshape X: (469, 18, 16) \tshape y: (469,) \tcount: 121\n",
      "i: 33 \tshape X: (524, 18, 16) \tshape y: (524,) \tcount: 129\n",
      "i: 34 \tshape X: (569, 18, 16) \tshape y: (569,) \tcount: 157\n",
      "i: 35 \tshape X: (488, 18, 16) \tshape y: (488,) \tcount: 89\n",
      "i: 36 \tshape X: (481, 18, 16) \tshape y: (481,) \tcount: 106\n",
      "i: 37 \tshape X: (416, 18, 16) \tshape y: (416,) \tcount: 99\n",
      "-----------------------------------------------------------------------------\n",
      "shape final X: (19959, 18, 16)\n",
      "number of labeled samples: 4686\n",
      "Label 0: 15273 \t76.52% of total\n",
      "Label 1: 701 \t14.96% of labeled\n",
      "Label 2: 763 \t16.28% of labeled\n",
      "Label 3: 991 \t21.15% of labeled\n",
      "Label 4: 882 \t18.82% of labeled\n",
      "Label 5: 660 \t14.08% of labeled\n",
      "Label 6: 689 \t14.7% of labeled\n"
     ]
    }
   ],
   "source": [
    "de.display_information()"
   ]
  },
  {
   "cell_type": "code",
   "execution_count": 9,
   "metadata": {},
   "outputs": [],
   "source": [
    "dr = DataResampler()"
   ]
  },
  {
   "cell_type": "code",
   "execution_count": 10,
   "metadata": {},
   "outputs": [
    {
     "data": {
      "text/html": [
       "<div>\n",
       "<style scoped>\n",
       "    .dataframe tbody tr th:only-of-type {\n",
       "        vertical-align: middle;\n",
       "    }\n",
       "\n",
       "    .dataframe tbody tr th {\n",
       "        vertical-align: top;\n",
       "    }\n",
       "\n",
       "    .dataframe thead th {\n",
       "        text-align: right;\n",
       "    }\n",
       "</style>\n",
       "<table border=\"1\" class=\"dataframe\">\n",
       "  <thead>\n",
       "    <tr style=\"text-align: right;\">\n",
       "      <th></th>\n",
       "      <th>abs_orig</th>\n",
       "      <th>pct_orig</th>\n",
       "      <th>abs_current</th>\n",
       "      <th>pct_current</th>\n",
       "    </tr>\n",
       "  </thead>\n",
       "  <tbody>\n",
       "    <tr>\n",
       "      <th>0</th>\n",
       "      <td>15273</td>\n",
       "      <td>76.52</td>\n",
       "      <td>15777</td>\n",
       "      <td>14.29</td>\n",
       "    </tr>\n",
       "    <tr>\n",
       "      <th>1</th>\n",
       "      <td>701</td>\n",
       "      <td>3.51</td>\n",
       "      <td>15777</td>\n",
       "      <td>14.29</td>\n",
       "    </tr>\n",
       "    <tr>\n",
       "      <th>2</th>\n",
       "      <td>763</td>\n",
       "      <td>3.82</td>\n",
       "      <td>15777</td>\n",
       "      <td>14.29</td>\n",
       "    </tr>\n",
       "    <tr>\n",
       "      <th>3</th>\n",
       "      <td>991</td>\n",
       "      <td>4.97</td>\n",
       "      <td>15777</td>\n",
       "      <td>14.29</td>\n",
       "    </tr>\n",
       "    <tr>\n",
       "      <th>4</th>\n",
       "      <td>882</td>\n",
       "      <td>4.42</td>\n",
       "      <td>15777</td>\n",
       "      <td>14.29</td>\n",
       "    </tr>\n",
       "    <tr>\n",
       "      <th>5</th>\n",
       "      <td>660</td>\n",
       "      <td>3.31</td>\n",
       "      <td>15777</td>\n",
       "      <td>14.29</td>\n",
       "    </tr>\n",
       "    <tr>\n",
       "      <th>6</th>\n",
       "      <td>689</td>\n",
       "      <td>3.45</td>\n",
       "      <td>15777</td>\n",
       "      <td>14.29</td>\n",
       "    </tr>\n",
       "  </tbody>\n",
       "</table>\n",
       "</div>"
      ],
      "text/plain": [
       "  abs_orig pct_orig abs_current pct_current\n",
       "0    15273    76.52       15777       14.29\n",
       "1      701     3.51       15777       14.29\n",
       "2      763     3.82       15777       14.29\n",
       "3      991     4.97       15777       14.29\n",
       "4      882     4.42       15777       14.29\n",
       "5      660     3.31       15777       14.29\n",
       "6      689     3.45       15777       14.29"
      ]
     },
     "execution_count": 10,
     "metadata": {},
     "output_type": "execute_result"
    }
   ],
   "source": [
    "dr.fit(de.X, de.y)\n",
    "#dr.restrict_zero_labels(sazero, criterion='variance_lowest')\n",
    "dr.upsample(15777)\n",
    "dr.display_information()"
   ]
  },
  {
   "cell_type": "code",
   "execution_count": 11,
   "metadata": {},
   "outputs": [],
   "source": [
    "gt = GestureTransformer(feature_names = list(de.LabelGenerators[0].feature_names),byrow=True)\n",
    "X = gt.transform(dr.X)\n",
    "y = to_categorical(dr.y)"
   ]
  },
  {
   "cell_type": "markdown",
   "metadata": {},
   "source": [
    "## 2 Train model"
   ]
  },
  {
   "cell_type": "markdown",
   "metadata": {},
   "source": [
    "### 2.1  Split in train / test"
   ]
  },
  {
   "cell_type": "code",
   "execution_count": 12,
   "metadata": {},
   "outputs": [],
   "source": [
    "from sklearn.model_selection import train_test_split\n",
    "X_train, X_test, y_train, y_test = train_test_split(X, y, test_size=0.03, random_state=1)"
   ]
  },
  {
   "cell_type": "markdown",
   "metadata": {},
   "source": [
    "### 2.2 Define and compile model"
   ]
  },
  {
   "cell_type": "code",
   "execution_count": 13,
   "metadata": {},
   "outputs": [],
   "source": [
    "from keras.models import Sequential\n",
    "from keras.layers import Dense\n",
    "from keras.layers import Flatten\n",
    "from keras.layers import Dropout\n",
    "from keras.layers import LSTM"
   ]
  },
  {
   "cell_type": "code",
   "execution_count": 14,
   "metadata": {},
   "outputs": [
    {
     "name": "stdout",
     "output_type": "stream",
     "text": [
      "_________________________________________________________________\n",
      "Layer (type)                 Output Shape              Param #   \n",
      "=================================================================\n",
      "lstm_1 (LSTM)                (None, 100)               46800     \n",
      "_________________________________________________________________\n",
      "dropout_1 (Dropout)          (None, 100)               0         \n",
      "_________________________________________________________________\n",
      "dense_1 (Dense)              (None, 100)               10100     \n",
      "_________________________________________________________________\n",
      "dense_2 (Dense)              (None, 64)                6464      \n",
      "_________________________________________________________________\n",
      "dense_3 (Dense)              (None, 7)                 455       \n",
      "=================================================================\n",
      "Total params: 63,819\n",
      "Trainable params: 63,819\n",
      "Non-trainable params: 0\n",
      "_________________________________________________________________\n"
     ]
    }
   ],
   "source": [
    "n_timesteps = X.shape[1] # here 18\n",
    "n_features = X.shape[2] # here 16\n",
    "n_outputs =  y.shape[1] # here 7 (number of labels)\n",
    "\n",
    "model = Sequential()\n",
    "model.add(LSTM(100, input_shape=(n_timesteps,n_features)))\n",
    "model.add(Dropout(0.4))\n",
    "model.add(Dense(100, activation='relu'))\n",
    "model.add(Dense(64, activation='relu'))\n",
    "model.add(Dense(n_outputs, activation='softmax'))\n",
    "\n",
    "model.compile(loss='categorical_crossentropy', \n",
    "              optimizer='adam', \n",
    "              metrics=['accuracy'])\n",
    "\n",
    "model.summary()"
   ]
  },
  {
   "cell_type": "markdown",
   "metadata": {},
   "source": [
    "### 2.3 Fit and validate model"
   ]
  },
  {
   "cell_type": "code",
   "execution_count": 15,
   "metadata": {
    "scrolled": true
   },
   "outputs": [
    {
     "name": "stdout",
     "output_type": "stream",
     "text": [
      "Epoch 1/30\n",
      "107125/107125 [==============================] - 187s 2ms/step - loss: 0.1682 - acc: 0.9469\n",
      "Epoch 2/30\n",
      "107125/107125 [==============================] - 149s 1ms/step - loss: 0.1052 - acc: 0.9653\n",
      "Epoch 3/30\n",
      "107125/107125 [==============================] - 165s 2ms/step - loss: 0.0910 - acc: 0.9704\n",
      "Epoch 4/30\n",
      "107125/107125 [==============================] - 187s 2ms/step - loss: 0.0850 - acc: 0.9722\n",
      "Epoch 5/30\n",
      "107125/107125 [==============================] - 159s 1ms/step - loss: 0.0786 - acc: 0.9749\n",
      "Epoch 6/30\n",
      "107125/107125 [==============================] - 170s 2ms/step - loss: 0.0762 - acc: 0.9761\n",
      "Epoch 7/30\n",
      "107125/107125 [==============================] - 171s 2ms/step - loss: 0.0734 - acc: 0.9769\n",
      "Epoch 8/30\n",
      "107125/107125 [==============================] - 156s 1ms/step - loss: 0.0711 - acc: 0.9781\n",
      "Epoch 9/30\n",
      "107125/107125 [==============================] - 116s 1ms/step - loss: 0.0681 - acc: 0.9800\n",
      "Epoch 10/30\n",
      "107125/107125 [==============================] - 120s 1ms/step - loss: 0.0667 - acc: 0.9800\n",
      "Epoch 11/30\n",
      "107125/107125 [==============================] - 167s 2ms/step - loss: 0.0644 - acc: 0.9811\n",
      "Epoch 12/30\n",
      "107125/107125 [==============================] - 130s 1ms/step - loss: 0.0626 - acc: 0.9815\n",
      "Epoch 13/30\n",
      "107125/107125 [==============================] - 205s 2ms/step - loss: 0.0619 - acc: 0.9819\n",
      "Epoch 14/30\n",
      "107125/107125 [==============================] - 180s 2ms/step - loss: 0.0604 - acc: 0.9827\n",
      "Epoch 15/30\n",
      "107125/107125 [==============================] - 187s 2ms/step - loss: 0.0592 - acc: 0.9832\n",
      "Epoch 16/30\n",
      "107125/107125 [==============================] - 177s 2ms/step - loss: 0.0597 - acc: 0.9832\n",
      "Epoch 17/30\n",
      "107125/107125 [==============================] - 167s 2ms/step - loss: 0.0550 - acc: 0.9847\n",
      "Epoch 18/30\n",
      "107125/107125 [==============================] - 168s 2ms/step - loss: 0.0549 - acc: 0.9846\n",
      "Epoch 19/30\n",
      "107125/107125 [==============================] - 158s 1ms/step - loss: 0.0548 - acc: 0.9846\n",
      "Epoch 20/30\n",
      "107125/107125 [==============================] - 173s 2ms/step - loss: 0.0521 - acc: 0.9858 0s - loss: 0.0521 -\n",
      "Epoch 21/30\n",
      "107125/107125 [==============================] - 169s 2ms/step - loss: 0.0513 - acc: 0.9858\n",
      "Epoch 22/30\n",
      "107125/107125 [==============================] - 119s 1ms/step - loss: 0.0510 - acc: 0.9862\n",
      "Epoch 23/30\n",
      "107125/107125 [==============================] - 147s 1ms/step - loss: 0.0491 - acc: 0.9866\n",
      "Epoch 24/30\n",
      "107125/107125 [==============================] - 188s 2ms/step - loss: 0.0493 - acc: 0.9865\n",
      "Epoch 25/30\n",
      "107125/107125 [==============================] - 154s 1ms/step - loss: 0.0473 - acc: 0.9874 0s - loss: 0.0474 - a\n",
      "Epoch 26/30\n",
      "107125/107125 [==============================] - 219s 2ms/step - loss: 0.0461 - acc: 0.9873\n",
      "Epoch 27/30\n",
      "107125/107125 [==============================] - 199s 2ms/step - loss: 0.0452 - acc: 0.9878\n",
      "Epoch 28/30\n",
      "107125/107125 [==============================] - 161s 2ms/step - loss: 0.0461 - acc: 0.9877\n",
      "Epoch 29/30\n",
      "107125/107125 [==============================] - 190s 2ms/step - loss: 0.0432 - acc: 0.9885\n",
      "Epoch 30/30\n",
      "107125/107125 [==============================] - 162s 2ms/step - loss: 0.0436 - acc: 0.9885\n"
     ]
    }
   ],
   "source": [
    "history = model.fit(X_train, y_train, epochs=30, batch_size=32, verbose=1)"
   ]
  },
  {
   "cell_type": "code",
   "execution_count": null,
   "metadata": {},
   "outputs": [],
   "source": [
    "r = range(1, len(history.history[\"acc\"]) + 1)\n",
    "\n",
    "plt.figure(figsize=(20, 5))\n",
    "\n",
    "plt.subplot(1, 2, 1)\n",
    "plt.plot(r, history.history[\"acc\"], label=\"acc\")\n",
    "plt.plot(r, history.history[\"val_acc\"], label=\"val_acc\")\n",
    "plt.legend()\n",
    "plt.title(\"Accuracy\")\n",
    "\n",
    "plt.subplot(1, 2, 2)\n",
    "plt.plot(r, history.history[\"loss\"], label=\"loss\")\n",
    "plt.plot(r, history.history[\"val_loss\"], label=\"val_loss\")\n",
    "plt.legend()\n",
    "plt.title(\"Loss\")\n",
    "\n",
    "plt.show()\n",
    "plt.close()"
   ]
  },
  {
   "cell_type": "code",
   "execution_count": null,
   "metadata": {},
   "outputs": [],
   "source": [
    "eval_results = np.round(model.evaluate(X_test, y_test, batch_size=16, verbose=1),2)\n",
    "print(\"Loss:     \" + str(eval_results[0]))\n",
    "print(\"Accuracy: \" + str(eval_results[1]))"
   ]
  },
  {
   "cell_type": "code",
   "execution_count": null,
   "metadata": {
    "scrolled": true
   },
   "outputs": [],
   "source": [
    "for i in range(X_test.shape[0]):\n",
    "    if (model.predict_classes(X_test[i:(i+1),:,:])[0]!=np.nonzero(y_test[i])[0][0]):\n",
    "        print(\"Index:\",i,\\\n",
    "              \"\\tPred:\",model.predict_classes(X_test[i:(i+1),:,:])[0],\\\n",
    "              \"\\tActual:\",np.nonzero(y_test[i])[0][0],\\\n",
    "              \"\\tProbability:\",round(np.max(model.predict_proba(X_test[i:(i+1),:,:])),2))"
   ]
  },
  {
   "cell_type": "code",
   "execution_count": null,
   "metadata": {
    "scrolled": true
   },
   "outputs": [],
   "source": [
    "for i in range(X_test.shape[0]):\n",
    "    if (model.predict_classes(X_test[i:(i+1),:,:])[0]==np.nonzero(y_test[i])[0][0]):\n",
    "        print(\"Index:\",i,\\\n",
    "              \"\\tPred:\",model.predict_classes(X_test[i:(i+1),:,:])[0],\\\n",
    "              \"\\tActual:\",np.nonzero(y_test[i])[0][0],\\\n",
    "              \"\\tProbability:\",round(np.max(model.predict_proba(X_test[i:(i+1),:,:])),2))"
   ]
  },
  {
   "cell_type": "markdown",
   "metadata": {},
   "source": [
    "### 2.4 Save model"
   ]
  },
  {
   "cell_type": "code",
   "execution_count": null,
   "metadata": {},
   "outputs": [],
   "source": [
    "from keras.models import load_model\n",
    "import h5py\n",
    "model.save('models/model_gesture_lstm_nip120_tr' + str(tolerance_range) + '_sazero' + str(sazero) + '.h5')"
   ]
  }
 ],
 "metadata": {
  "kernelspec": {
   "display_name": "Python 3",
   "language": "python",
   "name": "python3"
  },
  "language_info": {
   "codemirror_mode": {
    "name": "ipython",
    "version": 3
   },
   "file_extension": ".py",
   "mimetype": "text/x-python",
   "name": "python",
   "nbconvert_exporter": "python",
   "pygments_lexer": "ipython3",
   "version": "3.6.6"
  }
 },
 "nbformat": 4,
 "nbformat_minor": 2
}
