{
 "cells": [
  {
   "cell_type": "code",
   "execution_count": 1,
   "metadata": {},
   "outputs": [],
   "source": [
    "import numpy as np\n",
    "import pandas as pd\n",
    "import os\n",
    "import sys\n",
    "import warnings\n",
    "warnings.filterwarnings(\"ignore\")"
   ]
  },
  {
   "cell_type": "code",
   "execution_count": 2,
   "metadata": {},
   "outputs": [
    {
     "data": {
      "text/plain": [
       "'C:\\\\Users\\\\p.schambach\\\\Desktop\\\\DSR\\\\drone_steering\\\\models\\\\playground'"
      ]
     },
     "execution_count": 2,
     "metadata": {},
     "output_type": "execute_result"
    }
   ],
   "source": [
    "os.getcwd()"
   ]
  },
  {
   "cell_type": "code",
   "execution_count": 5,
   "metadata": {},
   "outputs": [
    {
     "data": {
      "text/plain": [
       "'C:\\\\Users\\\\p.schambach\\\\Desktop\\\\DSR\\\\drone_steering'"
      ]
     },
     "execution_count": 5,
     "metadata": {},
     "output_type": "execute_result"
    }
   ],
   "source": [
    "# if necessary, change to drone_steering directory.\n",
    "\n",
    "\n",
    "os.chdir('../..')\n",
    "os.getcwd()\n"
   ]
  },
  {
   "cell_type": "code",
   "execution_count": 6,
   "metadata": {},
   "outputs": [],
   "source": [
    "from sklearn.base import BaseEstimator, TransformerMixin\n",
    "from app_local.module import XCentralizer, YCentralizer, YScaler\n",
    "from app_local.module import LabelGenerator, DataEnsembler"
   ]
  },
  {
   "cell_type": "code",
   "execution_count": 8,
   "metadata": {},
   "outputs": [
    {
     "data": {
      "text/html": [
       "<div>\n",
       "<style scoped>\n",
       "    .dataframe tbody tr th:only-of-type {\n",
       "        vertical-align: middle;\n",
       "    }\n",
       "\n",
       "    .dataframe tbody tr th {\n",
       "        vertical-align: top;\n",
       "    }\n",
       "\n",
       "    .dataframe thead th {\n",
       "        text-align: right;\n",
       "    }\n",
       "</style>\n",
       "<table border=\"1\" class=\"dataframe\">\n",
       "  <thead>\n",
       "    <tr style=\"text-align: right;\">\n",
       "      <th></th>\n",
       "      <th>filename_features</th>\n",
       "      <th>filename_labels</th>\n",
       "    </tr>\n",
       "  </thead>\n",
       "  <tbody>\n",
       "    <tr>\n",
       "      <th>0</th>\n",
       "      <td>features_flip_c_01_120.csv</td>\n",
       "      <td>labels_flip_c_01.csv</td>\n",
       "    </tr>\n",
       "    <tr>\n",
       "      <th>1</th>\n",
       "      <td>features_flip_l_01_120.csv</td>\n",
       "      <td>labels_flip_l_01.csv</td>\n",
       "    </tr>\n",
       "    <tr>\n",
       "      <th>2</th>\n",
       "      <td>features_flip_p_01_120.csv</td>\n",
       "      <td>labels_flip_p_01.csv</td>\n",
       "    </tr>\n",
       "    <tr>\n",
       "      <th>3</th>\n",
       "      <td>features_move_c_01_120.csv</td>\n",
       "      <td>labels_move_c_01.csv</td>\n",
       "    </tr>\n",
       "    <tr>\n",
       "      <th>4</th>\n",
       "      <td>features_move_l_01_120.csv</td>\n",
       "      <td>labels_move_l_01.csv</td>\n",
       "    </tr>\n",
       "    <tr>\n",
       "      <th>5</th>\n",
       "      <td>features_move_p_01_120.csv</td>\n",
       "      <td>labels_move_p_01.csv</td>\n",
       "    </tr>\n",
       "    <tr>\n",
       "      <th>6</th>\n",
       "      <td>features_none_p_01_120.csv</td>\n",
       "      <td>labels_none.csv</td>\n",
       "    </tr>\n",
       "  </tbody>\n",
       "</table>\n",
       "</div>"
      ],
      "text/plain": [
       "            filename_features       filename_labels\n",
       "0  features_flip_c_01_120.csv  labels_flip_c_01.csv\n",
       "1  features_flip_l_01_120.csv  labels_flip_l_01.csv\n",
       "2  features_flip_p_01_120.csv  labels_flip_p_01.csv\n",
       "3  features_move_c_01_120.csv  labels_move_c_01.csv\n",
       "4  features_move_l_01_120.csv  labels_move_l_01.csv\n",
       "5  features_move_p_01_120.csv  labels_move_p_01.csv\n",
       "6  features_none_p_01_120.csv       labels_none.csv"
      ]
     },
     "execution_count": 8,
     "metadata": {},
     "output_type": "execute_result"
    }
   ],
   "source": [
    "de = DataEnsembler(ms_per_frame=120)\n",
    "\n",
    "data_directory = 'data/gesture/'\n",
    "de.investigate_available_datafiles( data_dir = data_directory)\n",
    "\n",
    "de.combined_data_files_df"
   ]
  },
  {
   "cell_type": "code",
   "execution_count": 9,
   "metadata": {},
   "outputs": [
    {
     "name": "stdout",
     "output_type": "stream",
     "text": [
      "i: 0 \tshape X: (537, 17, 16) \tshape y: (537,) \tcount: 35\n",
      "i: 1 \tshape X: (557, 17, 16) \tshape y: (557,) \tcount: 111\n",
      "i: 2 \tshape X: (532, 17, 16) \tshape y: (532,) \tcount: 67\n",
      "i: 3 \tshape X: (649, 17, 16) \tshape y: (649,) \tcount: 85\n",
      "i: 4 \tshape X: (588, 17, 16) \tshape y: (588,) \tcount: 105\n",
      "i: 5 \tshape X: (565, 17, 16) \tshape y: (565,) \tcount: 86\n",
      "i: 6 \tshape X: (541, 17, 16) \tshape y: (541,) \tcount: 0\n",
      "-----------------------------------------------------------------------------\n",
      "shape final X: (3969, 17, 16)\n",
      "number of labeled samples: 489\n"
     ]
    }
   ],
   "source": [
    "de.load_data()\n",
    "de.assemble_data(tolerance_range = 600, max_error = 500)\n",
    "de.display_information()"
   ]
  },
  {
   "cell_type": "code",
   "execution_count": 10,
   "metadata": {},
   "outputs": [
    {
     "data": {
      "text/plain": [
       "['leftElbow_x',\n",
       " 'leftElbow_y',\n",
       " 'leftHip_x',\n",
       " 'leftHip_y',\n",
       " 'leftShoulder_x',\n",
       " 'leftShoulder_y',\n",
       " 'leftWrist_x',\n",
       " 'leftWrist_y',\n",
       " 'rightElbow_x',\n",
       " 'rightElbow_y',\n",
       " 'rightHip_x',\n",
       " 'rightHip_y',\n",
       " 'rightShoulder_x',\n",
       " 'rightShoulder_y',\n",
       " 'rightWrist_x',\n",
       " 'rightWrist_y']"
      ]
     },
     "execution_count": 10,
     "metadata": {},
     "output_type": "execute_result"
    }
   ],
   "source": [
    "feature_names = list(de.LabelGenerators[0].feature_names)\n",
    "feature_names"
   ]
  },
  {
   "cell_type": "code",
   "execution_count": 11,
   "metadata": {},
   "outputs": [],
   "source": [
    "X = de.X.copy()"
   ]
  },
  {
   "cell_type": "code",
   "execution_count": 12,
   "metadata": {},
   "outputs": [
    {
     "data": {
      "text/plain": [
       "(3969, 17, 16)"
      ]
     },
     "execution_count": 12,
     "metadata": {},
     "output_type": "execute_result"
    }
   ],
   "source": [
    "X.shape"
   ]
  },
  {
   "cell_type": "code",
   "execution_count": 13,
   "metadata": {},
   "outputs": [],
   "source": [
    "x = X[0,:,:]"
   ]
  },
  {
   "cell_type": "code",
   "execution_count": 14,
   "metadata": {},
   "outputs": [
    {
     "data": {
      "text/plain": [
       "(17, 16)"
      ]
     },
     "execution_count": 14,
     "metadata": {},
     "output_type": "execute_result"
    }
   ],
   "source": [
    "x.shape"
   ]
  },
  {
   "cell_type": "code",
   "execution_count": 15,
   "metadata": {},
   "outputs": [
    {
     "data": {
      "text/html": [
       "<div>\n",
       "<style scoped>\n",
       "    .dataframe tbody tr th:only-of-type {\n",
       "        vertical-align: middle;\n",
       "    }\n",
       "\n",
       "    .dataframe tbody tr th {\n",
       "        vertical-align: top;\n",
       "    }\n",
       "\n",
       "    .dataframe thead th {\n",
       "        text-align: right;\n",
       "    }\n",
       "</style>\n",
       "<table border=\"1\" class=\"dataframe\">\n",
       "  <thead>\n",
       "    <tr style=\"text-align: right;\">\n",
       "      <th></th>\n",
       "      <th>leftElbow_x</th>\n",
       "      <th>leftElbow_y</th>\n",
       "      <th>leftHip_x</th>\n",
       "      <th>leftHip_y</th>\n",
       "      <th>leftShoulder_x</th>\n",
       "      <th>leftShoulder_y</th>\n",
       "      <th>leftWrist_x</th>\n",
       "      <th>leftWrist_y</th>\n",
       "      <th>rightElbow_x</th>\n",
       "      <th>rightElbow_y</th>\n",
       "      <th>rightHip_x</th>\n",
       "      <th>rightHip_y</th>\n",
       "      <th>rightShoulder_x</th>\n",
       "      <th>rightShoulder_y</th>\n",
       "      <th>rightWrist_x</th>\n",
       "      <th>rightWrist_y</th>\n",
       "    </tr>\n",
       "  </thead>\n",
       "  <tbody>\n",
       "    <tr>\n",
       "      <th>0</th>\n",
       "      <td>320.887687</td>\n",
       "      <td>182.349062</td>\n",
       "      <td>314.347552</td>\n",
       "      <td>230.816000</td>\n",
       "      <td>311.561103</td>\n",
       "      <td>125.659389</td>\n",
       "      <td>332.064043</td>\n",
       "      <td>235.748133</td>\n",
       "      <td>239.796790</td>\n",
       "      <td>185.566538</td>\n",
       "      <td>270.312635</td>\n",
       "      <td>231.982183</td>\n",
       "      <td>246.479521</td>\n",
       "      <td>121.432370</td>\n",
       "      <td>238.622666</td>\n",
       "      <td>241.018966</td>\n",
       "    </tr>\n",
       "    <tr>\n",
       "      <th>1</th>\n",
       "      <td>322.069697</td>\n",
       "      <td>182.833418</td>\n",
       "      <td>312.400498</td>\n",
       "      <td>233.233930</td>\n",
       "      <td>311.775849</td>\n",
       "      <td>125.657545</td>\n",
       "      <td>333.605781</td>\n",
       "      <td>237.301374</td>\n",
       "      <td>240.632927</td>\n",
       "      <td>184.094592</td>\n",
       "      <td>270.662814</td>\n",
       "      <td>232.942973</td>\n",
       "      <td>245.513863</td>\n",
       "      <td>121.647967</td>\n",
       "      <td>247.402520</td>\n",
       "      <td>238.586548</td>\n",
       "    </tr>\n",
       "    <tr>\n",
       "      <th>2</th>\n",
       "      <td>322.733250</td>\n",
       "      <td>182.889811</td>\n",
       "      <td>312.725625</td>\n",
       "      <td>232.988002</td>\n",
       "      <td>312.460549</td>\n",
       "      <td>126.066225</td>\n",
       "      <td>335.213848</td>\n",
       "      <td>238.292147</td>\n",
       "      <td>240.536637</td>\n",
       "      <td>184.266400</td>\n",
       "      <td>267.074018</td>\n",
       "      <td>230.834356</td>\n",
       "      <td>248.820106</td>\n",
       "      <td>122.612895</td>\n",
       "      <td>240.552820</td>\n",
       "      <td>238.763562</td>\n",
       "    </tr>\n",
       "    <tr>\n",
       "      <th>3</th>\n",
       "      <td>325.253514</td>\n",
       "      <td>183.365339</td>\n",
       "      <td>313.866852</td>\n",
       "      <td>234.030783</td>\n",
       "      <td>313.511280</td>\n",
       "      <td>125.171998</td>\n",
       "      <td>336.657547</td>\n",
       "      <td>238.603840</td>\n",
       "      <td>242.282477</td>\n",
       "      <td>184.875989</td>\n",
       "      <td>268.914766</td>\n",
       "      <td>230.071647</td>\n",
       "      <td>247.527299</td>\n",
       "      <td>122.934101</td>\n",
       "      <td>243.246776</td>\n",
       "      <td>241.186820</td>\n",
       "    </tr>\n",
       "    <tr>\n",
       "      <th>4</th>\n",
       "      <td>323.620918</td>\n",
       "      <td>183.180860</td>\n",
       "      <td>310.670503</td>\n",
       "      <td>234.276107</td>\n",
       "      <td>313.255297</td>\n",
       "      <td>126.910689</td>\n",
       "      <td>336.853370</td>\n",
       "      <td>237.451494</td>\n",
       "      <td>240.647002</td>\n",
       "      <td>185.070646</td>\n",
       "      <td>267.832464</td>\n",
       "      <td>230.431902</td>\n",
       "      <td>250.166794</td>\n",
       "      <td>123.419319</td>\n",
       "      <td>241.640053</td>\n",
       "      <td>240.803162</td>\n",
       "    </tr>\n",
       "    <tr>\n",
       "      <th>5</th>\n",
       "      <td>323.090994</td>\n",
       "      <td>184.077576</td>\n",
       "      <td>317.752579</td>\n",
       "      <td>231.460725</td>\n",
       "      <td>312.196414</td>\n",
       "      <td>127.994862</td>\n",
       "      <td>338.070173</td>\n",
       "      <td>232.648487</td>\n",
       "      <td>239.929596</td>\n",
       "      <td>186.889701</td>\n",
       "      <td>268.311177</td>\n",
       "      <td>231.184368</td>\n",
       "      <td>248.294276</td>\n",
       "      <td>126.242117</td>\n",
       "      <td>241.872134</td>\n",
       "      <td>242.278238</td>\n",
       "    </tr>\n",
       "    <tr>\n",
       "      <th>6</th>\n",
       "      <td>324.668134</td>\n",
       "      <td>188.474397</td>\n",
       "      <td>316.017503</td>\n",
       "      <td>237.736033</td>\n",
       "      <td>313.864762</td>\n",
       "      <td>128.629241</td>\n",
       "      <td>336.794965</td>\n",
       "      <td>239.626484</td>\n",
       "      <td>241.915958</td>\n",
       "      <td>186.159248</td>\n",
       "      <td>269.160983</td>\n",
       "      <td>233.061251</td>\n",
       "      <td>249.231858</td>\n",
       "      <td>127.466965</td>\n",
       "      <td>240.461069</td>\n",
       "      <td>240.518408</td>\n",
       "    </tr>\n",
       "    <tr>\n",
       "      <th>7</th>\n",
       "      <td>326.456644</td>\n",
       "      <td>190.725710</td>\n",
       "      <td>312.720542</td>\n",
       "      <td>236.918252</td>\n",
       "      <td>315.057335</td>\n",
       "      <td>129.656114</td>\n",
       "      <td>337.142441</td>\n",
       "      <td>241.566937</td>\n",
       "      <td>241.965089</td>\n",
       "      <td>191.363663</td>\n",
       "      <td>269.535072</td>\n",
       "      <td>234.898362</td>\n",
       "      <td>250.416483</td>\n",
       "      <td>128.088089</td>\n",
       "      <td>240.894572</td>\n",
       "      <td>243.073625</td>\n",
       "    </tr>\n",
       "    <tr>\n",
       "      <th>8</th>\n",
       "      <td>327.129586</td>\n",
       "      <td>190.746895</td>\n",
       "      <td>313.637477</td>\n",
       "      <td>238.625200</td>\n",
       "      <td>314.687640</td>\n",
       "      <td>131.927222</td>\n",
       "      <td>335.126934</td>\n",
       "      <td>243.119827</td>\n",
       "      <td>242.024015</td>\n",
       "      <td>191.645347</td>\n",
       "      <td>268.728690</td>\n",
       "      <td>237.653684</td>\n",
       "      <td>248.160528</td>\n",
       "      <td>129.663223</td>\n",
       "      <td>247.382529</td>\n",
       "      <td>244.308246</td>\n",
       "    </tr>\n",
       "    <tr>\n",
       "      <th>9</th>\n",
       "      <td>327.632457</td>\n",
       "      <td>193.380515</td>\n",
       "      <td>313.994246</td>\n",
       "      <td>240.113169</td>\n",
       "      <td>312.675104</td>\n",
       "      <td>135.144087</td>\n",
       "      <td>335.402439</td>\n",
       "      <td>243.145736</td>\n",
       "      <td>242.149950</td>\n",
       "      <td>192.917389</td>\n",
       "      <td>270.097019</td>\n",
       "      <td>240.542124</td>\n",
       "      <td>249.696176</td>\n",
       "      <td>134.191142</td>\n",
       "      <td>246.496354</td>\n",
       "      <td>245.074364</td>\n",
       "    </tr>\n",
       "    <tr>\n",
       "      <th>10</th>\n",
       "      <td>327.859101</td>\n",
       "      <td>192.765759</td>\n",
       "      <td>314.031830</td>\n",
       "      <td>239.842202</td>\n",
       "      <td>312.892840</td>\n",
       "      <td>135.876857</td>\n",
       "      <td>334.493292</td>\n",
       "      <td>244.093987</td>\n",
       "      <td>241.787500</td>\n",
       "      <td>193.312216</td>\n",
       "      <td>270.174755</td>\n",
       "      <td>241.326017</td>\n",
       "      <td>250.181355</td>\n",
       "      <td>134.501274</td>\n",
       "      <td>245.485773</td>\n",
       "      <td>245.784996</td>\n",
       "    </tr>\n",
       "    <tr>\n",
       "      <th>11</th>\n",
       "      <td>327.311948</td>\n",
       "      <td>194.845196</td>\n",
       "      <td>316.039548</td>\n",
       "      <td>245.114569</td>\n",
       "      <td>314.310271</td>\n",
       "      <td>137.447089</td>\n",
       "      <td>338.570634</td>\n",
       "      <td>247.587842</td>\n",
       "      <td>242.523687</td>\n",
       "      <td>196.322775</td>\n",
       "      <td>268.829547</td>\n",
       "      <td>242.500725</td>\n",
       "      <td>248.461830</td>\n",
       "      <td>136.937803</td>\n",
       "      <td>244.504454</td>\n",
       "      <td>249.082947</td>\n",
       "    </tr>\n",
       "    <tr>\n",
       "      <th>12</th>\n",
       "      <td>328.580455</td>\n",
       "      <td>194.780505</td>\n",
       "      <td>317.588410</td>\n",
       "      <td>245.746974</td>\n",
       "      <td>315.197558</td>\n",
       "      <td>138.829509</td>\n",
       "      <td>337.041248</td>\n",
       "      <td>246.088770</td>\n",
       "      <td>242.391050</td>\n",
       "      <td>197.342518</td>\n",
       "      <td>269.087094</td>\n",
       "      <td>243.228602</td>\n",
       "      <td>250.206823</td>\n",
       "      <td>136.462473</td>\n",
       "      <td>250.112615</td>\n",
       "      <td>249.089992</td>\n",
       "    </tr>\n",
       "    <tr>\n",
       "      <th>13</th>\n",
       "      <td>329.152784</td>\n",
       "      <td>195.579605</td>\n",
       "      <td>314.364728</td>\n",
       "      <td>247.019096</td>\n",
       "      <td>315.987833</td>\n",
       "      <td>139.112058</td>\n",
       "      <td>337.321018</td>\n",
       "      <td>247.161428</td>\n",
       "      <td>242.575001</td>\n",
       "      <td>198.845731</td>\n",
       "      <td>270.040190</td>\n",
       "      <td>244.686747</td>\n",
       "      <td>249.940757</td>\n",
       "      <td>136.899650</td>\n",
       "      <td>243.644926</td>\n",
       "      <td>253.485012</td>\n",
       "    </tr>\n",
       "    <tr>\n",
       "      <th>14</th>\n",
       "      <td>330.237484</td>\n",
       "      <td>197.597570</td>\n",
       "      <td>315.331480</td>\n",
       "      <td>247.072382</td>\n",
       "      <td>316.961214</td>\n",
       "      <td>140.199761</td>\n",
       "      <td>339.036307</td>\n",
       "      <td>247.061355</td>\n",
       "      <td>242.628109</td>\n",
       "      <td>200.128221</td>\n",
       "      <td>270.773566</td>\n",
       "      <td>244.891783</td>\n",
       "      <td>250.561037</td>\n",
       "      <td>138.451293</td>\n",
       "      <td>244.894948</td>\n",
       "      <td>254.658653</td>\n",
       "    </tr>\n",
       "    <tr>\n",
       "      <th>15</th>\n",
       "      <td>326.191083</td>\n",
       "      <td>196.087275</td>\n",
       "      <td>316.108678</td>\n",
       "      <td>247.277756</td>\n",
       "      <td>318.026781</td>\n",
       "      <td>140.223262</td>\n",
       "      <td>337.980886</td>\n",
       "      <td>248.847353</td>\n",
       "      <td>242.607646</td>\n",
       "      <td>201.940522</td>\n",
       "      <td>270.987126</td>\n",
       "      <td>246.066977</td>\n",
       "      <td>250.883724</td>\n",
       "      <td>138.289701</td>\n",
       "      <td>245.285236</td>\n",
       "      <td>249.705924</td>\n",
       "    </tr>\n",
       "    <tr>\n",
       "      <th>16</th>\n",
       "      <td>330.652879</td>\n",
       "      <td>198.063794</td>\n",
       "      <td>317.111272</td>\n",
       "      <td>247.594685</td>\n",
       "      <td>318.645720</td>\n",
       "      <td>141.643284</td>\n",
       "      <td>338.098494</td>\n",
       "      <td>250.403484</td>\n",
       "      <td>244.917285</td>\n",
       "      <td>202.445251</td>\n",
       "      <td>275.317313</td>\n",
       "      <td>247.668226</td>\n",
       "      <td>252.832705</td>\n",
       "      <td>138.901809</td>\n",
       "      <td>247.234862</td>\n",
       "      <td>250.259751</td>\n",
       "    </tr>\n",
       "  </tbody>\n",
       "</table>\n",
       "</div>"
      ],
      "text/plain": [
       "    leftElbow_x  leftElbow_y   leftHip_x   leftHip_y  leftShoulder_x  \\\n",
       "0    320.887687   182.349062  314.347552  230.816000      311.561103   \n",
       "1    322.069697   182.833418  312.400498  233.233930      311.775849   \n",
       "2    322.733250   182.889811  312.725625  232.988002      312.460549   \n",
       "3    325.253514   183.365339  313.866852  234.030783      313.511280   \n",
       "4    323.620918   183.180860  310.670503  234.276107      313.255297   \n",
       "5    323.090994   184.077576  317.752579  231.460725      312.196414   \n",
       "6    324.668134   188.474397  316.017503  237.736033      313.864762   \n",
       "7    326.456644   190.725710  312.720542  236.918252      315.057335   \n",
       "8    327.129586   190.746895  313.637477  238.625200      314.687640   \n",
       "9    327.632457   193.380515  313.994246  240.113169      312.675104   \n",
       "10   327.859101   192.765759  314.031830  239.842202      312.892840   \n",
       "11   327.311948   194.845196  316.039548  245.114569      314.310271   \n",
       "12   328.580455   194.780505  317.588410  245.746974      315.197558   \n",
       "13   329.152784   195.579605  314.364728  247.019096      315.987833   \n",
       "14   330.237484   197.597570  315.331480  247.072382      316.961214   \n",
       "15   326.191083   196.087275  316.108678  247.277756      318.026781   \n",
       "16   330.652879   198.063794  317.111272  247.594685      318.645720   \n",
       "\n",
       "    leftShoulder_y  leftWrist_x  leftWrist_y  rightElbow_x  rightElbow_y  \\\n",
       "0       125.659389   332.064043   235.748133    239.796790    185.566538   \n",
       "1       125.657545   333.605781   237.301374    240.632927    184.094592   \n",
       "2       126.066225   335.213848   238.292147    240.536637    184.266400   \n",
       "3       125.171998   336.657547   238.603840    242.282477    184.875989   \n",
       "4       126.910689   336.853370   237.451494    240.647002    185.070646   \n",
       "5       127.994862   338.070173   232.648487    239.929596    186.889701   \n",
       "6       128.629241   336.794965   239.626484    241.915958    186.159248   \n",
       "7       129.656114   337.142441   241.566937    241.965089    191.363663   \n",
       "8       131.927222   335.126934   243.119827    242.024015    191.645347   \n",
       "9       135.144087   335.402439   243.145736    242.149950    192.917389   \n",
       "10      135.876857   334.493292   244.093987    241.787500    193.312216   \n",
       "11      137.447089   338.570634   247.587842    242.523687    196.322775   \n",
       "12      138.829509   337.041248   246.088770    242.391050    197.342518   \n",
       "13      139.112058   337.321018   247.161428    242.575001    198.845731   \n",
       "14      140.199761   339.036307   247.061355    242.628109    200.128221   \n",
       "15      140.223262   337.980886   248.847353    242.607646    201.940522   \n",
       "16      141.643284   338.098494   250.403484    244.917285    202.445251   \n",
       "\n",
       "    rightHip_x  rightHip_y  rightShoulder_x  rightShoulder_y  rightWrist_x  \\\n",
       "0   270.312635  231.982183       246.479521       121.432370    238.622666   \n",
       "1   270.662814  232.942973       245.513863       121.647967    247.402520   \n",
       "2   267.074018  230.834356       248.820106       122.612895    240.552820   \n",
       "3   268.914766  230.071647       247.527299       122.934101    243.246776   \n",
       "4   267.832464  230.431902       250.166794       123.419319    241.640053   \n",
       "5   268.311177  231.184368       248.294276       126.242117    241.872134   \n",
       "6   269.160983  233.061251       249.231858       127.466965    240.461069   \n",
       "7   269.535072  234.898362       250.416483       128.088089    240.894572   \n",
       "8   268.728690  237.653684       248.160528       129.663223    247.382529   \n",
       "9   270.097019  240.542124       249.696176       134.191142    246.496354   \n",
       "10  270.174755  241.326017       250.181355       134.501274    245.485773   \n",
       "11  268.829547  242.500725       248.461830       136.937803    244.504454   \n",
       "12  269.087094  243.228602       250.206823       136.462473    250.112615   \n",
       "13  270.040190  244.686747       249.940757       136.899650    243.644926   \n",
       "14  270.773566  244.891783       250.561037       138.451293    244.894948   \n",
       "15  270.987126  246.066977       250.883724       138.289701    245.285236   \n",
       "16  275.317313  247.668226       252.832705       138.901809    247.234862   \n",
       "\n",
       "    rightWrist_y  \n",
       "0     241.018966  \n",
       "1     238.586548  \n",
       "2     238.763562  \n",
       "3     241.186820  \n",
       "4     240.803162  \n",
       "5     242.278238  \n",
       "6     240.518408  \n",
       "7     243.073625  \n",
       "8     244.308246  \n",
       "9     245.074364  \n",
       "10    245.784996  \n",
       "11    249.082947  \n",
       "12    249.089992  \n",
       "13    253.485012  \n",
       "14    254.658653  \n",
       "15    249.705924  \n",
       "16    250.259751  "
      ]
     },
     "execution_count": 15,
     "metadata": {},
     "output_type": "execute_result"
    }
   ],
   "source": [
    "xdf = pd.DataFrame(x, columns=feature_names)\n",
    "xdf"
   ]
  },
  {
   "cell_type": "code",
   "execution_count": 16,
   "metadata": {},
   "outputs": [
    {
     "data": {
      "text/plain": [
       "{'leftElbow_x': 0,\n",
       " 'leftElbow_y': 1,\n",
       " 'leftHip_x': 2,\n",
       " 'leftHip_y': 3,\n",
       " 'leftShoulder_x': 4,\n",
       " 'leftShoulder_y': 5,\n",
       " 'leftWrist_x': 6,\n",
       " 'leftWrist_y': 7,\n",
       " 'rightElbow_x': 8,\n",
       " 'rightElbow_y': 9,\n",
       " 'rightHip_x': 10,\n",
       " 'rightHip_y': 11,\n",
       " 'rightShoulder_x': 12,\n",
       " 'rightShoulder_y': 13,\n",
       " 'rightWrist_x': 14,\n",
       " 'rightWrist_y': 15}"
      ]
     },
     "execution_count": 16,
     "metadata": {},
     "output_type": "execute_result"
    }
   ],
   "source": [
    "feat_dict = {feature:feature_names.index(feature) for feature in feature_names}\n",
    "feat_dict"
   ]
  },
  {
   "cell_type": "code",
   "execution_count": 17,
   "metadata": {},
   "outputs": [
    {
     "data": {
      "text/plain": [
       "[0, 2, 4, 6, 8, 10, 12, 14]"
      ]
     },
     "execution_count": 17,
     "metadata": {},
     "output_type": "execute_result"
    }
   ],
   "source": [
    "idx_x = [feat_dict[key] for key in feat_dict.keys() if key.endswith('_x')]\n",
    "idx_x"
   ]
  },
  {
   "cell_type": "code",
   "execution_count": 18,
   "metadata": {},
   "outputs": [
    {
     "data": {
      "text/plain": [
       "[1, 3, 5, 7, 9, 11, 13, 15]"
      ]
     },
     "execution_count": 18,
     "metadata": {},
     "output_type": "execute_result"
    }
   ],
   "source": [
    "idx_y = [feat_dict[key] for key in feat_dict.keys() if key.endswith('_y')]\n",
    "idx_y"
   ]
  },
  {
   "cell_type": "code",
   "execution_count": 19,
   "metadata": {},
   "outputs": [
    {
     "data": {
      "text/plain": [
       "[2, 4, 10, 12]"
      ]
     },
     "execution_count": 19,
     "metadata": {},
     "output_type": "execute_result"
    }
   ],
   "source": [
    "idx_hip_shoulder_x = [feat_dict[key] for key in feat_dict.keys()\\\n",
    "                      if key.endswith('_x') and ('Hip' in key or 'Shoulder' in key) ]\n",
    "idx_hip_shoulder_x"
   ]
  },
  {
   "cell_type": "code",
   "execution_count": 20,
   "metadata": {},
   "outputs": [
    {
     "data": {
      "text/plain": [
       "[3, 11]"
      ]
     },
     "execution_count": 20,
     "metadata": {},
     "output_type": "execute_result"
    }
   ],
   "source": [
    "idx_hip_y = [feat_dict[key] for key in feat_dict.keys() if key.endswith('_y') and ('Hip' in key) ]\n",
    "idx_hip_y"
   ]
  },
  {
   "cell_type": "code",
   "execution_count": 21,
   "metadata": {},
   "outputs": [
    {
     "data": {
      "text/plain": [
       "[5, 13]"
      ]
     },
     "execution_count": 21,
     "metadata": {},
     "output_type": "execute_result"
    }
   ],
   "source": [
    "idx_shoulder_y = [feat_dict[key] for key in feat_dict.keys() if key.endswith('_y') and ('Shoulder' in key) ]\n",
    "idx_shoulder_y"
   ]
  },
  {
   "cell_type": "code",
   "execution_count": 22,
   "metadata": {},
   "outputs": [
    {
     "data": {
      "text/plain": [
       "[3, 5, 11, 13]"
      ]
     },
     "execution_count": 22,
     "metadata": {},
     "output_type": "execute_result"
    }
   ],
   "source": [
    "idx_hip_shoulder_y = sorted(idx_shoulder_y + idx_hip_y)\n",
    "idx_hip_shoulder_y "
   ]
  },
  {
   "cell_type": "code",
   "execution_count": 23,
   "metadata": {},
   "outputs": [
    {
     "data": {
      "text/plain": [
       "array([285.67520297, 285.08825612, 285.27007458, 285.95504925,\n",
       "       285.4812647 , 286.63861145, 287.06877662, 286.93235817,\n",
       "       286.3035839 , 286.61563638, 286.8201952 , 286.91029893,\n",
       "       288.01997132, 287.58337698, 288.4068243 , 289.0015775 ,\n",
       "       290.9767526 ])"
      ]
     },
     "execution_count": 23,
     "metadata": {},
     "output_type": "execute_result"
    }
   ],
   "source": [
    "x[:,idx_hip_shoulder_x].mean(axis = 1)"
   ]
  },
  {
   "cell_type": "code",
   "execution_count": 24,
   "metadata": {},
   "outputs": [
    {
     "data": {
      "text/plain": [
       "(3969, 17)"
      ]
     },
     "execution_count": 24,
     "metadata": {},
     "output_type": "execute_result"
    }
   ],
   "source": [
    "mX = X[:,:,idx_hip_shoulder_x].mean(axis = 2)\n",
    "mX.shape"
   ]
  },
  {
   "cell_type": "code",
   "execution_count": 25,
   "metadata": {},
   "outputs": [
    {
     "data": {
      "text/plain": [
       "(3969, 17, 8)"
      ]
     },
     "execution_count": 25,
     "metadata": {},
     "output_type": "execute_result"
    }
   ],
   "source": [
    "xX = X[:,:,idx_x]\n",
    "xX.shape"
   ]
  },
  {
   "cell_type": "code",
   "execution_count": 26,
   "metadata": {},
   "outputs": [
    {
     "data": {
      "text/plain": [
       "2.2820960807353804e-11"
      ]
     },
     "execution_count": 26,
     "metadata": {},
     "output_type": "execute_result"
    }
   ],
   "source": [
    "# each timestep is centralized. Trailing dimensions have to be equal ==> transpose\n",
    "X = de.X.copy()\n",
    "X[:,:,idx_x] = (X[:,:,idx_x].transpose() - X[:,:,idx_hip_shoulder_x].mean(axis = 2).transpose()).transpose()\n",
    "X[:,:,idx_y] = (X[:,:,idx_y].transpose() - X[:,:,idx_hip_shoulder_y].mean(axis = 2).transpose()).transpose()\n",
    "abs(X[:,:,idx_hip_shoulder_x].mean(axis = (1,2))).sum()"
   ]
  },
  {
   "cell_type": "code",
   "execution_count": 27,
   "metadata": {},
   "outputs": [
    {
     "name": "stdout",
     "output_type": "stream",
     "text": [
      "(3969,)\n",
      "(3969, 17, 8)\n"
     ]
    },
    {
     "data": {
      "text/plain": [
       "3"
      ]
     },
     "execution_count": 27,
     "metadata": {},
     "output_type": "execute_result"
    }
   ],
   "source": [
    "X = de.X.copy()\n",
    "print(X[:,:,idx_hip_shoulder_x].mean(axis = (1,2)).shape)\n",
    "print(X[:,:,idx_x].shape)\n",
    "X[:,:,idx_x] = (X[:,:,idx_x].transpose() - X[:,:,idx_hip_shoulder_x].mean(axis = (1,2)).transpose()).transpose()\n",
    "abs(X[:,:,idx_hip_shoulder_x].mean(axis = (2))).sum()\n",
    "len(X.shape)"
   ]
  },
  {
   "cell_type": "code",
   "execution_count": 28,
   "metadata": {},
   "outputs": [],
   "source": [
    "def centralize(M, byrow = True):\n",
    "    X = M.copy()\n",
    "    \n",
    "    if len(M.shape) != 3:\n",
    "        raise IndexError(\"Input Array does not have the right dimensions\")\n",
    "        \n",
    "    if byrow:\n",
    "        ax = (2)\n",
    "    else: # by sample\n",
    "        ax = (1,2)\n",
    "        \n",
    "    X[:,:,idx_x] = (X[:,:,idx_x].transpose() - X[:,:,idx_hip_shoulder_x].mean(axis = ax).transpose()).transpose()\n",
    "    X[:,:,idx_y] = (X[:,:,idx_y].transpose() - X[:,:,idx_hip_shoulder_y].mean(axis = ax).transpose()).transpose()\n",
    "    \n",
    "    return X\n",
    "    "
   ]
  },
  {
   "cell_type": "code",
   "execution_count": 29,
   "metadata": {},
   "outputs": [
    {
     "name": "stdout",
     "output_type": "stream",
     "text": [
      "(3969, 17, 16)\n",
      "(3969, 17)\n",
      "(3969,)\n"
     ]
    }
   ],
   "source": [
    "X = de.X.copy()\n",
    "print(X.shape)\n",
    "\n",
    "ax = (2)\n",
    "A = (X[:,:,idx_shoulder_y].mean(axis = ax) - X[:,:,idx_hip_y].mean(axis = ax))\n",
    "print(A.shape)\n",
    "\n",
    "ax = (1,2)\n",
    "b = (X[:,:,idx_shoulder_y].mean(axis = ax) - X[:,:,idx_hip_y].mean(axis = ax))\n",
    "print(b.shape)"
   ]
  },
  {
   "cell_type": "code",
   "execution_count": 30,
   "metadata": {},
   "outputs": [],
   "source": [
    "def scale(M, byrow = True):\n",
    "    X = M.copy()\n",
    "    \n",
    "    if len(M.shape) != 3:\n",
    "        raise IndexError(\"Input Array does not have the right dimensions\")\n",
    "        \n",
    "    if byrow:\n",
    "        ax = (2)\n",
    "    else: # by sample\n",
    "        ax = (1,2)\n",
    "        \n",
    "    X = (X.transpose() / (X[:,:,idx_shoulder_y].mean(axis = ax) - X[:,:,idx_hip_y].mean(axis = ax)).transpose()).transpose()\n",
    "    \n",
    "    return X"
   ]
  },
  {
   "cell_type": "code",
   "execution_count": 31,
   "metadata": {},
   "outputs": [
    {
     "name": "stdout",
     "output_type": "stream",
     "text": [
      "(3969, 17, 16)\n",
      "(3969, 17, 16)\n"
     ]
    }
   ],
   "source": [
    "print((X.transpose() / b.transpose()).transpose().shape)\n",
    "print((X.transpose() / A.transpose()).transpose().shape)"
   ]
  },
  {
   "cell_type": "code",
   "execution_count": 32,
   "metadata": {},
   "outputs": [
    {
     "data": {
      "text/plain": [
       "array([[ 10., -10.,  10., -10.,  10., -10.,  10., -10.,  10., -10.,  10.,\n",
       "        -10.,  10., -10.,  10., -10.],\n",
       "       [ 11., -11.,  11., -11.,  11., -11.,  11., -11.,  11., -11.,  11.,\n",
       "        -11.,  11., -11.,  11., -11.],\n",
       "       [ 12., -12.,  12., -12.,  12., -12.,  12., -12.,  12., -12.,  12.,\n",
       "        -12.,  12., -12.,  12., -12.]])"
      ]
     },
     "execution_count": 32,
     "metadata": {},
     "output_type": "execute_result"
    }
   ],
   "source": [
    "M = np.zeros((3,3,16))\n",
    "\n",
    "for x in range(3):\n",
    "    for y in range(3):\n",
    "        for z in range(16):\n",
    "            M[x,y,z] = (x * 10 + y) * ((-1) ** (z%2))\n",
    "            \n",
    "M[1,:,:]"
   ]
  },
  {
   "cell_type": "code",
   "execution_count": 33,
   "metadata": {},
   "outputs": [
    {
     "data": {
      "text/plain": [
       "array([[0., 0., 0., 0., 0., 0., 0., 0., 0., 0., 0., 0., 0., 0., 0., 0.],\n",
       "       [0., 0., 0., 0., 0., 0., 0., 0., 0., 0., 0., 0., 0., 0., 0., 0.],\n",
       "       [0., 0., 0., 0., 0., 0., 0., 0., 0., 0., 0., 0., 0., 0., 0., 0.]])"
      ]
     },
     "execution_count": 33,
     "metadata": {},
     "output_type": "execute_result"
    }
   ],
   "source": [
    "Z = centralize(M, byrow=True)\n",
    "Z[1,:,:]"
   ]
  },
  {
   "cell_type": "code",
   "execution_count": 34,
   "metadata": {},
   "outputs": [
    {
     "data": {
      "text/plain": [
       "array([[-1.,  1., -1.,  1., -1.,  1., -1.,  1., -1.,  1., -1.,  1., -1.,\n",
       "         1., -1.,  1.],\n",
       "       [ 0.,  0.,  0.,  0.,  0.,  0.,  0.,  0.,  0.,  0.,  0.,  0.,  0.,\n",
       "         0.,  0.,  0.],\n",
       "       [ 1., -1.,  1., -1.,  1., -1.,  1., -1.,  1., -1.,  1., -1.,  1.,\n",
       "        -1.,  1., -1.]])"
      ]
     },
     "execution_count": 34,
     "metadata": {},
     "output_type": "execute_result"
    }
   ],
   "source": [
    "Z = centralize(M, byrow=False)\n",
    "Z[1,:,:]"
   ]
  },
  {
   "cell_type": "code",
   "execution_count": 35,
   "metadata": {},
   "outputs": [
    {
     "data": {
      "text/plain": [
       "array([[-0.30877843,  0.06887989, -0.19330071, -0.47943929, -0.30341244,\n",
       "         0.4956102 , -0.29297107, -0.3830554 ,  0.40138342, -0.01891026,\n",
       "         0.20546981, -0.52056071,  0.29124334,  0.5043898 ,  0.47015547,\n",
       "        -0.39514978],\n",
       "       [-0.16224371, -0.01244581, -0.17304011, -0.48006514, -0.28766589,\n",
       "         0.5229988 , -0.03692697, -0.01753412,  0.36752163, -0.09253463,\n",
       "         0.18116652, -0.51993486,  0.27953948,  0.4770012 ,  0.52005236,\n",
       "        -0.4295109 ],\n",
       "       [-0.21620736,  0.18025052, -0.1502083 , -0.48736484, -0.2752241 ,\n",
       "         0.54241201,  0.0570429 ,  0.35346116,  0.40288044, -0.05780108,\n",
       "         0.15192237, -0.51263516,  0.27351003,  0.45758799,  0.42103945,\n",
       "        -0.18198949],\n",
       "       [-0.24770927,  0.40971796, -0.23670068, -0.50871009, -0.23632263,\n",
       "         0.49711599, -0.05415422,  0.64335968,  0.41549347, -0.05741075,\n",
       "         0.14939098, -0.49128991,  0.32363232,  0.50288401,  0.43182002,\n",
       "        -0.40527267],\n",
       "       [-0.18599137,  0.44992121, -0.21569376, -0.51900739, -0.25188946,\n",
       "         0.51744569, -0.01532733,  0.7416647 ,  0.3956082 , -0.10777312,\n",
       "         0.17266517, -0.48099261,  0.29491805,  0.48255431,  0.42352212,\n",
       "        -0.44153287],\n",
       "       [-0.21004102,  0.19020305, -0.21244001, -0.47191986, -0.23521864,\n",
       "         0.53424109, -0.09134495, -0.19319381,  0.38738731, -0.04203888,\n",
       "         0.14245196, -0.52808014,  0.30520668,  0.46575891,  0.41236634,\n",
       "        -0.40587336],\n",
       "       [-0.33410744,  0.59494935, -0.22376499, -0.49460206, -0.23525007,\n",
       "         0.54944834, -0.36222753,  0.92027001,  0.40320773, -0.11006702,\n",
       "         0.14958338, -0.50539794,  0.30943168,  0.45055166,  0.4185403 ,\n",
       "        -0.41224397],\n",
       "       [-0.41574301,  0.91115398, -0.21031014, -0.49623967, -0.24445052,\n",
       "         0.5757028 , -0.2525996 ,  1.5266571 ,  0.39960279, -0.04237066,\n",
       "         0.16952451, -0.50376033,  0.28523615,  0.4242972 ,  0.48962715,\n",
       "        -0.41275444],\n",
       "       [-0.45738297,  1.04055849, -0.21427966, -0.47951262, -0.24996079,\n",
       "         0.59025862, -0.23748019,  1.44649569,  0.41075875, -0.04335192,\n",
       "         0.17439953, -0.52048738,  0.28984092,  0.40974138,  0.44131221,\n",
       "        -0.41164281],\n",
       "       [-0.60246015,  0.97055545, -0.2315668 , -0.50119107, -0.22330345,\n",
       "         0.57998931, -0.51607505,  1.45440017,  0.38172022, -0.06202285,\n",
       "         0.15081022, -0.49880893,  0.30406003,  0.42001069,  0.41624341,\n",
       "        -0.43989052],\n",
       "       [-0.68975051,  0.97285153, -0.22155022, -0.50808498, -0.28555033,\n",
       "         0.55850263, -0.72526584,  1.48289958,  0.40398194, -0.04531131,\n",
       "         0.17286953, -0.49191502,  0.33423102,  0.44149737,  0.49608361,\n",
       "        -0.44679824],\n",
       "       [-0.94260986,  0.70840891, -0.18741477, -0.48190491, -0.32833122,\n",
       "         0.54974652, -1.11105332,  1.14854129,  0.43473166, -0.05343699,\n",
       "         0.17601259, -0.51809509,  0.3397334 ,  0.45025348,  0.48212734,\n",
       "        -0.42116401],\n",
       "       [-0.80737023,  0.61721149, -0.21135976, -0.49742831, -0.31806817,\n",
       "         0.53415419, -1.2026878 ,  0.64327582,  0.42454212, -0.04097808,\n",
       "         0.18603221, -0.50257169,  0.34339572,  0.46584581,  0.48450219,\n",
       "        -0.45490264],\n",
       "       [-0.7788736 ,  0.38764307, -0.19545872, -0.50619684, -0.31565508,\n",
       "         0.5445079 , -1.20576418,  0.28006014,  0.40941647, -0.07361421,\n",
       "         0.17806344, -0.49380316,  0.33305036,  0.4554921 ,  0.49301612,\n",
       "        -0.46700196],\n",
       "       [-0.56859499,  0.26806446, -0.18910604, -0.49771634, -0.28676999,\n",
       "         0.54294447, -0.94592473, -0.06436256,  0.41344561, -0.07512181,\n",
       "         0.16894496, -0.50228366,  0.30693107,  0.45705553,  0.45843898,\n",
       "        -0.38533432],\n",
       "       [-0.54846445,  0.13825193, -0.20037268, -0.48828803, -0.27320633,\n",
       "         0.52206654, -0.81671861, -0.22697564,  0.44048041, -0.05167008,\n",
       "         0.15194399, -0.51171197,  0.32163502,  0.47793346,  0.50774017,\n",
       "        -0.42995186],\n",
       "       [-0.36965916,  0.01506497, -0.24970702, -0.50626792, -0.27181829,\n",
       "         0.50691439, -0.49417427, -0.43132534,  0.44574606, -0.03733376,\n",
       "         0.20384308, -0.49373208,  0.31768222,  0.49308561,  0.50178246,\n",
       "        -0.4435597 ]])"
      ]
     },
     "execution_count": 35,
     "metadata": {},
     "output_type": "execute_result"
    }
   ],
   "source": [
    "class GestureTransformer(BaseEstimator, TransformerMixin):\n",
    "    \n",
    "    def __init__(self, feature_names, byrow = True):\n",
    "        self.byrow = byrow\n",
    "        self.feature_names = feature_names\n",
    "        self.feat_dict = {feature:feature_names.index(feature) for feature in feature_names}\n",
    "        self.idx_x = [self.feat_dict[key] for key in self.feat_dict.keys() if key.endswith('_x')]\n",
    "        self.idx_y = [self.feat_dict[key] for key in self.feat_dict.keys() if key.endswith('_y')]\n",
    "        self.idx_hip_shoulder_x = [feat_dict[key] for key in self.feat_dict.keys()\\\n",
    "                      if key.endswith('_x') and ('Hip' in key or 'Shoulder' in key) ]\n",
    "        self.idx_hip_y = [feat_dict[key] for key in self.feat_dict.keys()\\\n",
    "                      if key.endswith('_y') and ('Hip' in key) ]\n",
    "        self.idx_shoulder_y = [feat_dict[key] for key in self.feat_dict.keys()\\\n",
    "                      if key.endswith('_y') and ('Shoulder' in key) ]\n",
    "        self.idx_hip_shoulder_y = sorted(self.idx_hip_y + self.idx_shoulder_y)\n",
    "        \n",
    "    \n",
    "    def fit(self, X, y = None):\n",
    "        return self\n",
    "    \n",
    "    def transform(self, X):\n",
    "        \n",
    "        Z = X.copy()\n",
    "        \n",
    "        if self.byrow:\n",
    "            ax = (2)\n",
    "        else:\n",
    "            ax = (1,2)\n",
    "         \n",
    "        self.x_shift = Z[:,:,idx_hip_shoulder_x].mean(axis = ax)\n",
    "        Z[:,:,idx_x] = (Z[:,:,idx_x].transpose() - self.x_shift.transpose()).transpose()\n",
    "        \n",
    "        self.y_shift = Z[:,:,idx_hip_shoulder_y].mean(axis = ax)\n",
    "        Z[:,:,idx_y] = (Z[:,:,idx_y].transpose() - self.y_shift.transpose()).transpose()\n",
    "        \n",
    "        self.scale = (Z[:,:,idx_shoulder_y].mean(axis = ax) - Z[:,:,idx_hip_y].mean(axis = ax))\n",
    "        Z = (Z.transpose() / self.scale.transpose()).transpose()    \n",
    "        \n",
    "        return Z\n",
    "    \n",
    "gt = GestureTransformer(feature_names)\n",
    "gt.transform(de.X)[900,:,:]"
   ]
  },
  {
   "cell_type": "code",
   "execution_count": 36,
   "metadata": {},
   "outputs": [],
   "source": [
    "P = gt.transform(de.X)"
   ]
  },
  {
   "cell_type": "code",
   "execution_count": 37,
   "metadata": {},
   "outputs": [
    {
     "data": {
      "text/plain": [
       "5.0"
      ]
     },
     "execution_count": 37,
     "metadata": {},
     "output_type": "execute_result"
    }
   ],
   "source": [
    "de.y[123]"
   ]
  },
  {
   "cell_type": "code",
   "execution_count": 50,
   "metadata": {},
   "outputs": [
    {
     "name": "stdout",
     "output_type": "stream",
     "text": [
      "{'leftElbow_x': 0, 'leftElbow_y': 1, 'leftHip_x': 2, 'leftHip_y': 3, 'leftShoulder_x': 4, 'leftShoulder_y': 5, 'leftWrist_x': 6, 'leftWrist_y': 7, 'rightElbow_x': 8, 'rightElbow_y': 9, 'rightHip_x': 10, 'rightHip_y': 11, 'rightShoulder_x': 12, 'rightShoulder_y': 13, 'rightWrist_x': 14, 'rightWrist_y': 15}\n"
     ]
    },
    {
     "data": {
      "image/png": "[encoded data removed]",
      "text/plain": [
       "<Figure size 432x288 with 4 Axes>"
      ]
     },
     "metadata": {
      "needs_background": "light"
     },
     "output_type": "display_data"
    }
   ],
   "source": [
    "import matplotlib.pyplot as plt\n",
    "from matplotlib.ticker import NullFormatter\n",
    "print(feat_dict)\n",
    "\n",
    "i = 110\n",
    "key = 'leftWrist'\n",
    "kx = key + '_x'\n",
    "ky = key + '_y'\n",
    "\n",
    "#axes = plt.gca()\n",
    "#axes.set_xlim([-2,2])\n",
    "#axes.set_ylim([-2,2])\n",
    "plt.figure(1)\n",
    "\n",
    "plt.subplot(241)\n",
    "plt.plot(P[i,:,feat_dict[kx]],P[i,:,feat_dict[ky]])\n",
    "plt.title(\"Index: \" + str(i) + \"  \" + \"Label: \" + str(int(de.y[i])))\n",
    "\n",
    "plt.subplot(242)\n",
    "plt.plot(P[i+1,:,feat_dict[kx]],P[i+1,:,feat_dict[ky]])\n",
    "plt.title(\"Index: \" + str(i+1) + \"  \" + \"Label: \" + str(int(de.y[i+1])))\n",
    "\n",
    "plt.subplot(243)\n",
    "plt.plot(P[i+2,:,feat_dict[kx]],P[i+2,:,feat_dict[ky]])\n",
    "plt.title(\"Index: \" + str(i+2) + \"  \" + \"Label: \" + str(int(de.y[i+2])))\n",
    "\n",
    "plt.subplot(244)\n",
    "plt.plot(P[i+2,:,feat_dict[kx]],P[i+2,:,feat_dict[ky]])\n",
    "plt.title(\"Index: \" + str(i+3) + \"  \" + \"Label: \" + str(int(de.y[i+3])))\n",
    "\n",
    "# Format the minor tick labels of the y-axis into empty strings with\n",
    "# `NullFormatter`, to avoid cumbering the axis with too many labels.\n",
    "plt.gca().yaxis.set_minor_formatter(NullFormatter())\n",
    "# Adjust the subplot layout, because the logit one may take more space\n",
    "# than usual, due to y-tick labels like \"1 - 10^{-3}\"\n",
    "plt.subplots_adjust(top=1, bottom=0.0, left=0.10, right=0.95, hspace=0.25,\n",
    "                    wspace=0.35)\n",
    "\n",
    "plt.show()"
   ]
  }
 ],
 "metadata": {
  "kernelspec": {
   "display_name": "Python 3",
   "language": "python",
   "name": "python3"
  },
  "language_info": {
   "codemirror_mode": {
    "name": "ipython",
    "version": 3
   },
   "file_extension": ".py",
   "mimetype": "text/x-python",
   "name": "python",
   "nbconvert_exporter": "python",
   "pygments_lexer": "ipython3",
   "version": "3.6.6"
  }
 },
 "nbformat": 4,
 "nbformat_minor": 2
}
