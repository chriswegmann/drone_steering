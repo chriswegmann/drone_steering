{
 "cells": [
  {
   "cell_type": "markdown",
   "metadata": {},
   "source": [
    "# 1) Data Prep"
   ]
  },
  {
   "cell_type": "code",
   "execution_count": 1,
   "metadata": {},
   "outputs": [],
   "source": [
    "import numpy as np\n",
    "import pandas as pd\n",
    "import warnings\n",
    "warnings.filterwarnings(\"ignore\")"
   ]
  },
  {
   "cell_type": "code",
   "execution_count": 3,
   "metadata": {},
   "outputs": [
    {
     "name": "stdout",
     "output_type": "stream",
     "text": [
      "0 C:\\Users\\p.schambach\\Desktop\\DSR\\drone_steering\\models\\playground\n",
      "1 C:\\Users\\p.schambach\\Desktop\\DSR\\drone_steering\\models\n",
      "2 C:\\Users\\p.schambach\\Desktop\\DSR\\drone_steering\n"
     ]
    }
   ],
   "source": [
    "import os\n",
    "cwd = os.getcwd()\n",
    "\n",
    "counter = 0\n",
    "print(counter, cwd)\n",
    "while not cwd.endswith(\"drone_steering\") and counter < 10:\n",
    "    os.chdir('..')\n",
    "    cwd = os.getcwd()\n",
    "    counter = counter + 1\n",
    "    print(counter, cwd)"
   ]
  },
  {
   "cell_type": "markdown",
   "metadata": {},
   "source": [
    "## a) Data loading"
   ]
  },
  {
   "cell_type": "code",
   "execution_count": null,
   "metadata": {},
   "outputs": [],
   "source": [
    "from app_local.module import DataEnsembler, GestureTransformer\n",
    "\n",
    "de = DataEnsembler(120)\n",
    "de.investigate_available_datafiles(data_dir='data/gesture/',is_frame_based=True)\n",
    "de.load_data()"
   ]
  },
  {
   "cell_type": "markdown",
   "metadata": {},
   "source": [
    "## b) Data rescaling to actual video length"
   ]
  },
  {
   "cell_type": "code",
   "execution_count": 4,
   "metadata": {},
   "outputs": [
    {
     "name": "stdout",
     "output_type": "stream",
     "text": [
      "Current Index: 0\n",
      "Calling DataFrameInterpolator.scaleDataFrame method with current length 66290.0 and actual length 68677\n",
      "Using 'avg' to calculate new time of first frame: 0.0 ==> 106\n",
      "Current Index: 1\n",
      "Calling DataFrameInterpolator.scaleDataFrame method with current length 60562.0 and actual length 63117\n",
      "Using 'avg' to calculate new time of first frame: 0.0 ==> 112\n",
      "Current Index: 2\n",
      "Calling DataFrameInterpolator.scaleDataFrame method with current length 63629.0 and actual length 64048\n",
      "Using 'avg' to calculate new time of first frame: 0.0 ==> 123\n",
      "Current Index: 3\n",
      "Calling DataFrameInterpolator.scaleDataFrame method with current length 69924.0 and actual length 70576\n",
      "Using 'avg' to calculate new time of first frame: 0.0 ==> 104\n",
      "Current Index: 4\n",
      "Calling DataFrameInterpolator.scaleDataFrame method with current length 62303 and actual length 62915\n",
      "Using 'avg' to calculate new time of first frame: 0 ==> 118\n",
      "Current Index: 5\n",
      "Calling DataFrameInterpolator.scaleDataFrame method with current length 63629 and actual length 64248\n",
      "Using 'avg' to calculate new time of first frame: 0 ==> 131\n",
      "Current Index: 6\n",
      "Calling DataFrameInterpolator.scaleDataFrame method with current length 66095.0 and actual length 66712\n",
      "Using 'avg' to calculate new time of first frame: 0.0 ==> 106\n",
      "Current Index: 7\n",
      "Calling DataFrameInterpolator.scaleDataFrame method with current length 62870.0 and actual length 63482\n",
      "Using 'avg' to calculate new time of first frame: 1.0 ==> 137\n",
      "Current Index: 8\n",
      "Calling DataFrameInterpolator.scaleDataFrame method with current length 63666.0 and actual length 64547\n",
      "Using 'avg' to calculate new time of first frame: 0.0 ==> 125\n",
      "Current Index: 9\n",
      "Calling DataFrameInterpolator.scaleDataFrame method with current length 63556.0 and actual length 64114\n",
      "Using 'avg' to calculate new time of first frame: 0.0 ==> 128\n",
      "Current Index: 10\n",
      "Calling DataFrameInterpolator.scaleDataFrame method with current length 68204.0 and actual length 68994\n",
      "Using 'avg' to calculate new time of first frame: 0.0 ==> 133\n",
      "Current Index: 11\n",
      "Calling DataFrameInterpolator.scaleDataFrame method with current length 60163 and actual length 61750\n",
      "Using 'avg' to calculate new time of first frame: 0 ==> 132\n",
      "Current Index: 12\n",
      "Calling DataFrameInterpolator.scaleDataFrame method with current length 63915 and actual length 64814\n",
      "Using 'avg' to calculate new time of first frame: 0 ==> 132\n",
      "Current Index: 13\n",
      "Calling DataFrameInterpolator.scaleDataFrame method with current length 61139.0 and actual length 62482\n",
      "Using 'avg' to calculate new time of first frame: 0.0 ==> 107\n",
      "Current Index: 14\n",
      "Calling DataFrameInterpolator.scaleDataFrame method with current length 60053.0 and actual length 61017\n",
      "Using 'avg' to calculate new time of first frame: 0.0 ==> 105\n",
      "Current Index: 15\n",
      "Calling DataFrameInterpolator.scaleDataFrame method with current length 61599.0 and actual length 62982\n",
      "Using 'avg' to calculate new time of first frame: 0.0 ==> 108\n",
      "Current Index: 16\n",
      "Calling DataFrameInterpolator.scaleDataFrame method with current length 61670.0 and actual length 65180\n",
      "Using 'avg' to calculate new time of first frame: 0.0 ==> 110\n",
      "Current Index: 17\n",
      "Calling DataFrameInterpolator.scaleDataFrame method with current length 61086.0 and actual length 61750\n",
      "Using 'avg' to calculate new time of first frame: 0.0 ==> 110\n",
      "Current Index: 18\n",
      "Calling DataFrameInterpolator.scaleDataFrame method with current length 62922.0 and actual length 63515\n",
      "Using 'avg' to calculate new time of first frame: 0.0 ==> 111\n",
      "Current Index: 19\n",
      "Calling DataFrameInterpolator.scaleDataFrame method with current length 69928.0 and actual length 70709\n",
      "Using 'avg' to calculate new time of first frame: 0.0 ==> 110\n",
      "Current Index: 20\n",
      "Calling DataFrameInterpolator.scaleDataFrame method with current length 72651.0 and actual length 73274\n",
      "Using 'avg' to calculate new time of first frame: 0.0 ==> 113\n",
      "Current Index: 21\n",
      "Calling DataFrameInterpolator.scaleDataFrame method with current length 69061.0 and actual length 70244\n",
      "Using 'avg' to calculate new time of first frame: 0.0 ==> 113\n",
      "Current Index: 22\n",
      "Calling DataFrameInterpolator.scaleDataFrame method with current length 54506.0 and actual length 53356\n",
      "Using 'avg' to calculate new time of first frame: 0.0 ==> 114\n",
      "Current Index: 23\n",
      "Calling DataFrameInterpolator.scaleDataFrame method with current length 60680.0 and actual length 69011\n",
      "Using 'avg' to calculate new time of first frame: 0.0 ==> 114\n",
      "Current Index: 24\n",
      "Calling DataFrameInterpolator.scaleDataFrame method with current length 104692.0 and actual length 105258\n",
      "Using 'avg' to calculate new time of first frame: 0.0 ==> 111\n",
      "Current Index: 25\n",
      "Calling DataFrameInterpolator.scaleDataFrame method with current length 63608.0 and actual length 69410\n",
      "Using 'avg' to calculate new time of first frame: 0.0 ==> 113\n",
      "Current Index: 26\n",
      "Calling DataFrameInterpolator.scaleDataFrame method with current length 65414.0 and actual length 65980\n",
      "Using 'avg' to calculate new time of first frame: 0.0 ==> 115\n",
      "Current Index: 27\n",
      "Calling DataFrameInterpolator.scaleDataFrame method with current length 60407.0 and actual length 61317\n",
      "Using 'avg' to calculate new time of first frame: 0.0 ==> 115\n",
      "Current Index: 28\n",
      "Calling DataFrameInterpolator.scaleDataFrame method with current length 62639.0 and actual length 63448\n",
      "Using 'avg' to calculate new time of first frame: 0.0 ==> 128\n",
      "Current Index: 29\n",
      "Calling DataFrameInterpolator.scaleDataFrame method with current length 60658.0 and actual length 61217\n",
      "Using 'avg' to calculate new time of first frame: 0.0 ==> 112\n",
      "Current Index: 30\n",
      "Calling DataFrameInterpolator.scaleDataFrame method with current length 77498.0 and actual length 78103\n",
      "Using 'avg' to calculate new time of first frame: 0.0 ==> 132\n",
      "Current Index: 31\n",
      "Calling DataFrameInterpolator.scaleDataFrame method with current length 64669.0 and actual length 65647\n",
      "Using 'avg' to calculate new time of first frame: 0.0 ==> 128\n",
      "Current Index: 32\n",
      "Calling DataFrameInterpolator.scaleDataFrame method with current length 67195 and actual length 68444\n",
      "Using 'avg' to calculate new time of first frame: 0 ==> 134\n",
      "Current Index: 33\n",
      "Calling DataFrameInterpolator.scaleDataFrame method with current length 61528 and actual length 62383\n",
      "Using 'avg' to calculate new time of first frame: 0 ==> 142\n"
     ]
    }
   ],
   "source": [
    "de.rescale_data_frames(time_of_first_frame='avg',verbose=True)"
   ]
  },
  {
   "cell_type": "markdown",
   "metadata": {},
   "source": [
    "## c) Interpolate and adjust framebased labels"
   ]
  },
  {
   "cell_type": "code",
   "execution_count": 5,
   "metadata": {},
   "outputs": [
    {
     "name": "stdout",
     "output_type": "stream",
     "text": [
      "\n",
      "Rescaling Feature Timesteps & Framebased Labels:\n",
      "0: features_flip_c_01_120.csv \t labels_flip_c_01.csv\n",
      "\tBefore --> \tData Shape: (620, 18) \tLabeled Samples: 55\n",
      "\tAfter ---> \tData Shape: (1373, 17) \tLabeled Samples: 107\n",
      "\n",
      "1: features_flip_c_02_120.csv \t labels_flip_c_02.csv\n",
      "\tBefore --> \tData Shape: (536, 18) \tLabeled Samples: 37\n",
      "\tAfter ---> \tData Shape: (1261, 17) \tLabeled Samples: 69\n",
      "\n",
      "2: features_flip_c_03_120.csv \t labels_flip_c_03.csv\n",
      "\tBefore --> \tData Shape: (515, 18) \tLabeled Samples: 59\n",
      "\tAfter ---> \tData Shape: (1280, 17) \tLabeled Samples: 127\n",
      "\n",
      "3: features_flip_l_01_120.csv \t labels_flip_l_01.csv\n",
      "\tBefore --> \tData Shape: (667, 18) \tLabeled Samples: 135\n",
      "\tAfter ---> \tData Shape: (1411, 17) \tLabeled Samples: 269\n",
      "\n",
      "4: features_flip_l_02_120.csv \t labels_flip_l_02.csv\n",
      "\tBefore --> \tData Shape: (525, 18) \tLabeled Samples: 95\n",
      "\tAfter ---> \tData Shape: (1257, 17) \tLabeled Samples: 208\n",
      "\n",
      "5: features_flip_l_03_120.csv \t labels_flip_l_03.csv\n",
      "\tBefore --> \tData Shape: (483, 18) \tLabeled Samples: 90\n",
      "\tAfter ---> \tData Shape: (1284, 17) \tLabeled Samples: 212\n",
      "\n",
      "6: features_flip_p_01_120.csv \t labels_flip_p_01.csv\n",
      "\tBefore --> \tData Shape: (618, 18) \tLabeled Samples: 88\n",
      "\tAfter ---> \tData Shape: (1334, 17) \tLabeled Samples: 173\n",
      "\n",
      "7: features_land_c_01_120.csv \t labels_land_c_01.csv\n",
      "\tBefore --> \tData Shape: (457, 18) \tLabeled Samples: 83\n",
      "\tAfter ---> \tData Shape: (1268, 17) \tLabeled Samples: 216\n",
      "\n",
      "8: features_land_c_02_120.csv \t labels_land_c_02.csv\n",
      "\tBefore --> \tData Shape: (507, 18) \tLabeled Samples: 70\n",
      "\tAfter ---> \tData Shape: (1290, 17) \tLabeled Samples: 162\n",
      "\n",
      "9: features_land_c_03_120.csv \t labels_land_c_03.csv\n",
      "\tBefore --> \tData Shape: (493, 18) \tLabeled Samples: 74\n",
      "\tAfter ---> \tData Shape: (1281, 17) \tLabeled Samples: 177\n",
      "\n",
      "10: features_land_l_01_120.csv \t labels_land_l_01.csv\n",
      "\tBefore --> \tData Shape: (509, 18) \tLabeled Samples: 85\n",
      "\tAfter ---> \tData Shape: (1379, 17) \tLabeled Samples: 214\n",
      "\n",
      "11: features_land_l_02_120.csv \t labels_land_l_02.csv\n",
      "\tBefore --> \tData Shape: (453, 18) \tLabeled Samples: 63\n",
      "\tAfter ---> \tData Shape: (1234, 17) \tLabeled Samples: 156\n",
      "\n",
      "12: features_land_l_03_120.csv \t labels_land_l_03.csv\n",
      "\tBefore --> \tData Shape: (483, 18) \tLabeled Samples: 86\n",
      "\tAfter ---> \tData Shape: (1295, 17) \tLabeled Samples: 216\n",
      "\n",
      "13: features_left_c_01_120.csv \t labels_left_c_01.csv\n",
      "\tBefore --> \tData Shape: (568, 18) \tLabeled Samples: 71\n",
      "\tAfter ---> \tData Shape: (1249, 17) \tLabeled Samples: 142\n",
      "\n",
      "14: features_left_c_02_120.csv \t labels_left_c_02.csv\n",
      "\tBefore --> \tData Shape: (567, 18) \tLabeled Samples: 58\n",
      "\tAfter ---> \tData Shape: (1220, 17) \tLabeled Samples: 111\n",
      "\n",
      "15: features_left_c_03_120.csv \t labels_left_c_03.csv\n",
      "\tBefore --> \tData Shape: (566, 18) \tLabeled Samples: 55\n",
      "\tAfter ---> \tData Shape: (1259, 17) \tLabeled Samples: 105\n",
      "\n",
      "16: features_left_l_01_120.csv \t labels_left_l_01.csv\n",
      "\tBefore --> \tData Shape: (558, 18) \tLabeled Samples: 45\n",
      "\tAfter ---> \tData Shape: (1303, 17) \tLabeled Samples: 94\n",
      "\n",
      "17: features_left_l_02_120.csv \t labels_left_l_02.csv\n",
      "\tBefore --> \tData Shape: (552, 18) \tLabeled Samples: 69\n",
      "\tAfter ---> \tData Shape: (1234, 17) \tLabeled Samples: 137\n",
      "\n",
      "18: features_left_l_03_120.csv \t labels_left_l_03.csv\n",
      "\tBefore --> \tData Shape: (566, 18) \tLabeled Samples: 60\n",
      "\tAfter ---> \tData Shape: (1270, 17) \tLabeled Samples: 121\n",
      "\n",
      "19: features_move_c_01_120.csv \t labels_move_c_01.csv\n",
      "\tBefore --> \tData Shape: (633, 18) \tLabeled Samples: 57\n",
      "\tAfter ---> \tData Shape: (1413, 17) \tLabeled Samples: 104\n",
      "\n",
      "20: features_move_l_01_120.csv \t labels_move_l_01.csv\n",
      "\tBefore --> \tData Shape: (638, 18) \tLabeled Samples: 150\n",
      "\tAfter ---> \tData Shape: (1465, 17) \tLabeled Samples: 320\n",
      "\n",
      "21: features_move_p_01_120.csv \t labels_move_p_01.csv\n",
      "\tBefore --> \tData Shape: (607, 18) \tLabeled Samples: 115\n",
      "\tAfter ---> \tData Shape: (1404, 17) \tLabeled Samples: 246\n",
      "\n",
      "22: features_none_p_01_120.csv \t labels_none.csv\n",
      "\tBefore --> \tData Shape: (477, 18) \tLabeled Samples: 0\n",
      "\tAfter ---> \tData Shape: (1066, 17) \tLabeled Samples: 0.0\n",
      "\n",
      "23: features_right_c_01_120.csv \t labels_right_c_01.csv\n",
      "\tBefore --> \tData Shape: (531, 18) \tLabeled Samples: 64\n",
      "\tAfter ---> \tData Shape: (1379, 17) \tLabeled Samples: 146\n",
      "\n",
      "24: features_right_c_02_120.csv \t labels_right_c_02.csv\n",
      "\tBefore --> \tData Shape: (940, 18) \tLabeled Samples: 118\n",
      "\tAfter ---> \tData Shape: (2104, 17) \tLabeled Samples: 239\n",
      "\n",
      "25: features_right_l_01_120.csv \t labels_right_l_01.csv\n",
      "\tBefore --> \tData Shape: (562, 18) \tLabeled Samples: 47\n",
      "\tAfter ---> \tData Shape: (1387, 17) \tLabeled Samples: 99\n",
      "\n",
      "26: features_right_l_02_120.csv \t labels_right_l_02.csv\n",
      "\tBefore --> \tData Shape: (564, 18) \tLabeled Samples: 67\n",
      "\tAfter ---> \tData Shape: (1319, 17) \tLabeled Samples: 137\n",
      "\n",
      "27: features_right_l_03_120.csv \t labels_right_l_03.csv\n",
      "\tBefore --> \tData Shape: (522, 18) \tLabeled Samples: 57\n",
      "\tAfter ---> \tData Shape: (1225, 17) \tLabeled Samples: 117\n",
      "\n",
      "28: features_takeoff_c_01_120.csv \t labels_takeoff_c_01.csv\n",
      "\tBefore --> \tData Shape: (486, 18) \tLabeled Samples: 77\n",
      "\tAfter ---> \tData Shape: (1268, 17) \tLabeled Samples: 188\n",
      "\n",
      "29: features_takeoff_c_02_120.csv \t labels_takeoff_c_02.csv\n",
      "\tBefore --> \tData Shape: (541, 18) \tLabeled Samples: 89\n",
      "\tAfter ---> \tData Shape: (1224, 17) \tLabeled Samples: 191\n",
      "\n",
      "30: features_takeoff_c_03_120.csv \t labels_takeoff_c_03.csv\n",
      "\tBefore --> \tData Shape: (586, 18) \tLabeled Samples: 97\n",
      "\tAfter ---> \tData Shape: (1561, 17) \tLabeled Samples: 232\n",
      "\n",
      "31: features_takeoff_l_01_120.csv \t labels_takeoff_l_01.csv\n",
      "\tBefore --> \tData Shape: (505, 18) \tLabeled Samples: 59\n",
      "\tAfter ---> \tData Shape: (1312, 17) \tLabeled Samples: 140\n",
      "\n",
      "32: features_takeoff_l_02_120.csv \t labels_takeoff_l_02.csv\n",
      "\tBefore --> \tData Shape: (498, 18) \tLabeled Samples: 76\n",
      "\tAfter ---> \tData Shape: (1368, 17) \tLabeled Samples: 190\n",
      "\n",
      "33: features_takeoff_l_03_120.csv \t labels_takeoff_l_03.csv\n",
      "\tBefore --> \tData Shape: (433, 18) \tLabeled Samples: 60\n",
      "\tAfter ---> \tData Shape: (1246, 17) \tLabeled Samples: 154\n",
      "\n"
     ]
    }
   ],
   "source": [
    "de.interpolate_and_convert_framebased_labels(new_frmlen=50,verbose=True)"
   ]
  },
  {
   "cell_type": "markdown",
   "metadata": {},
   "source": [
    "## d) Generate training data"
   ]
  },
  {
   "cell_type": "code",
   "execution_count": 6,
   "metadata": {},
   "outputs": [
    {
     "name": "stdout",
     "output_type": "stream",
     "text": [
      "-------------------------------------\n",
      "File ID: 0\n",
      "steps: 41\n",
      "self.data_df.shape[0]: 1373\n",
      "-------------------------------------\n",
      "File ID: 1\n",
      "steps: 41\n",
      "self.data_df.shape[0]: 1261\n",
      "-------------------------------------\n",
      "File ID: 2\n",
      "steps: 41\n",
      "self.data_df.shape[0]: 1280\n",
      "-------------------------------------\n",
      "File ID: 3\n",
      "steps: 41\n",
      "self.data_df.shape[0]: 1411\n",
      "-------------------------------------\n",
      "File ID: 4\n",
      "steps: 41\n",
      "self.data_df.shape[0]: 1257\n",
      "-------------------------------------\n",
      "File ID: 5\n",
      "steps: 41\n",
      "self.data_df.shape[0]: 1284\n",
      "-------------------------------------\n",
      "File ID: 6\n",
      "steps: 41\n",
      "self.data_df.shape[0]: 1334\n",
      "-------------------------------------\n",
      "File ID: 7\n",
      "steps: 41\n",
      "self.data_df.shape[0]: 1268\n",
      "-------------------------------------\n",
      "File ID: 8\n",
      "steps: 41\n",
      "self.data_df.shape[0]: 1290\n",
      "-------------------------------------\n",
      "File ID: 9\n",
      "steps: 41\n",
      "self.data_df.shape[0]: 1281\n",
      "-------------------------------------\n",
      "File ID: 10\n",
      "steps: 41\n",
      "self.data_df.shape[0]: 1379\n",
      "-------------------------------------\n",
      "File ID: 11\n",
      "steps: 41\n",
      "self.data_df.shape[0]: 1234\n",
      "-------------------------------------\n",
      "File ID: 12\n",
      "steps: 41\n",
      "self.data_df.shape[0]: 1295\n",
      "-------------------------------------\n",
      "File ID: 13\n",
      "steps: 41\n",
      "self.data_df.shape[0]: 1249\n",
      "-------------------------------------\n",
      "File ID: 14\n",
      "steps: 41\n",
      "self.data_df.shape[0]: 1220\n",
      "-------------------------------------\n",
      "File ID: 15\n",
      "steps: 41\n",
      "self.data_df.shape[0]: 1259\n",
      "-------------------------------------\n",
      "File ID: 16\n",
      "steps: 41\n",
      "self.data_df.shape[0]: 1303\n",
      "-------------------------------------\n",
      "File ID: 17\n",
      "steps: 41\n",
      "self.data_df.shape[0]: 1234\n",
      "-------------------------------------\n",
      "File ID: 18\n",
      "steps: 41\n",
      "self.data_df.shape[0]: 1270\n",
      "-------------------------------------\n",
      "File ID: 19\n",
      "steps: 41\n",
      "self.data_df.shape[0]: 1413\n",
      "-------------------------------------\n",
      "File ID: 20\n",
      "steps: 41\n",
      "self.data_df.shape[0]: 1465\n",
      "-------------------------------------\n",
      "File ID: 21\n",
      "steps: 41\n",
      "self.data_df.shape[0]: 1404\n",
      "-------------------------------------\n",
      "File ID: 22\n",
      "steps: 41\n",
      "self.data_df.shape[0]: 1066\n",
      "-------------------------------------\n",
      "File ID: 23\n",
      "steps: 41\n",
      "self.data_df.shape[0]: 1379\n",
      "-------------------------------------\n",
      "File ID: 24\n",
      "steps: 41\n",
      "self.data_df.shape[0]: 2104\n",
      "-------------------------------------\n",
      "File ID: 25\n",
      "steps: 41\n",
      "self.data_df.shape[0]: 1387\n",
      "-------------------------------------\n",
      "File ID: 26\n",
      "steps: 41\n",
      "self.data_df.shape[0]: 1319\n",
      "-------------------------------------\n",
      "File ID: 27\n",
      "steps: 41\n",
      "self.data_df.shape[0]: 1225\n",
      "-------------------------------------\n",
      "File ID: 28\n",
      "steps: 41\n",
      "self.data_df.shape[0]: 1268\n",
      "-------------------------------------\n",
      "File ID: 29\n",
      "steps: 41\n",
      "self.data_df.shape[0]: 1224\n",
      "-------------------------------------\n",
      "File ID: 30\n",
      "steps: 41\n",
      "self.data_df.shape[0]: 1561\n",
      "-------------------------------------\n",
      "File ID: 31\n",
      "steps: 41\n",
      "self.data_df.shape[0]: 1312\n",
      "-------------------------------------\n",
      "File ID: 32\n",
      "steps: 41\n",
      "self.data_df.shape[0]: 1368\n",
      "-------------------------------------\n",
      "File ID: 33\n",
      "steps: 41\n",
      "self.data_df.shape[0]: 1246\n"
     ]
    }
   ],
   "source": [
    "de.assemble_data()"
   ]
  },
  {
   "cell_type": "code",
   "execution_count": 7,
   "metadata": {},
   "outputs": [
    {
     "name": "stdout",
     "output_type": "stream",
     "text": [
      "i: 0 \tshape X: (1333, 41, 16) \tshape y: (1333,) \tcount: 107\n",
      "i: 1 \tshape X: (1221, 41, 16) \tshape y: (1221,) \tcount: 69\n",
      "i: 2 \tshape X: (1240, 41, 16) \tshape y: (1240,) \tcount: 127\n",
      "i: 3 \tshape X: (1371, 41, 16) \tshape y: (1371,) \tcount: 269\n",
      "i: 4 \tshape X: (1217, 41, 16) \tshape y: (1217,) \tcount: 208\n",
      "i: 5 \tshape X: (1244, 41, 16) \tshape y: (1244,) \tcount: 212\n",
      "i: 6 \tshape X: (1294, 41, 16) \tshape y: (1294,) \tcount: 173\n",
      "i: 7 \tshape X: (1228, 41, 16) \tshape y: (1228,) \tcount: 216\n",
      "i: 8 \tshape X: (1250, 41, 16) \tshape y: (1250,) \tcount: 162\n",
      "i: 9 \tshape X: (1241, 41, 16) \tshape y: (1241,) \tcount: 177\n",
      "i: 10 \tshape X: (1339, 41, 16) \tshape y: (1339,) \tcount: 214\n",
      "i: 11 \tshape X: (1194, 41, 16) \tshape y: (1194,) \tcount: 156\n",
      "i: 12 \tshape X: (1255, 41, 16) \tshape y: (1255,) \tcount: 216\n",
      "i: 13 \tshape X: (1209, 41, 16) \tshape y: (1209,) \tcount: 142\n",
      "i: 14 \tshape X: (1180, 41, 16) \tshape y: (1180,) \tcount: 111\n",
      "i: 15 \tshape X: (1219, 41, 16) \tshape y: (1219,) \tcount: 105\n",
      "i: 16 \tshape X: (1263, 41, 16) \tshape y: (1263,) \tcount: 94\n",
      "i: 17 \tshape X: (1194, 41, 16) \tshape y: (1194,) \tcount: 137\n",
      "i: 18 \tshape X: (1230, 41, 16) \tshape y: (1230,) \tcount: 121\n",
      "i: 19 \tshape X: (1373, 41, 16) \tshape y: (1373,) \tcount: 104\n",
      "i: 20 \tshape X: (1425, 41, 16) \tshape y: (1425,) \tcount: 320\n",
      "i: 21 \tshape X: (1364, 41, 16) \tshape y: (1364,) \tcount: 246\n",
      "i: 22 \tshape X: (1026, 41, 16) \tshape y: (1026,) \tcount: 0\n",
      "i: 23 \tshape X: (1339, 41, 16) \tshape y: (1339,) \tcount: 146\n",
      "i: 24 \tshape X: (2064, 41, 16) \tshape y: (2064,) \tcount: 239\n",
      "i: 25 \tshape X: (1347, 41, 16) \tshape y: (1347,) \tcount: 99\n",
      "i: 26 \tshape X: (1279, 41, 16) \tshape y: (1279,) \tcount: 137\n",
      "i: 27 \tshape X: (1185, 41, 16) \tshape y: (1185,) \tcount: 117\n",
      "i: 28 \tshape X: (1228, 41, 16) \tshape y: (1228,) \tcount: 188\n",
      "i: 29 \tshape X: (1184, 41, 16) \tshape y: (1184,) \tcount: 191\n",
      "i: 30 \tshape X: (1521, 41, 16) \tshape y: (1521,) \tcount: 232\n",
      "i: 31 \tshape X: (1272, 41, 16) \tshape y: (1272,) \tcount: 140\n",
      "i: 32 \tshape X: (1328, 41, 16) \tshape y: (1328,) \tcount: 190\n",
      "i: 33 \tshape X: (1206, 41, 16) \tshape y: (1206,) \tcount: 154\n",
      "-----------------------------------------------------------------------------\n",
      "shape final X: (43863, 41, 16)\n",
      "number of labeled samples: 5519\n",
      "Label 0: 38344 \t87.42% of total\n",
      "Label 1: 863 \t15.64% of labeled\n",
      "Label 2: 670 \t12.14% of labeled\n",
      "Label 3: 1165 \t21.11% of labeled\n",
      "Label 4: 710 \t12.86% of labeled\n",
      "Label 5: 970 \t17.58% of labeled\n",
      "Label 6: 1141 \t20.67% of labeled\n"
     ]
    }
   ],
   "source": [
    "de.display_information()"
   ]
  },
  {
   "cell_type": "markdown",
   "metadata": {},
   "source": [
    "## e) Data normalization"
   ]
  },
  {
   "cell_type": "code",
   "execution_count": 18,
   "metadata": {},
   "outputs": [
    {
     "name": "stdout",
     "output_type": "stream",
     "text": [
      "---------------------------------------------------------\n",
      "Performing row-based transformations:\n",
      "X-Mean of Hip and Shoulders:\n",
      "\tRow-based Mean is taken over each sample and each timestep\n",
      "\tShape: (43863, 41)\n",
      "Y-Mean of Hip and Shoulders:\n",
      "\tRow-based Mean is taken over each sample and each timestep\n",
      "\tShape: (43863, 41)\n",
      "Scaling based on Hip-Shoulder distance:\n",
      "\tRow-based distance is calculated for each sample and each timestep\n",
      "\tShape: (43863, 41)\n",
      "-----------------------------------------------------\n",
      "X-Shift:\n",
      "            min   mean  median    max   std\n",
      "timestep                                   \n",
      "0         196.2  293.5   280.5  512.3  38.2\n",
      "1         196.2  293.5   280.5  512.3  38.3\n",
      "2         196.2  293.5   280.4  512.3  38.3\n",
      "3         196.2  293.5   280.4  512.3  38.3\n",
      "4         196.2  293.5   280.4  512.3  38.3\n",
      "5         196.2  293.5   280.4  512.3  38.3\n",
      "6         196.2  293.4   280.3  512.3  38.3\n",
      "7         196.2  293.4   280.3  512.3  38.3\n",
      "8         196.2  293.4   280.3  512.3  38.3\n",
      "9         196.2  293.4   280.3  512.3  38.3\n",
      "10        196.2  293.4   280.3  512.3  38.3\n",
      "11        196.2  293.3   280.3  512.3  38.3\n",
      "12        196.2  293.3   280.2  512.3  38.3\n",
      "13        196.2  293.3   280.2  512.3  38.3\n",
      "14        196.2  293.3   280.2  512.3  38.3\n",
      "15        196.2  293.3   280.2  512.3  38.3\n",
      "16        196.2  293.3   280.2  512.3  38.3\n",
      "17        196.2  293.3   280.2  512.3  38.3\n",
      "18        196.2  293.2   280.2  512.3  38.3\n",
      "19        196.2  293.2   280.2  512.3  38.3\n",
      "20        196.2  293.2   280.2  512.3  38.3\n",
      "21        196.2  293.2   280.1  512.3  38.3\n",
      "22        196.2  293.2   280.1  512.3  38.3\n",
      "23        196.2  293.2   280.1  512.3  38.3\n",
      "24        196.2  293.2   280.1  512.3  38.3\n",
      "25        196.2  293.2   280.1  512.3  38.3\n",
      "26        196.2  293.1   280.1  512.3  38.3\n",
      "27        196.2  293.1   280.1  512.3  38.3\n",
      "28        196.2  293.1   280.1  512.3  38.3\n",
      "29        196.2  293.1   280.1  512.3  38.3\n",
      "30        151.7  293.1   280.0  512.3  38.3\n",
      "31        131.1  293.1   280.0  512.3  38.3\n",
      "32        131.1  293.1   280.0  512.3  38.3\n",
      "33        131.1  293.1   280.0  512.3  38.3\n",
      "34        131.1  293.1   280.0  512.3  38.3\n",
      "35        131.1  293.0   280.0  512.3  38.3\n",
      "36        131.1  293.0   280.0  512.3  38.4\n",
      "37        131.1  293.0   280.0  512.3  38.4\n",
      "38        131.1  293.0   280.0  512.3  38.4\n",
      "39        131.1  293.0   280.0  512.3  38.4\n",
      "40        131.1  293.0   280.0  512.3  38.4\n",
      "-----------------------------------------------------\n",
      "Y-Shift:\n",
      "            min   mean  median    max   std\n",
      "timestep                                   \n",
      "0         135.7  210.8   212.8  269.0  19.4\n",
      "1         135.2  210.8   212.8  269.0  19.4\n",
      "2         135.2  210.8   212.8  268.6  19.4\n",
      "3         135.2  210.8   212.8  267.8  19.4\n",
      "4         135.0  210.8   212.8  266.8  19.4\n",
      "5         134.9  210.8   212.8  265.8  19.4\n",
      "6         134.9  210.8   212.9  264.9  19.4\n",
      "7         134.9  210.8   212.9  264.9  19.4\n",
      "8         134.9  210.8   212.9  264.9  19.4\n",
      "9         134.9  210.8   212.9  264.9  19.4\n",
      "10        134.9  210.9   212.9  264.9  19.4\n",
      "11        134.9  210.9   212.9  264.9  19.4\n",
      "12        134.9  210.9   212.9  264.9  19.4\n",
      "13        134.9  210.9   212.9  264.9  19.4\n",
      "14        134.9  210.9   212.9  264.9  19.4\n",
      "15        134.9  210.9   212.9  264.9  19.4\n",
      "16        134.9  210.9   212.9  318.8  19.4\n",
      "17        134.9  210.9   212.9  458.7  19.5\n",
      "18        134.9  210.9   212.9  495.5  19.5\n",
      "19        134.9  210.9   212.9  495.5  19.6\n",
      "20        134.9  210.9   212.9  495.5  19.6\n",
      "21        134.9  210.9   212.9  495.5  19.6\n",
      "22        134.9  210.9   212.9  495.5  19.7\n",
      "23        134.9  210.9   212.9  495.5  19.7\n",
      "24        134.9  210.9   212.9  495.5  19.8\n",
      "25        134.9  211.0   212.9  495.5  19.8\n",
      "26        134.9  211.0   212.9  495.5  19.8\n",
      "27        134.9  211.0   212.9  495.5  19.9\n",
      "28        134.9  211.0   212.9  495.5  19.9\n",
      "29        134.9  211.0   212.9  495.5  19.9\n",
      "30        134.9  211.0   213.0  495.5  20.0\n",
      "31        134.9  211.0   213.0  495.5  20.0\n",
      "32        134.9  211.0   213.0  495.5  20.1\n",
      "33        134.9  211.0   213.0  495.5  20.1\n",
      "34        134.9  211.0   213.0  495.5  20.1\n",
      "35        134.9  211.0   213.0  495.5  20.2\n",
      "36        134.9  211.0   213.0  495.5  20.2\n",
      "37        134.9  211.0   212.9  495.5  20.3\n",
      "38        134.9  211.0   212.9  495.5  20.3\n",
      "39        134.9  211.0   212.9  495.5  20.3\n",
      "40        134.9  211.0   212.9  495.5  20.4\n",
      "-----------------------------------------------------\n",
      "Scaling-Diff:\n",
      "            min   mean  median   max  std\n",
      "timestep                                 \n",
      "0        -134.3 -105.1  -106.0 -72.7  8.1\n",
      "1        -134.3 -105.1  -106.0 -72.7  8.1\n",
      "2        -134.3 -105.1  -106.0 -72.7  8.1\n",
      "3        -134.3 -105.1  -106.0 -72.7  8.1\n",
      "4        -134.3 -105.1  -106.0 -72.7  8.1\n",
      "5        -134.3 -105.1  -106.0 -72.7  8.1\n",
      "6        -134.3 -105.1  -106.0 -72.7  8.1\n",
      "7        -134.3 -105.1  -106.0 -72.7  8.1\n",
      "8        -134.3 -105.1  -106.0 -72.7  8.1\n",
      "9        -134.3 -105.1  -106.0 -72.7  8.1\n",
      "10       -134.3 -105.1  -106.0 -72.7  8.1\n",
      "11       -134.3 -105.1  -106.0 -72.7  8.1\n",
      "12       -134.3 -105.1  -106.0 -72.7  8.1\n",
      "13       -134.3 -105.1  -105.9 -72.7  8.1\n",
      "14       -134.3 -105.1  -105.9 -72.7  8.1\n",
      "15       -134.3 -105.1  -105.9 -72.7  8.1\n",
      "16       -134.3 -105.0  -105.9 -66.7  8.1\n",
      "17       -134.3 -105.0  -105.9 -54.5  8.1\n",
      "18       -134.3 -105.0  -105.9 -41.9  8.1\n",
      "19       -134.3 -105.0  -105.9 -33.3  8.1\n",
      "20       -134.3 -105.0  -105.9 -33.3  8.1\n",
      "21       -134.3 -105.0  -105.9 -33.3  8.2\n",
      "22       -134.3 -105.0  -105.9 -33.3  8.2\n",
      "23       -134.3 -105.0  -105.9 -33.3  8.2\n",
      "24       -134.3 -105.0  -105.9 -33.3  8.2\n",
      "25       -134.3 -105.0  -105.9 -33.3  8.2\n",
      "26       -134.3 -105.0  -105.9 -33.3  8.2\n",
      "27       -134.3 -105.0  -105.9 -33.3  8.2\n",
      "28       -134.3 -105.0  -105.9 -33.3  8.2\n",
      "29       -134.3 -105.0  -105.9 -33.3  8.2\n",
      "30       -134.3 -105.0  -105.9 -26.2  8.2\n",
      "31       -134.3 -105.0  -105.9 -25.0  8.2\n",
      "32       -134.3 -105.0  -105.9 -25.0  8.2\n",
      "33       -134.3 -105.0  -105.9 -25.0  8.2\n",
      "34       -134.3 -105.0  -105.9 -25.0  8.2\n",
      "35       -134.3 -105.0  -105.9 -25.0  8.2\n",
      "36       -134.3 -105.0  -105.9 -25.0  8.2\n",
      "37       -134.3 -105.0  -105.9 -25.0  8.2\n",
      "38       -134.3 -105.0  -105.9 -25.0  8.2\n",
      "39       -134.3 -105.0  -105.9 -25.0  8.2\n",
      "40       -134.3 -105.0  -105.9 -25.0  8.2\n"
     ]
    }
   ],
   "source": [
    "X = de.X.copy()\n",
    "y = de.y.copy().astype(\"int32\")\n",
    "gt = GestureTransformer(byrow=True, feature_names= list(de.feature_names))\n",
    "X = gt.transform(X, verbose = True)"
   ]
  },
  {
   "cell_type": "markdown",
   "metadata": {},
   "source": [
    "# 2) Model Training"
   ]
  },
  {
   "cell_type": "markdown",
   "metadata": {},
   "source": [
    "## a) Filtering 0-Labels"
   ]
  },
  {
   "cell_type": "code",
   "execution_count": 35,
   "metadata": {},
   "outputs": [
    {
     "name": "stdout",
     "output_type": "stream",
     "text": [
      "----- labels summary before --------------------------------\n",
      "0 750\n",
      "1 863\n",
      "2 670\n",
      "3 1165\n",
      "4 710\n",
      "5 970\n",
      "6 1141\n",
      "\n",
      "Shapes after: (6269,) (6269, 41, 16)\n",
      "\n",
      "----- labels summary after --------------------------------\n",
      "0 750\n",
      "1 863\n",
      "2 670\n",
      "3 1165\n",
      "4 710\n",
      "5 970\n",
      "6 1141\n",
      "\n"
     ]
    }
   ],
   "source": [
    "# number of 0-labels to use for traing\n",
    "n = 750\n",
    "\n",
    "\n",
    "# only select certain indeces to prevent too many 0-labeled instances\n",
    "idx = []\n",
    "for i in sorted(set(y)):\n",
    "    idx.append(np.where(np.isclose(y,i))[0])\n",
    "\n",
    "print(\"----- labels summary before --------------------------------\")\n",
    "for i in sorted(set(y)):\n",
    "    print(i,len(idx[i]))\n",
    "print(\"\")\n",
    "    \n",
    "zero_idx = np.random.choice(idx[0], n, replace=False)\n",
    "keep_idx = np.concatenate([zero_idx,idx[1],idx[2],idx[3],idx[4],idx[5],idx[6]])\n",
    "keep_idx = sorted(keep_idx)\n",
    "\n",
    "y = y[keep_idx]\n",
    "X = X[keep_idx]\n",
    "print(\"Shapes after:\",y.shape, X.shape) \n",
    "print(\"\")\n",
    "\n",
    "idx = []\n",
    "for i in sorted(set(y)):\n",
    "    idx.append(np.where(np.isclose(y,i))[0])\n",
    "\n",
    "print(\"----- labels summary after --------------------------------\")\n",
    "for i in sorted(set(y)):\n",
    "    print(i,len(idx[i]))\n",
    "print(\"\")   "
   ]
  },
  {
   "cell_type": "markdown",
   "metadata": {},
   "source": [
    "## b) OneHot-Encoding of target vector"
   ]
  },
  {
   "cell_type": "code",
   "execution_count": 27,
   "metadata": {},
   "outputs": [],
   "source": [
    "from sklearn.preprocessing import OneHotEncoder"
   ]
  },
  {
   "cell_type": "code",
   "execution_count": 38,
   "metadata": {},
   "outputs": [
    {
     "name": "stdout",
     "output_type": "stream",
     "text": [
      "<class 'sklearn.preprocessing._encoders.OneHotEncoder'>\n",
      "Before: (6269,)\n",
      "After: (6269, 7)\n"
     ]
    },
    {
     "data": {
      "text/plain": [
       "array([[0., 0., 0., 1., 0., 0., 0.],\n",
       "       [0., 0., 0., 1., 0., 0., 0.],\n",
       "       [0., 0., 0., 1., 0., 0., 0.],\n",
       "       [0., 0., 0., 1., 0., 0., 0.],\n",
       "       [0., 0., 0., 1., 0., 0., 0.]])"
      ]
     },
     "execution_count": 38,
     "metadata": {},
     "output_type": "execute_result"
    }
   ],
   "source": [
    "ohe = OneHotEncoder(sparse = False)\n",
    "print(type(ohe))\n",
    "target = ohe.fit_transform(y.reshape(-1,1))\n",
    "print(\"Before:\", y.shape)\n",
    "print(\"After:\", target.shape)\n",
    "target[0:5,:]"
   ]
  },
  {
   "cell_type": "code",
   "execution_count": 39,
   "metadata": {},
   "outputs": [
    {
     "name": "stdout",
     "output_type": "stream",
     "text": [
      "Training Data: (5015, 41, 16) (5015, 7)\n",
      "Test Data: (1254, 41, 16) (1254, 7)\n"
     ]
    }
   ],
   "source": [
    "from sklearn.model_selection import train_test_split\n",
    "x_train, x_test, y_train, y_test = train_test_split(X, target, test_size=0.2, random_state=10)\n",
    "print(\"Training Data:\", x_train.shape, y_train.shape)\n",
    "print(\"Test Data:\", x_test.shape, y_test.shape)"
   ]
  },
  {
   "cell_type": "code",
   "execution_count": 40,
   "metadata": {},
   "outputs": [],
   "source": [
    "from sklearn.ensemble import RandomForestClassifier\n",
    "from sklearn.metrics import accuracy_score\n",
    "from sklearn.model_selection import GridSearchCV"
   ]
  },
  {
   "cell_type": "code",
   "execution_count": 51,
   "metadata": {},
   "outputs": [
    {
     "name": "stderr",
     "output_type": "stream",
     "text": [
      "[Parallel(n_jobs=-1)]: Using backend ThreadingBackend with 8 concurrent workers.\n",
      "[Parallel(n_jobs=-1)]: Done  34 tasks      | elapsed:    1.3s\n",
      "[Parallel(n_jobs=-1)]: Done 100 out of 100 | elapsed:    3.6s finished\n"
     ]
    },
    {
     "data": {
      "text/plain": [
       "RandomForestClassifier(bootstrap=True, class_weight=None, criterion='gini',\n",
       "            max_depth=None, max_features='auto', max_leaf_nodes=None,\n",
       "            min_impurity_decrease=0.0, min_impurity_split=None,\n",
       "            min_samples_leaf=1, min_samples_split=2,\n",
       "            min_weight_fraction_leaf=0.0, n_estimators=100, n_jobs=-1,\n",
       "            oob_score=False, random_state=None, verbose=1,\n",
       "            warm_start=False)"
      ]
     },
     "execution_count": 51,
     "metadata": {},
     "output_type": "execute_result"
    }
   ],
   "source": [
    "model = RandomForestClassifier(\n",
    "    n_estimators = 100, # 100\n",
    "    criterion = \"gini\", # {gini, entropy}\n",
    "    max_depth = None , # None\n",
    "    n_jobs = -1,\n",
    "    verbose = 1\n",
    ")\n",
    "\n",
    "model.fit(x_train.reshape(x_train.shape[0],-1),y_train)"
   ]
  },
  {
   "cell_type": "code",
   "execution_count": 63,
   "metadata": {},
   "outputs": [
    {
     "name": "stderr",
     "output_type": "stream",
     "text": [
      "[Parallel(n_jobs=8)]: Using backend ThreadingBackend with 8 concurrent workers.\n",
      "[Parallel(n_jobs=8)]: Done  34 tasks      | elapsed:    0.0s\n",
      "[Parallel(n_jobs=8)]: Done 100 out of 100 | elapsed:    0.1s finished\n"
     ]
    },
    {
     "data": {
      "text/plain": [
       "0.0"
      ]
     },
     "execution_count": 63,
     "metadata": {},
     "output_type": "execute_result"
    }
   ],
   "source": [
    "preds = model.predict(x_train.reshape(x_train.shape[0],-1))\n",
    "(preds == y_train).all(axis = 1).sum()/y_train.shape[0]"
   ]
  },
  {
   "cell_type": "code",
   "execution_count": 64,
   "metadata": {},
   "outputs": [
    {
     "name": "stderr",
     "output_type": "stream",
     "text": [
      "[Parallel(n_jobs=8)]: Using backend ThreadingBackend with 8 concurrent workers.\n",
      "[Parallel(n_jobs=8)]: Done  34 tasks      | elapsed:    0.0s\n",
      "[Parallel(n_jobs=8)]: Done 100 out of 100 | elapsed:    0.0s finished\n"
     ]
    },
    {
     "data": {
      "text/plain": [
       "0.9409888357256778"
      ]
     },
     "execution_count": 64,
     "metadata": {},
     "output_type": "execute_result"
    }
   ],
   "source": [
    "preds = model.predict(x_test.reshape(x_test.shape[0],-1))\n",
    "(preds == y_test).all(axis = 1).sum()/y_test.shape[0]"
   ]
  },
  {
   "cell_type": "code",
   "execution_count": 70,
   "metadata": {},
   "outputs": [
    {
     "name": "stdout",
     "output_type": "stream",
     "text": [
      "{'n_estimators': [100, 500, 1000], 'max_features': [5, 10, 'sqrt'], 'max_depth': [5, 40, 75, 110, None]}\n"
     ]
    }
   ],
   "source": [
    "# Number of trees in random forest\n",
    "n_estimators = [100, 500, 1000]\n",
    "# Number of features to consider at every split\n",
    "max_features = [5, 10, 'sqrt']\n",
    "# Maximum number of levels in tree\n",
    "max_depth = [int(x) for x in np.linspace(5, 110, num = 4)]\n",
    "max_depth.append(None)\n",
    "\n",
    "# Create the random grid\n",
    "random_grid = {'randomforestclassifier__n_estimators': n_estimators,\n",
    "               'randomforestclassifier__max_features': max_features,\n",
    "               'randomforestclassifier__max_depth': max_depth,\n",
    "              }\n",
    "\n",
    "random_grid = {'n_estimators': n_estimators,\n",
    "               'max_features': max_features,\n",
    "               'max_depth': max_depth,\n",
    "              }\n",
    "\n",
    "print(random_grid)"
   ]
  },
  {
   "cell_type": "code",
   "execution_count": 71,
   "metadata": {},
   "outputs": [
    {
     "data": {
      "text/plain": [
       "dict_keys(['bootstrap', 'class_weight', 'criterion', 'max_depth', 'max_features', 'max_leaf_nodes', 'min_impurity_decrease', 'min_impurity_split', 'min_samples_leaf', 'min_samples_split', 'min_weight_fraction_leaf', 'n_estimators', 'n_jobs', 'oob_score', 'random_state', 'verbose', 'warm_start'])"
      ]
     },
     "execution_count": 71,
     "metadata": {},
     "output_type": "execute_result"
    }
   ],
   "source": [
    "model.get_params().keys()"
   ]
  },
  {
   "cell_type": "code",
   "execution_count": 73,
   "metadata": {},
   "outputs": [
    {
     "name": "stdout",
     "output_type": "stream",
     "text": [
      "Fitting 3 folds for each of 45 candidates, totalling 135 fits\n"
     ]
    },
    {
     "name": "stderr",
     "output_type": "stream",
     "text": [
      "[Parallel(n_jobs=-1)]: Using backend LokyBackend with 8 concurrent workers.\n",
      "[Parallel(n_jobs=-1)]: Done   2 tasks      | elapsed:    7.3s\n",
      "[Parallel(n_jobs=-1)]: Done   9 tasks      | elapsed:   19.0s\n",
      "[Parallel(n_jobs=-1)]: Done  16 tasks      | elapsed:   39.6s\n",
      "[Parallel(n_jobs=-1)]: Done  25 tasks      | elapsed:  1.2min\n",
      "[Parallel(n_jobs=-1)]: Done  34 tasks      | elapsed:  1.7min\n",
      "[Parallel(n_jobs=-1)]: Done  45 tasks      | elapsed:  2.7min\n",
      "[Parallel(n_jobs=-1)]: Done  56 tasks      | elapsed:  4.0min\n",
      "[Parallel(n_jobs=-1)]: Done  69 tasks      | elapsed:  4.9min\n",
      "[Parallel(n_jobs=-1)]: Done  82 tasks      | elapsed:  6.4min\n",
      "[Parallel(n_jobs=-1)]: Done  97 tasks      | elapsed:  7.5min\n",
      "[Parallel(n_jobs=-1)]: Done 112 tasks      | elapsed:  9.4min\n",
      "[Parallel(n_jobs=-1)]: Done 135 out of 135 | elapsed: 11.8min finished\n",
      "[Parallel(n_jobs=-1)]: Using backend ThreadingBackend with 8 concurrent workers.\n",
      "[Parallel(n_jobs=-1)]: Done  34 tasks      | elapsed:    1.3s\n",
      "[Parallel(n_jobs=-1)]: Done 184 tasks      | elapsed:    6.7s\n",
      "[Parallel(n_jobs=-1)]: Done 434 tasks      | elapsed:   15.7s\n",
      "[Parallel(n_jobs=-1)]: Done 784 tasks      | elapsed:   27.8s\n",
      "[Parallel(n_jobs=-1)]: Done 1000 out of 1000 | elapsed:   34.9s finished\n"
     ]
    },
    {
     "data": {
      "text/plain": [
       "GridSearchCV(cv='warn', error_score='raise-deprecating',\n",
       "       estimator=RandomForestClassifier(bootstrap=True, class_weight=None, criterion='gini',\n",
       "            max_depth=None, max_features='auto', max_leaf_nodes=None,\n",
       "            min_impurity_decrease=0.0, min_impurity_split=None,\n",
       "            min_samples_leaf=1, min_samples_split=2,\n",
       "            min_weight_fraction_leaf=0.0, n_estimators=100, n_jobs=-1,\n",
       "            oob_score=False, random_state=None, verbose=1,\n",
       "            warm_start=False),\n",
       "       fit_params=None, iid='warn', n_jobs=-1,\n",
       "       param_grid={'n_estimators': [100, 500, 1000], 'max_features': [5, 10, 'sqrt'], 'max_depth': [5, 40, 75, 110, None]},\n",
       "       pre_dispatch='2*n_jobs', refit=True, return_train_score='warn',\n",
       "       scoring='accuracy', verbose=10)"
      ]
     },
     "execution_count": 73,
     "metadata": {},
     "output_type": "execute_result"
    }
   ],
   "source": [
    "params = random_grid\n",
    "scoring = \"accuracy\"\n",
    "clf = GridSearchCV(model, params, n_jobs = -1, verbose = 10, scoring = scoring)\n",
    "clf.fit(x_train.reshape(x_train.shape[0],-1),y_train)"
   ]
  },
  {
   "cell_type": "code",
   "execution_count": 75,
   "metadata": {},
   "outputs": [
    {
     "data": {
      "text/plain": [
       "dict_keys(['mean_fit_time', 'std_fit_time', 'mean_score_time', 'std_score_time', 'param_max_depth', 'param_max_features', 'param_n_estimators', 'params', 'split0_test_score', 'split1_test_score', 'split2_test_score', 'mean_test_score', 'std_test_score', 'rank_test_score', 'split0_train_score', 'split1_train_score', 'split2_train_score', 'mean_train_score', 'std_train_score'])"
      ]
     },
     "execution_count": 75,
     "metadata": {},
     "output_type": "execute_result"
    }
   ],
   "source": [
    "clf.cv_results_.keys()"
   ]
  },
  {
   "cell_type": "code",
   "execution_count": 78,
   "metadata": {},
   "outputs": [
    {
     "data": {
      "text/plain": [
       "array([0.79361914, 0.79042871, 0.79142572, 0.8221336 , 0.82313061,\n",
       "       0.8217348 , 0.84765703, 0.84526421, 0.84546361, 0.91684945,\n",
       "       0.92023928, 0.91924227, 0.92522433, 0.92522433, 0.92582253,\n",
       "       0.92681954, 0.92941176, 0.92941176, 0.91844467, 0.91864407,\n",
       "       0.91844467, 0.92542373, 0.92402792, 0.92602193, 0.92781655,\n",
       "       0.92941176, 0.92961117, 0.91744766, 0.91964108, 0.91864407,\n",
       "       0.92163509, 0.92701894, 0.92562313, 0.92881356, 0.92941176,\n",
       "       0.92981057, 0.91844467, 0.91824526, 0.91824526, 0.92342971,\n",
       "       0.92642074, 0.92542373, 0.92502493, 0.92741775, 0.92901296])"
      ]
     },
     "execution_count": 78,
     "metadata": {},
     "output_type": "execute_result"
    }
   ],
   "source": [
    "clf.cv_results_[\"mean_test_score\"]"
   ]
  },
  {
   "cell_type": "code",
   "execution_count": null,
   "metadata": {},
   "outputs": [],
   "source": []
  },
  {
   "cell_type": "code",
   "execution_count": null,
   "metadata": {},
   "outputs": [],
   "source": []
  }
 ],
 "metadata": {
  "kernelspec": {
   "display_name": "Python 3",
   "language": "python",
   "name": "python3"
  },
  "language_info": {
   "codemirror_mode": {
    "name": "ipython",
    "version": 3
   },
   "file_extension": ".py",
   "mimetype": "text/x-python",
   "name": "python",
   "nbconvert_exporter": "python",
   "pygments_lexer": "ipython3",
   "version": "3.6.6"
  }
 },
 "nbformat": 4,
 "nbformat_minor": 2
}
