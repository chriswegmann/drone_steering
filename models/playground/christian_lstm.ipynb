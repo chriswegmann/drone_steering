{
 "cells": [
  {
   "cell_type": "code",
   "execution_count": 1,
   "metadata": {},
   "outputs": [
    {
     "name": "stderr",
     "output_type": "stream",
     "text": [
      "Using TensorFlow backend.\n"
     ]
    }
   ],
   "source": [
    "import numpy as np\n",
    "import pandas as pd\n",
    "import warnings\n",
    "import matplotlib.pyplot as plt\n",
    "from keras.utils import to_categorical\n",
    "warnings.filterwarnings(\"ignore\")"
   ]
  },
  {
   "cell_type": "code",
   "execution_count": 2,
   "metadata": {},
   "outputs": [
    {
     "data": {
      "text/plain": [
       "'C:\\\\Users\\\\Christian\\\\git\\\\drone_steering\\\\models\\\\playground'"
      ]
     },
     "execution_count": 2,
     "metadata": {},
     "output_type": "execute_result"
    }
   ],
   "source": [
    "import os\n",
    "os.getcwd()"
   ]
  },
  {
   "cell_type": "code",
   "execution_count": 3,
   "metadata": {},
   "outputs": [],
   "source": [
    "os.chdir('../..')"
   ]
  },
  {
   "cell_type": "code",
   "execution_count": 4,
   "metadata": {},
   "outputs": [],
   "source": [
    "from app_local.module import DataEnsembler, LabelGenerator, GestureTransformer"
   ]
  },
  {
   "cell_type": "code",
   "execution_count": 5,
   "metadata": {},
   "outputs": [
    {
     "data": {
      "text/html": [
       "<div>\n",
       "<style scoped>\n",
       "    .dataframe tbody tr th:only-of-type {\n",
       "        vertical-align: middle;\n",
       "    }\n",
       "\n",
       "    .dataframe tbody tr th {\n",
       "        vertical-align: top;\n",
       "    }\n",
       "\n",
       "    .dataframe thead th {\n",
       "        text-align: right;\n",
       "    }\n",
       "</style>\n",
       "<table border=\"1\" class=\"dataframe\">\n",
       "  <thead>\n",
       "    <tr style=\"text-align: right;\">\n",
       "      <th></th>\n",
       "      <th>filename_features</th>\n",
       "      <th>filename_labels</th>\n",
       "    </tr>\n",
       "  </thead>\n",
       "  <tbody>\n",
       "    <tr>\n",
       "      <th>0</th>\n",
       "      <td>features_flip_c_01_120.csv</td>\n",
       "      <td>labels_flip_c_01_per_frame.csv</td>\n",
       "    </tr>\n",
       "    <tr>\n",
       "      <th>1</th>\n",
       "      <td>features_flip_c_02_120.csv</td>\n",
       "      <td>labels_flip_c_02_per_frame.csv</td>\n",
       "    </tr>\n",
       "    <tr>\n",
       "      <th>2</th>\n",
       "      <td>features_flip_c_03_120.csv</td>\n",
       "      <td>labels_flip_c_03_per_frame.csv</td>\n",
       "    </tr>\n",
       "    <tr>\n",
       "      <th>3</th>\n",
       "      <td>features_flip_l_01_120.csv</td>\n",
       "      <td>labels_flip_l_01_per_frame.csv</td>\n",
       "    </tr>\n",
       "    <tr>\n",
       "      <th>4</th>\n",
       "      <td>features_flip_l_02_120.csv</td>\n",
       "      <td>labels_flip_l_02_per_frame.csv</td>\n",
       "    </tr>\n",
       "    <tr>\n",
       "      <th>5</th>\n",
       "      <td>features_flip_p_01_120.csv</td>\n",
       "      <td>labels_flip_p_01_per_frame.csv</td>\n",
       "    </tr>\n",
       "    <tr>\n",
       "      <th>6</th>\n",
       "      <td>features_land_c_01_120.csv</td>\n",
       "      <td>labels_land_c_01_per_frame.csv</td>\n",
       "    </tr>\n",
       "    <tr>\n",
       "      <th>7</th>\n",
       "      <td>features_land_c_02_120.csv</td>\n",
       "      <td>labels_land_c_02_per_frame.csv</td>\n",
       "    </tr>\n",
       "    <tr>\n",
       "      <th>8</th>\n",
       "      <td>features_land_c_03_120.csv</td>\n",
       "      <td>labels_land_c_03_per_frame.csv</td>\n",
       "    </tr>\n",
       "    <tr>\n",
       "      <th>9</th>\n",
       "      <td>features_land_l_01_120.csv</td>\n",
       "      <td>labels_land_l_01_per_frame.csv</td>\n",
       "    </tr>\n",
       "    <tr>\n",
       "      <th>10</th>\n",
       "      <td>features_land_l_02_120.csv</td>\n",
       "      <td>labels_land_l_02_per_frame.csv</td>\n",
       "    </tr>\n",
       "    <tr>\n",
       "      <th>11</th>\n",
       "      <td>features_land_l_03_120.csv</td>\n",
       "      <td>labels_land_l_03_per_frame.csv</td>\n",
       "    </tr>\n",
       "    <tr>\n",
       "      <th>12</th>\n",
       "      <td>features_move_c_01_120.csv</td>\n",
       "      <td>labels_move_c_01_per_frame.csv</td>\n",
       "    </tr>\n",
       "    <tr>\n",
       "      <th>13</th>\n",
       "      <td>features_move_l_01_120.csv</td>\n",
       "      <td>labels_move_l_01_per_frame.csv</td>\n",
       "    </tr>\n",
       "    <tr>\n",
       "      <th>14</th>\n",
       "      <td>features_move_p_01_120.csv</td>\n",
       "      <td>labels_move_p_01_per_frame.csv</td>\n",
       "    </tr>\n",
       "    <tr>\n",
       "      <th>15</th>\n",
       "      <td>features_none_p_01_120.csv</td>\n",
       "      <td>labels_none.csv</td>\n",
       "    </tr>\n",
       "    <tr>\n",
       "      <th>16</th>\n",
       "      <td>features_takeoff_c_01_120.csv</td>\n",
       "      <td>labels_takeoff_c_01_per_frame.csv</td>\n",
       "    </tr>\n",
       "    <tr>\n",
       "      <th>17</th>\n",
       "      <td>features_takeoff_c_02_120.csv</td>\n",
       "      <td>labels_takeoff_c_02_per_frame.csv</td>\n",
       "    </tr>\n",
       "    <tr>\n",
       "      <th>18</th>\n",
       "      <td>features_takeoff_c_03_120.csv</td>\n",
       "      <td>labels_takeoff_c_03_per_frame.csv</td>\n",
       "    </tr>\n",
       "    <tr>\n",
       "      <th>19</th>\n",
       "      <td>features_takeoff_l_02_120.csv</td>\n",
       "      <td>labels_takeoff_l_02_per_frame.csv</td>\n",
       "    </tr>\n",
       "  </tbody>\n",
       "</table>\n",
       "</div>"
      ],
      "text/plain": [
       "                filename_features                    filename_labels\n",
       "0      features_flip_c_01_120.csv     labels_flip_c_01_per_frame.csv\n",
       "1      features_flip_c_02_120.csv     labels_flip_c_02_per_frame.csv\n",
       "2      features_flip_c_03_120.csv     labels_flip_c_03_per_frame.csv\n",
       "3      features_flip_l_01_120.csv     labels_flip_l_01_per_frame.csv\n",
       "4      features_flip_l_02_120.csv     labels_flip_l_02_per_frame.csv\n",
       "5      features_flip_p_01_120.csv     labels_flip_p_01_per_frame.csv\n",
       "6      features_land_c_01_120.csv     labels_land_c_01_per_frame.csv\n",
       "7      features_land_c_02_120.csv     labels_land_c_02_per_frame.csv\n",
       "8      features_land_c_03_120.csv     labels_land_c_03_per_frame.csv\n",
       "9      features_land_l_01_120.csv     labels_land_l_01_per_frame.csv\n",
       "10     features_land_l_02_120.csv     labels_land_l_02_per_frame.csv\n",
       "11     features_land_l_03_120.csv     labels_land_l_03_per_frame.csv\n",
       "12     features_move_c_01_120.csv     labels_move_c_01_per_frame.csv\n",
       "13     features_move_l_01_120.csv     labels_move_l_01_per_frame.csv\n",
       "14     features_move_p_01_120.csv     labels_move_p_01_per_frame.csv\n",
       "15     features_none_p_01_120.csv                    labels_none.csv\n",
       "16  features_takeoff_c_01_120.csv  labels_takeoff_c_01_per_frame.csv\n",
       "17  features_takeoff_c_02_120.csv  labels_takeoff_c_02_per_frame.csv\n",
       "18  features_takeoff_c_03_120.csv  labels_takeoff_c_03_per_frame.csv\n",
       "19  features_takeoff_l_02_120.csv  labels_takeoff_l_02_per_frame.csv"
      ]
     },
     "execution_count": 5,
     "metadata": {},
     "output_type": "execute_result"
    }
   ],
   "source": [
    "de = DataEnsembler(ms_per_frame=120)\n",
    "de.investigate_available_datafiles(data_dir='data/gesture/', is_frame_based = True)\n",
    "de.combined_data_files_df"
   ]
  },
  {
   "cell_type": "code",
   "execution_count": 6,
   "metadata": {},
   "outputs": [
    {
     "name": "stdout",
     "output_type": "stream",
     "text": [
      "i: 0 \tshape X: (537, 17, 16) \tshape y: (537,) \tcount: 55\n",
      "i: 1 \tshape X: (520, 17, 16) \tshape y: (520,) \tcount: 37\n",
      "i: 2 \tshape X: (499, 17, 16) \tshape y: (499,) \tcount: 59\n",
      "i: 3 \tshape X: (557, 17, 16) \tshape y: (557,) \tcount: 135\n",
      "i: 4 \tshape X: (509, 17, 16) \tshape y: (509,) \tcount: 95\n",
      "i: 5 \tshape X: (532, 17, 16) \tshape y: (532,) \tcount: 88\n",
      "i: 6 \tshape X: (441, 17, 16) \tshape y: (441,) \tcount: 83\n",
      "i: 7 \tshape X: (491, 17, 16) \tshape y: (491,) \tcount: 70\n",
      "i: 8 \tshape X: (477, 17, 16) \tshape y: (477,) \tcount: 74\n",
      "i: 9 \tshape X: (493, 17, 16) \tshape y: (493,) \tcount: 112\n",
      "i: 10 \tshape X: (437, 17, 16) \tshape y: (437,) \tcount: 63\n",
      "i: 11 \tshape X: (467, 17, 16) \tshape y: (467,) \tcount: 86\n",
      "i: 12 \tshape X: (649, 17, 16) \tshape y: (649,) \tcount: 57\n",
      "i: 13 \tshape X: (588, 17, 16) \tshape y: (588,) \tcount: 150\n",
      "i: 14 \tshape X: (565, 17, 16) \tshape y: (565,) \tcount: 115\n",
      "i: 15 \tshape X: (541, 17, 16) \tshape y: (541,) \tcount: 0\n",
      "i: 16 \tshape X: (470, 17, 16) \tshape y: (470,) \tcount: 77\n",
      "i: 17 \tshape X: (525, 17, 16) \tshape y: (525,) \tcount: 89\n",
      "i: 18 \tshape X: (570, 17, 16) \tshape y: (570,) \tcount: 97\n",
      "i: 19 \tshape X: (482, 17, 16) \tshape y: (482,) \tcount: 76\n",
      "-----------------------------------------------------------------------------\n",
      "shape final X: (10350, 17, 16)\n",
      "number of labeled samples: 1618\n"
     ]
    }
   ],
   "source": [
    "de.load_data()\n",
    "de.assemble_data(max_error=500, tolerance_range= 600)\n",
    "de.display_information()"
   ]
  },
  {
   "cell_type": "code",
   "execution_count": 7,
   "metadata": {},
   "outputs": [
    {
     "name": "stdout",
     "output_type": "stream",
     "text": [
      "---------------------------------------------------------------------\n",
      "Shapes before removal of 'no movements':\n",
      "y: (10350,)\n",
      "X: (10350, 17, 16)\n",
      "\n",
      "Labels before removal of 'no movements'\n",
      "0 8732\n",
      "1 242\n",
      "2 322\n",
      "3 469\n",
      "4 0\n",
      "5 97\n",
      "6 488\n",
      "\n",
      "---------------------------------------------------------------------\n",
      "Shapes after removal of 'no movements':\n",
      "y: (2118,)\n",
      "X: (2118, 17, 16)\n",
      "\n",
      "Labels after removal of 'no movements'\n",
      "0 500\n",
      "1 242\n",
      "2 322\n",
      "3 469\n",
      "4 0\n",
      "5 97\n",
      "6 488\n",
      "\n",
      "---------------------------------------------------------------------\n",
      "Shapes after transformation:\n",
      "y: (2118, 7)\n",
      "X: (2118, 17, 16)\n"
     ]
    }
   ],
   "source": [
    "from keras.utils import to_categorical\n",
    "\n",
    "X = de.X.copy()\n",
    "y = de.y.copy()\n",
    "\n",
    "print(\"---------------------------------------------------------------------\")\n",
    "print(\"Shapes before removal of 'no movements':\") \n",
    "print(\"y: \" + str(y.shape))\n",
    "print(\"X: \" + str(X.shape))\n",
    "print(\"\")\n",
    "\n",
    "# only select certain indices to prevent too many 0-labeled instances\n",
    "idx = []\n",
    "for i in range(7):\n",
    "    idx.append(np.where(np.isclose(y,i))[0])\n",
    "\n",
    "print(\"Labels before removal of 'no movements'\")\n",
    "for i in range(7):\n",
    "    print(i,len(idx[i]))\n",
    "print(\"\")\n",
    "    \n",
    "zero_idx = np.random.choice(idx[0], 500, replace=False)\n",
    "keep_idx = np.concatenate([zero_idx,idx[1],idx[2],idx[3],idx[4],idx[5],idx[6]])\n",
    "keep_idx = sorted(keep_idx)\n",
    "\n",
    "print(\"---------------------------------------------------------------------\")\n",
    "y = y[keep_idx]\n",
    "X = X[keep_idx]\n",
    "print(\"Shapes after removal of 'no movements':\") \n",
    "print(\"y: \" + str(y.shape))\n",
    "print(\"X: \" + str(X.shape))\n",
    "print(\"\")\n",
    "\n",
    "idx = []\n",
    "for i in range(7):\n",
    "    idx.append(np.where(np.isclose(y,i))[0])\n",
    "\n",
    "print(\"Labels after removal of 'no movements'\")\n",
    "for i in range(7):\n",
    "    print(i,len(idx[i]))\n",
    "print(\"\")    \n",
    "    \n",
    "# print(\"---------------------------------------------------------------------\")\n",
    "# print(\"Features:\")\n",
    "# print(de.LabelGenerators[0].feature_names)\n",
    "\n",
    "\n",
    "print(\"---------------------------------------------------------------------\")\n",
    "gt = GestureTransformer(feature_names = list(de.LabelGenerators[0].feature_names),byrow=True)\n",
    "X = gt.transform(X)\n",
    "\n",
    "y = to_categorical(y)\n",
    "\n",
    "print(\"Shapes after transformation:\") \n",
    "print(\"y: \" + str(y.shape))\n",
    "print(\"X: \" + str(X.shape))"
   ]
  },
  {
   "cell_type": "code",
   "execution_count": null,
   "metadata": {},
   "outputs": [],
   "source": [
    "from sklearn.model_selection import train_test_split\n",
    "X_train, X_test, y_train, y_test = train_test_split(X, y, test_size=0.2, random_state=1)"
   ]
  },
  {
   "cell_type": "code",
   "execution_count": null,
   "metadata": {},
   "outputs": [],
   "source": [
    "from keras.models import Sequential\n",
    "from keras.layers import Dense\n",
    "from keras.layers import Flatten\n",
    "from keras.layers import Dropout\n",
    "from keras.layers import LSTM"
   ]
  },
  {
   "cell_type": "code",
   "execution_count": null,
   "metadata": {},
   "outputs": [],
   "source": [
    "n_timesteps = X.shape[1] # here 17\n",
    "n_features = X.shape[2] # here 16\n",
    "n_outputs =  y.shape[1] # here 7 (number of labels)\n",
    "\n",
    "model = Sequential()\n",
    "model.add(LSTM(100, input_shape=(n_timesteps,n_features)))\n",
    "model.add(Dropout(0.4))\n",
    "model.add(Dense(100, activation='relu'))\n",
    "model.add(Dense(64, activation='relu'))\n",
    "model.add(Dense(n_outputs, activation='softmax'))\n",
    "\n",
    "model.compile(\n",
    "    loss='categorical_crossentropy', \n",
    "    optimizer='adam', \n",
    "    metrics=['accuracy']\n",
    ")\n",
    "\n",
    "model.summary()"
   ]
  },
  {
   "cell_type": "code",
   "execution_count": null,
   "metadata": {
    "scrolled": true
   },
   "outputs": [],
   "source": [
    "history = model.fit(        \n",
    "    X_train, \n",
    "    y_train, \n",
    "    epochs=50, \n",
    "    batch_size=16, \n",
    "    verbose=1\n",
    ")"
   ]
  },
  {
   "cell_type": "code",
   "execution_count": null,
   "metadata": {},
   "outputs": [],
   "source": [
    "r = range(1, len(history.history[\"acc\"]) + 1)\n",
    "\n",
    "plt.figure(figsize=(20, 5))\n",
    "\n",
    "plt.subplot(1, 2, 1)\n",
    "plt.plot(r, history.history[\"acc\"], label=\"acc\")\n",
    "plt.legend()\n",
    "plt.title(\"Accuracy\")\n",
    "\n",
    "plt.subplot(1, 2, 2)\n",
    "plt.plot(r, history.history[\"loss\"], label=\"loss\")\n",
    "plt.legend()\n",
    "plt.title(\"Loss\")\n",
    "\n",
    "plt.show()\n",
    "plt.close()"
   ]
  },
  {
   "cell_type": "code",
   "execution_count": null,
   "metadata": {},
   "outputs": [],
   "source": [
    "eval_results = np.round(model.evaluate(X_test, y_test, batch_size=16, verbose=1),2)\n",
    "print(\"Loss:     \" + str(eval_results[0]))\n",
    "print(\"Accuracy: \" + str(eval_results[1]))"
   ]
  },
  {
   "cell_type": "code",
   "execution_count": null,
   "metadata": {
    "scrolled": false
   },
   "outputs": [],
   "source": [
    "for i in range(X_test.shape[0]):\n",
    "    if (model.predict_classes(X_test[i:(i+1),:,:])[0]!=np.nonzero(y_test[i])[0][0]):\n",
    "        print(\"Index:\",i,\\\n",
    "              \"\\tPred:\",model.predict_classes(X_test[i:(i+1),:,:])[0],\\\n",
    "              \"\\tActual:\",np.nonzero(y_test[i])[0][0],\\\n",
    "              \"\\tProbability:\",round(np.max(model.predict_proba(X_test[i:(i+1),:,:])),2))"
   ]
  },
  {
   "cell_type": "code",
   "execution_count": null,
   "metadata": {
    "scrolled": false
   },
   "outputs": [],
   "source": [
    "for i in range(X_test.shape[0]):\n",
    "    if (model.predict_classes(X_test[i:(i+1),:,:])[0]==np.nonzero(y_test[i])[0][0]):\n",
    "        print(\"Index:\",i,\\\n",
    "              \"\\tPred:\",model.predict_classes(X_test[i:(i+1),:,:])[0],\\\n",
    "              \"\\tActual:\",np.nonzero(y_test[i])[0][0],\\\n",
    "              \"\\tProbability:\",round(np.max(model.predict_proba(X_test[i:(i+1),:,:])),2))"
   ]
  },
  {
   "cell_type": "code",
   "execution_count": null,
   "metadata": {},
   "outputs": [],
   "source": []
  }
 ],
 "metadata": {
  "kernelspec": {
   "display_name": "Python 3",
   "language": "python",
   "name": "python3"
  },
  "language_info": {
   "codemirror_mode": {
    "name": "ipython",
    "version": 3
   },
   "file_extension": ".py",
   "mimetype": "text/x-python",
   "name": "python",
   "nbconvert_exporter": "python",
   "pygments_lexer": "ipython3",
   "version": "3.6.6"
  }
 },
 "nbformat": 4,
 "nbformat_minor": 2
}
