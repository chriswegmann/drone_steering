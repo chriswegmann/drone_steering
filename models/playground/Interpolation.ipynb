{
 "cells": [
  {
   "cell_type": "code",
   "execution_count": 1,
   "metadata": {},
   "outputs": [],
   "source": [
    "import numpy as np\n",
    "import pandas as pd\n",
    "from scipy.interpolate import interp1d\n",
    "from warnings import filterwarnings\n",
    "filterwarnings(\"ignore\")"
   ]
  },
  {
   "cell_type": "code",
   "execution_count": 2,
   "metadata": {},
   "outputs": [
    {
     "name": "stdout",
     "output_type": "stream",
     "text": [
      "# packages in environment at C:\\ProgramData\\Anaconda3\\envs\\DataScienceRetreat:\n",
      "#\n",
      "# Name                    Version                   Build  Channel\n",
      "scipy                     1.1.0            py36h4f6bf74_1  \n"
     ]
    }
   ],
   "source": [
    "!conda list scipy"
   ]
  },
  {
   "cell_type": "code",
   "execution_count": 3,
   "metadata": {},
   "outputs": [
    {
     "name": "stdout",
     "output_type": "stream",
     "text": [
      "Orig Dir: C:\\Users\\p.schambach\\Desktop\\DSR\\drone_steering\\models\\playground\n",
      "Current Dir: C:\\Users\\p.schambach\\Desktop\\DSR\\drone_steering\n"
     ]
    }
   ],
   "source": [
    "import os\n",
    "print(\"Orig Dir:\",os.getcwd())\n",
    "os.chdir('../../')\n",
    "print(\"Current Dir:\",os.getcwd())"
   ]
  },
  {
   "cell_type": "code",
   "execution_count": 4,
   "metadata": {},
   "outputs": [],
   "source": [
    "data_path = 'data/gesture/features/features_flip_c_03_120.csv'\n",
    "df_orig = pd.read_csv(data_path,sep=',')"
   ]
  },
  {
   "cell_type": "code",
   "execution_count": 5,
   "metadata": {},
   "outputs": [
    {
     "data": {
      "text/html": [
       "<div>\n",
       "<style scoped>\n",
       "    .dataframe tbody tr th:only-of-type {\n",
       "        vertical-align: middle;\n",
       "    }\n",
       "\n",
       "    .dataframe tbody tr th {\n",
       "        vertical-align: top;\n",
       "    }\n",
       "\n",
       "    .dataframe thead th {\n",
       "        text-align: right;\n",
       "    }\n",
       "</style>\n",
       "<table border=\"1\" class=\"dataframe\">\n",
       "  <thead>\n",
       "    <tr style=\"text-align: right;\">\n",
       "      <th></th>\n",
       "      <th>leftElbow_x</th>\n",
       "      <th>leftElbow_y</th>\n",
       "      <th>leftHip_x</th>\n",
       "      <th>leftHip_y</th>\n",
       "      <th>leftShoulder_x</th>\n",
       "      <th>leftShoulder_y</th>\n",
       "      <th>leftWrist_x</th>\n",
       "      <th>leftWrist_y</th>\n",
       "      <th>ms_since_last_frame</th>\n",
       "      <th>ms_since_start</th>\n",
       "      <th>rightElbow_x</th>\n",
       "      <th>rightElbow_y</th>\n",
       "      <th>rightHip_x</th>\n",
       "      <th>rightHip_y</th>\n",
       "      <th>rightShoulder_x</th>\n",
       "      <th>rightShoulder_y</th>\n",
       "      <th>rightWrist_x</th>\n",
       "      <th>rightWrist_y</th>\n",
       "    </tr>\n",
       "  </thead>\n",
       "  <tbody>\n",
       "    <tr>\n",
       "      <th>0</th>\n",
       "      <td>341.136444</td>\n",
       "      <td>224.253407</td>\n",
       "      <td>320.787999</td>\n",
       "      <td>274.947119</td>\n",
       "      <td>329.514176</td>\n",
       "      <td>166.895228</td>\n",
       "      <td>345.275067</td>\n",
       "      <td>277.081232</td>\n",
       "      <td>0</td>\n",
       "      <td>0.0</td>\n",
       "      <td>256.999411</td>\n",
       "      <td>225.093688</td>\n",
       "      <td>281.429514</td>\n",
       "      <td>272.660262</td>\n",
       "      <td>262.775556</td>\n",
       "      <td>169.641120</td>\n",
       "      <td>253.241117</td>\n",
       "      <td>271.500238</td>\n",
       "    </tr>\n",
       "    <tr>\n",
       "      <th>1</th>\n",
       "      <td>340.985901</td>\n",
       "      <td>224.344366</td>\n",
       "      <td>320.455079</td>\n",
       "      <td>275.406629</td>\n",
       "      <td>329.389916</td>\n",
       "      <td>166.027360</td>\n",
       "      <td>345.465304</td>\n",
       "      <td>277.669048</td>\n",
       "      <td>121</td>\n",
       "      <td>121.0</td>\n",
       "      <td>256.989746</td>\n",
       "      <td>225.065718</td>\n",
       "      <td>281.315210</td>\n",
       "      <td>273.121688</td>\n",
       "      <td>262.903829</td>\n",
       "      <td>169.255270</td>\n",
       "      <td>252.963656</td>\n",
       "      <td>271.032473</td>\n",
       "    </tr>\n",
       "    <tr>\n",
       "      <th>2</th>\n",
       "      <td>339.929797</td>\n",
       "      <td>222.910622</td>\n",
       "      <td>320.485332</td>\n",
       "      <td>274.863216</td>\n",
       "      <td>328.574083</td>\n",
       "      <td>164.447614</td>\n",
       "      <td>345.679107</td>\n",
       "      <td>277.607702</td>\n",
       "      <td>124</td>\n",
       "      <td>245.0</td>\n",
       "      <td>257.143566</td>\n",
       "      <td>224.858589</td>\n",
       "      <td>281.088004</td>\n",
       "      <td>273.002894</td>\n",
       "      <td>263.136312</td>\n",
       "      <td>168.805475</td>\n",
       "      <td>253.317534</td>\n",
       "      <td>272.038940</td>\n",
       "    </tr>\n",
       "    <tr>\n",
       "      <th>3</th>\n",
       "      <td>341.394664</td>\n",
       "      <td>225.080272</td>\n",
       "      <td>323.362793</td>\n",
       "      <td>277.252602</td>\n",
       "      <td>327.161964</td>\n",
       "      <td>165.040823</td>\n",
       "      <td>345.486792</td>\n",
       "      <td>282.963012</td>\n",
       "      <td>123</td>\n",
       "      <td>368.0</td>\n",
       "      <td>256.015686</td>\n",
       "      <td>224.441979</td>\n",
       "      <td>280.673399</td>\n",
       "      <td>273.297257</td>\n",
       "      <td>262.428639</td>\n",
       "      <td>167.931032</td>\n",
       "      <td>251.685311</td>\n",
       "      <td>271.837686</td>\n",
       "    </tr>\n",
       "    <tr>\n",
       "      <th>4</th>\n",
       "      <td>341.007135</td>\n",
       "      <td>227.292845</td>\n",
       "      <td>320.850446</td>\n",
       "      <td>280.183320</td>\n",
       "      <td>326.259811</td>\n",
       "      <td>167.356121</td>\n",
       "      <td>342.353060</td>\n",
       "      <td>285.637142</td>\n",
       "      <td>119</td>\n",
       "      <td>487.0</td>\n",
       "      <td>255.963889</td>\n",
       "      <td>224.110870</td>\n",
       "      <td>280.559333</td>\n",
       "      <td>274.064114</td>\n",
       "      <td>261.804933</td>\n",
       "      <td>166.962579</td>\n",
       "      <td>253.027392</td>\n",
       "      <td>270.509372</td>\n",
       "    </tr>\n",
       "  </tbody>\n",
       "</table>\n",
       "</div>"
      ],
      "text/plain": [
       "   leftElbow_x  leftElbow_y   leftHip_x   leftHip_y  leftShoulder_x  \\\n",
       "0   341.136444   224.253407  320.787999  274.947119      329.514176   \n",
       "1   340.985901   224.344366  320.455079  275.406629      329.389916   \n",
       "2   339.929797   222.910622  320.485332  274.863216      328.574083   \n",
       "3   341.394664   225.080272  323.362793  277.252602      327.161964   \n",
       "4   341.007135   227.292845  320.850446  280.183320      326.259811   \n",
       "\n",
       "   leftShoulder_y  leftWrist_x  leftWrist_y  ms_since_last_frame  \\\n",
       "0      166.895228   345.275067   277.081232                    0   \n",
       "1      166.027360   345.465304   277.669048                  121   \n",
       "2      164.447614   345.679107   277.607702                  124   \n",
       "3      165.040823   345.486792   282.963012                  123   \n",
       "4      167.356121   342.353060   285.637142                  119   \n",
       "\n",
       "   ms_since_start  rightElbow_x  rightElbow_y  rightHip_x  rightHip_y  \\\n",
       "0             0.0    256.999411    225.093688  281.429514  272.660262   \n",
       "1           121.0    256.989746    225.065718  281.315210  273.121688   \n",
       "2           245.0    257.143566    224.858589  281.088004  273.002894   \n",
       "3           368.0    256.015686    224.441979  280.673399  273.297257   \n",
       "4           487.0    255.963889    224.110870  280.559333  274.064114   \n",
       "\n",
       "   rightShoulder_x  rightShoulder_y  rightWrist_x  rightWrist_y  \n",
       "0       262.775556       169.641120    253.241117    271.500238  \n",
       "1       262.903829       169.255270    252.963656    271.032473  \n",
       "2       263.136312       168.805475    253.317534    272.038940  \n",
       "3       262.428639       167.931032    251.685311    271.837686  \n",
       "4       261.804933       166.962579    253.027392    270.509372  "
      ]
     },
     "execution_count": 5,
     "metadata": {},
     "output_type": "execute_result"
    }
   ],
   "source": [
    "df_orig.head()"
   ]
  },
  {
   "cell_type": "code",
   "execution_count": 6,
   "metadata": {},
   "outputs": [],
   "source": [
    "from app_local.module import DataFrameInterpolator"
   ]
  },
  {
   "cell_type": "code",
   "execution_count": 7,
   "metadata": {},
   "outputs": [],
   "source": [
    "di = DataFrameInterpolator()\n",
    "di.display_information()"
   ]
  },
  {
   "cell_type": "code",
   "execution_count": 8,
   "metadata": {},
   "outputs": [
    {
     "name": "stdout",
     "output_type": "stream",
     "text": [
      "FrameLength in Milliseconds: 50 \n",
      "\n",
      "Original Time:\n",
      "\tNumber of Frames: 515\n",
      "\t [124. 245. 370. 493. 613.] ... [63542. 63671. 63795. 63922. 64048.] \n",
      "\n",
      "New Time:\n",
      "\tNumber of Frames: 1280\n",
      "\t [124 174 224 274 324] ... [63874 63924 63974 64024 64074] \n",
      "\n",
      "Original DataFrame Shape: (515, 18)\n",
      "New DataFrame Shape: (1280, 17)\n"
     ]
    }
   ],
   "source": [
    "new_df = di.scaleDataFrame(df_orig, 64048, 'avg')\n",
    "new_df = di.get_new_df(new_df, 50)\n",
    "di.display_information()"
   ]
  },
  {
   "cell_type": "code",
   "execution_count": 34,
   "metadata": {},
   "outputs": [],
   "source": [
    "from app_local.module import DataEnsembler\n",
    "de = DataEnsembler()\n",
    "\n",
    "de.investigate_available_datafiles(data_dir='data/gesture/')\n",
    "de.load_data()\n",
    "de.rescale_data_frames()\n",
    "df0 = de.data[0]"
   ]
  },
  {
   "cell_type": "code",
   "execution_count": null,
   "metadata": {},
   "outputs": [],
   "source": [
    "df0"
   ]
  },
  {
   "cell_type": "code",
   "execution_count": null,
   "metadata": {},
   "outputs": [],
   "source": [
    "from app_local.module import LabelGenerator"
   ]
  },
  {
   "cell_type": "code",
   "execution_count": null,
   "metadata": {},
   "outputs": [],
   "source": [
    "data_path = 'data/gesture/features/features_flip_p_01_120.csv'\n",
    "labels_path = 'data/gesture/labels_timebased/labels_flip_p_01.csv'\n",
    "data = pd.read_csv(data_path, sep = ',')\n",
    "raw_labels = pd.read_csv(labels_path, sep = ',')\n",
    "print(\"Data Shape:\", data.shape)\n",
    "\n",
    "di = DataFrameInterpolator()\n",
    "data = di.scaleDataFrame(df=data, actual_length_in_ms=66712, time_of_first_frame='avg')\n",
    "data.head()\n",
    "di.display_information()\n",
    "\n",
    "lgen = LabelGenerator(data=data, raw_labels=raw_labels, ms_per_frame=120)\n",
    "lgen.fit_range(50,500)\n",
    "lgen.set_labels()\n",
    "lgen.labeled_data.head()\n",
    "\n",
    "lgen.extract_training_data()\n"
   ]
  },
  {
   "cell_type": "code",
   "execution_count": null,
   "metadata": {},
   "outputs": [],
   "source": [
    "lgen.labeled_data[[\"ms_since_start\",\"label\"]].head(20)"
   ]
  },
  {
   "cell_type": "code",
   "execution_count": null,
   "metadata": {},
   "outputs": [],
   "source": [
    "lgen.sequence_end_time[lgen.y> 0]"
   ]
  },
  {
   "cell_type": "code",
   "execution_count": null,
   "metadata": {},
   "outputs": [],
   "source": [
    "2000"
   ]
  }
 ],
 "metadata": {
  "kernelspec": {
   "display_name": "Python 3",
   "language": "python",
   "name": "python3"
  },
  "language_info": {
   "codemirror_mode": {
    "name": "ipython",
    "version": 3
   },
   "file_extension": ".py",
   "mimetype": "text/x-python",
   "name": "python",
   "nbconvert_exporter": "python",
   "pygments_lexer": "ipython3",
   "version": "3.6.6"
  }
 },
 "nbformat": 4,
 "nbformat_minor": 2
}
