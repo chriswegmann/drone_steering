{
 "cells": [
  {
   "cell_type": "code",
   "execution_count": 1,
   "metadata": {},
   "outputs": [],
   "source": [
    "import numpy as np\n",
    "import pandas as pd\n",
    "from scipy.interpolate import interp1d"
   ]
  },
  {
   "cell_type": "code",
   "execution_count": 2,
   "metadata": {},
   "outputs": [
    {
     "name": "stdout",
     "output_type": "stream",
     "text": [
      "# packages in environment at C:\\ProgramData\\Anaconda3\\envs\\DataScienceRetreat:\n",
      "#\n",
      "# Name                    Version                   Build  Channel\n",
      "scipy                     1.1.0            py36h4f6bf74_1  \n"
     ]
    }
   ],
   "source": [
    "!conda list scipy"
   ]
  },
  {
   "cell_type": "code",
   "execution_count": 3,
   "metadata": {},
   "outputs": [
    {
     "name": "stdout",
     "output_type": "stream",
     "text": [
      "Orig Dir: C:\\Users\\p.schambach\\Desktop\\DSR\\drone_steering\\models\\playground\n",
      "Current Dir: C:\\Users\\p.schambach\\Desktop\\DSR\\drone_steering\n"
     ]
    }
   ],
   "source": [
    "import os\n",
    "print(\"Orig Dir:\",os.getcwd())\n",
    "os.chdir('../../')\n",
    "print(\"Current Dir:\",os.getcwd())"
   ]
  },
  {
   "cell_type": "code",
   "execution_count": 4,
   "metadata": {},
   "outputs": [],
   "source": [
    "#C:\\Users\\p.schambach\\Desktop\\DSR\\drone_steering\\data\\archive\\gesture_original\\features_flip_c_03_120.csv\n",
    "data_path = 'data/archive/gesture_original/features_flip_c_03_120.csv'\n",
    "df_orig = pd.read_csv(data_path,sep=',')"
   ]
  },
  {
   "cell_type": "code",
   "execution_count": 5,
   "metadata": {},
   "outputs": [],
   "source": [
    "from app_local.module import DataFrameInterpolator"
   ]
  },
  {
   "cell_type": "code",
   "execution_count": 6,
   "metadata": {},
   "outputs": [
    {
     "name": "stdout",
     "output_type": "stream",
     "text": [
      "FrameLength in Milliseconds: 37 \n",
      "\n",
      "Original Time:\n",
      "\tNumber of Frames: 515\n",
      "\t [  0. 121. 245. 368. 487.] ... [63125. 63254. 63377. 63504. 63629.] \n",
      "\n",
      "New Time:\n",
      "\tNumber of Frames: 1721\n",
      "\t [  0  37  74 111 148] ... [63492 63529 63566 63603 63640] \n",
      "\n",
      "Original DataFrame Shape: (515, 18)\n",
      "New DataFrame Shape: (1721, 17)\n"
     ]
    }
   ],
   "source": [
    "di = DataFrameInterpolator()\n",
    "di.display_information()\n",
    "new_df = di.get_new_df(df_orig, 37)\n",
    "di.display_information()"
   ]
  }
 ],
 "metadata": {
  "kernelspec": {
   "display_name": "Python 3",
   "language": "python",
   "name": "python3"
  },
  "language_info": {
   "codemirror_mode": {
    "name": "ipython",
    "version": 3
   },
   "file_extension": ".py",
   "mimetype": "text/x-python",
   "name": "python",
   "nbconvert_exporter": "python",
   "pygments_lexer": "ipython3",
   "version": "3.6.6"
  }
 },
 "nbformat": 4,
 "nbformat_minor": 2
}
