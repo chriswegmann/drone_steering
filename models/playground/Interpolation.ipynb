{
 "cells": [
  {
   "cell_type": "code",
   "execution_count": 1,
   "metadata": {},
   "outputs": [],
   "source": [
    "import numpy as np\n",
    "import pandas as pd\n",
    "from scipy.interpolate import interp1d"
   ]
  },
  {
   "cell_type": "code",
   "execution_count": 2,
   "metadata": {},
   "outputs": [
    {
     "name": "stdout",
     "output_type": "stream",
     "text": [
      "# packages in environment at C:\\ProgramData\\Anaconda3\\envs\\DataScienceRetreat:\n",
      "#\n",
      "# Name                    Version                   Build  Channel\n",
      "scipy                     1.1.0            py36h4f6bf74_1  \n"
     ]
    }
   ],
   "source": [
    "!conda list scipy"
   ]
  },
  {
   "cell_type": "code",
   "execution_count": 52,
   "metadata": {},
   "outputs": [],
   "source": [
    "#C:\\Users\\p.schambach\\Desktop\\DSR\\drone_steering\\data\\archive\\gesture_original\\features_flip_c_03_120.csv\n",
    "data_path = '../../data/archive/gesture_original/features_flip_c_03_120.csv'\n",
    "df_orig = pd.read_csv(data_path,sep=',')"
   ]
  },
  {
   "cell_type": "code",
   "execution_count": 55,
   "metadata": {},
   "outputs": [],
   "source": [
    "class DataFrameInterpolator():\n",
    "    \n",
    "    def __init__(self):\n",
    "        self.__can_display = False\n",
    "    \n",
    "    def get_new_df(self, df, frmlen):\n",
    "        \n",
    "        self.__can_display = False\n",
    "        self.__get_new_t(df, frmlen)\n",
    "        self.__get_interpolation_functions(df)\n",
    "        self.new_df = self.__create_new_df()    \n",
    "        self.__can_display = True\n",
    "        \n",
    "        return self.new_df\n",
    "    \n",
    "    \n",
    "    def __get_new_t(self, df, frmlen):\n",
    "        \n",
    "        self.frmlen = frmlen\n",
    "        self.__orig_shape = df.shape\n",
    "        self.t = df[\"ms_since_start\"].values\n",
    "        \n",
    "        t_min, t_max  = int(self.t[0]), int(self.t[-1])\n",
    "        diff = t_max - t_min\n",
    "        \n",
    "        if diff % frmlen == 0:\n",
    "            num_frames = diff // frmlen \n",
    "        else:\n",
    "            num_frames = diff // frmlen + 1\n",
    "            \n",
    "        self.t_new = np.arange(num_frames+1) * frmlen + t_min\n",
    "        \n",
    "\n",
    "        \n",
    "    def __get_interpolation_functions(self, df):\n",
    "        \n",
    "        self.features = list(df.filter(regex = '_(x|y)$', axis = 1).columns)\n",
    "        self.cubic_interpolation_functions = {}\n",
    "\n",
    "        for feat in self.features:\n",
    "            f = df[feat].values\n",
    "    \n",
    "            cub_f = interp1d(\n",
    "                self.t, f, \n",
    "                kind = 'cubic', \n",
    "                fill_value = (f[0],f[-1]), \n",
    "                bounds_error = False,\n",
    "                assume_sorted=True\n",
    "            )\n",
    "        \n",
    "            self.cubic_interpolation_functions[feat] = cub_f\n",
    "            \n",
    "            \n",
    "     \n",
    "    def __create_new_df(self):\n",
    "        new_df = pd.DataFrame(columns=self.features)\n",
    "        new_df[\"ms_since_start\"] = self.t_new\n",
    "\n",
    "        for feat in self.features:\n",
    "            new_df[feat] = self.cubic_interpolation_functions[feat](self.t_new)\n",
    "            \n",
    "        return new_df\n",
    "    \n",
    "    def display_information(self):\n",
    "        if self.__can_display:\n",
    "            print(\"FrameLength in Milliseconds:\", self.frmlen,'\\n')\n",
    "            print(\"Original Time:\")\n",
    "            print(\"\\tNumber of Frames:\", len(self.t))\n",
    "            print(\"\\t\",self.t[0:5],\"...\",self.t[-5:], '\\n')\n",
    "            print(\"New Time:\")\n",
    "            print(\"\\tNumber of Frames:\", len(self.t_new))\n",
    "            print(\"\\t\",self.t_new[0:5],\"...\",self.t_new[-5:],'\\n')\n",
    "            print(\"Original DataFrame Shape:\", self.__orig_shape)\n",
    "            print(\"New DataFrame Shape:\", self.new_df.shape)"
   ]
  },
  {
   "cell_type": "code",
   "execution_count": 61,
   "metadata": {},
   "outputs": [
    {
     "name": "stdout",
     "output_type": "stream",
     "text": [
      "FrameLength in Milliseconds: 37 \n",
      "\n",
      "Original Time:\n",
      "\tNumber of Frames: 515\n",
      "\t [  0. 121. 245. 368. 487.] ... [63125. 63254. 63377. 63504. 63629.] \n",
      "\n",
      "New Time:\n",
      "\tNumber of Frames: 1721\n",
      "\t [  0  37  74 111 148] ... [63492 63529 63566 63603 63640] \n",
      "\n",
      "Original DataFrame Shape: (515, 18)\n",
      "New DataFrame Shape: (1721, 17)\n"
     ]
    }
   ],
   "source": [
    "di = DataFrameInterpolator()\n",
    "di.display_information()\n",
    "new_df = di.get_new_df(df_orig, 37)\n",
    "di.display_information()"
   ]
  }
 ],
 "metadata": {
  "kernelspec": {
   "display_name": "Python 3",
   "language": "python",
   "name": "python3"
  },
  "language_info": {
   "codemirror_mode": {
    "name": "ipython",
    "version": 3
   },
   "file_extension": ".py",
   "mimetype": "text/x-python",
   "name": "python",
   "nbconvert_exporter": "python",
   "pygments_lexer": "ipython3",
   "version": "3.6.6"
  }
 },
 "nbformat": 4,
 "nbformat_minor": 2
}
