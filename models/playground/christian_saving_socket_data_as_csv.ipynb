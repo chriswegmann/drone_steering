{
 "cells": [
  {
   "cell_type": "code",
   "execution_count": 7,
   "metadata": {},
   "outputs": [],
   "source": [
    "import pandas as pd\n",
    "import json\n",
    "import timeit\n",
    "import time"
   ]
  },
  {
   "cell_type": "code",
   "execution_count": 8,
   "metadata": {},
   "outputs": [],
   "source": [
    "drone_last_action = time.time()\n",
    "time.sleep(1.2) # needed for first action to be taken into account\n",
    "drone_status = 'grounded'"
   ]
  },
  {
   "cell_type": "code",
   "execution_count": 9,
   "metadata": {},
   "outputs": [],
   "source": [
    "import warnings\n",
    "warnings.filterwarnings(\"ignore\")"
   ]
  },
  {
   "cell_type": "code",
   "execution_count": 10,
   "metadata": {},
   "outputs": [],
   "source": [
    "cols_x = ['leftShoulder_x',\n",
    "          'rightShoulder_x',\n",
    "          'leftWrist_x',\n",
    "          'rightWrist_x',\n",
    "          'leftHip_x',\n",
    "          'rightHip_x',\n",
    "          'leftElbow_x',\n",
    "          'rightElbow_x']\n",
    "\n",
    "cols_y = [col.replace('x', 'y') for col in cols_x]\n",
    "\n",
    "cols = cols_x + cols_y"
   ]
  },
  {
   "cell_type": "code",
   "execution_count": 11,
   "metadata": {},
   "outputs": [],
   "source": [
    "pose_json = '{\"poses\":[{\"score\":0.3305602508857298,\"keypoints\":[{\"score\":0.9985909461975098,\"part\":\"nose\",\"position\":{\"x\":248.6576838258837,\"y\":256.0402913411458}},{\"score\":0.9997169375419617,\"part\":\"leftEye\",\"position\":{\"x\":288.0274458087859,\"y\":236.07972819010416}},{\"score\":0.9891241788864136,\"part\":\"rightEye\",\"position\":{\"x\":218.41943759605533,\"y\":244.81049397786458}},{\"score\":0.9666750431060791,\"part\":\"leftEar\",\"position\":{\"x\":335.9838671137075,\"y\":290.9280598958333}},{\"score\":0.786156952381134,\"part\":\"rightEar\",\"position\":{\"x\":183.74859819255892,\"y\":301.9474772135417}},{\"score\":0.657204270362854,\"part\":\"leftShoulder\",\"position\":{\"x\":443.04252449410865,\"y\":472.5755121866862}},{\"score\":0.16853265464305878,\"part\":\"rightShoulder\",\"position\":{\"x\":119.14107726050206,\"y\":453.5830586751302}},{\"score\":0.016177650541067123,\"part\":\"leftElbow\",\"position\":{\"x\":493.0340886350538,\"y\":489.2761617024739}},{\"score\":0.008160887286067009,\"part\":\"rightElbow\",\"position\":{\"x\":-15.11167832671619,\"y\":497.9180094401042}},{\"score\":0.004399956203997135,\"part\":\"leftWrist\",\"position\":{\"x\":466.03887689309045,\"y\":504.0832194010417}},{\"score\":0.004726673010736704,\"part\":\"rightWrist\",\"position\":{\"x\":43.51104736328125,\"y\":498.2728698730469}},{\"score\":0.004330772906541824,\"part\":\"leftHip\",\"position\":{\"x\":397.88377405385506,\"y\":502.5487772623698}},{\"score\":0.0069005475379526615,\"part\":\"rightHip\",\"position\":{\"x\":91.98278208247952,\"y\":488.4844584147135}},{\"score\":0.003729963442310691,\"part\":\"leftKnee\",\"position\":{\"x\":444.6972150958953,\"y\":471.8383005777995}},{\"score\":0.0024850412737578154,\"part\":\"rightKnee\",\"position\":{\"x\":7.370285284323771,\"y\":500.6000691731771}},{\"score\":0.0016965661197900772,\"part\":\"leftAnkle\",\"position\":{\"x\":444.20433669793806,\"y\":484.8676361083984}},{\"score\":0.0009152236161753535,\"part\":\"rightAnkle\",\"position\":{\"x\":25.47802734375,\"y\":479.93550135294595}}]}],\"image\":{\"width\":640,\"height\":480}}'"
   ]
  },
  {
   "cell_type": "code",
   "execution_count": 12,
   "metadata": {},
   "outputs": [],
   "source": [
    "pose_empty_json = '{\"poses\": [], \"image\": {\"width\": 640, \"height\": 480}}'"
   ]
  },
  {
   "cell_type": "code",
   "execution_count": 13,
   "metadata": {},
   "outputs": [],
   "source": [
    "df = pd.DataFrame(columns=cols)"
   ]
  },
  {
   "cell_type": "code",
   "execution_count": 22,
   "metadata": {},
   "outputs": [],
   "source": [
    "def json_to_dict(pose_json):\n",
    "\n",
    "    x = json.loads(pose_json)\n",
    "    pose_dict = {}\n",
    "    \n",
    "    if len(x['poses']) == 1:\n",
    "        for i in range(8):\n",
    "            pose_dict[x['poses'][0]['keypoints'][i+5]['part'] +\n",
    "                      '_x'] = x['poses'][0]['keypoints'][i + 5]['position']['x']\n",
    "            pose_dict[x['poses'][0]['keypoints'][i+5]['part'] +\n",
    "                      '_y'] = x['poses'][0]['keypoints'][i + 5]['position']['y']\n",
    "\n",
    "    # del pose_dict['leftElbow_x']\n",
    "    # del pose_dict['leftElbow_y']\n",
    "    # del pose_dict['rightElbow_x']\n",
    "    # del pose_dict['rightElbow_y']\n",
    "\n",
    "    return pose_dict"
   ]
  },
  {
   "cell_type": "code",
   "execution_count": 8,
   "metadata": {},
   "outputs": [],
   "source": [
    "def predict_movement(pose):\n",
    "    \n",
    "    movement = 5\n",
    "    \n",
    "    leftArm_x = pose['leftWrist_x'] - pose['leftShoulder_x']\n",
    "    rightArm_x = pose['rightShoulder_x'] - pose['rightWrist_x']\n",
    "    leftArm_y = pose['leftShoulder_y'] - pose['leftWrist_y']\n",
    "    rightArm_y = pose['rightShoulder_y'] - pose['rightWrist_y']\n",
    "    \n",
    "    if leftArm_x > 60:\n",
    "        movement = 1\n",
    "\n",
    "    if rightArm_x > 60:\n",
    "        movement = 2\n",
    "\n",
    "    if ((leftArm_x > 60) & (rightArm_x > 60)):\n",
    "        movement = 0\n",
    "\n",
    "    if ((leftArm_y > 100) & (rightArm_y > 100)):\n",
    "        movement = 3\n",
    "\n",
    "    if ((leftArm_y < -100) & (rightArm_y < -100)):\n",
    "        movement = 4\n",
    "        \n",
    "    return movement"
   ]
  },
  {
   "cell_type": "code",
   "execution_count": 9,
   "metadata": {},
   "outputs": [],
   "source": [
    "def steer_drone(movement):\n",
    "    global drone_last_action\n",
    "    global drone_status\n",
    "    if (time.time() - drone_last_action) > 1:\n",
    "        #print(movements[movement] + ' | ' + drone_status)\n",
    "        drone_last_action = time.time()\n",
    "        if ((movement == 4) & (drone_status == 'grounded')):\n",
    "            drone_status = 'flying'\n",
    "            print('drone.takeoff()')\n",
    "        if (drone_status != 'grounded'):\n",
    "            if movement == 6:\n",
    "                drone_status = 'grounded'\n",
    "                print('drone.land()')\n",
    "            if movement == 0:\n",
    "                print(\"drone.flip('r')\")\n",
    "            if movement == 1:\n",
    "                print('drone.rotate_ccw(45)')\n",
    "            if movement == 2:\n",
    "                print('drone.rotate_cw(45)')\n",
    "            if movement == 5:\n",
    "                print('drone.move_forward(1)')"
   ]
  },
  {
   "cell_type": "code",
   "execution_count": 10,
   "metadata": {},
   "outputs": [
    {
     "data": {
      "text/plain": [
       "2"
      ]
     },
     "execution_count": 10,
     "metadata": {},
     "output_type": "execute_result"
    }
   ],
   "source": [
    "predict_movement(json_to_dict(pose_json))"
   ]
  },
  {
   "cell_type": "code",
   "execution_count": 11,
   "metadata": {},
   "outputs": [
    {
     "name": "stdout",
     "output_type": "stream",
     "text": [
      "Time:  0.3677086630299194\n"
     ]
    }
   ],
   "source": [
    "start = timeit.default_timer()\n",
    "steer_drone(predict_movement(json_to_dict(pose_json)))\n",
    "stop = timeit.default_timer()\n",
    "print('Time: ', 1000*(stop - start))"
   ]
  },
  {
   "cell_type": "code",
   "execution_count": 12,
   "metadata": {},
   "outputs": [],
   "source": [
    "df = df.append(pd.DataFrame(json_to_dict(pose_json), index=[0]))\n",
    "df.to_csv('dataframe.csv',  index=False)"
   ]
  },
  {
   "cell_type": "code",
   "execution_count": 13,
   "metadata": {
    "scrolled": true
   },
   "outputs": [
    {
     "data": {
      "text/html": [
       "<div>\n",
       "<style scoped>\n",
       "    .dataframe tbody tr th:only-of-type {\n",
       "        vertical-align: middle;\n",
       "    }\n",
       "\n",
       "    .dataframe tbody tr th {\n",
       "        vertical-align: top;\n",
       "    }\n",
       "\n",
       "    .dataframe thead th {\n",
       "        text-align: right;\n",
       "    }\n",
       "</style>\n",
       "<table border=\"1\" class=\"dataframe\">\n",
       "  <thead>\n",
       "    <tr style=\"text-align: right;\">\n",
       "      <th></th>\n",
       "      <th>leftElbow_x</th>\n",
       "      <th>leftElbow_y</th>\n",
       "      <th>leftHip_x</th>\n",
       "      <th>leftHip_y</th>\n",
       "      <th>leftShoulder_x</th>\n",
       "      <th>leftShoulder_y</th>\n",
       "      <th>leftWrist_x</th>\n",
       "      <th>leftWrist_y</th>\n",
       "      <th>rightElbow_x</th>\n",
       "      <th>rightElbow_y</th>\n",
       "      <th>rightHip_x</th>\n",
       "      <th>rightHip_y</th>\n",
       "      <th>rightShoulder_x</th>\n",
       "      <th>rightShoulder_y</th>\n",
       "      <th>rightWrist_x</th>\n",
       "      <th>rightWrist_y</th>\n",
       "    </tr>\n",
       "  </thead>\n",
       "  <tbody>\n",
       "    <tr>\n",
       "      <th>0</th>\n",
       "      <td>493.034089</td>\n",
       "      <td>489.276162</td>\n",
       "      <td>397.883774</td>\n",
       "      <td>502.548777</td>\n",
       "      <td>443.042524</td>\n",
       "      <td>472.575512</td>\n",
       "      <td>466.038877</td>\n",
       "      <td>504.083219</td>\n",
       "      <td>-15.111678</td>\n",
       "      <td>497.918009</td>\n",
       "      <td>91.982782</td>\n",
       "      <td>488.484458</td>\n",
       "      <td>119.141077</td>\n",
       "      <td>453.583059</td>\n",
       "      <td>43.511047</td>\n",
       "      <td>498.27287</td>\n",
       "    </tr>\n",
       "  </tbody>\n",
       "</table>\n",
       "</div>"
      ],
      "text/plain": [
       "   leftElbow_x  leftElbow_y   leftHip_x   leftHip_y  leftShoulder_x  \\\n",
       "0   493.034089   489.276162  397.883774  502.548777      443.042524   \n",
       "\n",
       "   leftShoulder_y  leftWrist_x  leftWrist_y  rightElbow_x  rightElbow_y  \\\n",
       "0      472.575512   466.038877   504.083219    -15.111678    497.918009   \n",
       "\n",
       "   rightHip_x  rightHip_y  rightShoulder_x  rightShoulder_y  rightWrist_x  \\\n",
       "0   91.982782  488.484458       119.141077       453.583059     43.511047   \n",
       "\n",
       "   rightWrist_y  \n",
       "0     498.27287  "
      ]
     },
     "execution_count": 13,
     "metadata": {},
     "output_type": "execute_result"
    }
   ],
   "source": [
    "df"
   ]
  },
  {
   "cell_type": "code",
   "execution_count": null,
   "metadata": {},
   "outputs": [],
   "source": [
    "for i in range(16):\n",
    "    df = df.append(pd.DataFrame(json_to_dict(pose_json), index=[0]))"
   ]
  },
  {
   "cell_type": "code",
   "execution_count": null,
   "metadata": {},
   "outputs": [],
   "source": [
    "len(df)"
   ]
  },
  {
   "cell_type": "code",
   "execution_count": null,
   "metadata": {},
   "outputs": [],
   "source": [
    "pose_np = df.values.reshape(1, 17, 16)"
   ]
  },
  {
   "cell_type": "code",
   "execution_count": null,
   "metadata": {},
   "outputs": [],
   "source": [
    "pose_np"
   ]
  },
  {
   "cell_type": "code",
   "execution_count": null,
   "metadata": {},
   "outputs": [],
   "source": [
    "import os\n",
    "os.getcwd()"
   ]
  },
  {
   "cell_type": "code",
   "execution_count": null,
   "metadata": {},
   "outputs": [],
   "source": [
    "os.chdir('../..')"
   ]
  },
  {
   "cell_type": "code",
   "execution_count": null,
   "metadata": {},
   "outputs": [],
   "source": [
    "from app_local.module import GestureTransformer\n",
    "from sklearn.pipeline import make_pipeline"
   ]
  },
  {
   "cell_type": "code",
   "execution_count": null,
   "metadata": {},
   "outputs": [],
   "source": [
    "processing_pipeline = make_pipeline(GestureTransformer(cols))"
   ]
  },
  {
   "cell_type": "code",
   "execution_count": null,
   "metadata": {},
   "outputs": [],
   "source": [
    "processing_pipeline.fit_transform(pose_np)"
   ]
  },
  {
   "cell_type": "code",
   "execution_count": null,
   "metadata": {},
   "outputs": [],
   "source": [
    "import numpy as np"
   ]
  },
  {
   "cell_type": "code",
   "execution_count": null,
   "metadata": {},
   "outputs": [],
   "source": [
    "from keras.models import load_model\n",
    "import h5py"
   ]
  },
  {
   "cell_type": "code",
   "execution_count": null,
   "metadata": {},
   "outputs": [],
   "source": [
    "model = load_model('model_gesture.h5')"
   ]
  },
  {
   "cell_type": "code",
   "execution_count": null,
   "metadata": {},
   "outputs": [],
   "source": [
    "movement = np.argmax(model.predict(pose_np)[0])"
   ]
  },
  {
   "cell_type": "code",
   "execution_count": null,
   "metadata": {},
   "outputs": [],
   "source": [
    "movement"
   ]
  }
 ],
 "metadata": {
  "kernelspec": {
   "display_name": "Python 3",
   "language": "python",
   "name": "python3"
  },
  "language_info": {
   "codemirror_mode": {
    "name": "ipython",
    "version": 3
   },
   "file_extension": ".py",
   "mimetype": "text/x-python",
   "name": "python",
   "nbconvert_exporter": "python",
   "pygments_lexer": "ipython3",
   "version": "3.6.6"
  }
 },
 "nbformat": 4,
 "nbformat_minor": 2
}
