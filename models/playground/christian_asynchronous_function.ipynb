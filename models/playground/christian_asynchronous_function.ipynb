{
 "cells": [
  {
   "cell_type": "code",
   "execution_count": null,
   "metadata": {},
   "outputs": [],
   "source": [
    "import pandas as pd\n",
    "import time\n",
    "import tello\n",
    "import threading"
   ]
  },
  {
   "cell_type": "code",
   "execution_count": 18,
   "metadata": {},
   "outputs": [
    {
     "name": "stdout",
     "output_type": "stream",
     "text": [
      "func_a started\n",
      "func_b started\n",
      "func_a finished\n",
      "func_b finished\n"
     ]
    }
   ],
   "source": [
    "def func_a():\n",
    "    print(\"func_a started\")\n",
    "    time.sleep(3)\n",
    "    print(\"func_a finished\")\n",
    "\n",
    "def func_b():\n",
    "    print(\"func_b started\")\n",
    "    time.sleep(3)\n",
    "    print(\"func_b finished\")\n",
    "    \n",
    "threading.Thread(target=func_a).start()\n",
    "threading.Thread(target=func_b).start()"
   ]
  },
  {
   "cell_type": "code",
   "execution_count": 2,
   "metadata": {},
   "outputs": [],
   "source": [
    "import pandas as pd\n",
    "import time\n",
    "import tello\n",
    "import threading\n",
    "\n",
    "df = pd.read_csv('dataframe_video_delta.csv')\n",
    "\n",
    "interval = 0.130\n",
    "drone_last_action = time.time()\n",
    "drone_status = 'grounded'\n",
    "movements = {0: 'takeoff',\n",
    "             1: 'move_forward',\n",
    "             2: 'flip',\n",
    "             3: 'rotate_cw',\n",
    "             4: 'rotate_ccw',\n",
    "             5: 'land',\n",
    "             999: 'not detected'}"
   ]
  },
  {
   "cell_type": "code",
   "execution_count": 29,
   "metadata": {},
   "outputs": [],
   "source": [
    "def steer_drone(movement):\n",
    "    global drone_last_action\n",
    "    global drone_status\n",
    "    if (time.time() - drone_last_action) > 1.5:\n",
    "        drone_last_action = time.time()\n",
    "        if ((movement == 0) & (drone_status == 'grounded')):\n",
    "            threading.Thread(target=drone_takeoff).start()\n",
    "        if (drone_status != 'grounded'):\n",
    "            if movement == 1:\n",
    "                threading.Thread(target=drone_move_forward).start()\n",
    "            if movement == 2:\n",
    "                threading.Thread(target=drone_flip).start()\n",
    "            if movement == 3:\n",
    "                threading.Thread(target=drone_rotate_cw).start()\n",
    "            if movement == 4:\n",
    "                threading.Thread(target=drone_rotate_ccw).start()\n",
    "            if movement == 5:\n",
    "                threading.Thread(target=drone_land).start()"
   ]
  },
  {
   "cell_type": "code",
   "execution_count": 24,
   "metadata": {},
   "outputs": [],
   "source": [
    "def drone_takeoff():\n",
    "    global drone_status\n",
    "    drone_status = 'flying'\n",
    "    print('drone.takeoff()')\n",
    "    print(\"drone_status = 'flying'\")\n",
    "    # drone.takeoff()\n",
    "    print('time.sleep(5)')\n",
    "    time.sleep(5)"
   ]
  },
  {
   "cell_type": "code",
   "execution_count": 5,
   "metadata": {},
   "outputs": [],
   "source": [
    "def drone_move_forward():\n",
    "    print('drone.move_forward(2)')\n",
    "    time.sleep(1)\n",
    "    # drone.move_forward(2)"
   ]
  },
  {
   "cell_type": "code",
   "execution_count": 6,
   "metadata": {},
   "outputs": [],
   "source": [
    "def drone_flip():\n",
    "    print(\"drone.flip('r')\")\n",
    "    time.sleep(1)\n",
    "    # drone.flip('r')"
   ]
  },
  {
   "cell_type": "code",
   "execution_count": 7,
   "metadata": {},
   "outputs": [],
   "source": [
    "def drone_rotate_cw():\n",
    "    print('drone.rotate_cw(45)')\n",
    "    time.sleep(1)\n",
    "    # drone.rotate_cw(45)"
   ]
  },
  {
   "cell_type": "code",
   "execution_count": 8,
   "metadata": {},
   "outputs": [],
   "source": [
    "def drone_rotate_ccw():\n",
    "    print('drone.rotate_ccw(45)')\n",
    "    time.sleep(1)\n",
    "    # drone.rotate_ccw(45)"
   ]
  },
  {
   "cell_type": "code",
   "execution_count": 25,
   "metadata": {},
   "outputs": [],
   "source": [
    "def drone_land():\n",
    "    global drone_status\n",
    "    drone_status = 'grounded'\n",
    "    print('drone.land()')\n",
    "    print(\"drone_status = 'grounded'\")"
   ]
  },
  {
   "cell_type": "code",
   "execution_count": 10,
   "metadata": {},
   "outputs": [],
   "source": [
    "def predict_movement(pose):\n",
    "\n",
    "    movement = 999\n",
    "\n",
    "    leftArm_x = pose['leftWrist_x'] - pose['leftShoulder_x']\n",
    "    rightArm_x = pose['rightShoulder_x'] - pose['rightWrist_x']\n",
    "    leftArm_y = pose['leftShoulder_y'] - pose['leftWrist_y']\n",
    "    rightArm_y = pose['rightShoulder_y'] - pose['rightWrist_y']\n",
    "\n",
    "    # takeoff\n",
    "    if ((leftArm_y > 100) & (rightArm_y > 100) & (abs(leftArm_x) < 30) & (abs(rightArm_x) < 30)):\n",
    "        movement = 0\n",
    "\n",
    "    # move_forward\n",
    "    if ((abs(leftArm_y) < 30) & (abs(rightArm_y) < 30) & (leftArm_x > 60) & (rightArm_x > 60)):\n",
    "        movement = 1\n",
    "\n",
    "    # flip\n",
    "    if ((abs(leftArm_x) < 30) & (abs(rightArm_x) < 30) & (abs(leftArm_y) < 30) & (abs(rightArm_y) < 30)):\n",
    "        movement = 2\n",
    "\n",
    "    # rotate_cw\n",
    "    if ((leftArm_y < -100) & (abs(rightArm_y) < 30) & (abs(leftArm_x) < 30) & (rightArm_x > 60)):\n",
    "        movement = 3\n",
    "\n",
    "    # rotate_ccw\n",
    "    if ((abs(leftArm_y) < 30) & (rightArm_y < -100) & (leftArm_x > 60) & (abs(rightArm_x) < 30)):\n",
    "        movement = 4\n",
    "\n",
    "    # land\n",
    "    if ((leftArm_y < -100) & (rightArm_y < -100) & (abs(leftArm_x) < 30) & (abs(rightArm_x) < 30)):\n",
    "        movement = 5\n",
    "\n",
    "    return movement"
   ]
  },
  {
   "cell_type": "code",
   "execution_count": 30,
   "metadata": {},
   "outputs": [
    {
     "name": "stdout",
     "output_type": "stream",
     "text": [
      "drone.takeoff()\n",
      "drone_status = 'flying'\n",
      "time.sleep(5)\n",
      "drone.move_forward(2)\n",
      "drone.move_forward(2)\n",
      "drone.flip('r')\n",
      "drone.rotate_ccw(45)\n",
      "drone.move_forward(2)\n",
      "drone.rotate_ccw(45)\n",
      "drone.move_forward(2)\n",
      "drone.land()\n",
      "drone_status = 'grounded'\n"
     ]
    }
   ],
   "source": [
    "for index, pose in df.iterrows():\n",
    "    # print(movements[predict_movement(pose)])\n",
    "    # print(predict_movement(pose))\n",
    "    steer_drone(predict_movement(pose))\n",
    "    time.sleep(interval)"
   ]
  }
 ],
 "metadata": {
  "kernelspec": {
   "display_name": "Python 3",
   "language": "python",
   "name": "python3"
  },
  "language_info": {
   "codemirror_mode": {
    "name": "ipython",
    "version": 3
   },
   "file_extension": ".py",
   "mimetype": "text/x-python",
   "name": "python",
   "nbconvert_exporter": "python",
   "pygments_lexer": "ipython3",
   "version": "3.6.6"
  }
 },
 "nbformat": 4,
 "nbformat_minor": 2
}
