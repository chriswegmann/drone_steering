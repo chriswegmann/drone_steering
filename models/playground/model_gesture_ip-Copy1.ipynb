{
 "cells": [
  {
   "cell_type": "markdown",
   "metadata": {},
   "source": [
    "# Gesture Detection Model with interpolated data"
   ]
  },
  {
   "cell_type": "markdown",
   "metadata": {},
   "source": [
    "## 1 Feature engineering"
   ]
  },
  {
   "cell_type": "markdown",
   "metadata": {},
   "source": [
    "### 1.1 Import libraries and transformers  "
   ]
  },
  {
   "cell_type": "code",
   "execution_count": 1,
   "metadata": {},
   "outputs": [
    {
     "name": "stderr",
     "output_type": "stream",
     "text": [
      "Using TensorFlow backend.\n"
     ]
    }
   ],
   "source": [
    "import numpy as np\n",
    "import pandas as pd\n",
    "import warnings\n",
    "import matplotlib.pyplot as plt\n",
    "from keras.utils import to_categorical\n",
    "warnings.filterwarnings(\"ignore\")"
   ]
  },
  {
   "cell_type": "code",
   "execution_count": 2,
   "metadata": {},
   "outputs": [
    {
     "name": "stdout",
     "output_type": "stream",
     "text": [
      "0 C:\\Users\\p.schambach\\Desktop\\DSR\\drone_steering\\models\\playground\n",
      "1 C:\\Users\\p.schambach\\Desktop\\DSR\\drone_steering\\models\n",
      "2 C:\\Users\\p.schambach\\Desktop\\DSR\\drone_steering\n"
     ]
    }
   ],
   "source": [
    "import os\n",
    "cwd = os.getcwd()\n",
    "\n",
    "counter = 0\n",
    "print(counter, cwd)\n",
    "while not cwd.endswith(\"drone_steering\") and counter < 10:\n",
    "    os.chdir('..')\n",
    "    cwd = os.getcwd()\n",
    "    counter = counter + 1\n",
    "    print(counter, cwd)"
   ]
  },
  {
   "cell_type": "code",
   "execution_count": 3,
   "metadata": {},
   "outputs": [],
   "source": [
    "from app_local.module import DataEnsembler, LabelGenerator, GestureTransformer, DataResampler"
   ]
  },
  {
   "cell_type": "markdown",
   "metadata": {},
   "source": [
    "### 1.2  Load data"
   ]
  },
  {
   "cell_type": "code",
   "execution_count": 4,
   "metadata": {},
   "outputs": [
    {
     "data": {
      "text/html": [
       "<div>\n",
       "<style scoped>\n",
       "    .dataframe tbody tr th:only-of-type {\n",
       "        vertical-align: middle;\n",
       "    }\n",
       "\n",
       "    .dataframe tbody tr th {\n",
       "        vertical-align: top;\n",
       "    }\n",
       "\n",
       "    .dataframe thead th {\n",
       "        text-align: right;\n",
       "    }\n",
       "</style>\n",
       "<table border=\"1\" class=\"dataframe\">\n",
       "  <thead>\n",
       "    <tr style=\"text-align: right;\">\n",
       "      <th></th>\n",
       "      <th>filename_features</th>\n",
       "      <th>filename_labels</th>\n",
       "    </tr>\n",
       "  </thead>\n",
       "  <tbody>\n",
       "    <tr>\n",
       "      <th>0</th>\n",
       "      <td>features_flip_c_01_120.csv</td>\n",
       "      <td>labels_flip_c_01.csv</td>\n",
       "    </tr>\n",
       "    <tr>\n",
       "      <th>1</th>\n",
       "      <td>features_flip_c_02_120.csv</td>\n",
       "      <td>labels_flip_c_02.csv</td>\n",
       "    </tr>\n",
       "    <tr>\n",
       "      <th>2</th>\n",
       "      <td>features_flip_c_03_120.csv</td>\n",
       "      <td>labels_flip_c_03.csv</td>\n",
       "    </tr>\n",
       "    <tr>\n",
       "      <th>3</th>\n",
       "      <td>features_flip_l_01_120.csv</td>\n",
       "      <td>labels_flip_l_01.csv</td>\n",
       "    </tr>\n",
       "    <tr>\n",
       "      <th>4</th>\n",
       "      <td>features_flip_l_02_120.csv</td>\n",
       "      <td>labels_flip_l_02.csv</td>\n",
       "    </tr>\n",
       "    <tr>\n",
       "      <th>5</th>\n",
       "      <td>features_flip_l_03_120.csv</td>\n",
       "      <td>labels_flip_l_03.csv</td>\n",
       "    </tr>\n",
       "    <tr>\n",
       "      <th>6</th>\n",
       "      <td>features_flip_p_01_120.csv</td>\n",
       "      <td>labels_flip_p_01.csv</td>\n",
       "    </tr>\n",
       "    <tr>\n",
       "      <th>7</th>\n",
       "      <td>features_land_c_01_120.csv</td>\n",
       "      <td>labels_land_c_01.csv</td>\n",
       "    </tr>\n",
       "    <tr>\n",
       "      <th>8</th>\n",
       "      <td>features_land_c_02_120.csv</td>\n",
       "      <td>labels_land_c_02.csv</td>\n",
       "    </tr>\n",
       "    <tr>\n",
       "      <th>9</th>\n",
       "      <td>features_land_c_03_120.csv</td>\n",
       "      <td>labels_land_c_03.csv</td>\n",
       "    </tr>\n",
       "    <tr>\n",
       "      <th>10</th>\n",
       "      <td>features_land_l_01_120.csv</td>\n",
       "      <td>labels_land_l_01.csv</td>\n",
       "    </tr>\n",
       "    <tr>\n",
       "      <th>11</th>\n",
       "      <td>features_land_l_02_120.csv</td>\n",
       "      <td>labels_land_l_02.csv</td>\n",
       "    </tr>\n",
       "    <tr>\n",
       "      <th>12</th>\n",
       "      <td>features_land_l_03_120.csv</td>\n",
       "      <td>labels_land_l_03.csv</td>\n",
       "    </tr>\n",
       "    <tr>\n",
       "      <th>13</th>\n",
       "      <td>features_left_c_01_120.csv</td>\n",
       "      <td>labels_left_c_01.csv</td>\n",
       "    </tr>\n",
       "    <tr>\n",
       "      <th>14</th>\n",
       "      <td>features_left_c_02_120.csv</td>\n",
       "      <td>labels_left_c_02.csv</td>\n",
       "    </tr>\n",
       "    <tr>\n",
       "      <th>15</th>\n",
       "      <td>features_left_c_03_120.csv</td>\n",
       "      <td>labels_left_c_03.csv</td>\n",
       "    </tr>\n",
       "    <tr>\n",
       "      <th>16</th>\n",
       "      <td>features_left_l_01_120.csv</td>\n",
       "      <td>labels_left_l_01.csv</td>\n",
       "    </tr>\n",
       "    <tr>\n",
       "      <th>17</th>\n",
       "      <td>features_left_l_02_120.csv</td>\n",
       "      <td>labels_left_l_02.csv</td>\n",
       "    </tr>\n",
       "    <tr>\n",
       "      <th>18</th>\n",
       "      <td>features_left_l_03_120.csv</td>\n",
       "      <td>labels_left_l_03.csv</td>\n",
       "    </tr>\n",
       "    <tr>\n",
       "      <th>19</th>\n",
       "      <td>features_move_c_01_120.csv</td>\n",
       "      <td>labels_move_c_01.csv</td>\n",
       "    </tr>\n",
       "    <tr>\n",
       "      <th>20</th>\n",
       "      <td>features_move_l_01_120.csv</td>\n",
       "      <td>labels_move_l_01.csv</td>\n",
       "    </tr>\n",
       "    <tr>\n",
       "      <th>21</th>\n",
       "      <td>features_move_p_01_120.csv</td>\n",
       "      <td>labels_move_p_01.csv</td>\n",
       "    </tr>\n",
       "    <tr>\n",
       "      <th>22</th>\n",
       "      <td>features_none_p_01_120.csv</td>\n",
       "      <td>labels_none.csv</td>\n",
       "    </tr>\n",
       "    <tr>\n",
       "      <th>23</th>\n",
       "      <td>features_right_c_01_120.csv</td>\n",
       "      <td>labels_right_c_01.csv</td>\n",
       "    </tr>\n",
       "    <tr>\n",
       "      <th>24</th>\n",
       "      <td>features_right_c_02_120.csv</td>\n",
       "      <td>labels_right_c_02.csv</td>\n",
       "    </tr>\n",
       "    <tr>\n",
       "      <th>25</th>\n",
       "      <td>features_right_l_01_120.csv</td>\n",
       "      <td>labels_right_l_01.csv</td>\n",
       "    </tr>\n",
       "    <tr>\n",
       "      <th>26</th>\n",
       "      <td>features_right_l_02_120.csv</td>\n",
       "      <td>labels_right_l_02.csv</td>\n",
       "    </tr>\n",
       "    <tr>\n",
       "      <th>27</th>\n",
       "      <td>features_right_l_03_120.csv</td>\n",
       "      <td>labels_right_l_03.csv</td>\n",
       "    </tr>\n",
       "    <tr>\n",
       "      <th>28</th>\n",
       "      <td>features_takeoff_c_01_120.csv</td>\n",
       "      <td>labels_takeoff_c_01.csv</td>\n",
       "    </tr>\n",
       "    <tr>\n",
       "      <th>29</th>\n",
       "      <td>features_takeoff_c_02_120.csv</td>\n",
       "      <td>labels_takeoff_c_02.csv</td>\n",
       "    </tr>\n",
       "    <tr>\n",
       "      <th>30</th>\n",
       "      <td>features_takeoff_c_03_120.csv</td>\n",
       "      <td>labels_takeoff_c_03.csv</td>\n",
       "    </tr>\n",
       "    <tr>\n",
       "      <th>31</th>\n",
       "      <td>features_takeoff_l_01_120.csv</td>\n",
       "      <td>labels_takeoff_l_01.csv</td>\n",
       "    </tr>\n",
       "    <tr>\n",
       "      <th>32</th>\n",
       "      <td>features_takeoff_l_02_120.csv</td>\n",
       "      <td>labels_takeoff_l_02.csv</td>\n",
       "    </tr>\n",
       "    <tr>\n",
       "      <th>33</th>\n",
       "      <td>features_takeoff_l_03_120.csv</td>\n",
       "      <td>labels_takeoff_l_03.csv</td>\n",
       "    </tr>\n",
       "  </tbody>\n",
       "</table>\n",
       "</div>"
      ],
      "text/plain": [
       "                filename_features          filename_labels\n",
       "0      features_flip_c_01_120.csv     labels_flip_c_01.csv\n",
       "1      features_flip_c_02_120.csv     labels_flip_c_02.csv\n",
       "2      features_flip_c_03_120.csv     labels_flip_c_03.csv\n",
       "3      features_flip_l_01_120.csv     labels_flip_l_01.csv\n",
       "4      features_flip_l_02_120.csv     labels_flip_l_02.csv\n",
       "5      features_flip_l_03_120.csv     labels_flip_l_03.csv\n",
       "6      features_flip_p_01_120.csv     labels_flip_p_01.csv\n",
       "7      features_land_c_01_120.csv     labels_land_c_01.csv\n",
       "8      features_land_c_02_120.csv     labels_land_c_02.csv\n",
       "9      features_land_c_03_120.csv     labels_land_c_03.csv\n",
       "10     features_land_l_01_120.csv     labels_land_l_01.csv\n",
       "11     features_land_l_02_120.csv     labels_land_l_02.csv\n",
       "12     features_land_l_03_120.csv     labels_land_l_03.csv\n",
       "13     features_left_c_01_120.csv     labels_left_c_01.csv\n",
       "14     features_left_c_02_120.csv     labels_left_c_02.csv\n",
       "15     features_left_c_03_120.csv     labels_left_c_03.csv\n",
       "16     features_left_l_01_120.csv     labels_left_l_01.csv\n",
       "17     features_left_l_02_120.csv     labels_left_l_02.csv\n",
       "18     features_left_l_03_120.csv     labels_left_l_03.csv\n",
       "19     features_move_c_01_120.csv     labels_move_c_01.csv\n",
       "20     features_move_l_01_120.csv     labels_move_l_01.csv\n",
       "21     features_move_p_01_120.csv     labels_move_p_01.csv\n",
       "22     features_none_p_01_120.csv          labels_none.csv\n",
       "23    features_right_c_01_120.csv    labels_right_c_01.csv\n",
       "24    features_right_c_02_120.csv    labels_right_c_02.csv\n",
       "25    features_right_l_01_120.csv    labels_right_l_01.csv\n",
       "26    features_right_l_02_120.csv    labels_right_l_02.csv\n",
       "27    features_right_l_03_120.csv    labels_right_l_03.csv\n",
       "28  features_takeoff_c_01_120.csv  labels_takeoff_c_01.csv\n",
       "29  features_takeoff_c_02_120.csv  labels_takeoff_c_02.csv\n",
       "30  features_takeoff_c_03_120.csv  labels_takeoff_c_03.csv\n",
       "31  features_takeoff_l_01_120.csv  labels_takeoff_l_01.csv\n",
       "32  features_takeoff_l_02_120.csv  labels_takeoff_l_02.csv\n",
       "33  features_takeoff_l_03_120.csv  labels_takeoff_l_03.csv"
      ]
     },
     "execution_count": 4,
     "metadata": {},
     "output_type": "execute_result"
    }
   ],
   "source": [
    "de = DataEnsembler(ms_per_frame=120)\n",
    "de.investigate_available_datafiles(data_dir='data/gesture/', is_frame_based = True)\n",
    "combined_data_files_df=de.combined_data_files_df\n",
    "combined_data_files_df"
   ]
  },
  {
   "cell_type": "code",
   "execution_count": 5,
   "metadata": {},
   "outputs": [],
   "source": [
    "de.load_data()"
   ]
  },
  {
   "cell_type": "code",
   "execution_count": 6,
   "metadata": {},
   "outputs": [
    {
     "data": {
      "text/plain": [
       "'(?P<movement>[a-z]*)_(?P<person>[a-z]*)_(?P<filenum>\\\\d*)'"
      ]
     },
     "execution_count": 6,
     "metadata": {},
     "output_type": "execute_result"
    }
   ],
   "source": [
    "de.video_stats_pattern"
   ]
  },
  {
   "cell_type": "markdown",
   "metadata": {},
   "source": [
    "### 1. 5 Interpolated data assembling"
   ]
  },
  {
   "cell_type": "code",
   "execution_count": 8,
   "metadata": {},
   "outputs": [
    {
     "name": "stdout",
     "output_type": "stream",
     "text": [
      "i: 0 \tshape X: (603, 18, 16) \tshape y: (603,) \tcount: 127\n",
      "i: 1 \tshape X: (519, 18, 16) \tshape y: (519,) \tcount: 115\n",
      "i: 2 \tshape X: (498, 18, 16) \tshape y: (498,) \tcount: 149\n",
      "i: 3 \tshape X: (650, 18, 16) \tshape y: (650,) \tcount: 276\n",
      "i: 4 \tshape X: (508, 18, 16) \tshape y: (508,) \tcount: 173\n",
      "i: 5 \tshape X: (466, 18, 16) \tshape y: (466,) \tcount: 174\n",
      "i: 6 \tshape X: (601, 18, 16) \tshape y: (601,) \tcount: 185\n",
      "i: 7 \tshape X: (440, 18, 16) \tshape y: (440,) \tcount: 149\n",
      "i: 8 \tshape X: (490, 18, 16) \tshape y: (490,) \tcount: 130\n",
      "i: 9 \tshape X: (476, 18, 16) \tshape y: (476,) \tcount: 140\n",
      "i: 10 \tshape X: (492, 18, 16) \tshape y: (492,) \tcount: 139\n",
      "i: 11 \tshape X: (436, 18, 16) \tshape y: (436,) \tcount: 101\n",
      "i: 12 \tshape X: (466, 18, 16) \tshape y: (466,) \tcount: 146\n",
      "i: 13 \tshape X: (551, 18, 16) \tshape y: (551,) \tcount: 155\n",
      "i: 14 \tshape X: (550, 18, 16) \tshape y: (550,) \tcount: 142\n",
      "i: 15 \tshape X: (549, 18, 16) \tshape y: (549,) \tcount: 145\n",
      "i: 16 \tshape X: (541, 18, 16) \tshape y: (541,) \tcount: 112\n",
      "i: 17 \tshape X: (535, 18, 16) \tshape y: (535,) \tcount: 147\n",
      "i: 18 \tshape X: (549, 18, 16) \tshape y: (549,) \tcount: 132\n",
      "i: 19 \tshape X: (616, 18, 16) \tshape y: (616,) \tcount: 168\n",
      "i: 20 \tshape X: (621, 18, 16) \tshape y: (621,) \tcount: 309\n",
      "i: 21 \tshape X: (590, 18, 16) \tshape y: (590,) \tcount: 203\n",
      "i: 22 \tshape X: (460, 18, 16) \tshape y: (460,) \tcount: 0\n",
      "i: 23 \tshape X: (514, 18, 16) \tshape y: (514,) \tcount: 148\n",
      "i: 24 \tshape X: (923, 18, 16) \tshape y: (923,) \tcount: 262\n",
      "i: 25 \tshape X: (545, 18, 16) \tshape y: (545,) \tcount: 113\n",
      "i: 26 \tshape X: (547, 18, 16) \tshape y: (547,) \tcount: 154\n",
      "i: 27 \tshape X: (505, 18, 16) \tshape y: (505,) \tcount: 137\n",
      "i: 28 \tshape X: (469, 18, 16) \tshape y: (469,) \tcount: 143\n",
      "i: 29 \tshape X: (524, 18, 16) \tshape y: (524,) \tcount: 149\n",
      "i: 30 \tshape X: (569, 18, 16) \tshape y: (569,) \tcount: 187\n",
      "i: 31 \tshape X: (488, 18, 16) \tshape y: (488,) \tcount: 105\n",
      "i: 32 \tshape X: (481, 18, 16) \tshape y: (481,) \tcount: 122\n",
      "i: 33 \tshape X: (416, 18, 16) \tshape y: (416,) \tcount: 119\n",
      "-----------------------------------------------------------------------------\n",
      "shape final X: (18188, 18, 16)\n",
      "number of labeled samples: 5156\n",
      "Label 0: 13032 \t71.65% of total\n",
      "Label 1: 825 \t16.0% of labeled\n",
      "Label 2: 680 \t13.19% of labeled\n",
      "Label 3: 1199 \t23.25% of labeled\n",
      "Label 4: 833 \t16.16% of labeled\n",
      "Label 5: 814 \t15.79% of labeled\n",
      "Label 6: 805 \t15.61% of labeled\n"
     ]
    }
   ],
   "source": [
    "# the training data can then be assembled as usual\n",
    "de.assemble_data(tolerance_range=3)\n",
    "de.display_information()"
   ]
  },
  {
   "cell_type": "markdown",
   "metadata": {},
   "source": [
    "### 1. 7 Imbalance data treatment"
   ]
  },
  {
   "cell_type": "code",
   "execution_count": 19,
   "metadata": {},
   "outputs": [
    {
     "name": "stdout",
     "output_type": "stream",
     "text": [
      "-------------------------------------\n",
      "Current number of zero-labels: 13032\n",
      "New number of zero-labels: 0\n"
     ]
    },
    {
     "data": {
      "text/html": [
       "<div>\n",
       "<style scoped>\n",
       "    .dataframe tbody tr th:only-of-type {\n",
       "        vertical-align: middle;\n",
       "    }\n",
       "\n",
       "    .dataframe tbody tr th {\n",
       "        vertical-align: top;\n",
       "    }\n",
       "\n",
       "    .dataframe thead th {\n",
       "        text-align: right;\n",
       "    }\n",
       "</style>\n",
       "<table border=\"1\" class=\"dataframe\">\n",
       "  <thead>\n",
       "    <tr style=\"text-align: right;\">\n",
       "      <th></th>\n",
       "      <th>abs_orig</th>\n",
       "      <th>pct_orig</th>\n",
       "      <th>abs_current</th>\n",
       "      <th>pct_current</th>\n",
       "    </tr>\n",
       "  </thead>\n",
       "  <tbody>\n",
       "    <tr>\n",
       "      <th>0</th>\n",
       "      <td>13032</td>\n",
       "      <td>71.65</td>\n",
       "      <td>0</td>\n",
       "      <td>0</td>\n",
       "    </tr>\n",
       "    <tr>\n",
       "      <th>1</th>\n",
       "      <td>825</td>\n",
       "      <td>4.54</td>\n",
       "      <td>825</td>\n",
       "      <td>16</td>\n",
       "    </tr>\n",
       "    <tr>\n",
       "      <th>2</th>\n",
       "      <td>680</td>\n",
       "      <td>3.74</td>\n",
       "      <td>680</td>\n",
       "      <td>13.19</td>\n",
       "    </tr>\n",
       "    <tr>\n",
       "      <th>3</th>\n",
       "      <td>1199</td>\n",
       "      <td>6.59</td>\n",
       "      <td>1199</td>\n",
       "      <td>23.25</td>\n",
       "    </tr>\n",
       "    <tr>\n",
       "      <th>4</th>\n",
       "      <td>833</td>\n",
       "      <td>4.58</td>\n",
       "      <td>833</td>\n",
       "      <td>16.16</td>\n",
       "    </tr>\n",
       "    <tr>\n",
       "      <th>5</th>\n",
       "      <td>814</td>\n",
       "      <td>4.48</td>\n",
       "      <td>814</td>\n",
       "      <td>15.79</td>\n",
       "    </tr>\n",
       "    <tr>\n",
       "      <th>6</th>\n",
       "      <td>805</td>\n",
       "      <td>4.43</td>\n",
       "      <td>805</td>\n",
       "      <td>15.61</td>\n",
       "    </tr>\n",
       "  </tbody>\n",
       "</table>\n",
       "</div>"
      ],
      "text/plain": [
       "  abs_orig pct_orig abs_current pct_current\n",
       "0    13032    71.65           0           0\n",
       "1      825     4.54         825          16\n",
       "2      680     3.74         680       13.19\n",
       "3     1199     6.59        1199       23.25\n",
       "4      833     4.58         833       16.16\n",
       "5      814     4.48         814       15.79\n",
       "6      805     4.43         805       15.61"
      ]
     },
     "execution_count": 19,
     "metadata": {},
     "output_type": "execute_result"
    }
   ],
   "source": [
    "dr = DataResampler()\n",
    "dr.fit(de.X, de.y)\n",
    "dr.restrict_zero_labels(0)\n",
    "X = dr.X\n",
    "y = dr.y\n",
    "dr.display_information()"
   ]
  },
  {
   "cell_type": "markdown",
   "metadata": {},
   "source": [
    "### 1.3  Data normalization"
   ]
  },
  {
   "cell_type": "code",
   "execution_count": 20,
   "metadata": {},
   "outputs": [],
   "source": [
    "gt = GestureTransformer(feature_names = list(de.feature_names),byrow=True)\n",
    "X = gt.transform(X)\n",
    "y_enc = to_categorical(y)"
   ]
  },
  {
   "cell_type": "markdown",
   "metadata": {},
   "source": [
    "## 2 Train model"
   ]
  },
  {
   "cell_type": "markdown",
   "metadata": {},
   "source": []
  },
  {
   "cell_type": "code",
   "execution_count": 22,
   "metadata": {},
   "outputs": [
    {
     "name": "stdout",
     "output_type": "stream",
     "text": [
      "(4124, 18, 16) (1032, 18, 16) (4124, 7) (1032, 7)\n"
     ]
    }
   ],
   "source": [
    "from sklearn.model_selection import train_test_split\n",
    "X_train, X_test, y_train, y_test = train_test_split(X, y_enc, test_size=0.2, random_state=1)\n",
    "print(X_train.shape, X_test.shape, y_train.shape, y_test.shape)"
   ]
  },
  {
   "cell_type": "markdown",
   "metadata": {},
   "source": [
    "### 2.2 Define and compile model"
   ]
  },
  {
   "cell_type": "code",
   "execution_count": 23,
   "metadata": {},
   "outputs": [],
   "source": [
    "from keras.models import Sequential\n",
    "from keras.layers import Dense\n",
    "from keras.layers import Flatten\n",
    "from keras.layers import Dropout\n",
    "from keras.layers import LSTM"
   ]
  },
  {
   "cell_type": "code",
   "execution_count": 24,
   "metadata": {},
   "outputs": [
    {
     "name": "stdout",
     "output_type": "stream",
     "text": [
      "_________________________________________________________________\n",
      "Layer (type)                 Output Shape              Param #   \n",
      "=================================================================\n",
      "lstm_3 (LSTM)                (None, 100)               46800     \n",
      "_________________________________________________________________\n",
      "dropout_3 (Dropout)          (None, 100)               0         \n",
      "_________________________________________________________________\n",
      "dense_7 (Dense)              (None, 100)               10100     \n",
      "_________________________________________________________________\n",
      "dense_8 (Dense)              (None, 64)                6464      \n",
      "_________________________________________________________________\n",
      "dense_9 (Dense)              (None, 7)                 455       \n",
      "=================================================================\n",
      "Total params: 63,819\n",
      "Trainable params: 63,819\n",
      "Non-trainable params: 0\n",
      "_________________________________________________________________\n"
     ]
    }
   ],
   "source": [
    "n_timesteps = X_train.shape[1] # here 17\n",
    "n_features = X_train.shape[2] # here 16\n",
    "n_outputs =  y_enc.shape[1] # here 7 (number of labels)\n",
    "\n",
    "model = Sequential()\n",
    "model.add(LSTM(100, input_shape=(n_timesteps,n_features)))\n",
    "model.add(Dropout(0.4))\n",
    "model.add(Dense(100, activation='relu'))\n",
    "model.add(Dense(64, activation='relu'))\n",
    "model.add(Dense(n_outputs, activation='softmax'))\n",
    "\n",
    "model.compile(loss='categorical_crossentropy', \n",
    "              optimizer='adam', \n",
    "              metrics=['accuracy'])\n",
    "\n",
    "model.summary()"
   ]
  },
  {
   "cell_type": "markdown",
   "metadata": {},
   "source": [
    "### 2.3 Fit and validate model"
   ]
  },
  {
   "cell_type": "code",
   "execution_count": 25,
   "metadata": {
    "scrolled": true
   },
   "outputs": [
    {
     "name": "stdout",
     "output_type": "stream",
     "text": [
      "Train on 3299 samples, validate on 825 samples\n",
      "Epoch 1/10\n",
      "3299/3299 [==============================] - 2s 525us/step - loss: 0.6126 - acc: 0.8039 - val_loss: 0.0475 - val_acc: 0.9879\n",
      "Epoch 2/10\n",
      "3299/3299 [==============================] - 1s 254us/step - loss: 0.0540 - acc: 0.9876 - val_loss: 0.0478 - val_acc: 0.9842\n",
      "Epoch 3/10\n",
      "3299/3299 [==============================] - 1s 258us/step - loss: 0.0340 - acc: 0.9942 - val_loss: 0.0076 - val_acc: 0.9976\n",
      "Epoch 4/10\n",
      "3299/3299 [==============================] - 1s 258us/step - loss: 0.0135 - acc: 0.9976 - val_loss: 0.0088 - val_acc: 0.9964\n",
      "Epoch 5/10\n",
      "3299/3299 [==============================] - 1s 258us/step - loss: 0.0138 - acc: 0.9976 - val_loss: 0.0114 - val_acc: 0.9976\n",
      "Epoch 6/10\n",
      "3299/3299 [==============================] - 1s 257us/step - loss: 0.0128 - acc: 0.9979 - val_loss: 0.0116 - val_acc: 0.9952\n",
      "Epoch 7/10\n",
      "3299/3299 [==============================] - 1s 258us/step - loss: 0.0130 - acc: 0.9973 - val_loss: 0.0126 - val_acc: 0.9976\n",
      "Epoch 8/10\n",
      "3299/3299 [==============================] - 1s 263us/step - loss: 0.0108 - acc: 0.9979 - val_loss: 0.0097 - val_acc: 0.9976\n",
      "Epoch 9/10\n",
      "3299/3299 [==============================] - 1s 258us/step - loss: 0.0098 - acc: 0.9979 - val_loss: 0.0143 - val_acc: 0.9976\n",
      "Epoch 10/10\n",
      "3299/3299 [==============================] - 1s 263us/step - loss: 0.0089 - acc: 0.9982 - val_loss: 0.0148 - val_acc: 0.9964\n"
     ]
    }
   ],
   "source": [
    "history_interpol = model.fit(X_train, y_train, epochs=10, batch_size=32, verbose=1, validation_split=0.2)"
   ]
  },
  {
   "cell_type": "code",
   "execution_count": null,
   "metadata": {},
   "outputs": [],
   "source": [
    "r = range(1, len(history_interpol.history[\"acc\"]) + 1)\n",
    "\n",
    "plt.figure(figsize=(20, 5))\n",
    "\n",
    "plt.subplot(1, 2, 1)\n",
    "plt.plot(r, history_interpol.history[\"acc\"], label=\"acc\")\n",
    "plt.plot(r, history_interpol.history[\"val_acc\"], label=\"val_acc\")\n",
    "plt.legend()\n",
    "plt.title(\"Accuracy\")\n",
    "\n",
    "plt.subplot(1, 2, 2)\n",
    "plt.plot(r, history_interpol.history[\"loss\"], label=\"loss\")\n",
    "plt.plot(r, history_interpol.history[\"val_loss\"], label=\"val_loss\")\n",
    "plt.legend()\n",
    "plt.title(\"Loss\")\n",
    "\n",
    "plt.show()\n",
    "plt.close()"
   ]
  },
  {
   "cell_type": "code",
   "execution_count": null,
   "metadata": {},
   "outputs": [],
   "source": [
    "y_test = to_categorical(y_test)\n",
    "eval_results = np.round(model.evaluate(X_test, y_test, batch_size=32, verbose=1),2)\n",
    "print(\"Loss:     \" + str(eval_results[0]))\n",
    "print(\"Accuracy: \" + str(eval_results[1]))"
   ]
  },
  {
   "cell_type": "code",
   "execution_count": null,
   "metadata": {},
   "outputs": [],
   "source": [
    "model."
   ]
  },
  {
   "cell_type": "markdown",
   "metadata": {},
   "source": [
    "## ROC analysis"
   ]
  },
  {
   "cell_type": "code",
   "execution_count": null,
   "metadata": {
    "scrolled": true
   },
   "outputs": [],
   "source": [
    "counter_F_neg=0\n",
    "counter_F_pos=0\n",
    "for i in range(X_test.shape[0]):\n",
    "    if (model.predict_classes(X_test[i:(i+1),:,:])[0]!=np.nonzero(y_test[i])[0][0]):\n",
    "        if model.predict_classes(X_test[i:(i+1),:,:])[0]==0:\n",
    "            counter_F_neg=counter_F_neg+1\n",
    "            print(\"False_negative i:\",i,\\\n",
    "              \"\\tPred:\",model.predict_classes(X_test[i:(i+1),:,:])[0],\\\n",
    "              \"\\tActual:\",np.nonzero(y_test[i])[0][0],\\\n",
    "              \"\\tProbability:\",round(np.max(model.predict_proba(X_test[i:(i+1),:,:])),2),)          \n",
    "        else:\n",
    "            counter_F_pos=counter_F_pos+1\n",
    "            print(\"False_positive i:\",i,\\\n",
    "              \"\\tPred:\",model.predict_classes(X_test[i:(i+1),:,:])[0],\\\n",
    "              \"\\tActual:\",np.nonzero(y_test[i])[0][0],\\\n",
    "              \"\\tProbability:\",round(np.max(model.predict_proba(X_test[i:(i+1),:,:])),2))\n",
    "print(\"\\ncounter_F_neg:\",counter_F_neg) \n",
    "print(\"\\ncounter_F_pos:\",counter_F_pos) "
   ]
  },
  {
   "cell_type": "code",
   "execution_count": null,
   "metadata": {
    "scrolled": true
   },
   "outputs": [],
   "source": [
    "for i in range(X_test.shape[0]):\n",
    "    if (model.predict_classes(X_test[i:(i+1),:,:])[0]==np.nonzero(y_test[i])[0][0]):\n",
    "        print(\"Index:\",i,\\\n",
    "              \"\\tPred:\",model.predict_classes(X_test[i:(i+1),:,:])[0],\\\n",
    "              \"\\tActual:\",np.nonzero(y_test[i])[0][0],\\\n",
    "              \"\\tProbability:\",round(np.max(model.predict_proba(X_test[i:(i+1),:,:])),2))"
   ]
  },
  {
   "cell_type": "code",
   "execution_count": 93,
   "metadata": {},
   "outputs": [
    {
     "name": "stdout",
     "output_type": "stream",
     "text": [
      "0\n",
      "100\n",
      "200\n",
      "300\n",
      "400\n",
      "500\n",
      "600\n",
      "700\n",
      "800\n",
      "900\n",
      "1000\n",
      "[5. 3. 6. ... 6. 2. 3.] [5. 3. 6. ... 6. 2. 3.] [[3.56156988e-08 5.94293124e-06 8.05360571e-07 ... 2.61384741e-07\n",
      "  9.99978065e-01 6.64416848e-06]\n",
      " [4.74521422e-10 1.28134543e-08 1.29390639e-06 ... 7.97221289e-10\n",
      "  1.03037485e-06 7.16488273e-08]\n",
      " [3.67486682e-05 2.06999592e-02 1.45025624e-04 ... 1.25361737e-04\n",
      "  2.14560176e-04 9.78569388e-01]\n",
      " ...\n",
      " [9.04814840e-07 1.03262428e-03 9.48177330e-05 ... 2.27165197e-06\n",
      "  1.87810638e-05 9.98832881e-01]\n",
      " [2.09816990e-11 5.35125764e-07 9.99982238e-01 ... 4.79079840e-12\n",
      "  6.20076008e-08 1.48865583e-05]\n",
      " [6.26201868e-11 2.01464645e-09 3.25696931e-07 ... 1.06451063e-10\n",
      "  3.45106287e-07 1.01039435e-08]]\n"
     ]
    }
   ],
   "source": [
    "yvar = y_test.copy()\n",
    "n = yvar.shape[0]\n",
    "\n",
    "label = np.zeros(n)\n",
    "pred = np.zeros(n)\n",
    "prob = np.zeros((n,7))\n",
    "\n",
    "for i in range(n):\n",
    "    label[i] = np.argmax(yvar[i,:])\n",
    "    pred[i] = model.predict_classes(X_test[i:(i+1),:,:])\n",
    "    prob[i,:] = model.predict_proba(X_test[i:(i+1),:,:])\n",
    "    if i % 100 == 0:\n",
    "        print(i)\n",
    "    \n",
    "print(label, pred, prob) "
   ]
  },
  {
   "cell_type": "code",
   "execution_count": 98,
   "metadata": {},
   "outputs": [
    {
     "name": "stdout",
     "output_type": "stream",
     "text": [
      "1 147 145 132\n",
      "2 130 130 130\n",
      "3 247 247 245\n",
      "4 170 170 151\n",
      "5 169 169 169\n",
      "6 169 171 7\n"
     ]
    }
   ],
   "source": [
    "r = 0.999\n",
    "for i in range(1,7):\n",
    "    print(i, len(label[label==i]), len(pred[pred==i]), (prob[:,i]>r).sum() )"
   ]
  },
  {
   "cell_type": "code",
   "execution_count": null,
   "metadata": {},
   "outputs": [],
   "source": []
  },
  {
   "cell_type": "code",
   "execution_count": 141,
   "metadata": {},
   "outputs": [],
   "source": [
    "n = de.X.shape[0]\n",
    "v = np.zeros(n)\n",
    "s = np.zeros(n)\n",
    "\n",
    "for i in range(n):\n",
    "    v[i] = np.abs(de.X[i,:,:].var(axis = 0)).sum()\n",
    "    s[i] = np.abs(np.diff(de.X[i,:,:], axis = 0)).sum()"
   ]
  },
  {
   "cell_type": "code",
   "execution_count": 111,
   "metadata": {},
   "outputs": [
    {
     "name": "stdout",
     "output_type": "stream",
     "text": [
      "0 5986.171276338981\n",
      "1 16359.31188714042\n",
      "2 5618.657622171907\n",
      "3 13710.80719554805\n",
      "4 5106.582079900341\n",
      "5 5264.4543143634855\n",
      "6 17351.097226036945\n"
     ]
    }
   ],
   "source": [
    "for i in range(7):\n",
    "    print(i, v[de.y == i].sum()/len(de.y[de.y==i]))"
   ]
  },
  {
   "cell_type": "code",
   "execution_count": 129,
   "metadata": {},
   "outputs": [
    {
     "name": "stdout",
     "output_type": "stream",
     "text": [
      "0 7221 13032 58.63\n",
      "1 820 825 6.66\n",
      "2 669 680 5.43\n",
      "3 1199 1199 9.73\n",
      "4 829 833 6.73\n",
      "5 777 814 6.31\n",
      "6 802 805 6.51\n"
     ]
    }
   ],
   "source": [
    "tvar = 3000.0\n",
    "n = (v >= tvar).sum()\n",
    "for i in range(7):\n",
    "    ni = len(v[(v >= tvar) & (de.y == i)])\n",
    "    print(i, ni, len(de.y[de.y==i]), np.round(100 * ni/ n,2))"
   ]
  },
  {
   "cell_type": "code",
   "execution_count": 142,
   "metadata": {},
   "outputs": [
    {
     "name": "stdout",
     "output_type": "stream",
     "text": [
      "0 970.1123599622166\n",
      "1 1569.3360335205427\n",
      "2 1415.9102927221625\n",
      "3 1834.4517439551632\n",
      "4 1019.2480728470169\n",
      "5 996.2701382758934\n",
      "6 1706.125898798009\n"
     ]
    }
   ],
   "source": [
    "for i in range(7):\n",
    "    print(i, s[de.y == i].sum()/len(de.y[de.y==i]))"
   ]
  },
  {
   "cell_type": "code",
   "execution_count": 147,
   "metadata": {},
   "outputs": [
    {
     "name": "stdout",
     "output_type": "stream",
     "text": [
      "0 7056 13032 58.31\n",
      "1 824 825 6.81\n",
      "2 680 680 5.62\n",
      "3 1199 1199 9.91\n",
      "4 803 833 6.64\n",
      "5 733 814 6.06\n",
      "6 805 805 6.65\n"
     ]
    }
   ],
   "source": [
    "svar = 800.0\n",
    "n = (s >= svar).sum()\n",
    "for i in range(7):\n",
    "    ni = len(s[(s >= svar) & (de.y == i)])\n",
    "    print(i, ni, len(de.y[de.y==i]), np.round(100 * ni/ n,2))"
   ]
  },
  {
   "cell_type": "markdown",
   "metadata": {},
   "source": [
    "### 2.4 Save model"
   ]
  },
  {
   "cell_type": "code",
   "execution_count": null,
   "metadata": {},
   "outputs": [],
   "source": [
    "from keras.models import load_model\n",
    "import h5py"
   ]
  },
  {
   "cell_type": "code",
   "execution_count": null,
   "metadata": {},
   "outputs": [],
   "source": [
    "# save model, delete current reference and re-load it from file\n",
    "model.save('models/model_gesture_interpolation_' + str(new_frmlen) + '.h5')\n",
    "del model\n",
    "model = load_model('005_model_gesture-interpolation.h5')"
   ]
  },
  {
   "cell_type": "code",
   "execution_count": null,
   "metadata": {},
   "outputs": [],
   "source": [
    "type(model)"
   ]
  }
 ],
 "metadata": {
  "kernelspec": {
   "display_name": "Python 3",
   "language": "python",
   "name": "python3"
  },
  "language_info": {
   "codemirror_mode": {
    "name": "ipython",
    "version": 3
   },
   "file_extension": ".py",
   "mimetype": "text/x-python",
   "name": "python",
   "nbconvert_exporter": "python",
   "pygments_lexer": "ipython3",
   "version": "3.6.6"
  }
 },
 "nbformat": 4,
 "nbformat_minor": 2
}
