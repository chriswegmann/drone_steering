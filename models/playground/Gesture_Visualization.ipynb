{
 "cells": [
  {
   "cell_type": "markdown",
   "metadata": {},
   "source": [
    "#### Import libraries / modules"
   ]
  },
  {
   "cell_type": "code",
   "execution_count": 1,
   "metadata": {},
   "outputs": [],
   "source": [
    "import numpy as np\n",
    "import pandas as pd\n",
    "import os\n",
    "import sys\n",
    "import matplotlib.pyplot as plt\n",
    "from matplotlib.ticker import NullFormatter"
   ]
  },
  {
   "cell_type": "code",
   "execution_count": 2,
   "metadata": {},
   "outputs": [],
   "source": [
    "import warnings\n",
    "warnings.filterwarnings(\"ignore\")"
   ]
  },
  {
   "cell_type": "code",
   "execution_count": 3,
   "metadata": {},
   "outputs": [
    {
     "data": {
      "text/html": [
       "<style>.container { width:100% !important; }</style>"
      ],
      "text/plain": [
       "<IPython.core.display.HTML object>"
      ]
     },
     "metadata": {},
     "output_type": "display_data"
    }
   ],
   "source": [
    "from IPython.core.display import display, HTML\n",
    "display(HTML(\"<style>.container { width:100% !important; }</style>\"))"
   ]
  },
  {
   "cell_type": "code",
   "execution_count": 4,
   "metadata": {},
   "outputs": [
    {
     "data": {
      "text/plain": [
       "'C:\\\\Users\\\\p.schambach\\\\Desktop\\\\DSR\\\\drone_steering\\\\models\\\\playground'"
      ]
     },
     "execution_count": 4,
     "metadata": {},
     "output_type": "execute_result"
    }
   ],
   "source": [
    "os.getcwd()"
   ]
  },
  {
   "cell_type": "code",
   "execution_count": 5,
   "metadata": {},
   "outputs": [],
   "source": [
    "os.chdir('../..')"
   ]
  },
  {
   "cell_type": "code",
   "execution_count": 6,
   "metadata": {},
   "outputs": [],
   "source": [
    "from app_local.module import DataEnsembler, GestureTransformer"
   ]
  },
  {
   "cell_type": "markdown",
   "metadata": {},
   "source": [
    "#### Set parameters"
   ]
  },
  {
   "cell_type": "code",
   "execution_count": 27,
   "metadata": {},
   "outputs": [
    {
     "data": {
      "text/plain": [
       "50"
      ]
     },
     "execution_count": 27,
     "metadata": {},
     "output_type": "execute_result"
    }
   ],
   "source": [
    "is_frame_based = True\n",
    "ms_per_frame_original = 120\n",
    "ms_per_frame_interpolated = 50\n",
    "use_rescaling_to_true_length = False\n",
    "use_interpolation = False\n",
    "is_verbose = True\n",
    "ms_per_frame_interpolated"
   ]
  },
  {
   "cell_type": "markdown",
   "metadata": {},
   "source": [
    "#### Load, interpolate and assemble data"
   ]
  },
  {
   "cell_type": "code",
   "execution_count": 16,
   "metadata": {},
   "outputs": [],
   "source": [
    "de = DataEnsembler(ms_per_frame=ms_per_frame_original)\n",
    "de.investigate_available_datafiles(data_dir='data/gesture/', is_frame_based = is_frame_based)\n",
    "de.load_data()"
   ]
  },
  {
   "cell_type": "code",
   "execution_count": 17,
   "metadata": {
    "scrolled": true
   },
   "outputs": [
    {
     "name": "stdout",
     "output_type": "stream",
     "text": [
      "Current Index: 0\n",
      "Calling DataFrameInterpolator.scaleDataFrame method with current length 66290.0 and actual length 68677\n",
      "Using 'avg' to calculate new time of first frame: 0.0 ==> 106\n",
      "Current Index: 1\n",
      "Calling DataFrameInterpolator.scaleDataFrame method with current length 60562.0 and actual length 63117\n",
      "Using 'avg' to calculate new time of first frame: 0.0 ==> 112\n",
      "Current Index: 2\n",
      "Calling DataFrameInterpolator.scaleDataFrame method with current length 63629.0 and actual length 64048\n",
      "Using 'avg' to calculate new time of first frame: 0.0 ==> 123\n",
      "Current Index: 3\n",
      "Calling DataFrameInterpolator.scaleDataFrame method with current length 69924.0 and actual length 70576\n",
      "Using 'avg' to calculate new time of first frame: 0.0 ==> 104\n",
      "Current Index: 4\n",
      "Calling DataFrameInterpolator.scaleDataFrame method with current length 62303 and actual length 62915\n",
      "Using 'avg' to calculate new time of first frame: 0 ==> 118\n",
      "Current Index: 5\n",
      "Calling DataFrameInterpolator.scaleDataFrame method with current length 63629 and actual length 64248\n",
      "Using 'avg' to calculate new time of first frame: 0 ==> 131\n",
      "Current Index: 6\n",
      "Calling DataFrameInterpolator.scaleDataFrame method with current length 66095.0 and actual length 66712\n",
      "Using 'avg' to calculate new time of first frame: 0.0 ==> 106\n",
      "Current Index: 7\n",
      "Calling DataFrameInterpolator.scaleDataFrame method with current length 62870.0 and actual length 63482\n",
      "Using 'avg' to calculate new time of first frame: 1.0 ==> 137\n",
      "Current Index: 8\n",
      "Calling DataFrameInterpolator.scaleDataFrame method with current length 63666.0 and actual length 64547\n",
      "Using 'avg' to calculate new time of first frame: 0.0 ==> 125\n",
      "Current Index: 9\n",
      "Calling DataFrameInterpolator.scaleDataFrame method with current length 63556.0 and actual length 64114\n",
      "Using 'avg' to calculate new time of first frame: 0.0 ==> 128\n",
      "Current Index: 10\n",
      "Calling DataFrameInterpolator.scaleDataFrame method with current length 68204.0 and actual length 68994\n",
      "Using 'avg' to calculate new time of first frame: 0.0 ==> 133\n",
      "Current Index: 11\n",
      "Calling DataFrameInterpolator.scaleDataFrame method with current length 60163 and actual length 61750\n",
      "Using 'avg' to calculate new time of first frame: 0 ==> 132\n",
      "Current Index: 12\n",
      "Calling DataFrameInterpolator.scaleDataFrame method with current length 63915 and actual length 64814\n",
      "Using 'avg' to calculate new time of first frame: 0 ==> 132\n",
      "Current Index: 13\n",
      "Calling DataFrameInterpolator.scaleDataFrame method with current length 61139.0 and actual length 62482\n",
      "Using 'avg' to calculate new time of first frame: 0.0 ==> 107\n",
      "Current Index: 14\n",
      "Calling DataFrameInterpolator.scaleDataFrame method with current length 60053.0 and actual length 61017\n",
      "Using 'avg' to calculate new time of first frame: 0.0 ==> 105\n",
      "Current Index: 15\n",
      "Calling DataFrameInterpolator.scaleDataFrame method with current length 61599.0 and actual length 62982\n",
      "Using 'avg' to calculate new time of first frame: 0.0 ==> 108\n",
      "Current Index: 16\n",
      "Calling DataFrameInterpolator.scaleDataFrame method with current length 61670.0 and actual length 65180\n",
      "Using 'avg' to calculate new time of first frame: 0.0 ==> 110\n",
      "Current Index: 17\n",
      "Calling DataFrameInterpolator.scaleDataFrame method with current length 61086.0 and actual length 61750\n",
      "Using 'avg' to calculate new time of first frame: 0.0 ==> 110\n",
      "Current Index: 18\n",
      "Calling DataFrameInterpolator.scaleDataFrame method with current length 62922.0 and actual length 63515\n",
      "Using 'avg' to calculate new time of first frame: 0.0 ==> 111\n",
      "Current Index: 19\n",
      "Calling DataFrameInterpolator.scaleDataFrame method with current length 69928.0 and actual length 70709\n",
      "Using 'avg' to calculate new time of first frame: 0.0 ==> 110\n",
      "Current Index: 20\n",
      "Calling DataFrameInterpolator.scaleDataFrame method with current length 72651.0 and actual length 73274\n",
      "Using 'avg' to calculate new time of first frame: 0.0 ==> 113\n",
      "Current Index: 21\n",
      "Calling DataFrameInterpolator.scaleDataFrame method with current length 69061.0 and actual length 70244\n",
      "Using 'avg' to calculate new time of first frame: 0.0 ==> 113\n",
      "Current Index: 22\n",
      "Calling DataFrameInterpolator.scaleDataFrame method with current length 54506.0 and actual length 53356\n",
      "Using 'avg' to calculate new time of first frame: 0.0 ==> 114\n",
      "Current Index: 23\n",
      "Calling DataFrameInterpolator.scaleDataFrame method with current length 60680.0 and actual length 69011\n",
      "Using 'avg' to calculate new time of first frame: 0.0 ==> 114\n",
      "Current Index: 24\n",
      "Calling DataFrameInterpolator.scaleDataFrame method with current length 104692.0 and actual length 105258\n",
      "Using 'avg' to calculate new time of first frame: 0.0 ==> 111\n",
      "Current Index: 25\n",
      "Calling DataFrameInterpolator.scaleDataFrame method with current length 63608.0 and actual length 69410\n",
      "Using 'avg' to calculate new time of first frame: 0.0 ==> 113\n",
      "Current Index: 26\n",
      "Calling DataFrameInterpolator.scaleDataFrame method with current length 65414.0 and actual length 65980\n",
      "Using 'avg' to calculate new time of first frame: 0.0 ==> 115\n",
      "Current Index: 27\n",
      "Calling DataFrameInterpolator.scaleDataFrame method with current length 60407.0 and actual length 61317\n",
      "Using 'avg' to calculate new time of first frame: 0.0 ==> 115\n",
      "Current Index: 28\n",
      "Calling DataFrameInterpolator.scaleDataFrame method with current length 62639.0 and actual length 63448\n",
      "Using 'avg' to calculate new time of first frame: 0.0 ==> 128\n",
      "Current Index: 29\n",
      "Calling DataFrameInterpolator.scaleDataFrame method with current length 60658.0 and actual length 61217\n",
      "Using 'avg' to calculate new time of first frame: 0.0 ==> 112\n",
      "Current Index: 30\n",
      "Calling DataFrameInterpolator.scaleDataFrame method with current length 77498.0 and actual length 78103\n",
      "Using 'avg' to calculate new time of first frame: 0.0 ==> 132\n",
      "Current Index: 31\n",
      "Calling DataFrameInterpolator.scaleDataFrame method with current length 64669.0 and actual length 65647\n",
      "Using 'avg' to calculate new time of first frame: 0.0 ==> 128\n",
      "Current Index: 32\n",
      "Calling DataFrameInterpolator.scaleDataFrame method with current length 67195 and actual length 68444\n",
      "Using 'avg' to calculate new time of first frame: 0 ==> 134\n",
      "Current Index: 33\n",
      "Calling DataFrameInterpolator.scaleDataFrame method with current length 61528 and actual length 62383\n",
      "Using 'avg' to calculate new time of first frame: 0 ==> 142\n",
      "0: (620, 18) (1373, 17)\n",
      "1: (536, 18) (1261, 17)\n",
      "2: (515, 18) (1280, 17)\n",
      "3: (667, 18) (1411, 17)\n",
      "4: (525, 18) (1257, 17)\n",
      "5: (483, 18) (1284, 17)\n",
      "6: (618, 18) (1334, 17)\n",
      "7: (457, 18) (1268, 17)\n",
      "8: (507, 18) (1290, 17)\n",
      "9: (493, 18) (1281, 17)\n",
      "10: (509, 18) (1379, 17)\n",
      "11: (453, 18) (1234, 17)\n",
      "12: (483, 18) (1295, 17)\n",
      "13: (568, 18) (1249, 17)\n",
      "14: (567, 18) (1220, 17)\n",
      "15: (566, 18) (1259, 17)\n",
      "16: (558, 18) (1303, 17)\n",
      "17: (552, 18) (1234, 17)\n",
      "18: (566, 18) (1270, 17)\n",
      "19: (633, 18) (1413, 17)\n",
      "20: (638, 18) (1465, 17)\n",
      "21: (607, 18) (1404, 17)\n",
      "22: (477, 18) (1066, 17)\n",
      "23: (531, 18) (1379, 17)\n",
      "24: (940, 18) (2104, 17)\n",
      "25: (562, 18) (1387, 17)\n",
      "26: (564, 18) (1319, 17)\n",
      "27: (522, 18) (1225, 17)\n",
      "28: (486, 18) (1268, 17)\n",
      "29: (541, 18) (1224, 17)\n",
      "30: (586, 18) (1561, 17)\n",
      "31: (505, 18) (1312, 17)\n",
      "32: (498, 18) (1368, 17)\n",
      "33: (433, 18) (1246, 17)\n"
     ]
    }
   ],
   "source": [
    "if use_rescaling_to_true_length:\n",
    "    de.rescale_data_frames(time_of_first_frame = 'avg', verbose=is_verbose)\n",
    "\n",
    "if use_interpolation:\n",
    "    if is_frame_based:\n",
    "        de.interpolate_and_convert_framebased_labels(new_frmlen=ms_per_frame_interpolated, verbose=is_verbose)\n",
    "    else:\n",
    "        de.interpolate_data_frames(frmlen=ms_per_frame_interpolated, verbose=is_verbose)"
   ]
  },
  {
   "cell_type": "code",
   "execution_count": 18,
   "metadata": {},
   "outputs": [
    {
     "name": "stdout",
     "output_type": "stream",
     "text": [
      "i: 0 \tshape X: (1356, 18, 16) \tshape y: (1356,) \tcount: 144\n",
      "i: 1 \tshape X: (1244, 18, 16) \tshape y: (1244,) \tcount: 168\n",
      "i: 2 \tshape X: (1263, 18, 16) \tshape y: (1263,) \tcount: 192\n",
      "i: 3 \tshape X: (1394, 18, 16) \tshape y: (1394,) \tcount: 264\n",
      "i: 4 \tshape X: (1240, 18, 16) \tshape y: (1240,) \tcount: 156\n",
      "i: 5 \tshape X: (1267, 18, 16) \tshape y: (1267,) \tcount: 180\n",
      "i: 6 \tshape X: (1317, 18, 16) \tshape y: (1317,) \tcount: 156\n",
      "i: 7 \tshape X: (1251, 18, 16) \tshape y: (1251,) \tcount: 120\n",
      "i: 8 \tshape X: (1273, 18, 16) \tshape y: (1273,) \tcount: 132\n",
      "i: 9 \tshape X: (1264, 18, 16) \tshape y: (1264,) \tcount: 144\n",
      "i: 10 \tshape X: (1362, 18, 16) \tshape y: (1362,) \tcount: 120\n",
      "i: 11 \tshape X: (1217, 18, 16) \tshape y: (1217,) \tcount: 96\n",
      "i: 12 \tshape X: (1278, 18, 16) \tshape y: (1278,) \tcount: 132\n",
      "i: 13 \tshape X: (1232, 18, 16) \tshape y: (1232,) \tcount: 0\n",
      "i: 14 \tshape X: (1203, 18, 16) \tshape y: (1203,) \tcount: 12\n",
      "i: 15 \tshape X: (1242, 18, 16) \tshape y: (1242,) \tcount: 12\n",
      "i: 16 \tshape X: (1286, 18, 16) \tshape y: (1286,) \tcount: 0\n",
      "i: 17 \tshape X: (1217, 18, 16) \tshape y: (1217,) \tcount: 12\n",
      "i: 18 \tshape X: (1253, 18, 16) \tshape y: (1253,) \tcount: 12\n",
      "i: 19 \tshape X: (1396, 18, 16) \tshape y: (1396,) \tcount: 204\n",
      "i: 20 \tshape X: (1448, 18, 16) \tshape y: (1448,) \tcount: 144\n",
      "i: 21 \tshape X: (1387, 18, 16) \tshape y: (1387,) \tcount: 205\n",
      "i: 22 \tshape X: (1049, 18, 16) \tshape y: (1049,) \tcount: 0\n",
      "i: 23 \tshape X: (1362, 18, 16) \tshape y: (1362,) \tcount: 0\n",
      "i: 24 \tshape X: (2087, 18, 16) \tshape y: (2087,) \tcount: 12\n",
      "i: 25 \tshape X: (1370, 18, 16) \tshape y: (1370,) \tcount: 0\n",
      "i: 26 \tshape X: (1302, 18, 16) \tshape y: (1302,) \tcount: 12\n",
      "i: 27 \tshape X: (1208, 18, 16) \tshape y: (1208,) \tcount: 12\n",
      "i: 28 \tshape X: (1251, 18, 16) \tshape y: (1251,) \tcount: 0\n",
      "i: 29 \tshape X: (1207, 18, 16) \tshape y: (1207,) \tcount: 120\n",
      "i: 30 \tshape X: (1544, 18, 16) \tshape y: (1544,) \tcount: 180\n",
      "i: 31 \tshape X: (1295, 18, 16) \tshape y: (1295,) \tcount: 0\n",
      "i: 32 \tshape X: (1351, 18, 16) \tshape y: (1351,) \tcount: 84\n",
      "i: 33 \tshape X: (1229, 18, 16) \tshape y: (1229,) \tcount: 132\n",
      "-----------------------------------------------------------------------------\n",
      "shape final X: (44645, 18, 16)\n",
      "number of labeled samples: 3157\n",
      "Label 0: 41488 \t92.93% of total\n",
      "Label 1: 516 \t16.34% of labeled\n",
      "Label 2: 744 \t23.57% of labeled\n",
      "Label 3: 553 \t17.52% of labeled\n",
      "Label 6: 1344 \t42.57% of labeled\n"
     ]
    }
   ],
   "source": [
    "if is_frame_based:\n",
    "    de.assemble_data()\n",
    "else:\n",
    "    de.assemble_data(tolerance_range = 600, max_error = 550)\n",
    "    \n",
    "de.display_information()"
   ]
  },
  {
   "cell_type": "code",
   "execution_count": 26,
   "metadata": {},
   "outputs": [
    {
     "data": {
      "text/html": [
       "<div>\n",
       "<style scoped>\n",
       "    .dataframe tbody tr th:only-of-type {\n",
       "        vertical-align: middle;\n",
       "    }\n",
       "\n",
       "    .dataframe tbody tr th {\n",
       "        vertical-align: top;\n",
       "    }\n",
       "\n",
       "    .dataframe thead th {\n",
       "        text-align: right;\n",
       "    }\n",
       "</style>\n",
       "<table border=\"1\" class=\"dataframe\">\n",
       "  <thead>\n",
       "    <tr style=\"text-align: right;\">\n",
       "      <th></th>\n",
       "      <th>filename_features</th>\n",
       "      <th>filename_labels</th>\n",
       "    </tr>\n",
       "  </thead>\n",
       "  <tbody>\n",
       "    <tr>\n",
       "      <th>0</th>\n",
       "      <td>features_flip_c_01_120.csv</td>\n",
       "      <td>labels_flip_c_01.csv</td>\n",
       "    </tr>\n",
       "    <tr>\n",
       "      <th>1</th>\n",
       "      <td>features_flip_c_02_120.csv</td>\n",
       "      <td>labels_flip_c_02.csv</td>\n",
       "    </tr>\n",
       "    <tr>\n",
       "      <th>2</th>\n",
       "      <td>features_flip_c_03_120.csv</td>\n",
       "      <td>labels_flip_c_03.csv</td>\n",
       "    </tr>\n",
       "    <tr>\n",
       "      <th>3</th>\n",
       "      <td>features_flip_l_01_120.csv</td>\n",
       "      <td>labels_flip_l_01.csv</td>\n",
       "    </tr>\n",
       "    <tr>\n",
       "      <th>4</th>\n",
       "      <td>features_flip_l_02_120.csv</td>\n",
       "      <td>labels_flip_l_02.csv</td>\n",
       "    </tr>\n",
       "    <tr>\n",
       "      <th>5</th>\n",
       "      <td>features_flip_l_03_120.csv</td>\n",
       "      <td>labels_flip_l_03.csv</td>\n",
       "    </tr>\n",
       "    <tr>\n",
       "      <th>6</th>\n",
       "      <td>features_flip_p_01_120.csv</td>\n",
       "      <td>labels_flip_p_01.csv</td>\n",
       "    </tr>\n",
       "    <tr>\n",
       "      <th>7</th>\n",
       "      <td>features_land_c_01_120.csv</td>\n",
       "      <td>labels_land_c_01.csv</td>\n",
       "    </tr>\n",
       "    <tr>\n",
       "      <th>8</th>\n",
       "      <td>features_land_c_02_120.csv</td>\n",
       "      <td>labels_land_c_02.csv</td>\n",
       "    </tr>\n",
       "    <tr>\n",
       "      <th>9</th>\n",
       "      <td>features_land_c_03_120.csv</td>\n",
       "      <td>labels_land_c_03.csv</td>\n",
       "    </tr>\n",
       "    <tr>\n",
       "      <th>10</th>\n",
       "      <td>features_land_l_01_120.csv</td>\n",
       "      <td>labels_land_l_01.csv</td>\n",
       "    </tr>\n",
       "    <tr>\n",
       "      <th>11</th>\n",
       "      <td>features_land_l_02_120.csv</td>\n",
       "      <td>labels_land_l_02.csv</td>\n",
       "    </tr>\n",
       "    <tr>\n",
       "      <th>12</th>\n",
       "      <td>features_land_l_03_120.csv</td>\n",
       "      <td>labels_land_l_03.csv</td>\n",
       "    </tr>\n",
       "    <tr>\n",
       "      <th>13</th>\n",
       "      <td>features_left_c_01_120.csv</td>\n",
       "      <td>labels_left_c_01.csv</td>\n",
       "    </tr>\n",
       "    <tr>\n",
       "      <th>14</th>\n",
       "      <td>features_left_c_02_120.csv</td>\n",
       "      <td>labels_left_c_02.csv</td>\n",
       "    </tr>\n",
       "    <tr>\n",
       "      <th>15</th>\n",
       "      <td>features_left_c_03_120.csv</td>\n",
       "      <td>labels_left_c_03.csv</td>\n",
       "    </tr>\n",
       "    <tr>\n",
       "      <th>16</th>\n",
       "      <td>features_left_l_01_120.csv</td>\n",
       "      <td>labels_left_l_01.csv</td>\n",
       "    </tr>\n",
       "    <tr>\n",
       "      <th>17</th>\n",
       "      <td>features_left_l_02_120.csv</td>\n",
       "      <td>labels_left_l_02.csv</td>\n",
       "    </tr>\n",
       "    <tr>\n",
       "      <th>18</th>\n",
       "      <td>features_left_l_03_120.csv</td>\n",
       "      <td>labels_left_l_03.csv</td>\n",
       "    </tr>\n",
       "    <tr>\n",
       "      <th>19</th>\n",
       "      <td>features_move_c_01_120.csv</td>\n",
       "      <td>labels_move_c_01.csv</td>\n",
       "    </tr>\n",
       "    <tr>\n",
       "      <th>20</th>\n",
       "      <td>features_move_l_01_120.csv</td>\n",
       "      <td>labels_move_l_01.csv</td>\n",
       "    </tr>\n",
       "    <tr>\n",
       "      <th>21</th>\n",
       "      <td>features_move_p_01_120.csv</td>\n",
       "      <td>labels_move_p_01.csv</td>\n",
       "    </tr>\n",
       "    <tr>\n",
       "      <th>22</th>\n",
       "      <td>features_none_p_01_120.csv</td>\n",
       "      <td>labels_none.csv</td>\n",
       "    </tr>\n",
       "    <tr>\n",
       "      <th>23</th>\n",
       "      <td>features_right_c_01_120.csv</td>\n",
       "      <td>labels_right_c_01.csv</td>\n",
       "    </tr>\n",
       "    <tr>\n",
       "      <th>24</th>\n",
       "      <td>features_right_c_02_120.csv</td>\n",
       "      <td>labels_right_c_02.csv</td>\n",
       "    </tr>\n",
       "    <tr>\n",
       "      <th>25</th>\n",
       "      <td>features_right_l_01_120.csv</td>\n",
       "      <td>labels_right_l_01.csv</td>\n",
       "    </tr>\n",
       "    <tr>\n",
       "      <th>26</th>\n",
       "      <td>features_right_l_02_120.csv</td>\n",
       "      <td>labels_right_l_02.csv</td>\n",
       "    </tr>\n",
       "    <tr>\n",
       "      <th>27</th>\n",
       "      <td>features_right_l_03_120.csv</td>\n",
       "      <td>labels_right_l_03.csv</td>\n",
       "    </tr>\n",
       "    <tr>\n",
       "      <th>28</th>\n",
       "      <td>features_takeoff_c_01_120.csv</td>\n",
       "      <td>labels_takeoff_c_01.csv</td>\n",
       "    </tr>\n",
       "    <tr>\n",
       "      <th>29</th>\n",
       "      <td>features_takeoff_c_02_120.csv</td>\n",
       "      <td>labels_takeoff_c_02.csv</td>\n",
       "    </tr>\n",
       "    <tr>\n",
       "      <th>30</th>\n",
       "      <td>features_takeoff_c_03_120.csv</td>\n",
       "      <td>labels_takeoff_c_03.csv</td>\n",
       "    </tr>\n",
       "    <tr>\n",
       "      <th>31</th>\n",
       "      <td>features_takeoff_l_01_120.csv</td>\n",
       "      <td>labels_takeoff_l_01.csv</td>\n",
       "    </tr>\n",
       "    <tr>\n",
       "      <th>32</th>\n",
       "      <td>features_takeoff_l_02_120.csv</td>\n",
       "      <td>labels_takeoff_l_02.csv</td>\n",
       "    </tr>\n",
       "    <tr>\n",
       "      <th>33</th>\n",
       "      <td>features_takeoff_l_03_120.csv</td>\n",
       "      <td>labels_takeoff_l_03.csv</td>\n",
       "    </tr>\n",
       "  </tbody>\n",
       "</table>\n",
       "</div>"
      ],
      "text/plain": [
       "                filename_features          filename_labels\n",
       "0      features_flip_c_01_120.csv     labels_flip_c_01.csv\n",
       "1      features_flip_c_02_120.csv     labels_flip_c_02.csv\n",
       "2      features_flip_c_03_120.csv     labels_flip_c_03.csv\n",
       "3      features_flip_l_01_120.csv     labels_flip_l_01.csv\n",
       "4      features_flip_l_02_120.csv     labels_flip_l_02.csv\n",
       "5      features_flip_l_03_120.csv     labels_flip_l_03.csv\n",
       "6      features_flip_p_01_120.csv     labels_flip_p_01.csv\n",
       "7      features_land_c_01_120.csv     labels_land_c_01.csv\n",
       "8      features_land_c_02_120.csv     labels_land_c_02.csv\n",
       "9      features_land_c_03_120.csv     labels_land_c_03.csv\n",
       "10     features_land_l_01_120.csv     labels_land_l_01.csv\n",
       "11     features_land_l_02_120.csv     labels_land_l_02.csv\n",
       "12     features_land_l_03_120.csv     labels_land_l_03.csv\n",
       "13     features_left_c_01_120.csv     labels_left_c_01.csv\n",
       "14     features_left_c_02_120.csv     labels_left_c_02.csv\n",
       "15     features_left_c_03_120.csv     labels_left_c_03.csv\n",
       "16     features_left_l_01_120.csv     labels_left_l_01.csv\n",
       "17     features_left_l_02_120.csv     labels_left_l_02.csv\n",
       "18     features_left_l_03_120.csv     labels_left_l_03.csv\n",
       "19     features_move_c_01_120.csv     labels_move_c_01.csv\n",
       "20     features_move_l_01_120.csv     labels_move_l_01.csv\n",
       "21     features_move_p_01_120.csv     labels_move_p_01.csv\n",
       "22     features_none_p_01_120.csv          labels_none.csv\n",
       "23    features_right_c_01_120.csv    labels_right_c_01.csv\n",
       "24    features_right_c_02_120.csv    labels_right_c_02.csv\n",
       "25    features_right_l_01_120.csv    labels_right_l_01.csv\n",
       "26    features_right_l_02_120.csv    labels_right_l_02.csv\n",
       "27    features_right_l_03_120.csv    labels_right_l_03.csv\n",
       "28  features_takeoff_c_01_120.csv  labels_takeoff_c_01.csv\n",
       "29  features_takeoff_c_02_120.csv  labels_takeoff_c_02.csv\n",
       "30  features_takeoff_c_03_120.csv  labels_takeoff_c_03.csv\n",
       "31  features_takeoff_l_01_120.csv  labels_takeoff_l_01.csv\n",
       "32  features_takeoff_l_02_120.csv  labels_takeoff_l_02.csv\n",
       "33  features_takeoff_l_03_120.csv  labels_takeoff_l_03.csv"
      ]
     },
     "execution_count": 26,
     "metadata": {},
     "output_type": "execute_result"
    }
   ],
   "source": [
    "de.combined_data_files_df"
   ]
  },
  {
   "cell_type": "code",
   "execution_count": 19,
   "metadata": {},
   "outputs": [
    {
     "data": {
      "text/plain": [
       "{'leftElbow_x': 0,\n",
       " 'leftElbow_y': 1,\n",
       " 'leftHip_x': 2,\n",
       " 'leftHip_y': 3,\n",
       " 'leftShoulder_x': 4,\n",
       " 'leftShoulder_y': 5,\n",
       " 'leftWrist_x': 6,\n",
       " 'leftWrist_y': 7,\n",
       " 'rightElbow_x': 8,\n",
       " 'rightElbow_y': 9,\n",
       " 'rightHip_x': 10,\n",
       " 'rightHip_y': 11,\n",
       " 'rightShoulder_x': 12,\n",
       " 'rightShoulder_y': 13,\n",
       " 'rightWrist_x': 14,\n",
       " 'rightWrist_y': 15}"
      ]
     },
     "execution_count": 19,
     "metadata": {},
     "output_type": "execute_result"
    }
   ],
   "source": [
    "feature_names = list(de.feature_names)\n",
    "feat_dict = {feature:feature_names.index(feature) for feature in feature_names}\n",
    "feat_dict"
   ]
  },
  {
   "cell_type": "code",
   "execution_count": null,
   "metadata": {},
   "outputs": [],
   "source": [
    "def plot_charts(de, file_id, tail=5, head=5, plots_per_row=30, body_part='leftWrist', is_frame_based = True):\n",
    "\n",
    "    global movements\n",
    "    \n",
    "    kx = body_part + '_x'\n",
    "    ky = body_part + '_y'\n",
    "\n",
    "    lgen = de.LabelGenerators[file_id]\n",
    "    y = lgen.y\n",
    "    n = len(lgen.y)\n",
    "\n",
    "    gt = GestureTransformer(byrow=True, feature_names=feature_names)\n",
    "    X = gt.transform(lgen.X)\n",
    "    s = lgen.X.shape[1]\n",
    "\n",
    "    d = lgen.labeled_data\n",
    "    dims = d[feature_names].shape\n",
    "    D = d[feature_names].values.reshape(1,dims[0],dims[1])\n",
    "    D = gt.transform(D).reshape(dims[0],dims[1])\n",
    "    Dx = D[:,feat_dict[kx]]\n",
    "    Dy = D[:,feat_dict[ky]]    \n",
    "    \n",
    "    for j in range(n // plots_per_row + 1):\n",
    "        \n",
    "        plt.figure(figsize=(2 * plots_per_row, 2))\n",
    "        \n",
    "        for i in range (plots_per_row):\n",
    "            plt.subplot(1, plots_per_row, i + 1)\n",
    "            index = j*plots_per_row + i\n",
    "\n",
    "            # specify axes range\n",
    "            axes = plt.gca()\n",
    "            axes.set_xlim([-2,2])\n",
    "            axes.set_ylim([-2,2])\n",
    "            axes.get_yaxis().set_visible(False)\n",
    "            axes.get_xaxis().set_visible(False)\n",
    "\n",
    "            if index < n:\n",
    "                title_suffix = ''\n",
    "                if (int(y[index])>0):\n",
    "                    axes.set_facecolor((0.95, 0.95, 0.95))\n",
    "                    title_suffix = ' | ' + movements[int(y[index])]\n",
    "\n",
    "                # movement\n",
    "                l1, u1 = max(0,index - s), index\n",
    "                plt.plot(Dx[l1:u1],Dy[l1:u1],color = \"xkcd:baby blue\")\n",
    "\n",
    "                # past\n",
    "                l2, u2 = max(0,index - s - tail), max(0,index-s)\n",
    "                plt.plot(Dx[l2:u2+1],Dy[l2:u2+1],linestyle = \"--\",color = \"green\")\n",
    "\n",
    "                # future\n",
    "                l3, u3 = index, min(index + head,dims[0])\n",
    "                plt.plot(Dx[l3:u3],Dy[l3:u3],linestyle = \"--\",color = \"red\")\n",
    "                \n",
    "                # current frame\n",
    "                plt.plot(Dx[u1-1],Dy[u1-1],color = \"xkcd:baby blue\",marker = \"o\")\n",
    "                \n",
    "                if is_frame_based:\n",
    "                    plt.title(str(index) + title_suffix)\n",
    "                else:\n",
    "                    plt.title(str(index) + \"/\" + str(round(lgen.sequence_end_time[index]/1000,2)) + \" l=\" + str(int(y[index])))\n",
    "                \n",
    "\n",
    "        plt.show()\n",
    "        plt.close()    "
   ]
  },
  {
   "cell_type": "markdown",
   "metadata": {},
   "source": [
    "Available body parts:\n",
    "```\n",
    "leftElbow\n",
    "leftHip\n",
    "leftShoulder\n",
    "leftWrist\n",
    "rightElbow\n",
    "rightHip\n",
    "rightShoulder\n",
    "rightWrist\n",
    "```"
   ]
  },
  {
   "cell_type": "code",
   "execution_count": null,
   "metadata": {},
   "outputs": [],
   "source": [
    "de.combined_data_files_df"
   ]
  },
  {
   "cell_type": "markdown",
   "metadata": {},
   "source": [
    "**Legend:**<br>\n",
    "<span style=\"color:blue\">gesture</span><br>\n",
    "<span style=\"color:red\">frames *after* gesture</span><br>\n",
    "<span style=\"color:green\">frames *before* gesture</span>"
   ]
  },
  {
   "cell_type": "code",
   "execution_count": null,
   "metadata": {},
   "outputs": [],
   "source": [
    "movements = {0: 'not detected',\n",
    "             1: 'takeoff',\n",
    "             2: 'move',\n",
    "             3: 'flip',\n",
    "             4: 'left',\n",
    "             5: 'right',\n",
    "             6: 'land'}"
   ]
  },
  {
   "cell_type": "code",
   "execution_count": null,
   "metadata": {
    "scrolled": false
   },
   "outputs": [],
   "source": [
    "file_id = 33\n",
    "plot_charts(de, file_id=file_id, tail=5, head=5, plots_per_row=30, body_part='leftWrist', is_frame_based = is_frame_based)"
   ]
  },
  {
   "cell_type": "markdown",
   "metadata": {},
   "source": [
    "Display the movement endpoints (in milliseconds) of all non-zero labeled gestures:"
   ]
  },
  {
   "cell_type": "code",
   "execution_count": null,
   "metadata": {},
   "outputs": [],
   "source": [
    "de.LabelGenerators[file_id].label_df.join(de.LabelGenerators[file_id].label_info)"
   ]
  },
  {
   "cell_type": "markdown",
   "metadata": {},
   "source": [
    "Display the indices of movement ends of all non-zero labeled gestures:"
   ]
  },
  {
   "cell_type": "code",
   "execution_count": null,
   "metadata": {},
   "outputs": [],
   "source": [
    "lgen = de.LabelGenerators[file_id]\n",
    "y = lgen.y\n",
    "\n",
    "gt = GestureTransformer(byrow=True, feature_names=feature_names)\n",
    "X = gt.transform(lgen.X)\n",
    "\n",
    "gt = GestureTransformer(feature_names)\n",
    "P = gt.transform(de.X)\n",
    "\n",
    "key = 'leftWrist'\n",
    "kx = key + '_x'\n",
    "ky = key + '_y'\n",
    "\n",
    "# get the label which is used in the current file\n",
    "lab = y[y>0][0]\n",
    "\n",
    "this_set = True\n",
    "if not this_set: #use all the data\n",
    "    movementData = P[np.isclose(de.y,lab),:,:]\n",
    "else:\n",
    "    movementData = X[np.isclose(y,lab),:,:]\n",
    "\n",
    "print(movementData.shape)\n",
    "movementData = movementData[:,:,[feat_dict[kx],feat_dict[ky]]]\n",
    "avgMovement = movementData.mean(axis = 0)\n",
    "avgMovement"
   ]
  },
  {
   "cell_type": "code",
   "execution_count": null,
   "metadata": {},
   "outputs": [],
   "source": []
  },
  {
   "cell_type": "code",
   "execution_count": null,
   "metadata": {},
   "outputs": [],
   "source": []
  }
 ],
 "metadata": {
  "kernelspec": {
   "display_name": "Python 3",
   "language": "python",
   "name": "python3"
  },
  "language_info": {
   "codemirror_mode": {
    "name": "ipython",
    "version": 3
   },
   "file_extension": ".py",
   "mimetype": "text/x-python",
   "name": "python",
   "nbconvert_exporter": "python",
   "pygments_lexer": "ipython3",
   "version": "3.6.6"
  }
 },
 "nbformat": 4,
 "nbformat_minor": 2
}
