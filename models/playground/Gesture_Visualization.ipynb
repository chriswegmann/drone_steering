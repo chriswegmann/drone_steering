{
 "cells": [
  {
   "cell_type": "markdown",
   "metadata": {},
   "source": [
    "#### Import libraries / modules"
   ]
  },
  {
   "cell_type": "code",
   "execution_count": 1,
   "metadata": {},
   "outputs": [],
   "source": [
    "import numpy as np\n",
    "import pandas as pd\n",
    "import os\n",
    "import sys\n",
    "import matplotlib.pyplot as plt\n",
    "from matplotlib.ticker import NullFormatter"
   ]
  },
  {
   "cell_type": "code",
   "execution_count": 2,
   "metadata": {},
   "outputs": [],
   "source": [
    "import warnings\n",
    "warnings.filterwarnings(\"ignore\")"
   ]
  },
  {
   "cell_type": "code",
   "execution_count": 3,
   "metadata": {},
   "outputs": [
    {
     "data": {
      "text/html": [
       "<style>.container { width:100% !important; }</style>"
      ],
      "text/plain": [
       "<IPython.core.display.HTML object>"
      ]
     },
     "metadata": {},
     "output_type": "display_data"
    }
   ],
   "source": [
    "from IPython.core.display import display, HTML\n",
    "display(HTML(\"<style>.container { width:100% !important; }</style>\"))"
   ]
  },
  {
   "cell_type": "code",
   "execution_count": 4,
   "metadata": {},
   "outputs": [
    {
     "data": {
      "text/plain": [
       "'C:\\\\Users\\\\p.schambach\\\\Desktop\\\\DSR\\\\drone_steering\\\\models\\\\playground'"
      ]
     },
     "execution_count": 4,
     "metadata": {},
     "output_type": "execute_result"
    }
   ],
   "source": [
    "os.getcwd()"
   ]
  },
  {
   "cell_type": "code",
   "execution_count": 5,
   "metadata": {},
   "outputs": [],
   "source": [
    "os.chdir('../..')"
   ]
  },
  {
   "cell_type": "code",
   "execution_count": 6,
   "metadata": {},
   "outputs": [],
   "source": [
    "from app_local.module import DataEnsembler, GestureTransformer"
   ]
  },
  {
   "cell_type": "markdown",
   "metadata": {},
   "source": [
    "#### Set parameters"
   ]
  },
  {
   "cell_type": "code",
   "execution_count": 7,
   "metadata": {},
   "outputs": [
    {
     "data": {
      "text/plain": [
       "50"
      ]
     },
     "execution_count": 7,
     "metadata": {},
     "output_type": "execute_result"
    }
   ],
   "source": [
    "is_frame_based = False\n",
    "ms_per_frame_original = 120\n",
    "ms_per_frame_interpolated = 50\n",
    "use_rescaling_to_true_length = True\n",
    "use_interpolation = True\n",
    "is_verbose = True\n",
    "ms_per_frame_interpolated"
   ]
  },
  {
   "cell_type": "markdown",
   "metadata": {},
   "source": [
    "#### Load, interpolate and assemble data"
   ]
  },
  {
   "cell_type": "code",
   "execution_count": 10,
   "metadata": {},
   "outputs": [],
   "source": [
    "de = DataEnsembler(ms_per_frame=ms_per_frame_original)\n",
    "de.investigate_available_datafiles(data_dir='data/gesture/', is_frame_based = is_frame_based)\n",
    "de.load_data()"
   ]
  },
  {
   "cell_type": "code",
   "execution_count": null,
   "metadata": {
    "scrolled": true
   },
   "outputs": [],
   "source": [
    "if use_rescaling_to_true_length:\n",
    "    de.rescale_data_frames(time_of_first_frame = 'avg', verbose=is_verbose)\n",
    "\n",
    "if use_interpolation:\n",
    "    if is_frame_based:\n",
    "        de.interpolate_and_convert_framebased_labels(new_frmlen=ms_per_frame_interpolated, verbose=is_verbose)\n",
    "    else:\n",
    "        de.interpolate_data_frames(frmlen=ms_per_frame_interpolated, verbose=is_verbose)"
   ]
  },
  {
   "cell_type": "code",
   "execution_count": null,
   "metadata": {},
   "outputs": [],
   "source": [
    "if is_frame_based:\n",
    "    de.assemble_data()\n",
    "else:\n",
    "    de.assemble_data(tolerance_range = 600, max_error = 550)\n",
    "    \n",
    "de.display_information()"
   ]
  },
  {
   "cell_type": "code",
   "execution_count": null,
   "metadata": {},
   "outputs": [],
   "source": [
    "de.combined_data_files_df"
   ]
  },
  {
   "cell_type": "code",
   "execution_count": null,
   "metadata": {},
   "outputs": [],
   "source": [
    "feature_names = list(de.feature_names)\n",
    "feat_dict = {feature:feature_names.index(feature) for feature in feature_names}\n",
    "feat_dict"
   ]
  },
  {
   "cell_type": "code",
   "execution_count": null,
   "metadata": {},
   "outputs": [],
   "source": [
    "def plot_charts(de, file_id, tail=5, head=5, plots_per_row=30, body_part='leftWrist', is_frame_based = True):\n",
    "\n",
    "    global movements\n",
    "    \n",
    "    kx = body_part + '_x'\n",
    "    ky = body_part + '_y'\n",
    "\n",
    "    lgen = de.LabelGenerators[file_id]\n",
    "    y = lgen.y\n",
    "    n = len(lgen.y)\n",
    "\n",
    "    gt = GestureTransformer(byrow=True, feature_names=feature_names)\n",
    "    X = gt.transform(lgen.X)\n",
    "    s = lgen.X.shape[1]\n",
    "\n",
    "    d = lgen.labeled_data\n",
    "    dims = d[feature_names].shape\n",
    "    D = d[feature_names].values.reshape(1,dims[0],dims[1])\n",
    "    D = gt.transform(D).reshape(dims[0],dims[1])\n",
    "    Dx = D[:,feat_dict[kx]]\n",
    "    Dy = D[:,feat_dict[ky]]    \n",
    "    \n",
    "    for j in range(n // plots_per_row + 1):\n",
    "        \n",
    "        plt.figure(figsize=(2 * plots_per_row, 2))\n",
    "        \n",
    "        for i in range (plots_per_row):\n",
    "            plt.subplot(1, plots_per_row, i + 1)\n",
    "            index = j*plots_per_row + i\n",
    "\n",
    "            # specify axes range\n",
    "            axes = plt.gca()\n",
    "            axes.set_xlim([-2,2])\n",
    "            axes.set_ylim([-2,2])\n",
    "            axes.get_yaxis().set_visible(False)\n",
    "            axes.get_xaxis().set_visible(False)\n",
    "\n",
    "            if index < n:\n",
    "                title_suffix = ''\n",
    "                if (int(y[index])>0):\n",
    "                    axes.set_facecolor((0.95, 0.95, 0.95))\n",
    "                    title_suffix = ' | ' + movements[int(y[index])]\n",
    "\n",
    "                # movement\n",
    "                l1, u1 = max(0,index - s), index\n",
    "                plt.plot(Dx[l1:u1],Dy[l1:u1],color = \"xkcd:baby blue\")\n",
    "\n",
    "                # past\n",
    "                l2, u2 = max(0,index - s - tail), max(0,index-s)\n",
    "                plt.plot(Dx[l2:u2+1],Dy[l2:u2+1],linestyle = \"--\",color = \"green\")\n",
    "\n",
    "                # future\n",
    "                l3, u3 = index, min(index + head,dims[0])\n",
    "                plt.plot(Dx[l3:u3],Dy[l3:u3],linestyle = \"--\",color = \"red\")\n",
    "                \n",
    "                # current frame\n",
    "                plt.plot(Dx[u1-1],Dy[u1-1],color = \"xkcd:baby blue\",marker = \"o\")\n",
    "                \n",
    "                if is_frame_based:\n",
    "                    plt.title(str(index) + title_suffix)\n",
    "                else:\n",
    "                    plt.title(str(index) + \"/\" + str(round(lgen.sequence_end_time[index]/1000,2)) + \" l=\" + str(int(y[index])))\n",
    "                \n",
    "\n",
    "        plt.show()\n",
    "        plt.close()    "
   ]
  },
  {
   "cell_type": "markdown",
   "metadata": {},
   "source": [
    "Available body parts:\n",
    "```\n",
    "leftElbow\n",
    "leftHip\n",
    "leftShoulder\n",
    "leftWrist\n",
    "rightElbow\n",
    "rightHip\n",
    "rightShoulder\n",
    "rightWrist\n",
    "```"
   ]
  },
  {
   "cell_type": "code",
   "execution_count": null,
   "metadata": {},
   "outputs": [],
   "source": [
    "de.combined_data_files_df"
   ]
  },
  {
   "cell_type": "markdown",
   "metadata": {},
   "source": [
    "**Legend:**<br>\n",
    "<span style=\"color:blue\">gesture</span><br>\n",
    "<span style=\"color:red\">frames *after* gesture</span><br>\n",
    "<span style=\"color:green\">frames *before* gesture</span>"
   ]
  },
  {
   "cell_type": "code",
   "execution_count": null,
   "metadata": {},
   "outputs": [],
   "source": [
    "movements = {0: 'not detected',\n",
    "             1: 'takeoff',\n",
    "             2: 'move',\n",
    "             3: 'flip',\n",
    "             4: 'left',\n",
    "             5: 'right',\n",
    "             6: 'land'}"
   ]
  },
  {
   "cell_type": "code",
   "execution_count": null,
   "metadata": {
    "scrolled": false
   },
   "outputs": [],
   "source": [
    "file_id = 33\n",
    "plot_charts(de, file_id=file_id, tail=5, head=5, plots_per_row=30, body_part='leftWrist', is_frame_based = is_frame_based)"
   ]
  },
  {
   "cell_type": "markdown",
   "metadata": {},
   "source": [
    "Display the movement endpoints (in milliseconds) of all non-zero labeled gestures:"
   ]
  },
  {
   "cell_type": "code",
   "execution_count": null,
   "metadata": {},
   "outputs": [],
   "source": [
    "de.LabelGenerators[file_id].label_df.join(de.LabelGenerators[file_id].label_info)"
   ]
  },
  {
   "cell_type": "markdown",
   "metadata": {},
   "source": [
    "Display the indices of movement ends of all non-zero labeled gestures:"
   ]
  },
  {
   "cell_type": "code",
   "execution_count": null,
   "metadata": {},
   "outputs": [],
   "source": [
    "lgen = de.LabelGenerators[file_id]\n",
    "y = lgen.y\n",
    "\n",
    "gt = GestureTransformer(byrow=True, feature_names=feature_names)\n",
    "X = gt.transform(lgen.X)\n",
    "\n",
    "gt = GestureTransformer(feature_names)\n",
    "P = gt.transform(de.X)\n",
    "\n",
    "key = 'leftWrist'\n",
    "kx = key + '_x'\n",
    "ky = key + '_y'\n",
    "\n",
    "# get the label which is used in the current file\n",
    "lab = y[y>0][0]\n",
    "\n",
    "this_set = True\n",
    "if not this_set: #use all the data\n",
    "    movementData = P[np.isclose(de.y,lab),:,:]\n",
    "else:\n",
    "    movementData = X[np.isclose(y,lab),:,:]\n",
    "\n",
    "print(movementData.shape)\n",
    "movementData = movementData[:,:,[feat_dict[kx],feat_dict[ky]]]\n",
    "avgMovement = movementData.mean(axis = 0)\n",
    "avgMovement"
   ]
  },
  {
   "cell_type": "code",
   "execution_count": null,
   "metadata": {},
   "outputs": [],
   "source": []
  },
  {
   "cell_type": "code",
   "execution_count": null,
   "metadata": {},
   "outputs": [],
   "source": []
  }
 ],
 "metadata": {
  "kernelspec": {
   "display_name": "Python 3",
   "language": "python",
   "name": "python3"
  },
  "language_info": {
   "codemirror_mode": {
    "name": "ipython",
    "version": 3
   },
   "file_extension": ".py",
   "mimetype": "text/x-python",
   "name": "python",
   "nbconvert_exporter": "python",
   "pygments_lexer": "ipython3",
   "version": "3.6.6"
  }
 },
 "nbformat": 4,
 "nbformat_minor": 2
}
