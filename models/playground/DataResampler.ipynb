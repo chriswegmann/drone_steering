{
 "cells": [
  {
   "cell_type": "code",
   "execution_count": 1,
   "metadata": {},
   "outputs": [
    {
     "data": {
      "text/html": [
       "<style>.container { width:100% !important; }</style>"
      ],
      "text/plain": [
       "<IPython.core.display.HTML object>"
      ]
     },
     "metadata": {},
     "output_type": "display_data"
    },
    {
     "data": {
      "text/plain": [
       "'C:\\\\Users\\\\p.schambach\\\\Desktop\\\\DSR\\\\drone_steering'"
      ]
     },
     "execution_count": 1,
     "metadata": {},
     "output_type": "execute_result"
    }
   ],
   "source": [
    "import numpy as np\n",
    "import pandas as pd\n",
    "import os\n",
    "import sys\n",
    "import warnings\n",
    "warnings.filterwarnings(\"ignore\")\n",
    "from IPython.core.display import display, HTML\n",
    "display(HTML(\"<style>.container { width:100% !important; }</style>\"))\n",
    "\n",
    "os.getcwd()\n",
    "os.chdir('../..')\n",
    "os.getcwd()"
   ]
  },
  {
   "cell_type": "code",
   "execution_count": 2,
   "metadata": {},
   "outputs": [
    {
     "name": "stdout",
     "output_type": "stream",
     "text": [
      "i: 0 \tshape X: (603, 18, 16) \tshape y: (603,) \tcount: 49\n",
      "i: 1 \tshape X: (519, 18, 16) \tshape y: (519,) \tcount: 37\n",
      "i: 2 \tshape X: (498, 18, 16) \tshape y: (498,) \tcount: 59\n",
      "i: 3 \tshape X: (650, 18, 16) \tshape y: (650,) \tcount: 138\n",
      "i: 4 \tshape X: (508, 18, 16) \tshape y: (508,) \tcount: 95\n",
      "i: 5 \tshape X: (466, 18, 16) \tshape y: (466,) \tcount: 90\n",
      "i: 6 \tshape X: (601, 18, 16) \tshape y: (601,) \tcount: 107\n",
      "i: 7 \tshape X: (440, 18, 16) \tshape y: (440,) \tcount: 83\n",
      "i: 8 \tshape X: (490, 18, 16) \tshape y: (490,) \tcount: 70\n",
      "i: 9 \tshape X: (476, 18, 16) \tshape y: (476,) \tcount: 74\n",
      "i: 10 \tshape X: (492, 18, 16) \tshape y: (492,) \tcount: 85\n",
      "i: 11 \tshape X: (436, 18, 16) \tshape y: (436,) \tcount: 59\n",
      "i: 12 \tshape X: (466, 18, 16) \tshape y: (466,) \tcount: 86\n",
      "i: 13 \tshape X: (551, 18, 16) \tshape y: (551,) \tcount: 127\n",
      "i: 14 \tshape X: (550, 18, 16) \tshape y: (550,) \tcount: 114\n",
      "i: 15 \tshape X: (549, 18, 16) \tshape y: (549,) \tcount: 115\n",
      "i: 16 \tshape X: (541, 18, 16) \tshape y: (541,) \tcount: 92\n",
      "i: 17 \tshape X: (535, 18, 16) \tshape y: (535,) \tcount: 121\n",
      "i: 18 \tshape X: (549, 18, 16) \tshape y: (549,) \tcount: 108\n",
      "i: 19 \tshape X: (616, 18, 16) \tshape y: (616,) \tcount: 72\n",
      "i: 20 \tshape X: (621, 18, 16) \tshape y: (621,) \tcount: 189\n",
      "i: 21 \tshape X: (590, 18, 16) \tshape y: (590,) \tcount: 107\n",
      "i: 22 \tshape X: (460, 18, 16) \tshape y: (460,) \tcount: 0\n",
      "i: 23 \tshape X: (514, 18, 16) \tshape y: (514,) \tcount: 120\n",
      "i: 24 \tshape X: (923, 18, 16) \tshape y: (923,) \tcount: 214\n",
      "i: 25 \tshape X: (545, 18, 16) \tshape y: (545,) \tcount: 91\n",
      "i: 26 \tshape X: (547, 18, 16) \tshape y: (547,) \tcount: 124\n",
      "i: 27 \tshape X: (505, 18, 16) \tshape y: (505,) \tcount: 111\n",
      "i: 28 \tshape X: (469, 18, 16) \tshape y: (469,) \tcount: 77\n",
      "i: 29 \tshape X: (524, 18, 16) \tshape y: (524,) \tcount: 89\n",
      "i: 30 \tshape X: (569, 18, 16) \tshape y: (569,) \tcount: 97\n",
      "i: 31 \tshape X: (488, 18, 16) \tshape y: (488,) \tcount: 57\n",
      "i: 32 \tshape X: (481, 18, 16) \tshape y: (481,) \tcount: 74\n",
      "i: 33 \tshape X: (416, 18, 16) \tshape y: (416,) \tcount: 59\n",
      "-----------------------------------------------------------------------------\n",
      "shape final X: (18188, 18, 16)\n",
      "number of labeled samples: 3190\n",
      "Label 0: 14998 \t82.46% of total\n",
      "Label 1: 453 \t14.2% of labeled\n",
      "Label 2: 368 \t11.54% of labeled\n",
      "Label 3: 575 \t18.03% of labeled\n",
      "Label 4: 677 \t21.22% of labeled\n",
      "Label 5: 660 \t20.69% of labeled\n",
      "Label 6: 457 \t14.33% of labeled\n"
     ]
    }
   ],
   "source": [
    "from app_local.module import DataEnsembler, GestureTransformer\n",
    "\n",
    "de = DataEnsembler(120)\n",
    "de.investigate_available_datafiles(data_dir='data/gesture/',is_frame_based=True)\n",
    "de.load_data()\n",
    "de.assemble_data()\n",
    "de.display_information()"
   ]
  },
  {
   "cell_type": "code",
   "execution_count": 3,
   "metadata": {},
   "outputs": [],
   "source": [
    "from app_local.module import DataResampler"
   ]
  },
  {
   "cell_type": "code",
   "execution_count": 4,
   "metadata": {},
   "outputs": [],
   "source": [
    "dr = DataResampler()"
   ]
  },
  {
   "cell_type": "code",
   "execution_count": 5,
   "metadata": {},
   "outputs": [
    {
     "data": {
      "text/html": [
       "<div>\n",
       "<style scoped>\n",
       "    .dataframe tbody tr th:only-of-type {\n",
       "        vertical-align: middle;\n",
       "    }\n",
       "\n",
       "    .dataframe tbody tr th {\n",
       "        vertical-align: top;\n",
       "    }\n",
       "\n",
       "    .dataframe thead th {\n",
       "        text-align: right;\n",
       "    }\n",
       "</style>\n",
       "<table border=\"1\" class=\"dataframe\">\n",
       "  <thead>\n",
       "    <tr style=\"text-align: right;\">\n",
       "      <th></th>\n",
       "      <th>abs_orig</th>\n",
       "      <th>pct_orig</th>\n",
       "      <th>abs_current</th>\n",
       "      <th>pct_current</th>\n",
       "    </tr>\n",
       "  </thead>\n",
       "  <tbody>\n",
       "    <tr>\n",
       "      <th>0</th>\n",
       "      <td>14998</td>\n",
       "      <td>82.46</td>\n",
       "      <td>14998</td>\n",
       "      <td>82.46</td>\n",
       "    </tr>\n",
       "    <tr>\n",
       "      <th>1</th>\n",
       "      <td>453</td>\n",
       "      <td>2.49</td>\n",
       "      <td>453</td>\n",
       "      <td>2.49</td>\n",
       "    </tr>\n",
       "    <tr>\n",
       "      <th>2</th>\n",
       "      <td>368</td>\n",
       "      <td>2.02</td>\n",
       "      <td>368</td>\n",
       "      <td>2.02</td>\n",
       "    </tr>\n",
       "    <tr>\n",
       "      <th>3</th>\n",
       "      <td>575</td>\n",
       "      <td>3.16</td>\n",
       "      <td>575</td>\n",
       "      <td>3.16</td>\n",
       "    </tr>\n",
       "    <tr>\n",
       "      <th>4</th>\n",
       "      <td>677</td>\n",
       "      <td>3.72</td>\n",
       "      <td>677</td>\n",
       "      <td>3.72</td>\n",
       "    </tr>\n",
       "    <tr>\n",
       "      <th>5</th>\n",
       "      <td>660</td>\n",
       "      <td>3.63</td>\n",
       "      <td>660</td>\n",
       "      <td>3.63</td>\n",
       "    </tr>\n",
       "    <tr>\n",
       "      <th>6</th>\n",
       "      <td>457</td>\n",
       "      <td>2.51</td>\n",
       "      <td>457</td>\n",
       "      <td>2.51</td>\n",
       "    </tr>\n",
       "  </tbody>\n",
       "</table>\n",
       "</div>"
      ],
      "text/plain": [
       "  abs_orig pct_orig abs_current pct_current\n",
       "0    14998    82.46       14998       82.46\n",
       "1      453     2.49         453        2.49\n",
       "2      368     2.02         368        2.02\n",
       "3      575     3.16         575        3.16\n",
       "4      677     3.72         677        3.72\n",
       "5      660     3.63         660        3.63\n",
       "6      457     2.51         457        2.51"
      ]
     },
     "execution_count": 5,
     "metadata": {},
     "output_type": "execute_result"
    }
   ],
   "source": [
    "dr.fit(de.X, de.y)\n",
    "dr.display_information()"
   ]
  },
  {
   "cell_type": "code",
   "execution_count": 6,
   "metadata": {},
   "outputs": [],
   "source": [
    "a,b = dr.train_test_split(0.2)"
   ]
  },
  {
   "cell_type": "code",
   "execution_count": 7,
   "metadata": {},
   "outputs": [
    {
     "name": "stdout",
     "output_type": "stream",
     "text": [
      "(3638, 18, 16) (3638,)\n"
     ]
    },
    {
     "data": {
      "text/html": [
       "<div>\n",
       "<style scoped>\n",
       "    .dataframe tbody tr th:only-of-type {\n",
       "        vertical-align: middle;\n",
       "    }\n",
       "\n",
       "    .dataframe tbody tr th {\n",
       "        vertical-align: top;\n",
       "    }\n",
       "\n",
       "    .dataframe thead th {\n",
       "        text-align: right;\n",
       "    }\n",
       "</style>\n",
       "<table border=\"1\" class=\"dataframe\">\n",
       "  <thead>\n",
       "    <tr style=\"text-align: right;\">\n",
       "      <th></th>\n",
       "      <th>abs_orig</th>\n",
       "      <th>pct_orig</th>\n",
       "      <th>abs_current</th>\n",
       "      <th>pct_current</th>\n",
       "    </tr>\n",
       "  </thead>\n",
       "  <tbody>\n",
       "    <tr>\n",
       "      <th>0</th>\n",
       "      <td>14998</td>\n",
       "      <td>82.46</td>\n",
       "      <td>11998</td>\n",
       "      <td>82.46</td>\n",
       "    </tr>\n",
       "    <tr>\n",
       "      <th>1</th>\n",
       "      <td>453</td>\n",
       "      <td>2.49</td>\n",
       "      <td>362</td>\n",
       "      <td>2.49</td>\n",
       "    </tr>\n",
       "    <tr>\n",
       "      <th>2</th>\n",
       "      <td>368</td>\n",
       "      <td>2.02</td>\n",
       "      <td>294</td>\n",
       "      <td>2.02</td>\n",
       "    </tr>\n",
       "    <tr>\n",
       "      <th>3</th>\n",
       "      <td>575</td>\n",
       "      <td>3.16</td>\n",
       "      <td>460</td>\n",
       "      <td>3.16</td>\n",
       "    </tr>\n",
       "    <tr>\n",
       "      <th>4</th>\n",
       "      <td>677</td>\n",
       "      <td>3.72</td>\n",
       "      <td>542</td>\n",
       "      <td>3.73</td>\n",
       "    </tr>\n",
       "    <tr>\n",
       "      <th>5</th>\n",
       "      <td>660</td>\n",
       "      <td>3.63</td>\n",
       "      <td>528</td>\n",
       "      <td>3.63</td>\n",
       "    </tr>\n",
       "    <tr>\n",
       "      <th>6</th>\n",
       "      <td>457</td>\n",
       "      <td>2.51</td>\n",
       "      <td>366</td>\n",
       "      <td>2.52</td>\n",
       "    </tr>\n",
       "  </tbody>\n",
       "</table>\n",
       "</div>"
      ],
      "text/plain": [
       "  abs_orig pct_orig abs_current pct_current\n",
       "0    14998    82.46       11998       82.46\n",
       "1      453     2.49         362        2.49\n",
       "2      368     2.02         294        2.02\n",
       "3      575     3.16         460        3.16\n",
       "4      677     3.72         542        3.73\n",
       "5      660     3.63         528        3.63\n",
       "6      457     2.51         366        2.52"
      ]
     },
     "execution_count": 7,
     "metadata": {},
     "output_type": "execute_result"
    }
   ],
   "source": [
    "print(a.shape, b.shape)\n",
    "dr.display_information()"
   ]
  },
  {
   "cell_type": "code",
   "execution_count": null,
   "metadata": {},
   "outputs": [],
   "source": [
    "dr.restrict_zero_labels(500)\n",
    "dr.display_information()"
   ]
  },
  {
   "cell_type": "code",
   "execution_count": null,
   "metadata": {},
   "outputs": [],
   "source": [
    "dr.upsample()\n",
    "dr.display_information()"
   ]
  },
  {
   "cell_type": "code",
   "execution_count": null,
   "metadata": {},
   "outputs": [],
   "source": [
    "print(dr.X.shape, dr.y.shape, dr.orig_X.shape, dr.orig_y.shape)"
   ]
  },
  {
   "cell_type": "code",
   "execution_count": null,
   "metadata": {},
   "outputs": [],
   "source": [
    "dr.upsample(200)\n",
    "dr.display_information()"
   ]
  },
  {
   "cell_type": "code",
   "execution_count": null,
   "metadata": {},
   "outputs": [],
   "source": [
    "dr.upsample(10000, exceptions=[0])\n",
    "dr.display_information()"
   ]
  },
  {
   "cell_type": "code",
   "execution_count": null,
   "metadata": {},
   "outputs": [],
   "source": []
  }
 ],
 "metadata": {
  "kernelspec": {
   "display_name": "Python 3",
   "language": "python",
   "name": "python3"
  },
  "language_info": {
   "codemirror_mode": {
    "name": "ipython",
    "version": 3
   },
   "file_extension": ".py",
   "mimetype": "text/x-python",
   "name": "python",
   "nbconvert_exporter": "python",
   "pygments_lexer": "ipython3",
   "version": "3.6.6"
  }
 },
 "nbformat": 4,
 "nbformat_minor": 2
}
