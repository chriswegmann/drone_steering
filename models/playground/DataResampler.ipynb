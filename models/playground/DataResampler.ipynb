{
 "cells": [
  {
   "cell_type": "code",
   "execution_count": 1,
   "metadata": {},
   "outputs": [
    {
     "data": {
      "text/html": [
       "<style>.container { width:100% !important; }</style>"
      ],
      "text/plain": [
       "<IPython.core.display.HTML object>"
      ]
     },
     "metadata": {},
     "output_type": "display_data"
    },
    {
     "data": {
      "text/plain": [
       "'C:\\\\Users\\\\p.schambach\\\\Desktop\\\\DSR\\\\drone_steering'"
      ]
     },
     "execution_count": 1,
     "metadata": {},
     "output_type": "execute_result"
    }
   ],
   "source": [
    "import numpy as np\n",
    "import pandas as pd\n",
    "import os\n",
    "import sys\n",
    "import warnings\n",
    "warnings.filterwarnings(\"ignore\")\n",
    "from IPython.core.display import display, HTML\n",
    "display(HTML(\"<style>.container { width:100% !important; }</style>\"))\n",
    "\n",
    "os.getcwd()\n",
    "os.chdir('../..')\n",
    "os.getcwd()"
   ]
  },
  {
   "cell_type": "code",
   "execution_count": 3,
   "metadata": {},
   "outputs": [
    {
     "name": "stdout",
     "output_type": "stream",
     "text": [
      "i: 0 \tshape X: (603, 18, 16) \tshape y: (603,) \tcount: 49\n",
      "i: 1 \tshape X: (519, 18, 16) \tshape y: (519,) \tcount: 37\n",
      "i: 2 \tshape X: (498, 18, 16) \tshape y: (498,) \tcount: 59\n",
      "i: 3 \tshape X: (650, 18, 16) \tshape y: (650,) \tcount: 138\n",
      "i: 4 \tshape X: (508, 18, 16) \tshape y: (508,) \tcount: 95\n",
      "i: 5 \tshape X: (466, 18, 16) \tshape y: (466,) \tcount: 90\n",
      "i: 6 \tshape X: (601, 18, 16) \tshape y: (601,) \tcount: 107\n",
      "i: 7 \tshape X: (440, 18, 16) \tshape y: (440,) \tcount: 83\n",
      "i: 8 \tshape X: (490, 18, 16) \tshape y: (490,) \tcount: 70\n",
      "i: 9 \tshape X: (476, 18, 16) \tshape y: (476,) \tcount: 74\n",
      "i: 10 \tshape X: (492, 18, 16) \tshape y: (492,) \tcount: 85\n",
      "i: 11 \tshape X: (436, 18, 16) \tshape y: (436,) \tcount: 59\n",
      "i: 12 \tshape X: (466, 18, 16) \tshape y: (466,) \tcount: 86\n",
      "i: 13 \tshape X: (551, 18, 16) \tshape y: (551,) \tcount: 71\n",
      "i: 14 \tshape X: (550, 18, 16) \tshape y: (550,) \tcount: 58\n",
      "i: 15 \tshape X: (549, 18, 16) \tshape y: (549,) \tcount: 55\n",
      "i: 16 \tshape X: (541, 18, 16) \tshape y: (541,) \tcount: 52\n",
      "i: 17 \tshape X: (535, 18, 16) \tshape y: (535,) \tcount: 69\n",
      "i: 18 \tshape X: (549, 18, 16) \tshape y: (549,) \tcount: 60\n",
      "i: 19 \tshape X: (616, 18, 16) \tshape y: (616,) \tcount: 72\n",
      "i: 20 \tshape X: (621, 18, 16) \tshape y: (621,) \tcount: 189\n",
      "i: 21 \tshape X: (590, 18, 16) \tshape y: (590,) \tcount: 107\n",
      "i: 22 \tshape X: (460, 18, 16) \tshape y: (460,) \tcount: 0\n",
      "i: 23 \tshape X: (514, 18, 16) \tshape y: (514,) \tcount: 64\n",
      "i: 24 \tshape X: (923, 18, 16) \tshape y: (923,) \tcount: 118\n",
      "i: 25 \tshape X: (545, 18, 16) \tshape y: (545,) \tcount: 47\n",
      "i: 26 \tshape X: (547, 18, 16) \tshape y: (547,) \tcount: 64\n",
      "i: 27 \tshape X: (505, 18, 16) \tshape y: (505,) \tcount: 59\n",
      "i: 28 \tshape X: (469, 18, 16) \tshape y: (469,) \tcount: 77\n",
      "i: 29 \tshape X: (524, 18, 16) \tshape y: (524,) \tcount: 89\n",
      "i: 30 \tshape X: (569, 18, 16) \tshape y: (569,) \tcount: 97\n",
      "i: 31 \tshape X: (488, 18, 16) \tshape y: (488,) \tcount: 57\n",
      "i: 32 \tshape X: (481, 18, 16) \tshape y: (481,) \tcount: 74\n",
      "i: 33 \tshape X: (416, 18, 16) \tshape y: (416,) \tcount: 59\n",
      "-----------------------------------------------------------------------------\n",
      "shape final X: (18188, 18, 16)\n",
      "number of labeled samples: 2570\n",
      "Label 0: 15618 \t85.87% of total\n",
      "Label 1: 356 \t13.85% of labeled\n",
      "Label 2: 368 \t14.32% of labeled\n",
      "Label 3: 575 \t22.37% of labeled\n",
      "Label 4: 365 \t14.2% of labeled\n",
      "Label 5: 449 \t17.47% of labeled\n",
      "Label 6: 457 \t17.78% of labeled\n"
     ]
    }
   ],
   "source": [
    "from app_local.module import DataEnsembler, GestureTransformer\n",
    "\n",
    "de = DataEnsembler(120)\n",
    "de.investigate_available_datafiles(data_dir='data/gesture/',is_frame_based=True)\n",
    "de.load_data()\n",
    "de.assemble_data()\n",
    "de.display_information()"
   ]
  },
  {
   "cell_type": "code",
   "execution_count": 4,
   "metadata": {},
   "outputs": [],
   "source": [
    "X = de.X.copy()"
   ]
  },
  {
   "cell_type": "code",
   "execution_count": null,
   "metadata": {},
   "outputs": [],
   "source": [
    "# number of 0-labels to use for traing\n",
    "n = 750\n",
    "\n",
    "\n",
    "# only select certain indeces to prevent too many 0-labeled instances\n",
    "idx = []\n",
    "for i in sorted(set(y)):\n",
    "    idx.append(np.where(np.isclose(y,i))[0])\n",
    "\n",
    "print(\"----- labels summary before --------------------------------\")\n",
    "for i in sorted(set(y)):\n",
    "    print(i,len(idx[i]))\n",
    "print(\"\")\n",
    "    \n",
    "zero_idx = np.random.choice(idx[0], n, replace=False)\n",
    "keep_idx = np.concatenate([zero_idx,idx[1],idx[2],idx[3],idx[4],idx[5],idx[6]])\n",
    "keep_idx = sorted(keep_idx)\n",
    "\n",
    "y = y[keep_idx]\n",
    "X = X[keep_idx]\n",
    "print(\"Shapes after:\",y.shape, X.shape) \n",
    "print(\"\")\n",
    "\n",
    "idx = []\n",
    "for i in sorted(set(y)):\n",
    "    idx.append(np.where(np.isclose(y,i))[0])\n",
    "\n",
    "print(\"----- labels summary after --------------------------------\")\n",
    "for i in sorted(set(y)):\n",
    "    print(i,len(idx[i]))\n",
    "print(\"\")   "
   ]
  },
  {
   "cell_type": "code",
   "execution_count": 111,
   "metadata": {},
   "outputs": [],
   "source": [
    "class DataResampler():\n",
    "    \n",
    "    def __init__(self):\n",
    "        pass\n",
    "        \n",
    "    \n",
    "    def fit(self, X, y):\n",
    "        if X.shape[0] != y.shape[0]:\n",
    "            raise AssertionError(\"First Dimension of Argument X and y have to be equal\")\n",
    "            \n",
    "        self.orig_y = y.copy().astype(\"int32\")\n",
    "        self.orig_X = X.copy()\n",
    "        \n",
    "        self.X = self.orig_X.copy()\n",
    "        self.y = self.orig_y.copy()\n",
    "            \n",
    "        self.labels = sorted(set(y.astype(\"int32\")))\n",
    "        \n",
    "        maxl = max(self.labels)\n",
    "        \n",
    "        self.indices = {}\n",
    "        for i in self.labels:\n",
    "            self.indices[i] = np.where(np.isclose(y,i))[0]\n",
    "            \n",
    "            \n",
    "    def restrict_zero_labels(self, n):\n",
    "        y = self.orig_y.copy()\n",
    "        \n",
    "        n0 = len(self.indices[0])\n",
    "        print(\"-------------------------------------\")\n",
    "        print(\"Current number of zero-labels:\", n0)\n",
    "        \n",
    "        if n0 <= n:\n",
    "            print(\"Target number of zero-labels is bigger than current number. No changes!\")\n",
    "        elif n < 0:\n",
    "            print(\"Target number of zero-labels was negative. Treated as zero!\")\n",
    "        else:\n",
    "            zero_idx = np.random.choice(self.indices[0], n, replace=False)\n",
    "            other_labels_idx = np.concatenate([self.indices[i] for i in self.indices.keys() if i != 0])\n",
    "            new_idx = sorted(np.concatenate([zero_idx, other_labels_idx]))\n",
    "            \n",
    "        \n",
    "        print(\"New number of zero-labels:\", n)\n",
    "        \n",
    "        self.X = self.X[new_idx,:,:]\n",
    "        self.y = self.y[new_idx]\n",
    "\n",
    "        return self.X, self.y \n",
    "    \n",
    "    \n",
    "    def upsample(self, n = None):\n",
    "        if n is None:\n",
    "            n = len(self.indices[0])\n",
    "        elif n < 0:\n",
    "            n = 0\n",
    "        \n",
    "        a = {} \n",
    "        b = {}\n",
    "        idx = {}\n",
    "            \n",
    "        for i in self.indices.keys():\n",
    "            a[i] = min(n, len(self.indices[i]))\n",
    "            diff = n - len(self.indices[i])\n",
    "            b[i] = max(0, diff)\n",
    "            \n",
    "            idx_a = np.random.choice(self.indices[i], a[i], replace = False)\n",
    "            idx_b = np.random.choice(self.indices[i], b[i], replace = True)\n",
    "            \n",
    "            idx[i] = sorted(np.concatenate([idx_a, idx_b]))\n",
    "            \n",
    "        \n",
    "        upsampled_idx = sorted(np.concatenate([idx[i] for i in idx]))\n",
    "        \n",
    "        self.X = self.orig_X[upsampled_idx,:,:]\n",
    "        self.y = self.y[upsampled_idx]\n",
    "        \n",
    "        return self.X, self.y  \n",
    "    \n",
    "    def display_information(self):\n",
    "        df = pd.DataFrame(columns=[\"abs_orig\",\"pct_orig\",\"abs_current\",\"pct_current\"],index = self.labels)\n",
    "        \n",
    "        n = len(self.y)\n",
    "        \n",
    "        for l in self.labels:\n",
    "            nl = len(self.y[self.y == l])\n",
    "            \n",
    "            df.loc[l,\"abs_orig\"] = len(self.indices[l])\n",
    "            df.loc[l,\"pct_orig\"] = np.round(100*len(self.indices[l])/len(self.orig_y),2)\n",
    "            df.loc[l,\"abs_current\"] = nl\n",
    "            df.loc[l,\"pct_current\"] = np.round(100*nl/n,2)\n",
    "              \n",
    "        return df"
   ]
  },
  {
   "cell_type": "code",
   "execution_count": 112,
   "metadata": {},
   "outputs": [
    {
     "name": "stdout",
     "output_type": "stream",
     "text": [
      "(109326, 18, 16) (109326,)\n"
     ]
    },
    {
     "data": {
      "text/html": [
       "<div>\n",
       "<style scoped>\n",
       "    .dataframe tbody tr th:only-of-type {\n",
       "        vertical-align: middle;\n",
       "    }\n",
       "\n",
       "    .dataframe tbody tr th {\n",
       "        vertical-align: top;\n",
       "    }\n",
       "\n",
       "    .dataframe thead th {\n",
       "        text-align: right;\n",
       "    }\n",
       "</style>\n",
       "<table border=\"1\" class=\"dataframe\">\n",
       "  <thead>\n",
       "    <tr style=\"text-align: right;\">\n",
       "      <th></th>\n",
       "      <th>abs_orig</th>\n",
       "      <th>pct_orig</th>\n",
       "      <th>abs_current</th>\n",
       "      <th>pct_current</th>\n",
       "    </tr>\n",
       "  </thead>\n",
       "  <tbody>\n",
       "    <tr>\n",
       "      <th>0</th>\n",
       "      <td>15618</td>\n",
       "      <td>85.87</td>\n",
       "      <td>15618</td>\n",
       "      <td>14.29</td>\n",
       "    </tr>\n",
       "    <tr>\n",
       "      <th>1</th>\n",
       "      <td>356</td>\n",
       "      <td>1.96</td>\n",
       "      <td>15618</td>\n",
       "      <td>14.29</td>\n",
       "    </tr>\n",
       "    <tr>\n",
       "      <th>2</th>\n",
       "      <td>368</td>\n",
       "      <td>2.02</td>\n",
       "      <td>15618</td>\n",
       "      <td>14.29</td>\n",
       "    </tr>\n",
       "    <tr>\n",
       "      <th>3</th>\n",
       "      <td>575</td>\n",
       "      <td>3.16</td>\n",
       "      <td>15618</td>\n",
       "      <td>14.29</td>\n",
       "    </tr>\n",
       "    <tr>\n",
       "      <th>4</th>\n",
       "      <td>365</td>\n",
       "      <td>2.01</td>\n",
       "      <td>15618</td>\n",
       "      <td>14.29</td>\n",
       "    </tr>\n",
       "    <tr>\n",
       "      <th>5</th>\n",
       "      <td>449</td>\n",
       "      <td>2.47</td>\n",
       "      <td>15618</td>\n",
       "      <td>14.29</td>\n",
       "    </tr>\n",
       "    <tr>\n",
       "      <th>6</th>\n",
       "      <td>457</td>\n",
       "      <td>2.51</td>\n",
       "      <td>15618</td>\n",
       "      <td>14.29</td>\n",
       "    </tr>\n",
       "  </tbody>\n",
       "</table>\n",
       "</div>"
      ],
      "text/plain": [
       "  abs_orig pct_orig abs_current pct_current\n",
       "0    15618    85.87       15618       14.29\n",
       "1      356     1.96       15618       14.29\n",
       "2      368     2.02       15618       14.29\n",
       "3      575     3.16       15618       14.29\n",
       "4      365     2.01       15618       14.29\n",
       "5      449     2.47       15618       14.29\n",
       "6      457     2.51       15618       14.29"
      ]
     },
     "execution_count": 112,
     "metadata": {},
     "output_type": "execute_result"
    }
   ],
   "source": [
    "dr = DataResampler()\n",
    "dr.fit(de.X,de.y)\n",
    "X, y = dr.upsample()\n",
    "print(X.shape, y.shape)\n",
    "dr.display_information()"
   ]
  },
  {
   "cell_type": "code",
   "execution_count": 94,
   "metadata": {},
   "outputs": [
    {
     "data": {
      "text/plain": [
       "array([0., 0.])"
      ]
     },
     "execution_count": 94,
     "metadata": {},
     "output_type": "execute_result"
    }
   ],
   "source": [
    "de.y[[]]"
   ]
  },
  {
   "cell_type": "code",
   "execution_count": null,
   "metadata": {},
   "outputs": [],
   "source": []
  }
 ],
 "metadata": {
  "kernelspec": {
   "display_name": "Python 3",
   "language": "python",
   "name": "python3"
  },
  "language_info": {
   "codemirror_mode": {
    "name": "ipython",
    "version": 3
   },
   "file_extension": ".py",
   "mimetype": "text/x-python",
   "name": "python",
   "nbconvert_exporter": "python",
   "pygments_lexer": "ipython3",
   "version": "3.6.6"
  }
 },
 "nbformat": 4,
 "nbformat_minor": 2
}
