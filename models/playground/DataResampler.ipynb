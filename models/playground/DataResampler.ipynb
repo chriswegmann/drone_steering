{
 "cells": [
  {
   "cell_type": "code",
   "execution_count": 1,
   "metadata": {},
   "outputs": [
    {
     "data": {
      "text/html": [
       "<style>.container { width:100% !important; }</style>"
      ],
      "text/plain": [
       "<IPython.core.display.HTML object>"
      ]
     },
     "metadata": {},
     "output_type": "display_data"
    },
    {
     "name": "stdout",
     "output_type": "stream",
     "text": [
      "0 C:\\Users\\p.schambach\\Desktop\\DSR\\drone_steering\\models\\playground\n",
      "1 C:\\Users\\p.schambach\\Desktop\\DSR\\drone_steering\\models\n",
      "2 C:\\Users\\p.schambach\\Desktop\\DSR\\drone_steering\n"
     ]
    }
   ],
   "source": [
    "import numpy as np\n",
    "import pandas as pd\n",
    "import os\n",
    "import sys\n",
    "import warnings\n",
    "warnings.filterwarnings(\"ignore\")\n",
    "from IPython.core.display import display, HTML\n",
    "display(HTML(\"<style>.container { width:100% !important; }</style>\"))\n",
    "\n",
    "import os\n",
    "cwd = os.getcwd()\n",
    "\n",
    "counter = 0\n",
    "print(counter, cwd)\n",
    "while not cwd.endswith(\"drone_steering\") and counter < 10:\n",
    "    os.chdir('..')\n",
    "    cwd = os.getcwd()\n",
    "    counter = counter + 1\n",
    "    print(counter, cwd)"
   ]
  },
  {
   "cell_type": "code",
   "execution_count": 2,
   "metadata": {},
   "outputs": [
    {
     "name": "stdout",
     "output_type": "stream",
     "text": [
      "i: 0 \tshape X: (603, 18, 16) \tshape y: (603,) \tcount: 101\n",
      "i: 1 \tshape X: (519, 18, 16) \tshape y: (519,) \tcount: 89\n",
      "i: 2 \tshape X: (498, 18, 16) \tshape y: (498,) \tcount: 119\n",
      "i: 3 \tshape X: (650, 18, 16) \tshape y: (650,) \tcount: 230\n",
      "i: 4 \tshape X: (508, 18, 16) \tshape y: (508,) \tcount: 147\n",
      "i: 5 \tshape X: (466, 18, 16) \tshape y: (466,) \tcount: 146\n",
      "i: 6 \tshape X: (601, 18, 16) \tshape y: (601,) \tcount: 159\n",
      "i: 7 \tshape X: (440, 18, 16) \tshape y: (440,) \tcount: 127\n",
      "i: 8 \tshape X: (490, 18, 16) \tshape y: (490,) \tcount: 110\n",
      "i: 9 \tshape X: (476, 18, 16) \tshape y: (476,) \tcount: 118\n",
      "i: 10 \tshape X: (492, 18, 16) \tshape y: (492,) \tcount: 121\n",
      "i: 11 \tshape X: (436, 18, 16) \tshape y: (436,) \tcount: 87\n",
      "i: 12 \tshape X: (466, 18, 16) \tshape y: (466,) \tcount: 126\n",
      "i: 13 \tshape X: (551, 18, 16) \tshape y: (551,) \tcount: 127\n",
      "i: 14 \tshape X: (550, 18, 16) \tshape y: (550,) \tcount: 114\n",
      "i: 15 \tshape X: (549, 18, 16) \tshape y: (549,) \tcount: 115\n",
      "i: 16 \tshape X: (541, 18, 16) \tshape y: (541,) \tcount: 92\n",
      "i: 17 \tshape X: (535, 18, 16) \tshape y: (535,) \tcount: 121\n",
      "i: 18 \tshape X: (549, 18, 16) \tshape y: (549,) \tcount: 108\n",
      "i: 19 \tshape X: (482, 18, 16) \tshape y: (482,) \tcount: 205\n",
      "i: 20 \tshape X: (616, 18, 16) \tshape y: (616,) \tcount: 136\n",
      "i: 21 \tshape X: (621, 18, 16) \tshape y: (621,) \tcount: 269\n",
      "i: 22 \tshape X: (470, 18, 16) \tshape y: (470,) \tcount: 187\n",
      "i: 23 \tshape X: (590, 18, 16) \tshape y: (590,) \tcount: 171\n",
      "i: 24 \tshape X: (460, 18, 16) \tshape y: (460,) \tcount: 0\n",
      "i: 25 \tshape X: (419, 18, 16) \tshape y: (419,) \tcount: 0\n",
      "i: 26 \tshape X: (514, 18, 16) \tshape y: (514,) \tcount: 120\n",
      "i: 27 \tshape X: (923, 18, 16) \tshape y: (923,) \tcount: 214\n",
      "i: 28 \tshape X: (545, 18, 16) \tshape y: (545,) \tcount: 91\n",
      "i: 29 \tshape X: (547, 18, 16) \tshape y: (547,) \tcount: 124\n",
      "i: 30 \tshape X: (505, 18, 16) \tshape y: (505,) \tcount: 111\n",
      "i: 31 \tshape X: (469, 18, 16) \tshape y: (469,) \tcount: 121\n",
      "i: 32 \tshape X: (524, 18, 16) \tshape y: (524,) \tcount: 129\n",
      "i: 33 \tshape X: (569, 18, 16) \tshape y: (569,) \tcount: 157\n",
      "i: 34 \tshape X: (488, 18, 16) \tshape y: (488,) \tcount: 89\n",
      "i: 35 \tshape X: (481, 18, 16) \tshape y: (481,) \tcount: 106\n",
      "i: 36 \tshape X: (416, 18, 16) \tshape y: (416,) \tcount: 99\n",
      "-----------------------------------------------------------------------------\n",
      "shape final X: (19559, 18, 16)\n",
      "number of labeled samples: 4686\n",
      "Label 0: 14873 \t76.04% of total\n",
      "Label 1: 701 \t14.96% of labeled\n",
      "Label 2: 763 \t16.28% of labeled\n",
      "Label 3: 991 \t21.15% of labeled\n",
      "Label 4: 882 \t18.82% of labeled\n",
      "Label 5: 660 \t14.08% of labeled\n",
      "Label 6: 689 \t14.7% of labeled\n"
     ]
    }
   ],
   "source": [
    "from app_local.module import DataEnsembler, GestureTransformer\n",
    "\n",
    "de = DataEnsembler(120)\n",
    "de.investigate_available_datafiles(data_dir='data/gesture/',is_frame_based=True)\n",
    "de.load_data()\n",
    "de.assemble_data(tolerance_range=2)\n",
    "de.display_information()"
   ]
  },
  {
   "cell_type": "code",
   "execution_count": 3,
   "metadata": {},
   "outputs": [],
   "source": [
    "from app_local.module import DataResampler"
   ]
  },
  {
   "cell_type": "code",
   "execution_count": 6,
   "metadata": {},
   "outputs": [
    {
     "data": {
      "text/plain": [
       "(array([], shape=(0, 18, 16), dtype=float64), array([], dtype=int32))"
      ]
     },
     "execution_count": 6,
     "metadata": {},
     "output_type": "execute_result"
    }
   ],
   "source": [
    "a = {1: 2,4: 4}\n",
    "dr = DataResampler()\n",
    "dr.fit(de.X,de.y)\n",
    "dr.upsample(a)"
   ]
  },
  {
   "cell_type": "code",
   "execution_count": null,
   "metadata": {},
   "outputs": [],
   "source": [
    "dr = DataResampler()"
   ]
  },
  {
   "cell_type": "code",
   "execution_count": null,
   "metadata": {},
   "outputs": [],
   "source": [
    "dr.fit(de.X, de.y)\n",
    "dr.display_information()"
   ]
  },
  {
   "cell_type": "code",
   "execution_count": null,
   "metadata": {},
   "outputs": [],
   "source": [
    "crits = [\"abs_diff_lowest\",\"abs_diff_highest\",\"variances_lowest\",\"variances_highest\"]\n",
    "\n",
    "for crit in crits:\n",
    "    dr.restrict_zero_labels(n=2000,criterion=crit)\n",
    "    print(dr.display_information())"
   ]
  },
  {
   "cell_type": "code",
   "execution_count": null,
   "metadata": {},
   "outputs": [],
   "source": [
    "a,b = dr.train_test_split(0.2)"
   ]
  },
  {
   "cell_type": "code",
   "execution_count": null,
   "metadata": {},
   "outputs": [],
   "source": [
    "print(a.shape, b.shape)\n",
    "dr.display_information()"
   ]
  },
  {
   "cell_type": "code",
   "execution_count": null,
   "metadata": {},
   "outputs": [],
   "source": [
    "dr.restrict_zero_labels(500)\n",
    "dr.display_information()"
   ]
  },
  {
   "cell_type": "code",
   "execution_count": null,
   "metadata": {},
   "outputs": [],
   "source": [
    "dr.upsample()\n",
    "dr.display_information()"
   ]
  },
  {
   "cell_type": "code",
   "execution_count": null,
   "metadata": {},
   "outputs": [],
   "source": [
    "print(dr.X.shape, dr.y.shape, dr.orig_X.shape, dr.orig_y.shape)"
   ]
  },
  {
   "cell_type": "code",
   "execution_count": null,
   "metadata": {},
   "outputs": [],
   "source": [
    "dr.upsample(200)\n",
    "dr.display_information()"
   ]
  },
  {
   "cell_type": "code",
   "execution_count": null,
   "metadata": {},
   "outputs": [],
   "source": [
    "dr.upsample(10000, exceptions=[0])\n",
    "dr.display_information()"
   ]
  },
  {
   "cell_type": "code",
   "execution_count": null,
   "metadata": {},
   "outputs": [],
   "source": []
  }
 ],
 "metadata": {
  "kernelspec": {
   "display_name": "Python 3",
   "language": "python",
   "name": "python3"
  },
  "language_info": {
   "codemirror_mode": {
    "name": "ipython",
    "version": 3
   },
   "file_extension": ".py",
   "mimetype": "text/x-python",
   "name": "python",
   "nbconvert_exporter": "python",
   "pygments_lexer": "ipython3",
   "version": "3.6.6"
  }
 },
 "nbformat": 4,
 "nbformat_minor": 2
}
