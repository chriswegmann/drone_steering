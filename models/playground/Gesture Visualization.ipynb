{
 "cells": [
  {
   "cell_type": "markdown",
   "metadata": {},
   "source": [
    "# Data Prep"
   ]
  },
  {
   "cell_type": "code",
   "execution_count": null,
   "metadata": {},
   "outputs": [],
   "source": [
    "import numpy as np\n",
    "import pandas as pd\n",
    "import os\n",
    "import sys\n",
    "import warnings\n",
    "warnings.filterwarnings(\"ignore\")"
   ]
  },
  {
   "cell_type": "code",
   "execution_count": null,
   "metadata": {},
   "outputs": [],
   "source": [
    "os.getcwd()"
   ]
  },
  {
   "cell_type": "code",
   "execution_count": null,
   "metadata": {},
   "outputs": [],
   "source": [
    "# if necessary, change to drone_steering directory.\n",
    "os.chdir('../..')\n",
    "os.getcwd()"
   ]
  },
  {
   "cell_type": "code",
   "execution_count": null,
   "metadata": {},
   "outputs": [],
   "source": [
    "from app_local.module import DataEnsembler, GestureTransformer"
   ]
  },
  {
   "cell_type": "code",
   "execution_count": null,
   "metadata": {},
   "outputs": [],
   "source": [
    "de = DataEnsembler(ms_per_frame=120)\n",
    "\n",
    "data_directory = 'data/gesture/'\n",
    "de.investigate_available_datafiles( data_dir = data_directory)\n",
    "\n",
    "de.combined_data_files_df"
   ]
  },
  {
   "cell_type": "code",
   "execution_count": null,
   "metadata": {},
   "outputs": [],
   "source": [
    "de.load_data()\n",
    "de.assemble_data(tolerance_range = 600, max_error = 700)\n",
    "de.display_information()"
   ]
  },
  {
   "cell_type": "code",
   "execution_count": null,
   "metadata": {},
   "outputs": [],
   "source": [
    "feature_names = list(de.LabelGenerators[0].feature_names)\n",
    "feat_dict = {feature:feature_names.index(feature) for feature in feature_names}\n",
    "feat_dict"
   ]
  },
  {
   "cell_type": "code",
   "execution_count": null,
   "metadata": {},
   "outputs": [],
   "source": [
    "gt = GestureTransformer(feature_names)\n",
    "P = gt.transform(de.X)"
   ]
  },
  {
   "cell_type": "markdown",
   "metadata": {},
   "source": [
    "# Plotting Part"
   ]
  },
  {
   "cell_type": "code",
   "execution_count": null,
   "metadata": {},
   "outputs": [],
   "source": [
    "j = 2\n",
    "print(de.combined_data_files_df.iloc[j])\n",
    "print(\"\")\n",
    "\n",
    "lgen = de.LabelGenerators[j]\n",
    "y = lgen.y\n",
    "n = len(lgen.y)\n",
    "print(\"n:\",n)\n",
    "print(\"\")\n",
    "\n",
    "gt = GestureTransformer(byrow=True, feature_names=feature_names)\n",
    "X = gt.transform(lgen.X)\n",
    "\n",
    "de.LabelGenerators[j].label_df.join(de.LabelGenerators[j].label_info)"
   ]
  },
  {
   "cell_type": "markdown",
   "metadata": {},
   "source": [
    "Display the movement endpoints (in Milliseconds) of all non-zero labeled gestures:"
   ]
  },
  {
   "cell_type": "code",
   "execution_count": null,
   "metadata": {},
   "outputs": [],
   "source": [
    "lgen.sequence_end_time[lgen.y > 0]"
   ]
  },
  {
   "cell_type": "markdown",
   "metadata": {},
   "source": [
    "Display the indices of movement ends of all non-zero labeled gestures:"
   ]
  },
  {
   "cell_type": "code",
   "execution_count": null,
   "metadata": {},
   "outputs": [],
   "source": [
    "np.where(lgen.y > 0)"
   ]
  },
  {
   "cell_type": "code",
   "execution_count": null,
   "metadata": {},
   "outputs": [],
   "source": [
    "key = 'leftWrist'\n",
    "kx = key + '_x'\n",
    "ky = key + '_y'\n",
    "\n",
    "# get the label which is used in the current file\n",
    "lab = y[y>0][0]\n",
    "\n",
    "this_set = True\n",
    "if not this_set: #use all the data\n",
    "    movementData = P[np.isclose(de.y,lab),:,:]\n",
    "else:\n",
    "    movementData = X[np.isclose(y,lab),:,:]\n",
    "    \n",
    "    \n",
    "print(movementData.shape)\n",
    "movementData = movementData[:,:,[feat_dict[kx],feat_dict[ky]]]\n",
    "avgMovement = movementData.mean(axis = 0)\n",
    "avgMovement"
   ]
  },
  {
   "cell_type": "code",
   "execution_count": null,
   "metadata": {},
   "outputs": [],
   "source": [
    "import matplotlib.pyplot as plt\n",
    "\n",
    "axes = plt.gca()\n",
    "axes.set_xlim([-2,2])\n",
    "axes.set_ylim([-2,2])\n",
    "plt.plot(avgMovement[:,0],avgMovement[:,1],marker = \"o\")\n",
    "plt.title(\"avgMovement with label \" + str(int(lab)))\n",
    "plt.show()\n",
    "plt.close()"
   ]
  },
  {
   "cell_type": "code",
   "execution_count": null,
   "metadata": {},
   "outputs": [],
   "source": [
    "def squared_error(a,b,c,d):\n",
    "    return round(((a-b)**2 + (c-d)**2).sum(),2)"
   ]
  },
  {
   "cell_type": "markdown",
   "metadata": {},
   "source": [
    "### Plot I: plot each sample"
   ]
  },
  {
   "cell_type": "code",
   "execution_count": null,
   "metadata": {},
   "outputs": [],
   "source": [
    "import matplotlib.pyplot as plt\n",
    "from matplotlib.ticker import NullFormatter\n",
    "#print(feat_dict)\n",
    "\n",
    "\n",
    "key = 'leftWrist'\n",
    "kx = key + '_x'\n",
    "ky = key + '_y'\n",
    "\n",
    "\n",
    "for i in range(0,n):\n",
    "    #specify ax range\n",
    "    axes = plt.gca()\n",
    "    axes.set_xlim([-2,2])\n",
    "    axes.set_ylim([-2,2])\n",
    "    \n",
    "    plt.plot(X[i,:,feat_dict[kx]],X[i,:,feat_dict[ky]], marker = \"o\")\n",
    "\n",
    "    plt.title(\"Index: \" + str(i) + \"  \" + \"Time \" + str(round(lgen.sequence_end_time[i]/1000,2)) + \"  \" +\\\n",
    "              \"Label: \" + str(int(y[i]))) \n",
    "\n",
    "    plt.show()\n",
    "    plt.close()\n"
   ]
  },
  {
   "cell_type": "markdown",
   "metadata": {},
   "source": [
    "### Plot II: plot with rolling window"
   ]
  },
  {
   "cell_type": "code",
   "execution_count": null,
   "metadata": {},
   "outputs": [],
   "source": [
    "import matplotlib.pyplot as plt\n",
    "from matplotlib.ticker import NullFormatter\n",
    "\n",
    "\n",
    "key = 'leftWrist'\n",
    "kx = key + '_x'\n",
    "ky = key + '_y'\n",
    "\n",
    "# get data\n",
    "d = lgen.labeled_data\n",
    "s = lgen.X.shape[1]\n",
    "print(\"#data points:\",len(d),'\\t',\"sequence length:\",s)\n",
    "\n",
    "dims = d[feature_names].shape\n",
    "\n",
    "D = d[feature_names].values.reshape(1,dims[0],dims[1])\n",
    "D = gt.transform(D).reshape(dims[0],dims[1])\n",
    "\n",
    "Dx = D[:,feat_dict[kx]]\n",
    "Dy = D[:,feat_dict[ky]]"
   ]
  },
  {
   "cell_type": "code",
   "execution_count": null,
   "metadata": {},
   "outputs": [],
   "source": [
    "for i in range(190,220):\n",
    "#for i in range(0,dims[0]):\n",
    "    #specify ax range\n",
    "    axes = plt.gca()\n",
    "    axes.set_xlim([-2,2])\n",
    "    axes.set_ylim([-2,2])\n",
    "    \n",
    "    tail, head = [5,5]\n",
    "    \n",
    "    # movement data\n",
    "    l1, u1 = i - s, i\n",
    "    if l1 < 0:\n",
    "        l1 = 0\n",
    "    \n",
    "    # tail -- what happened before\n",
    "    l2, u2 = i - s - tail, i-s\n",
    "    if l2 < 0:\n",
    "        l2 = 0\n",
    "    if u2 < 0:\n",
    "        u2 = 0\n",
    "        \n",
    "    # head -- what happened after\n",
    "    l3, u3 = i, i + head\n",
    "    if u3 > dims[0]:\n",
    "        u3 = dims[0]\n",
    "    \n",
    "    # the frames in the movement\n",
    "    plt.plot(\n",
    "        Dx[l1:u1],\n",
    "        Dy[l1:u1], \n",
    "        marker = \"o\"\n",
    "    )\n",
    "    # the future\n",
    "    plt.plot(\n",
    "        Dx[l3:u3],\n",
    "        Dy[l3:u3],\n",
    "        \"r+\"\n",
    "    )\n",
    "    # the past\n",
    "    plt.plot(\n",
    "        Dx[l2:u2+1],\n",
    "        Dy[l2:u2+1],\n",
    "        linestyle = \"--\",\n",
    "        color = \"grey\"\n",
    "    )\n",
    "    # the current frame\n",
    "    plt.plot(\n",
    "        Dx[u1-1],\n",
    "        Dy[u1-1],\n",
    "        color = \"black\",\n",
    "        marker = \"x\"\n",
    "    )\n",
    "\n",
    "    plt.title(\"Index: \" + str(i) + \"  \" +\\\n",
    "              \"Time \" + str(round(d.time[i]/1000,2)) + \"  \" +\\\n",
    "              \"Label: \" + str(int(d.label[i]))\n",
    "             ) \n",
    "\n",
    "    plt.show()\n",
    "    plt.close()"
   ]
  }
 ],
 "metadata": {
  "kernelspec": {
   "display_name": "Python 3",
   "language": "python",
   "name": "python3"
  },
  "language_info": {
   "codemirror_mode": {
    "name": "ipython",
    "version": 3
   },
   "file_extension": ".py",
   "mimetype": "text/x-python",
   "name": "python",
   "nbconvert_exporter": "python",
   "pygments_lexer": "ipython3",
   "version": "3.6.6"
  }
 },
 "nbformat": 4,
 "nbformat_minor": 2
}
