{
 "cells": [
  {
   "cell_type": "code",
   "execution_count": 1,
   "metadata": {},
   "outputs": [],
   "source": [
    "import re\n",
    "import os"
   ]
  },
  {
   "cell_type": "code",
   "execution_count": 2,
   "metadata": {},
   "outputs": [],
   "source": [
    "os.chdir('../../app_local')"
   ]
  },
  {
   "cell_type": "code",
   "execution_count": 3,
   "metadata": {},
   "outputs": [],
   "source": [
    "from os import listdir\n",
    "file_names = listdir('../models/')"
   ]
  },
  {
   "cell_type": "code",
   "execution_count": 47,
   "metadata": {},
   "outputs": [],
   "source": [
    "model_type = 'model_gesture'\n",
    "interpolation = 'nip'"
   ]
  },
  {
   "cell_type": "code",
   "execution_count": 71,
   "metadata": {},
   "outputs": [],
   "source": [
    "pattern = '(?P<model_type>' + model_type + '{1}_.*)(?P<ip_nip>' + interpolation + '{1})(?P<model_parameters>.+)(?P<suffix>.h5)'"
   ]
  },
  {
   "cell_type": "code",
   "execution_count": 72,
   "metadata": {},
   "outputs": [],
   "source": [
    "reg = re.compile(pattern)\n",
    "matches = []\n",
    "\n",
    "for file_name in file_names:\n",
    "    match = reg.search(file_name)\n",
    "    if match:\n",
    "        matches.append(match)"
   ]
  },
  {
   "cell_type": "code",
   "execution_count": 73,
   "metadata": {},
   "outputs": [
    {
     "name": "stdout",
     "output_type": "stream",
     "text": [
      "0 | model_gesture_lstm_nip120_tr0\n",
      "1 | model_gesture_lstm_nip120_tr2\n",
      "2 | model_gesture_lstm_nip120_tr2_sa4000\n",
      "3 | model_gesture_lstm_nip120_tr2_sa5000\n",
      "4 | model_gesture_lstm_nip120_tr2_saex500\n",
      "5 | model_gesture_lstm_nip120_tr4_sazero500\n"
     ]
    }
   ],
   "source": [
    "models = []\n",
    "for i, match in enumerate(matches):\n",
    "    model = match.groupdict()\n",
    "    models.append(model['model_type'] + model['ip_nip'] + model['model_parameters'])\n",
    "    \n",
    "for i in range(len(models)):\n",
    "    print(str(i) + ' | ' + models[i])"
   ]
  },
  {
   "cell_type": "code",
   "execution_count": null,
   "metadata": {},
   "outputs": [],
   "source": []
  }
 ],
 "metadata": {
  "kernelspec": {
   "display_name": "Python 3",
   "language": "python",
   "name": "python3"
  },
  "language_info": {
   "codemirror_mode": {
    "name": "ipython",
    "version": 3
   },
   "file_extension": ".py",
   "mimetype": "text/x-python",
   "name": "python",
   "nbconvert_exporter": "python",
   "pygments_lexer": "ipython3",
   "version": "3.6.6"
  }
 },
 "nbformat": 4,
 "nbformat_minor": 2
}
