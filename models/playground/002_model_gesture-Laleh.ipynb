{
 "cells": [
  {
   "cell_type": "markdown",
   "metadata": {},
   "source": [
    "# Gesture Detection Model"
   ]
  },
  {
   "cell_type": "markdown",
   "metadata": {},
   "source": [
    "## 1 Engineer features"
   ]
  },
  {
   "cell_type": "markdown",
   "metadata": {},
   "source": [
    "### 1.1 Import libraries and transformers  "
   ]
  },
  {
   "cell_type": "code",
   "execution_count": 1,
   "metadata": {},
   "outputs": [
    {
     "name": "stderr",
     "output_type": "stream",
     "text": [
      "/Users/lsafari/anaconda3/lib/python3.6/site-packages/h5py/__init__.py:36: FutureWarning: Conversion of the second argument of issubdtype from `float` to `np.floating` is deprecated. In future, it will be treated as `np.float64 == np.dtype(float).type`.\n",
      "  from ._conv import register_converters as _register_converters\n",
      "Using TensorFlow backend.\n"
     ]
    }
   ],
   "source": [
    "import numpy as np\n",
    "import pandas as pd\n",
    "import warnings\n",
    "import matplotlib.pyplot as plt\n",
    "from keras.utils import to_categorical\n",
    "warnings.filterwarnings(\"ignore\")"
   ]
  },
  {
   "cell_type": "code",
   "execution_count": 2,
   "metadata": {},
   "outputs": [
    {
     "data": {
      "text/plain": [
       "'/Users/lsafari/drone_steering/models/playground'"
      ]
     },
     "execution_count": 2,
     "metadata": {},
     "output_type": "execute_result"
    }
   ],
   "source": [
    "import os\n",
    "os.getcwd()"
   ]
  },
  {
   "cell_type": "code",
   "execution_count": 3,
   "metadata": {},
   "outputs": [],
   "source": [
    "os.chdir('../..')"
   ]
  },
  {
   "cell_type": "code",
   "execution_count": 4,
   "metadata": {},
   "outputs": [],
   "source": [
    "from app_local.module import DataEnsembler, LabelGenerator, GestureTransformer"
   ]
  },
  {
   "cell_type": "markdown",
   "metadata": {},
   "source": [
    "### 1.2  Load data"
   ]
  },
  {
   "cell_type": "code",
   "execution_count": 5,
   "metadata": {},
   "outputs": [
    {
     "data": {
      "text/html": [
       "<div>\n",
       "<style scoped>\n",
       "    .dataframe tbody tr th:only-of-type {\n",
       "        vertical-align: middle;\n",
       "    }\n",
       "\n",
       "    .dataframe tbody tr th {\n",
       "        vertical-align: top;\n",
       "    }\n",
       "\n",
       "    .dataframe thead th {\n",
       "        text-align: right;\n",
       "    }\n",
       "</style>\n",
       "<table border=\"1\" class=\"dataframe\">\n",
       "  <thead>\n",
       "    <tr style=\"text-align: right;\">\n",
       "      <th></th>\n",
       "      <th>filename_features</th>\n",
       "      <th>filename_labels</th>\n",
       "    </tr>\n",
       "  </thead>\n",
       "  <tbody>\n",
       "    <tr>\n",
       "      <th>0</th>\n",
       "      <td>features_left_c_02_120.csv</td>\n",
       "      <td>labels_left_c_02.csv</td>\n",
       "    </tr>\n",
       "    <tr>\n",
       "      <th>1</th>\n",
       "      <td>features_left_l_01_120.csv</td>\n",
       "      <td>labels_left_l_01.csv</td>\n",
       "    </tr>\n",
       "    <tr>\n",
       "      <th>2</th>\n",
       "      <td>features_move_p_01_120.csv</td>\n",
       "      <td>labels_move_p_01.csv</td>\n",
       "    </tr>\n",
       "    <tr>\n",
       "      <th>3</th>\n",
       "      <td>features_move_c_01_120.csv</td>\n",
       "      <td>labels_move_c_01.csv</td>\n",
       "    </tr>\n",
       "    <tr>\n",
       "      <th>4</th>\n",
       "      <td>features_land_l_03_120.csv</td>\n",
       "      <td>labels_land_l_03.csv</td>\n",
       "    </tr>\n",
       "    <tr>\n",
       "      <th>5</th>\n",
       "      <td>features_move_l_02_120.csv</td>\n",
       "      <td>labels_move_l_02.csv</td>\n",
       "    </tr>\n",
       "    <tr>\n",
       "      <th>6</th>\n",
       "      <td>features_land_c_01_120.csv</td>\n",
       "      <td>labels_land_c_01.csv</td>\n",
       "    </tr>\n",
       "    <tr>\n",
       "      <th>7</th>\n",
       "      <td>features_land_l_02_120.csv</td>\n",
       "      <td>labels_land_l_02.csv</td>\n",
       "    </tr>\n",
       "    <tr>\n",
       "      <th>8</th>\n",
       "      <td>features_left_c_03_120.csv</td>\n",
       "      <td>labels_left_c_03.csv</td>\n",
       "    </tr>\n",
       "    <tr>\n",
       "      <th>9</th>\n",
       "      <td>features_right_c_02_120.csv</td>\n",
       "      <td>labels_right_c_02.csv</td>\n",
       "    </tr>\n",
       "    <tr>\n",
       "      <th>10</th>\n",
       "      <td>features_right_l_01_120.csv</td>\n",
       "      <td>labels_right_l_01.csv</td>\n",
       "    </tr>\n",
       "    <tr>\n",
       "      <th>11</th>\n",
       "      <td>features_land_c_03_120.csv</td>\n",
       "      <td>labels_land_c_03.csv</td>\n",
       "    </tr>\n",
       "    <tr>\n",
       "      <th>12</th>\n",
       "      <td>features_move_l_01_120.csv</td>\n",
       "      <td>labels_move_l_01.csv</td>\n",
       "    </tr>\n",
       "    <tr>\n",
       "      <th>13</th>\n",
       "      <td>features_left_c_01_120.csv</td>\n",
       "      <td>labels_left_c_01.csv</td>\n",
       "    </tr>\n",
       "    <tr>\n",
       "      <th>14</th>\n",
       "      <td>features_right_l_03_120.csv</td>\n",
       "      <td>labels_right_l_03.csv</td>\n",
       "    </tr>\n",
       "    <tr>\n",
       "      <th>15</th>\n",
       "      <td>features_left_l_02_120.csv</td>\n",
       "      <td>labels_left_l_02.csv</td>\n",
       "    </tr>\n",
       "    <tr>\n",
       "      <th>16</th>\n",
       "      <td>features_right_c_01_120.csv</td>\n",
       "      <td>labels_right_c_01.csv</td>\n",
       "    </tr>\n",
       "    <tr>\n",
       "      <th>17</th>\n",
       "      <td>features_right_l_02_120.csv</td>\n",
       "      <td>labels_right_l_02.csv</td>\n",
       "    </tr>\n",
       "    <tr>\n",
       "      <th>18</th>\n",
       "      <td>features_left_l_03_120.csv</td>\n",
       "      <td>labels_left_l_03.csv</td>\n",
       "    </tr>\n",
       "    <tr>\n",
       "      <th>19</th>\n",
       "      <td>features_land_c_02_120.csv</td>\n",
       "      <td>labels_land_c_02.csv</td>\n",
       "    </tr>\n",
       "    <tr>\n",
       "      <th>20</th>\n",
       "      <td>features_land_l_01_120.csv</td>\n",
       "      <td>labels_land_l_01.csv</td>\n",
       "    </tr>\n",
       "    <tr>\n",
       "      <th>21</th>\n",
       "      <td>features_flip_l_01_120.csv</td>\n",
       "      <td>labels_flip_l_01.csv</td>\n",
       "    </tr>\n",
       "    <tr>\n",
       "      <th>22</th>\n",
       "      <td>features_flip_c_02_120.csv</td>\n",
       "      <td>labels_flip_c_02.csv</td>\n",
       "    </tr>\n",
       "    <tr>\n",
       "      <th>23</th>\n",
       "      <td>features_takeoff_c_03_120.csv</td>\n",
       "      <td>labels_takeoff_c_03.csv</td>\n",
       "    </tr>\n",
       "    <tr>\n",
       "      <th>24</th>\n",
       "      <td>features_takeoff_l_01_120.csv</td>\n",
       "      <td>labels_takeoff_l_01.csv</td>\n",
       "    </tr>\n",
       "    <tr>\n",
       "      <th>25</th>\n",
       "      <td>features_takeoff_c_02_120.csv</td>\n",
       "      <td>labels_takeoff_c_02.csv</td>\n",
       "    </tr>\n",
       "    <tr>\n",
       "      <th>26</th>\n",
       "      <td>features_flip_c_03_120.csv</td>\n",
       "      <td>labels_flip_c_03.csv</td>\n",
       "    </tr>\n",
       "    <tr>\n",
       "      <th>27</th>\n",
       "      <td>features_flip_p_01_120.csv</td>\n",
       "      <td>labels_flip_p_01.csv</td>\n",
       "    </tr>\n",
       "    <tr>\n",
       "      <th>28</th>\n",
       "      <td>features_takeoff_l_03_120.csv</td>\n",
       "      <td>labels_takeoff_l_03.csv</td>\n",
       "    </tr>\n",
       "    <tr>\n",
       "      <th>29</th>\n",
       "      <td>features_flip_l_02_120.csv</td>\n",
       "      <td>labels_flip_l_02.csv</td>\n",
       "    </tr>\n",
       "    <tr>\n",
       "      <th>30</th>\n",
       "      <td>features_flip_c_01_120.csv</td>\n",
       "      <td>labels_flip_c_01.csv</td>\n",
       "    </tr>\n",
       "    <tr>\n",
       "      <th>31</th>\n",
       "      <td>features_flip_l_03_120.csv</td>\n",
       "      <td>labels_flip_l_03.csv</td>\n",
       "    </tr>\n",
       "    <tr>\n",
       "      <th>32</th>\n",
       "      <td>features_takeoff_l_02_120.csv</td>\n",
       "      <td>labels_takeoff_l_02.csv</td>\n",
       "    </tr>\n",
       "    <tr>\n",
       "      <th>33</th>\n",
       "      <td>features_takeoff_c_01_120.csv</td>\n",
       "      <td>labels_takeoff_c_01.csv</td>\n",
       "    </tr>\n",
       "    <tr>\n",
       "      <th>34</th>\n",
       "      <td>features_left_l_04_120.csv</td>\n",
       "      <td>labels_left_l_04.csv</td>\n",
       "    </tr>\n",
       "    <tr>\n",
       "      <th>35</th>\n",
       "      <td>features_none_p_01_120.csv</td>\n",
       "      <td>labels_none.csv</td>\n",
       "    </tr>\n",
       "  </tbody>\n",
       "</table>\n",
       "</div>"
      ],
      "text/plain": [
       "                filename_features          filename_labels\n",
       "0      features_left_c_02_120.csv     labels_left_c_02.csv\n",
       "1      features_left_l_01_120.csv     labels_left_l_01.csv\n",
       "2      features_move_p_01_120.csv     labels_move_p_01.csv\n",
       "3      features_move_c_01_120.csv     labels_move_c_01.csv\n",
       "4      features_land_l_03_120.csv     labels_land_l_03.csv\n",
       "5      features_move_l_02_120.csv     labels_move_l_02.csv\n",
       "6      features_land_c_01_120.csv     labels_land_c_01.csv\n",
       "7      features_land_l_02_120.csv     labels_land_l_02.csv\n",
       "8      features_left_c_03_120.csv     labels_left_c_03.csv\n",
       "9     features_right_c_02_120.csv    labels_right_c_02.csv\n",
       "10    features_right_l_01_120.csv    labels_right_l_01.csv\n",
       "11     features_land_c_03_120.csv     labels_land_c_03.csv\n",
       "12     features_move_l_01_120.csv     labels_move_l_01.csv\n",
       "13     features_left_c_01_120.csv     labels_left_c_01.csv\n",
       "14    features_right_l_03_120.csv    labels_right_l_03.csv\n",
       "15     features_left_l_02_120.csv     labels_left_l_02.csv\n",
       "16    features_right_c_01_120.csv    labels_right_c_01.csv\n",
       "17    features_right_l_02_120.csv    labels_right_l_02.csv\n",
       "18     features_left_l_03_120.csv     labels_left_l_03.csv\n",
       "19     features_land_c_02_120.csv     labels_land_c_02.csv\n",
       "20     features_land_l_01_120.csv     labels_land_l_01.csv\n",
       "21     features_flip_l_01_120.csv     labels_flip_l_01.csv\n",
       "22     features_flip_c_02_120.csv     labels_flip_c_02.csv\n",
       "23  features_takeoff_c_03_120.csv  labels_takeoff_c_03.csv\n",
       "24  features_takeoff_l_01_120.csv  labels_takeoff_l_01.csv\n",
       "25  features_takeoff_c_02_120.csv  labels_takeoff_c_02.csv\n",
       "26     features_flip_c_03_120.csv     labels_flip_c_03.csv\n",
       "27     features_flip_p_01_120.csv     labels_flip_p_01.csv\n",
       "28  features_takeoff_l_03_120.csv  labels_takeoff_l_03.csv\n",
       "29     features_flip_l_02_120.csv     labels_flip_l_02.csv\n",
       "30     features_flip_c_01_120.csv     labels_flip_c_01.csv\n",
       "31     features_flip_l_03_120.csv     labels_flip_l_03.csv\n",
       "32  features_takeoff_l_02_120.csv  labels_takeoff_l_02.csv\n",
       "33  features_takeoff_c_01_120.csv  labels_takeoff_c_01.csv\n",
       "34     features_left_l_04_120.csv     labels_left_l_04.csv\n",
       "35     features_none_p_01_120.csv          labels_none.csv"
      ]
     },
     "execution_count": 5,
     "metadata": {},
     "output_type": "execute_result"
    }
   ],
   "source": [
    "de = DataEnsembler(ms_per_frame=120)\n",
    "de.investigate_available_datafiles(data_dir='data/gesture/', is_frame_based = False)\n",
    "de.combined_data_files_df"
   ]
  },
  {
   "cell_type": "code",
   "execution_count": 7,
   "metadata": {},
   "outputs": [
    {
     "name": "stdout",
     "output_type": "stream",
     "text": [
      "i: 0 \tshape X: (550, 18, 16) \tshape y: (550,) \tcount: 0\n",
      "i: 1 \tshape X: (541, 18, 16) \tshape y: (541,) \tcount: 0\n",
      "i: 2 \tshape X: (590, 18, 16) \tshape y: (590,) \tcount: 90\n",
      "i: 3 \tshape X: (616, 18, 16) \tshape y: (616,) \tcount: 89\n",
      "i: 4 \tshape X: (466, 18, 16) \tshape y: (466,) \tcount: 48\n",
      "i: 5 \tshape X: (470, 18, 16) \tshape y: (470,) \tcount: 48\n",
      "i: 6 \tshape X: (440, 18, 16) \tshape y: (440,) \tcount: 24\n",
      "i: 7 \tshape X: (436, 18, 16) \tshape y: (436,) \tcount: 35\n",
      "i: 8 \tshape X: (549, 18, 16) \tshape y: (549,) \tcount: 0\n",
      "i: 9 \tshape X: (923, 18, 16) \tshape y: (923,) \tcount: 0\n",
      "i: 10 \tshape X: (545, 18, 16) \tshape y: (545,) \tcount: 0\n",
      "i: 11 \tshape X: (476, 18, 16) \tshape y: (476,) \tcount: 54\n",
      "i: 12 \tshape X: (621, 18, 16) \tshape y: (621,) \tcount: 60\n",
      "i: 13 \tshape X: (551, 18, 16) \tshape y: (551,) \tcount: 0\n",
      "i: 14 \tshape X: (505, 18, 16) \tshape y: (505,) \tcount: 0\n",
      "i: 15 \tshape X: (535, 18, 16) \tshape y: (535,) \tcount: 0\n",
      "i: 16 \tshape X: (514, 18, 16) \tshape y: (514,) \tcount: 0\n",
      "i: 17 \tshape X: (547, 18, 16) \tshape y: (547,) \tcount: 0\n",
      "i: 18 \tshape X: (549, 18, 16) \tshape y: (549,) \tcount: 0\n",
      "i: 19 \tshape X: (490, 18, 16) \tshape y: (490,) \tcount: 53\n",
      "i: 20 \tshape X: (492, 18, 16) \tshape y: (492,) \tcount: 47\n",
      "i: 21 \tshape X: (650, 18, 16) \tshape y: (650,) \tcount: 125\n",
      "i: 22 \tshape X: (519, 18, 16) \tshape y: (519,) \tcount: 70\n",
      "i: 23 \tshape X: (569, 18, 16) \tshape y: (569,) \tcount: 70\n",
      "i: 24 \tshape X: (488, 18, 16) \tshape y: (488,) \tcount: 0\n",
      "i: 25 \tshape X: (524, 18, 16) \tshape y: (524,) \tcount: 47\n",
      "i: 26 \tshape X: (498, 18, 16) \tshape y: (498,) \tcount: 75\n",
      "i: 27 \tshape X: (601, 18, 16) \tshape y: (601,) \tcount: 73\n",
      "i: 28 \tshape X: (416, 18, 16) \tshape y: (416,) \tcount: 47\n",
      "i: 29 \tshape X: (508, 18, 16) \tshape y: (508,) \tcount: 66\n",
      "i: 30 \tshape X: (603, 18, 16) \tshape y: (603,) \tcount: 39\n",
      "i: 31 \tshape X: (466, 18, 16) \tshape y: (466,) \tcount: 73\n",
      "i: 32 \tshape X: (481, 18, 16) \tshape y: (481,) \tcount: 30\n",
      "i: 33 \tshape X: (469, 18, 16) \tshape y: (469,) \tcount: 0\n",
      "i: 34 \tshape X: (482, 18, 16) \tshape y: (482,) \tcount: 66\n",
      "i: 35 \tshape X: (460, 18, 16) \tshape y: (460,) \tcount: 0\n",
      "-----------------------------------------------------------------------------\n",
      "shape final X: (19140, 18, 16)\n",
      "number of labeled samples: 1329\n",
      "Label 0: 17811 \t93.06% of total\n",
      "Label 1: 194 \t14.6% of labeled\n",
      "Label 2: 399 \t30.02% of labeled\n",
      "Label 3: 149 \t11.21% of labeled\n",
      "Label 4: 66 \t4.97% of labeled\n",
      "Label 6: 521 \t39.2% of labeled\n"
     ]
    }
   ],
   "source": [
    "de.load_data()\n",
    "de.assemble_data(max_error=500, tolerance_range= 600)\n",
    "de.display_information()"
   ]
  },
  {
   "cell_type": "markdown",
   "metadata": {},
   "source": [
    "### 1.3  Transform data"
   ]
  },
  {
   "cell_type": "code",
   "execution_count": null,
   "metadata": {},
   "outputs": [],
   "source": [
    "from keras.utils import to_categorical\n",
    "\n",
    "X = de.X.copy()\n",
    "y = de.y.copy()\n",
    "\n",
    "print(\"---------------------------------------------------------------------\")\n",
    "print(\"Shapes before removal of 'no movements':\") \n",
    "print(\"y: \" + str(y.shape))\n",
    "print(\"X: \" + str(X.shape))\n",
    "print(\"\")\n",
    "\n",
    "# only select certain indices to prevent too many 0-labeled instances\n",
    "idx = []\n",
    "for i in range(7):\n",
    "    idx.append(np.where(np.isclose(y,i))[0])\n",
    "\n",
    "print(\"Labels before removal of 'no movements'\")\n",
    "for i in range(7):\n",
    "    print(i,len(idx[i]))\n",
    "print(\"\")\n",
    "    \n",
    "zero_idx = np.random.choice(idx[0], 500, replace=False)\n",
    "keep_idx = np.concatenate([zero_idx,idx[1],idx[2],idx[3],idx[4],idx[5],idx[6]])\n",
    "keep_idx = sorted(keep_idx)\n",
    "\n",
    "print(\"---------------------------------------------------------------------\")\n",
    "y = y[keep_idx]\n",
    "X = X[keep_idx]\n",
    "print(\"Shapes after removal of 'no movements':\") \n",
    "print(\"y: \" + str(y.shape))\n",
    "print(\"X: \" + str(X.shape))\n",
    "print(\"\")\n",
    "\n",
    "idx = []\n",
    "for i in range(7):\n",
    "    idx.append(np.where(np.isclose(y,i))[0])\n",
    "\n",
    "print(\"Labels after removal of 'no movements'\")\n",
    "for i in range(7):\n",
    "    print(i,len(idx[i]))\n",
    "print(\"\")    \n",
    "    \n",
    "# print(\"---------------------------------------------------------------------\")\n",
    "# print(\"Features:\")\n",
    "# print(de.LabelGenerators[0].feature_names)\n",
    "\n",
    "\n",
    "print(\"---------------------------------------------------------------------\")\n",
    "gt = GestureTransformer(feature_names = list(de.LabelGenerators[0].feature_names),byrow=True)\n",
    "X = gt.transform(X)\n",
    "\n",
    "y = to_categorical(y)\n",
    "\n",
    "print(\"Shapes after transformation:\") \n",
    "print(\"y: \" + str(y.shape))\n",
    "print(\"X: \" + str(X.shape))"
   ]
  },
  {
   "cell_type": "markdown",
   "metadata": {},
   "source": [
    "## 2 Train model"
   ]
  },
  {
   "cell_type": "markdown",
   "metadata": {},
   "source": [
    "### 2.1  Split in train / test"
   ]
  },
  {
   "cell_type": "code",
   "execution_count": null,
   "metadata": {},
   "outputs": [],
   "source": [
    "from sklearn.model_selection import train_test_split\n",
    "X_train, X_test, y_train, y_test = train_test_split(X, y, test_size=0.2, random_state=1)"
   ]
  },
  {
   "cell_type": "markdown",
   "metadata": {},
   "source": [
    "### 2.2 Define and compile model"
   ]
  },
  {
   "cell_type": "code",
   "execution_count": null,
   "metadata": {},
   "outputs": [],
   "source": [
    "from keras.models import Sequential\n",
    "from keras.layers import Dense\n",
    "from keras.layers import Flatten\n",
    "from keras.layers import Dropout\n",
    "from keras.layers import LSTM"
   ]
  },
  {
   "cell_type": "code",
   "execution_count": null,
   "metadata": {},
   "outputs": [],
   "source": [
    "n_timesteps = X.shape[1] # here 17\n",
    "n_features = X.shape[2] # here 16\n",
    "n_outputs =  y.shape[1] # here 7 (number of labels)\n",
    "\n",
    "model = Sequential()\n",
    "model.add(LSTM(100, input_shape=(n_timesteps,n_features)))\n",
    "model.add(Dropout(0.4))\n",
    "model.add(Dense(100, activation='relu'))\n",
    "model.add(Dense(64, activation='relu'))\n",
    "model.add(Dense(n_outputs, activation='softmax'))\n",
    "\n",
    "model.compile(loss='categorical_crossentropy', \n",
    "              optimizer='adam', \n",
    "              metrics=['accuracy'])\n",
    "\n",
    "model.summary()"
   ]
  },
  {
   "cell_type": "markdown",
   "metadata": {},
   "source": [
    "### 2.3 Fit and validate model"
   ]
  },
  {
   "cell_type": "code",
   "execution_count": null,
   "metadata": {
    "scrolled": true
   },
   "outputs": [],
   "source": [
    "history = model.fit(X_train, y_train, epochs=500, batch_size=30, verbose=1, validation_split=0.2)"
   ]
  },
  {
   "cell_type": "code",
   "execution_count": null,
   "metadata": {},
   "outputs": [],
   "source": [
    "r = range(1, len(history.history[\"acc\"]) + 1)\n",
    "\n",
    "plt.figure(figsize=(20, 5))\n",
    "\n",
    "plt.subplot(1, 2, 1)\n",
    "plt.plot(r, history.history[\"acc\"], label=\"acc\")\n",
    "plt.plot(r, history.history[\"val_acc\"], label=\"val_acc\")\n",
    "plt.legend()\n",
    "plt.title(\"Accuracy\")\n",
    "\n",
    "plt.subplot(1, 2, 2)\n",
    "plt.plot(r, history.history[\"loss\"], label=\"loss\")\n",
    "plt.plot(r, history.history[\"val_loss\"], label=\"val_loss\")\n",
    "plt.legend()\n",
    "plt.title(\"Loss\")\n",
    "\n",
    "plt.show()\n",
    "plt.close()"
   ]
  },
  {
   "cell_type": "code",
   "execution_count": null,
   "metadata": {},
   "outputs": [],
   "source": [
    "eval_results = np.round(model.evaluate(X_test, y_test, batch_size=16, verbose=1),2)\n",
    "print(\"Loss:     \" + str(eval_results[0]))\n",
    "print(\"Accuracy: \" + str(eval_results[1]))"
   ]
  },
  {
   "cell_type": "code",
   "execution_count": null,
   "metadata": {},
   "outputs": [],
   "source": [
    "y_test[0]"
   ]
  },
  {
   "cell_type": "markdown",
   "metadata": {},
   "source": [
    "## ROC analysis"
   ]
  },
  {
   "cell_type": "code",
   "execution_count": null,
   "metadata": {
    "scrolled": true
   },
   "outputs": [],
   "source": [
    "counter_F_neg=0\n",
    "counter_F_pos=0\n",
    "for i in range(X_test.shape[0]):\n",
    "    if (model.predict_classes(X_test[i:(i+1),:,:])[0]!=np.nonzero(y_test[i])[0][0]):\n",
    "        if model.predict_classes(X_test[i:(i+1),:,:])[0]==0:\n",
    "            counter_F_neg=counter_F_neg+1\n",
    "            print(\"False_negative i:\",i,\\\n",
    "              \"\\tPred:\",model.predict_classes(X_test[i:(i+1),:,:])[0],\\\n",
    "              \"\\tActual:\",np.nonzero(y_test[i])[0][0],\\\n",
    "              \"\\tProbability:\",round(np.max(model.predict_proba(X_test[i:(i+1),:,:])),2),)          \n",
    "        else:\n",
    "            counter_F_pos=counter_F_pos+1\n",
    "            print(\"False_positive i:\",i,\\\n",
    "              \"\\tPred:\",model.predict_classes(X_test[i:(i+1),:,:])[0],\\\n",
    "              \"\\tActual:\",np.nonzero(y_test[i])[0][0],\\\n",
    "              \"\\tProbability:\",round(np.max(model.predict_proba(X_test[i:(i+1),:,:])),2))\n",
    "print(\"\\ncounter_F_neg:\",counter_F_neg) \n",
    "print(\"\\ncounter_F_pos:\",counter_F_pos) \n",
    "         \n",
    "           "
   ]
  },
  {
   "cell_type": "code",
   "execution_count": null,
   "metadata": {
    "scrolled": true
   },
   "outputs": [],
   "source": [
    "for i in range(X_test.shape[0]):\n",
    "    if (model.predict_classes(X_test[i:(i+1),:,:])[0]==np.nonzero(y_test[i])[0][0]):\n",
    "        print(\"Index:\",i,\\\n",
    "              \"\\tPred:\",model.predict_classes(X_test[i:(i+1),:,:])[0],\\\n",
    "              \"\\tActual:\",np.nonzero(y_test[i])[0][0],\\\n",
    "              \"\\tProbability:\",round(np.max(model.predict_proba(X_test[i:(i+1),:,:])),2))"
   ]
  },
  {
   "cell_type": "markdown",
   "metadata": {},
   "source": [
    "### 2.4 Save model"
   ]
  },
  {
   "cell_type": "code",
   "execution_count": null,
   "metadata": {},
   "outputs": [],
   "source": [
    "from keras.models import load_model\n",
    "import h5py"
   ]
  },
  {
   "cell_type": "code",
   "execution_count": null,
   "metadata": {},
   "outputs": [],
   "source": [
    "# save model, delete current reference and re-load it from file\n",
    "model.save('model_gesture.h5')\n",
    "del model\n",
    "model = load_model('model_gesture.h5')"
   ]
  },
  {
   "cell_type": "code",
   "execution_count": null,
   "metadata": {},
   "outputs": [],
   "source": [
    "type(model)"
   ]
  }
 ],
 "metadata": {
  "kernelspec": {
   "display_name": "Python 3",
   "language": "python",
   "name": "python3"
  },
  "language_info": {
   "codemirror_mode": {
    "name": "ipython",
    "version": 3
   },
   "file_extension": ".py",
   "mimetype": "text/x-python",
   "name": "python",
   "nbconvert_exporter": "python",
   "pygments_lexer": "ipython3",
   "version": "3.6.5"
  }
 },
 "nbformat": 4,
 "nbformat_minor": 2
}
