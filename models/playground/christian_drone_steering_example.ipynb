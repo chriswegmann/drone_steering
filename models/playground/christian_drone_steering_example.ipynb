{
 "cells": [
  {
   "cell_type": "code",
   "execution_count": 1,
   "metadata": {},
   "outputs": [],
   "source": [
    "import pandas as pd\n",
    "import time"
   ]
  },
  {
   "cell_type": "code",
   "execution_count": 2,
   "metadata": {},
   "outputs": [],
   "source": [
    "interval = 0.130\n",
    "drone_last_action = time.time()\n",
    "time.sleep(1.2) # needed for first action to be taken into account\n",
    "drone_status = 'grounded'\n",
    "#movements = ['stop', 'left', 'right', 'up', 'down', 'no movement detected']\n",
    "movements = ['looping', 'left', 'right', 'up', 'take-off', 'move']"
   ]
  },
  {
   "cell_type": "code",
   "execution_count": 3,
   "metadata": {},
   "outputs": [],
   "source": [
    "df = pd.read_csv('dataframe.csv')"
   ]
  },
  {
   "cell_type": "code",
   "execution_count": 4,
   "metadata": {},
   "outputs": [],
   "source": [
    "def steer_drone(movement):\n",
    "    global drone_last_action\n",
    "    global drone_status\n",
    "    if (time.time() - drone_last_action) > 1:\n",
    "        #print(movements[movement] + ' | ' + drone_status)\n",
    "        drone_last_action = time.time()\n",
    "        if ((movement == 4) & (drone_status == 'grounded')):\n",
    "            drone_status = 'flying'\n",
    "            print('drone.takeoff()')\n",
    "        if (drone_status != 'grounded'):\n",
    "            if movement == 6:\n",
    "                drone_status = 'grounded'\n",
    "                print('drone.land()')\n",
    "            if movement == 0:\n",
    "                print(\"drone.flip('r')\")\n",
    "            if movement == 1:\n",
    "                print('drone.rotate_ccw(45)')\n",
    "            if movement == 2:\n",
    "                print('drone.rotate_cw(45)')\n",
    "            if movement == 5:\n",
    "                print('drone.move_forward(1)')"
   ]
  },
  {
   "cell_type": "code",
   "execution_count": 5,
   "metadata": {},
   "outputs": [],
   "source": [
    "def predict_movement(pose):\n",
    "    \n",
    "    movement = 5\n",
    "    \n",
    "    leftArm_x = pose['leftWrist_x'] - pose['leftShoulder_x']\n",
    "    rightArm_x = pose['rightShoulder_x'] - pose['rightWrist_x']\n",
    "    leftArm_y = pose['leftShoulder_y'] - pose['leftWrist_y']\n",
    "    rightArm_y = pose['rightShoulder_y'] - pose['rightWrist_y']\n",
    "    \n",
    "    if leftArm_x > 60:\n",
    "        movement = 1\n",
    "\n",
    "    if rightArm_x > 60:\n",
    "        movement = 2\n",
    "\n",
    "    if ((leftArm_x > 60) & (rightArm_x > 60)):\n",
    "        movement = 0\n",
    "\n",
    "    if ((leftArm_y > 100) & (rightArm_y > 100)):\n",
    "        movement = 3\n",
    "\n",
    "    if ((leftArm_y < -100) & (rightArm_y < -100)):\n",
    "        movement = 4\n",
    "        \n",
    "    return movement"
   ]
  },
  {
   "cell_type": "code",
   "execution_count": 6,
   "metadata": {},
   "outputs": [
    {
     "name": "stdout",
     "output_type": "stream",
     "text": [
      "drone.takeoff()\n",
      "drone.rotate_ccw(45)\n",
      "drone.rotate_ccw(45)\n",
      "drone.move_forward(1)\n",
      "drone.move_forward(1)\n",
      "drone.flip('r')\n",
      "drone.move_forward(1)\n",
      "drone.rotate_cw(45)\n",
      "drone.rotate_cw(45)\n",
      "drone.rotate_cw(45)\n",
      "drone.rotate_ccw(45)\n",
      "drone.rotate_ccw(45)\n",
      "drone.rotate_ccw(45)\n",
      "drone.land()\n"
     ]
    }
   ],
   "source": [
    "for index, pose in df.iterrows():\n",
    "    steer_drone(predict_movement(pose))\n",
    "    time.sleep(interval)\n",
    "print('drone.land()')\n",
    "drone_status = 'grounded'"
   ]
  },
  {
   "cell_type": "markdown",
   "metadata": {},
   "source": [
    "```\n",
    "drone.takeoff()\n",
    "drone.rotate_cw(45)\n",
    "drone.rotate_cw(45)\n",
    "drone.rotate_cw(45)\n",
    "drone.rotate_ccw(45)\n",
    "drone.rotate_ccw(45)\n",
    "drone.rotate_ccw(45)\n",
    "drone.land()\n",
    "```"
   ]
  },
  {
   "cell_type": "markdown",
   "metadata": {},
   "source": [
    "```\n",
    "drone.takeoff()\n",
    "drone.rotate_ccw(45)\n",
    "drone.rotate_ccw(45)\n",
    "drone.move_forward(1)\n",
    "drone.move_forward(1)\n",
    "drone.flip('r')\n",
    "drone.move_forward(1)\n",
    "drone.rotate_cw(45)\n",
    "drone.rotate_cw(45)\n",
    "drone.rotate_cw(45)\n",
    "drone.rotate_ccw(45)\n",
    "drone.rotate_ccw(45)\n",
    "drone.rotate_ccw(45)\n",
    "drone.land()\n",
    "```"
   ]
  }
 ],
 "metadata": {
  "kernelspec": {
   "display_name": "Python 3",
   "language": "python",
   "name": "python3"
  },
  "language_info": {
   "codemirror_mode": {
    "name": "ipython",
    "version": 3
   },
   "file_extension": ".py",
   "mimetype": "text/x-python",
   "name": "python",
   "nbconvert_exporter": "python",
   "pygments_lexer": "ipython3",
   "version": "3.6.6"
  }
 },
 "nbformat": 4,
 "nbformat_minor": 2
}
