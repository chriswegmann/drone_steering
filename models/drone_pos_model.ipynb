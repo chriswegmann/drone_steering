{
 "cells": [
  {
   "cell_type": "markdown",
   "metadata": {},
   "source": [
    "## Model for Drone Steering"
   ]
  },
  {
   "cell_type": "code",
   "execution_count": 24,
   "metadata": {},
   "outputs": [],
   "source": [
    "from sklearn.base import BaseEstimator, TransformerMixin\n",
    "#from category_encoders.one_hot import OneHotEncoder\n",
    "#from sklearn.feature_extraction import DictVectorizer\n",
    "from sklearn.pipeline import make_pipeline, make_union\n",
    "from sklearn.preprocessing import Imputer\n",
    "#from category_encoders.ordinal import OrdinalEncoder\n",
    "\n",
    "from __future__ import print_function\n",
    "from sklearn.model_selection import GridSearchCV\n",
    "from keras.wrappers.scikit_learn import KerasClassifier\n",
    "from keras.optimizers import SGD\n",
    "from keras.constraints import maxnorm\n",
    "\n",
    "import matplotlib.pyplot as plt \n",
    "import pandas as pd\n",
    "import numpy as np\n",
    "import seaborn as sns\n",
    "\n",
    "from pandas.api.types import is_numeric_dtype\n",
    "\n",
    "import warnings\n",
    "warnings.filterwarnings(\"ignore\")\n",
    "import ipytest.magics\n",
    "import pytest\n",
    "# set the file name (required)\n",
    "__file__ = 'drone_pos_model.ipynb'"
   ]
  },
  {
   "cell_type": "code",
   "execution_count": 2,
   "metadata": {},
   "outputs": [],
   "source": [
    "class Shuffler(BaseEstimator, TransformerMixin):\n",
    "    \n",
    "    def __init__(self):\n",
    "        pass\n",
    "        \n",
    "    def fit(self, x, y = None):\n",
    "        return self\n",
    "    \n",
    "    def transform(self, x): #x is df\n",
    "        x=x.loc[np.random.permutation(x.index)]\n",
    "        \n",
    "        return x\n",
    "############################################################################################\n",
    "class XCentralizer(BaseEstimator, TransformerMixin):\n",
    "    \n",
    "    def __init__(self, x_columns):\n",
    "        self.x_columns = x_columns\n",
    "        \n",
    "    def fit(self, x, y = None):\n",
    "        return self\n",
    "    \n",
    "    def transform(self, x): #x is df\n",
    "        shift=x[[\"rightShoulder_x\",\"leftShoulder_x\",\"leftHip_x\",\"rightHip_x\"]].sum(axis=1)/4\n",
    "        for col in self.x_columns:\n",
    "            x[col] = x[col] - shift\n",
    "        return x\n",
    "############################################################################################\n",
    "    \n",
    "class YCentralizer(BaseEstimator, TransformerMixin):\n",
    "    \n",
    "    def __init__(self, y_columns):\n",
    "        self.y_columns = y_columns\n",
    "        \n",
    "    def fit(self, x, y = None):\n",
    "        return self\n",
    "    \n",
    "    def transform(self, x): #x is df\n",
    "        shift=x[[\"rightShoulder_y\",\"leftShoulder_y\",\"leftHip_y\",\"rightHip_y\"]].sum(axis=1)/4\n",
    "        for col in list(set(self.y_columns)-set([\"label\"])):\n",
    "            x[col] = x[col] - shift\n",
    "        return x\n",
    "############################################################################################\n",
    "\n",
    "class YScaler(BaseEstimator, TransformerMixin):\n",
    "    \n",
    "    def __init__(self):\n",
    "        pass\n",
    "        \n",
    "    def fit(self, x, y = None):\n",
    "        return self\n",
    "    \n",
    "    def transform(self, x): #x is df\n",
    "        shoulder_y = x[[\"rightShoulder_y\",\"leftShoulder_y\"]].sum(axis=1)/2\n",
    "        hip_y = x[[\"leftHip_y\",\"rightHip_y\"]].sum(axis=1)/2\n",
    "        y_dist = hip_y - shoulder_y\n",
    "        \n",
    "        for col in list(set(x.columns)-set([\"label\"])):\n",
    "            x[col] /= y_dist\n",
    "        return x"
   ]
  },
  {
   "cell_type": "markdown",
   "metadata": {},
   "source": [
    "### Inspect Train Data"
   ]
  },
  {
   "cell_type": "code",
   "execution_count": 3,
   "metadata": {},
   "outputs": [
    {
     "name": "stdout",
     "output_type": "stream",
     "text": [
      "/Users/lsafari/drone_steering/models\r\n"
     ]
    }
   ],
   "source": [
    "!pwd"
   ]
  },
  {
   "cell_type": "code",
   "execution_count": 4,
   "metadata": {},
   "outputs": [
    {
     "data": {
      "text/html": [
       "<div>\n",
       "<style scoped>\n",
       "    .dataframe tbody tr th:only-of-type {\n",
       "        vertical-align: middle;\n",
       "    }\n",
       "\n",
       "    .dataframe tbody tr th {\n",
       "        vertical-align: top;\n",
       "    }\n",
       "\n",
       "    .dataframe thead th {\n",
       "        text-align: right;\n",
       "    }\n",
       "</style>\n",
       "<table border=\"1\" class=\"dataframe\">\n",
       "  <thead>\n",
       "    <tr style=\"text-align: right;\">\n",
       "      <th></th>\n",
       "      <th>leftShoulder_x</th>\n",
       "      <th>leftShoulder_y</th>\n",
       "      <th>rightShoulder_x</th>\n",
       "      <th>rightShoulder_y</th>\n",
       "      <th>leftElbow_x</th>\n",
       "      <th>leftElbow_y</th>\n",
       "      <th>rightElbow_x</th>\n",
       "      <th>rightElbow_y</th>\n",
       "      <th>leftWrist_x</th>\n",
       "      <th>leftWrist_y</th>\n",
       "      <th>rightWrist_x</th>\n",
       "      <th>rightWrist_y</th>\n",
       "      <th>leftHip_x</th>\n",
       "      <th>leftHip_y</th>\n",
       "      <th>rightHip_x</th>\n",
       "      <th>rightHip_y</th>\n",
       "      <th>label</th>\n",
       "    </tr>\n",
       "  </thead>\n",
       "  <tbody>\n",
       "    <tr>\n",
       "      <th>0</th>\n",
       "      <td>0.49250</td>\n",
       "      <td>0.18750</td>\n",
       "      <td>0.4000</td>\n",
       "      <td>0.18250</td>\n",
       "      <td>0.5050</td>\n",
       "      <td>0.26000</td>\n",
       "      <td>0.34375</td>\n",
       "      <td>0.19500</td>\n",
       "      <td>0.50875</td>\n",
       "      <td>0.33875</td>\n",
       "      <td>0.26625</td>\n",
       "      <td>0.16875</td>\n",
       "      <td>0.46500</td>\n",
       "      <td>0.34375</td>\n",
       "      <td>0.41125</td>\n",
       "      <td>0.34625</td>\n",
       "      <td>1</td>\n",
       "    </tr>\n",
       "    <tr>\n",
       "      <th>1</th>\n",
       "      <td>0.49250</td>\n",
       "      <td>0.18875</td>\n",
       "      <td>0.4025</td>\n",
       "      <td>0.18625</td>\n",
       "      <td>0.5075</td>\n",
       "      <td>0.25875</td>\n",
       "      <td>0.33250</td>\n",
       "      <td>0.19750</td>\n",
       "      <td>0.50000</td>\n",
       "      <td>0.33750</td>\n",
       "      <td>0.27625</td>\n",
       "      <td>0.17500</td>\n",
       "      <td>0.46750</td>\n",
       "      <td>0.33625</td>\n",
       "      <td>0.40875</td>\n",
       "      <td>0.33750</td>\n",
       "      <td>1</td>\n",
       "    </tr>\n",
       "    <tr>\n",
       "      <th>2</th>\n",
       "      <td>0.49125</td>\n",
       "      <td>0.19000</td>\n",
       "      <td>0.4025</td>\n",
       "      <td>0.17875</td>\n",
       "      <td>0.5050</td>\n",
       "      <td>0.26125</td>\n",
       "      <td>0.33500</td>\n",
       "      <td>0.19875</td>\n",
       "      <td>0.51125</td>\n",
       "      <td>0.33500</td>\n",
       "      <td>0.26375</td>\n",
       "      <td>0.16875</td>\n",
       "      <td>0.46375</td>\n",
       "      <td>0.33875</td>\n",
       "      <td>0.40875</td>\n",
       "      <td>0.33750</td>\n",
       "      <td>1</td>\n",
       "    </tr>\n",
       "  </tbody>\n",
       "</table>\n",
       "</div>"
      ],
      "text/plain": [
       "   leftShoulder_x  leftShoulder_y  rightShoulder_x  rightShoulder_y  \\\n",
       "0         0.49250         0.18750           0.4000          0.18250   \n",
       "1         0.49250         0.18875           0.4025          0.18625   \n",
       "2         0.49125         0.19000           0.4025          0.17875   \n",
       "\n",
       "   leftElbow_x  leftElbow_y  rightElbow_x  rightElbow_y  leftWrist_x  \\\n",
       "0       0.5050      0.26000       0.34375       0.19500      0.50875   \n",
       "1       0.5075      0.25875       0.33250       0.19750      0.50000   \n",
       "2       0.5050      0.26125       0.33500       0.19875      0.51125   \n",
       "\n",
       "   leftWrist_y  rightWrist_x  rightWrist_y  leftHip_x  leftHip_y  rightHip_x  \\\n",
       "0      0.33875       0.26625       0.16875    0.46500    0.34375     0.41125   \n",
       "1      0.33750       0.27625       0.17500    0.46750    0.33625     0.40875   \n",
       "2      0.33500       0.26375       0.16875    0.46375    0.33875     0.40875   \n",
       "\n",
       "   rightHip_y  label  \n",
       "0     0.34625      1  \n",
       "1     0.33750      1  \n",
       "2     0.33750      1  "
      ]
     },
     "execution_count": 4,
     "metadata": {},
     "output_type": "execute_result"
    }
   ],
   "source": [
    "#df = pd.read_csv(\"video_001.csv\", delimiter=',')\n",
    "# Christian's video is less noisy. Therefore I only train the model with his data at the moment. \n",
    "# acc increased 5 % taking his video camparing to all videos.\n",
    "#path = \"all_videos_posture_steptime50_checksum8160\"\n",
    "#path = \"video_Christian_posture_steptime50_checksum8160\"\n",
    "path = \"video_all_posture_steptime50_checksum8160\"\n",
    "df = pd.read_csv(\"/Users/lsafari/drone_steering/data/\" + path + \".csv\",low_memory=False)\n",
    "#df=df.drop([5557], axis=0)\n",
    "#type(df.leftShoulder_x)\n",
    "#df.info()\n",
    "df.head(3)\n"
   ]
  },
  {
   "cell_type": "code",
   "execution_count": 5,
   "metadata": {},
   "outputs": [],
   "source": [
    "#df[[\"leftShoulder_y\",\"rightShoulder_y\",\"leftHip_y\",\"rightHip_y\"]]\n",
    "#df.describe()\n",
    "#df.info()\n",
    "#df.label.unique()"
   ]
  },
  {
   "cell_type": "code",
   "execution_count": 6,
   "metadata": {},
   "outputs": [
    {
     "data": {
      "text/plain": [
       "(3837, 17)"
      ]
     },
     "execution_count": 6,
     "metadata": {},
     "output_type": "execute_result"
    }
   ],
   "source": [
    "df.shape"
   ]
  },
  {
   "cell_type": "code",
   "execution_count": 7,
   "metadata": {},
   "outputs": [],
   "source": [
    "#for i in df:\n",
    "    #print(i, df[i].isnull().sum())    "
   ]
  },
  {
   "cell_type": "code",
   "execution_count": 8,
   "metadata": {},
   "outputs": [
    {
     "data": {
      "text/plain": [
       "(3719, 17)"
      ]
     },
     "execution_count": 8,
     "metadata": {},
     "output_type": "execute_result"
    }
   ],
   "source": [
    "df1=df.dropna().drop_duplicates()\n",
    "#df1\n",
    "#df1\n",
    "df1.shape"
   ]
  },
  {
   "cell_type": "code",
   "execution_count": 9,
   "metadata": {},
   "outputs": [],
   "source": [
    "# Checking that we don't have any null values\n",
    "assert df1.isnull().all().all() == False"
   ]
  },
  {
   "cell_type": "code",
   "execution_count": 10,
   "metadata": {},
   "outputs": [],
   "source": [
    "#df1.describe()"
   ]
  },
  {
   "cell_type": "code",
   "execution_count": 12,
   "metadata": {},
   "outputs": [
    {
     "data": {
      "text/html": [
       "<div>\n",
       "<style scoped>\n",
       "    .dataframe tbody tr th:only-of-type {\n",
       "        vertical-align: middle;\n",
       "    }\n",
       "\n",
       "    .dataframe tbody tr th {\n",
       "        vertical-align: top;\n",
       "    }\n",
       "\n",
       "    .dataframe thead th {\n",
       "        text-align: right;\n",
       "    }\n",
       "</style>\n",
       "<table border=\"1\" class=\"dataframe\">\n",
       "  <thead>\n",
       "    <tr style=\"text-align: right;\">\n",
       "      <th></th>\n",
       "      <th>leftShoulder_x</th>\n",
       "      <th>leftShoulder_y</th>\n",
       "      <th>rightShoulder_x</th>\n",
       "      <th>rightShoulder_y</th>\n",
       "      <th>leftElbow_x</th>\n",
       "      <th>leftElbow_y</th>\n",
       "      <th>rightElbow_x</th>\n",
       "      <th>rightElbow_y</th>\n",
       "      <th>leftWrist_x</th>\n",
       "      <th>leftWrist_y</th>\n",
       "      <th>rightWrist_x</th>\n",
       "      <th>rightWrist_y</th>\n",
       "      <th>leftHip_x</th>\n",
       "      <th>leftHip_y</th>\n",
       "      <th>rightHip_x</th>\n",
       "      <th>rightHip_y</th>\n",
       "      <th>label</th>\n",
       "    </tr>\n",
       "  </thead>\n",
       "  <tbody>\n",
       "    <tr>\n",
       "      <th>0</th>\n",
       "      <td>0.4925</td>\n",
       "      <td>0.18750</td>\n",
       "      <td>0.4000</td>\n",
       "      <td>0.18250</td>\n",
       "      <td>0.5050</td>\n",
       "      <td>0.26000</td>\n",
       "      <td>0.34375</td>\n",
       "      <td>0.1950</td>\n",
       "      <td>0.50875</td>\n",
       "      <td>0.33875</td>\n",
       "      <td>0.26625</td>\n",
       "      <td>0.16875</td>\n",
       "      <td>0.4650</td>\n",
       "      <td>0.34375</td>\n",
       "      <td>0.41125</td>\n",
       "      <td>0.34625</td>\n",
       "      <td>1</td>\n",
       "    </tr>\n",
       "    <tr>\n",
       "      <th>1</th>\n",
       "      <td>0.4925</td>\n",
       "      <td>0.18875</td>\n",
       "      <td>0.4025</td>\n",
       "      <td>0.18625</td>\n",
       "      <td>0.5075</td>\n",
       "      <td>0.25875</td>\n",
       "      <td>0.33250</td>\n",
       "      <td>0.1975</td>\n",
       "      <td>0.50000</td>\n",
       "      <td>0.33750</td>\n",
       "      <td>0.27625</td>\n",
       "      <td>0.17500</td>\n",
       "      <td>0.4675</td>\n",
       "      <td>0.33625</td>\n",
       "      <td>0.40875</td>\n",
       "      <td>0.33750</td>\n",
       "      <td>1</td>\n",
       "    </tr>\n",
       "  </tbody>\n",
       "</table>\n",
       "</div>"
      ],
      "text/plain": [
       "   leftShoulder_x  leftShoulder_y  rightShoulder_x  rightShoulder_y  \\\n",
       "0          0.4925         0.18750           0.4000          0.18250   \n",
       "1          0.4925         0.18875           0.4025          0.18625   \n",
       "\n",
       "   leftElbow_x  leftElbow_y  rightElbow_x  rightElbow_y  leftWrist_x  \\\n",
       "0       0.5050      0.26000       0.34375        0.1950      0.50875   \n",
       "1       0.5075      0.25875       0.33250        0.1975      0.50000   \n",
       "\n",
       "   leftWrist_y  rightWrist_x  rightWrist_y  leftHip_x  leftHip_y  rightHip_x  \\\n",
       "0      0.33875       0.26625       0.16875     0.4650    0.34375     0.41125   \n",
       "1      0.33750       0.27625       0.17500     0.4675    0.33625     0.40875   \n",
       "\n",
       "   rightHip_y  label  \n",
       "0     0.34625      1  \n",
       "1     0.33750      1  "
      ]
     },
     "execution_count": 12,
     "metadata": {},
     "output_type": "execute_result"
    }
   ],
   "source": [
    "x=df1.copy()\n",
    "#x=x.drop([\"label\"], axis = 1)\n",
    "x_cols = ['leftShoulder_x', 'rightShoulder_x',\n",
    "        'leftElbow_x', 'rightElbow_x',\n",
    "        'leftWrist_x', 'rightWrist_x',\n",
    "        'leftHip_x', 'rightHip_x']\n",
    "#xtrans = XCentralizer(x_cols)\n",
    "#x = xtrans.transform(x)\n",
    "\n",
    "y_cols = list(set(x.columns)-set(x_cols))\n",
    "#print(y_cols)\n",
    "#ytrans = YCentralizer(y_cols)\n",
    "#x = ytrans.transform(x)\n",
    "\n",
    "#ytrans = YScaler()\n",
    "#x = ytrans.transform(x)\n",
    "x[:2]"
   ]
  },
  {
   "cell_type": "code",
   "execution_count": 13,
   "metadata": {},
   "outputs": [],
   "source": [
    "from sklearn.pipeline import make_pipeline, make_union\n",
    "\n",
    "processing_pipeline = make_pipeline(\n",
    "    XCentralizer(x_cols),\n",
    "    YCentralizer(y_cols), \n",
    "    YScaler(),\n",
    "    Shuffler()\n",
    "    )"
   ]
  },
  {
   "cell_type": "code",
   "execution_count": 27,
   "metadata": {},
   "outputs": [],
   "source": [
    "processed_df = processing_pipeline.fit_transform(x)"
   ]
  },
  {
   "cell_type": "code",
   "execution_count": 28,
   "metadata": {},
   "outputs": [
    {
     "name": "stdout",
     "output_type": "stream",
     "text": [
      "============================= test session starts ==============================\n",
      "platform darwin -- Python 3.6.5, pytest-3.5.1, py-1.5.3, pluggy-0.6.0\n",
      "rootdir: /Users/lsafari/drone_steering/models, inifile:\n",
      "plugins: remotedata-0.2.1, openfiles-0.3.0, doctestplus-0.1.3, arraydiff-0.2\n",
      "collected 1 item\n",
      "\n",
      "drone_pos_model.py .                                                     [100%]\n",
      "\n",
      "=============================== warnings summary ===============================\n",
      "None\n",
      "  Module already imported so cannot be rewritten: pytest_remotedata\n",
      "  Module already imported so cannot be rewritten: pytest_openfiles\n",
      "  Module already imported so cannot be rewritten: pytest_doctestplus\n",
      "  Module already imported so cannot be rewritten: pytest_arraydiff\n",
      "\n",
      "-- Docs: http://doc.pytest.org/en/latest/warnings.html\n",
      "===================== 1 passed, 4 warnings in 0.04 seconds =====================\n"
     ]
    }
   ],
   "source": [
    "%%run_pytest[clean]\n",
    "def test_processingpipeline():\n",
    "    # remember, this first pipeline only acts on the features, not the target.\n",
    "    processed_df = processing_pipeline.fit_transform(x)\n",
    "    \n",
    "    # check for data leakage\n",
    "    assert x.shape[0] == processed_df.shape[0]"
   ]
  },
  {
   "cell_type": "code",
   "execution_count": 32,
   "metadata": {},
   "outputs": [],
   "source": [
    "#shuff=Shuffler()\n",
    "#df_shuffled=shuff.transform(df1)\n",
    "df_train = processed_df.iloc[:int(processed_df.shape[0]*0.8)]\n",
    "df_val = processed_df.iloc[int(processed_df.shape[0]*0.8):]"
   ]
  },
  {
   "cell_type": "code",
   "execution_count": 33,
   "metadata": {},
   "outputs": [],
   "source": [
    "assert df_train.shape[0] + df_val.shape[0] == processed_df.shape[0]"
   ]
  },
  {
   "cell_type": "code",
   "execution_count": 71,
   "metadata": {},
   "outputs": [
    {
     "data": {
      "text/html": [
       "<div>\n",
       "<style scoped>\n",
       "    .dataframe tbody tr th:only-of-type {\n",
       "        vertical-align: middle;\n",
       "    }\n",
       "\n",
       "    .dataframe tbody tr th {\n",
       "        vertical-align: top;\n",
       "    }\n",
       "\n",
       "    .dataframe thead th {\n",
       "        text-align: right;\n",
       "    }\n",
       "</style>\n",
       "<table border=\"1\" class=\"dataframe\">\n",
       "  <thead>\n",
       "    <tr style=\"text-align: right;\">\n",
       "      <th></th>\n",
       "      <th>leftShoulder_x</th>\n",
       "      <th>leftShoulder_y</th>\n",
       "      <th>rightShoulder_x</th>\n",
       "      <th>rightShoulder_y</th>\n",
       "      <th>leftElbow_x</th>\n",
       "      <th>leftElbow_y</th>\n",
       "      <th>rightElbow_x</th>\n",
       "      <th>rightElbow_y</th>\n",
       "      <th>leftWrist_x</th>\n",
       "      <th>leftWrist_y</th>\n",
       "      <th>rightWrist_x</th>\n",
       "      <th>rightWrist_y</th>\n",
       "      <th>leftHip_x</th>\n",
       "      <th>leftHip_y</th>\n",
       "      <th>rightHip_x</th>\n",
       "      <th>rightHip_y</th>\n",
       "      <th>label</th>\n",
       "    </tr>\n",
       "  </thead>\n",
       "  <tbody>\n",
       "    <tr>\n",
       "      <th>3477</th>\n",
       "      <td>0.336576</td>\n",
       "      <td>-0.538911</td>\n",
       "      <td>-0.270428</td>\n",
       "      <td>-0.461089</td>\n",
       "      <td>0.375486</td>\n",
       "      <td>-0.064202</td>\n",
       "      <td>-0.620623</td>\n",
       "      <td>-0.110895</td>\n",
       "      <td>0.523346</td>\n",
       "      <td>-1.379377</td>\n",
       "      <td>-1.017510</td>\n",
       "      <td>0.099222</td>\n",
       "      <td>0.149805</td>\n",
       "      <td>0.480545</td>\n",
       "      <td>-0.215953</td>\n",
       "      <td>0.519455</td>\n",
       "      <td>3</td>\n",
       "    </tr>\n",
       "    <tr>\n",
       "      <th>1699</th>\n",
       "      <td>0.295045</td>\n",
       "      <td>-0.486486</td>\n",
       "      <td>-0.299550</td>\n",
       "      <td>-0.513514</td>\n",
       "      <td>0.358108</td>\n",
       "      <td>0.027027</td>\n",
       "      <td>-0.434685</td>\n",
       "      <td>-0.009009</td>\n",
       "      <td>0.412162</td>\n",
       "      <td>0.504505</td>\n",
       "      <td>-0.443694</td>\n",
       "      <td>0.495495</td>\n",
       "      <td>0.222973</td>\n",
       "      <td>0.522523</td>\n",
       "      <td>-0.218468</td>\n",
       "      <td>0.477477</td>\n",
       "      <td>4</td>\n",
       "    </tr>\n",
       "    <tr>\n",
       "      <th>2312</th>\n",
       "      <td>0.173507</td>\n",
       "      <td>-0.559701</td>\n",
       "      <td>-0.274254</td>\n",
       "      <td>-0.440299</td>\n",
       "      <td>0.755597</td>\n",
       "      <td>-0.649254</td>\n",
       "      <td>-0.341418</td>\n",
       "      <td>-0.029851</td>\n",
       "      <td>0.531716</td>\n",
       "      <td>0.276119</td>\n",
       "      <td>-0.319030</td>\n",
       "      <td>0.522388</td>\n",
       "      <td>0.233209</td>\n",
       "      <td>0.492537</td>\n",
       "      <td>-0.132463</td>\n",
       "      <td>0.507463</td>\n",
       "      <td>1</td>\n",
       "    </tr>\n",
       "    <tr>\n",
       "      <th>1960</th>\n",
       "      <td>0.298673</td>\n",
       "      <td>-0.477876</td>\n",
       "      <td>-0.276549</td>\n",
       "      <td>-0.522124</td>\n",
       "      <td>0.378319</td>\n",
       "      <td>0.044248</td>\n",
       "      <td>-0.488938</td>\n",
       "      <td>-0.008850</td>\n",
       "      <td>0.440265</td>\n",
       "      <td>0.380531</td>\n",
       "      <td>-0.462389</td>\n",
       "      <td>0.407080</td>\n",
       "      <td>0.183628</td>\n",
       "      <td>0.486726</td>\n",
       "      <td>-0.205752</td>\n",
       "      <td>0.513274</td>\n",
       "      <td>0</td>\n",
       "    </tr>\n",
       "    <tr>\n",
       "      <th>3585</th>\n",
       "      <td>0.297348</td>\n",
       "      <td>-0.454545</td>\n",
       "      <td>-0.270833</td>\n",
       "      <td>-0.545455</td>\n",
       "      <td>0.403409</td>\n",
       "      <td>0.053030</td>\n",
       "      <td>-0.399621</td>\n",
       "      <td>-0.030303</td>\n",
       "      <td>0.350379</td>\n",
       "      <td>0.575758</td>\n",
       "      <td>-0.535985</td>\n",
       "      <td>0.257576</td>\n",
       "      <td>0.176136</td>\n",
       "      <td>0.537879</td>\n",
       "      <td>-0.202652</td>\n",
       "      <td>0.462121</td>\n",
       "      <td>1</td>\n",
       "    </tr>\n",
       "  </tbody>\n",
       "</table>\n",
       "</div>"
      ],
      "text/plain": [
       "      leftShoulder_x  leftShoulder_y  rightShoulder_x  rightShoulder_y  \\\n",
       "3477        0.336576       -0.538911        -0.270428        -0.461089   \n",
       "1699        0.295045       -0.486486        -0.299550        -0.513514   \n",
       "2312        0.173507       -0.559701        -0.274254        -0.440299   \n",
       "1960        0.298673       -0.477876        -0.276549        -0.522124   \n",
       "3585        0.297348       -0.454545        -0.270833        -0.545455   \n",
       "\n",
       "      leftElbow_x  leftElbow_y  rightElbow_x  rightElbow_y  leftWrist_x  \\\n",
       "3477     0.375486    -0.064202     -0.620623     -0.110895     0.523346   \n",
       "1699     0.358108     0.027027     -0.434685     -0.009009     0.412162   \n",
       "2312     0.755597    -0.649254     -0.341418     -0.029851     0.531716   \n",
       "1960     0.378319     0.044248     -0.488938     -0.008850     0.440265   \n",
       "3585     0.403409     0.053030     -0.399621     -0.030303     0.350379   \n",
       "\n",
       "      leftWrist_y  rightWrist_x  rightWrist_y  leftHip_x  leftHip_y  \\\n",
       "3477    -1.379377     -1.017510      0.099222   0.149805   0.480545   \n",
       "1699     0.504505     -0.443694      0.495495   0.222973   0.522523   \n",
       "2312     0.276119     -0.319030      0.522388   0.233209   0.492537   \n",
       "1960     0.380531     -0.462389      0.407080   0.183628   0.486726   \n",
       "3585     0.575758     -0.535985      0.257576   0.176136   0.537879   \n",
       "\n",
       "      rightHip_x  rightHip_y  label  \n",
       "3477   -0.215953    0.519455      3  \n",
       "1699   -0.218468    0.477477      4  \n",
       "2312   -0.132463    0.507463      1  \n",
       "1960   -0.205752    0.513274      0  \n",
       "3585   -0.202652    0.462121      1  "
      ]
     },
     "execution_count": 71,
     "metadata": {},
     "output_type": "execute_result"
    }
   ],
   "source": [
    "processed_df.head(5)"
   ]
  },
  {
   "cell_type": "code",
   "execution_count": 94,
   "metadata": {},
   "outputs": [],
   "source": [
    "y_train = df_train['label']\n",
    "x_train = df_train.drop('label', axis = 1)\n",
    "\n",
    "y_val = df_val['label']\n",
    "x_val = df_val.drop('label', axis = 1)"
   ]
  },
  {
   "cell_type": "code",
   "execution_count": 73,
   "metadata": {},
   "outputs": [],
   "source": [
    "#df_shuffled.columns\n",
    "#y_train\n",
    "#x_train"
   ]
  },
  {
   "cell_type": "code",
   "execution_count": 89,
   "metadata": {},
   "outputs": [
    {
     "data": {
      "text/plain": [
       "((2975, 16), (2975,), (744, 16), (744,))"
      ]
     },
     "execution_count": 89,
     "metadata": {},
     "output_type": "execute_result"
    }
   ],
   "source": [
    "x_train.shape, y_train.shape, x_val.shape, y_val.shape"
   ]
  },
  {
   "cell_type": "code",
   "execution_count": 91,
   "metadata": {},
   "outputs": [
    {
     "data": {
      "text/plain": [
       "array([[ 0.33657588, -0.53891051, -0.27042802, ...,  0.48054475,\n",
       "        -0.21595331,  0.51945525],\n",
       "       [ 0.29504505, -0.48648649, -0.29954955, ...,  0.52252252,\n",
       "        -0.21846847,  0.47747748],\n",
       "       [ 0.17350746, -0.55970149, -0.27425373, ...,  0.49253731,\n",
       "        -0.13246269,  0.50746269],\n",
       "       ...,\n",
       "       [ 0.29147982, -0.5044843 , -0.26457399, ...,  0.49103139,\n",
       "        -0.21973094,  0.50896861],\n",
       "       [ 0.2689243 , -0.48406375, -0.28884462, ...,  0.49601594,\n",
       "        -0.18525896,  0.50398406],\n",
       "       [ 0.29955947, -0.47797357, -0.27312775, ...,  0.49118943,\n",
       "        -0.21145374,  0.50881057]])"
      ]
     },
     "execution_count": 91,
     "metadata": {},
     "output_type": "execute_result"
    }
   ],
   "source": [
    "x_train.values"
   ]
  },
  {
   "cell_type": "code",
   "execution_count": 75,
   "metadata": {},
   "outputs": [],
   "source": [
    "x_train=x_train.values\n",
    "y_train=y_train.values\n",
    "x_val=x_val.values\n",
    "y_val=y_val.values"
   ]
  },
  {
   "cell_type": "code",
   "execution_count": 38,
   "metadata": {},
   "outputs": [
    {
     "data": {
      "text/plain": [
       "((2975, 16), (2975,), (744, 16), (744,))"
      ]
     },
     "execution_count": 38,
     "metadata": {},
     "output_type": "execute_result"
    }
   ],
   "source": [
    "x_train.shape, y_train.shape, x_val.shape, y_val.shape"
   ]
  },
  {
   "cell_type": "code",
   "execution_count": 76,
   "metadata": {},
   "outputs": [
    {
     "name": "stdout",
     "output_type": "stream",
     "text": [
      "x_train= [ 0.33657588 -0.53891051 -0.27042802 -0.46108949  0.37548638 -0.06420233\n",
      " -0.62062257 -0.11089494  0.5233463  -1.37937743 -1.01750973  0.09922179\n",
      "  0.14980545  0.48054475 -0.21595331  0.51945525] \n",
      " y_train= 3\n"
     ]
    }
   ],
   "source": [
    "#x_train\n",
    "print(\"x_train=\", x_train[0],\"\\n y_train=\", y_train[0])"
   ]
  },
  {
   "cell_type": "markdown",
   "metadata": {},
   "source": [
    "### Training Model"
   ]
  },
  {
   "cell_type": "code",
   "execution_count": 77,
   "metadata": {},
   "outputs": [],
   "source": [
    "#Load data from a text file, with missing values handled as specified\n",
    "#data_csv = np.genfromtxt('/Users/lsafari/drone_steering/data/video_all_posture_steptime50_checksum8160.csv', delimiter=',')\n",
    "#train_x = data_csv[1:2000,0:16] \n",
    "#train_y = data_csv[1:2000,16:17]\n",
    "#test_x = data_csv[2000:,0:16] \n",
    "#test_y = data_csv[2000:,16:17]"
   ]
  },
  {
   "cell_type": "code",
   "execution_count": 119,
   "metadata": {},
   "outputs": [],
   "source": [
    "x_train = df1.drop(\"label\", axis=1)\n",
    "y_train = df1[\"label\"]"
   ]
  },
  {
   "cell_type": "code",
   "execution_count": 78,
   "metadata": {},
   "outputs": [],
   "source": [
    "from keras.utils import to_categorical\n",
    "y_train = to_categorical(y_train)\n",
    "y_val = to_categorical(y_val)"
   ]
  },
  {
   "cell_type": "code",
   "execution_count": 93,
   "metadata": {},
   "outputs": [
    {
     "data": {
      "text/plain": [
       "3477    3\n",
       "1699    4\n",
       "2312    1\n",
       "1960    0\n",
       "3585    1\n",
       "3471    3\n",
       "1974    0\n",
       "929     2\n",
       "1043    0\n",
       "2547    4\n",
       "2369    1\n",
       "1129    0\n",
       "1385    3\n",
       "2727    4\n",
       "888     2\n",
       "2081    0\n",
       "390     3\n",
       "2191    0\n",
       "614     4\n",
       "736     1\n",
       "2334    1\n",
       "110     4\n",
       "1547    3\n",
       "1731    4\n",
       "2102    0\n",
       "1095    0\n",
       "3720    2\n",
       "2672    4\n",
       "1512    3\n",
       "561     4\n",
       "       ..\n",
       "2503    4\n",
       "3209    3\n",
       "3763    2\n",
       "1056    0\n",
       "511     4\n",
       "1029    0\n",
       "3629    1\n",
       "2918    4\n",
       "604     4\n",
       "158     2\n",
       "3732    2\n",
       "2257    2\n",
       "2851    4\n",
       "868     2\n",
       "696     1\n",
       "278     1\n",
       "904     2\n",
       "1288    3\n",
       "2034    0\n",
       "766     1\n",
       "1444    3\n",
       "1507    3\n",
       "2946    4\n",
       "2745    4\n",
       "2721    4\n",
       "919     2\n",
       "3181    3\n",
       "1177    0\n",
       "3402    3\n",
       "1962    0\n",
       "Name: label, Length: 2975, dtype: int64"
      ]
     },
     "execution_count": 93,
     "metadata": {},
     "output_type": "execute_result"
    }
   ],
   "source": [
    "y_train"
   ]
  },
  {
   "cell_type": "code",
   "execution_count": 80,
   "metadata": {},
   "outputs": [
    {
     "name": "stdout",
     "output_type": "stream",
     "text": [
      "[ 0.33657588 -0.53891051 -0.27042802 -0.46108949  0.37548638 -0.06420233\n",
      " -0.62062257 -0.11089494  0.5233463  -1.37937743 -1.01750973  0.09922179\n",
      "  0.14980545  0.48054475 -0.21595331  0.51945525]\n",
      "[0. 0. 0. 1. 0.]\n"
     ]
    }
   ],
   "source": [
    "print(x_train[0])\n",
    "print(y_train[0])"
   ]
  },
  {
   "cell_type": "markdown",
   "metadata": {},
   "source": [
    "# Model Architecture"
   ]
  },
  {
   "cell_type": "code",
   "execution_count": 81,
   "metadata": {},
   "outputs": [],
   "source": [
    "from keras import models, layers\n",
    "from keras.models import Model\n",
    "from keras.layers import Input, Dense\n",
    "from keras import optimizers, losses, metrics\n",
    "\n",
    "def creat_model():\n",
    "    #default vaues\n",
    "    #activation=\"relu\"\n",
    "    #optimizer=\"adam\"\n",
    "    lr=0.01\n",
    "    #momentum=0\n",
    "    #creat model\n",
    "    model = models.Sequential()\n",
    "    model.add(layers.Dense(\n",
    "        32, \n",
    "        activation=\"relu\", \n",
    "        input_shape=(16, )))\n",
    "    model.add(layers.Dense(15, activation=\"relu\"))\n",
    "    model.add(layers.Dense(5, activation=\"softmax\")) #is a fast rectifier\n",
    "    #model.summary()   \n",
    "\n",
    "    model.compile(\n",
    "    optimizer=optimizers.RMSprop(lr=0.01),\n",
    "    loss=losses.categorical_crossentropy,\n",
    "    metrics=[\"accuracy\"] \n",
    "    )\n",
    "    return model"
   ]
  },
  {
   "cell_type": "code",
   "execution_count": 92,
   "metadata": {},
   "outputs": [
    {
     "data": {
      "text/plain": [
       "keras.wrappers.scikit_learn.KerasClassifier"
      ]
     },
     "execution_count": 92,
     "metadata": {},
     "output_type": "execute_result"
    }
   ],
   "source": [
    "model_classifier = KerasClassifier(build_fn=creat_model)\n",
    "type(model_classifier)\n",
    "#model_classifier.fit()"
   ]
  },
  {
   "cell_type": "code",
   "execution_count": 86,
   "metadata": {},
   "outputs": [],
   "source": [
    "from sklearn.metrics import mean_squared_error, mean_absolute_error, r2_score\n",
    "from sklearn.model_selection import cross_val_predict\n",
    "from sklearn.ensemble import RandomForestClassifier\n",
    "from math import sqrt\n",
    "import matplotlib.pyplot as plt"
   ]
  },
  {
   "cell_type": "code",
   "execution_count": 120,
   "metadata": {},
   "outputs": [],
   "source": [
    "finalpipeline = (make_pipeline(processing_pipeline,RandomForestClassifier(random_state=1, \n",
    "                                                                          n_jobs=-1, \n",
    "                                                                          n_estimators=100)))\n",
    "# Fitting the pipeline\n",
    "#finalpipeline.fit(x_train, y_train)\n",
    "#finalpipeline"
   ]
  },
  {
   "cell_type": "code",
   "execution_count": 121,
   "metadata": {},
   "outputs": [],
   "source": [
    "#Use sckit_learn to grid search\n",
    "activation = ['relu']\n",
    "lr = [0.0001, 0.001, 0.1]\n",
    "neurons = [1, 5, 10, 15, 20, 25, 30]\n",
    "optimizer = ['RMSprop','Adam'] #['SGD', 'Adgrad', 'Adadelta', 'Adamax', 'Nadam']\n",
    "######## grid serach epochs, batch_size\n",
    "epochs = [100]\n",
    "batch_size = [20]\n",
    "param_grid = dict(epochs=epochs, batch_size=batch_size)\n",
    "\n",
    "\n",
    "#--------------------------- Random Forest --------------------------------------------\n",
    "# Number of trees in random forest\n",
    "n_estimators = [100, 500, 1000]\n",
    "# Number of features to consider at every split\n",
    "max_features = [5, 10, 'sqrt']\n",
    "# Maximum number of levels in tree\n",
    "max_depth = [int(x) for x in np.linspace(5, 110, num = 4)]\n",
    "max_depth.append(None)\n",
    "random_grid = {'randomforestclassifier__n_estimators': n_estimators}\n",
    "'''               \n",
    "               ,\n",
    "               'randomforestclassifier__max_features': max_features,\n",
    "               'randomforestclassifier__max_depth': max_depth,\n",
    "              }\n",
    "'''\n",
    "\n",
    "#######################################################\n",
    "grid_search = GridSearchCV(estimator=finalpipeline, param_grid=random_grid, n_jobs=-1)\n"
   ]
  },
  {
   "cell_type": "code",
   "execution_count": 122,
   "metadata": {},
   "outputs": [],
   "source": [
    "grid_result = grid_search.fit(x_train, y_train)"
   ]
  },
  {
   "cell_type": "code",
   "execution_count": 123,
   "metadata": {},
   "outputs": [
    {
     "data": {
      "text/plain": [
       "{'mean_fit_time': array([ 4.44905106,  8.00048868, 10.46329761]),\n",
       " 'std_fit_time': array([0.09472258, 0.21949691, 3.49098227]),\n",
       " 'mean_score_time': array([8.67363262, 6.64293098, 3.18102137]),\n",
       " 'std_score_time': array([0.09388991, 0.13842127, 1.16149164]),\n",
       " 'param_randomforestclassifier__n_estimators': masked_array(data=[100, 500, 1000],\n",
       "              mask=[False, False, False],\n",
       "        fill_value='?',\n",
       "             dtype=object),\n",
       " 'params': [{'randomforestclassifier__n_estimators': 100},\n",
       "  {'randomforestclassifier__n_estimators': 500},\n",
       "  {'randomforestclassifier__n_estimators': 1000}],\n",
       " 'split0_test_score': array([0.23771152, 0.24012893, 0.23126511]),\n",
       " 'split1_test_score': array([0.23163842, 0.23567393, 0.23567393]),\n",
       " 'split2_test_score': array([0.24374496, 0.2582728 , 0.26472962]),\n",
       " 'mean_test_score': array([0.23769831, 0.24468943, 0.24388276]),\n",
       " 'std_test_score': array([0.00494115, 0.00977181, 0.01484456]),\n",
       " 'rank_test_score': array([3, 1, 2], dtype=int32),\n",
       " 'split0_train_score': array([0.21993543, 0.21993543, 0.21993543]),\n",
       " 'split1_train_score': array([0.22137097, 0.22137097, 0.22137097]),\n",
       " 'split2_train_score': array([0.23024194, 0.23024194, 0.22177419]),\n",
       " 'mean_train_score': array([0.22384945, 0.22384945, 0.22102686]),\n",
       " 'std_train_score': array([0.00455801, 0.00455801, 0.00078912])}"
      ]
     },
     "execution_count": 123,
     "metadata": {},
     "output_type": "execute_result"
    }
   ],
   "source": [
    "grid_result.cv_results_"
   ]
  },
  {
   "cell_type": "code",
   "execution_count": null,
   "metadata": {},
   "outputs": [],
   "source": [
    "##############################################################\n",
    "# summarize results\n",
    "print(\"Best: %f using %s\" % (grid_result.best_score_, grid_result.best_params_))\n",
    "means = grid_result.cv_results_['mean_test_score']\n",
    "stds = grid_result.cv_results_['std_test_score']\n",
    "params = grid_result.cv_results_['params']\n",
    "for mean, stdev, param in zip(means, stds, params):\n",
    "    print(\"%f (%f) with: %r\" % (mean, stdev, param))"
   ]
  },
  {
   "cell_type": "code",
   "execution_count": null,
   "metadata": {},
   "outputs": [],
   "source": [
    "history = model_classifier.fit(x_train, y_train, epochs=100, batch_size=30)"
   ]
  },
  {
   "cell_type": "code",
   "execution_count": null,
   "metadata": {
    "scrolled": true
   },
   "outputs": [],
   "source": [
    "\n",
    "plt.plot(history.history[\"loss\"], label=[\"loss\"]) #play with hyperparameters to see the changes\n",
    "plt.legend()\n",
    "plt.show()\n",
    "plt.close()\n",
    "\n",
    "plt.plot(history.history[\"acc\"],  label=[\"acc\"])\n",
    "plt.legend()\n",
    "plt.show()\n",
    "plt.close()\n",
    "\n"
   ]
  },
  {
   "cell_type": "code",
   "execution_count": null,
   "metadata": {},
   "outputs": [],
   "source": [
    "test_loss, test_acc = model_classifier.evaluate(x_val, y_val)\n",
    "print(\"Loss / Accuracy Evaluation\")\n",
    "print(\"--------------------------\")\n",
    "print(\"Loss:     \" + str(round(test_loss,5)))\n",
    "print(\"Accuracy: \" + str(round(test_acc,5)))"
   ]
  },
  {
   "cell_type": "code",
   "execution_count": null,
   "metadata": {},
   "outputs": [],
   "source": [
    "val_y_pred = model_classifier.predict(x_val)"
   ]
  },
  {
   "cell_type": "code",
   "execution_count": null,
   "metadata": {},
   "outputs": [],
   "source": [
    "val_y_pred[10]"
   ]
  },
  {
   "cell_type": "code",
   "execution_count": null,
   "metadata": {},
   "outputs": [],
   "source": [
    "y_val[10]"
   ]
  },
  {
   "cell_type": "markdown",
   "metadata": {},
   "source": [
    "### Save Model in tensorflow.js Format"
   ]
  },
  {
   "cell_type": "code",
   "execution_count": null,
   "metadata": {},
   "outputs": [],
   "source": []
  },
  {
   "cell_type": "markdown",
   "metadata": {},
   "source": [
    "The tensorflowjs library can't be installed directly with pip / conda due to conflicting dependencies. Best is to set up a new environment explicitly for this and install tensorflowjs with the following commands:\n",
    "\n",
    "```\n",
    "pip install tensorflow==1.11.0rc2 h5py numpy keras\n",
    "pip install --no-deps tensorflowjs\n",
    "```"
   ]
  },
  {
   "cell_type": "code",
   "execution_count": null,
   "metadata": {},
   "outputs": [],
   "source": [
    "! pip install tensorflow==1.11.0rc2 h5py numpy keras\n",
    "! pip install --no-deps tensorflowjs"
   ]
  },
  {
   "cell_type": "code",
   "execution_count": null,
   "metadata": {},
   "outputs": [],
   "source": [
    "import tensorflowjs as tfjs"
   ]
  },
  {
   "cell_type": "code",
   "execution_count": null,
   "metadata": {},
   "outputs": [],
   "source": [
    "tfjs.converters.save_keras_model(model, 'model_tfjs')"
   ]
  },
  {
   "cell_type": "markdown",
   "metadata": {},
   "source": [
    "We need to adapt the two files as follows in order for them to work on Azure:\n",
    "* add a file extension .pb to the file with no extension (otherwise Azure blocks it from viewing)\n",
    "* adapt the automatically generated model.json to reflect the extension .pb"
   ]
  }
 ],
 "metadata": {
  "kernelspec": {
   "display_name": "Python 3",
   "language": "python",
   "name": "python3"
  },
  "language_info": {
   "codemirror_mode": {
    "name": "ipython",
    "version": 3
   },
   "file_extension": ".py",
   "mimetype": "text/x-python",
   "name": "python",
   "nbconvert_exporter": "python",
   "pygments_lexer": "ipython3",
   "version": "3.6.5"
  }
 },
 "nbformat": 4,
 "nbformat_minor": 2
}
