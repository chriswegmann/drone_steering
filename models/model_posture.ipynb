{
 "cells": [
  {
   "cell_type": "markdown",
   "metadata": {},
   "source": [
    "# Posture Detection Model"
   ]
  },
  {
   "cell_type": "markdown",
   "metadata": {},
   "source": [
    "## 1 Engineer features"
   ]
  },
  {
   "cell_type": "markdown",
   "metadata": {},
   "source": [
    "### 1.1 Import libraries and define transformers  "
   ]
  },
  {
   "cell_type": "code",
   "execution_count": 1,
   "metadata": {},
   "outputs": [
    {
     "name": "stderr",
     "output_type": "stream",
     "text": [
      "Using TensorFlow backend.\n"
     ]
    }
   ],
   "source": [
    "from sklearn.base import BaseEstimator, TransformerMixin\n",
    "from sklearn.pipeline import make_pipeline, make_union\n",
    "from keras.utils import to_categorical\n",
    "from __future__ import print_function\n",
    "import pandas as pd\n",
    "import numpy as np\n",
    "import matplotlib.pyplot as plt\n",
    "import seaborn as sns\n",
    "from pandas.api.types import is_numeric_dtype\n",
    "import warnings\n",
    "warnings.filterwarnings(\"ignore\")\n",
    "import ipytest.magics\n",
    "import pytest\n",
    "__file__ = 'drone_pos_model_christian.ipynb'"
   ]
  },
  {
   "cell_type": "code",
   "execution_count": 2,
   "metadata": {},
   "outputs": [],
   "source": [
    "import warnings\n",
    "warnings.filterwarnings('ignore')"
   ]
  },
  {
   "cell_type": "code",
   "execution_count": 3,
   "metadata": {},
   "outputs": [
    {
     "data": {
      "text/plain": [
       "'C:\\\\Users\\\\Christian\\\\git\\\\drone_steering\\\\models'"
      ]
     },
     "execution_count": 3,
     "metadata": {},
     "output_type": "execute_result"
    }
   ],
   "source": [
    "import os\n",
    "os.getcwd()"
   ]
  },
  {
   "cell_type": "code",
   "execution_count": 4,
   "metadata": {},
   "outputs": [],
   "source": [
    "os.chdir('..')"
   ]
  },
  {
   "cell_type": "code",
   "execution_count": 5,
   "metadata": {},
   "outputs": [],
   "source": [
    "from app.module import Shuffler, XCentralizer, YCentralizer, YScaler"
   ]
  },
  {
   "cell_type": "markdown",
   "metadata": {},
   "source": [
    "### 1.2  Inspect data"
   ]
  },
  {
   "cell_type": "code",
   "execution_count": 6,
   "metadata": {},
   "outputs": [
    {
     "name": "stdout",
     "output_type": "stream",
     "text": [
      "(1867, 13)\n"
     ]
    },
    {
     "data": {
      "text/html": [
       "<div>\n",
       "<style scoped>\n",
       "    .dataframe tbody tr th:only-of-type {\n",
       "        vertical-align: middle;\n",
       "    }\n",
       "\n",
       "    .dataframe tbody tr th {\n",
       "        vertical-align: top;\n",
       "    }\n",
       "\n",
       "    .dataframe thead th {\n",
       "        text-align: right;\n",
       "    }\n",
       "</style>\n",
       "<table border=\"1\" class=\"dataframe\">\n",
       "  <thead>\n",
       "    <tr style=\"text-align: right;\">\n",
       "      <th></th>\n",
       "      <th>leftShoulder_x</th>\n",
       "      <th>leftShoulder_y</th>\n",
       "      <th>rightShoulder_x</th>\n",
       "      <th>rightShoulder_y</th>\n",
       "      <th>leftWrist_x</th>\n",
       "      <th>leftWrist_y</th>\n",
       "      <th>rightWrist_x</th>\n",
       "      <th>rightWrist_y</th>\n",
       "      <th>leftHip_x</th>\n",
       "      <th>leftHip_y</th>\n",
       "      <th>rightHip_x</th>\n",
       "      <th>rightHip_y</th>\n",
       "      <th>label</th>\n",
       "    </tr>\n",
       "  </thead>\n",
       "  <tbody>\n",
       "    <tr>\n",
       "      <th>0</th>\n",
       "      <td>364.388477</td>\n",
       "      <td>175.727292</td>\n",
       "      <td>326.376146</td>\n",
       "      <td>176.318343</td>\n",
       "      <td>373.932203</td>\n",
       "      <td>185.283770</td>\n",
       "      <td>323.401138</td>\n",
       "      <td>178.613052</td>\n",
       "      <td>363.882516</td>\n",
       "      <td>247.058341</td>\n",
       "      <td>335.419796</td>\n",
       "      <td>245.791503</td>\n",
       "      <td>3</td>\n",
       "    </tr>\n",
       "    <tr>\n",
       "      <th>9</th>\n",
       "      <td>362.043733</td>\n",
       "      <td>162.669425</td>\n",
       "      <td>322.806684</td>\n",
       "      <td>162.934143</td>\n",
       "      <td>368.892477</td>\n",
       "      <td>106.262375</td>\n",
       "      <td>314.567677</td>\n",
       "      <td>103.431298</td>\n",
       "      <td>360.476755</td>\n",
       "      <td>244.545429</td>\n",
       "      <td>332.341002</td>\n",
       "      <td>246.078227</td>\n",
       "      <td>1</td>\n",
       "    </tr>\n",
       "    <tr>\n",
       "      <th>10</th>\n",
       "      <td>361.398062</td>\n",
       "      <td>161.761029</td>\n",
       "      <td>319.718081</td>\n",
       "      <td>157.452745</td>\n",
       "      <td>359.997208</td>\n",
       "      <td>94.588426</td>\n",
       "      <td>315.145723</td>\n",
       "      <td>95.310308</td>\n",
       "      <td>358.496267</td>\n",
       "      <td>245.388146</td>\n",
       "      <td>332.033283</td>\n",
       "      <td>245.604833</td>\n",
       "      <td>1</td>\n",
       "    </tr>\n",
       "    <tr>\n",
       "      <th>11</th>\n",
       "      <td>356.940976</td>\n",
       "      <td>156.356530</td>\n",
       "      <td>317.715580</td>\n",
       "      <td>160.940937</td>\n",
       "      <td>355.271911</td>\n",
       "      <td>92.585746</td>\n",
       "      <td>315.198539</td>\n",
       "      <td>95.782529</td>\n",
       "      <td>355.675736</td>\n",
       "      <td>241.225170</td>\n",
       "      <td>332.092374</td>\n",
       "      <td>243.839404</td>\n",
       "      <td>1</td>\n",
       "    </tr>\n",
       "    <tr>\n",
       "      <th>12</th>\n",
       "      <td>355.355181</td>\n",
       "      <td>159.860870</td>\n",
       "      <td>319.357292</td>\n",
       "      <td>159.059428</td>\n",
       "      <td>355.228806</td>\n",
       "      <td>95.781997</td>\n",
       "      <td>315.496033</td>\n",
       "      <td>96.264859</td>\n",
       "      <td>355.045702</td>\n",
       "      <td>243.383177</td>\n",
       "      <td>330.646016</td>\n",
       "      <td>244.469512</td>\n",
       "      <td>1</td>\n",
       "    </tr>\n",
       "  </tbody>\n",
       "</table>\n",
       "</div>"
      ],
      "text/plain": [
       "    leftShoulder_x  leftShoulder_y  rightShoulder_x  rightShoulder_y  \\\n",
       "0       364.388477      175.727292       326.376146       176.318343   \n",
       "9       362.043733      162.669425       322.806684       162.934143   \n",
       "10      361.398062      161.761029       319.718081       157.452745   \n",
       "11      356.940976      156.356530       317.715580       160.940937   \n",
       "12      355.355181      159.860870       319.357292       159.059428   \n",
       "\n",
       "    leftWrist_x  leftWrist_y  rightWrist_x  rightWrist_y   leftHip_x  \\\n",
       "0    373.932203   185.283770    323.401138    178.613052  363.882516   \n",
       "9    368.892477   106.262375    314.567677    103.431298  360.476755   \n",
       "10   359.997208    94.588426    315.145723     95.310308  358.496267   \n",
       "11   355.271911    92.585746    315.198539     95.782529  355.675736   \n",
       "12   355.228806    95.781997    315.496033     96.264859  355.045702   \n",
       "\n",
       "     leftHip_y  rightHip_x  rightHip_y  label  \n",
       "0   247.058341  335.419796  245.791503      3  \n",
       "9   244.545429  332.341002  246.078227      1  \n",
       "10  245.388146  332.033283  245.604833      1  \n",
       "11  241.225170  332.092374  243.839404      1  \n",
       "12  243.383177  330.646016  244.469512      1  "
      ]
     },
     "execution_count": 6,
     "metadata": {},
     "output_type": "execute_result"
    }
   ],
   "source": [
    "df = pd.read_csv(\"data/posture/posture_training_data.csv\",low_memory=False)\n",
    "df = df.dropna().drop_duplicates()\n",
    "print(df.shape)\n",
    "df.head()"
   ]
  },
  {
   "cell_type": "code",
   "execution_count": 7,
   "metadata": {},
   "outputs": [],
   "source": [
    "assert df.isnull().all().all() == False"
   ]
  },
  {
   "cell_type": "markdown",
   "metadata": {},
   "source": [
    "### 1.3 Set pipeline arguments"
   ]
  },
  {
   "cell_type": "code",
   "execution_count": 8,
   "metadata": {},
   "outputs": [],
   "source": [
    "x_cols = ['leftShoulder_x', 'rightShoulder_x', 'leftWrist_x', 'rightWrist_x', 'leftHip_x' ,'rightHip_x']\n",
    "y_cols = list(set(df.columns)-set(x_cols))"
   ]
  },
  {
   "cell_type": "markdown",
   "metadata": {},
   "source": [
    "### 1.4 Build data processing pipeline"
   ]
  },
  {
   "cell_type": "code",
   "execution_count": 9,
   "metadata": {},
   "outputs": [
    {
     "data": {
      "text/html": [
       "<div>\n",
       "<style scoped>\n",
       "    .dataframe tbody tr th:only-of-type {\n",
       "        vertical-align: middle;\n",
       "    }\n",
       "\n",
       "    .dataframe tbody tr th {\n",
       "        vertical-align: top;\n",
       "    }\n",
       "\n",
       "    .dataframe thead th {\n",
       "        text-align: right;\n",
       "    }\n",
       "</style>\n",
       "<table border=\"1\" class=\"dataframe\">\n",
       "  <thead>\n",
       "    <tr style=\"text-align: right;\">\n",
       "      <th></th>\n",
       "      <th>leftShoulder_x</th>\n",
       "      <th>leftShoulder_y</th>\n",
       "      <th>rightShoulder_x</th>\n",
       "      <th>rightShoulder_y</th>\n",
       "      <th>leftWrist_x</th>\n",
       "      <th>leftWrist_y</th>\n",
       "      <th>rightWrist_x</th>\n",
       "      <th>rightWrist_y</th>\n",
       "      <th>leftHip_x</th>\n",
       "      <th>leftHip_y</th>\n",
       "      <th>rightHip_x</th>\n",
       "      <th>rightHip_y</th>\n",
       "      <th>label</th>\n",
       "    </tr>\n",
       "  </thead>\n",
       "  <tbody>\n",
       "    <tr>\n",
       "      <th>307</th>\n",
       "      <td>0.269966</td>\n",
       "      <td>-0.504198</td>\n",
       "      <td>-0.269966</td>\n",
       "      <td>-0.495802</td>\n",
       "      <td>0.405526</td>\n",
       "      <td>-0.368456</td>\n",
       "      <td>-0.312223</td>\n",
       "      <td>-0.463208</td>\n",
       "      <td>0.262779</td>\n",
       "      <td>0.508997</td>\n",
       "      <td>-0.141509</td>\n",
       "      <td>0.491003</td>\n",
       "      <td>3</td>\n",
       "    </tr>\n",
       "    <tr>\n",
       "      <th>1048</th>\n",
       "      <td>0.237771</td>\n",
       "      <td>-0.501604</td>\n",
       "      <td>-0.237771</td>\n",
       "      <td>-0.498396</td>\n",
       "      <td>0.320776</td>\n",
       "      <td>-1.185243</td>\n",
       "      <td>-0.337626</td>\n",
       "      <td>-1.219555</td>\n",
       "      <td>0.218780</td>\n",
       "      <td>0.490711</td>\n",
       "      <td>-0.122218</td>\n",
       "      <td>0.509289</td>\n",
       "      <td>1</td>\n",
       "    </tr>\n",
       "    <tr>\n",
       "      <th>111</th>\n",
       "      <td>0.242637</td>\n",
       "      <td>-0.474920</td>\n",
       "      <td>-0.242637</td>\n",
       "      <td>-0.525080</td>\n",
       "      <td>0.226327</td>\n",
       "      <td>-1.257000</td>\n",
       "      <td>-0.295872</td>\n",
       "      <td>-1.248596</td>\n",
       "      <td>0.208852</td>\n",
       "      <td>0.498739</td>\n",
       "      <td>-0.099253</td>\n",
       "      <td>0.501261</td>\n",
       "      <td>1</td>\n",
       "    </tr>\n",
       "    <tr>\n",
       "      <th>195</th>\n",
       "      <td>0.233809</td>\n",
       "      <td>-0.527326</td>\n",
       "      <td>-0.233809</td>\n",
       "      <td>-0.472674</td>\n",
       "      <td>0.213911</td>\n",
       "      <td>-1.287556</td>\n",
       "      <td>-0.263815</td>\n",
       "      <td>-1.249446</td>\n",
       "      <td>0.218725</td>\n",
       "      <td>0.484417</td>\n",
       "      <td>-0.062419</td>\n",
       "      <td>0.515583</td>\n",
       "      <td>1</td>\n",
       "    </tr>\n",
       "    <tr>\n",
       "      <th>176</th>\n",
       "      <td>0.213091</td>\n",
       "      <td>-0.495256</td>\n",
       "      <td>-0.213091</td>\n",
       "      <td>-0.504744</td>\n",
       "      <td>0.211594</td>\n",
       "      <td>-1.253889</td>\n",
       "      <td>-0.258804</td>\n",
       "      <td>-1.248173</td>\n",
       "      <td>0.209427</td>\n",
       "      <td>0.493569</td>\n",
       "      <td>-0.079443</td>\n",
       "      <td>0.506431</td>\n",
       "      <td>1</td>\n",
       "    </tr>\n",
       "  </tbody>\n",
       "</table>\n",
       "</div>"
      ],
      "text/plain": [
       "      leftShoulder_x  leftShoulder_y  rightShoulder_x  rightShoulder_y  \\\n",
       "307         0.269966       -0.504198        -0.269966        -0.495802   \n",
       "1048        0.237771       -0.501604        -0.237771        -0.498396   \n",
       "111         0.242637       -0.474920        -0.242637        -0.525080   \n",
       "195         0.233809       -0.527326        -0.233809        -0.472674   \n",
       "176         0.213091       -0.495256        -0.213091        -0.504744   \n",
       "\n",
       "      leftWrist_x  leftWrist_y  rightWrist_x  rightWrist_y  leftHip_x  \\\n",
       "307      0.405526    -0.368456     -0.312223     -0.463208   0.262779   \n",
       "1048     0.320776    -1.185243     -0.337626     -1.219555   0.218780   \n",
       "111      0.226327    -1.257000     -0.295872     -1.248596   0.208852   \n",
       "195      0.213911    -1.287556     -0.263815     -1.249446   0.218725   \n",
       "176      0.211594    -1.253889     -0.258804     -1.248173   0.209427   \n",
       "\n",
       "      leftHip_y  rightHip_x  rightHip_y  label  \n",
       "307    0.508997   -0.141509    0.491003      3  \n",
       "1048   0.490711   -0.122218    0.509289      1  \n",
       "111    0.498739   -0.099253    0.501261      1  \n",
       "195    0.484417   -0.062419    0.515583      1  \n",
       "176    0.493569   -0.079443    0.506431      1  "
      ]
     },
     "execution_count": 9,
     "metadata": {},
     "output_type": "execute_result"
    }
   ],
   "source": [
    "processing_pipeline = make_pipeline(XCentralizer(x_cols), YCentralizer(y_cols), YScaler(), Shuffler())\n",
    "processed_df = processing_pipeline.fit_transform(df)\n",
    "processed_df.head()"
   ]
  },
  {
   "cell_type": "code",
   "execution_count": 10,
   "metadata": {},
   "outputs": [],
   "source": [
    "assert df.shape[0] == processed_df.shape[0]"
   ]
  },
  {
   "cell_type": "markdown",
   "metadata": {},
   "source": [
    "## 2 Train model"
   ]
  },
  {
   "cell_type": "markdown",
   "metadata": {},
   "source": [
    "### 2.1  Split in train / test"
   ]
  },
  {
   "cell_type": "code",
   "execution_count": 11,
   "metadata": {},
   "outputs": [],
   "source": [
    "df_train = processed_df.iloc[:int(processed_df.shape[0]*0.8)]\n",
    "df_test = processed_df.iloc[int(processed_df.shape[0]*0.8):]"
   ]
  },
  {
   "cell_type": "code",
   "execution_count": 12,
   "metadata": {},
   "outputs": [],
   "source": [
    "assert df_train.shape[0] + df_test.shape[0] == df.shape[0]"
   ]
  },
  {
   "cell_type": "markdown",
   "metadata": {},
   "source": [
    "### 2.2 Define numpy arrays as needed by model"
   ]
  },
  {
   "cell_type": "code",
   "execution_count": 13,
   "metadata": {},
   "outputs": [],
   "source": [
    "x_train = df_train.drop(['label'], axis=1).values\n",
    "y_train = df_train['label'].values\n",
    "\n",
    "x_test = df_test.drop(['label'], axis=1).values\n",
    "y_test = df_test['label'].values\n",
    "\n",
    "y_train = to_categorical(y_train)\n",
    "y_test = to_categorical(y_test)"
   ]
  },
  {
   "cell_type": "code",
   "execution_count": 14,
   "metadata": {},
   "outputs": [
    {
     "name": "stdout",
     "output_type": "stream",
     "text": [
      "(1493, 12) (1493, 7)\n",
      "x_train[0]= [ 0.26996587 -0.50419768 -0.26996587 -0.49580232  0.40552611 -0.36845632\n",
      " -0.31222324 -0.463208    0.26277915  0.50899717 -0.14150876  0.49100283] \n",
      " y_train[0]= [0. 0. 0. 1. 0. 0. 0.]\n"
     ]
    }
   ],
   "source": [
    "print(x_train.shape, y_train.shape )\n",
    "print(\"x_train[0]=\", x_train[0],\"\\n y_train[0]=\", y_train[0])"
   ]
  },
  {
   "cell_type": "markdown",
   "metadata": {},
   "source": [
    "### 2.3 Define and compile model"
   ]
  },
  {
   "cell_type": "code",
   "execution_count": 15,
   "metadata": {},
   "outputs": [
    {
     "name": "stdout",
     "output_type": "stream",
     "text": [
      "_________________________________________________________________\n",
      "Layer (type)                 Output Shape              Param #   \n",
      "=================================================================\n",
      "dense_1 (Dense)              (None, 20)                260       \n",
      "_________________________________________________________________\n",
      "dense_2 (Dense)              (None, 15)                315       \n",
      "_________________________________________________________________\n",
      "dense_3 (Dense)              (None, 7)                 112       \n",
      "=================================================================\n",
      "Total params: 687\n",
      "Trainable params: 687\n",
      "Non-trainable params: 0\n",
      "_________________________________________________________________\n"
     ]
    }
   ],
   "source": [
    "from keras import models, layers\n",
    "from keras.models import Model\n",
    "from keras.layers import Input, Dense\n",
    "from keras import optimizers, losses, metrics\n",
    "\n",
    "model = models.Sequential()\n",
    "model.add(layers.Dense(20, activation=\"relu\", input_shape=(12, )))\n",
    "model.add(layers.Dense(15, activation=\"relu\"))\n",
    "model.add(layers.Dense(7, activation=\"softmax\")) \n",
    "model.summary()   \n",
    "\n",
    "model.compile(optimizer=optimizers.RMSprop(lr=0.005),\n",
    "              loss=losses.categorical_crossentropy,\n",
    "              metrics=[\"accuracy\"])"
   ]
  },
  {
   "cell_type": "markdown",
   "metadata": {},
   "source": [
    "### 2.4 Fit and validate model"
   ]
  },
  {
   "cell_type": "code",
   "execution_count": 16,
   "metadata": {},
   "outputs": [
    {
     "name": "stdout",
     "output_type": "stream",
     "text": [
      "Train on 1194 samples, validate on 299 samples\n",
      "Epoch 1/30\n",
      "1194/1194 [==============================] - 0s 293us/step - loss: 0.9176 - acc: 0.7479 - val_loss: 0.4001 - val_acc: 0.9866\n",
      "Epoch 2/30\n",
      "1194/1194 [==============================] - 0s 84us/step - loss: 0.1724 - acc: 0.9966 - val_loss: 0.0840 - val_acc: 0.9933\n",
      "Epoch 3/30\n",
      "1194/1194 [==============================] - 0s 91us/step - loss: 0.0324 - acc: 0.9992 - val_loss: 0.0244 - val_acc: 0.9933\n",
      "Epoch 4/30\n",
      "1194/1194 [==============================] - 0s 85us/step - loss: 0.0085 - acc: 0.9992 - val_loss: 0.0095 - val_acc: 1.0000\n",
      "Epoch 5/30\n",
      "1194/1194 [==============================] - 0s 126us/step - loss: 0.0044 - acc: 0.9983 - val_loss: 0.0049 - val_acc: 1.0000\n",
      "Epoch 6/30\n",
      "1194/1194 [==============================] - 0s 121us/step - loss: 0.0028 - acc: 0.9992 - val_loss: 0.0048 - val_acc: 1.0000\n",
      "Epoch 7/30\n",
      "1194/1194 [==============================] - 0s 103us/step - loss: 0.0026 - acc: 0.9992 - val_loss: 0.0029 - val_acc: 1.0000\n",
      "Epoch 8/30\n",
      "1194/1194 [==============================] - 0s 91us/step - loss: 0.0025 - acc: 0.9992 - val_loss: 0.0026 - val_acc: 1.0000\n",
      "Epoch 9/30\n",
      "1194/1194 [==============================] - 0s 75us/step - loss: 0.0022 - acc: 0.9992 - val_loss: 0.0021 - val_acc: 1.0000\n",
      "Epoch 10/30\n",
      "1194/1194 [==============================] - 0s 80us/step - loss: 0.0016 - acc: 0.9992 - val_loss: 9.9540e-04 - val_acc: 1.0000\n",
      "Epoch 11/30\n",
      "1194/1194 [==============================] - 0s 96us/step - loss: 0.0025 - acc: 0.9992 - val_loss: 7.4678e-04 - val_acc: 1.0000\n",
      "Epoch 12/30\n",
      "1194/1194 [==============================] - 0s 113us/step - loss: 0.0024 - acc: 0.9992 - val_loss: 0.0034 - val_acc: 1.0000\n",
      "Epoch 13/30\n",
      "1194/1194 [==============================] - 0s 80us/step - loss: 0.0016 - acc: 0.9992 - val_loss: 9.7609e-04 - val_acc: 1.0000\n",
      "Epoch 14/30\n",
      "1194/1194 [==============================] - 0s 66us/step - loss: 0.0016 - acc: 0.9992 - val_loss: 9.0130e-04 - val_acc: 1.0000\n",
      "Epoch 15/30\n",
      "1194/1194 [==============================] - 0s 69us/step - loss: 0.0020 - acc: 0.9992 - val_loss: 0.0011 - val_acc: 1.0000\n",
      "Epoch 16/30\n",
      "1194/1194 [==============================] - 0s 64us/step - loss: 0.0017 - acc: 0.9992 - val_loss: 4.0397e-04 - val_acc: 1.0000\n",
      "Epoch 17/30\n",
      "1194/1194 [==============================] - 0s 69us/step - loss: 0.0013 - acc: 0.9992 - val_loss: 3.2446e-04 - val_acc: 1.0000\n",
      "Epoch 18/30\n",
      "1194/1194 [==============================] - 0s 71us/step - loss: 0.0022 - acc: 0.9992 - val_loss: 6.7166e-04 - val_acc: 1.0000\n",
      "Epoch 19/30\n",
      "1194/1194 [==============================] - 0s 69us/step - loss: 0.0015 - acc: 0.9992 - val_loss: 4.3415e-04 - val_acc: 1.0000\n",
      "Epoch 20/30\n",
      "1194/1194 [==============================] - 0s 68us/step - loss: 0.0013 - acc: 1.0000 - val_loss: 2.6886e-04 - val_acc: 1.0000\n",
      "Epoch 21/30\n",
      "1194/1194 [==============================] - 0s 79us/step - loss: 0.0021 - acc: 0.9992 - val_loss: 0.0014 - val_acc: 1.0000\n",
      "Epoch 22/30\n",
      "1194/1194 [==============================] - 0s 71us/step - loss: 0.0015 - acc: 0.9992 - val_loss: 2.0115e-04 - val_acc: 1.0000\n",
      "Epoch 23/30\n",
      "1194/1194 [==============================] - 0s 65us/step - loss: 0.0014 - acc: 0.9992 - val_loss: 2.6849e-04 - val_acc: 1.0000\n",
      "Epoch 24/30\n",
      "1194/1194 [==============================] - 0s 81us/step - loss: 4.8187e-04 - acc: 1.0000 - val_loss: 1.5701e-04 - val_acc: 1.0000\n",
      "Epoch 25/30\n",
      "1194/1194 [==============================] - 0s 64us/step - loss: 0.0016 - acc: 0.9992 - val_loss: 1.8638e-04 - val_acc: 1.0000\n",
      "Epoch 26/30\n",
      "1194/1194 [==============================] - 0s 85us/step - loss: 0.0014 - acc: 0.9992 - val_loss: 1.1920e-04 - val_acc: 1.0000\n",
      "Epoch 27/30\n",
      "1194/1194 [==============================] - 0s 94us/step - loss: 0.0016 - acc: 0.9992 - val_loss: 4.5292e-04 - val_acc: 1.0000\n",
      "Epoch 28/30\n",
      "1194/1194 [==============================] - 0s 89us/step - loss: 0.0016 - acc: 0.9992 - val_loss: 1.5829e-04 - val_acc: 1.0000\n",
      "Epoch 29/30\n",
      "1194/1194 [==============================] - 0s 92us/step - loss: 0.0016 - acc: 0.9983 - val_loss: 1.9541e-04 - val_acc: 1.0000\n",
      "Epoch 30/30\n",
      "1194/1194 [==============================] - 0s 85us/step - loss: 8.9581e-04 - acc: 1.0000 - val_loss: 5.8438e-04 - val_acc: 1.0000\n"
     ]
    }
   ],
   "source": [
    "history = model.fit(x_train, y_train, epochs=30, batch_size=30, validation_split=0.2)"
   ]
  },
  {
   "cell_type": "code",
   "execution_count": 17,
   "metadata": {
    "scrolled": true
   },
   "outputs": [
    {
     "data": {
      "image/png": "[encoded data removed]",
      "text/plain": [
       "<Figure size 1440x360 with 2 Axes>"
      ]
     },
     "metadata": {
      "needs_background": "light"
     },
     "output_type": "display_data"
    }
   ],
   "source": [
    "plt.figure(figsize=(20, 5))\n",
    "\n",
    "plt.subplot(1, 2, 1)\n",
    "plt.plot(history.history[\"acc\"],  label=[\"acc\"])\n",
    "plt.plot(history.history['val_acc'], label=[\"val_acc\"])\n",
    "plt.legend()\n",
    "\n",
    "plt.subplot(1, 2, 2)\n",
    "plt.plot(history.history[\"loss\"], label=[\"loss\"]) \n",
    "plt.plot(history.history['val_loss'], label=[\"val_loss\"])\n",
    "plt.legend()\n",
    "\n",
    "plt.show()\n",
    "plt.close()"
   ]
  },
  {
   "cell_type": "markdown",
   "metadata": {},
   "source": [
    "###  2.5 Evaluate with test data"
   ]
  },
  {
   "cell_type": "code",
   "execution_count": 18,
   "metadata": {},
   "outputs": [
    {
     "name": "stdout",
     "output_type": "stream",
     "text": [
      "374/374 [==============================] - 0s 32us/step\n",
      "Loss / Accuracy Evaluation\n",
      "--------------------------\n",
      "Loss:     0.00042\n",
      "Accuracy: 1.0\n"
     ]
    }
   ],
   "source": [
    "test_loss, test_acc = model.evaluate(x_test, y_test)\n",
    "print(\"Loss / Accuracy Evaluation\")\n",
    "print(\"--------------------------\")\n",
    "print(\"Loss:     \" + str(round(test_loss,5)))\n",
    "print(\"Accuracy: \" + str(round(test_acc,5)))"
   ]
  },
  {
   "cell_type": "code",
   "execution_count": 19,
   "metadata": {},
   "outputs": [],
   "source": [
    "y_tes_pred = model.predict(x_test)"
   ]
  },
  {
   "cell_type": "code",
   "execution_count": 20,
   "metadata": {},
   "outputs": [
    {
     "data": {
      "text/plain": [
       "array([2.6834255e-16, 9.9999976e-01, 1.2831334e-12, 2.0140693e-07,\n",
       "       5.2358971e-19, 9.9192987e-24, 2.8749407e-26], dtype=float32)"
      ]
     },
     "execution_count": 20,
     "metadata": {},
     "output_type": "execute_result"
    }
   ],
   "source": [
    "y_tes_pred[10]"
   ]
  },
  {
   "cell_type": "code",
   "execution_count": 21,
   "metadata": {},
   "outputs": [
    {
     "data": {
      "text/plain": [
       "array([0., 1., 0., 0., 0., 0., 0.], dtype=float32)"
      ]
     },
     "execution_count": 21,
     "metadata": {},
     "output_type": "execute_result"
    }
   ],
   "source": [
    "y_test[10]"
   ]
  },
  {
   "cell_type": "markdown",
   "metadata": {},
   "source": [
    "### 2.6 Save model"
   ]
  },
  {
   "cell_type": "markdown",
   "metadata": {},
   "source": [
    "#### 2.6.1 h5 format"
   ]
  },
  {
   "cell_type": "code",
   "execution_count": 22,
   "metadata": {},
   "outputs": [],
   "source": [
    "from keras.models import load_model\n",
    "import h5py"
   ]
  },
  {
   "cell_type": "code",
   "execution_count": 23,
   "metadata": {},
   "outputs": [],
   "source": [
    "# save model, delete current reference and re-load it from file\n",
    "model.save('models/model_posture.h5')\n",
    "del model\n",
    "model = load_model('models/model_posture.h5')"
   ]
  },
  {
   "cell_type": "code",
   "execution_count": 24,
   "metadata": {},
   "outputs": [
    {
     "data": {
      "text/plain": [
       "keras.engine.sequential.Sequential"
      ]
     },
     "execution_count": 24,
     "metadata": {},
     "output_type": "execute_result"
    }
   ],
   "source": [
    "type(model)"
   ]
  },
  {
   "cell_type": "markdown",
   "metadata": {},
   "source": [
    "#### 2.6.2 tensorflow.js format (JSON)"
   ]
  },
  {
   "cell_type": "markdown",
   "metadata": {},
   "source": [
    "The tensorflowjs library can't be installed directly with pip / conda due to conflicting dependencies. Best is to set up a new environment explicitly for this and install tensorflowjs with the following commands:\n",
    "\n",
    "```\n",
    "pip install tensorflow==1.11.0rc2 h5py numpy keras\n",
    "pip install --no-deps tensorflowjs\n",
    "```"
   ]
  },
  {
   "cell_type": "code",
   "execution_count": 25,
   "metadata": {},
   "outputs": [],
   "source": [
    "# ! pip install tensorflow==1.11.0rc2 h5py numpy keras\n",
    "# ! pip install --no-deps tensorflowjs\n",
    "# ! pip install ipykernel\n",
    "# ! pip install tensorflow_hub\n",
    "# import tensorflowjs as tfjs"
   ]
  },
  {
   "cell_type": "code",
   "execution_count": 26,
   "metadata": {},
   "outputs": [],
   "source": [
    "# tfjs.converters.save_keras_model(model, 'model_json')"
   ]
  },
  {
   "cell_type": "markdown",
   "metadata": {},
   "source": [
    "We need to adapt the two files as follows in order for them to work on Azure:\n",
    "* add a file extension .pb to the file with no extension (otherwise Azure blocks it from viewing)\n",
    "* adapt the automatically generated model.json to reflect the extension .pb"
   ]
  }
 ],
 "metadata": {
  "kernelspec": {
   "display_name": "Python 3",
   "language": "python",
   "name": "python3"
  },
  "language_info": {
   "codemirror_mode": {
    "name": "ipython",
    "version": 3
   },
   "file_extension": ".py",
   "mimetype": "text/x-python",
   "name": "python",
   "nbconvert_exporter": "python",
   "pygments_lexer": "ipython3",
   "version": "3.6.6"
  }
 },
 "nbformat": 4,
 "nbformat_minor": 2
}
