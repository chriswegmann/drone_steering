{
 "cells": [
  {
   "cell_type": "markdown",
   "metadata": {},
   "source": [
    "# Keras model for Gesture Detection"
   ]
  },
  {
   "cell_type": "markdown",
   "metadata": {},
   "source": [
    "## Defining transformers  "
   ]
  },
  {
   "cell_type": "code",
   "execution_count": 1,
   "metadata": {},
   "outputs": [],
   "source": [
    "from sklearn.base import BaseEstimator, TransformerMixin\n",
    "#from category_encoders.one_hot import OneHotEncoder\n",
    "#from sklearn.feature_extraction import DictVectorizer\n",
    "from sklearn.pipeline import make_pipeline, make_union\n",
    "from sklearn.preprocessing import Imputer\n",
    "#from category_encoders.ordinal import OrdinalEncoder\n",
    "from __future__ import print_function\n",
    "import pandas as pd\n",
    "import numpy as np\n",
    "import seaborn as sns\n",
    "from pandas.api.types import is_numeric_dtype\n",
    "import warnings\n",
    "warnings.filterwarnings(\"ignore\")\n",
    "import ipytest.magics\n",
    "import pytest\n",
    "# set the file name (required)\n",
    "__file__ = 'drone_pos_model.ipynb'"
   ]
  },
  {
   "cell_type": "code",
   "execution_count": 2,
   "metadata": {},
   "outputs": [],
   "source": [
    "class Shuffler(BaseEstimator, TransformerMixin):\n",
    "    \n",
    "    def __init__(self):\n",
    "        pass\n",
    "        \n",
    "    def fit(self, x, y = None):\n",
    "        return self\n",
    "    \n",
    "    def transform(self, x): #x is df\n",
    "        x=x.loc[np.random.permutation(x.index)]\n",
    "        \n",
    "        return x\n",
    "############################################################################################\n",
    "class XCentralizer(BaseEstimator, TransformerMixin):\n",
    "    \n",
    "    def __init__(self, x_columns):\n",
    "        self.x_columns = x_columns\n",
    "        \n",
    "    def fit(self, x, y = None):\n",
    "        return self\n",
    "    \n",
    "    def transform(self, x): #x is df\n",
    "        shift=x[[\"rightShoulder_x\",\"leftShoulder_x\",\"leftHip_x\",\"rightHip_x\"]].sum(axis=1)/4\n",
    "        for col in self.x_columns:\n",
    "            x[col] = x[col] - shift\n",
    "        return x\n",
    "############################################################################################\n",
    "    \n",
    "class YCentralizer(BaseEstimator, TransformerMixin):\n",
    "    \n",
    "    def __init__(self, y_columns):\n",
    "        self.y_columns = y_columns\n",
    "        \n",
    "    def fit(self, x, y = None):\n",
    "        return self\n",
    "    \n",
    "    def transform(self, x): #x is df\n",
    "        shift=x[[\"rightShoulder_y\",\"leftShoulder_y\",\"leftHip_y\",\"rightHip_y\"]].sum(axis=1)/4\n",
    "        for col in list(set(self.y_columns)-set([\"label\"])):\n",
    "            x[col] = x[col] - shift\n",
    "        return x\n",
    "############################################################################################\n",
    "\n",
    "class YScaler(BaseEstimator, TransformerMixin):\n",
    "    \n",
    "    def __init__(self):\n",
    "        pass\n",
    "        \n",
    "    def fit(self, x, y = None):\n",
    "        return self\n",
    "    \n",
    "    def transform(self, x): #x is df\n",
    "        shoulder_y = x[[\"rightShoulder_y\",\"leftShoulder_y\"]].sum(axis=1)/2\n",
    "        hip_y = x[[\"leftHip_y\",\"rightHip_y\"]].sum(axis=1)/2\n",
    "        y_dist = hip_y - shoulder_y\n",
    "        \n",
    "        for col in list(set(x.columns)-set([\"label\"])):\n",
    "            x[col] /= y_dist\n",
    "        return x\n",
    "###############################################################################################\n",
    "def baseNameSelector(baseName, noIdx =8):\n",
    "    names = []\n",
    "    for i in range(noIdx):\n",
    "        names.append(baseName + \"_\" + str(i))\n",
    "    return names    \n",
    "    "
   ]
  },
  {
   "cell_type": "markdown",
   "metadata": {},
   "source": [
    "## Data inspecting"
   ]
  },
  {
   "cell_type": "code",
   "execution_count": 3,
   "metadata": {},
   "outputs": [
    {
     "name": "stdout",
     "output_type": "stream",
     "text": [
      "/Users/lsafari/drone_steering/models\r\n"
     ]
    }
   ],
   "source": [
    "! pwd"
   ]
  },
  {
   "cell_type": "code",
   "execution_count": 5,
   "metadata": {},
   "outputs": [
    {
     "name": "stdout",
     "output_type": "stream",
     "text": [
      "(179, 129)\n",
      "labels: [1 3 4 2]\n"
     ]
    },
    {
     "data": {
      "text/html": [
       "<div>\n",
       "<style scoped>\n",
       "    .dataframe tbody tr th:only-of-type {\n",
       "        vertical-align: middle;\n",
       "    }\n",
       "\n",
       "    .dataframe tbody tr th {\n",
       "        vertical-align: top;\n",
       "    }\n",
       "\n",
       "    .dataframe thead th {\n",
       "        text-align: right;\n",
       "    }\n",
       "</style>\n",
       "<table border=\"1\" class=\"dataframe\">\n",
       "  <thead>\n",
       "    <tr style=\"text-align: right;\">\n",
       "      <th></th>\n",
       "      <th>leftShoulder_x_0</th>\n",
       "      <th>leftShoulder_y_0</th>\n",
       "      <th>rightShoulder_x_0</th>\n",
       "      <th>rightShoulder_y_0</th>\n",
       "      <th>leftElbow_x_0</th>\n",
       "      <th>leftElbow_y_0</th>\n",
       "      <th>rightElbow_x_0</th>\n",
       "      <th>rightElbow_y_0</th>\n",
       "      <th>leftWrist_x_0</th>\n",
       "      <th>leftWrist_y_0</th>\n",
       "      <th>...</th>\n",
       "      <th>rightElbow_y_7</th>\n",
       "      <th>leftWrist_x_7</th>\n",
       "      <th>leftWrist_y_7</th>\n",
       "      <th>rightWrist_x_7</th>\n",
       "      <th>rightWrist_y_7</th>\n",
       "      <th>leftHip_x_7</th>\n",
       "      <th>leftHip_y_7</th>\n",
       "      <th>rightHip_x_7</th>\n",
       "      <th>rightHip_y_7</th>\n",
       "      <th>label</th>\n",
       "    </tr>\n",
       "  </thead>\n",
       "  <tbody>\n",
       "    <tr>\n",
       "      <th>0</th>\n",
       "      <td>0.4925</td>\n",
       "      <td>0.18625</td>\n",
       "      <td>0.40000</td>\n",
       "      <td>0.18250</td>\n",
       "      <td>0.50750</td>\n",
       "      <td>0.25875</td>\n",
       "      <td>0.34000</td>\n",
       "      <td>0.19750</td>\n",
       "      <td>0.50750</td>\n",
       "      <td>0.33875</td>\n",
       "      <td>...</td>\n",
       "      <td>0.19500</td>\n",
       "      <td>0.50375</td>\n",
       "      <td>0.33875</td>\n",
       "      <td>0.26000</td>\n",
       "      <td>0.17750</td>\n",
       "      <td>0.46500</td>\n",
       "      <td>0.34250</td>\n",
       "      <td>0.40750</td>\n",
       "      <td>0.34125</td>\n",
       "      <td>1</td>\n",
       "    </tr>\n",
       "    <tr>\n",
       "      <th>1</th>\n",
       "      <td>0.4900</td>\n",
       "      <td>0.19000</td>\n",
       "      <td>0.40250</td>\n",
       "      <td>0.18250</td>\n",
       "      <td>0.50250</td>\n",
       "      <td>0.26250</td>\n",
       "      <td>0.33500</td>\n",
       "      <td>0.20000</td>\n",
       "      <td>0.50125</td>\n",
       "      <td>0.33375</td>\n",
       "      <td>...</td>\n",
       "      <td>0.19875</td>\n",
       "      <td>0.50375</td>\n",
       "      <td>0.34000</td>\n",
       "      <td>0.44500</td>\n",
       "      <td>0.34250</td>\n",
       "      <td>0.46125</td>\n",
       "      <td>0.33375</td>\n",
       "      <td>0.40750</td>\n",
       "      <td>0.33875</td>\n",
       "      <td>1</td>\n",
       "    </tr>\n",
       "    <tr>\n",
       "      <th>2</th>\n",
       "      <td>0.4900</td>\n",
       "      <td>0.19000</td>\n",
       "      <td>0.40500</td>\n",
       "      <td>0.18125</td>\n",
       "      <td>0.50625</td>\n",
       "      <td>0.25750</td>\n",
       "      <td>0.33125</td>\n",
       "      <td>0.20250</td>\n",
       "      <td>0.50000</td>\n",
       "      <td>0.33000</td>\n",
       "      <td>...</td>\n",
       "      <td>0.20000</td>\n",
       "      <td>0.50000</td>\n",
       "      <td>0.33625</td>\n",
       "      <td>0.44875</td>\n",
       "      <td>0.33625</td>\n",
       "      <td>0.46375</td>\n",
       "      <td>0.34125</td>\n",
       "      <td>0.40500</td>\n",
       "      <td>0.34000</td>\n",
       "      <td>1</td>\n",
       "    </tr>\n",
       "    <tr>\n",
       "      <th>3</th>\n",
       "      <td>0.4900</td>\n",
       "      <td>0.18875</td>\n",
       "      <td>0.40250</td>\n",
       "      <td>0.18000</td>\n",
       "      <td>0.50500</td>\n",
       "      <td>0.25875</td>\n",
       "      <td>0.33625</td>\n",
       "      <td>0.19875</td>\n",
       "      <td>0.50125</td>\n",
       "      <td>0.33250</td>\n",
       "      <td>...</td>\n",
       "      <td>0.20500</td>\n",
       "      <td>0.50250</td>\n",
       "      <td>0.34000</td>\n",
       "      <td>0.27375</td>\n",
       "      <td>0.18375</td>\n",
       "      <td>0.46250</td>\n",
       "      <td>0.34125</td>\n",
       "      <td>0.40500</td>\n",
       "      <td>0.33750</td>\n",
       "      <td>1</td>\n",
       "    </tr>\n",
       "    <tr>\n",
       "      <th>4</th>\n",
       "      <td>0.4925</td>\n",
       "      <td>0.18875</td>\n",
       "      <td>0.40125</td>\n",
       "      <td>0.18250</td>\n",
       "      <td>0.50375</td>\n",
       "      <td>0.25750</td>\n",
       "      <td>0.33625</td>\n",
       "      <td>0.19250</td>\n",
       "      <td>0.49875</td>\n",
       "      <td>0.33375</td>\n",
       "      <td>...</td>\n",
       "      <td>0.20375</td>\n",
       "      <td>0.49875</td>\n",
       "      <td>0.33625</td>\n",
       "      <td>0.29125</td>\n",
       "      <td>0.19125</td>\n",
       "      <td>0.46000</td>\n",
       "      <td>0.33625</td>\n",
       "      <td>0.40875</td>\n",
       "      <td>0.33500</td>\n",
       "      <td>1</td>\n",
       "    </tr>\n",
       "  </tbody>\n",
       "</table>\n",
       "<p>5 rows × 129 columns</p>\n",
       "</div>"
      ],
      "text/plain": [
       "   leftShoulder_x_0  leftShoulder_y_0  rightShoulder_x_0  rightShoulder_y_0  \\\n",
       "0            0.4925           0.18625            0.40000            0.18250   \n",
       "1            0.4900           0.19000            0.40250            0.18250   \n",
       "2            0.4900           0.19000            0.40500            0.18125   \n",
       "3            0.4900           0.18875            0.40250            0.18000   \n",
       "4            0.4925           0.18875            0.40125            0.18250   \n",
       "\n",
       "   leftElbow_x_0  leftElbow_y_0  rightElbow_x_0  rightElbow_y_0  \\\n",
       "0        0.50750        0.25875         0.34000         0.19750   \n",
       "1        0.50250        0.26250         0.33500         0.20000   \n",
       "2        0.50625        0.25750         0.33125         0.20250   \n",
       "3        0.50500        0.25875         0.33625         0.19875   \n",
       "4        0.50375        0.25750         0.33625         0.19250   \n",
       "\n",
       "   leftWrist_x_0  leftWrist_y_0  ...    rightElbow_y_7  leftWrist_x_7  \\\n",
       "0        0.50750        0.33875  ...           0.19500        0.50375   \n",
       "1        0.50125        0.33375  ...           0.19875        0.50375   \n",
       "2        0.50000        0.33000  ...           0.20000        0.50000   \n",
       "3        0.50125        0.33250  ...           0.20500        0.50250   \n",
       "4        0.49875        0.33375  ...           0.20375        0.49875   \n",
       "\n",
       "   leftWrist_y_7  rightWrist_x_7  rightWrist_y_7  leftHip_x_7  leftHip_y_7  \\\n",
       "0        0.33875         0.26000         0.17750      0.46500      0.34250   \n",
       "1        0.34000         0.44500         0.34250      0.46125      0.33375   \n",
       "2        0.33625         0.44875         0.33625      0.46375      0.34125   \n",
       "3        0.34000         0.27375         0.18375      0.46250      0.34125   \n",
       "4        0.33625         0.29125         0.19125      0.46000      0.33625   \n",
       "\n",
       "   rightHip_x_7  rightHip_y_7  label  \n",
       "0       0.40750       0.34125      1  \n",
       "1       0.40750       0.33875      1  \n",
       "2       0.40500       0.34000      1  \n",
       "3       0.40500       0.33750      1  \n",
       "4       0.40875       0.33500      1  \n",
       "\n",
       "[5 rows x 129 columns]"
      ]
     },
     "execution_count": 5,
     "metadata": {},
     "output_type": "execute_result"
    }
   ],
   "source": [
    "path = \"video_001_gesture_steptime100_checksum8160_seqlength800\"\n",
    "df = pd.read_csv(\"/Users/lsafari/drone_steering/data/\"+ path + \".csv\",low_memory=False)\n",
    "print(df.shape)\n",
    "print('labels:' , df['label'].unique())\n",
    "df[:5]"
   ]
  },
  {
   "cell_type": "code",
   "execution_count": 8,
   "metadata": {},
   "outputs": [
    {
     "data": {
      "text/html": [
       "<div>\n",
       "<style scoped>\n",
       "    .dataframe tbody tr th:only-of-type {\n",
       "        vertical-align: middle;\n",
       "    }\n",
       "\n",
       "    .dataframe tbody tr th {\n",
       "        vertical-align: top;\n",
       "    }\n",
       "\n",
       "    .dataframe thead th {\n",
       "        text-align: right;\n",
       "    }\n",
       "</style>\n",
       "<table border=\"1\" class=\"dataframe\">\n",
       "  <thead>\n",
       "    <tr style=\"text-align: right;\">\n",
       "      <th></th>\n",
       "      <th>leftWrist_y_0</th>\n",
       "      <th>leftWrist_y_1</th>\n",
       "      <th>leftWrist_y_2</th>\n",
       "      <th>leftWrist_y_3</th>\n",
       "      <th>leftWrist_y_4</th>\n",
       "      <th>leftWrist_y_5</th>\n",
       "      <th>leftWrist_y_6</th>\n",
       "      <th>leftWrist_y_7</th>\n",
       "    </tr>\n",
       "  </thead>\n",
       "  <tbody>\n",
       "    <tr>\n",
       "      <th>0</th>\n",
       "      <td>0.33875</td>\n",
       "      <td>0.33375</td>\n",
       "      <td>0.33000</td>\n",
       "      <td>0.33250</td>\n",
       "      <td>0.33375</td>\n",
       "      <td>0.34000</td>\n",
       "      <td>0.33625</td>\n",
       "      <td>0.33875</td>\n",
       "    </tr>\n",
       "    <tr>\n",
       "      <th>1</th>\n",
       "      <td>0.33375</td>\n",
       "      <td>0.33000</td>\n",
       "      <td>0.33250</td>\n",
       "      <td>0.33375</td>\n",
       "      <td>0.34000</td>\n",
       "      <td>0.33625</td>\n",
       "      <td>0.33875</td>\n",
       "      <td>0.34000</td>\n",
       "    </tr>\n",
       "    <tr>\n",
       "      <th>2</th>\n",
       "      <td>0.33000</td>\n",
       "      <td>0.33250</td>\n",
       "      <td>0.33375</td>\n",
       "      <td>0.34000</td>\n",
       "      <td>0.33625</td>\n",
       "      <td>0.33875</td>\n",
       "      <td>0.34000</td>\n",
       "      <td>0.33625</td>\n",
       "    </tr>\n",
       "    <tr>\n",
       "      <th>3</th>\n",
       "      <td>0.33250</td>\n",
       "      <td>0.33375</td>\n",
       "      <td>0.34000</td>\n",
       "      <td>0.33625</td>\n",
       "      <td>0.33875</td>\n",
       "      <td>0.34000</td>\n",
       "      <td>0.33625</td>\n",
       "      <td>0.34000</td>\n",
       "    </tr>\n",
       "    <tr>\n",
       "      <th>4</th>\n",
       "      <td>0.33375</td>\n",
       "      <td>0.34000</td>\n",
       "      <td>0.33625</td>\n",
       "      <td>0.33875</td>\n",
       "      <td>0.34000</td>\n",
       "      <td>0.33625</td>\n",
       "      <td>0.34000</td>\n",
       "      <td>0.33625</td>\n",
       "    </tr>\n",
       "  </tbody>\n",
       "</table>\n",
       "</div>"
      ],
      "text/plain": [
       "   leftWrist_y_0  leftWrist_y_1  leftWrist_y_2  leftWrist_y_3  leftWrist_y_4  \\\n",
       "0        0.33875        0.33375        0.33000        0.33250        0.33375   \n",
       "1        0.33375        0.33000        0.33250        0.33375        0.34000   \n",
       "2        0.33000        0.33250        0.33375        0.34000        0.33625   \n",
       "3        0.33250        0.33375        0.34000        0.33625        0.33875   \n",
       "4        0.33375        0.34000        0.33625        0.33875        0.34000   \n",
       "\n",
       "   leftWrist_y_5  leftWrist_y_6  leftWrist_y_7  \n",
       "0        0.34000        0.33625        0.33875  \n",
       "1        0.33625        0.33875        0.34000  \n",
       "2        0.33875        0.34000        0.33625  \n",
       "3        0.34000        0.33625        0.34000  \n",
       "4        0.33625        0.34000        0.33625  "
      ]
     },
     "execution_count": 8,
     "metadata": {},
     "output_type": "execute_result"
    }
   ],
   "source": [
    "df[baseNameSelector(\"leftWrist_y\")].head()"
   ]
  },
  {
   "cell_type": "code",
   "execution_count": 9,
   "metadata": {},
   "outputs": [
    {
     "name": "stdout",
     "output_type": "stream",
     "text": [
      "['leftShoulder_x_0', 'leftShoulder_y_0', 'rightShoulder_x_0', 'rightShoulder_y_0', 'leftElbow_x_0', 'leftElbow_y_0', 'rightElbow_x_0', 'rightElbow_y_0', 'leftWrist_x_0', 'leftWrist_y_0', 'rightWrist_x_0', 'rightWrist_y_0', 'leftHip_x_0', 'leftHip_y_0', 'rightHip_x_0', 'rightHip_y_0', 'leftShoulder_x_1', 'leftShoulder_y_1', 'rightShoulder_x_1', 'rightShoulder_y_1', 'leftElbow_x_1', 'leftElbow_y_1', 'rightElbow_x_1', 'rightElbow_y_1', 'leftWrist_x_1', 'leftWrist_y_1', 'rightWrist_x_1', 'rightWrist_y_1', 'leftHip_x_1', 'leftHip_y_1', 'rightHip_x_1', 'rightHip_y_1', 'leftShoulder_x_2', 'leftShoulder_y_2', 'rightShoulder_x_2', 'rightShoulder_y_2', 'leftElbow_x_2', 'leftElbow_y_2', 'rightElbow_x_2', 'rightElbow_y_2', 'leftWrist_x_2', 'leftWrist_y_2', 'rightWrist_x_2', 'rightWrist_y_2', 'leftHip_x_2', 'leftHip_y_2', 'rightHip_x_2', 'rightHip_y_2', 'leftShoulder_x_3', 'leftShoulder_y_3', 'rightShoulder_x_3', 'rightShoulder_y_3', 'leftElbow_x_3', 'leftElbow_y_3', 'rightElbow_x_3', 'rightElbow_y_3', 'leftWrist_x_3', 'leftWrist_y_3', 'rightWrist_x_3', 'rightWrist_y_3', 'leftHip_x_3', 'leftHip_y_3', 'rightHip_x_3', 'rightHip_y_3', 'leftShoulder_x_4', 'leftShoulder_y_4', 'rightShoulder_x_4', 'rightShoulder_y_4', 'leftElbow_x_4', 'leftElbow_y_4', 'rightElbow_x_4', 'rightElbow_y_4', 'leftWrist_x_4', 'leftWrist_y_4', 'rightWrist_x_4', 'rightWrist_y_4', 'leftHip_x_4', 'leftHip_y_4', 'rightHip_x_4', 'rightHip_y_4', 'leftShoulder_x_5', 'leftShoulder_y_5', 'rightShoulder_x_5', 'rightShoulder_y_5', 'leftElbow_x_5', 'leftElbow_y_5', 'rightElbow_x_5', 'rightElbow_y_5', 'leftWrist_x_5', 'leftWrist_y_5', 'rightWrist_x_5', 'rightWrist_y_5', 'leftHip_x_5', 'leftHip_y_5', 'rightHip_x_5', 'rightHip_y_5', 'leftShoulder_x_6', 'leftShoulder_y_6', 'rightShoulder_x_6', 'rightShoulder_y_6', 'leftElbow_x_6', 'leftElbow_y_6', 'rightElbow_x_6', 'rightElbow_y_6', 'leftWrist_x_6', 'leftWrist_y_6', 'rightWrist_x_6', 'rightWrist_y_6', 'leftHip_x_6', 'leftHip_y_6', 'rightHip_x_6', 'rightHip_y_6', 'leftShoulder_x_7', 'leftShoulder_y_7', 'rightShoulder_x_7', 'rightShoulder_y_7', 'leftElbow_x_7', 'leftElbow_y_7', 'rightElbow_x_7', 'rightElbow_y_7', 'leftWrist_x_7', 'leftWrist_y_7', 'rightWrist_x_7', 'rightWrist_y_7', 'leftHip_x_7', 'leftHip_y_7', 'rightHip_x_7', 'rightHip_y_7', 'label']\n",
      "129\n",
      "179\n",
      "0.4925,0.18625,0.4,0.1825,0.5075,0.25875,0.34,0.1975,0.5075,0.33875,0.26375,0.16625,0.4675,0.34625,0.41125,0.34125,0.49,0.19,0.4025,0.1825,0.5025,0.2625,0.335,0.2,0.50125,0.33375,0.2875,0.185,0.465,0.33375,0.40875,0.33875,0.49,0.19,0.405,0.18125,0.50625,0.2575,0.33125,0.2025,0.5,0.33,0.4125,0.335,0.465,0.33125,0.41125,0.3375,0.49,0.18875,0.4025,0.18,0.505,0.25875,0.33625,0.19875,0.50125,0.3325,0.29,0.19,0.465,0.33125,0.40875,0.33875,0.4925,0.18875,0.40125,0.1825,0.50375,0.2575,0.33625,0.1925,0.49875,0.33375,0.27875,0.17125,0.46875,0.34375,0.4075,0.34,0.49125,0.1925,0.40125,0.18125,0.50875,0.26625,0.33875,0.19,0.50875,0.34,0.295,0.185,0.46375,0.34375,0.41,0.34375,0.49,0.18875,0.4025,0.17875,0.505,0.26125,0.335,0.2,0.51,0.33625,0.2625,0.17,0.46375,0.33875,0.41,0.3375,0.49375,0.19,0.40125,0.18625,0.50625,0.26,0.32625,0.195,0.50375,0.33875,0.26,0.1775,0.465,0.3425,0.4075,0.34125,1\n",
      "<class 'str'>\n"
     ]
    }
   ],
   "source": [
    "import os \n",
    "fname = \"/Users/lsafari/drone_steering/data/\"+ path + \".csv\"\n",
    "f = open(fname)\n",
    "data = f.read()\n",
    "f.close()\n",
    "\n",
    "lines = data.split(\"\\n\")\n",
    "header = lines[0].split(\",\")\n",
    "lines = lines[1:]\n",
    "\n",
    "print(header)\n",
    "print(len(header))\n",
    "print(len(lines))\n",
    "print(lines[0])\n",
    "print(type(lines[0]))"
   ]
  },
  {
   "cell_type": "code",
   "execution_count": null,
   "metadata": {},
   "outputs": [],
   "source": [
    "#lines[0].split(\",\")[:-1]"
   ]
  },
  {
   "cell_type": "code",
   "execution_count": 10,
   "metadata": {},
   "outputs": [
    {
     "name": "stdout",
     "output_type": "stream",
     "text": [
      "(179, 128)\n",
      "(179, 128)\n"
     ]
    }
   ],
   "source": [
    "import numpy as np\n",
    "\n",
    "float_data = np.zeros((len(lines), len(header) - 1)) # empty array\n",
    "print(float_data.shape) # (sample, features)\n",
    "\n",
    "for i, line in enumerate(lines): # enumerate indexes the lines\n",
    "    values = [float(x) for x in line.split(\",\")[:-1]] #\n",
    "    float_data[i, :] = values\n",
    "    \n",
    "print(float_data.shape)"
   ]
  },
  {
   "cell_type": "code",
   "execution_count": 11,
   "metadata": {},
   "outputs": [
    {
     "name": "stdout",
     "output_type": "stream",
     "text": [
      "(128,)\n"
     ]
    }
   ],
   "source": [
    "print(float_data[0].shape)"
   ]
  },
  {
   "cell_type": "code",
   "execution_count": null,
   "metadata": {},
   "outputs": [],
   "source": [
    "mean = float_data[:178].mean(axis=0)\n",
    "float_data -= mean\n",
    "std = float_data[:178].std(axis=0)\n",
    "float_data /= std"
   ]
  },
  {
   "cell_type": "code",
   "execution_count": 15,
   "metadata": {},
   "outputs": [
    {
     "data": {
      "text/plain": [
       "(179, 128)"
      ]
     },
     "execution_count": 15,
     "metadata": {},
     "output_type": "execute_result"
    }
   ],
   "source": [
    "float_data.shape"
   ]
  },
  {
   "cell_type": "code",
   "execution_count": null,
   "metadata": {},
   "outputs": [],
   "source": [
    "#float_data[0]"
   ]
  },
  {
   "cell_type": "code",
   "execution_count": 24,
   "metadata": {},
   "outputs": [
    {
     "data": {
      "text/plain": [
       "(178, 100, 0, 179, 168)"
      ]
     },
     "execution_count": 24,
     "metadata": {},
     "output_type": "execute_result"
    }
   ],
   "source": [
    "i, lookback, min_index, len(float_data), max_index"
   ]
  },
  {
   "cell_type": "code",
   "execution_count": 26,
   "metadata": {},
   "outputs": [
    {
     "data": {
      "text/plain": [
       "128"
      ]
     },
     "execution_count": 26,
     "metadata": {},
     "output_type": "execute_result"
    }
   ],
   "source": [
    "float_data.shape[-1]"
   ]
  },
  {
   "cell_type": "code",
   "execution_count": 23,
   "metadata": {},
   "outputs": [
    {
     "ename": "ValueError",
     "evalue": "could not broadcast input array from shape (17,128) into shape (16,128)",
     "output_type": "error",
     "traceback": [
      "\u001b[0;31m---------------------------------------------------------------------------\u001b[0m",
      "\u001b[0;31mValueError\u001b[0m                                Traceback (most recent call last)",
      "\u001b[0;32m~/drone_steering/models/drone_pos_model.ipynb\u001b[0m in \u001b[0;36m<module>\u001b[0;34m()\u001b[0m\n\u001b[1;32m     39\u001b[0m         \u001b[0;32myield\u001b[0m \u001b[0msamples\u001b[0m\u001b[0;34m,\u001b[0m \u001b[0mtargets\u001b[0m\u001b[0;34m\u001b[0m\u001b[0m\n\u001b[1;32m     40\u001b[0m \u001b[0;34m\u001b[0m\u001b[0m\n\u001b[0;32m---> 41\u001b[0;31m \u001b[0mnext\u001b[0m\u001b[0;34m(\u001b[0m\u001b[0mgenerator\u001b[0m\u001b[0;34m(\u001b[0m\u001b[0mfloat_data\u001b[0m\u001b[0;34m,\u001b[0m \u001b[0mlookback\u001b[0m\u001b[0;34m,\u001b[0m \u001b[0mdelay\u001b[0m\u001b[0;34m,\u001b[0m \u001b[0;36m0\u001b[0m\u001b[0;34m,\u001b[0m \u001b[0mmax_index\u001b[0m\u001b[0;34m)\u001b[0m\u001b[0;34m)\u001b[0m\u001b[0;34m[\u001b[0m\u001b[0;36m1\u001b[0m\u001b[0;34m]\u001b[0m\u001b[0;34m.\u001b[0m\u001b[0mshape\u001b[0m\u001b[0;34m\u001b[0m\u001b[0m\n\u001b[0m\u001b[1;32m     42\u001b[0m \u001b[0;31m#(sample, feature, )   [1]=output, [0]=input\u001b[0m\u001b[0;34m\u001b[0m\u001b[0;34m\u001b[0m\u001b[0m\n\u001b[1;32m     43\u001b[0m \u001b[0mnext\u001b[0m\u001b[0;34m(\u001b[0m\u001b[0mgenerator\u001b[0m\u001b[0;34m(\u001b[0m\u001b[0mfloat_data\u001b[0m\u001b[0;34m,\u001b[0m \u001b[0mlookback\u001b[0m\u001b[0;34m,\u001b[0m \u001b[0mdelay\u001b[0m\u001b[0;34m,\u001b[0m \u001b[0;36m0\u001b[0m\u001b[0;34m,\u001b[0m \u001b[0mmax_index\u001b[0m\u001b[0;34m)\u001b[0m\u001b[0;34m)\u001b[0m\u001b[0;34m[\u001b[0m\u001b[0;36m0\u001b[0m\u001b[0;34m]\u001b[0m\u001b[0;34m.\u001b[0m\u001b[0mshape\u001b[0m\u001b[0;34m\u001b[0m\u001b[0m\n",
      "\u001b[0;32m~/drone_steering/models/drone_pos_model.ipynb\u001b[0m in \u001b[0;36mgenerator\u001b[0;34m(data, lookback, delay, min_index, max_index, shuffle, batch_size, step)\u001b[0m\n\u001b[1;32m     34\u001b[0m         \u001b[0;32mfor\u001b[0m \u001b[0mj\u001b[0m\u001b[0;34m,\u001b[0m \u001b[0mrow\u001b[0m \u001b[0;32min\u001b[0m \u001b[0menumerate\u001b[0m\u001b[0;34m(\u001b[0m\u001b[0mrows\u001b[0m\u001b[0;34m)\u001b[0m\u001b[0;34m:\u001b[0m\u001b[0;34m\u001b[0m\u001b[0m\n\u001b[1;32m     35\u001b[0m             \u001b[0mindices\u001b[0m \u001b[0;34m=\u001b[0m \u001b[0mrange\u001b[0m\u001b[0;34m(\u001b[0m\u001b[0mrows\u001b[0m\u001b[0;34m[\u001b[0m\u001b[0mj\u001b[0m\u001b[0;34m]\u001b[0m \u001b[0;34m-\u001b[0m \u001b[0mlookback\u001b[0m\u001b[0;34m,\u001b[0m \u001b[0mrows\u001b[0m\u001b[0;34m[\u001b[0m\u001b[0mj\u001b[0m\u001b[0;34m]\u001b[0m\u001b[0;34m,\u001b[0m \u001b[0mstep\u001b[0m\u001b[0;34m)\u001b[0m\u001b[0;34m\u001b[0m\u001b[0m\n\u001b[0;32m---> 36\u001b[0;31m             \u001b[0msamples\u001b[0m\u001b[0;34m[\u001b[0m\u001b[0mj\u001b[0m\u001b[0;34m]\u001b[0m \u001b[0;34m=\u001b[0m \u001b[0mdata\u001b[0m\u001b[0;34m[\u001b[0m\u001b[0mindices\u001b[0m\u001b[0;34m]\u001b[0m\u001b[0;34m\u001b[0m\u001b[0m\n\u001b[0m\u001b[1;32m     37\u001b[0m             \u001b[0mtargets\u001b[0m\u001b[0;34m[\u001b[0m\u001b[0mj\u001b[0m\u001b[0;34m]\u001b[0m \u001b[0;34m=\u001b[0m \u001b[0mdata\u001b[0m\u001b[0;34m[\u001b[0m\u001b[0mrows\u001b[0m\u001b[0;34m[\u001b[0m\u001b[0mj\u001b[0m\u001b[0;34m]\u001b[0m \u001b[0;34m+\u001b[0m \u001b[0mdelay\u001b[0m\u001b[0;34m]\u001b[0m\u001b[0;34m[\u001b[0m\u001b[0;36m1\u001b[0m\u001b[0;34m]\u001b[0m\u001b[0;34m\u001b[0m\u001b[0m\n\u001b[1;32m     38\u001b[0m \u001b[0;34m\u001b[0m\u001b[0m\n",
      "\u001b[0;31mValueError\u001b[0m: could not broadcast input array from shape (17,128) into shape (16,128)"
     ]
    }
   ],
   "source": [
    "lookback = 100# 5 days in the past in a fixed t\n",
    "step = 1 #one sample per hour =time step\n",
    "delay = 10 #target 24h in the future\n",
    "batch_size=50\n",
    "min_index=0\n",
    "max_index=len(float_data) - delay - 1\n",
    "def generator( # is a object\n",
    "    data,\n",
    "    lookback, delay,\n",
    "    min_index, max_index,\n",
    "    shuffle=False, # val we dont shaffel\n",
    "    batch_size=batch_size,\n",
    "    step=6):\n",
    "\n",
    "    if max_index is None: # none= does not exist\n",
    "        max_index = len(data) - delay - 1\n",
    "    i = min_index + lookback # TODO redundant?\n",
    "    while True: # means do \n",
    "\n",
    "        if shuffle:\n",
    "            rows = np.random.randint(\n",
    "                min_index + lookback,\n",
    "                max_index,\n",
    "                batch_size\n",
    "            )\n",
    "        else:\n",
    "            if i + batch_size >= max_index:\n",
    "                i = min_index + lookback\n",
    "            rows = np.arange(i, min(i + batch_size, max_index))\n",
    "            i += len(rows)\n",
    "\n",
    "        samples = np.zeros((len(rows), lookback // step, data.shape[-1]))\n",
    "        targets = np.zeros((len(rows),))\n",
    "        for j, row in enumerate(rows):\n",
    "            indices = range(rows[j] - lookback, rows[j], step)\n",
    "            samples[j] = data[indices]\n",
    "            targets[j] = data[rows[j] + delay][1]\n",
    "\n",
    "        yield samples, targets\n",
    "        \n",
    "next(generator(float_data, lookback, delay, 0, max_index))[1].shape\n",
    "#(sample, feature, )   [1]=output, [0]=input\n",
    "next(generator(float_data, lookback, delay, 0, max_index))[0].shape"
   ]
  },
  {
   "cell_type": "markdown",
   "metadata": {},
   "source": [
    "# Training Model"
   ]
  },
  {
   "cell_type": "markdown",
   "metadata": {},
   "source": [
    "# Model Architecture"
   ]
  },
  {
   "cell_type": "code",
   "execution_count": 25,
   "metadata": {},
   "outputs": [
    {
     "name": "stderr",
     "output_type": "stream",
     "text": [
      "Using TensorFlow backend.\n"
     ]
    },
    {
     "name": "stdout",
     "output_type": "stream",
     "text": [
      "_________________________________________________________________\n",
      "Layer (type)                 Output Shape              Param #   \n",
      "=================================================================\n",
      "dense_1 (Dense)              (None, 20)                340       \n",
      "_________________________________________________________________\n",
      "dense_2 (Dense)              (None, 15)                315       \n",
      "_________________________________________________________________\n",
      "dense_3 (Dense)              (None, 5)                 80        \n",
      "=================================================================\n",
      "Total params: 735\n",
      "Trainable params: 735\n",
      "Non-trainable params: 0\n",
      "_________________________________________________________________\n"
     ]
    }
   ],
   "source": [
    "from keras import models, layers\n",
    "from keras.models import Model\n",
    "from keras.layers import Input, Dense\n",
    "from keras import optimizers, losses, metrics\n",
    "\n",
    "\n",
    "#default vaues\n",
    "#activation=\"relu\"\n",
    "#optimizer=\"adam\"\n",
    "lr=0.01\n",
    "#momentum=0\n",
    "#creat model\n",
    "model = models.Sequential()\n",
    "model.add(layers.Dense(\n",
    "        20, \n",
    "        activation=\"relu\", \n",
    "        input_shape=(16, )))\n",
    "model.add(layers.Dense(15, activation=\"relu\"))\n",
    "model.add(layers.Dense(5, activation=\"softmax\")) #is a fast rectifier\n",
    "model.summary()   \n",
    "\n",
    "model.compile(\n",
    "optimizer=optimizers.RMSprop(lr=0.01),\n",
    "loss=losses.categorical_crossentropy,\n",
    "metrics=[\"accuracy\"] \n",
    ")\n",
    "    "
   ]
  },
  {
   "cell_type": "code",
   "execution_count": null,
   "metadata": {},
   "outputs": [],
   "source": []
  }
 ],
 "metadata": {
  "kernelspec": {
   "display_name": "Python 3",
   "language": "python",
   "name": "python3"
  },
  "language_info": {
   "codemirror_mode": {
    "name": "ipython",
    "version": 3
   },
   "file_extension": ".py",
   "mimetype": "text/x-python",
   "name": "python",
   "nbconvert_exporter": "python",
   "pygments_lexer": "ipython3",
   "version": "3.6.5"
  }
 },
 "nbformat": 4,
 "nbformat_minor": 2
}
