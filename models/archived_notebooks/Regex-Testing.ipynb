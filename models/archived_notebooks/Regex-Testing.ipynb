{
 "cells": [
  {
   "cell_type": "code",
   "execution_count": 1,
   "metadata": {},
   "outputs": [
    {
     "name": "stdout",
     "output_type": "stream",
     "text": [
      "0 C:\\Users\\p.schambach\\Desktop\\DSR\\drone_steering\\models\n",
      "1 C:\\Users\\p.schambach\\Desktop\\DSR\\drone_steering\n"
     ]
    }
   ],
   "source": [
    "import re\n",
    "import os\n",
    "\n",
    "cwd = os.getcwd()\n",
    "\n",
    "counter = 0\n",
    "print(counter, cwd)\n",
    "while not cwd.endswith(\"drone_steering\") and counter < 10:\n",
    "    os.chdir('..')\n",
    "    cwd = os.getcwd()\n",
    "    counter = counter + 1\n",
    "    print(counter, cwd)"
   ]
  },
  {
   "cell_type": "code",
   "execution_count": 6,
   "metadata": {},
   "outputs": [],
   "source": [
    "file_names = os.listdir('models/')\n",
    "file_names\n",
    "\n",
    "model_type = 'gesture'\n",
    "interpolation = 'nip'"
   ]
  },
  {
   "cell_type": "code",
   "execution_count": 13,
   "metadata": {},
   "outputs": [
    {
     "name": "stdout",
     "output_type": "stream",
     "text": [
      "Which model instance do you want to use?\n",
      "0 | model_gesture_lstm_nip120_tr0_sazero0.h5\n",
      "1 | model_gesture_lstm_nip120_tr0_sazero1000.h5\n",
      "2 | model_gesture_lstm_nip120_tr0_sazero500.h5\n",
      "3 | model_gesture_lstm_nip120_tr2_sa4000.h5\n",
      "4 | model_gesture_lstm_nip120_tr2_sa5000.h5\n",
      "5 | model_gesture_lstm_nip120_tr2_saex500.h5\n",
      "6 | model_gesture_lstm_nip120_tr2_sazero0.h5\n",
      "7 | model_gesture_lstm_nip120_tr2_sazero1000.h5\n",
      "8 | model_gesture_lstm_nip120_tr2_sazero500.h5\n",
      "9 | model_gesture_lstm_nip120_tr4_sazero0.h5\n",
      "10 | model_gesture_lstm_nip120_tr4_sazero1000.h5\n",
      "11 | model_gesture_lstm_nip120_tr4_sazero500.h5\n",
      "12 | model_gesture_lstm_nip120_tr6_sazero0.h5\n",
      "13 | model_gesture_lstm_nip120_tr6_sazero1000.h5\n",
      "14 | model_gesture_lstm_nip120_tr6_sazero500.h5\n",
      "15 | model_gesture_rf_nip120_sa600_variances_lowest.pkl\n",
      "16 | model_gesture_svm_nip120_[1000,800]_001.pkl\n",
      "17 | model_gesture_svm_nip120_[1000,800]_002.pkl\n",
      "0\n",
      "\n"
     ]
    }
   ],
   "source": [
    "#grp_model_type = '(?P<model_type>model_'+ model_type + '_[^_]+)'\n",
    "grp_model_type = '(?P<model_type>model_'+ model_type + ')'\n",
    "grp_estimator = '(?P<estimator>[^_]+)'\n",
    "grp_ip = '(?P<ip_nip>' + interpolation + '\\d*)'\n",
    "grp_model_params = '(?P<model_parameters>.+)'\n",
    "grp_suffix = '(?P<suffix>pkl|h5)'\n",
    "pattern = '(?P<file_name>' + grp_model_type + '_' + grp_estimator + '_' + grp_ip + '_' + grp_model_params + '.' + grp_suffix + ')'\n",
    "\n",
    "\n",
    "reg = re.compile(pattern)\n",
    "\n",
    "matches = []\n",
    "for file_name in file_names:\n",
    "    match = reg.search(file_name)\n",
    "    if match:\n",
    "        matches.append(match)\n",
    "\n",
    "groups = []\n",
    "for i, match in enumerate(matches):\n",
    "    group = match.groupdict()\n",
    "    groups.append(group)\n",
    "\n",
    "\n",
    "models = []\n",
    "for grp in groups:\n",
    "    models.append(grp[\"file_name\"])\n",
    "\n",
    "\n",
    "print('Which model instance do you want to use?')\n",
    "for i in range(len(models)):\n",
    "    print(str(i) + ' | ' + models[i])\n",
    "model_instance = input()\n",
    "print('')"
   ]
  },
  {
   "cell_type": "code",
   "execution_count": 15,
   "metadata": {},
   "outputs": [
    {
     "name": "stdout",
     "output_type": "stream",
     "text": [
      "['model_gesture', 'model_gesture', 'model_gesture', 'model_gesture', 'model_gesture', 'model_gesture', 'model_gesture', 'model_gesture', 'model_gesture', 'model_gesture', 'model_gesture', 'model_gesture', 'model_gesture', 'model_gesture', 'model_gesture', 'model_gesture', 'model_gesture', 'model_gesture']\n"
     ]
    }
   ],
   "source": [
    "print([group[\"model_type\"] for group in groups])"
   ]
  },
  {
   "cell_type": "code",
   "execution_count": null,
   "metadata": {},
   "outputs": [],
   "source": []
  }
 ],
 "metadata": {
  "kernelspec": {
   "display_name": "Python 3",
   "language": "python",
   "name": "python3"
  },
  "language_info": {
   "codemirror_mode": {
    "name": "ipython",
    "version": 3
   },
   "file_extension": ".py",
   "mimetype": "text/x-python",
   "name": "python",
   "nbconvert_exporter": "python",
   "pygments_lexer": "ipython3",
   "version": "3.6.6"
  }
 },
 "nbformat": 4,
 "nbformat_minor": 2
}
