{
 "cells": [
  {
   "cell_type": "markdown",
   "metadata": {},
   "source": [
    "# Random Forest Model with natural data"
   ]
  },
  {
   "cell_type": "markdown",
   "metadata": {},
   "source": [
    "## 1 Feature engineering"
   ]
  },
  {
   "cell_type": "markdown",
   "metadata": {},
   "source": [
    "### 1.1 Importing libraries, transformers and path setting  "
   ]
  },
  {
   "cell_type": "code",
   "execution_count": 4,
   "metadata": {},
   "outputs": [],
   "source": [
    "import numpy as np\n",
    "import pandas as pd\n",
    "import warnings\n",
    "warnings.filterwarnings(\"ignore\")"
   ]
  },
  {
   "cell_type": "code",
   "execution_count": 5,
   "metadata": {},
   "outputs": [
    {
     "name": "stdout",
     "output_type": "stream",
     "text": [
      "0 /Users/lsafari/drone_steering/models\n",
      "1 /Users/lsafari/drone_steering\n"
     ]
    }
   ],
   "source": [
    "import os\n",
    "cwd = os.getcwd()\n",
    "\n",
    "counter = 0\n",
    "print(counter, cwd)\n",
    "while not cwd.endswith(\"drone_steering\") and counter < 10:\n",
    "    os.chdir('..')\n",
    "    cwd = os.getcwd()\n",
    "    counter = counter + 1\n",
    "    print(counter, cwd)"
   ]
  },
  {
   "cell_type": "markdown",
   "metadata": {},
   "source": [
    "### 1.2  Data loading"
   ]
  },
  {
   "cell_type": "code",
   "execution_count": 3,
   "metadata": {},
   "outputs": [
    {
     "data": {
      "text/html": [
       "<div>\n",
       "<style scoped>\n",
       "    .dataframe tbody tr th:only-of-type {\n",
       "        vertical-align: middle;\n",
       "    }\n",
       "\n",
       "    .dataframe tbody tr th {\n",
       "        vertical-align: top;\n",
       "    }\n",
       "\n",
       "    .dataframe thead th {\n",
       "        text-align: right;\n",
       "    }\n",
       "</style>\n",
       "<table border=\"1\" class=\"dataframe\">\n",
       "  <thead>\n",
       "    <tr style=\"text-align: right;\">\n",
       "      <th></th>\n",
       "      <th>filename_features</th>\n",
       "      <th>filename_labels</th>\n",
       "    </tr>\n",
       "  </thead>\n",
       "  <tbody>\n",
       "    <tr>\n",
       "      <th>0</th>\n",
       "      <td>features_left_c_02_120.csv</td>\n",
       "      <td>labels_left_c_02.csv</td>\n",
       "    </tr>\n",
       "    <tr>\n",
       "      <th>1</th>\n",
       "      <td>features_left_l_01_120.csv</td>\n",
       "      <td>labels_left_l_01.csv</td>\n",
       "    </tr>\n",
       "    <tr>\n",
       "      <th>2</th>\n",
       "      <td>features_move_p_01_120.csv</td>\n",
       "      <td>labels_move_p_01.csv</td>\n",
       "    </tr>\n",
       "    <tr>\n",
       "      <th>3</th>\n",
       "      <td>features_move_c_01_120.csv</td>\n",
       "      <td>labels_move_c_01.csv</td>\n",
       "    </tr>\n",
       "    <tr>\n",
       "      <th>4</th>\n",
       "      <td>features_land_l_03_120.csv</td>\n",
       "      <td>labels_land_l_03.csv</td>\n",
       "    </tr>\n",
       "    <tr>\n",
       "      <th>5</th>\n",
       "      <td>features_move_l_02_120.csv</td>\n",
       "      <td>labels_move_l_02.csv</td>\n",
       "    </tr>\n",
       "    <tr>\n",
       "      <th>6</th>\n",
       "      <td>features_land_c_01_120.csv</td>\n",
       "      <td>labels_land_c_01.csv</td>\n",
       "    </tr>\n",
       "    <tr>\n",
       "      <th>7</th>\n",
       "      <td>features_land_l_02_120.csv</td>\n",
       "      <td>labels_land_l_02.csv</td>\n",
       "    </tr>\n",
       "    <tr>\n",
       "      <th>8</th>\n",
       "      <td>features_left_c_03_120.csv</td>\n",
       "      <td>labels_left_c_03.csv</td>\n",
       "    </tr>\n",
       "    <tr>\n",
       "      <th>9</th>\n",
       "      <td>features_right_c_02_120.csv</td>\n",
       "      <td>labels_right_c_02.csv</td>\n",
       "    </tr>\n",
       "    <tr>\n",
       "      <th>10</th>\n",
       "      <td>features_right_l_01_120.csv</td>\n",
       "      <td>labels_right_l_01.csv</td>\n",
       "    </tr>\n",
       "    <tr>\n",
       "      <th>11</th>\n",
       "      <td>features_land_c_03_120.csv</td>\n",
       "      <td>labels_land_c_03.csv</td>\n",
       "    </tr>\n",
       "    <tr>\n",
       "      <th>12</th>\n",
       "      <td>features_move_l_01_120.csv</td>\n",
       "      <td>labels_move_l_01.csv</td>\n",
       "    </tr>\n",
       "    <tr>\n",
       "      <th>13</th>\n",
       "      <td>features_left_c_01_120.csv</td>\n",
       "      <td>labels_left_c_01.csv</td>\n",
       "    </tr>\n",
       "    <tr>\n",
       "      <th>14</th>\n",
       "      <td>features_right_l_03_120.csv</td>\n",
       "      <td>labels_right_l_03.csv</td>\n",
       "    </tr>\n",
       "    <tr>\n",
       "      <th>15</th>\n",
       "      <td>features_left_l_02_120.csv</td>\n",
       "      <td>labels_left_l_02.csv</td>\n",
       "    </tr>\n",
       "    <tr>\n",
       "      <th>16</th>\n",
       "      <td>features_right_c_01_120.csv</td>\n",
       "      <td>labels_right_c_01.csv</td>\n",
       "    </tr>\n",
       "    <tr>\n",
       "      <th>17</th>\n",
       "      <td>features_right_l_02_120.csv</td>\n",
       "      <td>labels_right_l_02.csv</td>\n",
       "    </tr>\n",
       "    <tr>\n",
       "      <th>18</th>\n",
       "      <td>features_left_l_03_120.csv</td>\n",
       "      <td>labels_left_l_03.csv</td>\n",
       "    </tr>\n",
       "    <tr>\n",
       "      <th>19</th>\n",
       "      <td>features_land_c_02_120.csv</td>\n",
       "      <td>labels_land_c_02.csv</td>\n",
       "    </tr>\n",
       "    <tr>\n",
       "      <th>20</th>\n",
       "      <td>features_land_l_01_120.csv</td>\n",
       "      <td>labels_land_l_01.csv</td>\n",
       "    </tr>\n",
       "    <tr>\n",
       "      <th>21</th>\n",
       "      <td>features_flip_l_01_120.csv</td>\n",
       "      <td>labels_flip_l_01.csv</td>\n",
       "    </tr>\n",
       "    <tr>\n",
       "      <th>22</th>\n",
       "      <td>features_flip_c_02_120.csv</td>\n",
       "      <td>labels_flip_c_02.csv</td>\n",
       "    </tr>\n",
       "    <tr>\n",
       "      <th>23</th>\n",
       "      <td>features_takeoff_c_03_120.csv</td>\n",
       "      <td>labels_takeoff_c_03.csv</td>\n",
       "    </tr>\n",
       "    <tr>\n",
       "      <th>24</th>\n",
       "      <td>features_takeoff_l_01_120.csv</td>\n",
       "      <td>labels_takeoff_l_01.csv</td>\n",
       "    </tr>\n",
       "    <tr>\n",
       "      <th>25</th>\n",
       "      <td>features_takeoff_c_02_120.csv</td>\n",
       "      <td>labels_takeoff_c_02.csv</td>\n",
       "    </tr>\n",
       "    <tr>\n",
       "      <th>26</th>\n",
       "      <td>features_flip_c_03_120.csv</td>\n",
       "      <td>labels_flip_c_03.csv</td>\n",
       "    </tr>\n",
       "    <tr>\n",
       "      <th>27</th>\n",
       "      <td>features_flip_p_01_120.csv</td>\n",
       "      <td>labels_flip_p_01.csv</td>\n",
       "    </tr>\n",
       "    <tr>\n",
       "      <th>28</th>\n",
       "      <td>features_takeoff_l_03_120.csv</td>\n",
       "      <td>labels_takeoff_l_03.csv</td>\n",
       "    </tr>\n",
       "    <tr>\n",
       "      <th>29</th>\n",
       "      <td>features_flip_l_02_120.csv</td>\n",
       "      <td>labels_flip_l_02.csv</td>\n",
       "    </tr>\n",
       "    <tr>\n",
       "      <th>30</th>\n",
       "      <td>features_flip_c_01_120.csv</td>\n",
       "      <td>labels_flip_c_01.csv</td>\n",
       "    </tr>\n",
       "    <tr>\n",
       "      <th>31</th>\n",
       "      <td>features_flip_l_03_120.csv</td>\n",
       "      <td>labels_flip_l_03.csv</td>\n",
       "    </tr>\n",
       "    <tr>\n",
       "      <th>32</th>\n",
       "      <td>features_takeoff_l_02_120.csv</td>\n",
       "      <td>labels_takeoff_l_02.csv</td>\n",
       "    </tr>\n",
       "    <tr>\n",
       "      <th>33</th>\n",
       "      <td>features_takeoff_c_01_120.csv</td>\n",
       "      <td>labels_takeoff_c_01.csv</td>\n",
       "    </tr>\n",
       "    <tr>\n",
       "      <th>34</th>\n",
       "      <td>features_left_l_04_120.csv</td>\n",
       "      <td>labels_left_l_04.csv</td>\n",
       "    </tr>\n",
       "    <tr>\n",
       "      <th>35</th>\n",
       "      <td>features_none_p_01_120.csv</td>\n",
       "      <td>labels_none.csv</td>\n",
       "    </tr>\n",
       "  </tbody>\n",
       "</table>\n",
       "</div>"
      ],
      "text/plain": [
       "                filename_features          filename_labels\n",
       "0      features_left_c_02_120.csv     labels_left_c_02.csv\n",
       "1      features_left_l_01_120.csv     labels_left_l_01.csv\n",
       "2      features_move_p_01_120.csv     labels_move_p_01.csv\n",
       "3      features_move_c_01_120.csv     labels_move_c_01.csv\n",
       "4      features_land_l_03_120.csv     labels_land_l_03.csv\n",
       "5      features_move_l_02_120.csv     labels_move_l_02.csv\n",
       "6      features_land_c_01_120.csv     labels_land_c_01.csv\n",
       "7      features_land_l_02_120.csv     labels_land_l_02.csv\n",
       "8      features_left_c_03_120.csv     labels_left_c_03.csv\n",
       "9     features_right_c_02_120.csv    labels_right_c_02.csv\n",
       "10    features_right_l_01_120.csv    labels_right_l_01.csv\n",
       "11     features_land_c_03_120.csv     labels_land_c_03.csv\n",
       "12     features_move_l_01_120.csv     labels_move_l_01.csv\n",
       "13     features_left_c_01_120.csv     labels_left_c_01.csv\n",
       "14    features_right_l_03_120.csv    labels_right_l_03.csv\n",
       "15     features_left_l_02_120.csv     labels_left_l_02.csv\n",
       "16    features_right_c_01_120.csv    labels_right_c_01.csv\n",
       "17    features_right_l_02_120.csv    labels_right_l_02.csv\n",
       "18     features_left_l_03_120.csv     labels_left_l_03.csv\n",
       "19     features_land_c_02_120.csv     labels_land_c_02.csv\n",
       "20     features_land_l_01_120.csv     labels_land_l_01.csv\n",
       "21     features_flip_l_01_120.csv     labels_flip_l_01.csv\n",
       "22     features_flip_c_02_120.csv     labels_flip_c_02.csv\n",
       "23  features_takeoff_c_03_120.csv  labels_takeoff_c_03.csv\n",
       "24  features_takeoff_l_01_120.csv  labels_takeoff_l_01.csv\n",
       "25  features_takeoff_c_02_120.csv  labels_takeoff_c_02.csv\n",
       "26     features_flip_c_03_120.csv     labels_flip_c_03.csv\n",
       "27     features_flip_p_01_120.csv     labels_flip_p_01.csv\n",
       "28  features_takeoff_l_03_120.csv  labels_takeoff_l_03.csv\n",
       "29     features_flip_l_02_120.csv     labels_flip_l_02.csv\n",
       "30     features_flip_c_01_120.csv     labels_flip_c_01.csv\n",
       "31     features_flip_l_03_120.csv     labels_flip_l_03.csv\n",
       "32  features_takeoff_l_02_120.csv  labels_takeoff_l_02.csv\n",
       "33  features_takeoff_c_01_120.csv  labels_takeoff_c_01.csv\n",
       "34     features_left_l_04_120.csv     labels_left_l_04.csv\n",
       "35     features_none_p_01_120.csv          labels_none.csv"
      ]
     },
     "execution_count": 3,
     "metadata": {},
     "output_type": "execute_result"
    }
   ],
   "source": [
    "from app_local.module import DataEnsembler, GestureTransformer, DataResampler\n",
    "\n",
    "de = DataEnsembler(120)\n",
    "de.investigate_available_datafiles(data_dir='data/gesture/',is_frame_based=True)\n",
    "de.combined_data_files_df\n"
   ]
  },
  {
   "cell_type": "code",
   "execution_count": 4,
   "metadata": {},
   "outputs": [
    {
     "data": {
      "text/plain": [
       "'(?P<filename>(?P<filetype>[a-z]*)_(?P<movement>[a-z]*)_(?P<person>[a-z]*)_(?P<filenum>\\\\d*)(_(?P<frame_length>\\\\d*))?\\\\.csv)'"
      ]
     },
     "execution_count": 4,
     "metadata": {},
     "output_type": "execute_result"
    }
   ],
   "source": [
    "de.load_data()\n",
    "de.pattern"
   ]
  },
  {
   "cell_type": "markdown",
   "metadata": {},
   "source": [
    "### 1.3 Data rescaling to actual video length"
   ]
  },
  {
   "cell_type": "code",
   "execution_count": 5,
   "metadata": {},
   "outputs": [],
   "source": [
    "#de.rescale_data_frames(time_of_first_frame='avg',verbose=True)"
   ]
  },
  {
   "cell_type": "markdown",
   "metadata": {},
   "source": [
    "### 1. 4 Generating training data"
   ]
  },
  {
   "cell_type": "code",
   "execution_count": 6,
   "metadata": {},
   "outputs": [
    {
     "name": "stdout",
     "output_type": "stream",
     "text": [
      "i: 0 \tshape X: (550, 18, 16) \tshape y: (550,) \tcount: 114\n",
      "i: 1 \tshape X: (541, 18, 16) \tshape y: (541,) \tcount: 92\n",
      "i: 2 \tshape X: (590, 18, 16) \tshape y: (590,) \tcount: 171\n",
      "i: 3 \tshape X: (616, 18, 16) \tshape y: (616,) \tcount: 136\n",
      "i: 4 \tshape X: (466, 18, 16) \tshape y: (466,) \tcount: 126\n",
      "i: 5 \tshape X: (470, 18, 16) \tshape y: (470,) \tcount: 187\n",
      "i: 6 \tshape X: (440, 18, 16) \tshape y: (440,) \tcount: 127\n",
      "i: 7 \tshape X: (436, 18, 16) \tshape y: (436,) \tcount: 87\n",
      "i: 8 \tshape X: (549, 18, 16) \tshape y: (549,) \tcount: 115\n",
      "i: 9 \tshape X: (923, 18, 16) \tshape y: (923,) \tcount: 214\n",
      "i: 10 \tshape X: (545, 18, 16) \tshape y: (545,) \tcount: 91\n",
      "i: 11 \tshape X: (476, 18, 16) \tshape y: (476,) \tcount: 118\n",
      "i: 12 \tshape X: (621, 18, 16) \tshape y: (621,) \tcount: 269\n",
      "i: 13 \tshape X: (551, 18, 16) \tshape y: (551,) \tcount: 127\n",
      "i: 14 \tshape X: (505, 18, 16) \tshape y: (505,) \tcount: 111\n",
      "i: 15 \tshape X: (535, 18, 16) \tshape y: (535,) \tcount: 121\n",
      "i: 16 \tshape X: (514, 18, 16) \tshape y: (514,) \tcount: 120\n",
      "i: 17 \tshape X: (547, 18, 16) \tshape y: (547,) \tcount: 124\n",
      "i: 18 \tshape X: (549, 18, 16) \tshape y: (549,) \tcount: 108\n",
      "i: 19 \tshape X: (490, 18, 16) \tshape y: (490,) \tcount: 110\n",
      "i: 20 \tshape X: (492, 18, 16) \tshape y: (492,) \tcount: 121\n",
      "i: 21 \tshape X: (650, 18, 16) \tshape y: (650,) \tcount: 230\n",
      "i: 22 \tshape X: (519, 18, 16) \tshape y: (519,) \tcount: 89\n",
      "i: 23 \tshape X: (569, 18, 16) \tshape y: (569,) \tcount: 157\n",
      "i: 24 \tshape X: (488, 18, 16) \tshape y: (488,) \tcount: 89\n",
      "i: 25 \tshape X: (524, 18, 16) \tshape y: (524,) \tcount: 129\n",
      "i: 26 \tshape X: (498, 18, 16) \tshape y: (498,) \tcount: 119\n",
      "i: 27 \tshape X: (601, 18, 16) \tshape y: (601,) \tcount: 159\n",
      "i: 28 \tshape X: (416, 18, 16) \tshape y: (416,) \tcount: 99\n",
      "i: 29 \tshape X: (508, 18, 16) \tshape y: (508,) \tcount: 147\n",
      "i: 30 \tshape X: (603, 18, 16) \tshape y: (603,) \tcount: 101\n",
      "i: 31 \tshape X: (466, 18, 16) \tshape y: (466,) \tcount: 146\n",
      "i: 32 \tshape X: (481, 18, 16) \tshape y: (481,) \tcount: 106\n",
      "i: 33 \tshape X: (469, 18, 16) \tshape y: (469,) \tcount: 121\n",
      "i: 34 \tshape X: (482, 18, 16) \tshape y: (482,) \tcount: 205\n",
      "i: 35 \tshape X: (460, 18, 16) \tshape y: (460,) \tcount: 0\n",
      "-----------------------------------------------------------------------------\n",
      "shape final X: (19140, 18, 16)\n",
      "number of labeled samples: 4686\n",
      "Label 0: 14454 \t75.52% of total\n",
      "Label 1: 701 \t14.96% of labeled\n",
      "Label 2: 763 \t16.28% of labeled\n",
      "Label 3: 991 \t21.15% of labeled\n",
      "Label 4: 882 \t18.82% of labeled\n",
      "Label 5: 660 \t14.08% of labeled\n",
      "Label 6: 689 \t14.7% of labeled\n"
     ]
    }
   ],
   "source": [
    "de.assemble_data(tolerance_range= 2)\n",
    "de.display_information()"
   ]
  },
  {
   "cell_type": "markdown",
   "metadata": {},
   "source": [
    "### 1.5 Imbalance data treatment"
   ]
  },
  {
   "cell_type": "code",
   "execution_count": 7,
   "metadata": {},
   "outputs": [
    {
     "data": {
      "text/html": [
       "<div>\n",
       "<style scoped>\n",
       "    .dataframe tbody tr th:only-of-type {\n",
       "        vertical-align: middle;\n",
       "    }\n",
       "\n",
       "    .dataframe tbody tr th {\n",
       "        vertical-align: top;\n",
       "    }\n",
       "\n",
       "    .dataframe thead th {\n",
       "        text-align: right;\n",
       "    }\n",
       "</style>\n",
       "<table border=\"1\" class=\"dataframe\">\n",
       "  <thead>\n",
       "    <tr style=\"text-align: right;\">\n",
       "      <th></th>\n",
       "      <th>abs_orig</th>\n",
       "      <th>pct_orig</th>\n",
       "      <th>abs_current</th>\n",
       "      <th>pct_current</th>\n",
       "    </tr>\n",
       "  </thead>\n",
       "  <tbody>\n",
       "    <tr>\n",
       "      <th>0</th>\n",
       "      <td>14454</td>\n",
       "      <td>75.52</td>\n",
       "      <td>14454</td>\n",
       "      <td>75.52</td>\n",
       "    </tr>\n",
       "    <tr>\n",
       "      <th>1</th>\n",
       "      <td>701</td>\n",
       "      <td>3.66</td>\n",
       "      <td>701</td>\n",
       "      <td>3.66</td>\n",
       "    </tr>\n",
       "    <tr>\n",
       "      <th>2</th>\n",
       "      <td>763</td>\n",
       "      <td>3.99</td>\n",
       "      <td>763</td>\n",
       "      <td>3.99</td>\n",
       "    </tr>\n",
       "    <tr>\n",
       "      <th>3</th>\n",
       "      <td>991</td>\n",
       "      <td>5.18</td>\n",
       "      <td>991</td>\n",
       "      <td>5.18</td>\n",
       "    </tr>\n",
       "    <tr>\n",
       "      <th>4</th>\n",
       "      <td>882</td>\n",
       "      <td>4.61</td>\n",
       "      <td>882</td>\n",
       "      <td>4.61</td>\n",
       "    </tr>\n",
       "    <tr>\n",
       "      <th>5</th>\n",
       "      <td>660</td>\n",
       "      <td>3.45</td>\n",
       "      <td>660</td>\n",
       "      <td>3.45</td>\n",
       "    </tr>\n",
       "    <tr>\n",
       "      <th>6</th>\n",
       "      <td>689</td>\n",
       "      <td>3.6</td>\n",
       "      <td>689</td>\n",
       "      <td>3.6</td>\n",
       "    </tr>\n",
       "  </tbody>\n",
       "</table>\n",
       "</div>"
      ],
      "text/plain": [
       "  abs_orig pct_orig abs_current pct_current\n",
       "0    14454    75.52       14454       75.52\n",
       "1      701     3.66         701        3.66\n",
       "2      763     3.99         763        3.99\n",
       "3      991     5.18         991        5.18\n",
       "4      882     4.61         882        4.61\n",
       "5      660     3.45         660        3.45\n",
       "6      689      3.6         689         3.6"
      ]
     },
     "execution_count": 7,
     "metadata": {},
     "output_type": "execute_result"
    }
   ],
   "source": [
    "dr = DataResampler()\n",
    "dr.fit(de.X, de.y)\n",
    "#dr.restrict_zero_labels(n=500, criterion=[\"variances_lowest\"])\n",
    "dr.display_information()"
   ]
  },
  {
   "cell_type": "code",
   "execution_count": 8,
   "metadata": {},
   "outputs": [
    {
     "name": "stdout",
     "output_type": "stream",
     "text": [
      "-------------------------------------\n",
      "Current number of zero-labels: 14454\n",
      "New number of zero-labels (selected with criterion=\"variances_lowest\"): 600\n"
     ]
    },
    {
     "data": {
      "text/plain": [
       "(array([[[323.74369411, 205.4560586 , 308.99335097, ..., 148.67846194,\n",
       "          271.25449345, 241.69583114],\n",
       "         [324.55978596, 206.32017509, 308.1630041 , ..., 152.25815797,\n",
       "          265.79939379, 240.52090492],\n",
       "         [321.07795048, 198.56198579, 309.51981279, ..., 152.8917371 ,\n",
       "          273.3064266 , 241.65127493],\n",
       "         ...,\n",
       "         [335.69136561, 184.02126529, 319.04156875, ..., 124.47094398,\n",
       "          158.90030555, 162.97257529],\n",
       "         [334.14316597, 181.55637775, 323.24348268, ..., 122.67106615,\n",
       "          173.39366174, 180.37099933],\n",
       "         [338.20502992, 187.33899018, 326.47399093, ..., 128.71612454,\n",
       "          201.58922595, 214.39433576]],\n",
       " \n",
       "        [[324.55978596, 206.32017509, 308.1630041 , ..., 152.25815797,\n",
       "          265.79939379, 240.52090492],\n",
       "         [321.07795048, 198.56198579, 309.51981279, ..., 152.8917371 ,\n",
       "          273.3064266 , 241.65127493],\n",
       "         [320.37548723, 200.74623447, 309.23026411, ..., 153.54252065,\n",
       "          272.81516159, 242.09654296],\n",
       "         ...,\n",
       "         [334.14316597, 181.55637775, 323.24348268, ..., 122.67106615,\n",
       "          173.39366174, 180.37099933],\n",
       "         [338.20502992, 187.33899018, 326.47399093, ..., 128.71612454,\n",
       "          201.58922595, 214.39433576],\n",
       "         [341.97204428, 189.14388901, 327.67270359, ..., 135.9596323 ,\n",
       "          223.95195189, 230.69906903]],\n",
       " \n",
       "        [[321.07795048, 198.56198579, 309.51981279, ..., 152.8917371 ,\n",
       "          273.3064266 , 241.65127493],\n",
       "         [320.37548723, 200.74623447, 309.23026411, ..., 153.54252065,\n",
       "          272.81516159, 242.09654296],\n",
       "         [324.83106335, 201.56552108, 310.77628057, ..., 150.31127197,\n",
       "          244.11960326, 250.88051955],\n",
       "         ...,\n",
       "         [338.20502992, 187.33899018, 326.47399093, ..., 128.71612454,\n",
       "          201.58922595, 214.39433576],\n",
       "         [341.97204428, 189.14388901, 327.67270359, ..., 135.9596323 ,\n",
       "          223.95195189, 230.69906903],\n",
       "         [339.8491549 , 191.97107782, 325.79794077, ..., 140.37247858,\n",
       "          254.80643842, 239.10573342]],\n",
       " \n",
       "        ...,\n",
       " \n",
       "        [[333.73881494, 235.30687264, 317.34556406, ..., 191.56557674,\n",
       "          292.33242531, 250.42797374],\n",
       "         [334.41158467, 234.4805076 , 318.09002418, ..., 193.36882676,\n",
       "          296.21312958, 247.91689808],\n",
       "         [333.47987896, 234.29986669, 318.67589166, ..., 193.89012673,\n",
       "          294.85400617, 247.95440049],\n",
       "         ...,\n",
       "         [339.32155252, 237.26595108, 322.08555834, ..., 193.09331331,\n",
       "          299.80246304, 243.95806255],\n",
       "         [338.69560899, 236.21340334, 322.27062762, ..., 193.17275078,\n",
       "          301.4293106 , 243.74455408],\n",
       "         [338.70693859, 237.47439687, 321.80587566, ..., 193.15274602,\n",
       "          301.50954998, 242.80948625]],\n",
       " \n",
       "        [[334.41158467, 234.4805076 , 318.09002418, ..., 193.36882676,\n",
       "          296.21312958, 247.91689808],\n",
       "         [333.47987896, 234.29986669, 318.67589166, ..., 193.89012673,\n",
       "          294.85400617, 247.95440049],\n",
       "         [335.08181868, 234.88601759, 318.97163776, ..., 192.91375836,\n",
       "          298.937998  , 248.66658873],\n",
       "         ...,\n",
       "         [338.69560899, 236.21340334, 322.27062762, ..., 193.17275078,\n",
       "          301.4293106 , 243.74455408],\n",
       "         [338.70693859, 237.47439687, 321.80587566, ..., 193.15274602,\n",
       "          301.50954998, 242.80948625],\n",
       "         [337.65712546, 237.09993844, 321.86403958, ..., 193.09399995,\n",
       "          303.76055083, 253.10782002]],\n",
       " \n",
       "        [[333.47987896, 234.29986669, 318.67589166, ..., 193.89012673,\n",
       "          294.85400617, 247.95440049],\n",
       "         [335.08181868, 234.88601759, 318.97163776, ..., 192.91375836,\n",
       "          298.937998  , 248.66658873],\n",
       "         [334.917915  , 236.09996877, 319.76735973, ..., 193.70416553,\n",
       "          301.10070833, 247.58680893],\n",
       "         ...,\n",
       "         [338.70693859, 237.47439687, 321.80587566, ..., 193.15274602,\n",
       "          301.50954998, 242.80948625],\n",
       "         [337.65712546, 237.09993844, 321.86403958, ..., 193.09399995,\n",
       "          303.76055083, 253.10782002],\n",
       "         [340.60666901, 241.03196629, 323.64078026, ..., 194.92517519,\n",
       "          301.31677278, 258.91894086]]]),\n",
       " array([4, 4, 4, ..., 0, 0, 0], dtype=int32))"
      ]
     },
     "execution_count": 8,
     "metadata": {},
     "output_type": "execute_result"
    }
   ],
   "source": [
    "dr.restrict_zero_labels(n=600,criterion=\"variances_lowest\")"
   ]
  },
  {
   "cell_type": "code",
   "execution_count": 9,
   "metadata": {},
   "outputs": [
    {
     "data": {
      "text/html": [
       "<div>\n",
       "<style scoped>\n",
       "    .dataframe tbody tr th:only-of-type {\n",
       "        vertical-align: middle;\n",
       "    }\n",
       "\n",
       "    .dataframe tbody tr th {\n",
       "        vertical-align: top;\n",
       "    }\n",
       "\n",
       "    .dataframe thead th {\n",
       "        text-align: right;\n",
       "    }\n",
       "</style>\n",
       "<table border=\"1\" class=\"dataframe\">\n",
       "  <thead>\n",
       "    <tr style=\"text-align: right;\">\n",
       "      <th></th>\n",
       "      <th>abs_orig</th>\n",
       "      <th>pct_orig</th>\n",
       "      <th>abs_current</th>\n",
       "      <th>pct_current</th>\n",
       "    </tr>\n",
       "  </thead>\n",
       "  <tbody>\n",
       "    <tr>\n",
       "      <th>0</th>\n",
       "      <td>14454</td>\n",
       "      <td>75.52</td>\n",
       "      <td>600</td>\n",
       "      <td>11.35</td>\n",
       "    </tr>\n",
       "    <tr>\n",
       "      <th>1</th>\n",
       "      <td>701</td>\n",
       "      <td>3.66</td>\n",
       "      <td>701</td>\n",
       "      <td>13.26</td>\n",
       "    </tr>\n",
       "    <tr>\n",
       "      <th>2</th>\n",
       "      <td>763</td>\n",
       "      <td>3.99</td>\n",
       "      <td>763</td>\n",
       "      <td>14.43</td>\n",
       "    </tr>\n",
       "    <tr>\n",
       "      <th>3</th>\n",
       "      <td>991</td>\n",
       "      <td>5.18</td>\n",
       "      <td>991</td>\n",
       "      <td>18.75</td>\n",
       "    </tr>\n",
       "    <tr>\n",
       "      <th>4</th>\n",
       "      <td>882</td>\n",
       "      <td>4.61</td>\n",
       "      <td>882</td>\n",
       "      <td>16.69</td>\n",
       "    </tr>\n",
       "    <tr>\n",
       "      <th>5</th>\n",
       "      <td>660</td>\n",
       "      <td>3.45</td>\n",
       "      <td>660</td>\n",
       "      <td>12.49</td>\n",
       "    </tr>\n",
       "    <tr>\n",
       "      <th>6</th>\n",
       "      <td>689</td>\n",
       "      <td>3.6</td>\n",
       "      <td>689</td>\n",
       "      <td>13.03</td>\n",
       "    </tr>\n",
       "  </tbody>\n",
       "</table>\n",
       "</div>"
      ],
      "text/plain": [
       "  abs_orig pct_orig abs_current pct_current\n",
       "0    14454    75.52         600       11.35\n",
       "1      701     3.66         701       13.26\n",
       "2      763     3.99         763       14.43\n",
       "3      991     5.18         991       18.75\n",
       "4      882     4.61         882       16.69\n",
       "5      660     3.45         660       12.49\n",
       "6      689      3.6         689       13.03"
      ]
     },
     "execution_count": 9,
     "metadata": {},
     "output_type": "execute_result"
    }
   ],
   "source": [
    "dr.display_information()"
   ]
  },
  {
   "cell_type": "markdown",
   "metadata": {},
   "source": [
    "### 1.6 Data normalization"
   ]
  },
  {
   "cell_type": "code",
   "execution_count": 10,
   "metadata": {},
   "outputs": [
    {
     "name": "stdout",
     "output_type": "stream",
     "text": [
      "---------------------------------------------------------\n",
      "Performing row-based transformations:\n",
      "X-Mean of Hip and Shoulders:\n",
      "\tRow-based Mean is taken over each sample and each timestep\n",
      "\tShape: (19140, 18)\n",
      "Y-Mean of Hip and Shoulders:\n",
      "\tRow-based Mean is taken over each sample and each timestep\n",
      "\tShape: (19140, 18)\n",
      "Scaling based on Hip-Shoulder distance:\n",
      "\tRow-based distance is calculated for each sample and each timestep\n",
      "\tShape: (19140, 18)\n",
      "-----------------------------------------------------\n",
      "X-Shift:\n",
      "            min   mean  median    max   std\n",
      "timestep                                   \n",
      "0         196.8  294.9   282.2  511.9  38.0\n",
      "1         196.8  294.8   282.1  511.9  38.0\n",
      "2         196.8  294.8   282.0  511.9  38.0\n",
      "3         196.8  294.7   282.0  511.9  38.0\n",
      "4         196.8  294.7   281.9  511.9  38.0\n",
      "5         196.8  294.7   281.9  511.9  38.0\n",
      "6         196.8  294.6   281.8  511.9  38.0\n",
      "7         196.8  294.6   281.8  511.9  38.0\n",
      "8         196.8  294.5   281.7  511.9  38.0\n",
      "9         196.8  294.5   281.7  511.9  38.0\n",
      "10        196.8  294.5   281.7  511.9  38.1\n",
      "11        196.8  294.5   281.7  511.9  38.1\n",
      "12        196.8  294.4   281.6  511.9  38.1\n",
      "13        124.5  294.4   281.6  511.9  38.1\n",
      "14        124.5  294.4   281.6  511.9  38.1\n",
      "15        124.5  294.4   281.5  511.9  38.1\n",
      "16        124.5  294.3   281.5  511.9  38.1\n",
      "17        124.5  294.3   281.5  511.9  38.1\n",
      "-----------------------------------------------------\n",
      "Y-Shift:\n",
      "            min   mean  median    max   std\n",
      "timestep                                   \n",
      "0         135.1  211.1   212.6  268.8  19.7\n",
      "1         134.7  211.1   212.6  268.4  19.7\n",
      "2         134.7  211.1   212.6  266.4  19.7\n",
      "3         134.7  211.1   212.6  265.0  19.7\n",
      "4         134.7  211.1   212.6  265.0  19.7\n",
      "5         134.7  211.1   212.7  265.0  19.7\n",
      "6         134.7  211.1   212.7  265.0  19.7\n",
      "7         134.7  211.2   212.7  466.0  19.8\n",
      "8         134.7  211.2   212.7  466.0  19.9\n",
      "9         134.7  211.2   212.7  472.2  20.0\n",
      "10        134.7  211.2   212.7  472.2  20.1\n",
      "11        134.7  211.2   212.7  472.2  20.1\n",
      "12        134.7  211.3   212.7  472.2  20.2\n",
      "13        134.7  211.3   212.7  472.2  20.3\n",
      "14        134.7  211.3   212.7  472.2  20.4\n",
      "15        134.7  211.3   212.7  472.2  20.5\n",
      "16        134.7  211.3   212.7  472.2  20.6\n",
      "17        134.7  211.3   212.7  474.7  20.7\n",
      "-----------------------------------------------------\n",
      "Scaling-Diff:\n",
      "            min   mean  median   max  std\n",
      "timestep                                 \n",
      "0        -133.1 -104.1  -105.6 -73.0  9.4\n",
      "1        -133.1 -104.1  -105.6 -73.0  9.4\n",
      "2        -133.1 -104.1  -105.6 -73.0  9.4\n",
      "3        -133.1 -104.1  -105.6 -73.0  9.4\n",
      "4        -133.1 -104.1  -105.6 -73.0  9.4\n",
      "5        -133.1 -104.1  -105.6 -73.0  9.4\n",
      "6        -133.1 -104.1  -105.6 -73.0  9.4\n",
      "7        -133.1 -104.1  -105.6 -53.5  9.4\n",
      "8        -133.1 -104.1  -105.6 -32.6  9.4\n",
      "9        -133.1 -104.1  -105.6 -32.6  9.4\n",
      "10       -133.1 -104.1  -105.6 -32.6  9.4\n",
      "11       -133.1 -104.1  -105.6 -32.6  9.4\n",
      "12       -133.1 -104.1  -105.5 -32.6  9.4\n",
      "13       -133.1 -104.1  -105.5 -23.5  9.4\n",
      "14       -133.1 -104.1  -105.5 -23.5  9.4\n",
      "15       -133.1 -104.0  -105.5 -23.5  9.4\n",
      "16       -133.1 -104.0  -105.5 -23.5  9.4\n",
      "17       -133.1 -104.0  -105.5 -23.5  9.5\n"
     ]
    }
   ],
   "source": [
    "X = de.X.copy()\n",
    "y = de.y.copy().astype(\"int32\")\n",
    "gt = GestureTransformer(byrow=True, feature_names= list(de.feature_names))\n",
    "X = gt.transform(X, verbose = True)"
   ]
  },
  {
   "cell_type": "markdown",
   "metadata": {},
   "source": [
    "## 2 Model Training"
   ]
  },
  {
   "cell_type": "markdown",
   "metadata": {},
   "source": [
    "### 2. 1 OneHot-Encoding of target vector"
   ]
  },
  {
   "cell_type": "code",
   "execution_count": 11,
   "metadata": {},
   "outputs": [],
   "source": [
    "from sklearn.preprocessing import OneHotEncoder"
   ]
  },
  {
   "cell_type": "code",
   "execution_count": 12,
   "metadata": {},
   "outputs": [
    {
     "name": "stdout",
     "output_type": "stream",
     "text": [
      "<class 'sklearn.preprocessing.data.OneHotEncoder'>\n",
      "Before: (19140,)\n",
      "After: (19140, 7)\n"
     ]
    },
    {
     "data": {
      "text/plain": [
       "array([[1., 0., 0., 0., 0., 0., 0.],\n",
       "       [1., 0., 0., 0., 0., 0., 0.],\n",
       "       [1., 0., 0., 0., 0., 0., 0.],\n",
       "       [1., 0., 0., 0., 0., 0., 0.],\n",
       "       [1., 0., 0., 0., 0., 0., 0.]])"
      ]
     },
     "execution_count": 12,
     "metadata": {},
     "output_type": "execute_result"
    }
   ],
   "source": [
    "ohe = OneHotEncoder(sparse = False)\n",
    "print(type(ohe))\n",
    "target = ohe.fit_transform(y.reshape(-1,1))\n",
    "print(\"Before:\", y.shape)\n",
    "print(\"After:\", target.shape)\n",
    "target[0:5,:]"
   ]
  },
  {
   "cell_type": "markdown",
   "metadata": {},
   "source": [
    "### 2. 2 Train-Test-Split"
   ]
  },
  {
   "cell_type": "code",
   "execution_count": 13,
   "metadata": {},
   "outputs": [
    {
     "name": "stdout",
     "output_type": "stream",
     "text": [
      "Training Data: (15312, 18, 16) (15312, 7)\n",
      "Test Data: (3828, 18, 16) (3828, 7)\n"
     ]
    }
   ],
   "source": [
    "from sklearn.model_selection import train_test_split\n",
    "x_train, x_test, y_train, y_test = train_test_split(X, target, test_size=0.2, random_state=10)\n",
    "print(\"Training Data:\", x_train.shape, y_train.shape)\n",
    "print(\"Test Data:\", x_test.shape, y_test.shape)"
   ]
  },
  {
   "cell_type": "markdown",
   "metadata": {},
   "source": [
    "### 2. 3 Model architecture"
   ]
  },
  {
   "cell_type": "code",
   "execution_count": 14,
   "metadata": {},
   "outputs": [],
   "source": [
    "from sklearn.ensemble import RandomForestClassifier\n",
    "from sklearn.metrics import accuracy_score\n",
    "from sklearn.model_selection import GridSearchCV"
   ]
  },
  {
   "cell_type": "markdown",
   "metadata": {},
   "source": [
    "### Train a simple Random Forest"
   ]
  },
  {
   "cell_type": "code",
   "execution_count": 15,
   "metadata": {},
   "outputs": [
    {
     "name": "stderr",
     "output_type": "stream",
     "text": [
      "[Parallel(n_jobs=-1)]: Done  34 tasks      | elapsed:    3.2s\n",
      "[Parallel(n_jobs=-1)]: Done 100 out of 100 | elapsed:    8.9s finished\n"
     ]
    },
    {
     "data": {
      "text/plain": [
       "RandomForestClassifier(bootstrap=True, class_weight=None, criterion='gini',\n",
       "            max_depth=None, max_features='auto', max_leaf_nodes=None,\n",
       "            min_impurity_decrease=0.0, min_impurity_split=None,\n",
       "            min_samples_leaf=1, min_samples_split=2,\n",
       "            min_weight_fraction_leaf=0.0, n_estimators=100, n_jobs=-1,\n",
       "            oob_score=False, random_state=None, verbose=1,\n",
       "            warm_start=False)"
      ]
     },
     "execution_count": 15,
     "metadata": {},
     "output_type": "execute_result"
    }
   ],
   "source": [
    "model = RandomForestClassifier(\n",
    "    n_estimators = 100, # 100\n",
    "    criterion = \"gini\", # {gini, entropy}\n",
    "    max_depth = None , # None\n",
    "    n_jobs = -1,\n",
    "    verbose = 1\n",
    ")\n",
    "\n",
    "model.fit(x_train.reshape(x_train.shape[0],-1),y_train)"
   ]
  },
  {
   "cell_type": "markdown",
   "metadata": {},
   "source": [
    "#### Training accuracy is already 100%"
   ]
  },
  {
   "cell_type": "code",
   "execution_count": 16,
   "metadata": {},
   "outputs": [
    {
     "name": "stderr",
     "output_type": "stream",
     "text": [
      "[Parallel(n_jobs=8)]: Done  34 tasks      | elapsed:    0.1s\n",
      "[Parallel(n_jobs=8)]: Done 100 out of 100 | elapsed:    0.3s finished\n"
     ]
    },
    {
     "data": {
      "text/plain": [
       "1.0"
      ]
     },
     "execution_count": 16,
     "metadata": {},
     "output_type": "execute_result"
    }
   ],
   "source": [
    "preds = model.predict(x_train.reshape(x_train.shape[0],-1))\n",
    "(preds == y_train).all(axis = 1).sum()/y_train.shape[0]"
   ]
  },
  {
   "cell_type": "markdown",
   "metadata": {},
   "source": [
    "#### Test accuracy is 96 %"
   ]
  },
  {
   "cell_type": "code",
   "execution_count": 17,
   "metadata": {},
   "outputs": [
    {
     "name": "stderr",
     "output_type": "stream",
     "text": [
      "[Parallel(n_jobs=8)]: Done  34 tasks      | elapsed:    0.1s\n",
      "[Parallel(n_jobs=8)]: Done 100 out of 100 | elapsed:    0.1s finished\n"
     ]
    },
    {
     "data": {
      "text/plain": [
       "0.9480146290491118"
      ]
     },
     "execution_count": 17,
     "metadata": {},
     "output_type": "execute_result"
    }
   ],
   "source": [
    "preds = model.predict(x_test.reshape(x_test.shape[0],-1))\n",
    "(preds == y_test).all(axis = 1).sum()/y_test.shape[0]"
   ]
  },
  {
   "cell_type": "markdown",
   "metadata": {},
   "source": [
    "### 2. 4 Gridsearch with Crossvalidation"
   ]
  },
  {
   "cell_type": "code",
   "execution_count": 18,
   "metadata": {},
   "outputs": [
    {
     "name": "stdout",
     "output_type": "stream",
     "text": [
      "{'n_estimators': [100, 500, 1000], 'max_features': [5, 10, 'sqrt'], 'max_depth': [5, 40, 75, 110, None]}\n"
     ]
    }
   ],
   "source": [
    "# Number of trees in random forest\n",
    "n_estimators = [100, 500, 1000]\n",
    "# Number of features to consider at every split\n",
    "max_features = [5, 10, 'sqrt']\n",
    "# Maximum number of levels in tree\n",
    "max_depth = [int(x) for x in np.linspace(5, 110, num = 4)]\n",
    "max_depth.append(None)\n",
    "\n",
    "# Create the random grid\n",
    "random_grid = {'randomforestclassifier__n_estimators': n_estimators,\n",
    "               'randomforestclassifier__max_features': max_features,\n",
    "               'randomforestclassifier__max_depth': max_depth,\n",
    "              }\n",
    "\n",
    "random_grid = {'n_estimators': n_estimators,\n",
    "               'max_features': max_features,\n",
    "               'max_depth': max_depth,\n",
    "              }\n",
    "\n",
    "print(random_grid)"
   ]
  },
  {
   "cell_type": "code",
   "execution_count": 19,
   "metadata": {},
   "outputs": [
    {
     "data": {
      "text/plain": [
       "dict_keys(['bootstrap', 'class_weight', 'criterion', 'max_depth', 'max_features', 'max_leaf_nodes', 'min_impurity_decrease', 'min_impurity_split', 'min_samples_leaf', 'min_samples_split', 'min_weight_fraction_leaf', 'n_estimators', 'n_jobs', 'oob_score', 'random_state', 'verbose', 'warm_start'])"
      ]
     },
     "execution_count": 19,
     "metadata": {},
     "output_type": "execute_result"
    }
   ],
   "source": [
    "model.get_params().keys()"
   ]
  },
  {
   "cell_type": "markdown",
   "metadata": {},
   "source": [
    "#### Training takes quite a long time - do not needlessly repeat it"
   ]
  },
  {
   "cell_type": "code",
   "execution_count": 20,
   "metadata": {},
   "outputs": [
    {
     "name": "stdout",
     "output_type": "stream",
     "text": [
      "Fitting 3 folds for each of 45 candidates, totalling 135 fits\n",
      "[CV] max_depth=5, max_features=5, n_estimators=100 ...................\n",
      "[CV] max_depth=5, max_features=5, n_estimators=100 ...................\n",
      "[CV] max_depth=5, max_features=5, n_estimators=100 ...................\n",
      "[CV] max_depth=5, max_features=5, n_estimators=500 ...................\n",
      "[CV] max_depth=5, max_features=5, n_estimators=500 ...................\n",
      "[CV] max_depth=5, max_features=5, n_estimators=500 ...................\n",
      "[CV] max_depth=5, max_features=5, n_estimators=1000 ..................\n",
      "[CV] max_depth=5, max_features=5, n_estimators=1000 ..................\n"
     ]
    },
    {
     "name": "stderr",
     "output_type": "stream",
     "text": [
      "[Parallel(n_jobs=-1)]: Done  34 tasks      | elapsed:    0.9s\n",
      "[Parallel(n_jobs=-1)]: Done  34 tasks      | elapsed:    1.0s\n",
      "[Parallel(n_jobs=-1)]: Done  34 tasks      | elapsed:    0.9s\n",
      "[Parallel(n_jobs=-1)]: Done 100 out of 100 | elapsed:    2.4s finished\n",
      "[Parallel(n_jobs=8)]: Done  34 tasks      | elapsed:    0.1s\n",
      "[Parallel(n_jobs=-1)]: Done 100 out of 100 | elapsed:    2.5s finished\n",
      "[Parallel(n_jobs=-1)]: Done 100 out of 100 | elapsed:    2.4s finished\n",
      "[Parallel(n_jobs=8)]: Done 100 out of 100 | elapsed:    0.3s finished\n",
      "[Parallel(n_jobs=8)]: Done  34 tasks      | elapsed:    0.1s\n",
      "[Parallel(n_jobs=8)]: Done  34 tasks      | elapsed:    0.1s\n",
      "[Parallel(n_jobs=8)]: Done  34 tasks      | elapsed:    0.1s\n",
      "[Parallel(n_jobs=8)]: Done 100 out of 100 | elapsed:    0.3s finished\n",
      "[Parallel(n_jobs=8)]: Done 100 out of 100 | elapsed:    0.4s finished\n",
      "[Parallel(n_jobs=8)]: Done  34 tasks      | elapsed:    0.1s\n",
      "[Parallel(n_jobs=8)]: Done  34 tasks      | elapsed:    0.1s\n",
      "[Parallel(n_jobs=8)]: Done 100 out of 100 | elapsed:    0.6s finished\n"
     ]
    },
    {
     "name": "stdout",
     "output_type": "stream",
     "text": [
      "[CV]  max_depth=5, max_features=5, n_estimators=100, score=0.8516849529780565, total=   3.0s\n",
      "[CV] max_depth=5, max_features=5, n_estimators=1000 ..................\n"
     ]
    },
    {
     "name": "stderr",
     "output_type": "stream",
     "text": [
      "[Parallel(n_jobs=-1)]: Done  34 tasks      | elapsed:    1.1s\n",
      "[Parallel(n_jobs=8)]: Done 100 out of 100 | elapsed:    0.5s finished\n"
     ]
    },
    {
     "name": "stdout",
     "output_type": "stream",
     "text": [
      "[CV]  max_depth=5, max_features=5, n_estimators=100, score=0.8491379310344828, total=   3.3s\n"
     ]
    },
    {
     "name": "stderr",
     "output_type": "stream",
     "text": [
      "[Parallel(n_jobs=8)]: Done 100 out of 100 | elapsed:    0.6s finished\n"
     ]
    },
    {
     "name": "stdout",
     "output_type": "stream",
     "text": [
      "[CV] max_depth=5, max_features=10, n_estimators=100 ..................\n",
      "[CV]  max_depth=5, max_features=5, n_estimators=100, score=0.856974921630094, total=   3.3s\n",
      "[CV] max_depth=5, max_features=10, n_estimators=100 ..................\n"
     ]
    },
    {
     "name": "stderr",
     "output_type": "stream",
     "text": [
      "[Parallel(n_jobs=-1)]: Done   2 tasks      | elapsed:    4.1s\n",
      "[Parallel(n_jobs=-1)]: Done  34 tasks      | elapsed:    1.1s\n",
      "[Parallel(n_jobs=-1)]: Done  34 tasks      | elapsed:    1.0s\n",
      "[Parallel(n_jobs=-1)]: Done  34 tasks      | elapsed:    2.6s\n",
      "[Parallel(n_jobs=-1)]: Done  34 tasks      | elapsed:    2.8s\n",
      "[Parallel(n_jobs=-1)]: Done  34 tasks      | elapsed:    1.8s\n",
      "[Parallel(n_jobs=-1)]: Done 184 tasks      | elapsed:    7.2s\n",
      "[Parallel(n_jobs=-1)]: Done  34 tasks      | elapsed:    1.8s\n",
      "[Parallel(n_jobs=-1)]: Done 184 tasks      | elapsed:    7.6s\n",
      "[Parallel(n_jobs=-1)]: Done 184 tasks      | elapsed:    7.7s\n",
      "[Parallel(n_jobs=-1)]: Done 100 out of 100 | elapsed:    8.9s finished\n",
      "[Parallel(n_jobs=8)]: Done  34 tasks      | elapsed:    0.1s\n",
      "[Parallel(n_jobs=8)]: Done 100 out of 100 | elapsed:    0.3s finished\n",
      "[Parallel(n_jobs=8)]: Done  34 tasks      | elapsed:    0.1s\n",
      "[Parallel(n_jobs=-1)]: Done 100 out of 100 | elapsed:    9.3s finished\n",
      "[Parallel(n_jobs=8)]: Done  34 tasks      | elapsed:    0.1s\n",
      "[Parallel(n_jobs=8)]: Done 100 out of 100 | elapsed:    0.7s finished\n"
     ]
    },
    {
     "name": "stdout",
     "output_type": "stream",
     "text": [
      "[CV]  max_depth=5, max_features=10, n_estimators=100, score=0.8857758620689655, total=  10.3s\n"
     ]
    },
    {
     "name": "stderr",
     "output_type": "stream",
     "text": [
      "[Parallel(n_jobs=8)]: Done 100 out of 100 | elapsed:    0.5s finished\n"
     ]
    },
    {
     "name": "stdout",
     "output_type": "stream",
     "text": [
      "[CV] max_depth=5, max_features=10, n_estimators=100 ..................\n"
     ]
    },
    {
     "name": "stderr",
     "output_type": "stream",
     "text": [
      "[Parallel(n_jobs=8)]: Done  34 tasks      | elapsed:    0.1s\n",
      "[Parallel(n_jobs=8)]: Done 100 out of 100 | elapsed:    0.7s finished\n"
     ]
    },
    {
     "name": "stdout",
     "output_type": "stream",
     "text": [
      "[CV]  max_depth=5, max_features=10, n_estimators=100, score=0.8753918495297806, total=  11.0s\n",
      "[CV] max_depth=5, max_features=10, n_estimators=500 ..................\n"
     ]
    },
    {
     "name": "stderr",
     "output_type": "stream",
     "text": [
      "[Parallel(n_jobs=-1)]: Done  34 tasks      | elapsed:    2.2s\n",
      "[Parallel(n_jobs=-1)]: Done 184 tasks      | elapsed:   10.2s\n",
      "[Parallel(n_jobs=-1)]: Done 184 tasks      | elapsed:   10.2s\n",
      "[Parallel(n_jobs=-1)]: Done  34 tasks      | elapsed:    4.2s\n",
      "[Parallel(n_jobs=-1)]: Done 434 tasks      | elapsed:   22.1s\n",
      "[Parallel(n_jobs=-1)]: Done 184 tasks      | elapsed:   11.2s\n",
      "[Parallel(n_jobs=-1)]: Done 434 tasks      | elapsed:   22.4s\n",
      "[Parallel(n_jobs=-1)]: Done 434 tasks      | elapsed:   22.6s\n",
      "[Parallel(n_jobs=-1)]: Done  34 tasks      | elapsed:    4.3s\n",
      "[Parallel(n_jobs=-1)]: Done 100 out of 100 | elapsed:   11.5s finished\n",
      "[Parallel(n_jobs=-1)]: Done 500 out of 500 | elapsed:   26.0s finished\n",
      "[Parallel(n_jobs=8)]: Done  34 tasks      | elapsed:    0.1s\n",
      "[Parallel(n_jobs=8)]: Done  34 tasks      | elapsed:    0.1s\n",
      "[Parallel(n_jobs=8)]: Done 100 out of 100 | elapsed:    0.4s finished\n",
      "[Parallel(n_jobs=8)]: Done  34 tasks      | elapsed:    0.2s\n",
      "[Parallel(n_jobs=-1)]: Done 500 out of 500 | elapsed:   26.3s finished\n",
      "[Parallel(n_jobs=8)]: Done 184 tasks      | elapsed:    0.7s\n",
      "[Parallel(n_jobs=8)]: Done  34 tasks      | elapsed:    0.1s\n",
      "[Parallel(n_jobs=8)]: Done 100 out of 100 | elapsed:    0.7s finished\n"
     ]
    },
    {
     "name": "stdout",
     "output_type": "stream",
     "text": [
      "[CV]  max_depth=5, max_features=10, n_estimators=100, score=0.8818573667711599, total=  14.1s\n",
      "[CV] max_depth=5, max_features=10, n_estimators=500 ..................\n"
     ]
    },
    {
     "name": "stderr",
     "output_type": "stream",
     "text": [
      "[Parallel(n_jobs=-1)]: Done 500 out of 500 | elapsed:   26.5s finished\n",
      "[Parallel(n_jobs=8)]: Done 184 tasks      | elapsed:    0.7s\n",
      "[Parallel(n_jobs=8)]: Done  34 tasks      | elapsed:    0.1s\n",
      "[Parallel(n_jobs=8)]: Done 434 tasks      | elapsed:    1.8s\n",
      "[Parallel(n_jobs=8)]: Done 184 tasks      | elapsed:    0.7s\n",
      "[Parallel(n_jobs=8)]: Done 500 out of 500 | elapsed:    2.2s finished\n",
      "[Parallel(n_jobs=8)]: Done  34 tasks      | elapsed:    0.1s\n",
      "[Parallel(n_jobs=8)]: Done 434 tasks      | elapsed:    1.8s\n",
      "[Parallel(n_jobs=8)]: Done 500 out of 500 | elapsed:    2.2s finished\n",
      "[Parallel(n_jobs=8)]: Done  34 tasks      | elapsed:    0.1s\n",
      "[Parallel(n_jobs=8)]: Done 434 tasks      | elapsed:    2.0s\n",
      "[Parallel(n_jobs=8)]: Done 184 tasks      | elapsed:    1.3s\n",
      "[Parallel(n_jobs=8)]: Done 500 out of 500 | elapsed:    2.3s finished\n",
      "[Parallel(n_jobs=8)]: Done  34 tasks      | elapsed:    0.1s\n",
      "[Parallel(n_jobs=8)]: Done 184 tasks      | elapsed:    1.4s\n",
      "[Parallel(n_jobs=-1)]: Done 434 tasks      | elapsed:   25.4s\n",
      "[Parallel(n_jobs=-1)]: Done 434 tasks      | elapsed:   25.4s\n",
      "[Parallel(n_jobs=8)]: Done 184 tasks      | elapsed:    1.2s\n",
      "[Parallel(n_jobs=8)]: Done 434 tasks      | elapsed:    3.2s\n",
      "[Parallel(n_jobs=8)]: Done 500 out of 500 | elapsed:    3.8s finished\n"
     ]
    },
    {
     "name": "stdout",
     "output_type": "stream",
     "text": [
      "[CV]  max_depth=5, max_features=5, n_estimators=500, score=0.8487460815047022, total=  30.9s\n"
     ]
    },
    {
     "name": "stderr",
     "output_type": "stream",
     "text": [
      "[Parallel(n_jobs=8)]: Done 434 tasks      | elapsed:    3.2s\n"
     ]
    },
    {
     "name": "stdout",
     "output_type": "stream",
     "text": [
      "[CV] max_depth=5, max_features=10, n_estimators=500 ..................\n"
     ]
    },
    {
     "name": "stderr",
     "output_type": "stream",
     "text": [
      "[Parallel(n_jobs=8)]: Done 500 out of 500 | elapsed:    3.7s finished\n"
     ]
    },
    {
     "name": "stdout",
     "output_type": "stream",
     "text": [
      "[CV]  max_depth=5, max_features=5, n_estimators=500, score=0.8454153605015674, total=  31.6s\n",
      "[CV] max_depth=5, max_features=10, n_estimators=1000 .................\n"
     ]
    },
    {
     "name": "stderr",
     "output_type": "stream",
     "text": [
      "[Parallel(n_jobs=8)]: Done 434 tasks      | elapsed:    3.1s\n",
      "[Parallel(n_jobs=8)]: Done 500 out of 500 | elapsed:    3.5s finished\n"
     ]
    },
    {
     "name": "stdout",
     "output_type": "stream",
     "text": [
      "[CV]  max_depth=5, max_features=5, n_estimators=500, score=0.8567789968652038, total=  32.2s\n",
      "[CV] max_depth=5, max_features=10, n_estimators=1000 .................\n"
     ]
    },
    {
     "name": "stderr",
     "output_type": "stream",
     "text": [
      "[Parallel(n_jobs=-1)]: Done   9 tasks      | elapsed:   36.3s\n",
      "[Parallel(n_jobs=-1)]: Done 434 tasks      | elapsed:   24.4s\n",
      "[Parallel(n_jobs=-1)]: Done  34 tasks      | elapsed:    2.6s\n",
      "[Parallel(n_jobs=-1)]: Done 184 tasks      | elapsed:   17.7s\n",
      "[Parallel(n_jobs=-1)]: Done  34 tasks      | elapsed:    3.4s\n",
      "[Parallel(n_jobs=-1)]: Done  34 tasks      | elapsed:    4.5s\n",
      "[Parallel(n_jobs=-1)]: Done 784 tasks      | elapsed:   43.4s\n",
      "[Parallel(n_jobs=-1)]: Done  34 tasks      | elapsed:    4.6s\n",
      "[Parallel(n_jobs=-1)]: Done 784 tasks      | elapsed:   43.6s\n",
      "[Parallel(n_jobs=-1)]: Done 184 tasks      | elapsed:   18.9s\n",
      "[Parallel(n_jobs=-1)]: Done 784 tasks      | elapsed:   45.9s\n",
      "[Parallel(n_jobs=-1)]: Done 184 tasks      | elapsed:   21.9s\n",
      "[Parallel(n_jobs=-1)]: Done 1000 out of 1000 | elapsed:   58.6s finished\n",
      "[Parallel(n_jobs=8)]: Done  34 tasks      | elapsed:    0.1s\n",
      "[Parallel(n_jobs=-1)]: Done 1000 out of 1000 | elapsed:   58.9s finished\n",
      "[Parallel(n_jobs=8)]: Done  34 tasks      | elapsed:    0.2s\n",
      "[Parallel(n_jobs=8)]: Done 184 tasks      | elapsed:    0.8s\n",
      "[Parallel(n_jobs=8)]: Done 184 tasks      | elapsed:    1.0s\n",
      "[Parallel(n_jobs=8)]: Done 434 tasks      | elapsed:    2.0s\n",
      "[Parallel(n_jobs=8)]: Done 434 tasks      | elapsed:    2.1s\n",
      "[Parallel(n_jobs=-1)]: Done 184 tasks      | elapsed:   23.8s\n",
      "[Parallel(n_jobs=-1)]: Done 184 tasks      | elapsed:   23.9s\n",
      "[Parallel(n_jobs=8)]: Done 784 tasks      | elapsed:    4.0s\n",
      "[Parallel(n_jobs=8)]: Done 784 tasks      | elapsed:    3.9s\n",
      "[Parallel(n_jobs=8)]: Done 1000 out of 1000 | elapsed:    5.3s finished\n",
      "[Parallel(n_jobs=8)]: Done  34 tasks      | elapsed:    0.2s\n",
      "[Parallel(n_jobs=-1)]: Done 434 tasks      | elapsed:   48.7s\n",
      "[Parallel(n_jobs=8)]: Done 1000 out of 1000 | elapsed:    5.3s finished\n",
      "[Parallel(n_jobs=8)]: Done  34 tasks      | elapsed:    0.2s\n",
      "[Parallel(n_jobs=8)]: Done 184 tasks      | elapsed:    1.7s\n",
      "[Parallel(n_jobs=8)]: Done 184 tasks      | elapsed:    1.5s\n",
      "[Parallel(n_jobs=-1)]: Done 1000 out of 1000 | elapsed:  1.0min finished\n",
      "[Parallel(n_jobs=8)]: Done  34 tasks      | elapsed:    0.1s\n",
      "[Parallel(n_jobs=8)]: Done 434 tasks      | elapsed:    4.2s\n",
      "[Parallel(n_jobs=8)]: Done 434 tasks      | elapsed:    3.7s\n",
      "[Parallel(n_jobs=8)]: Done 184 tasks      | elapsed:    0.8s\n",
      "[Parallel(n_jobs=8)]: Done 434 tasks      | elapsed:    2.1s\n",
      "[Parallel(n_jobs=8)]: Done 784 tasks      | elapsed:    7.2s\n",
      "[Parallel(n_jobs=8)]: Done 784 tasks      | elapsed:    6.8s\n",
      "[Parallel(n_jobs=8)]: Done 784 tasks      | elapsed:    3.9s\n",
      "[Parallel(n_jobs=8)]: Done 1000 out of 1000 | elapsed:    4.8s finished\n",
      "[Parallel(n_jobs=8)]: Done  34 tasks      | elapsed:    0.2s\n",
      "[Parallel(n_jobs=-1)]: Done 500 out of 500 | elapsed:   57.4s finished\n",
      "[Parallel(n_jobs=8)]: Done 1000 out of 1000 | elapsed:    9.0s finished\n"
     ]
    },
    {
     "name": "stdout",
     "output_type": "stream",
     "text": [
      "[CV]  max_depth=5, max_features=5, n_estimators=1000, score=0.8479623824451411, total= 1.2min\n"
     ]
    },
    {
     "name": "stderr",
     "output_type": "stream",
     "text": [
      "[Parallel(n_jobs=8)]: Done  34 tasks      | elapsed:    0.1s\n"
     ]
    },
    {
     "name": "stdout",
     "output_type": "stream",
     "text": [
      "[CV] max_depth=5, max_features=10, n_estimators=1000 .................\n"
     ]
    },
    {
     "name": "stderr",
     "output_type": "stream",
     "text": [
      "[Parallel(n_jobs=8)]: Done 1000 out of 1000 | elapsed:    8.6s finished\n"
     ]
    },
    {
     "name": "stdout",
     "output_type": "stream",
     "text": [
      "[CV]  max_depth=5, max_features=5, n_estimators=1000, score=0.8413009404388715, total= 1.2min\n",
      "[CV] max_depth=5, max_features=sqrt, n_estimators=100 ................\n"
     ]
    },
    {
     "name": "stderr",
     "output_type": "stream",
     "text": [
      "[Parallel(n_jobs=8)]: Done 184 tasks      | elapsed:    0.7s\n",
      "[Parallel(n_jobs=8)]: Done 184 tasks      | elapsed:    1.2s\n",
      "[Parallel(n_jobs=8)]: Done 434 tasks      | elapsed:    1.7s\n",
      "[Parallel(n_jobs=8)]: Done 500 out of 500 | elapsed:    2.0s finished\n",
      "[Parallel(n_jobs=8)]: Done  34 tasks      | elapsed:    0.1s\n",
      "[Parallel(n_jobs=8)]: Done 434 tasks      | elapsed:    3.2s\n",
      "[Parallel(n_jobs=8)]: Done 184 tasks      | elapsed:    1.2s\n",
      "[Parallel(n_jobs=8)]: Done 434 tasks      | elapsed:    3.2s\n",
      "[Parallel(n_jobs=8)]: Done 784 tasks      | elapsed:    6.1s\n",
      "[Parallel(n_jobs=-1)]: Done 434 tasks      | elapsed:   50.3s\n",
      "[Parallel(n_jobs=8)]: Done 500 out of 500 | elapsed:    3.9s finished\n"
     ]
    },
    {
     "name": "stdout",
     "output_type": "stream",
     "text": [
      "[CV]  max_depth=5, max_features=10, n_estimators=500, score=0.8834247648902821, total= 1.1min\n",
      "[CV] max_depth=5, max_features=sqrt, n_estimators=100 ................\n"
     ]
    },
    {
     "name": "stderr",
     "output_type": "stream",
     "text": [
      "[Parallel(n_jobs=8)]: Done 1000 out of 1000 | elapsed:    7.7s finished\n"
     ]
    },
    {
     "name": "stdout",
     "output_type": "stream",
     "text": [
      "[CV]  max_depth=5, max_features=5, n_estimators=1000, score=0.8550156739811913, total= 1.3min\n",
      "[CV] max_depth=5, max_features=sqrt, n_estimators=100 ................\n"
     ]
    },
    {
     "name": "stderr",
     "output_type": "stream",
     "text": [
      "[Parallel(n_jobs=-1)]: Done  34 tasks      | elapsed:    6.2s\n",
      "[Parallel(n_jobs=-1)]: Done 434 tasks      | elapsed:   51.2s\n",
      "[Parallel(n_jobs=-1)]: Done 500 out of 500 | elapsed:   56.2s finished\n",
      "[Parallel(n_jobs=8)]: Done  34 tasks      | elapsed:    0.1s\n",
      "[Parallel(n_jobs=8)]: Done 184 tasks      | elapsed:    0.8s\n",
      "[Parallel(n_jobs=-1)]: Done  34 tasks      | elapsed:    5.6s\n",
      "[Parallel(n_jobs=8)]: Done 434 tasks      | elapsed:    1.8s\n",
      "[Parallel(n_jobs=8)]: Done 500 out of 500 | elapsed:    2.1s finished\n",
      "[Parallel(n_jobs=8)]: Done  34 tasks      | elapsed:    0.1s\n",
      "[Parallel(n_jobs=-1)]: Done  34 tasks      | elapsed:    6.0s\n",
      "[Parallel(n_jobs=8)]: Done 184 tasks      | elapsed:    1.2s\n",
      "[Parallel(n_jobs=-1)]: Done  34 tasks      | elapsed:    4.2s\n",
      "[Parallel(n_jobs=-1)]: Done 434 tasks      | elapsed:   51.9s\n",
      "[Parallel(n_jobs=-1)]: Done 500 out of 500 | elapsed:   58.2s finished\n",
      "[Parallel(n_jobs=8)]: Done  34 tasks      | elapsed:    0.1s\n",
      "[Parallel(n_jobs=8)]: Done 434 tasks      | elapsed:    3.3s\n",
      "[Parallel(n_jobs=-1)]: Done 434 tasks      | elapsed:   51.9s\n",
      "[Parallel(n_jobs=8)]: Done 184 tasks      | elapsed:    0.7s\n",
      "[Parallel(n_jobs=8)]: Done 500 out of 500 | elapsed:    3.7s finished\n"
     ]
    },
    {
     "name": "stdout",
     "output_type": "stream",
     "text": [
      "[CV]  max_depth=5, max_features=10, n_estimators=500, score=0.8781347962382445, total= 1.1min\n",
      "[CV] max_depth=5, max_features=sqrt, n_estimators=500 ................\n"
     ]
    },
    {
     "name": "stderr",
     "output_type": "stream",
     "text": [
      "[Parallel(n_jobs=-1)]: Done 100 out of 100 | elapsed:   16.2s finished\n",
      "[Parallel(n_jobs=8)]: Done  34 tasks      | elapsed:    0.1s\n",
      "[Parallel(n_jobs=8)]: Done 100 out of 100 | elapsed:    0.4s finished\n",
      "[Parallel(n_jobs=8)]: Done 434 tasks      | elapsed:    1.8s\n",
      "[Parallel(n_jobs=8)]: Done  34 tasks      | elapsed:    0.2s\n",
      "[Parallel(n_jobs=8)]: Done 500 out of 500 | elapsed:    2.2s finished\n",
      "[Parallel(n_jobs=8)]: Done  34 tasks      | elapsed:    0.1s\n",
      "[Parallel(n_jobs=8)]: Done 100 out of 100 | elapsed:    0.7s finished\n"
     ]
    },
    {
     "name": "stdout",
     "output_type": "stream",
     "text": [
      "[CV]  max_depth=5, max_features=sqrt, n_estimators=100, score=0.8949843260188087, total=  18.6s\n",
      "[CV] max_depth=5, max_features=sqrt, n_estimators=500 ................\n"
     ]
    },
    {
     "name": "stderr",
     "output_type": "stream",
     "text": [
      "[Parallel(n_jobs=8)]: Done 184 tasks      | elapsed:    1.1s\n",
      "[Parallel(n_jobs=8)]: Done 434 tasks      | elapsed:    2.7s\n",
      "[Parallel(n_jobs=8)]: Done 500 out of 500 | elapsed:    3.1s finished\n"
     ]
    },
    {
     "name": "stdout",
     "output_type": "stream",
     "text": [
      "[CV]  max_depth=5, max_features=10, n_estimators=500, score=0.8844043887147336, total= 1.1min\n",
      "[CV] max_depth=5, max_features=sqrt, n_estimators=500 ................\n"
     ]
    },
    {
     "name": "stderr",
     "output_type": "stream",
     "text": [
      "[Parallel(n_jobs=-1)]: Done  16 tasks      | elapsed:  1.7min\n",
      "[Parallel(n_jobs=-1)]: Done 100 out of 100 | elapsed:   15.3s finished\n",
      "[Parallel(n_jobs=8)]: Done  34 tasks      | elapsed:    0.1s\n",
      "[Parallel(n_jobs=8)]: Done 100 out of 100 | elapsed:    0.3s finished\n",
      "[Parallel(n_jobs=8)]: Done  34 tasks      | elapsed:    0.1s\n",
      "[Parallel(n_jobs=-1)]: Done 100 out of 100 | elapsed:   15.2s finished\n",
      "[Parallel(n_jobs=8)]: Done 100 out of 100 | elapsed:    0.5s finished\n",
      "[Parallel(n_jobs=8)]: Done  34 tasks      | elapsed:    0.1s\n"
     ]
    },
    {
     "name": "stdout",
     "output_type": "stream",
     "text": [
      "[CV]  max_depth=5, max_features=sqrt, n_estimators=100, score=0.8904780564263323, total=  17.5s\n",
      "[CV] max_depth=5, max_features=sqrt, n_estimators=1000 ...............\n"
     ]
    },
    {
     "name": "stderr",
     "output_type": "stream",
     "text": [
      "[Parallel(n_jobs=8)]: Done 100 out of 100 | elapsed:    0.3s finished\n",
      "[Parallel(n_jobs=8)]: Done  34 tasks      | elapsed:    0.2s\n",
      "[Parallel(n_jobs=8)]: Done 100 out of 100 | elapsed:    0.5s finished\n"
     ]
    },
    {
     "name": "stdout",
     "output_type": "stream",
     "text": [
      "[CV]  max_depth=5, max_features=sqrt, n_estimators=100, score=0.8928291536050157, total=  17.4s\n",
      "[CV] max_depth=5, max_features=sqrt, n_estimators=1000 ...............\n"
     ]
    },
    {
     "name": "stderr",
     "output_type": "stream",
     "text": [
      "[Parallel(n_jobs=-1)]: Done  34 tasks      | elapsed:    4.3s\n",
      "[Parallel(n_jobs=-1)]: Done 184 tasks      | elapsed:   16.3s\n",
      "[Parallel(n_jobs=-1)]: Done  34 tasks      | elapsed:    4.4s\n",
      "[Parallel(n_jobs=-1)]: Done  34 tasks      | elapsed:    4.7s\n",
      "[Parallel(n_jobs=-1)]: Done  34 tasks      | elapsed:    6.0s\n",
      "[Parallel(n_jobs=-1)]: Done  34 tasks      | elapsed:    6.3s\n",
      "[Parallel(n_jobs=-1)]: Done 784 tasks      | elapsed:  1.4min\n",
      "[Parallel(n_jobs=-1)]: Done 784 tasks      | elapsed:  1.4min\n",
      "[Parallel(n_jobs=-1)]: Done 184 tasks      | elapsed:   26.8s\n",
      "[Parallel(n_jobs=-1)]: Done 184 tasks      | elapsed:   27.1s\n",
      "[Parallel(n_jobs=-1)]: Done 434 tasks      | elapsed:   41.5s\n",
      "[Parallel(n_jobs=-1)]: Done 184 tasks      | elapsed:   28.6s\n",
      "[Parallel(n_jobs=-1)]: Done 184 tasks      | elapsed:   30.9s\n",
      "[Parallel(n_jobs=-1)]: Done 184 tasks      | elapsed:   31.4s\n",
      "[Parallel(n_jobs=-1)]: Done 1000 out of 1000 | elapsed:  1.8min finished\n",
      "[Parallel(n_jobs=8)]: Done  34 tasks      | elapsed:    0.1s\n",
      "[Parallel(n_jobs=8)]: Done 184 tasks      | elapsed:    0.7s\n",
      "[Parallel(n_jobs=-1)]: Done 1000 out of 1000 | elapsed:  1.8min finished\n",
      "[Parallel(n_jobs=8)]: Done  34 tasks      | elapsed:    0.1s\n",
      "[Parallel(n_jobs=8)]: Done 434 tasks      | elapsed:    1.8s\n",
      "[Parallel(n_jobs=8)]: Done 184 tasks      | elapsed:    0.7s\n",
      "[Parallel(n_jobs=8)]: Done 434 tasks      | elapsed:    1.7s\n",
      "[Parallel(n_jobs=8)]: Done 784 tasks      | elapsed:    3.2s\n",
      "[Parallel(n_jobs=8)]: Done 1000 out of 1000 | elapsed:    4.2s finished\n",
      "[Parallel(n_jobs=8)]: Done  34 tasks      | elapsed:    0.1s\n",
      "[Parallel(n_jobs=8)]: Done 784 tasks      | elapsed:    3.5s\n",
      "[Parallel(n_jobs=8)]: Done 184 tasks      | elapsed:    1.3s\n",
      "[Parallel(n_jobs=8)]: Done 1000 out of 1000 | elapsed:    4.4s finished\n",
      "[Parallel(n_jobs=8)]: Done  34 tasks      | elapsed:    0.2s\n",
      "[Parallel(n_jobs=8)]: Done 184 tasks      | elapsed:    1.3s\n",
      "[Parallel(n_jobs=8)]: Done 434 tasks      | elapsed:    3.1s\n",
      "[Parallel(n_jobs=8)]: Done 434 tasks      | elapsed:    3.4s\n",
      "[Parallel(n_jobs=8)]: Done 784 tasks      | elapsed:    6.2s\n",
      "[Parallel(n_jobs=8)]: Done 784 tasks      | elapsed:    6.3s\n",
      "[Parallel(n_jobs=8)]: Done 1000 out of 1000 | elapsed:    8.0s finished\n"
     ]
    },
    {
     "name": "stdout",
     "output_type": "stream",
     "text": [
      "[CV]  max_depth=5, max_features=10, n_estimators=1000, score=0.8842084639498433, total= 2.0min\n",
      "[CV] max_depth=5, max_features=sqrt, n_estimators=1000 ...............\n"
     ]
    },
    {
     "name": "stderr",
     "output_type": "stream",
     "text": [
      "[Parallel(n_jobs=8)]: Done 1000 out of 1000 | elapsed:    7.8s finished\n"
     ]
    },
    {
     "name": "stdout",
     "output_type": "stream",
     "text": [
      "[CV]  max_depth=5, max_features=10, n_estimators=1000, score=0.8800940438871473, total= 2.1min\n",
      "[CV] max_depth=40, max_features=5, n_estimators=100 ..................\n"
     ]
    },
    {
     "name": "stderr",
     "output_type": "stream",
     "text": [
      "[Parallel(n_jobs=-1)]: Done 784 tasks      | elapsed:  1.3min\n",
      "[Parallel(n_jobs=-1)]: Done  34 tasks      | elapsed:    4.5s\n",
      "[Parallel(n_jobs=-1)]: Done 434 tasks      | elapsed:  1.2min\n",
      "[Parallel(n_jobs=-1)]: Done 434 tasks      | elapsed:  1.2min\n",
      "[Parallel(n_jobs=-1)]: Done 434 tasks      | elapsed:  1.2min\n",
      "[Parallel(n_jobs=-1)]: Done 100 out of 100 | elapsed:   13.4s finished\n",
      "[Parallel(n_jobs=8)]: Done  34 tasks      | elapsed:    0.1s\n",
      "[Parallel(n_jobs=8)]: Done 100 out of 100 | elapsed:    0.4s finished\n",
      "[Parallel(n_jobs=8)]: Done  34 tasks      | elapsed:    0.2s\n",
      "[Parallel(n_jobs=8)]: Done 100 out of 100 | elapsed:    0.8s finished\n"
     ]
    },
    {
     "name": "stdout",
     "output_type": "stream",
     "text": [
      "[CV]  max_depth=40, max_features=5, n_estimators=100, score=0.9382836990595611, total=  15.7s\n",
      "[CV] max_depth=40, max_features=5, n_estimators=100 ..................\n"
     ]
    },
    {
     "name": "stderr",
     "output_type": "stream",
     "text": [
      "[Parallel(n_jobs=-1)]: Done 500 out of 500 | elapsed:  1.3min finished\n",
      "[Parallel(n_jobs=8)]: Done  34 tasks      | elapsed:    0.1s\n",
      "[Parallel(n_jobs=-1)]: Done  34 tasks      | elapsed:    6.3s\n",
      "[Parallel(n_jobs=8)]: Done 184 tasks      | elapsed:    0.8s\n",
      "[Parallel(n_jobs=-1)]: Done 500 out of 500 | elapsed:  1.3min finished\n",
      "[Parallel(n_jobs=8)]: Done 434 tasks      | elapsed:    1.9s\n",
      "[Parallel(n_jobs=8)]: Done  34 tasks      | elapsed:    0.1s\n",
      "[Parallel(n_jobs=8)]: Done 500 out of 500 | elapsed:    2.2s finished\n",
      "[Parallel(n_jobs=8)]: Done  34 tasks      | elapsed:    0.1s\n",
      "[Parallel(n_jobs=8)]: Done 184 tasks      | elapsed:    0.7s\n",
      "[Parallel(n_jobs=-1)]: Done 434 tasks      | elapsed:  1.2min\n",
      "[Parallel(n_jobs=8)]: Done 184 tasks      | elapsed:    1.4s\n",
      "[Parallel(n_jobs=8)]: Done 434 tasks      | elapsed:    1.8s\n",
      "[Parallel(n_jobs=8)]: Done 500 out of 500 | elapsed:    2.2s finished\n",
      "[Parallel(n_jobs=8)]: Done  34 tasks      | elapsed:    0.1s\n",
      "[Parallel(n_jobs=8)]: Done 434 tasks      | elapsed:    3.0s\n",
      "[Parallel(n_jobs=-1)]: Done 434 tasks      | elapsed:  1.2min\n",
      "[Parallel(n_jobs=8)]: Done 184 tasks      | elapsed:    1.3s\n",
      "[Parallel(n_jobs=-1)]: Done 500 out of 500 | elapsed:  1.4min finished\n",
      "[Parallel(n_jobs=8)]: Done  34 tasks      | elapsed:    0.1s\n",
      "[Parallel(n_jobs=8)]: Done 500 out of 500 | elapsed:    3.6s finished\n"
     ]
    },
    {
     "name": "stdout",
     "output_type": "stream",
     "text": [
      "[CV]  max_depth=5, max_features=sqrt, n_estimators=500, score=0.8945924764890282, total= 1.5min\n",
      "[CV] max_depth=40, max_features=5, n_estimators=100 ..................\n"
     ]
    },
    {
     "name": "stderr",
     "output_type": "stream",
     "text": [
      "[Parallel(n_jobs=8)]: Done 184 tasks      | elapsed:    0.9s\n",
      "[Parallel(n_jobs=-1)]: Done  34 tasks      | elapsed:    5.4s\n",
      "[Parallel(n_jobs=8)]: Done 434 tasks      | elapsed:    3.1s\n",
      "[Parallel(n_jobs=8)]: Done 434 tasks      | elapsed:    1.8s\n",
      "[Parallel(n_jobs=8)]: Done 500 out of 500 | elapsed:    3.7s finished\n",
      "[Parallel(n_jobs=8)]: Done 500 out of 500 | elapsed:    2.2s finished\n"
     ]
    },
    {
     "name": "stdout",
     "output_type": "stream",
     "text": [
      "[CV]  max_depth=5, max_features=sqrt, n_estimators=500, score=0.8910658307210031, total= 1.5min\n",
      "[CV] max_depth=40, max_features=5, n_estimators=500 ..................\n"
     ]
    },
    {
     "name": "stderr",
     "output_type": "stream",
     "text": [
      "[Parallel(n_jobs=8)]: Done  34 tasks      | elapsed:    0.1s\n",
      "[Parallel(n_jobs=8)]: Done 184 tasks      | elapsed:    1.2s\n",
      "[Parallel(n_jobs=8)]: Done 434 tasks      | elapsed:    2.7s\n",
      "[Parallel(n_jobs=-1)]: Done 1000 out of 1000 | elapsed:  1.7min finished\n",
      "[Parallel(n_jobs=8)]: Done  34 tasks      | elapsed:    0.1s\n",
      "[Parallel(n_jobs=8)]: Done 500 out of 500 | elapsed:    3.3s finished\n"
     ]
    },
    {
     "name": "stdout",
     "output_type": "stream",
     "text": [
      "[CV]  max_depth=5, max_features=sqrt, n_estimators=500, score=0.8926332288401254, total= 1.5min\n",
      "[CV] max_depth=40, max_features=5, n_estimators=500 ..................\n"
     ]
    },
    {
     "name": "stderr",
     "output_type": "stream",
     "text": [
      "[Parallel(n_jobs=8)]: Done 184 tasks      | elapsed:    0.7s\n",
      "[Parallel(n_jobs=-1)]: Done  34 tasks      | elapsed:    4.5s\n",
      "[Parallel(n_jobs=8)]: Done 434 tasks      | elapsed:    1.7s\n",
      "[Parallel(n_jobs=8)]: Done 784 tasks      | elapsed:    3.2s\n",
      "[Parallel(n_jobs=8)]: Done 1000 out of 1000 | elapsed:    4.3s finished\n",
      "[Parallel(n_jobs=8)]: Done  34 tasks      | elapsed:    0.1s\n",
      "[Parallel(n_jobs=-1)]: Done 100 out of 100 | elapsed:   13.8s finished\n",
      "[Parallel(n_jobs=8)]: Done  34 tasks      | elapsed:    0.1s\n",
      "[Parallel(n_jobs=8)]: Done 100 out of 100 | elapsed:    0.4s finished\n",
      "[Parallel(n_jobs=8)]: Done  34 tasks      | elapsed:    0.1s\n",
      "[Parallel(n_jobs=8)]: Done 100 out of 100 | elapsed:    0.7s finished\n",
      "[Parallel(n_jobs=8)]: Done 184 tasks      | elapsed:    1.5s\n"
     ]
    },
    {
     "name": "stdout",
     "output_type": "stream",
     "text": [
      "[CV]  max_depth=40, max_features=5, n_estimators=100, score=0.9369122257053292, total=  16.4s\n",
      "[CV] max_depth=40, max_features=5, n_estimators=500 ..................\n"
     ]
    },
    {
     "name": "stderr",
     "output_type": "stream",
     "text": [
      "[Parallel(n_jobs=-1)]: Done  25 tasks      | elapsed:  3.3min\n",
      "[Parallel(n_jobs=8)]: Done 434 tasks      | elapsed:    3.2s\n",
      "[Parallel(n_jobs=-1)]: Done  34 tasks      | elapsed:    4.9s\n",
      "[Parallel(n_jobs=-1)]: Done 100 out of 100 | elapsed:   12.9s finished\n",
      "[Parallel(n_jobs=8)]: Done  34 tasks      | elapsed:    0.1s\n",
      "[Parallel(n_jobs=8)]: Done 784 tasks      | elapsed:    5.8s\n",
      "[Parallel(n_jobs=8)]: Done 100 out of 100 | elapsed:    0.5s finished\n",
      "[Parallel(n_jobs=8)]: Done  34 tasks      | elapsed:    0.1s\n",
      "[Parallel(n_jobs=8)]: Done 100 out of 100 | elapsed:    0.6s finished\n"
     ]
    },
    {
     "name": "stdout",
     "output_type": "stream",
     "text": [
      "[CV]  max_depth=40, max_features=5, n_estimators=100, score=0.9435736677115988, total=  15.4s\n",
      "[CV] max_depth=40, max_features=5, n_estimators=1000 .................\n"
     ]
    },
    {
     "name": "stderr",
     "output_type": "stream",
     "text": [
      "[Parallel(n_jobs=-1)]: Done  34 tasks      | elapsed:    4.7s\n",
      "[Parallel(n_jobs=-1)]: Done 184 tasks      | elapsed:   28.4s\n",
      "[Parallel(n_jobs=8)]: Done 1000 out of 1000 | elapsed:    7.4s finished\n"
     ]
    },
    {
     "name": "stdout",
     "output_type": "stream",
     "text": [
      "[CV]  max_depth=5, max_features=10, n_estimators=1000, score=0.885384012539185, total= 2.0min\n",
      "[CV] max_depth=40, max_features=5, n_estimators=1000 .................\n"
     ]
    },
    {
     "name": "stderr",
     "output_type": "stream",
     "text": [
      "[Parallel(n_jobs=-1)]: Done  34 tasks      | elapsed:    4.2s\n",
      "[Parallel(n_jobs=-1)]: Done 184 tasks      | elapsed:   23.0s\n",
      "[Parallel(n_jobs=-1)]: Done  34 tasks      | elapsed:    5.2s\n",
      "[Parallel(n_jobs=-1)]: Done  34 tasks      | elapsed:    5.4s\n",
      "[Parallel(n_jobs=-1)]: Done 184 tasks      | elapsed:   23.1s\n",
      "[Parallel(n_jobs=-1)]: Done 184 tasks      | elapsed:   23.1s\n",
      "[Parallel(n_jobs=-1)]: Done 784 tasks      | elapsed:  2.1min\n",
      "[Parallel(n_jobs=-1)]: Done 784 tasks      | elapsed:  2.1min\n",
      "[Parallel(n_jobs=-1)]: Done 184 tasks      | elapsed:   25.6s\n",
      "[Parallel(n_jobs=-1)]: Done 184 tasks      | elapsed:   25.9s\n",
      "[Parallel(n_jobs=-1)]: Done 434 tasks      | elapsed:  1.1min\n",
      "[Parallel(n_jobs=-1)]: Done 434 tasks      | elapsed:   57.5s\n",
      "[Parallel(n_jobs=-1)]: Done 434 tasks      | elapsed:   58.5s\n",
      "[Parallel(n_jobs=-1)]: Done 500 out of 500 | elapsed:  1.1min finished\n",
      "[Parallel(n_jobs=8)]: Done  34 tasks      | elapsed:    0.1s\n",
      "[Parallel(n_jobs=-1)]: Done 434 tasks      | elapsed:   57.4s\n",
      "[Parallel(n_jobs=8)]: Done 184 tasks      | elapsed:    0.8s\n",
      "[Parallel(n_jobs=8)]: Done 434 tasks      | elapsed:    1.9s\n",
      "[Parallel(n_jobs=8)]: Done 500 out of 500 | elapsed:    2.3s finished\n",
      "[Parallel(n_jobs=8)]: Done  34 tasks      | elapsed:    0.2s\n",
      "[Parallel(n_jobs=8)]: Done 184 tasks      | elapsed:    1.5s\n",
      "[Parallel(n_jobs=-1)]: Done 500 out of 500 | elapsed:  1.1min finished\n",
      "[Parallel(n_jobs=8)]: Done  34 tasks      | elapsed:    0.1s\n",
      "[Parallel(n_jobs=8)]: Done 434 tasks      | elapsed:    3.4s\n",
      "[Parallel(n_jobs=8)]: Done 184 tasks      | elapsed:    0.7s\n",
      "[Parallel(n_jobs=8)]: Done 500 out of 500 | elapsed:    4.1s finished\n"
     ]
    },
    {
     "name": "stdout",
     "output_type": "stream",
     "text": [
      "[CV]  max_depth=40, max_features=5, n_estimators=500, score=0.9396551724137931, total= 1.3min\n",
      "[CV] max_depth=40, max_features=5, n_estimators=1000 .................\n"
     ]
    },
    {
     "name": "stderr",
     "output_type": "stream",
     "text": [
      "[Parallel(n_jobs=8)]: Done 434 tasks      | elapsed:    1.9s\n",
      "[Parallel(n_jobs=8)]: Done 500 out of 500 | elapsed:    2.3s finished\n",
      "[Parallel(n_jobs=8)]: Done  34 tasks      | elapsed:    0.1s\n",
      "[Parallel(n_jobs=8)]: Done 184 tasks      | elapsed:    1.2s\n",
      "[Parallel(n_jobs=-1)]: Done 500 out of 500 | elapsed:  1.1min finished\n",
      "[Parallel(n_jobs=8)]: Done  34 tasks      | elapsed:    0.1s\n",
      "[Parallel(n_jobs=8)]: Done 184 tasks      | elapsed:    0.7s\n",
      "[Parallel(n_jobs=-1)]: Done 1000 out of 1000 | elapsed:  2.7min finished\n",
      "[Parallel(n_jobs=8)]: Done  34 tasks      | elapsed:    0.1s\n",
      "[Parallel(n_jobs=8)]: Done 434 tasks      | elapsed:    3.2s\n",
      "[Parallel(n_jobs=8)]: Done 434 tasks      | elapsed:    1.7s\n",
      "[Parallel(n_jobs=8)]: Done 184 tasks      | elapsed:    0.7s\n",
      "[Parallel(n_jobs=8)]: Done 500 out of 500 | elapsed:    3.6s finished\n",
      "[Parallel(n_jobs=8)]: Done 500 out of 500 | elapsed:    2.1s finished\n"
     ]
    },
    {
     "name": "stdout",
     "output_type": "stream",
     "text": [
      "[CV]  max_depth=40, max_features=5, n_estimators=500, score=0.9392633228840125, total= 1.3min\n"
     ]
    },
    {
     "name": "stderr",
     "output_type": "stream",
     "text": [
      "[Parallel(n_jobs=8)]: Done  34 tasks      | elapsed:    0.1s\n",
      "[Parallel(n_jobs=-1)]: Done 1000 out of 1000 | elapsed:  2.7min finished\n"
     ]
    },
    {
     "name": "stdout",
     "output_type": "stream",
     "text": [
      "[CV] max_depth=40, max_features=10, n_estimators=100 .................\n"
     ]
    },
    {
     "name": "stderr",
     "output_type": "stream",
     "text": [
      "[Parallel(n_jobs=8)]: Done  34 tasks      | elapsed:    0.1s\n",
      "[Parallel(n_jobs=-1)]: Done 434 tasks      | elapsed:  1.0min\n",
      "[Parallel(n_jobs=8)]: Done 434 tasks      | elapsed:    1.7s\n",
      "[Parallel(n_jobs=8)]: Done 184 tasks      | elapsed:    0.7s\n",
      "[Parallel(n_jobs=8)]: Done 184 tasks      | elapsed:    1.2s\n",
      "[Parallel(n_jobs=8)]: Done 434 tasks      | elapsed:    1.6s\n",
      "[Parallel(n_jobs=-1)]: Done 434 tasks      | elapsed:  1.0min\n",
      "[Parallel(n_jobs=8)]: Done 784 tasks      | elapsed:    3.0s\n",
      "[Parallel(n_jobs=8)]: Done 1000 out of 1000 | elapsed:    3.9s finished\n",
      "[Parallel(n_jobs=8)]: Done 434 tasks      | elapsed:    3.1s\n",
      "[Parallel(n_jobs=8)]: Done  34 tasks      | elapsed:    0.1s\n",
      "[Parallel(n_jobs=8)]: Done 784 tasks      | elapsed:    3.2s\n",
      "[Parallel(n_jobs=8)]: Done 500 out of 500 | elapsed:    3.6s finished\n"
     ]
    },
    {
     "name": "stdout",
     "output_type": "stream",
     "text": [
      "[CV]  max_depth=40, max_features=5, n_estimators=500, score=0.9465125391849529, total= 1.3min\n",
      "[CV] max_depth=40, max_features=10, n_estimators=100 .................\n"
     ]
    },
    {
     "name": "stderr",
     "output_type": "stream",
     "text": [
      "[Parallel(n_jobs=8)]: Done 184 tasks      | elapsed:    1.2s\n",
      "[Parallel(n_jobs=8)]: Done 1000 out of 1000 | elapsed:    4.1s finished\n",
      "[Parallel(n_jobs=8)]: Done  34 tasks      | elapsed:    0.1s\n",
      "[Parallel(n_jobs=8)]: Done 184 tasks      | elapsed:    0.9s\n",
      "[Parallel(n_jobs=8)]: Done 434 tasks      | elapsed:    3.3s\n",
      "[Parallel(n_jobs=8)]: Done 434 tasks      | elapsed:    2.6s\n",
      "[Parallel(n_jobs=8)]: Done 784 tasks      | elapsed:    5.8s\n",
      "[Parallel(n_jobs=8)]: Done 784 tasks      | elapsed:    5.2s\n",
      "[Parallel(n_jobs=8)]: Done 1000 out of 1000 | elapsed:    7.7s finished\n"
     ]
    },
    {
     "name": "stdout",
     "output_type": "stream",
     "text": [
      "[CV]  max_depth=5, max_features=sqrt, n_estimators=1000, score=0.8943965517241379, total= 2.9min\n",
      "[CV] max_depth=40, max_features=10, n_estimators=100 .................\n"
     ]
    },
    {
     "name": "stderr",
     "output_type": "stream",
     "text": [
      "[Parallel(n_jobs=8)]: Done 1000 out of 1000 | elapsed:    7.1s finished\n"
     ]
    },
    {
     "name": "stdout",
     "output_type": "stream",
     "text": [
      "[CV]  max_depth=5, max_features=sqrt, n_estimators=1000, score=0.891653605015674, total= 2.9min\n",
      "[CV] max_depth=40, max_features=10, n_estimators=500 .................\n"
     ]
    },
    {
     "name": "stderr",
     "output_type": "stream",
     "text": [
      "[Parallel(n_jobs=-1)]: Done  34 tasks      | elapsed:    4.9s\n",
      "[Parallel(n_jobs=-1)]: Done  34 tasks      | elapsed:   10.4s\n",
      "[Parallel(n_jobs=-1)]: Done  34 tasks      | elapsed:   10.4s\n",
      "[Parallel(n_jobs=-1)]: Done  34 tasks      | elapsed:   10.2s\n",
      "[Parallel(n_jobs=-1)]: Done 784 tasks      | elapsed:  2.0min\n",
      "[Parallel(n_jobs=-1)]: Done  34 tasks      | elapsed:   11.2s\n",
      "[Parallel(n_jobs=-1)]: Done 100 out of 100 | elapsed:   28.8s finished\n",
      "[Parallel(n_jobs=8)]: Done  34 tasks      | elapsed:    0.1s\n",
      "[Parallel(n_jobs=8)]: Done 100 out of 100 | elapsed:    0.4s finished\n",
      "[Parallel(n_jobs=8)]: Done  34 tasks      | elapsed:    0.1s\n",
      "[Parallel(n_jobs=-1)]: Done 184 tasks      | elapsed:   24.9s\n",
      "[Parallel(n_jobs=8)]: Done 100 out of 100 | elapsed:    0.8s finished\n"
     ]
    },
    {
     "name": "stdout",
     "output_type": "stream",
     "text": [
      "[CV]  max_depth=40, max_features=10, n_estimators=100, score=0.9390673981191222, total=  31.7s\n",
      "[CV] max_depth=40, max_features=10, n_estimators=500 .................\n"
     ]
    },
    {
     "name": "stderr",
     "output_type": "stream",
     "text": [
      "[Parallel(n_jobs=-1)]: Done 100 out of 100 | elapsed:   30.6s finished\n",
      "[Parallel(n_jobs=8)]: Done  34 tasks      | elapsed:    0.1s\n",
      "[Parallel(n_jobs=8)]: Done 100 out of 100 | elapsed:    0.4s finished\n",
      "[Parallel(n_jobs=8)]: Done  34 tasks      | elapsed:    0.1s\n",
      "[Parallel(n_jobs=8)]: Done 100 out of 100 | elapsed:    0.7s finished\n"
     ]
    },
    {
     "name": "stdout",
     "output_type": "stream",
     "text": [
      "[CV]  max_depth=40, max_features=10, n_estimators=100, score=0.9420062695924765, total=  33.1s\n",
      "[CV] max_depth=40, max_features=10, n_estimators=500 .................\n"
     ]
    },
    {
     "name": "stderr",
     "output_type": "stream",
     "text": [
      "[Parallel(n_jobs=-1)]: Done  34 tasks      | elapsed:  5.2min\n",
      "[Parallel(n_jobs=-1)]: Done 100 out of 100 | elapsed:   27.8s finished\n",
      "[Parallel(n_jobs=8)]: Done  34 tasks      | elapsed:    0.1s\n",
      "[Parallel(n_jobs=8)]: Done 100 out of 100 | elapsed:    0.4s finished\n",
      "[Parallel(n_jobs=8)]: Done  34 tasks      | elapsed:    0.2s\n",
      "[Parallel(n_jobs=8)]: Done 100 out of 100 | elapsed:    0.7s finished\n"
     ]
    },
    {
     "name": "stdout",
     "output_type": "stream",
     "text": [
      "[CV]  max_depth=40, max_features=10, n_estimators=100, score=0.9471003134796239, total=  30.2s\n",
      "[CV] max_depth=40, max_features=10, n_estimators=1000 ................\n"
     ]
    },
    {
     "name": "stderr",
     "output_type": "stream",
     "text": [
      "[Parallel(n_jobs=-1)]: Done 784 tasks      | elapsed:  1.8min\n",
      "[Parallel(n_jobs=-1)]: Done 784 tasks      | elapsed:  1.8min\n",
      "[Parallel(n_jobs=-1)]: Done  34 tasks      | elapsed:    9.7s\n",
      "[Parallel(n_jobs=-1)]: Done  34 tasks      | elapsed:    9.5s\n",
      "[Parallel(n_jobs=-1)]: Done 1000 out of 1000 | elapsed:  2.6min finished\n",
      "[Parallel(n_jobs=8)]: Done  34 tasks      | elapsed:    0.1s\n",
      "[Parallel(n_jobs=8)]: Done 184 tasks      | elapsed:    0.7s\n",
      "[Parallel(n_jobs=8)]: Done 434 tasks      | elapsed:    1.7s\n",
      "[Parallel(n_jobs=8)]: Done 784 tasks      | elapsed:    3.2s\n",
      "[Parallel(n_jobs=8)]: Done 1000 out of 1000 | elapsed:    4.2s finished\n",
      "[Parallel(n_jobs=8)]: Done  34 tasks      | elapsed:    0.1s\n",
      "[Parallel(n_jobs=8)]: Done 184 tasks      | elapsed:    1.3s\n",
      "[Parallel(n_jobs=8)]: Done 434 tasks      | elapsed:    3.2s\n",
      "[Parallel(n_jobs=-1)]: Done 434 tasks      | elapsed:   56.9s\n",
      "[Parallel(n_jobs=-1)]: Done  34 tasks      | elapsed:   11.9s\n",
      "[Parallel(n_jobs=8)]: Done 784 tasks      | elapsed:    6.0s\n",
      "[Parallel(n_jobs=8)]: Done 1000 out of 1000 | elapsed:    7.6s finished\n"
     ]
    },
    {
     "name": "stdout",
     "output_type": "stream",
     "text": [
      "[CV]  max_depth=5, max_features=sqrt, n_estimators=1000, score=0.8920454545454546, total= 2.8min\n",
      "[CV] max_depth=40, max_features=10, n_estimators=1000 ................\n"
     ]
    },
    {
     "name": "stderr",
     "output_type": "stream",
     "text": [
      "[Parallel(n_jobs=-1)]: Done 184 tasks      | elapsed:   53.0s\n",
      "[Parallel(n_jobs=-1)]: Done 1000 out of 1000 | elapsed:  2.2min finished\n",
      "[Parallel(n_jobs=8)]: Done  34 tasks      | elapsed:    0.1s\n",
      "[Parallel(n_jobs=8)]: Done 184 tasks      | elapsed:    0.7s\n",
      "[Parallel(n_jobs=8)]: Done 434 tasks      | elapsed:    1.8s\n",
      "[Parallel(n_jobs=-1)]: Done 1000 out of 1000 | elapsed:  2.3min finished\n",
      "[Parallel(n_jobs=8)]: Done  34 tasks      | elapsed:    0.1s\n",
      "[Parallel(n_jobs=8)]: Done 784 tasks      | elapsed:    3.4s\n",
      "[Parallel(n_jobs=8)]: Done 184 tasks      | elapsed:    0.7s\n",
      "[Parallel(n_jobs=8)]: Done 1000 out of 1000 | elapsed:    4.4s finished\n",
      "[Parallel(n_jobs=8)]: Done  34 tasks      | elapsed:    0.2s\n",
      "[Parallel(n_jobs=8)]: Done 434 tasks      | elapsed:    1.7s\n",
      "[Parallel(n_jobs=8)]: Done 184 tasks      | elapsed:    1.3s\n",
      "[Parallel(n_jobs=8)]: Done 784 tasks      | elapsed:    3.7s\n",
      "[Parallel(n_jobs=8)]: Done 434 tasks      | elapsed:    3.3s\n",
      "[Parallel(n_jobs=8)]: Done 1000 out of 1000 | elapsed:    4.9s finished\n",
      "[Parallel(n_jobs=8)]: Done  34 tasks      | elapsed:    0.2s\n",
      "[Parallel(n_jobs=8)]: Done 184 tasks      | elapsed:    1.3s\n",
      "[Parallel(n_jobs=8)]: Done 784 tasks      | elapsed:    6.7s\n",
      "[Parallel(n_jobs=8)]: Done 434 tasks      | elapsed:    3.4s\n",
      "[Parallel(n_jobs=8)]: Done 1000 out of 1000 | elapsed:    8.4s finished\n"
     ]
    },
    {
     "name": "stdout",
     "output_type": "stream",
     "text": [
      "[CV]  max_depth=40, max_features=5, n_estimators=1000, score=0.9404388714733543, total= 2.5min\n",
      "[CV] max_depth=40, max_features=10, n_estimators=1000 ................\n"
     ]
    },
    {
     "name": "stderr",
     "output_type": "stream",
     "text": [
      "[Parallel(n_jobs=8)]: Done 784 tasks      | elapsed:    6.1s\n",
      "[Parallel(n_jobs=8)]: Done 1000 out of 1000 | elapsed:    7.8s finished\n"
     ]
    },
    {
     "name": "stdout",
     "output_type": "stream",
     "text": [
      "[CV]  max_depth=40, max_features=5, n_estimators=1000, score=0.9398510971786834, total= 2.5min\n",
      "[CV] max_depth=40, max_features=sqrt, n_estimators=100 ...............\n"
     ]
    },
    {
     "name": "stderr",
     "output_type": "stream",
     "text": [
      "[Parallel(n_jobs=-1)]: Done  34 tasks      | elapsed:   11.9s\n",
      "[Parallel(n_jobs=-1)]: Done 184 tasks      | elapsed:   53.7s\n",
      "[Parallel(n_jobs=-1)]: Done 184 tasks      | elapsed:   52.3s\n",
      "[Parallel(n_jobs=-1)]: Done 184 tasks      | elapsed:   53.3s\n",
      "[Parallel(n_jobs=-1)]: Done  34 tasks      | elapsed:   17.5s\n",
      "[Parallel(n_jobs=-1)]: Done  34 tasks      | elapsed:   11.1s\n",
      "[Parallel(n_jobs=-1)]: Done 784 tasks      | elapsed:  1.7min\n",
      "[Parallel(n_jobs=-1)]: Done 184 tasks      | elapsed:   55.0s\n",
      "[Parallel(n_jobs=-1)]: Done 1000 out of 1000 | elapsed:  2.2min finished\n",
      "[Parallel(n_jobs=8)]: Done  34 tasks      | elapsed:    0.1s\n",
      "[Parallel(n_jobs=8)]: Done 184 tasks      | elapsed:    0.7s\n",
      "[Parallel(n_jobs=8)]: Done 434 tasks      | elapsed:    1.7s\n",
      "[Parallel(n_jobs=-1)]: Done 100 out of 100 | elapsed:   50.8s finished\n",
      "[Parallel(n_jobs=-1)]: Done 434 tasks      | elapsed:  2.1min\n",
      "[Parallel(n_jobs=8)]: Done  34 tasks      | elapsed:    0.1s\n",
      "[Parallel(n_jobs=8)]: Done 100 out of 100 | elapsed:    0.5s finished\n",
      "[Parallel(n_jobs=8)]: Done  34 tasks      | elapsed:    0.2s\n",
      "[Parallel(n_jobs=8)]: Done 784 tasks      | elapsed:    3.4s\n",
      "[Parallel(n_jobs=8)]: Done 100 out of 100 | elapsed:    0.8s finished\n"
     ]
    },
    {
     "name": "stdout",
     "output_type": "stream",
     "text": [
      "[CV]  max_depth=40, max_features=sqrt, n_estimators=100, score=0.9420062695924765, total=  53.2s\n",
      "[CV] max_depth=40, max_features=sqrt, n_estimators=100 ...............\n"
     ]
    },
    {
     "name": "stderr",
     "output_type": "stream",
     "text": [
      "[Parallel(n_jobs=8)]: Done 1000 out of 1000 | elapsed:    4.5s finished\n",
      "[Parallel(n_jobs=8)]: Done  34 tasks      | elapsed:    0.1s\n",
      "[Parallel(n_jobs=8)]: Done 184 tasks      | elapsed:    1.3s\n",
      "[Parallel(n_jobs=8)]: Done 434 tasks      | elapsed:    3.6s\n",
      "[Parallel(n_jobs=8)]: Done 784 tasks      | elapsed:    6.5s\n",
      "[Parallel(n_jobs=-1)]: Done 184 tasks      | elapsed:   54.2s\n",
      "[Parallel(n_jobs=8)]: Done 1000 out of 1000 | elapsed:    8.3s finished\n"
     ]
    },
    {
     "name": "stdout",
     "output_type": "stream",
     "text": [
      "[CV]  max_depth=40, max_features=5, n_estimators=1000, score=0.9465125391849529, total= 2.5min\n",
      "[CV] max_depth=40, max_features=sqrt, n_estimators=100 ...............\n"
     ]
    },
    {
     "name": "stderr",
     "output_type": "stream",
     "text": [
      "[Parallel(n_jobs=-1)]: Done 500 out of 500 | elapsed:  2.4min finished\n",
      "[Parallel(n_jobs=8)]: Done  34 tasks      | elapsed:    0.1s\n",
      "[Parallel(n_jobs=8)]: Done 184 tasks      | elapsed:    0.7s\n",
      "[Parallel(n_jobs=8)]: Done 434 tasks      | elapsed:    1.8s\n",
      "[Parallel(n_jobs=8)]: Done 500 out of 500 | elapsed:    2.3s finished\n",
      "[Parallel(n_jobs=8)]: Done  34 tasks      | elapsed:    0.1s\n",
      "[Parallel(n_jobs=8)]: Done 184 tasks      | elapsed:    1.2s\n",
      "[Parallel(n_jobs=-1)]: Done  34 tasks      | elapsed:   20.5s\n",
      "[Parallel(n_jobs=8)]: Done 434 tasks      | elapsed:    3.2s\n",
      "[Parallel(n_jobs=-1)]: Done 434 tasks      | elapsed:  2.1min\n",
      "[Parallel(n_jobs=-1)]: Done 434 tasks      | elapsed:  2.2min\n",
      "[Parallel(n_jobs=8)]: Done 500 out of 500 | elapsed:    3.8s finished\n"
     ]
    },
    {
     "name": "stdout",
     "output_type": "stream",
     "text": [
      "[CV]  max_depth=40, max_features=10, n_estimators=500, score=0.9400470219435737, total= 2.6min\n",
      "[CV] max_depth=40, max_features=sqrt, n_estimators=500 ...............\n"
     ]
    },
    {
     "name": "stderr",
     "output_type": "stream",
     "text": [
      "[Parallel(n_jobs=-1)]: Done  34 tasks      | elapsed:   17.9s\n",
      "[Parallel(n_jobs=-1)]: Done 434 tasks      | elapsed:  2.1min\n",
      "[Parallel(n_jobs=-1)]: Done 500 out of 500 | elapsed:  2.5min finished\n",
      "[Parallel(n_jobs=8)]: Done  34 tasks      | elapsed:    0.1s\n",
      "[Parallel(n_jobs=-1)]: Done 500 out of 500 | elapsed:  2.4min finished\n",
      "[Parallel(n_jobs=8)]: Done  34 tasks      | elapsed:    0.1s\n",
      "[Parallel(n_jobs=8)]: Done 184 tasks      | elapsed:    0.8s\n",
      "[Parallel(n_jobs=8)]: Done 184 tasks      | elapsed:    0.7s\n",
      "[Parallel(n_jobs=8)]: Done 434 tasks      | elapsed:    2.0s\n",
      "[Parallel(n_jobs=8)]: Done 434 tasks      | elapsed:    1.7s\n",
      "[Parallel(n_jobs=8)]: Done 500 out of 500 | elapsed:    2.4s finished\n",
      "[Parallel(n_jobs=8)]: Done  34 tasks      | elapsed:    0.1s\n",
      "[Parallel(n_jobs=8)]: Done 500 out of 500 | elapsed:    2.2s finished\n",
      "[Parallel(n_jobs=8)]: Done  34 tasks      | elapsed:    0.2s\n",
      "[Parallel(n_jobs=8)]: Done 184 tasks      | elapsed:    1.5s\n",
      "[Parallel(n_jobs=8)]: Done 184 tasks      | elapsed:    1.3s\n",
      "[Parallel(n_jobs=8)]: Done 434 tasks      | elapsed:    3.6s\n",
      "[Parallel(n_jobs=8)]: Done 434 tasks      | elapsed:    3.7s\n",
      "[Parallel(n_jobs=8)]: Done 500 out of 500 | elapsed:    4.2s finished\n"
     ]
    },
    {
     "name": "stdout",
     "output_type": "stream",
     "text": [
      "[CV]  max_depth=40, max_features=10, n_estimators=500, score=0.9422021943573667, total= 2.6min\n",
      "[CV] max_depth=40, max_features=sqrt, n_estimators=500 ...............\n"
     ]
    },
    {
     "name": "stderr",
     "output_type": "stream",
     "text": [
      "[Parallel(n_jobs=8)]: Done 500 out of 500 | elapsed:    4.3s finished\n"
     ]
    },
    {
     "name": "stdout",
     "output_type": "stream",
     "text": [
      "[CV]  max_depth=40, max_features=10, n_estimators=500, score=0.9474921630094044, total= 2.5min\n",
      "[CV] max_depth=40, max_features=sqrt, n_estimators=500 ...............\n"
     ]
    },
    {
     "name": "stderr",
     "output_type": "stream",
     "text": [
      "[Parallel(n_jobs=-1)]: Done  34 tasks      | elapsed:   19.6s\n",
      "[Parallel(n_jobs=-1)]: Done 100 out of 100 | elapsed:   54.0s finished\n",
      "[Parallel(n_jobs=8)]: Done  34 tasks      | elapsed:    0.1s\n",
      "[Parallel(n_jobs=8)]: Done 100 out of 100 | elapsed:    0.4s finished\n",
      "[Parallel(n_jobs=8)]: Done  34 tasks      | elapsed:    0.1s\n",
      "[Parallel(n_jobs=8)]: Done 100 out of 100 | elapsed:    0.7s finished\n"
     ]
    },
    {
     "name": "stdout",
     "output_type": "stream",
     "text": [
      "[CV]  max_depth=40, max_features=sqrt, n_estimators=100, score=0.942398119122257, total=  56.5s\n",
      "[CV] max_depth=40, max_features=sqrt, n_estimators=1000 ..............\n"
     ]
    },
    {
     "name": "stderr",
     "output_type": "stream",
     "text": [
      "[Parallel(n_jobs=-1)]: Done 100 out of 100 | elapsed:   48.9s finished\n",
      "[Parallel(n_jobs=8)]: Done  34 tasks      | elapsed:    0.1s\n",
      "[Parallel(n_jobs=8)]: Done 100 out of 100 | elapsed:    0.4s finished\n",
      "[Parallel(n_jobs=8)]: Done  34 tasks      | elapsed:    0.1s\n",
      "[Parallel(n_jobs=8)]: Done 100 out of 100 | elapsed:    0.7s finished\n"
     ]
    },
    {
     "name": "stdout",
     "output_type": "stream",
     "text": [
      "[CV]  max_depth=40, max_features=sqrt, n_estimators=100, score=0.9476880877742947, total=  51.5s\n",
      "[CV] max_depth=40, max_features=sqrt, n_estimators=1000 ..............\n"
     ]
    },
    {
     "name": "stderr",
     "output_type": "stream",
     "text": [
      "[Parallel(n_jobs=-1)]: Done  45 tasks      | elapsed:  8.0min\n",
      "[Parallel(n_jobs=-1)]: Done 434 tasks      | elapsed:  2.1min\n",
      "[Parallel(n_jobs=-1)]: Done  34 tasks      | elapsed:   15.2s\n",
      "[Parallel(n_jobs=-1)]: Done  34 tasks      | elapsed:   16.2s\n",
      "[Parallel(n_jobs=-1)]: Done 434 tasks      | elapsed:  2.0min\n",
      "[Parallel(n_jobs=-1)]: Done  34 tasks      | elapsed:   18.9s\n",
      "[Parallel(n_jobs=-1)]: Done  34 tasks      | elapsed:   20.4s\n",
      "[Parallel(n_jobs=-1)]: Done 184 tasks      | elapsed:  1.5min\n",
      "[Parallel(n_jobs=-1)]: Done 784 tasks      | elapsed:  3.8min\n",
      "[Parallel(n_jobs=-1)]: Done 184 tasks      | elapsed:  1.4min\n",
      "[Parallel(n_jobs=-1)]: Done 184 tasks      | elapsed:  1.6min\n",
      "[Parallel(n_jobs=-1)]: Done 184 tasks      | elapsed:  1.6min\n",
      "[Parallel(n_jobs=-1)]: Done 784 tasks      | elapsed:  3.9min\n",
      "[Parallel(n_jobs=-1)]: Done 184 tasks      | elapsed:  1.7min\n",
      "[Parallel(n_jobs=-1)]: Done 784 tasks      | elapsed:  3.7min\n",
      "[Parallel(n_jobs=-1)]: Done 1000 out of 1000 | elapsed:  4.8min finished\n",
      "[Parallel(n_jobs=8)]: Done  34 tasks      | elapsed:    0.1s\n",
      "[Parallel(n_jobs=8)]: Done 184 tasks      | elapsed:    0.7s\n",
      "[Parallel(n_jobs=8)]: Done 434 tasks      | elapsed:    1.9s\n",
      "[Parallel(n_jobs=8)]: Done 784 tasks      | elapsed:    3.7s\n",
      "[Parallel(n_jobs=8)]: Done 1000 out of 1000 | elapsed:    4.6s finished\n",
      "[Parallel(n_jobs=8)]: Done  34 tasks      | elapsed:    0.1s\n",
      "[Parallel(n_jobs=8)]: Done 184 tasks      | elapsed:    1.4s\n",
      "[Parallel(n_jobs=8)]: Done 434 tasks      | elapsed:    3.4s\n",
      "[Parallel(n_jobs=8)]: Done 784 tasks      | elapsed:    6.2s\n",
      "[Parallel(n_jobs=8)]: Done 1000 out of 1000 | elapsed:    8.2s finished\n"
     ]
    },
    {
     "name": "stdout",
     "output_type": "stream",
     "text": [
      "[CV]  max_depth=40, max_features=10, n_estimators=1000, score=0.9412225705329154, total= 5.1min\n",
      "[CV] max_depth=40, max_features=sqrt, n_estimators=1000 ..............\n"
     ]
    },
    {
     "name": "stderr",
     "output_type": "stream",
     "text": [
      "[Parallel(n_jobs=-1)]: Done 1000 out of 1000 | elapsed:  5.0min finished\n",
      "[Parallel(n_jobs=8)]: Done  34 tasks      | elapsed:    0.1s\n",
      "[Parallel(n_jobs=8)]: Done 184 tasks      | elapsed:    0.8s\n",
      "[Parallel(n_jobs=8)]: Done 434 tasks      | elapsed:    2.0s\n",
      "[Parallel(n_jobs=8)]: Done 784 tasks      | elapsed:    3.5s\n",
      "[Parallel(n_jobs=8)]: Done 1000 out of 1000 | elapsed:    4.6s finished\n",
      "[Parallel(n_jobs=8)]: Done  34 tasks      | elapsed:    0.2s\n",
      "[Parallel(n_jobs=8)]: Done 184 tasks      | elapsed:    1.3s\n",
      "[Parallel(n_jobs=-1)]: Done  34 tasks      | elapsed:   18.4s\n",
      "[Parallel(n_jobs=-1)]: Done 1000 out of 1000 | elapsed:  4.8min finished\n",
      "[Parallel(n_jobs=8)]: Done  34 tasks      | elapsed:    0.1s\n",
      "[Parallel(n_jobs=8)]: Done 434 tasks      | elapsed:    3.2s\n",
      "[Parallel(n_jobs=8)]: Done 184 tasks      | elapsed:    0.7s\n",
      "[Parallel(n_jobs=8)]: Done 434 tasks      | elapsed:    1.7s\n",
      "[Parallel(n_jobs=-1)]: Done 434 tasks      | elapsed:  3.5min\n",
      "[Parallel(n_jobs=8)]: Done 784 tasks      | elapsed:    6.1s\n",
      "[Parallel(n_jobs=8)]: Done 784 tasks      | elapsed:    3.3s\n",
      "[Parallel(n_jobs=8)]: Done 1000 out of 1000 | elapsed:    4.3s finished\n",
      "[Parallel(n_jobs=8)]: Done  34 tasks      | elapsed:    0.1s\n",
      "[Parallel(n_jobs=8)]: Done 1000 out of 1000 | elapsed:    7.8s finished\n"
     ]
    },
    {
     "name": "stdout",
     "output_type": "stream",
     "text": [
      "[CV]  max_depth=40, max_features=10, n_estimators=1000, score=0.9416144200626959, total= 5.2min\n",
      "[CV] max_depth=75, max_features=5, n_estimators=100 ..................\n"
     ]
    },
    {
     "name": "stderr",
     "output_type": "stream",
     "text": [
      "[Parallel(n_jobs=8)]: Done 184 tasks      | elapsed:    1.4s\n",
      "[Parallel(n_jobs=8)]: Done 434 tasks      | elapsed:    3.4s\n",
      "[Parallel(n_jobs=8)]: Done 784 tasks      | elapsed:    6.1s\n",
      "[Parallel(n_jobs=8)]: Done 1000 out of 1000 | elapsed:    7.7s finished\n"
     ]
    },
    {
     "name": "stdout",
     "output_type": "stream",
     "text": [
      "[CV]  max_depth=40, max_features=10, n_estimators=1000, score=0.9486677115987461, total= 5.0min\n"
     ]
    },
    {
     "name": "stderr",
     "output_type": "stream",
     "text": [
      "[Parallel(n_jobs=-1)]: Done  34 tasks      | elapsed:    5.2s\n"
     ]
    },
    {
     "name": "stdout",
     "output_type": "stream",
     "text": [
      "[CV] max_depth=75, max_features=5, n_estimators=100 ..................\n"
     ]
    },
    {
     "name": "stderr",
     "output_type": "stream",
     "text": [
      "[Parallel(n_jobs=-1)]: Done  34 tasks      | elapsed:    5.1s\n",
      "[Parallel(n_jobs=-1)]: Done 100 out of 100 | elapsed:   13.8s finished\n",
      "[Parallel(n_jobs=8)]: Done  34 tasks      | elapsed:    0.1s\n",
      "[Parallel(n_jobs=8)]: Done 100 out of 100 | elapsed:    0.3s finished\n",
      "[Parallel(n_jobs=8)]: Done  34 tasks      | elapsed:    0.2s\n",
      "[Parallel(n_jobs=8)]: Done 100 out of 100 | elapsed:    0.7s finished\n"
     ]
    },
    {
     "name": "stdout",
     "output_type": "stream",
     "text": [
      "[CV]  max_depth=75, max_features=5, n_estimators=100, score=0.9367163009404389, total=  16.3s\n",
      "[CV] max_depth=75, max_features=5, n_estimators=100 ..................\n"
     ]
    },
    {
     "name": "stderr",
     "output_type": "stream",
     "text": [
      "[Parallel(n_jobs=-1)]: Done 434 tasks      | elapsed:  3.5min\n",
      "[Parallel(n_jobs=-1)]: Done 100 out of 100 | elapsed:   13.8s finished\n",
      "[Parallel(n_jobs=8)]: Done  34 tasks      | elapsed:    0.1s\n",
      "[Parallel(n_jobs=8)]: Done 100 out of 100 | elapsed:    0.5s finished\n",
      "[Parallel(n_jobs=8)]: Done  34 tasks      | elapsed:    0.2s\n",
      "[Parallel(n_jobs=-1)]: Done  34 tasks      | elapsed:    5.1s\n",
      "[Parallel(n_jobs=8)]: Done 100 out of 100 | elapsed:    0.7s finished\n"
     ]
    },
    {
     "name": "stdout",
     "output_type": "stream",
     "text": [
      "[CV]  max_depth=75, max_features=5, n_estimators=100, score=0.9404388714733543, total=  16.4s\n",
      "[CV] max_depth=75, max_features=5, n_estimators=500 ..................\n"
     ]
    },
    {
     "name": "stderr",
     "output_type": "stream",
     "text": [
      "[Parallel(n_jobs=-1)]: Done 500 out of 500 | elapsed:  4.1min finished\n",
      "[Parallel(n_jobs=8)]: Done  34 tasks      | elapsed:    0.1s\n",
      "[Parallel(n_jobs=8)]: Done 184 tasks      | elapsed:    0.8s\n",
      "[Parallel(n_jobs=-1)]: Done 100 out of 100 | elapsed:   13.1s finished\n",
      "[Parallel(n_jobs=8)]: Done 434 tasks      | elapsed:    1.9s\n",
      "[Parallel(n_jobs=8)]: Done  34 tasks      | elapsed:    0.1s\n",
      "[Parallel(n_jobs=8)]: Done 100 out of 100 | elapsed:    0.4s finished\n",
      "[Parallel(n_jobs=8)]: Done 500 out of 500 | elapsed:    2.3s finished\n",
      "[Parallel(n_jobs=8)]: Done  34 tasks      | elapsed:    0.1s\n",
      "[Parallel(n_jobs=8)]: Done  34 tasks      | elapsed:    0.1s\n",
      "[Parallel(n_jobs=8)]: Done 100 out of 100 | elapsed:    0.8s finished\n"
     ]
    },
    {
     "name": "stdout",
     "output_type": "stream",
     "text": [
      "[CV]  max_depth=75, max_features=5, n_estimators=100, score=0.9459247648902821, total=  15.7s\n",
      "[CV] max_depth=75, max_features=5, n_estimators=500 ..................\n"
     ]
    },
    {
     "name": "stderr",
     "output_type": "stream",
     "text": [
      "[Parallel(n_jobs=8)]: Done 184 tasks      | elapsed:    1.3s\n",
      "[Parallel(n_jobs=-1)]: Done  34 tasks      | elapsed:    4.9s\n",
      "[Parallel(n_jobs=8)]: Done 434 tasks      | elapsed:    3.2s\n",
      "[Parallel(n_jobs=8)]: Done 500 out of 500 | elapsed:    3.7s finished\n"
     ]
    },
    {
     "name": "stdout",
     "output_type": "stream",
     "text": [
      "[CV]  max_depth=40, max_features=sqrt, n_estimators=500, score=0.9431818181818182, total= 4.2min\n",
      "[CV] max_depth=75, max_features=5, n_estimators=500 ..................\n"
     ]
    },
    {
     "name": "stderr",
     "output_type": "stream",
     "text": [
      "[Parallel(n_jobs=-1)]: Done 434 tasks      | elapsed:  3.8min\n",
      "[Parallel(n_jobs=-1)]: Done 434 tasks      | elapsed:  3.6min\n",
      "[Parallel(n_jobs=-1)]: Done  34 tasks      | elapsed:    4.7s\n",
      "[Parallel(n_jobs=-1)]: Done  34 tasks      | elapsed:    4.7s\n",
      "[Parallel(n_jobs=-1)]: Done 500 out of 500 | elapsed:  4.0min finished\n",
      "[Parallel(n_jobs=8)]: Done  34 tasks      | elapsed:    0.1s\n",
      "[Parallel(n_jobs=8)]: Done 184 tasks      | elapsed:    0.7s\n",
      "[Parallel(n_jobs=8)]: Done 434 tasks      | elapsed:    1.9s\n",
      "[Parallel(n_jobs=8)]: Done 500 out of 500 | elapsed:    2.3s finished\n",
      "[Parallel(n_jobs=8)]: Done  34 tasks      | elapsed:    0.2s\n",
      "[Parallel(n_jobs=-1)]: Done 184 tasks      | elapsed:   24.1s\n",
      "[Parallel(n_jobs=8)]: Done 184 tasks      | elapsed:    1.4s\n",
      "[Parallel(n_jobs=8)]: Done 434 tasks      | elapsed:    3.4s\n",
      "[Parallel(n_jobs=8)]: Done 500 out of 500 | elapsed:    4.0s finished\n"
     ]
    },
    {
     "name": "stdout",
     "output_type": "stream",
     "text": [
      "[CV]  max_depth=40, max_features=sqrt, n_estimators=500, score=0.9494514106583072, total= 4.2min\n",
      "[CV] max_depth=75, max_features=5, n_estimators=1000 .................\n"
     ]
    },
    {
     "name": "stderr",
     "output_type": "stream",
     "text": [
      "[Parallel(n_jobs=-1)]: Done 434 tasks      | elapsed:  3.9min\n",
      "[Parallel(n_jobs=-1)]: Done 184 tasks      | elapsed:   24.8s\n",
      "[Parallel(n_jobs=-1)]: Done 184 tasks      | elapsed:  1.5min\n",
      "[Parallel(n_jobs=-1)]: Done 184 tasks      | elapsed:   24.3s\n",
      "[Parallel(n_jobs=-1)]: Done 500 out of 500 | elapsed:  4.3min finished\n",
      "[Parallel(n_jobs=8)]: Done  34 tasks      | elapsed:    0.1s\n",
      "[Parallel(n_jobs=8)]: Done 184 tasks      | elapsed:    0.7s\n",
      "[Parallel(n_jobs=8)]: Done 434 tasks      | elapsed:    1.8s\n",
      "[Parallel(n_jobs=8)]: Done 500 out of 500 | elapsed:    2.1s finished\n",
      "[Parallel(n_jobs=8)]: Done  34 tasks      | elapsed:    0.2s\n",
      "[Parallel(n_jobs=8)]: Done 184 tasks      | elapsed:    1.4s\n",
      "[Parallel(n_jobs=-1)]: Done  34 tasks      | elapsed:    5.1s\n",
      "[Parallel(n_jobs=8)]: Done 434 tasks      | elapsed:    3.5s\n",
      "[Parallel(n_jobs=8)]: Done 500 out of 500 | elapsed:    4.1s finished\n"
     ]
    },
    {
     "name": "stdout",
     "output_type": "stream",
     "text": [
      "[CV]  max_depth=40, max_features=sqrt, n_estimators=500, score=0.9433777429467085, total= 4.5min\n",
      "[CV] max_depth=75, max_features=5, n_estimators=1000 .................\n"
     ]
    },
    {
     "name": "stderr",
     "output_type": "stream",
     "text": [
      "[Parallel(n_jobs=-1)]: Done 434 tasks      | elapsed:   56.1s\n",
      "[Parallel(n_jobs=-1)]: Done  34 tasks      | elapsed:    5.2s\n",
      "[Parallel(n_jobs=-1)]: Done 184 tasks      | elapsed:   24.4s\n",
      "[Parallel(n_jobs=-1)]: Done 500 out of 500 | elapsed:  1.1min finished\n",
      "[Parallel(n_jobs=8)]: Done  34 tasks      | elapsed:    0.1s\n",
      "[Parallel(n_jobs=8)]: Done 184 tasks      | elapsed:    0.8s\n",
      "[Parallel(n_jobs=-1)]: Done 434 tasks      | elapsed:   57.9s\n",
      "[Parallel(n_jobs=8)]: Done 434 tasks      | elapsed:    1.9s\n",
      "[Parallel(n_jobs=8)]: Done 500 out of 500 | elapsed:    2.2s finished\n",
      "[Parallel(n_jobs=8)]: Done  34 tasks      | elapsed:    0.2s\n",
      "[Parallel(n_jobs=-1)]: Done 434 tasks      | elapsed:   57.3s\n",
      "[Parallel(n_jobs=8)]: Done 184 tasks      | elapsed:    1.4s\n",
      "[Parallel(n_jobs=8)]: Done 434 tasks      | elapsed:    3.4s\n",
      "[Parallel(n_jobs=8)]: Done 500 out of 500 | elapsed:    4.0s finished\n"
     ]
    },
    {
     "name": "stdout",
     "output_type": "stream",
     "text": [
      "[CV]  max_depth=75, max_features=5, n_estimators=500, score=0.9408307210031348, total= 1.2min\n",
      "[CV] max_depth=75, max_features=5, n_estimators=1000 .................\n"
     ]
    },
    {
     "name": "stderr",
     "output_type": "stream",
     "text": [
      "[Parallel(n_jobs=-1)]: Done 500 out of 500 | elapsed:  1.1min finished\n",
      "[Parallel(n_jobs=8)]: Done  34 tasks      | elapsed:    0.1s\n",
      "[Parallel(n_jobs=8)]: Done 184 tasks      | elapsed:    0.9s\n",
      "[Parallel(n_jobs=-1)]: Done 500 out of 500 | elapsed:  1.1min finished\n",
      "[Parallel(n_jobs=8)]: Done  34 tasks      | elapsed:    0.1s\n",
      "[Parallel(n_jobs=8)]: Done 434 tasks      | elapsed:    1.9s\n",
      "[Parallel(n_jobs=8)]: Done 500 out of 500 | elapsed:    2.2s finished\n",
      "[Parallel(n_jobs=8)]: Done 184 tasks      | elapsed:    0.8s\n",
      "[Parallel(n_jobs=8)]: Done  34 tasks      | elapsed:    0.2s\n",
      "[Parallel(n_jobs=8)]: Done 434 tasks      | elapsed:    1.9s\n",
      "[Parallel(n_jobs=8)]: Done 184 tasks      | elapsed:    1.1s\n",
      "[Parallel(n_jobs=8)]: Done 500 out of 500 | elapsed:    2.3s finished\n",
      "[Parallel(n_jobs=8)]: Done  34 tasks      | elapsed:    0.2s\n",
      "[Parallel(n_jobs=8)]: Done 184 tasks      | elapsed:    1.4s\n",
      "[Parallel(n_jobs=8)]: Done 434 tasks      | elapsed:    3.1s\n",
      "[Parallel(n_jobs=8)]: Done 500 out of 500 | elapsed:    3.6s finished\n"
     ]
    },
    {
     "name": "stdout",
     "output_type": "stream",
     "text": [
      "[CV]  max_depth=75, max_features=5, n_estimators=500, score=0.9396551724137931, total= 1.3min\n"
     ]
    },
    {
     "name": "stderr",
     "output_type": "stream",
     "text": [
      "[Parallel(n_jobs=-1)]: Done  56 tasks      | elapsed: 13.0min\n"
     ]
    },
    {
     "name": "stdout",
     "output_type": "stream",
     "text": [
      "[CV] max_depth=75, max_features=10, n_estimators=100 .................\n"
     ]
    },
    {
     "name": "stderr",
     "output_type": "stream",
     "text": [
      "[Parallel(n_jobs=8)]: Done 434 tasks      | elapsed:    3.2s\n",
      "[Parallel(n_jobs=-1)]: Done 184 tasks      | elapsed:   25.2s\n",
      "[Parallel(n_jobs=8)]: Done 500 out of 500 | elapsed:    3.6s finished\n"
     ]
    },
    {
     "name": "stdout",
     "output_type": "stream",
     "text": [
      "[CV]  max_depth=75, max_features=5, n_estimators=500, score=0.9476880877742947, total= 1.2min\n",
      "[CV] max_depth=75, max_features=10, n_estimators=100 .................\n"
     ]
    },
    {
     "name": "stderr",
     "output_type": "stream",
     "text": [
      "[Parallel(n_jobs=-1)]: Done  34 tasks      | elapsed:    5.0s\n",
      "[Parallel(n_jobs=-1)]: Done  34 tasks      | elapsed:   10.6s\n",
      "[Parallel(n_jobs=-1)]: Done 434 tasks      | elapsed:   57.1s\n",
      "[Parallel(n_jobs=-1)]: Done  34 tasks      | elapsed:   11.5s\n",
      "[Parallel(n_jobs=-1)]: Done 184 tasks      | elapsed:   25.2s\n",
      "[Parallel(n_jobs=-1)]: Done 100 out of 100 | elapsed:   28.7s finished\n",
      "[Parallel(n_jobs=8)]: Done  34 tasks      | elapsed:    0.1s\n",
      "[Parallel(n_jobs=8)]: Done 100 out of 100 | elapsed:    0.4s finished\n",
      "[Parallel(n_jobs=8)]: Done  34 tasks      | elapsed:    0.1s\n",
      "[Parallel(n_jobs=8)]: Done 100 out of 100 | elapsed:    0.7s finished\n"
     ]
    },
    {
     "name": "stdout",
     "output_type": "stream",
     "text": [
      "[CV]  max_depth=75, max_features=10, n_estimators=100, score=0.9425940438871473, total=  31.2s\n",
      "[CV] max_depth=75, max_features=10, n_estimators=100 .................\n"
     ]
    },
    {
     "name": "stderr",
     "output_type": "stream",
     "text": [
      "[Parallel(n_jobs=-1)]: Done 100 out of 100 | elapsed:   31.0s finished\n",
      "[Parallel(n_jobs=8)]: Done  34 tasks      | elapsed:    0.1s\n",
      "[Parallel(n_jobs=8)]: Done 100 out of 100 | elapsed:    0.4s finished\n",
      "[Parallel(n_jobs=8)]: Done  34 tasks      | elapsed:    0.2s\n",
      "[Parallel(n_jobs=-1)]: Done 434 tasks      | elapsed:   59.7s\n",
      "[Parallel(n_jobs=8)]: Done 100 out of 100 | elapsed:    0.7s finished\n"
     ]
    },
    {
     "name": "stdout",
     "output_type": "stream",
     "text": [
      "[CV]  max_depth=75, max_features=10, n_estimators=100, score=0.9404388714733543, total=  33.7s\n",
      "[CV] max_depth=75, max_features=10, n_estimators=500 .................\n"
     ]
    },
    {
     "name": "stderr",
     "output_type": "stream",
     "text": [
      "[Parallel(n_jobs=-1)]: Done  34 tasks      | elapsed:   10.2s\n",
      "[Parallel(n_jobs=-1)]: Done  34 tasks      | elapsed:   10.6s\n",
      "[Parallel(n_jobs=-1)]: Done 434 tasks      | elapsed:   58.6s\n",
      "[Parallel(n_jobs=-1)]: Done 784 tasks      | elapsed:  1.7min\n",
      "[Parallel(n_jobs=-1)]: Done 100 out of 100 | elapsed:   29.0s finished\n",
      "[Parallel(n_jobs=8)]: Done  34 tasks      | elapsed:    0.1s\n",
      "[Parallel(n_jobs=8)]: Done 100 out of 100 | elapsed:    0.4s finished\n",
      "[Parallel(n_jobs=8)]: Done  34 tasks      | elapsed:    0.1s\n",
      "[Parallel(n_jobs=8)]: Done 100 out of 100 | elapsed:    0.8s finished\n"
     ]
    },
    {
     "name": "stdout",
     "output_type": "stream",
     "text": [
      "[CV]  max_depth=75, max_features=10, n_estimators=100, score=0.9476880877742947, total=  31.2s\n",
      "[CV] max_depth=75, max_features=10, n_estimators=500 .................\n"
     ]
    },
    {
     "name": "stderr",
     "output_type": "stream",
     "text": [
      "[Parallel(n_jobs=-1)]: Done 434 tasks      | elapsed:  3.5min\n",
      "[Parallel(n_jobs=-1)]: Done  34 tasks      | elapsed:   11.2s\n",
      "[Parallel(n_jobs=-1)]: Done 784 tasks      | elapsed:  1.8min\n",
      "[Parallel(n_jobs=-1)]: Done 1000 out of 1000 | elapsed:  2.2min finished\n",
      "[Parallel(n_jobs=8)]: Done  34 tasks      | elapsed:    0.1s\n",
      "[Parallel(n_jobs=8)]: Done 184 tasks      | elapsed:    0.7s\n",
      "[Parallel(n_jobs=8)]: Done 434 tasks      | elapsed:    1.8s\n",
      "[Parallel(n_jobs=8)]: Done 784 tasks      | elapsed:    3.5s\n",
      "[Parallel(n_jobs=8)]: Done 1000 out of 1000 | elapsed:    4.6s finished\n",
      "[Parallel(n_jobs=8)]: Done  34 tasks      | elapsed:    0.2s\n",
      "[Parallel(n_jobs=-1)]: Done 184 tasks      | elapsed:   53.8s\n",
      "[Parallel(n_jobs=8)]: Done 184 tasks      | elapsed:    1.5s\n",
      "[Parallel(n_jobs=8)]: Done 434 tasks      | elapsed:    3.4s\n",
      "[Parallel(n_jobs=8)]: Done 784 tasks      | elapsed:    6.3s\n",
      "[Parallel(n_jobs=-1)]: Done 784 tasks      | elapsed:  6.5min\n",
      "[Parallel(n_jobs=8)]: Done 1000 out of 1000 | elapsed:    8.1s finished\n"
     ]
    },
    {
     "name": "stdout",
     "output_type": "stream",
     "text": [
      "[CV]  max_depth=75, max_features=5, n_estimators=1000, score=0.9396551724137931, total= 2.5min\n",
      "[CV] max_depth=75, max_features=10, n_estimators=500 .................\n"
     ]
    },
    {
     "name": "stderr",
     "output_type": "stream",
     "text": [
      "[Parallel(n_jobs=-1)]: Done 784 tasks      | elapsed:  1.8min\n",
      "[Parallel(n_jobs=-1)]: Done 1000 out of 1000 | elapsed:  2.3min finished\n",
      "[Parallel(n_jobs=8)]: Done  34 tasks      | elapsed:    0.1s\n",
      "[Parallel(n_jobs=8)]: Done 184 tasks      | elapsed:    0.9s\n",
      "[Parallel(n_jobs=8)]: Done 434 tasks      | elapsed:    1.9s\n",
      "[Parallel(n_jobs=8)]: Done 784 tasks      | elapsed:    3.6s\n",
      "[Parallel(n_jobs=8)]: Done 1000 out of 1000 | elapsed:    4.7s finished\n",
      "[Parallel(n_jobs=8)]: Done  34 tasks      | elapsed:    0.1s\n",
      "[Parallel(n_jobs=8)]: Done 184 tasks      | elapsed:    1.4s\n",
      "[Parallel(n_jobs=-1)]: Done  34 tasks      | elapsed:   11.2s\n",
      "[Parallel(n_jobs=8)]: Done 434 tasks      | elapsed:    3.5s\n",
      "[Parallel(n_jobs=8)]: Done 784 tasks      | elapsed:    6.4s\n",
      "[Parallel(n_jobs=8)]: Done 1000 out of 1000 | elapsed:    8.2s finished\n"
     ]
    },
    {
     "name": "stdout",
     "output_type": "stream",
     "text": [
      "[CV]  max_depth=75, max_features=5, n_estimators=1000, score=0.9394592476489029, total= 2.6min\n",
      "[CV] max_depth=75, max_features=10, n_estimators=1000 ................\n"
     ]
    },
    {
     "name": "stderr",
     "output_type": "stream",
     "text": [
      "[Parallel(n_jobs=-1)]: Done 184 tasks      | elapsed:   57.4s\n",
      "[Parallel(n_jobs=-1)]: Done 784 tasks      | elapsed:  6.9min\n",
      "[Parallel(n_jobs=-1)]: Done 1000 out of 1000 | elapsed:  2.2min finished\n",
      "[Parallel(n_jobs=8)]: Done  34 tasks      | elapsed:    0.1s\n",
      "[Parallel(n_jobs=8)]: Done 184 tasks      | elapsed:    0.8s\n",
      "[Parallel(n_jobs=8)]: Done 434 tasks      | elapsed:    1.9s\n",
      "[Parallel(n_jobs=8)]: Done 784 tasks      | elapsed:    3.7s\n",
      "[Parallel(n_jobs=8)]: Done 1000 out of 1000 | elapsed:    4.7s finished\n",
      "[Parallel(n_jobs=8)]: Done  34 tasks      | elapsed:    0.2s\n",
      "[Parallel(n_jobs=8)]: Done 184 tasks      | elapsed:    1.3s\n",
      "[Parallel(n_jobs=8)]: Done 434 tasks      | elapsed:    3.4s\n",
      "[Parallel(n_jobs=8)]: Done 784 tasks      | elapsed:    6.2s\n",
      "[Parallel(n_jobs=8)]: Done 1000 out of 1000 | elapsed:    8.1s finished\n",
      "[Parallel(n_jobs=-1)]: Done  34 tasks      | elapsed:   11.5s\n"
     ]
    },
    {
     "name": "stdout",
     "output_type": "stream",
     "text": [
      "[CV]  max_depth=75, max_features=5, n_estimators=1000, score=0.9469043887147336, total= 2.5min\n",
      "[CV] max_depth=75, max_features=10, n_estimators=1000 ................\n"
     ]
    },
    {
     "name": "stderr",
     "output_type": "stream",
     "text": [
      "[Parallel(n_jobs=-1)]: Done 184 tasks      | elapsed:   52.1s\n",
      "[Parallel(n_jobs=-1)]: Done 434 tasks      | elapsed:  2.1min\n",
      "[Parallel(n_jobs=-1)]: Done  34 tasks      | elapsed:   11.0s\n",
      "[Parallel(n_jobs=-1)]: Done 500 out of 500 | elapsed:  2.4min finished\n",
      "[Parallel(n_jobs=8)]: Done  34 tasks      | elapsed:    0.1s\n",
      "[Parallel(n_jobs=8)]: Done 184 tasks      | elapsed:    0.7s\n",
      "[Parallel(n_jobs=8)]: Done 434 tasks      | elapsed:    1.8s\n",
      "[Parallel(n_jobs=8)]: Done 500 out of 500 | elapsed:    2.1s finished\n",
      "[Parallel(n_jobs=8)]: Done  34 tasks      | elapsed:    0.1s\n",
      "[Parallel(n_jobs=8)]: Done 184 tasks      | elapsed:    1.3s\n",
      "[Parallel(n_jobs=8)]: Done 434 tasks      | elapsed:    3.2s\n",
      "[Parallel(n_jobs=8)]: Done 500 out of 500 | elapsed:    3.8s finished\n"
     ]
    },
    {
     "name": "stdout",
     "output_type": "stream",
     "text": [
      "[CV]  max_depth=75, max_features=10, n_estimators=500, score=0.9416144200626959, total= 2.5min\n",
      "[CV] max_depth=75, max_features=10, n_estimators=1000 ................\n"
     ]
    },
    {
     "name": "stderr",
     "output_type": "stream",
     "text": [
      "[Parallel(n_jobs=-1)]: Done 184 tasks      | elapsed:   53.3s\n",
      "[Parallel(n_jobs=-1)]: Done 434 tasks      | elapsed:  2.2min\n",
      "[Parallel(n_jobs=-1)]: Done 1000 out of 1000 | elapsed:  8.2min finished\n",
      "[Parallel(n_jobs=8)]: Done  34 tasks      | elapsed:    0.1s\n",
      "[Parallel(n_jobs=8)]: Done 184 tasks      | elapsed:    0.7s\n",
      "[Parallel(n_jobs=8)]: Done 434 tasks      | elapsed:    2.0s\n",
      "[Parallel(n_jobs=8)]: Done 784 tasks      | elapsed:    3.5s\n",
      "[Parallel(n_jobs=8)]: Done 1000 out of 1000 | elapsed:    4.6s finished\n",
      "[Parallel(n_jobs=8)]: Done  34 tasks      | elapsed:    0.2s\n",
      "[Parallel(n_jobs=8)]: Done 184 tasks      | elapsed:    1.5s\n",
      "[Parallel(n_jobs=8)]: Done 434 tasks      | elapsed:    3.5s\n",
      "[Parallel(n_jobs=-1)]: Done  34 tasks      | elapsed:   11.2s\n",
      "[Parallel(n_jobs=8)]: Done 784 tasks      | elapsed:    6.5s\n",
      "[Parallel(n_jobs=-1)]: Done 184 tasks      | elapsed:   55.9s\n",
      "[Parallel(n_jobs=8)]: Done 1000 out of 1000 | elapsed:    8.2s finished\n"
     ]
    },
    {
     "name": "stdout",
     "output_type": "stream",
     "text": [
      "[CV]  max_depth=40, max_features=sqrt, n_estimators=1000, score=0.942398119122257, total= 8.5min\n",
      "[CV] max_depth=75, max_features=sqrt, n_estimators=100 ...............\n"
     ]
    },
    {
     "name": "stderr",
     "output_type": "stream",
     "text": [
      "[Parallel(n_jobs=-1)]: Done 500 out of 500 | elapsed:  2.5min finished\n",
      "[Parallel(n_jobs=8)]: Done  34 tasks      | elapsed:    0.1s\n",
      "[Parallel(n_jobs=8)]: Done 184 tasks      | elapsed:    0.8s\n",
      "[Parallel(n_jobs=8)]: Done 434 tasks      | elapsed:    2.2s\n",
      "[Parallel(n_jobs=8)]: Done 500 out of 500 | elapsed:    2.6s finished\n",
      "[Parallel(n_jobs=8)]: Done  34 tasks      | elapsed:    0.2s\n",
      "[Parallel(n_jobs=8)]: Done 184 tasks      | elapsed:    1.4s\n",
      "[Parallel(n_jobs=8)]: Done 434 tasks      | elapsed:    3.3s\n",
      "[Parallel(n_jobs=8)]: Done 500 out of 500 | elapsed:    3.9s finished\n"
     ]
    },
    {
     "name": "stdout",
     "output_type": "stream",
     "text": [
      "[CV]  max_depth=75, max_features=10, n_estimators=500, score=0.9425940438871473, total= 2.6min\n",
      "[CV] max_depth=75, max_features=sqrt, n_estimators=100 ...............\n"
     ]
    },
    {
     "name": "stderr",
     "output_type": "stream",
     "text": [
      "[Parallel(n_jobs=-1)]: Done 434 tasks      | elapsed:  2.1min\n",
      "[Parallel(n_jobs=-1)]: Done  34 tasks      | elapsed:   19.1s\n",
      "[Parallel(n_jobs=-1)]: Done 1000 out of 1000 | elapsed:  8.7min finished\n",
      "[Parallel(n_jobs=8)]: Done  34 tasks      | elapsed:    0.1s\n",
      "[Parallel(n_jobs=8)]: Done 184 tasks      | elapsed:    0.7s\n",
      "[Parallel(n_jobs=8)]: Done 434 tasks      | elapsed:    2.0s\n",
      "[Parallel(n_jobs=8)]: Done 784 tasks      | elapsed:    3.4s\n",
      "[Parallel(n_jobs=8)]: Done 1000 out of 1000 | elapsed:    4.4s finished\n",
      "[Parallel(n_jobs=8)]: Done  34 tasks      | elapsed:    0.1s\n",
      "[Parallel(n_jobs=-1)]: Done 784 tasks      | elapsed:  6.3min\n",
      "[Parallel(n_jobs=8)]: Done 184 tasks      | elapsed:    1.4s\n",
      "[Parallel(n_jobs=8)]: Done 434 tasks      | elapsed:    3.3s\n",
      "[Parallel(n_jobs=-1)]: Done  34 tasks      | elapsed:   20.0s\n",
      "[Parallel(n_jobs=8)]: Done 784 tasks      | elapsed:    6.1s\n",
      "[Parallel(n_jobs=8)]: Done 1000 out of 1000 | elapsed:    7.9s finished\n"
     ]
    },
    {
     "name": "stdout",
     "output_type": "stream",
     "text": [
      "[CV]  max_depth=40, max_features=sqrt, n_estimators=1000, score=0.9439655172413793, total= 9.0min\n",
      "[CV] max_depth=75, max_features=sqrt, n_estimators=100 ...............\n"
     ]
    },
    {
     "name": "stderr",
     "output_type": "stream",
     "text": [
      "[Parallel(n_jobs=-1)]: Done 500 out of 500 | elapsed:  2.4min finished\n",
      "[Parallel(n_jobs=8)]: Done  34 tasks      | elapsed:    0.1s\n",
      "[Parallel(n_jobs=8)]: Done 184 tasks      | elapsed:    0.7s\n",
      "[Parallel(n_jobs=8)]: Done 434 tasks      | elapsed:    1.7s\n",
      "[Parallel(n_jobs=8)]: Done 500 out of 500 | elapsed:    2.0s finished\n",
      "[Parallel(n_jobs=8)]: Done  34 tasks      | elapsed:    0.2s\n",
      "[Parallel(n_jobs=-1)]: Done 184 tasks      | elapsed:   54.2s\n",
      "[Parallel(n_jobs=8)]: Done 184 tasks      | elapsed:    1.4s\n",
      "[Parallel(n_jobs=8)]: Done 434 tasks      | elapsed:    3.4s\n",
      "[Parallel(n_jobs=8)]: Done 500 out of 500 | elapsed:    3.9s finished\n"
     ]
    },
    {
     "name": "stdout",
     "output_type": "stream",
     "text": [
      "[CV]  max_depth=75, max_features=10, n_estimators=500, score=0.9488636363636364, total= 2.5min\n",
      "[CV] max_depth=75, max_features=sqrt, n_estimators=500 ...............\n"
     ]
    },
    {
     "name": "stderr",
     "output_type": "stream",
     "text": [
      "[Parallel(n_jobs=-1)]: Done 434 tasks      | elapsed:  2.1min\n",
      "[Parallel(n_jobs=-1)]: Done  34 tasks      | elapsed:   18.0s\n",
      "[Parallel(n_jobs=-1)]: Done 100 out of 100 | elapsed:   52.2s finished\n",
      "[Parallel(n_jobs=8)]: Done  34 tasks      | elapsed:    0.1s\n",
      "[Parallel(n_jobs=8)]: Done 100 out of 100 | elapsed:    0.5s finished\n",
      "[Parallel(n_jobs=8)]: Done  34 tasks      | elapsed:    0.1s\n",
      "[Parallel(n_jobs=8)]: Done 100 out of 100 | elapsed:    0.7s finished\n"
     ]
    },
    {
     "name": "stdout",
     "output_type": "stream",
     "text": [
      "[CV]  max_depth=75, max_features=sqrt, n_estimators=100, score=0.9404388714733543, total=  54.6s\n",
      "[CV] max_depth=75, max_features=sqrt, n_estimators=500 ...............\n"
     ]
    },
    {
     "name": "stderr",
     "output_type": "stream",
     "text": [
      "[Parallel(n_jobs=-1)]: Done  69 tasks      | elapsed: 17.5min\n",
      "[Parallel(n_jobs=-1)]: Done 100 out of 100 | elapsed:   51.4s finished\n",
      "[Parallel(n_jobs=8)]: Done  34 tasks      | elapsed:    0.1s\n",
      "[Parallel(n_jobs=8)]: Done 100 out of 100 | elapsed:    0.3s finished\n",
      "[Parallel(n_jobs=8)]: Done  34 tasks      | elapsed:    0.2s\n",
      "[Parallel(n_jobs=8)]: Done 100 out of 100 | elapsed:    0.9s finished\n"
     ]
    },
    {
     "name": "stdout",
     "output_type": "stream",
     "text": [
      "[CV]  max_depth=75, max_features=sqrt, n_estimators=100, score=0.9420062695924765, total=  53.7s\n",
      "[CV] max_depth=75, max_features=sqrt, n_estimators=500 ...............\n"
     ]
    },
    {
     "name": "stderr",
     "output_type": "stream",
     "text": [
      "[Parallel(n_jobs=-1)]: Done  34 tasks      | elapsed:   17.9s\n",
      "[Parallel(n_jobs=-1)]: Done 434 tasks      | elapsed:  2.2min\n",
      "[Parallel(n_jobs=-1)]: Done  34 tasks      | elapsed:   19.9s\n",
      "[Parallel(n_jobs=-1)]: Done 100 out of 100 | elapsed:   49.8s finished\n",
      "[Parallel(n_jobs=8)]: Done  34 tasks      | elapsed:    0.1s\n",
      "[Parallel(n_jobs=8)]: Done 100 out of 100 | elapsed:    0.3s finished\n",
      "[Parallel(n_jobs=8)]: Done  34 tasks      | elapsed:    0.2s\n",
      "[Parallel(n_jobs=8)]: Done 100 out of 100 | elapsed:    0.8s finished\n"
     ]
    },
    {
     "name": "stdout",
     "output_type": "stream",
     "text": [
      "[CV]  max_depth=75, max_features=sqrt, n_estimators=100, score=0.9480799373040752, total=  52.0s\n",
      "[CV] max_depth=75, max_features=sqrt, n_estimators=1000 ..............\n"
     ]
    },
    {
     "name": "stderr",
     "output_type": "stream",
     "text": [
      "[Parallel(n_jobs=-1)]: Done  34 tasks      | elapsed:   18.1s\n",
      "[Parallel(n_jobs=-1)]: Done 434 tasks      | elapsed:  2.1min\n",
      "[Parallel(n_jobs=-1)]: Done  34 tasks      | elapsed:   18.5s\n",
      "[Parallel(n_jobs=-1)]: Done 1000 out of 1000 | elapsed:  8.1min finished\n",
      "[Parallel(n_jobs=8)]: Done  34 tasks      | elapsed:    0.1s\n",
      "[Parallel(n_jobs=8)]: Done 184 tasks      | elapsed:    0.8s\n",
      "[Parallel(n_jobs=8)]: Done 434 tasks      | elapsed:    1.8s\n",
      "[Parallel(n_jobs=8)]: Done 784 tasks      | elapsed:    3.3s\n",
      "[Parallel(n_jobs=8)]: Done 1000 out of 1000 | elapsed:    4.4s finished\n",
      "[Parallel(n_jobs=8)]: Done  34 tasks      | elapsed:    0.1s\n",
      "[Parallel(n_jobs=-1)]: Done 184 tasks      | elapsed:  1.5min\n",
      "[Parallel(n_jobs=8)]: Done 184 tasks      | elapsed:    1.3s\n",
      "[Parallel(n_jobs=8)]: Done 434 tasks      | elapsed:    3.4s\n",
      "[Parallel(n_jobs=8)]: Done 784 tasks      | elapsed:    6.1s\n",
      "[Parallel(n_jobs=8)]: Done 1000 out of 1000 | elapsed:    7.9s finished\n"
     ]
    },
    {
     "name": "stdout",
     "output_type": "stream",
     "text": [
      "[CV]  max_depth=40, max_features=sqrt, n_estimators=1000, score=0.9492554858934169, total= 8.4min\n"
     ]
    },
    {
     "name": "stderr",
     "output_type": "stream",
     "text": [
      "[Parallel(n_jobs=-1)]: Done 784 tasks      | elapsed:  3.7min\n"
     ]
    },
    {
     "name": "stdout",
     "output_type": "stream",
     "text": [
      "[CV] max_depth=75, max_features=sqrt, n_estimators=1000 ..............\n"
     ]
    },
    {
     "name": "stderr",
     "output_type": "stream",
     "text": [
      "[Parallel(n_jobs=-1)]: Done 184 tasks      | elapsed:  1.6min\n",
      "[Parallel(n_jobs=-1)]: Done 184 tasks      | elapsed:  1.5min\n",
      "[Parallel(n_jobs=-1)]: Done  34 tasks      | elapsed:   20.5s\n",
      "[Parallel(n_jobs=-1)]: Done 784 tasks      | elapsed:  3.9min\n",
      "[Parallel(n_jobs=-1)]: Done 184 tasks      | elapsed:  1.5min\n",
      "[Parallel(n_jobs=-1)]: Done 1000 out of 1000 | elapsed:  4.7min finished\n",
      "[Parallel(n_jobs=8)]: Done  34 tasks      | elapsed:    0.1s\n",
      "[Parallel(n_jobs=-1)]: Done 784 tasks      | elapsed:  3.7min\n",
      "[Parallel(n_jobs=8)]: Done 184 tasks      | elapsed:    0.8s\n",
      "[Parallel(n_jobs=8)]: Done 434 tasks      | elapsed:    2.0s\n",
      "[Parallel(n_jobs=8)]: Done 784 tasks      | elapsed:    3.5s\n",
      "[Parallel(n_jobs=8)]: Done 1000 out of 1000 | elapsed:    4.5s finished\n",
      "[Parallel(n_jobs=8)]: Done  34 tasks      | elapsed:    0.1s\n",
      "[Parallel(n_jobs=8)]: Done 184 tasks      | elapsed:    1.3s\n",
      "[Parallel(n_jobs=8)]: Done 434 tasks      | elapsed:    3.3s\n",
      "[Parallel(n_jobs=8)]: Done 784 tasks      | elapsed:    5.9s\n",
      "[Parallel(n_jobs=8)]: Done 1000 out of 1000 | elapsed:    7.7s finished\n"
     ]
    },
    {
     "name": "stdout",
     "output_type": "stream",
     "text": [
      "[CV]  max_depth=75, max_features=10, n_estimators=1000, score=0.9414184952978056, total= 5.0min\n",
      "[CV] max_depth=75, max_features=sqrt, n_estimators=1000 ..............\n"
     ]
    },
    {
     "name": "stderr",
     "output_type": "stream",
     "text": [
      "[Parallel(n_jobs=-1)]: Done 1000 out of 1000 | elapsed:  5.0min finished\n",
      "[Parallel(n_jobs=8)]: Done  34 tasks      | elapsed:    0.1s\n",
      "[Parallel(n_jobs=8)]: Done 184 tasks      | elapsed:    0.9s\n",
      "[Parallel(n_jobs=8)]: Done 434 tasks      | elapsed:    2.0s\n",
      "[Parallel(n_jobs=8)]: Done 784 tasks      | elapsed:    3.7s\n",
      "[Parallel(n_jobs=8)]: Done 1000 out of 1000 | elapsed:    4.7s finished\n",
      "[Parallel(n_jobs=8)]: Done  34 tasks      | elapsed:    0.2s\n",
      "[Parallel(n_jobs=-1)]: Done  34 tasks      | elapsed:   18.3s\n",
      "[Parallel(n_jobs=8)]: Done 184 tasks      | elapsed:    1.2s\n",
      "[Parallel(n_jobs=8)]: Done 434 tasks      | elapsed:    3.3s\n",
      "[Parallel(n_jobs=8)]: Done 784 tasks      | elapsed:    6.2s\n",
      "[Parallel(n_jobs=-1)]: Done 184 tasks      | elapsed:  1.6min\n",
      "[Parallel(n_jobs=8)]: Done 1000 out of 1000 | elapsed:    7.9s finished\n"
     ]
    },
    {
     "name": "stdout",
     "output_type": "stream",
     "text": [
      "[CV]  max_depth=75, max_features=10, n_estimators=1000, score=0.9429858934169278, total= 5.2min\n",
      "[CV] max_depth=110, max_features=5, n_estimators=100 .................\n"
     ]
    },
    {
     "name": "stderr",
     "output_type": "stream",
     "text": [
      "[Parallel(n_jobs=-1)]: Done 434 tasks      | elapsed:  3.5min\n",
      "[Parallel(n_jobs=-1)]: Done  34 tasks      | elapsed:    4.9s\n",
      "[Parallel(n_jobs=-1)]: Done 1000 out of 1000 | elapsed:  4.7min finished\n",
      "[Parallel(n_jobs=8)]: Done  34 tasks      | elapsed:    0.1s\n",
      "[Parallel(n_jobs=8)]: Done 184 tasks      | elapsed:    0.8s\n",
      "[Parallel(n_jobs=8)]: Done 434 tasks      | elapsed:    1.8s\n",
      "[Parallel(n_jobs=-1)]: Done 100 out of 100 | elapsed:   13.6s finished\n",
      "[Parallel(n_jobs=8)]: Done 784 tasks      | elapsed:    3.3s\n",
      "[Parallel(n_jobs=8)]: Done  34 tasks      | elapsed:    0.1s\n",
      "[Parallel(n_jobs=8)]: Done 100 out of 100 | elapsed:    0.4s finished\n",
      "[Parallel(n_jobs=8)]: Done  34 tasks      | elapsed:    0.2s\n",
      "[Parallel(n_jobs=8)]: Done 100 out of 100 | elapsed:    0.7s finished\n",
      "[Parallel(n_jobs=8)]: Done 1000 out of 1000 | elapsed:    4.4s finished\n"
     ]
    },
    {
     "name": "stdout",
     "output_type": "stream",
     "text": [
      "[CV]  max_depth=110, max_features=5, n_estimators=100, score=0.9376959247648903, total=  15.9s\n",
      "[CV] max_depth=110, max_features=5, n_estimators=100 .................\n"
     ]
    },
    {
     "name": "stderr",
     "output_type": "stream",
     "text": [
      "[Parallel(n_jobs=8)]: Done  34 tasks      | elapsed:    0.2s\n",
      "[Parallel(n_jobs=8)]: Done 184 tasks      | elapsed:    1.5s\n",
      "[Parallel(n_jobs=8)]: Done 434 tasks      | elapsed:    3.3s\n",
      "[Parallel(n_jobs=8)]: Done 784 tasks      | elapsed:    6.0s\n",
      "[Parallel(n_jobs=-1)]: Done  34 tasks      | elapsed:    5.5s\n",
      "[Parallel(n_jobs=8)]: Done 1000 out of 1000 | elapsed:    7.8s finished\n"
     ]
    },
    {
     "name": "stdout",
     "output_type": "stream",
     "text": [
      "[CV]  max_depth=75, max_features=10, n_estimators=1000, score=0.9490595611285266, total= 5.0min\n",
      "[CV] max_depth=110, max_features=5, n_estimators=100 .................\n"
     ]
    },
    {
     "name": "stderr",
     "output_type": "stream",
     "text": [
      "[Parallel(n_jobs=-1)]: Done 434 tasks      | elapsed:  3.5min\n",
      "[Parallel(n_jobs=-1)]: Done  34 tasks      | elapsed:    4.8s\n",
      "[Parallel(n_jobs=-1)]: Done 434 tasks      | elapsed:  3.8min\n",
      "[Parallel(n_jobs=-1)]: Done 100 out of 100 | elapsed:   14.1s finished\n",
      "[Parallel(n_jobs=8)]: Done  34 tasks      | elapsed:    0.1s\n",
      "[Parallel(n_jobs=8)]: Done 100 out of 100 | elapsed:    0.4s finished\n",
      "[Parallel(n_jobs=8)]: Done  34 tasks      | elapsed:    0.1s\n",
      "[Parallel(n_jobs=8)]: Done 100 out of 100 | elapsed:    0.7s finished\n"
     ]
    },
    {
     "name": "stdout",
     "output_type": "stream",
     "text": [
      "[CV]  max_depth=110, max_features=5, n_estimators=100, score=0.9384796238244514, total=  16.7s\n",
      "[CV] max_depth=110, max_features=5, n_estimators=500 .................\n"
     ]
    },
    {
     "name": "stderr",
     "output_type": "stream",
     "text": [
      "[Parallel(n_jobs=-1)]: Done 500 out of 500 | elapsed:  4.0min finished\n",
      "[Parallel(n_jobs=8)]: Done  34 tasks      | elapsed:    0.1s\n",
      "[Parallel(n_jobs=8)]: Done 184 tasks      | elapsed:    0.7s\n",
      "[Parallel(n_jobs=8)]: Done 434 tasks      | elapsed:    1.9s\n",
      "[Parallel(n_jobs=8)]: Done 500 out of 500 | elapsed:    2.2s finished\n",
      "[Parallel(n_jobs=8)]: Done  34 tasks      | elapsed:    0.2s\n",
      "[Parallel(n_jobs=-1)]: Done 100 out of 100 | elapsed:   12.6s finished\n",
      "[Parallel(n_jobs=8)]: Done 184 tasks      | elapsed:    1.2s\n",
      "[Parallel(n_jobs=8)]: Done  34 tasks      | elapsed:    0.1s\n",
      "[Parallel(n_jobs=8)]: Done 100 out of 100 | elapsed:    0.4s finished\n",
      "[Parallel(n_jobs=8)]: Done  34 tasks      | elapsed:    0.1s\n",
      "[Parallel(n_jobs=8)]: Done 100 out of 100 | elapsed:    0.6s finished\n"
     ]
    },
    {
     "name": "stdout",
     "output_type": "stream",
     "text": [
      "[CV]  max_depth=110, max_features=5, n_estimators=100, score=0.9474921630094044, total=  15.0s\n",
      "[CV] max_depth=110, max_features=5, n_estimators=500 .................\n"
     ]
    },
    {
     "name": "stderr",
     "output_type": "stream",
     "text": [
      "[Parallel(n_jobs=8)]: Done 434 tasks      | elapsed:    3.1s\n",
      "[Parallel(n_jobs=8)]: Done 500 out of 500 | elapsed:    3.6s finished\n"
     ]
    },
    {
     "name": "stdout",
     "output_type": "stream",
     "text": [
      "[CV]  max_depth=75, max_features=sqrt, n_estimators=500, score=0.9427899686520376, total= 4.2min\n",
      "[CV] max_depth=110, max_features=5, n_estimators=500 .................\n"
     ]
    },
    {
     "name": "stderr",
     "output_type": "stream",
     "text": [
      "[Parallel(n_jobs=-1)]: Done  34 tasks      | elapsed:    4.0s\n",
      "[Parallel(n_jobs=-1)]: Done  34 tasks      | elapsed:    5.0s\n",
      "[Parallel(n_jobs=-1)]: Done  34 tasks      | elapsed:    5.0s\n",
      "[Parallel(n_jobs=-1)]: Done 500 out of 500 | elapsed:  4.0min finished\n",
      "[Parallel(n_jobs=8)]: Done  34 tasks      | elapsed:    0.1s\n",
      "[Parallel(n_jobs=8)]: Done 184 tasks      | elapsed:    0.7s\n",
      "[Parallel(n_jobs=-1)]: Done 434 tasks      | elapsed:  3.5min\n",
      "[Parallel(n_jobs=8)]: Done 434 tasks      | elapsed:    1.8s\n",
      "[Parallel(n_jobs=8)]: Done 500 out of 500 | elapsed:    2.1s finished\n",
      "[Parallel(n_jobs=8)]: Done  34 tasks      | elapsed:    0.2s\n",
      "[Parallel(n_jobs=8)]: Done 184 tasks      | elapsed:    1.2s\n",
      "[Parallel(n_jobs=8)]: Done 434 tasks      | elapsed:    3.3s\n",
      "[Parallel(n_jobs=8)]: Done 500 out of 500 | elapsed:    3.8s finished\n"
     ]
    },
    {
     "name": "stdout",
     "output_type": "stream",
     "text": [
      "[CV]  max_depth=75, max_features=sqrt, n_estimators=500, score=0.9504310344827587, total= 4.1min\n",
      "[CV] max_depth=110, max_features=5, n_estimators=1000 ................\n"
     ]
    },
    {
     "name": "stderr",
     "output_type": "stream",
     "text": [
      "[Parallel(n_jobs=-1)]: Done 184 tasks      | elapsed:  1.5min\n",
      "[Parallel(n_jobs=-1)]: Done 184 tasks      | elapsed:   23.3s\n",
      "[Parallel(n_jobs=-1)]: Done 500 out of 500 | elapsed:  4.3min finished\n",
      "[Parallel(n_jobs=8)]: Done  34 tasks      | elapsed:    0.1s\n",
      "[Parallel(n_jobs=8)]: Done 184 tasks      | elapsed:    0.7s\n",
      "[Parallel(n_jobs=8)]: Done 434 tasks      | elapsed:    1.7s\n",
      "[Parallel(n_jobs=8)]: Done 500 out of 500 | elapsed:    2.1s finished\n",
      "[Parallel(n_jobs=8)]: Done  34 tasks      | elapsed:    0.1s\n",
      "[Parallel(n_jobs=8)]: Done 184 tasks      | elapsed:    1.3s\n",
      "[Parallel(n_jobs=8)]: Done 434 tasks      | elapsed:    3.0s\n",
      "[Parallel(n_jobs=-1)]: Done 184 tasks      | elapsed:   24.3s\n",
      "[Parallel(n_jobs=8)]: Done 500 out of 500 | elapsed:    3.7s finished\n"
     ]
    },
    {
     "name": "stdout",
     "output_type": "stream",
     "text": [
      "[CV]  max_depth=75, max_features=sqrt, n_estimators=500, score=0.9445532915360502, total= 4.4min\n",
      "[CV] max_depth=110, max_features=5, n_estimators=1000 ................\n"
     ]
    },
    {
     "name": "stderr",
     "output_type": "stream",
     "text": [
      "[Parallel(n_jobs=-1)]: Done 184 tasks      | elapsed:   23.7s\n",
      "[Parallel(n_jobs=-1)]: Done  34 tasks      | elapsed:    4.2s\n",
      "[Parallel(n_jobs=-1)]: Done  34 tasks      | elapsed:    4.9s\n",
      "[Parallel(n_jobs=-1)]: Done 434 tasks      | elapsed:   54.6s\n",
      "[Parallel(n_jobs=-1)]: Done 184 tasks      | elapsed:   23.5s\n",
      "[Parallel(n_jobs=-1)]: Done 434 tasks      | elapsed:   55.2s\n",
      "[Parallel(n_jobs=-1)]: Done 434 tasks      | elapsed:   57.2s\n",
      "[Parallel(n_jobs=-1)]: Done 500 out of 500 | elapsed:  1.1min finished\n",
      "[Parallel(n_jobs=8)]: Done  34 tasks      | elapsed:    0.1s\n",
      "[Parallel(n_jobs=8)]: Done 184 tasks      | elapsed:    0.7s\n",
      "[Parallel(n_jobs=8)]: Done 434 tasks      | elapsed:    1.7s\n",
      "[Parallel(n_jobs=8)]: Done 500 out of 500 | elapsed:    2.0s finished\n",
      "[Parallel(n_jobs=8)]: Done  34 tasks      | elapsed:    0.2s\n",
      "[Parallel(n_jobs=-1)]: Done 184 tasks      | elapsed:   25.7s\n",
      "[Parallel(n_jobs=8)]: Done 184 tasks      | elapsed:    1.3s\n",
      "[Parallel(n_jobs=8)]: Done 434 tasks      | elapsed:    3.4s\n",
      "[Parallel(n_jobs=8)]: Done 500 out of 500 | elapsed:    4.0s finished\n"
     ]
    },
    {
     "name": "stdout",
     "output_type": "stream",
     "text": [
      "[CV]  max_depth=110, max_features=5, n_estimators=500, score=0.9388714733542319, total= 1.2min\n",
      "[CV] max_depth=110, max_features=5, n_estimators=1000 ................\n"
     ]
    },
    {
     "name": "stderr",
     "output_type": "stream",
     "text": [
      "[Parallel(n_jobs=-1)]: Done  82 tasks      | elapsed: 22.7min\n",
      "[Parallel(n_jobs=-1)]: Done 500 out of 500 | elapsed:  1.1min finished\n",
      "[Parallel(n_jobs=8)]: Done  34 tasks      | elapsed:    0.1s\n",
      "[Parallel(n_jobs=-1)]: Done 500 out of 500 | elapsed:  1.1min finished\n",
      "[Parallel(n_jobs=8)]: Done  34 tasks      | elapsed:    0.1s\n",
      "[Parallel(n_jobs=8)]: Done 184 tasks      | elapsed:    0.7s\n",
      "[Parallel(n_jobs=8)]: Done 184 tasks      | elapsed:    0.7s\n",
      "[Parallel(n_jobs=8)]: Done 434 tasks      | elapsed:    1.7s\n",
      "[Parallel(n_jobs=8)]: Done 500 out of 500 | elapsed:    2.2s finished\n",
      "[Parallel(n_jobs=8)]: Done 434 tasks      | elapsed:    1.6s\n",
      "[Parallel(n_jobs=8)]: Done  34 tasks      | elapsed:    0.2s\n",
      "[Parallel(n_jobs=8)]: Done 500 out of 500 | elapsed:    2.0s finished\n",
      "[Parallel(n_jobs=8)]: Done  34 tasks      | elapsed:    0.2s\n",
      "[Parallel(n_jobs=8)]: Done 184 tasks      | elapsed:    1.2s\n",
      "[Parallel(n_jobs=8)]: Done 184 tasks      | elapsed:    1.1s\n",
      "[Parallel(n_jobs=8)]: Done 434 tasks      | elapsed:    3.3s\n",
      "[Parallel(n_jobs=8)]: Done 434 tasks      | elapsed:    3.0s\n",
      "[Parallel(n_jobs=8)]: Done 500 out of 500 | elapsed:    3.9s finished\n"
     ]
    },
    {
     "name": "stdout",
     "output_type": "stream",
     "text": [
      "[CV]  max_depth=110, max_features=5, n_estimators=500, score=0.9471003134796239, total= 1.2min\n"
     ]
    },
    {
     "name": "stderr",
     "output_type": "stream",
     "text": [
      "[Parallel(n_jobs=8)]: Done 500 out of 500 | elapsed:    3.6s finished\n"
     ]
    },
    {
     "name": "stdout",
     "output_type": "stream",
     "text": [
      "[CV] max_depth=110, max_features=10, n_estimators=100 ................\n",
      "[CV]  max_depth=110, max_features=5, n_estimators=500, score=0.9398510971786834, total= 1.2min\n",
      "[CV] max_depth=110, max_features=10, n_estimators=100 ................\n"
     ]
    },
    {
     "name": "stderr",
     "output_type": "stream",
     "text": [
      "[Parallel(n_jobs=-1)]: Done 434 tasks      | elapsed:  3.7min\n",
      "[Parallel(n_jobs=-1)]: Done  34 tasks      | elapsed:    4.8s\n",
      "[Parallel(n_jobs=-1)]: Done 434 tasks      | elapsed:   55.8s\n",
      "[Parallel(n_jobs=-1)]: Done  34 tasks      | elapsed:   10.7s\n",
      "[Parallel(n_jobs=-1)]: Done  34 tasks      | elapsed:   11.1s\n",
      "[Parallel(n_jobs=-1)]: Done 434 tasks      | elapsed:   58.8s\n",
      "[Parallel(n_jobs=-1)]: Done 184 tasks      | elapsed:   24.8s\n",
      "[Parallel(n_jobs=-1)]: Done 100 out of 100 | elapsed:   29.5s finished\n",
      "[Parallel(n_jobs=8)]: Done  34 tasks      | elapsed:    0.1s\n",
      "[Parallel(n_jobs=8)]: Done 100 out of 100 | elapsed:    0.3s finished\n",
      "[Parallel(n_jobs=8)]: Done  34 tasks      | elapsed:    0.1s\n",
      "[Parallel(n_jobs=8)]: Done 100 out of 100 | elapsed:    0.7s finished\n"
     ]
    },
    {
     "name": "stdout",
     "output_type": "stream",
     "text": [
      "[CV]  max_depth=110, max_features=10, n_estimators=100, score=0.9400470219435737, total=  31.5s\n",
      "[CV] max_depth=110, max_features=10, n_estimators=100 ................\n"
     ]
    },
    {
     "name": "stderr",
     "output_type": "stream",
     "text": [
      "[Parallel(n_jobs=-1)]: Done 100 out of 100 | elapsed:   30.9s finished\n",
      "[Parallel(n_jobs=8)]: Done  34 tasks      | elapsed:    0.1s\n",
      "[Parallel(n_jobs=8)]: Done 100 out of 100 | elapsed:    0.4s finished\n",
      "[Parallel(n_jobs=8)]: Done  34 tasks      | elapsed:    0.1s\n",
      "[Parallel(n_jobs=8)]: Done 100 out of 100 | elapsed:    0.7s finished\n"
     ]
    },
    {
     "name": "stdout",
     "output_type": "stream",
     "text": [
      "[CV]  max_depth=110, max_features=10, n_estimators=100, score=0.9412225705329154, total=  32.9s\n",
      "[CV] max_depth=110, max_features=10, n_estimators=500 ................\n"
     ]
    },
    {
     "name": "stderr",
     "output_type": "stream",
     "text": [
      "[Parallel(n_jobs=-1)]: Done  34 tasks      | elapsed:   10.2s\n",
      "[Parallel(n_jobs=-1)]: Done  34 tasks      | elapsed:   10.9s\n",
      "[Parallel(n_jobs=-1)]: Done 784 tasks      | elapsed:  1.7min\n",
      "[Parallel(n_jobs=-1)]: Done 434 tasks      | elapsed:  3.4min\n",
      "[Parallel(n_jobs=-1)]: Done 434 tasks      | elapsed:   57.1s\n",
      "[Parallel(n_jobs=-1)]: Done 100 out of 100 | elapsed:   29.0s finished\n",
      "[Parallel(n_jobs=8)]: Done  34 tasks      | elapsed:    0.1s\n",
      "[Parallel(n_jobs=8)]: Done 100 out of 100 | elapsed:    0.3s finished\n",
      "[Parallel(n_jobs=8)]: Done  34 tasks      | elapsed:    0.2s\n",
      "[Parallel(n_jobs=8)]: Done 100 out of 100 | elapsed:    0.7s finished\n"
     ]
    },
    {
     "name": "stdout",
     "output_type": "stream",
     "text": [
      "[CV]  max_depth=110, max_features=10, n_estimators=100, score=0.9482758620689655, total=  31.4s\n",
      "[CV] max_depth=110, max_features=10, n_estimators=500 ................\n"
     ]
    },
    {
     "name": "stderr",
     "output_type": "stream",
     "text": [
      "[Parallel(n_jobs=-1)]: Done 784 tasks      | elapsed:  1.7min\n",
      "[Parallel(n_jobs=-1)]: Done  34 tasks      | elapsed:   10.8s\n",
      "[Parallel(n_jobs=-1)]: Done 1000 out of 1000 | elapsed:  2.2min finished\n",
      "[Parallel(n_jobs=8)]: Done  34 tasks      | elapsed:    0.1s\n",
      "[Parallel(n_jobs=8)]: Done 184 tasks      | elapsed:    0.7s\n",
      "[Parallel(n_jobs=8)]: Done 434 tasks      | elapsed:    1.7s\n",
      "[Parallel(n_jobs=8)]: Done 784 tasks      | elapsed:    3.4s\n",
      "[Parallel(n_jobs=8)]: Done 1000 out of 1000 | elapsed:    4.6s finished\n",
      "[Parallel(n_jobs=8)]: Done  34 tasks      | elapsed:    0.1s\n",
      "[Parallel(n_jobs=8)]: Done 184 tasks      | elapsed:    1.4s\n",
      "[Parallel(n_jobs=8)]: Done 434 tasks      | elapsed:    3.4s\n",
      "[Parallel(n_jobs=-1)]: Done 184 tasks      | elapsed:   54.0s\n",
      "[Parallel(n_jobs=8)]: Done 784 tasks      | elapsed:    6.2s\n",
      "[Parallel(n_jobs=8)]: Done 1000 out of 1000 | elapsed:    8.1s finished\n"
     ]
    },
    {
     "name": "stdout",
     "output_type": "stream",
     "text": [
      "[CV]  max_depth=110, max_features=5, n_estimators=1000, score=0.9392633228840125, total= 2.4min\n",
      "[CV] max_depth=110, max_features=10, n_estimators=500 ................\n"
     ]
    },
    {
     "name": "stderr",
     "output_type": "stream",
     "text": [
      "[Parallel(n_jobs=-1)]: Done 1000 out of 1000 | elapsed:  2.2min finished\n",
      "[Parallel(n_jobs=8)]: Done  34 tasks      | elapsed:    0.1s\n",
      "[Parallel(n_jobs=8)]: Done 184 tasks      | elapsed:    0.7s\n",
      "[Parallel(n_jobs=8)]: Done 434 tasks      | elapsed:    1.7s\n",
      "[Parallel(n_jobs=8)]: Done 784 tasks      | elapsed:    3.4s\n",
      "[Parallel(n_jobs=8)]: Done 1000 out of 1000 | elapsed:    4.4s finished\n",
      "[Parallel(n_jobs=8)]: Done  34 tasks      | elapsed:    0.1s\n",
      "[Parallel(n_jobs=-1)]: Done 784 tasks      | elapsed:  6.3min\n",
      "[Parallel(n_jobs=8)]: Done 184 tasks      | elapsed:    1.2s\n",
      "[Parallel(n_jobs=8)]: Done 434 tasks      | elapsed:    3.1s\n",
      "[Parallel(n_jobs=-1)]: Done 784 tasks      | elapsed:  1.7min\n",
      "[Parallel(n_jobs=8)]: Done 784 tasks      | elapsed:    6.0s\n",
      "[Parallel(n_jobs=8)]: Done 1000 out of 1000 | elapsed:    7.8s finished\n"
     ]
    },
    {
     "name": "stdout",
     "output_type": "stream",
     "text": [
      "[CV]  max_depth=110, max_features=5, n_estimators=1000, score=0.9398510971786834, total= 2.5min\n",
      "[CV] max_depth=110, max_features=10, n_estimators=1000 ...............\n"
     ]
    },
    {
     "name": "stderr",
     "output_type": "stream",
     "text": [
      "[Parallel(n_jobs=-1)]: Done  34 tasks      | elapsed:    9.8s\n",
      "[Parallel(n_jobs=-1)]: Done 184 tasks      | elapsed:   54.8s\n",
      "[Parallel(n_jobs=-1)]: Done  34 tasks      | elapsed:   11.3s\n",
      "[Parallel(n_jobs=-1)]: Done 1000 out of 1000 | elapsed:  2.2min finished\n",
      "[Parallel(n_jobs=8)]: Done  34 tasks      | elapsed:    0.1s\n",
      "[Parallel(n_jobs=8)]: Done 184 tasks      | elapsed:    0.7s\n",
      "[Parallel(n_jobs=8)]: Done 434 tasks      | elapsed:    1.6s\n",
      "[Parallel(n_jobs=8)]: Done 784 tasks      | elapsed:    3.3s\n",
      "[Parallel(n_jobs=8)]: Done 1000 out of 1000 | elapsed:    4.4s finished\n",
      "[Parallel(n_jobs=8)]: Done  34 tasks      | elapsed:    0.1s\n",
      "[Parallel(n_jobs=8)]: Done 184 tasks      | elapsed:    1.4s\n",
      "[Parallel(n_jobs=8)]: Done 434 tasks      | elapsed:    3.4s\n",
      "[Parallel(n_jobs=8)]: Done 784 tasks      | elapsed:    6.4s\n",
      "[Parallel(n_jobs=8)]: Done 1000 out of 1000 | elapsed:    8.1s finished\n"
     ]
    },
    {
     "name": "stdout",
     "output_type": "stream",
     "text": [
      "[CV]  max_depth=110, max_features=5, n_estimators=1000, score=0.947884012539185, total= 2.4min\n",
      "[CV] max_depth=110, max_features=10, n_estimators=1000 ...............\n"
     ]
    },
    {
     "name": "stderr",
     "output_type": "stream",
     "text": [
      "[Parallel(n_jobs=-1)]: Done 184 tasks      | elapsed:   50.9s\n",
      "[Parallel(n_jobs=-1)]: Done 434 tasks      | elapsed:  2.0min\n",
      "[Parallel(n_jobs=-1)]: Done  34 tasks      | elapsed:   11.4s\n",
      "[Parallel(n_jobs=-1)]: Done 184 tasks      | elapsed:   53.1s\n",
      "[Parallel(n_jobs=-1)]: Done 500 out of 500 | elapsed:  2.4min finished\n",
      "[Parallel(n_jobs=8)]: Done  34 tasks      | elapsed:    0.1s\n",
      "[Parallel(n_jobs=-1)]: Done 784 tasks      | elapsed:  6.7min\n",
      "[Parallel(n_jobs=8)]: Done 184 tasks      | elapsed:    0.7s\n",
      "[Parallel(n_jobs=8)]: Done 434 tasks      | elapsed:    1.8s\n",
      "[Parallel(n_jobs=8)]: Done 500 out of 500 | elapsed:    2.1s finished\n",
      "[Parallel(n_jobs=8)]: Done  34 tasks      | elapsed:    0.1s\n",
      "[Parallel(n_jobs=8)]: Done 184 tasks      | elapsed:    1.3s\n",
      "[Parallel(n_jobs=8)]: Done 434 tasks      | elapsed:    3.3s\n",
      "[Parallel(n_jobs=8)]: Done 500 out of 500 | elapsed:    3.8s finished\n"
     ]
    },
    {
     "name": "stdout",
     "output_type": "stream",
     "text": [
      "[CV]  max_depth=110, max_features=10, n_estimators=500, score=0.9420062695924765, total= 2.5min\n",
      "[CV] max_depth=110, max_features=10, n_estimators=1000 ...............\n"
     ]
    },
    {
     "name": "stderr",
     "output_type": "stream",
     "text": [
      "[Parallel(n_jobs=-1)]: Done 434 tasks      | elapsed:  2.1min\n",
      "[Parallel(n_jobs=-1)]: Done 1000 out of 1000 | elapsed:  8.0min finished\n",
      "[Parallel(n_jobs=8)]: Done  34 tasks      | elapsed:    0.1s\n",
      "[Parallel(n_jobs=8)]: Done 184 tasks      | elapsed:    0.8s\n",
      "[Parallel(n_jobs=8)]: Done 434 tasks      | elapsed:    2.1s\n",
      "[Parallel(n_jobs=-1)]: Done  34 tasks      | elapsed:   10.0s\n",
      "[Parallel(n_jobs=8)]: Done 784 tasks      | elapsed:    4.1s\n",
      "[Parallel(n_jobs=8)]: Done 1000 out of 1000 | elapsed:    5.2s finished\n",
      "[Parallel(n_jobs=8)]: Done  34 tasks      | elapsed:    0.1s\n",
      "[Parallel(n_jobs=8)]: Done 184 tasks      | elapsed:    1.5s\n",
      "[Parallel(n_jobs=-1)]: Done 184 tasks      | elapsed:   55.5s\n",
      "[Parallel(n_jobs=8)]: Done 434 tasks      | elapsed:    3.5s\n",
      "[Parallel(n_jobs=-1)]: Done 500 out of 500 | elapsed:  2.4min finished\n",
      "[Parallel(n_jobs=8)]: Done  34 tasks      | elapsed:    0.1s\n",
      "[Parallel(n_jobs=8)]: Done 784 tasks      | elapsed:    6.1s\n",
      "[Parallel(n_jobs=8)]: Done 184 tasks      | elapsed:    0.8s\n",
      "[Parallel(n_jobs=8)]: Done 434 tasks      | elapsed:    1.9s\n",
      "[Parallel(n_jobs=8)]: Done 1000 out of 1000 | elapsed:    7.9s finished\n"
     ]
    },
    {
     "name": "stdout",
     "output_type": "stream",
     "text": [
      "[CV]  max_depth=75, max_features=sqrt, n_estimators=1000, score=0.9433777429467085, total= 8.3min\n",
      "[CV] max_depth=110, max_features=sqrt, n_estimators=100 ..............\n"
     ]
    },
    {
     "name": "stderr",
     "output_type": "stream",
     "text": [
      "[Parallel(n_jobs=8)]: Done 500 out of 500 | elapsed:    2.2s finished\n",
      "[Parallel(n_jobs=8)]: Done  34 tasks      | elapsed:    0.2s\n",
      "[Parallel(n_jobs=8)]: Done 184 tasks      | elapsed:    1.1s\n",
      "[Parallel(n_jobs=8)]: Done 434 tasks      | elapsed:    3.0s\n",
      "[Parallel(n_jobs=8)]: Done 500 out of 500 | elapsed:    3.6s finished\n"
     ]
    },
    {
     "name": "stdout",
     "output_type": "stream",
     "text": [
      "[CV]  max_depth=110, max_features=10, n_estimators=500, score=0.9422021943573667, total= 2.6min\n",
      "[CV] max_depth=110, max_features=sqrt, n_estimators=100 ..............\n"
     ]
    },
    {
     "name": "stderr",
     "output_type": "stream",
     "text": [
      "[Parallel(n_jobs=-1)]: Done 434 tasks      | elapsed:  2.0min\n",
      "[Parallel(n_jobs=-1)]: Done 784 tasks      | elapsed:  6.2min\n",
      "[Parallel(n_jobs=-1)]: Done  34 tasks      | elapsed:   17.9s\n",
      "[Parallel(n_jobs=-1)]: Done 500 out of 500 | elapsed:  2.3min finished\n",
      "[Parallel(n_jobs=8)]: Done  34 tasks      | elapsed:    0.1s\n",
      "[Parallel(n_jobs=8)]: Done 184 tasks      | elapsed:    0.7s\n",
      "[Parallel(n_jobs=-1)]: Done  34 tasks      | elapsed:   19.8s\n",
      "[Parallel(n_jobs=8)]: Done 434 tasks      | elapsed:    1.8s\n",
      "[Parallel(n_jobs=8)]: Done 500 out of 500 | elapsed:    2.1s finished\n",
      "[Parallel(n_jobs=8)]: Done  34 tasks      | elapsed:    0.1s\n",
      "[Parallel(n_jobs=8)]: Done 184 tasks      | elapsed:    1.4s\n",
      "[Parallel(n_jobs=-1)]: Done 434 tasks      | elapsed:  2.1min\n",
      "[Parallel(n_jobs=8)]: Done 434 tasks      | elapsed:    3.7s\n",
      "[Parallel(n_jobs=8)]: Done 500 out of 500 | elapsed:    4.4s finished\n"
     ]
    },
    {
     "name": "stdout",
     "output_type": "stream",
     "text": [
      "[CV]  max_depth=110, max_features=10, n_estimators=500, score=0.9467084639498433, total= 2.5min\n",
      "[CV] max_depth=110, max_features=sqrt, n_estimators=100 ..............\n"
     ]
    },
    {
     "name": "stderr",
     "output_type": "stream",
     "text": [
      "[Parallel(n_jobs=-1)]: Done 184 tasks      | elapsed:   52.8s\n",
      "[Parallel(n_jobs=-1)]: Done  34 tasks      | elapsed:   18.7s\n",
      "[Parallel(n_jobs=-1)]: Done 100 out of 100 | elapsed:   51.3s finished\n",
      "[Parallel(n_jobs=8)]: Done  34 tasks      | elapsed:    0.1s\n",
      "[Parallel(n_jobs=8)]: Done 100 out of 100 | elapsed:    0.4s finished\n",
      "[Parallel(n_jobs=8)]: Done  34 tasks      | elapsed:    0.1s\n",
      "[Parallel(n_jobs=8)]: Done 100 out of 100 | elapsed:    0.7s finished\n"
     ]
    },
    {
     "name": "stdout",
     "output_type": "stream",
     "text": [
      "[CV]  max_depth=110, max_features=sqrt, n_estimators=100, score=0.9435736677115988, total=  53.9s\n",
      "[CV] max_depth=110, max_features=sqrt, n_estimators=500 ..............\n"
     ]
    },
    {
     "name": "stderr",
     "output_type": "stream",
     "text": [
      "[Parallel(n_jobs=-1)]: Done 100 out of 100 | elapsed:   53.6s finished\n",
      "[Parallel(n_jobs=8)]: Done  34 tasks      | elapsed:    0.1s\n",
      "[Parallel(n_jobs=8)]: Done 100 out of 100 | elapsed:    0.4s finished\n",
      "[Parallel(n_jobs=8)]: Done  34 tasks      | elapsed:    0.1s\n",
      "[Parallel(n_jobs=8)]: Done 100 out of 100 | elapsed:    0.6s finished\n"
     ]
    },
    {
     "name": "stdout",
     "output_type": "stream",
     "text": [
      "[CV]  max_depth=110, max_features=sqrt, n_estimators=100, score=0.942398119122257, total=  56.1s\n",
      "[CV] max_depth=110, max_features=sqrt, n_estimators=500 ..............\n"
     ]
    },
    {
     "name": "stderr",
     "output_type": "stream",
     "text": [
      "[Parallel(n_jobs=-1)]: Done 434 tasks      | elapsed:  2.1min\n",
      "[Parallel(n_jobs=-1)]: Done 1000 out of 1000 | elapsed:  8.5min finished\n",
      "[Parallel(n_jobs=8)]: Done  34 tasks      | elapsed:    0.1s\n",
      "[Parallel(n_jobs=8)]: Done 184 tasks      | elapsed:    0.7s\n",
      "[Parallel(n_jobs=8)]: Done 434 tasks      | elapsed:    1.8s\n",
      "[Parallel(n_jobs=8)]: Done 784 tasks      | elapsed:    3.4s\n",
      "[Parallel(n_jobs=-1)]: Done  34 tasks      | elapsed:   17.9s\n",
      "[Parallel(n_jobs=8)]: Done 1000 out of 1000 | elapsed:    4.4s finished\n",
      "[Parallel(n_jobs=8)]: Done  34 tasks      | elapsed:    0.1s\n",
      "[Parallel(n_jobs=8)]: Done 184 tasks      | elapsed:    1.3s\n",
      "[Parallel(n_jobs=-1)]: Done 100 out of 100 | elapsed:   49.6s finished\n",
      "[Parallel(n_jobs=8)]: Done 434 tasks      | elapsed:    3.2s\n",
      "[Parallel(n_jobs=8)]: Done  34 tasks      | elapsed:    0.1s\n",
      "[Parallel(n_jobs=8)]: Done 100 out of 100 | elapsed:    0.4s finished\n",
      "[Parallel(n_jobs=8)]: Done  34 tasks      | elapsed:    0.2s\n",
      "[Parallel(n_jobs=8)]: Done 100 out of 100 | elapsed:    0.8s finished\n"
     ]
    },
    {
     "name": "stdout",
     "output_type": "stream",
     "text": [
      "[CV]  max_depth=110, max_features=sqrt, n_estimators=100, score=0.9480799373040752, total=  52.0s\n",
      "[CV] max_depth=110, max_features=sqrt, n_estimators=500 ..............\n"
     ]
    },
    {
     "name": "stderr",
     "output_type": "stream",
     "text": [
      "[Parallel(n_jobs=-1)]: Done  97 tasks      | elapsed: 27.9min\n",
      "[Parallel(n_jobs=8)]: Done 784 tasks      | elapsed:    6.0s\n",
      "[Parallel(n_jobs=8)]: Done 1000 out of 1000 | elapsed:    7.8s finished\n"
     ]
    },
    {
     "name": "stdout",
     "output_type": "stream",
     "text": [
      "[CV]  max_depth=75, max_features=sqrt, n_estimators=1000, score=0.9433777429467085, total= 8.8min\n",
      "[CV] max_depth=110, max_features=sqrt, n_estimators=1000 .............\n"
     ]
    },
    {
     "name": "stderr",
     "output_type": "stream",
     "text": [
      "[Parallel(n_jobs=-1)]: Done  34 tasks      | elapsed:   20.1s\n",
      "[Parallel(n_jobs=-1)]: Done 434 tasks      | elapsed:  2.0min\n",
      "[Parallel(n_jobs=-1)]: Done  34 tasks      | elapsed:   17.4s\n",
      "[Parallel(n_jobs=-1)]: Done 1000 out of 1000 | elapsed:  7.8min finished\n",
      "[Parallel(n_jobs=8)]: Done  34 tasks      | elapsed:    0.1s\n",
      "[Parallel(n_jobs=8)]: Done 184 tasks      | elapsed:    0.7s\n",
      "[Parallel(n_jobs=8)]: Done 434 tasks      | elapsed:    1.7s\n",
      "[Parallel(n_jobs=8)]: Done 784 tasks      | elapsed:    3.5s\n",
      "[Parallel(n_jobs=8)]: Done 1000 out of 1000 | elapsed:    4.5s finished\n",
      "[Parallel(n_jobs=8)]: Done  34 tasks      | elapsed:    0.2s\n",
      "[Parallel(n_jobs=8)]: Done 184 tasks      | elapsed:    1.3s\n",
      "[Parallel(n_jobs=8)]: Done 434 tasks      | elapsed:    3.3s\n",
      "[Parallel(n_jobs=-1)]: Done  34 tasks      | elapsed:   18.8s\n",
      "[Parallel(n_jobs=8)]: Done 784 tasks      | elapsed:    6.1s\n",
      "[Parallel(n_jobs=8)]: Done 1000 out of 1000 | elapsed:    7.8s finished\n"
     ]
    },
    {
     "name": "stdout",
     "output_type": "stream",
     "text": [
      "[CV]  max_depth=75, max_features=sqrt, n_estimators=1000, score=0.9496473354231975, total= 8.1min\n",
      "[CV] max_depth=110, max_features=sqrt, n_estimators=1000 .............\n"
     ]
    },
    {
     "name": "stderr",
     "output_type": "stream",
     "text": [
      "[Parallel(n_jobs=-1)]: Done 784 tasks      | elapsed:  3.7min\n",
      "[Parallel(n_jobs=-1)]: Done 184 tasks      | elapsed:  1.5min\n",
      "[Parallel(n_jobs=-1)]: Done  34 tasks      | elapsed:   21.1s\n",
      "[Parallel(n_jobs=-1)]: Done 184 tasks      | elapsed:  1.6min\n",
      "[Parallel(n_jobs=-1)]: Done 784 tasks      | elapsed:  3.8min\n",
      "[Parallel(n_jobs=-1)]: Done 184 tasks      | elapsed:  1.5min\n",
      "[Parallel(n_jobs=-1)]: Done 1000 out of 1000 | elapsed:  4.7min finished\n",
      "[Parallel(n_jobs=8)]: Done  34 tasks      | elapsed:    0.1s\n",
      "[Parallel(n_jobs=8)]: Done 184 tasks      | elapsed:    0.7s\n",
      "[Parallel(n_jobs=8)]: Done 434 tasks      | elapsed:    1.8s\n",
      "[Parallel(n_jobs=8)]: Done 784 tasks      | elapsed:    3.2s\n",
      "[Parallel(n_jobs=-1)]: Done 184 tasks      | elapsed:  1.5min\n",
      "[Parallel(n_jobs=8)]: Done 1000 out of 1000 | elapsed:    4.2s finished\n",
      "[Parallel(n_jobs=8)]: Done  34 tasks      | elapsed:    0.2s\n",
      "[Parallel(n_jobs=8)]: Done 184 tasks      | elapsed:    1.3s\n",
      "[Parallel(n_jobs=8)]: Done 434 tasks      | elapsed:    3.3s\n",
      "[Parallel(n_jobs=8)]: Done 784 tasks      | elapsed:    6.1s\n",
      "[Parallel(n_jobs=8)]: Done 1000 out of 1000 | elapsed:    7.8s finished\n"
     ]
    },
    {
     "name": "stdout",
     "output_type": "stream",
     "text": [
      "[CV]  max_depth=110, max_features=10, n_estimators=1000, score=0.9416144200626959, total= 4.9min\n",
      "[CV] max_depth=110, max_features=sqrt, n_estimators=1000 .............\n"
     ]
    },
    {
     "name": "stderr",
     "output_type": "stream",
     "text": [
      "[Parallel(n_jobs=-1)]: Done 784 tasks      | elapsed:  3.6min\n",
      "[Parallel(n_jobs=-1)]: Done  34 tasks      | elapsed:   17.6s\n",
      "[Parallel(n_jobs=-1)]: Done 184 tasks      | elapsed:  1.6min\n",
      "[Parallel(n_jobs=-1)]: Done 1000 out of 1000 | elapsed:  4.9min finished\n",
      "[Parallel(n_jobs=8)]: Done  34 tasks      | elapsed:    0.1s\n",
      "[Parallel(n_jobs=8)]: Done 184 tasks      | elapsed:    0.8s\n",
      "[Parallel(n_jobs=8)]: Done 434 tasks      | elapsed:    1.9s\n",
      "[Parallel(n_jobs=8)]: Done 784 tasks      | elapsed:    3.6s\n",
      "[Parallel(n_jobs=8)]: Done 1000 out of 1000 | elapsed:    4.6s finished\n",
      "[Parallel(n_jobs=8)]: Done  34 tasks      | elapsed:    0.1s\n",
      "[Parallel(n_jobs=8)]: Done 184 tasks      | elapsed:    1.4s\n",
      "[Parallel(n_jobs=8)]: Done 434 tasks      | elapsed:    3.4s\n",
      "[Parallel(n_jobs=8)]: Done 784 tasks      | elapsed:    6.0s\n",
      "[Parallel(n_jobs=8)]: Done 1000 out of 1000 | elapsed:    7.9s finished\n"
     ]
    },
    {
     "name": "stdout",
     "output_type": "stream",
     "text": [
      "[CV]  max_depth=110, max_features=10, n_estimators=1000, score=0.9422021943573667, total= 5.2min\n",
      "[CV] max_depth=None, max_features=5, n_estimators=100 ................\n"
     ]
    },
    {
     "name": "stderr",
     "output_type": "stream",
     "text": [
      "[Parallel(n_jobs=-1)]: Done  34 tasks      | elapsed:    4.7s\n",
      "[Parallel(n_jobs=-1)]: Done 1000 out of 1000 | elapsed:  4.7min finished\n",
      "[Parallel(n_jobs=8)]: Done  34 tasks      | elapsed:    0.1s\n",
      "[Parallel(n_jobs=8)]: Done 184 tasks      | elapsed:    0.8s\n",
      "[Parallel(n_jobs=8)]: Done 434 tasks      | elapsed:    1.8s\n",
      "[Parallel(n_jobs=-1)]: Done 100 out of 100 | elapsed:   13.7s finished\n",
      "[Parallel(n_jobs=8)]: Done  34 tasks      | elapsed:    0.1s\n",
      "[Parallel(n_jobs=8)]: Done 100 out of 100 | elapsed:    0.4s finished\n",
      "[Parallel(n_jobs=8)]: Done  34 tasks      | elapsed:    0.2s\n",
      "[Parallel(n_jobs=8)]: Done 100 out of 100 | elapsed:    0.7s finished\n"
     ]
    },
    {
     "name": "stdout",
     "output_type": "stream",
     "text": [
      "[CV]  max_depth=None, max_features=5, n_estimators=100, score=0.9384796238244514, total=  16.0s\n",
      "[CV] max_depth=None, max_features=5, n_estimators=100 ................\n"
     ]
    },
    {
     "name": "stderr",
     "output_type": "stream",
     "text": [
      "[Parallel(n_jobs=8)]: Done 784 tasks      | elapsed:    3.8s\n",
      "[Parallel(n_jobs=8)]: Done 1000 out of 1000 | elapsed:    4.8s finished\n",
      "[Parallel(n_jobs=8)]: Done  34 tasks      | elapsed:    0.1s\n",
      "[Parallel(n_jobs=8)]: Done 184 tasks      | elapsed:    1.3s\n",
      "[Parallel(n_jobs=8)]: Done 434 tasks      | elapsed:    3.3s\n",
      "[Parallel(n_jobs=-1)]: Done  34 tasks      | elapsed:    5.2s\n",
      "[Parallel(n_jobs=8)]: Done 784 tasks      | elapsed:    6.0s\n",
      "[Parallel(n_jobs=-1)]: Done 434 tasks      | elapsed:  3.5min\n",
      "[Parallel(n_jobs=8)]: Done 1000 out of 1000 | elapsed:    7.8s finished\n"
     ]
    },
    {
     "name": "stdout",
     "output_type": "stream",
     "text": [
      "[CV]  max_depth=110, max_features=10, n_estimators=1000, score=0.9474921630094044, total= 4.9min\n",
      "[CV] max_depth=None, max_features=5, n_estimators=100 ................\n"
     ]
    },
    {
     "name": "stderr",
     "output_type": "stream",
     "text": [
      "[Parallel(n_jobs=-1)]: Done 100 out of 100 | elapsed:   13.8s finished\n",
      "[Parallel(n_jobs=-1)]: Done  34 tasks      | elapsed:    4.7s\n",
      "[Parallel(n_jobs=8)]: Done  34 tasks      | elapsed:    0.1s\n",
      "[Parallel(n_jobs=8)]: Done 100 out of 100 | elapsed:    0.4s finished\n",
      "[Parallel(n_jobs=8)]: Done  34 tasks      | elapsed:    0.2s\n",
      "[Parallel(n_jobs=8)]: Done 100 out of 100 | elapsed:    0.9s finished\n"
     ]
    },
    {
     "name": "stdout",
     "output_type": "stream",
     "text": [
      "[CV]  max_depth=None, max_features=5, n_estimators=100, score=0.9375, total=  16.4s\n",
      "[CV] max_depth=None, max_features=5, n_estimators=500 ................\n"
     ]
    },
    {
     "name": "stderr",
     "output_type": "stream",
     "text": [
      "[Parallel(n_jobs=-1)]: Done 100 out of 100 | elapsed:   12.8s finished\n",
      "[Parallel(n_jobs=8)]: Done  34 tasks      | elapsed:    0.1s\n",
      "[Parallel(n_jobs=8)]: Done 100 out of 100 | elapsed:    0.4s finished\n",
      "[Parallel(n_jobs=8)]: Done  34 tasks      | elapsed:    0.2s\n",
      "[Parallel(n_jobs=8)]: Done 100 out of 100 | elapsed:    0.9s finished\n"
     ]
    },
    {
     "name": "stdout",
     "output_type": "stream",
     "text": [
      "[CV]  max_depth=None, max_features=5, n_estimators=100, score=0.945141065830721, total=  15.2s\n",
      "[CV] max_depth=None, max_features=5, n_estimators=500 ................\n"
     ]
    },
    {
     "name": "stderr",
     "output_type": "stream",
     "text": [
      "[Parallel(n_jobs=-1)]: Done 434 tasks      | elapsed:  3.7min\n",
      "[Parallel(n_jobs=-1)]: Done  34 tasks      | elapsed:    4.5s\n",
      "[Parallel(n_jobs=-1)]: Done 184 tasks      | elapsed:  1.5min\n",
      "[Parallel(n_jobs=-1)]: Done 434 tasks      | elapsed:  3.5min\n",
      "[Parallel(n_jobs=-1)]: Done  34 tasks      | elapsed:    5.3s\n",
      "[Parallel(n_jobs=-1)]: Done 500 out of 500 | elapsed:  4.0min finished\n",
      "[Parallel(n_jobs=8)]: Done  34 tasks      | elapsed:    0.1s\n",
      "[Parallel(n_jobs=8)]: Done 184 tasks      | elapsed:    0.7s\n",
      "[Parallel(n_jobs=8)]: Done 434 tasks      | elapsed:    1.9s\n",
      "[Parallel(n_jobs=8)]: Done 500 out of 500 | elapsed:    2.3s finished\n",
      "[Parallel(n_jobs=8)]: Done  34 tasks      | elapsed:    0.1s\n",
      "[Parallel(n_jobs=8)]: Done 184 tasks      | elapsed:    1.4s\n",
      "[Parallel(n_jobs=-1)]: Done 434 tasks      | elapsed:  3.5min\n",
      "[Parallel(n_jobs=8)]: Done 434 tasks      | elapsed:    3.3s\n",
      "[Parallel(n_jobs=8)]: Done 500 out of 500 | elapsed:    3.8s finished\n"
     ]
    },
    {
     "name": "stdout",
     "output_type": "stream",
     "text": [
      "[CV]  max_depth=110, max_features=sqrt, n_estimators=500, score=0.9429858934169278, total= 4.2min\n",
      "[CV] max_depth=None, max_features=5, n_estimators=500 ................\n"
     ]
    },
    {
     "name": "stderr",
     "output_type": "stream",
     "text": [
      "[Parallel(n_jobs=-1)]: Done 184 tasks      | elapsed:   24.2s\n",
      "[Parallel(n_jobs=-1)]: Done  34 tasks      | elapsed:    4.8s\n",
      "[Parallel(n_jobs=-1)]: Done 184 tasks      | elapsed:   24.9s\n",
      "[Parallel(n_jobs=-1)]: Done 500 out of 500 | elapsed:  4.2min finished\n",
      "[Parallel(n_jobs=8)]: Done  34 tasks      | elapsed:    0.1s\n",
      "[Parallel(n_jobs=8)]: Done 184 tasks      | elapsed:    0.7s\n",
      "[Parallel(n_jobs=8)]: Done 434 tasks      | elapsed:    1.8s\n",
      "[Parallel(n_jobs=8)]: Done 500 out of 500 | elapsed:    2.1s finished\n",
      "[Parallel(n_jobs=8)]: Done  34 tasks      | elapsed:    0.2s\n",
      "[Parallel(n_jobs=8)]: Done 184 tasks      | elapsed:    1.3s\n",
      "[Parallel(n_jobs=8)]: Done 434 tasks      | elapsed:    3.3s\n",
      "[Parallel(n_jobs=8)]: Done 500 out of 500 | elapsed:    4.0s finished\n"
     ]
    },
    {
     "name": "stdout",
     "output_type": "stream",
     "text": [
      "[CV]  max_depth=110, max_features=sqrt, n_estimators=500, score=0.9431818181818182, total= 4.4min\n",
      "[CV] max_depth=None, max_features=5, n_estimators=1000 ...............\n"
     ]
    },
    {
     "name": "stderr",
     "output_type": "stream",
     "text": [
      "[Parallel(n_jobs=-1)]: Done 500 out of 500 | elapsed:  4.0min finished\n",
      "[Parallel(n_jobs=8)]: Done  34 tasks      | elapsed:    0.1s\n",
      "[Parallel(n_jobs=8)]: Done 184 tasks      | elapsed:    0.7s\n",
      "[Parallel(n_jobs=8)]: Done 434 tasks      | elapsed:    1.8s\n",
      "[Parallel(n_jobs=8)]: Done 500 out of 500 | elapsed:    2.1s finished\n",
      "[Parallel(n_jobs=8)]: Done  34 tasks      | elapsed:    0.1s\n",
      "[Parallel(n_jobs=8)]: Done 184 tasks      | elapsed:    1.2s\n",
      "[Parallel(n_jobs=8)]: Done 434 tasks      | elapsed:    3.0s\n",
      "[Parallel(n_jobs=8)]: Done 500 out of 500 | elapsed:    3.6s finished\n"
     ]
    },
    {
     "name": "stdout",
     "output_type": "stream",
     "text": [
      "[CV]  max_depth=110, max_features=sqrt, n_estimators=500, score=0.9502351097178683, total= 4.1min\n",
      "[CV] max_depth=None, max_features=5, n_estimators=1000 ...............\n"
     ]
    },
    {
     "name": "stderr",
     "output_type": "stream",
     "text": [
      "[Parallel(n_jobs=-1)]: Done 184 tasks      | elapsed:   23.1s\n",
      "[Parallel(n_jobs=-1)]: Done 434 tasks      | elapsed:   55.0s\n",
      "[Parallel(n_jobs=-1)]: Done  34 tasks      | elapsed:    4.2s\n",
      "[Parallel(n_jobs=-1)]: Done  34 tasks      | elapsed:    5.2s\n",
      "[Parallel(n_jobs=-1)]: Done 500 out of 500 | elapsed:  1.1min finished\n",
      "[Parallel(n_jobs=8)]: Done  34 tasks      | elapsed:    0.1s\n",
      "[Parallel(n_jobs=8)]: Done 184 tasks      | elapsed:    0.7s\n",
      "[Parallel(n_jobs=8)]: Done 434 tasks      | elapsed:    1.9s\n",
      "[Parallel(n_jobs=-1)]: Done 434 tasks      | elapsed:   57.0s\n",
      "[Parallel(n_jobs=8)]: Done 500 out of 500 | elapsed:    2.3s finished\n",
      "[Parallel(n_jobs=8)]: Done  34 tasks      | elapsed:    0.1s\n",
      "[Parallel(n_jobs=8)]: Done 184 tasks      | elapsed:    1.4s\n",
      "[Parallel(n_jobs=-1)]: Done 434 tasks      | elapsed:  3.7min\n",
      "[Parallel(n_jobs=8)]: Done 434 tasks      | elapsed:    3.3s\n",
      "[Parallel(n_jobs=8)]: Done 500 out of 500 | elapsed:    4.0s finished\n"
     ]
    },
    {
     "name": "stdout",
     "output_type": "stream",
     "text": [
      "[CV]  max_depth=None, max_features=5, n_estimators=500, score=0.9394592476489029, total= 1.2min\n",
      "[CV] max_depth=None, max_features=5, n_estimators=1000 ...............\n"
     ]
    },
    {
     "name": "stderr",
     "output_type": "stream",
     "text": [
      "[Parallel(n_jobs=-1)]: Done 500 out of 500 | elapsed:  1.1min finished\n",
      "[Parallel(n_jobs=8)]: Done  34 tasks      | elapsed:    0.1s\n",
      "[Parallel(n_jobs=8)]: Done 184 tasks      | elapsed:    0.7s\n",
      "[Parallel(n_jobs=-1)]: Done 184 tasks      | elapsed:   23.8s\n",
      "[Parallel(n_jobs=8)]: Done 434 tasks      | elapsed:    1.7s\n",
      "[Parallel(n_jobs=8)]: Done 500 out of 500 | elapsed:    2.0s finished\n",
      "[Parallel(n_jobs=8)]: Done  34 tasks      | elapsed:    0.2s\n",
      "[Parallel(n_jobs=8)]: Done 184 tasks      | elapsed:    1.2s\n",
      "[Parallel(n_jobs=8)]: Done 434 tasks      | elapsed:    3.1s\n",
      "[Parallel(n_jobs=8)]: Done 500 out of 500 | elapsed:    3.6s finished\n"
     ]
    },
    {
     "name": "stdout",
     "output_type": "stream",
     "text": [
      "[CV]  max_depth=None, max_features=5, n_estimators=500, score=0.9388714733542319, total= 1.2min\n",
      "[CV] max_depth=None, max_features=10, n_estimators=100 ...............\n"
     ]
    },
    {
     "name": "stderr",
     "output_type": "stream",
     "text": [
      "[Parallel(n_jobs=-1)]: Done 184 tasks      | elapsed:   24.5s\n",
      "[Parallel(n_jobs=-1)]: Done 434 tasks      | elapsed:   54.6s\n",
      "[Parallel(n_jobs=-1)]: Done  34 tasks      | elapsed:    5.1s\n",
      "[Parallel(n_jobs=-1)]: Done 500 out of 500 | elapsed:  1.1min finished\n",
      "[Parallel(n_jobs=8)]: Done  34 tasks      | elapsed:    0.1s\n",
      "[Parallel(n_jobs=-1)]: Done  34 tasks      | elapsed:   10.1s\n",
      "[Parallel(n_jobs=8)]: Done 184 tasks      | elapsed:    0.7s\n",
      "[Parallel(n_jobs=8)]: Done 434 tasks      | elapsed:    1.8s\n",
      "[Parallel(n_jobs=8)]: Done 500 out of 500 | elapsed:    2.3s finished\n",
      "[Parallel(n_jobs=8)]: Done  34 tasks      | elapsed:    0.1s\n",
      "[Parallel(n_jobs=8)]: Done 184 tasks      | elapsed:    1.3s\n",
      "[Parallel(n_jobs=8)]: Done 434 tasks      | elapsed:    3.3s\n",
      "[Parallel(n_jobs=8)]: Done 500 out of 500 | elapsed:    3.9s finished\n"
     ]
    },
    {
     "name": "stdout",
     "output_type": "stream",
     "text": [
      "[CV]  max_depth=None, max_features=5, n_estimators=500, score=0.9457288401253918, total= 1.2min\n",
      "[CV] max_depth=None, max_features=10, n_estimators=100 ...............\n"
     ]
    },
    {
     "name": "stderr",
     "output_type": "stream",
     "text": [
      "[Parallel(n_jobs=-1)]: Done 184 tasks      | elapsed:   25.0s\n",
      "[Parallel(n_jobs=-1)]: Done 434 tasks      | elapsed:   56.4s\n",
      "[Parallel(n_jobs=-1)]: Done 100 out of 100 | elapsed:   29.0s finished\n",
      "[Parallel(n_jobs=8)]: Done  34 tasks      | elapsed:    0.1s\n",
      "[Parallel(n_jobs=8)]: Done 100 out of 100 | elapsed:    0.4s finished\n",
      "[Parallel(n_jobs=-1)]: Done  34 tasks      | elapsed:   11.3s\n",
      "[Parallel(n_jobs=8)]: Done  34 tasks      | elapsed:    0.1s\n",
      "[Parallel(n_jobs=8)]: Done 100 out of 100 | elapsed:    0.8s finished\n"
     ]
    },
    {
     "name": "stdout",
     "output_type": "stream",
     "text": [
      "[CV]  max_depth=None, max_features=10, n_estimators=100, score=0.942398119122257, total=  31.5s\n",
      "[CV] max_depth=None, max_features=10, n_estimators=100 ...............\n"
     ]
    },
    {
     "name": "stderr",
     "output_type": "stream",
     "text": [
      "[Parallel(n_jobs=-1)]: Done 112 tasks      | elapsed: 33.1min\n",
      "[Parallel(n_jobs=-1)]: Done 434 tasks      | elapsed:   58.7s\n",
      "[Parallel(n_jobs=-1)]: Done  34 tasks      | elapsed:   10.8s\n",
      "[Parallel(n_jobs=-1)]: Done 434 tasks      | elapsed:  3.4min\n",
      "[Parallel(n_jobs=-1)]: Done 100 out of 100 | elapsed:   31.3s finished\n",
      "[Parallel(n_jobs=8)]: Done  34 tasks      | elapsed:    0.1s\n",
      "[Parallel(n_jobs=8)]: Done 100 out of 100 | elapsed:    0.4s finished\n",
      "[Parallel(n_jobs=8)]: Done  34 tasks      | elapsed:    0.1s\n",
      "[Parallel(n_jobs=8)]: Done 100 out of 100 | elapsed:    0.8s finished\n"
     ]
    },
    {
     "name": "stdout",
     "output_type": "stream",
     "text": [
      "[CV]  max_depth=None, max_features=10, n_estimators=100, score=0.9410266457680251, total=  33.8s\n",
      "[CV] max_depth=None, max_features=10, n_estimators=500 ...............\n"
     ]
    },
    {
     "name": "stderr",
     "output_type": "stream",
     "text": [
      "[Parallel(n_jobs=-1)]: Done 434 tasks      | elapsed:   57.2s\n",
      "[Parallel(n_jobs=-1)]: Done 100 out of 100 | elapsed:   28.4s finished\n",
      "[Parallel(n_jobs=8)]: Done  34 tasks      | elapsed:    0.1s\n",
      "[Parallel(n_jobs=8)]: Done 100 out of 100 | elapsed:    0.4s finished\n",
      "[Parallel(n_jobs=8)]: Done  34 tasks      | elapsed:    0.1s\n",
      "[Parallel(n_jobs=8)]: Done 100 out of 100 | elapsed:    0.7s finished\n"
     ]
    },
    {
     "name": "stdout",
     "output_type": "stream",
     "text": [
      "[CV]  max_depth=None, max_features=10, n_estimators=100, score=0.9472962382445141, total=  30.9s\n",
      "[CV] max_depth=None, max_features=10, n_estimators=500 ...............\n"
     ]
    },
    {
     "name": "stderr",
     "output_type": "stream",
     "text": [
      "[Parallel(n_jobs=-1)]: Done  34 tasks      | elapsed:    9.9s\n",
      "[Parallel(n_jobs=-1)]: Done 784 tasks      | elapsed:  1.7min\n",
      "[Parallel(n_jobs=-1)]: Done  34 tasks      | elapsed:   11.6s\n",
      "[Parallel(n_jobs=-1)]: Done 784 tasks      | elapsed:  1.7min\n",
      "[Parallel(n_jobs=-1)]: Done 1000 out of 1000 | elapsed:  2.2min finished\n",
      "[Parallel(n_jobs=8)]: Done  34 tasks      | elapsed:    0.1s\n",
      "[Parallel(n_jobs=8)]: Done 184 tasks      | elapsed:    0.7s\n",
      "[Parallel(n_jobs=8)]: Done 434 tasks      | elapsed:    1.8s\n",
      "[Parallel(n_jobs=-1)]: Done 784 tasks      | elapsed:  1.7min\n",
      "[Parallel(n_jobs=8)]: Done 784 tasks      | elapsed:    3.3s\n",
      "[Parallel(n_jobs=8)]: Done 1000 out of 1000 | elapsed:    4.4s finished\n",
      "[Parallel(n_jobs=8)]: Done  34 tasks      | elapsed:    0.1s\n",
      "[Parallel(n_jobs=8)]: Done 184 tasks      | elapsed:    1.4s\n",
      "[Parallel(n_jobs=-1)]: Done 784 tasks      | elapsed:  6.3min\n",
      "[Parallel(n_jobs=8)]: Done 434 tasks      | elapsed:    3.2s\n",
      "[Parallel(n_jobs=8)]: Done 784 tasks      | elapsed:    5.9s\n",
      "[Parallel(n_jobs=-1)]: Done 184 tasks      | elapsed:   53.1s\n",
      "[Parallel(n_jobs=-1)]: Done 1000 out of 1000 | elapsed:  2.2min finished\n",
      "[Parallel(n_jobs=8)]: Done  34 tasks      | elapsed:    0.1s\n",
      "[Parallel(n_jobs=8)]: Done 184 tasks      | elapsed:    0.7s\n",
      "[Parallel(n_jobs=8)]: Done 1000 out of 1000 | elapsed:    7.7s finished\n"
     ]
    },
    {
     "name": "stdout",
     "output_type": "stream",
     "text": [
      "[CV]  max_depth=None, max_features=5, n_estimators=1000, score=0.9392633228840125, total= 2.4min\n"
     ]
    },
    {
     "name": "stderr",
     "output_type": "stream",
     "text": [
      "[Parallel(n_jobs=8)]: Done 434 tasks      | elapsed:    1.8s\n"
     ]
    },
    {
     "name": "stdout",
     "output_type": "stream",
     "text": [
      "[CV] max_depth=None, max_features=10, n_estimators=500 ...............\n"
     ]
    },
    {
     "name": "stderr",
     "output_type": "stream",
     "text": [
      "[Parallel(n_jobs=8)]: Done 784 tasks      | elapsed:    3.3s\n",
      "[Parallel(n_jobs=8)]: Done 1000 out of 1000 | elapsed:    4.2s finished\n",
      "[Parallel(n_jobs=8)]: Done  34 tasks      | elapsed:    0.2s\n",
      "[Parallel(n_jobs=8)]: Done 184 tasks      | elapsed:    1.3s\n",
      "[Parallel(n_jobs=8)]: Done 434 tasks      | elapsed:    3.0s\n",
      "[Parallel(n_jobs=8)]: Done 784 tasks      | elapsed:    5.7s\n",
      "[Parallel(n_jobs=8)]: Done 1000 out of 1000 | elapsed:    7.4s finished\n"
     ]
    },
    {
     "name": "stdout",
     "output_type": "stream",
     "text": [
      "[CV]  max_depth=None, max_features=5, n_estimators=1000, score=0.9392633228840125, total= 2.5min\n",
      "[CV] max_depth=None, max_features=10, n_estimators=1000 ..............\n"
     ]
    },
    {
     "name": "stderr",
     "output_type": "stream",
     "text": [
      "[Parallel(n_jobs=-1)]: Done 184 tasks      | elapsed:   56.2s\n",
      "[Parallel(n_jobs=-1)]: Done  34 tasks      | elapsed:   10.1s\n",
      "[Parallel(n_jobs=-1)]: Done 1000 out of 1000 | elapsed:  2.2min finished\n",
      "[Parallel(n_jobs=8)]: Done  34 tasks      | elapsed:    0.1s\n",
      "[Parallel(n_jobs=8)]: Done 184 tasks      | elapsed:    0.8s\n",
      "[Parallel(n_jobs=8)]: Done 434 tasks      | elapsed:    2.0s\n",
      "[Parallel(n_jobs=8)]: Done 784 tasks      | elapsed:    3.5s\n",
      "[Parallel(n_jobs=8)]: Done 1000 out of 1000 | elapsed:    4.7s finished\n",
      "[Parallel(n_jobs=8)]: Done  34 tasks      | elapsed:    0.2s\n",
      "[Parallel(n_jobs=8)]: Done 184 tasks      | elapsed:    1.4s\n",
      "[Parallel(n_jobs=8)]: Done 434 tasks      | elapsed:    3.5s\n",
      "[Parallel(n_jobs=8)]: Done 784 tasks      | elapsed:    6.4s\n",
      "[Parallel(n_jobs=8)]: Done 1000 out of 1000 | elapsed:    8.2s finished\n"
     ]
    },
    {
     "name": "stdout",
     "output_type": "stream",
     "text": [
      "[CV]  max_depth=None, max_features=5, n_estimators=1000, score=0.9469043887147336, total= 2.5min\n",
      "[CV] max_depth=None, max_features=10, n_estimators=1000 ..............\n"
     ]
    },
    {
     "name": "stderr",
     "output_type": "stream",
     "text": [
      "[Parallel(n_jobs=-1)]: Done  34 tasks      | elapsed:   11.1s\n",
      "[Parallel(n_jobs=-1)]: Done 784 tasks      | elapsed:  6.7min\n",
      "[Parallel(n_jobs=-1)]: Done  34 tasks      | elapsed:   11.0s\n",
      "[Parallel(n_jobs=-1)]: Done 184 tasks      | elapsed:   51.6s\n",
      "[Parallel(n_jobs=-1)]: Done 434 tasks      | elapsed:  2.0min\n",
      "[Parallel(n_jobs=-1)]: Done 184 tasks      | elapsed:   53.0s\n",
      "[Parallel(n_jobs=-1)]: Done 434 tasks      | elapsed:  2.1min\n",
      "[Parallel(n_jobs=-1)]: Done 500 out of 500 | elapsed:  2.3min finished\n",
      "[Parallel(n_jobs=8)]: Done  34 tasks      | elapsed:    0.1s\n",
      "[Parallel(n_jobs=8)]: Done 184 tasks      | elapsed:    0.7s\n",
      "[Parallel(n_jobs=8)]: Done 434 tasks      | elapsed:    1.9s\n",
      "[Parallel(n_jobs=8)]: Done 500 out of 500 | elapsed:    2.3s finished\n",
      "[Parallel(n_jobs=8)]: Done  34 tasks      | elapsed:    0.1s\n",
      "[Parallel(n_jobs=8)]: Done 184 tasks      | elapsed:    1.5s\n",
      "[Parallel(n_jobs=8)]: Done 434 tasks      | elapsed:    3.5s\n",
      "[Parallel(n_jobs=8)]: Done 500 out of 500 | elapsed:    4.1s finished\n"
     ]
    },
    {
     "name": "stdout",
     "output_type": "stream",
     "text": [
      "[CV]  max_depth=None, max_features=10, n_estimators=500, score=0.9408307210031348, total= 2.5min\n",
      "[CV] max_depth=None, max_features=10, n_estimators=1000 ..............\n"
     ]
    },
    {
     "name": "stderr",
     "output_type": "stream",
     "text": [
      "[Parallel(n_jobs=-1)]: Done 1000 out of 1000 | elapsed:  8.0min finished\n",
      "[Parallel(n_jobs=8)]: Done  34 tasks      | elapsed:    0.1s\n",
      "[Parallel(n_jobs=8)]: Done 184 tasks      | elapsed:    0.7s\n",
      "[Parallel(n_jobs=-1)]: Done 184 tasks      | elapsed:   54.3s\n",
      "[Parallel(n_jobs=8)]: Done 434 tasks      | elapsed:    1.8s\n",
      "[Parallel(n_jobs=-1)]: Done 784 tasks      | elapsed:  6.2min\n",
      "[Parallel(n_jobs=8)]: Done 784 tasks      | elapsed:    3.4s\n",
      "[Parallel(n_jobs=8)]: Done 1000 out of 1000 | elapsed:    4.4s finished\n",
      "[Parallel(n_jobs=8)]: Done  34 tasks      | elapsed:    0.2s\n",
      "[Parallel(n_jobs=8)]: Done 184 tasks      | elapsed:    1.1s\n",
      "[Parallel(n_jobs=-1)]: Done 500 out of 500 | elapsed:  2.5min finished\n",
      "[Parallel(n_jobs=8)]: Done  34 tasks      | elapsed:    0.1s\n",
      "[Parallel(n_jobs=8)]: Done 184 tasks      | elapsed:    0.7s\n",
      "[Parallel(n_jobs=8)]: Done 434 tasks      | elapsed:    3.3s\n",
      "[Parallel(n_jobs=8)]: Done 434 tasks      | elapsed:    2.0s\n",
      "[Parallel(n_jobs=8)]: Done 500 out of 500 | elapsed:    2.4s finished\n",
      "[Parallel(n_jobs=8)]: Done  34 tasks      | elapsed:    0.2s\n",
      "[Parallel(n_jobs=8)]: Done 184 tasks      | elapsed:    1.3s\n",
      "[Parallel(n_jobs=8)]: Done 784 tasks      | elapsed:    6.4s\n",
      "[Parallel(n_jobs=8)]: Done 434 tasks      | elapsed:    3.5s\n",
      "[Parallel(n_jobs=8)]: Done 1000 out of 1000 | elapsed:    8.4s finished\n"
     ]
    },
    {
     "name": "stdout",
     "output_type": "stream",
     "text": [
      "[CV]  max_depth=110, max_features=sqrt, n_estimators=1000, score=0.9435736677115988, total= 8.2min\n"
     ]
    },
    {
     "name": "stderr",
     "output_type": "stream",
     "text": [
      "[Parallel(n_jobs=8)]: Done 500 out of 500 | elapsed:    4.1s finished\n"
     ]
    },
    {
     "name": "stdout",
     "output_type": "stream",
     "text": [
      "[CV]  max_depth=None, max_features=10, n_estimators=500, score=0.9427899686520376, total= 2.6min\n",
      "[CV] max_depth=None, max_features=sqrt, n_estimators=100 .............\n",
      "[CV] max_depth=None, max_features=sqrt, n_estimators=100 .............\n"
     ]
    },
    {
     "name": "stderr",
     "output_type": "stream",
     "text": [
      "[Parallel(n_jobs=-1)]: Done  34 tasks      | elapsed:   10.6s\n",
      "[Parallel(n_jobs=-1)]: Done 434 tasks      | elapsed:  2.0min\n",
      "[Parallel(n_jobs=-1)]: Done  34 tasks      | elapsed:   17.6s\n",
      "[Parallel(n_jobs=-1)]: Done  34 tasks      | elapsed:   20.1s\n",
      "[Parallel(n_jobs=-1)]: Done 434 tasks      | elapsed:  2.0min\n",
      "[Parallel(n_jobs=-1)]: Done 500 out of 500 | elapsed:  2.3min finished\n",
      "[Parallel(n_jobs=8)]: Done  34 tasks      | elapsed:    0.1s\n",
      "[Parallel(n_jobs=8)]: Done 184 tasks      | elapsed:    0.7s\n",
      "[Parallel(n_jobs=8)]: Done 434 tasks      | elapsed:    1.7s\n",
      "[Parallel(n_jobs=8)]: Done 500 out of 500 | elapsed:    2.1s finished\n",
      "[Parallel(n_jobs=8)]: Done  34 tasks      | elapsed:    0.3s\n",
      "[Parallel(n_jobs=8)]: Done 184 tasks      | elapsed:    1.5s\n",
      "[Parallel(n_jobs=8)]: Done 434 tasks      | elapsed:    3.5s\n",
      "[Parallel(n_jobs=8)]: Done 500 out of 500 | elapsed:    4.0s finished\n"
     ]
    },
    {
     "name": "stdout",
     "output_type": "stream",
     "text": [
      "[CV]  max_depth=None, max_features=10, n_estimators=500, score=0.9484717868338558, total= 2.5min\n",
      "[CV] max_depth=None, max_features=sqrt, n_estimators=100 .............\n"
     ]
    },
    {
     "name": "stderr",
     "output_type": "stream",
     "text": [
      "[Parallel(n_jobs=-1)]: Done 184 tasks      | elapsed:   53.0s\n",
      "[Parallel(n_jobs=-1)]: Done 1000 out of 1000 | elapsed:  8.5min finished\n",
      "[Parallel(n_jobs=8)]: Done  34 tasks      | elapsed:    0.1s\n",
      "[Parallel(n_jobs=-1)]: Done 100 out of 100 | elapsed:   50.1s finished\n",
      "[Parallel(n_jobs=8)]: Done  34 tasks      | elapsed:    0.1s\n",
      "[Parallel(n_jobs=8)]: Done 184 tasks      | elapsed:    0.9s\n",
      "[Parallel(n_jobs=8)]: Done 100 out of 100 | elapsed:    0.4s finished\n",
      "[Parallel(n_jobs=8)]: Done  34 tasks      | elapsed:    0.1s\n",
      "[Parallel(n_jobs=8)]: Done 100 out of 100 | elapsed:    0.7s finished\n"
     ]
    },
    {
     "name": "stdout",
     "output_type": "stream",
     "text": [
      "[CV]  max_depth=None, max_features=sqrt, n_estimators=100, score=0.9425940438871473, total=  52.2s\n",
      "[CV] max_depth=None, max_features=sqrt, n_estimators=500 .............\n"
     ]
    },
    {
     "name": "stderr",
     "output_type": "stream",
     "text": [
      "[Parallel(n_jobs=8)]: Done 434 tasks      | elapsed:    2.1s\n",
      "[Parallel(n_jobs=8)]: Done 784 tasks      | elapsed:    3.5s\n",
      "[Parallel(n_jobs=8)]: Done 1000 out of 1000 | elapsed:    4.6s finished\n",
      "[Parallel(n_jobs=-1)]: Done 100 out of 100 | elapsed:   54.1s finished\n",
      "[Parallel(n_jobs=8)]: Done  34 tasks      | elapsed:    0.2s\n",
      "[Parallel(n_jobs=8)]: Done  34 tasks      | elapsed:    0.1s\n",
      "[Parallel(n_jobs=8)]: Done 100 out of 100 | elapsed:    0.3s finished\n",
      "[Parallel(n_jobs=8)]: Done  34 tasks      | elapsed:    0.1s\n",
      "[Parallel(n_jobs=8)]: Done 184 tasks      | elapsed:    1.2s\n",
      "[Parallel(n_jobs=8)]: Done 100 out of 100 | elapsed:    0.7s finished\n"
     ]
    },
    {
     "name": "stdout",
     "output_type": "stream",
     "text": [
      "[CV]  max_depth=None, max_features=sqrt, n_estimators=100, score=0.9418103448275862, total=  56.3s\n",
      "[CV] max_depth=None, max_features=sqrt, n_estimators=500 .............\n"
     ]
    },
    {
     "name": "stderr",
     "output_type": "stream",
     "text": [
      "[Parallel(n_jobs=8)]: Done 434 tasks      | elapsed:    3.0s\n",
      "[Parallel(n_jobs=-1)]: Done 434 tasks      | elapsed:  2.1min\n",
      "[Parallel(n_jobs=-1)]: Done  34 tasks      | elapsed:   17.6s\n",
      "[Parallel(n_jobs=8)]: Done 784 tasks      | elapsed:    6.0s\n",
      "[Parallel(n_jobs=8)]: Done 1000 out of 1000 | elapsed:    8.0s finished\n"
     ]
    },
    {
     "name": "stdout",
     "output_type": "stream",
     "text": [
      "[CV]  max_depth=110, max_features=sqrt, n_estimators=1000, score=0.9437695924764891, total= 8.8min\n",
      "[CV] max_depth=None, max_features=sqrt, n_estimators=500 .............\n"
     ]
    },
    {
     "name": "stderr",
     "output_type": "stream",
     "text": [
      "[Parallel(n_jobs=-1)]: Done  34 tasks      | elapsed:   24.3s\n",
      "[Parallel(n_jobs=-1)]: Done  34 tasks      | elapsed:   25.7s\n",
      "[Parallel(n_jobs=-1)]: Done  34 tasks      | elapsed:   27.5s\n",
      "[Parallel(n_jobs=-1)]: Done 100 out of 100 | elapsed:  1.0min finished\n",
      "[Parallel(n_jobs=8)]: Done  34 tasks      | elapsed:    0.1s\n",
      "[Parallel(n_jobs=8)]: Done 100 out of 100 | elapsed:    0.7s finished\n",
      "[Parallel(n_jobs=8)]: Done  34 tasks      | elapsed:    0.1s\n",
      "[Parallel(n_jobs=-1)]: Done 1000 out of 1000 | elapsed:  8.2min finished\n",
      "[Parallel(n_jobs=8)]: Done  34 tasks      | elapsed:    0.1s\n",
      "[Parallel(n_jobs=8)]: Done 100 out of 100 | elapsed:    1.1s finished\n"
     ]
    },
    {
     "name": "stdout",
     "output_type": "stream",
     "text": [
      "[CV]  max_depth=None, max_features=sqrt, n_estimators=100, score=0.9457288401253918, total= 1.1min\n",
      "[CV] max_depth=None, max_features=sqrt, n_estimators=1000 ............\n"
     ]
    },
    {
     "name": "stderr",
     "output_type": "stream",
     "text": [
      "[Parallel(n_jobs=8)]: Done 184 tasks      | elapsed:    1.2s\n",
      "[Parallel(n_jobs=8)]: Done 434 tasks      | elapsed:    2.6s\n",
      "[Parallel(n_jobs=8)]: Done 784 tasks      | elapsed:    4.3s\n",
      "[Parallel(n_jobs=8)]: Done 1000 out of 1000 | elapsed:    6.0s finished\n",
      "[Parallel(n_jobs=8)]: Done  34 tasks      | elapsed:    0.2s\n",
      "[Parallel(n_jobs=8)]: Done 184 tasks      | elapsed:    1.6s\n",
      "[Parallel(n_jobs=8)]: Done 434 tasks      | elapsed:    4.4s\n",
      "[Parallel(n_jobs=8)]: Done 784 tasks      | elapsed:    8.4s\n",
      "[Parallel(n_jobs=8)]: Done 1000 out of 1000 | elapsed:   10.9s finished\n"
     ]
    },
    {
     "name": "stdout",
     "output_type": "stream",
     "text": [
      "[CV]  max_depth=110, max_features=sqrt, n_estimators=1000, score=0.9492554858934169, total= 8.4min\n",
      "[CV] max_depth=None, max_features=sqrt, n_estimators=1000 ............\n"
     ]
    },
    {
     "name": "stderr",
     "output_type": "stream",
     "text": [
      "[Parallel(n_jobs=-1)]: Done 434 tasks      | elapsed:  2.4min\n",
      "[Parallel(n_jobs=-1)]: Done  34 tasks      | elapsed:   24.0s\n",
      "[Parallel(n_jobs=-1)]: Done 784 tasks      | elapsed:  4.1min\n",
      "[Parallel(n_jobs=-1)]: Done  34 tasks      | elapsed:   29.1s\n",
      "[Parallel(n_jobs=-1)]: Done 184 tasks      | elapsed:  2.1min\n",
      "[Parallel(n_jobs=-1)]: Done 184 tasks      | elapsed:  2.3min\n",
      "[Parallel(n_jobs=-1)]: Done 184 tasks      | elapsed:  2.2min\n",
      "[Parallel(n_jobs=-1)]: Done 784 tasks      | elapsed:  4.6min\n",
      "[Parallel(n_jobs=-1)]: Done 1000 out of 1000 | elapsed:  5.6min finished\n",
      "[Parallel(n_jobs=8)]: Done  34 tasks      | elapsed:    0.1s\n",
      "[Parallel(n_jobs=8)]: Done 184 tasks      | elapsed:    1.0s\n",
      "[Parallel(n_jobs=8)]: Done 434 tasks      | elapsed:    2.3s\n",
      "[Parallel(n_jobs=8)]: Done 784 tasks      | elapsed:    4.2s\n",
      "[Parallel(n_jobs=-1)]: Done 184 tasks      | elapsed:  2.1min\n",
      "[Parallel(n_jobs=8)]: Done 1000 out of 1000 | elapsed:    5.4s finished\n",
      "[Parallel(n_jobs=8)]: Done  34 tasks      | elapsed:    0.2s\n",
      "[Parallel(n_jobs=8)]: Done 184 tasks      | elapsed:    1.6s\n",
      "[Parallel(n_jobs=8)]: Done 434 tasks      | elapsed:    4.1s\n",
      "[Parallel(n_jobs=8)]: Done 784 tasks      | elapsed:    7.0s\n",
      "[Parallel(n_jobs=8)]: Done 1000 out of 1000 | elapsed:    8.9s finished\n"
     ]
    },
    {
     "name": "stdout",
     "output_type": "stream",
     "text": [
      "[CV]  max_depth=None, max_features=10, n_estimators=1000, score=0.942398119122257, total= 5.8min\n",
      "[CV] max_depth=None, max_features=sqrt, n_estimators=1000 ............\n"
     ]
    },
    {
     "name": "stderr",
     "output_type": "stream",
     "text": [
      "[Parallel(n_jobs=-1)]: Done 784 tasks      | elapsed:  4.6min\n",
      "[Parallel(n_jobs=-1)]: Done 184 tasks      | elapsed:  2.1min\n",
      "[Parallel(n_jobs=-1)]: Done 1000 out of 1000 | elapsed:  5.8min finished\n",
      "[Parallel(n_jobs=8)]: Done  34 tasks      | elapsed:    0.1s\n",
      "[Parallel(n_jobs=8)]: Done 184 tasks      | elapsed:    0.8s\n",
      "[Parallel(n_jobs=8)]: Done 434 tasks      | elapsed:    1.9s\n",
      "[Parallel(n_jobs=8)]: Done 784 tasks      | elapsed:    3.7s\n",
      "[Parallel(n_jobs=8)]: Done 1000 out of 1000 | elapsed:    4.8s finished\n",
      "[Parallel(n_jobs=8)]: Done  34 tasks      | elapsed:    0.2s\n",
      "[Parallel(n_jobs=8)]: Done 184 tasks      | elapsed:    1.3s\n",
      "[Parallel(n_jobs=8)]: Done 434 tasks      | elapsed:    3.5s\n",
      "[Parallel(n_jobs=-1)]: Done  34 tasks      | elapsed:   19.3s\n",
      "[Parallel(n_jobs=8)]: Done 784 tasks      | elapsed:    6.2s\n",
      "[Parallel(n_jobs=8)]: Done 1000 out of 1000 | elapsed:    8.2s finished\n"
     ]
    },
    {
     "name": "stdout",
     "output_type": "stream",
     "text": [
      "[CV]  max_depth=None, max_features=10, n_estimators=1000, score=0.9431818181818182, total= 6.1min\n"
     ]
    },
    {
     "name": "stderr",
     "output_type": "stream",
     "text": [
      "[Parallel(n_jobs=-1)]: Done 434 tasks      | elapsed:  4.4min\n",
      "[Parallel(n_jobs=-1)]: Done 1000 out of 1000 | elapsed:  5.6min finished\n",
      "[Parallel(n_jobs=8)]: Done  34 tasks      | elapsed:    0.1s\n",
      "[Parallel(n_jobs=8)]: Done 184 tasks      | elapsed:    0.7s\n",
      "[Parallel(n_jobs=8)]: Done 434 tasks      | elapsed:    1.8s\n",
      "[Parallel(n_jobs=8)]: Done 784 tasks      | elapsed:    3.4s\n",
      "[Parallel(n_jobs=8)]: Done 1000 out of 1000 | elapsed:    4.3s finished\n",
      "[Parallel(n_jobs=8)]: Done  34 tasks      | elapsed:    0.1s\n",
      "[Parallel(n_jobs=-1)]: Done 434 tasks      | elapsed:  4.3min\n",
      "[Parallel(n_jobs=8)]: Done 184 tasks      | elapsed:    1.2s\n",
      "[Parallel(n_jobs=8)]: Done 434 tasks      | elapsed:    3.0s\n",
      "[Parallel(n_jobs=8)]: Done 784 tasks      | elapsed:    5.6s\n",
      "[Parallel(n_jobs=-1)]: Done 434 tasks      | elapsed:  4.6min\n",
      "[Parallel(n_jobs=8)]: Done 1000 out of 1000 | elapsed:    7.4s finished\n"
     ]
    },
    {
     "name": "stdout",
     "output_type": "stream",
     "text": [
      "[CV]  max_depth=None, max_features=10, n_estimators=1000, score=0.9474921630094044, total= 5.8min\n"
     ]
    },
    {
     "name": "stderr",
     "output_type": "stream",
     "text": [
      "[Parallel(n_jobs=-1)]: Done 500 out of 500 | elapsed:  4.8min finished\n",
      "[Parallel(n_jobs=8)]: Done  34 tasks      | elapsed:    0.1s\n",
      "[Parallel(n_jobs=8)]: Done 184 tasks      | elapsed:    0.7s\n",
      "[Parallel(n_jobs=8)]: Done 434 tasks      | elapsed:    1.7s\n",
      "[Parallel(n_jobs=8)]: Done 500 out of 500 | elapsed:    2.0s finished\n",
      "[Parallel(n_jobs=8)]: Done  34 tasks      | elapsed:    0.2s\n",
      "[Parallel(n_jobs=8)]: Done 184 tasks      | elapsed:    1.0s\n",
      "[Parallel(n_jobs=8)]: Done 434 tasks      | elapsed:    2.6s\n",
      "[Parallel(n_jobs=8)]: Done 500 out of 500 | elapsed:    3.1s finished\n"
     ]
    },
    {
     "name": "stdout",
     "output_type": "stream",
     "text": [
      "[CV]  max_depth=None, max_features=sqrt, n_estimators=500, score=0.9441614420062696, total= 5.0min\n"
     ]
    },
    {
     "name": "stderr",
     "output_type": "stream",
     "text": [
      "[Parallel(n_jobs=-1)]: Done 184 tasks      | elapsed:  1.4min\n",
      "[Parallel(n_jobs=-1)]: Done 500 out of 500 | elapsed:  4.7min finished\n",
      "[Parallel(n_jobs=8)]: Done  34 tasks      | elapsed:    0.1s\n",
      "[Parallel(n_jobs=8)]: Done 184 tasks      | elapsed:    0.7s\n",
      "[Parallel(n_jobs=8)]: Done 434 tasks      | elapsed:    1.7s\n",
      "[Parallel(n_jobs=8)]: Done 500 out of 500 | elapsed:    1.9s finished\n",
      "[Parallel(n_jobs=8)]: Done  34 tasks      | elapsed:    0.2s\n",
      "[Parallel(n_jobs=8)]: Done 184 tasks      | elapsed:    1.1s\n",
      "[Parallel(n_jobs=-1)]: Done 434 tasks      | elapsed:  3.9min\n",
      "[Parallel(n_jobs=8)]: Done 434 tasks      | elapsed:    2.6s\n",
      "[Parallel(n_jobs=8)]: Done 500 out of 500 | elapsed:    3.0s finished\n"
     ]
    },
    {
     "name": "stdout",
     "output_type": "stream",
     "text": [
      "[CV]  max_depth=None, max_features=sqrt, n_estimators=500, score=0.9502351097178683, total= 4.9min\n"
     ]
    },
    {
     "name": "stderr",
     "output_type": "stream",
     "text": [
      "[Parallel(n_jobs=-1)]: Done 500 out of 500 | elapsed:  5.0min finished\n",
      "[Parallel(n_jobs=8)]: Done  34 tasks      | elapsed:    0.1s\n",
      "[Parallel(n_jobs=8)]: Done 184 tasks      | elapsed:    0.6s\n",
      "[Parallel(n_jobs=8)]: Done 434 tasks      | elapsed:    1.6s\n",
      "[Parallel(n_jobs=8)]: Done 500 out of 500 | elapsed:    1.9s finished\n",
      "[Parallel(n_jobs=8)]: Done  34 tasks      | elapsed:    0.1s\n",
      "[Parallel(n_jobs=8)]: Done 184 tasks      | elapsed:    0.9s\n",
      "[Parallel(n_jobs=8)]: Done 434 tasks      | elapsed:    2.2s\n",
      "[Parallel(n_jobs=8)]: Done 500 out of 500 | elapsed:    2.6s finished\n"
     ]
    },
    {
     "name": "stdout",
     "output_type": "stream",
     "text": [
      "[CV]  max_depth=None, max_features=sqrt, n_estimators=500, score=0.9431818181818182, total= 5.1min\n"
     ]
    },
    {
     "name": "stderr",
     "output_type": "stream",
     "text": [
      "[Parallel(n_jobs=-1)]: Done 434 tasks      | elapsed:  3.9min\n",
      "[Parallel(n_jobs=-1)]: Done 434 tasks      | elapsed:  2.2min\n",
      "[Parallel(n_jobs=-1)]: Done 784 tasks      | elapsed:  5.0min\n",
      "[Parallel(n_jobs=-1)]: Done 784 tasks      | elapsed:  5.0min\n",
      "[Parallel(n_jobs=-1)]: Done 1000 out of 1000 | elapsed:  5.7min finished\n",
      "[Parallel(n_jobs=8)]: Done  34 tasks      | elapsed:    0.1s\n",
      "[Parallel(n_jobs=-1)]: Done 784 tasks      | elapsed:  3.3min\n",
      "[Parallel(n_jobs=8)]: Done 184 tasks      | elapsed:    0.7s\n",
      "[Parallel(n_jobs=8)]: Done 434 tasks      | elapsed:    1.6s\n",
      "[Parallel(n_jobs=8)]: Done 784 tasks      | elapsed:    3.0s\n",
      "[Parallel(n_jobs=8)]: Done 1000 out of 1000 | elapsed:    3.9s finished\n",
      "[Parallel(n_jobs=8)]: Done  34 tasks      | elapsed:    0.1s\n",
      "[Parallel(n_jobs=8)]: Done 184 tasks      | elapsed:    0.9s\n",
      "[Parallel(n_jobs=8)]: Done 434 tasks      | elapsed:    2.2s\n",
      "[Parallel(n_jobs=8)]: Done 784 tasks      | elapsed:    4.0s\n",
      "[Parallel(n_jobs=8)]: Done 1000 out of 1000 | elapsed:    5.1s finished\n"
     ]
    },
    {
     "name": "stdout",
     "output_type": "stream",
     "text": [
      "[CV]  max_depth=None, max_features=sqrt, n_estimators=1000, score=0.9431818181818182, total= 6.1min\n"
     ]
    },
    {
     "name": "stderr",
     "output_type": "stream",
     "text": [
      "[Parallel(n_jobs=-1)]: Done 1000 out of 1000 | elapsed:  5.7min finished\n",
      "[Parallel(n_jobs=8)]: Done  34 tasks      | elapsed:    0.1s\n",
      "[Parallel(n_jobs=8)]: Done 184 tasks      | elapsed:    0.6s\n",
      "[Parallel(n_jobs=8)]: Done 434 tasks      | elapsed:    1.6s\n",
      "[Parallel(n_jobs=8)]: Done 784 tasks      | elapsed:    3.0s\n",
      "[Parallel(n_jobs=8)]: Done 1000 out of 1000 | elapsed:    3.8s finished\n",
      "[Parallel(n_jobs=8)]: Done  34 tasks      | elapsed:    0.1s\n",
      "[Parallel(n_jobs=8)]: Done 184 tasks      | elapsed:    0.9s\n",
      "[Parallel(n_jobs=8)]: Done 434 tasks      | elapsed:    2.2s\n",
      "[Parallel(n_jobs=8)]: Done 784 tasks      | elapsed:    3.9s\n",
      "[Parallel(n_jobs=8)]: Done 1000 out of 1000 | elapsed:    5.0s finished\n"
     ]
    },
    {
     "name": "stdout",
     "output_type": "stream",
     "text": [
      "[CV]  max_depth=None, max_features=sqrt, n_estimators=1000, score=0.9437695924764891, total= 6.0min\n"
     ]
    },
    {
     "name": "stderr",
     "output_type": "stream",
     "text": [
      "[Parallel(n_jobs=-1)]: Done 1000 out of 1000 | elapsed:  3.7min finished\n",
      "[Parallel(n_jobs=8)]: Done  34 tasks      | elapsed:    0.1s\n",
      "[Parallel(n_jobs=8)]: Done 184 tasks      | elapsed:    0.3s\n",
      "[Parallel(n_jobs=8)]: Done 434 tasks      | elapsed:    0.7s\n",
      "[Parallel(n_jobs=8)]: Done 784 tasks      | elapsed:    1.3s\n",
      "[Parallel(n_jobs=8)]: Done 1000 out of 1000 | elapsed:    1.7s finished\n",
      "[Parallel(n_jobs=8)]: Done  34 tasks      | elapsed:    0.1s\n",
      "[Parallel(n_jobs=8)]: Done 184 tasks      | elapsed:    0.4s\n",
      "[Parallel(n_jobs=8)]: Done 434 tasks      | elapsed:    0.9s\n",
      "[Parallel(n_jobs=8)]: Done 784 tasks      | elapsed:    1.6s\n",
      "[Parallel(n_jobs=8)]: Done 1000 out of 1000 | elapsed:    2.1s finished\n"
     ]
    },
    {
     "name": "stdout",
     "output_type": "stream",
     "text": [
      "[CV]  max_depth=None, max_features=sqrt, n_estimators=1000, score=0.9490595611285266, total= 3.9min\n"
     ]
    },
    {
     "name": "stderr",
     "output_type": "stream",
     "text": [
      "[Parallel(n_jobs=-1)]: Done 135 out of 135 | elapsed: 44.6min finished\n",
      "[Parallel(n_jobs=-1)]: Done  34 tasks      | elapsed:    3.7s\n",
      "[Parallel(n_jobs=-1)]: Done 184 tasks      | elapsed:   19.3s\n",
      "[Parallel(n_jobs=-1)]: Done 434 tasks      | elapsed:   45.8s\n",
      "[Parallel(n_jobs=-1)]: Done 500 out of 500 | elapsed:   52.5s finished\n"
     ]
    },
    {
     "data": {
      "text/plain": [
       "GridSearchCV(cv=None, error_score='raise',\n",
       "       estimator=RandomForestClassifier(bootstrap=True, class_weight=None, criterion='gini',\n",
       "            max_depth=None, max_features='auto', max_leaf_nodes=None,\n",
       "            min_impurity_decrease=0.0, min_impurity_split=None,\n",
       "            min_samples_leaf=1, min_samples_split=2,\n",
       "            min_weight_fraction_leaf=0.0, n_estimators=100, n_jobs=-1,\n",
       "            oob_score=False, random_state=None, verbose=1,\n",
       "            warm_start=False),\n",
       "       fit_params=None, iid=True, n_jobs=-1,\n",
       "       param_grid={'n_estimators': [100, 500, 1000], 'max_features': [5, 10, 'sqrt'], 'max_depth': [5, 40, 75, 110, None]},\n",
       "       pre_dispatch='2*n_jobs', refit=True, return_train_score=True,\n",
       "       scoring='accuracy', verbose=10)"
      ]
     },
     "execution_count": 20,
     "metadata": {},
     "output_type": "execute_result"
    }
   ],
   "source": [
    "params = random_grid\n",
    "scoring = \"accuracy\"\n",
    "clf = GridSearchCV(model, params, n_jobs = -1, verbose = 10, scoring = scoring)\n",
    "clf.fit(x_train.reshape(x_train.shape[0],-1),y_train)"
   ]
  },
  {
   "cell_type": "code",
   "execution_count": 21,
   "metadata": {},
   "outputs": [
    {
     "data": {
      "text/plain": [
       "dict_keys(['mean_fit_time', 'std_fit_time', 'mean_score_time', 'std_score_time', 'param_max_depth', 'param_max_features', 'param_n_estimators', 'params', 'split0_test_score', 'split1_test_score', 'split2_test_score', 'mean_test_score', 'std_test_score', 'rank_test_score', 'split0_train_score', 'split1_train_score', 'split2_train_score', 'mean_train_score', 'std_train_score'])"
      ]
     },
     "execution_count": 21,
     "metadata": {},
     "output_type": "execute_result"
    }
   ],
   "source": [
    "clf.cv_results_.keys()"
   ]
  },
  {
   "cell_type": "code",
   "execution_count": 22,
   "metadata": {},
   "outputs": [
    {
     "data": {
      "text/plain": [
       "array([0.85259927, 0.85031348, 0.848093  , 0.88100836, 0.88198798,\n",
       "       0.88322884, 0.89276385, 0.89276385, 0.89269854, 0.93958986,\n",
       "       0.94181034, 0.9422675 , 0.94272466, 0.94324713, 0.9438349 ,\n",
       "       0.94403083, 0.94533699, 0.94520637, 0.94102665, 0.94272466,\n",
       "       0.94200627, 0.94357367, 0.94435737, 0.94448798, 0.94350836,\n",
       "       0.94592476, 0.94546761, 0.94122257, 0.94194096, 0.94233281,\n",
       "       0.94318182, 0.94363898, 0.94376959, 0.94468391, 0.94546761,\n",
       "       0.94553292, 0.94037356, 0.94135319, 0.94181034, 0.94357367,\n",
       "       0.94403083, 0.94435737, 0.94337774, 0.94585946, 0.94533699])"
      ]
     },
     "execution_count": 22,
     "metadata": {},
     "output_type": "execute_result"
    }
   ],
   "source": [
    "clf.cv_results_[\"mean_test_score\"]"
   ]
  },
  {
   "cell_type": "markdown",
   "metadata": {},
   "source": [
    "#### Determine performance of best Gridsearch-Model on the Holdout-Set"
   ]
  },
  {
   "cell_type": "code",
   "execution_count": 23,
   "metadata": {},
   "outputs": [
    {
     "name": "stderr",
     "output_type": "stream",
     "text": [
      "[Parallel(n_jobs=8)]: Done  34 tasks      | elapsed:    0.1s\n",
      "[Parallel(n_jobs=8)]: Done 184 tasks      | elapsed:    0.2s\n",
      "[Parallel(n_jobs=8)]: Done 434 tasks      | elapsed:    0.5s\n",
      "[Parallel(n_jobs=8)]: Done 500 out of 500 | elapsed:    0.6s finished\n"
     ]
    },
    {
     "data": {
      "text/plain": [
       "0.9487983281086729"
      ]
     },
     "execution_count": 23,
     "metadata": {},
     "output_type": "execute_result"
    }
   ],
   "source": [
    "preds = clf.best_estimator_.predict(x_test.reshape(x_test.shape[0],-1))\n",
    "(preds == y_test).all(axis = 1).sum()/y_test.shape[0]"
   ]
  },
  {
   "cell_type": "code",
   "execution_count": 7,
   "metadata": {},
   "outputs": [
    {
     "data": {
      "text/plain": [
       "sklearn.ensemble.forest.RandomForestClassifier"
      ]
     },
     "execution_count": 7,
     "metadata": {},
     "output_type": "execute_result"
    }
   ],
   "source": [
    "type(loaded_model.best_estimator_)"
   ]
  },
  {
   "cell_type": "code",
   "execution_count": 8,
   "metadata": {},
   "outputs": [
    {
     "data": {
      "text/plain": [
       "['models/model_gesture_rf_nip120_sa600_variances_lowest.pkl']"
      ]
     },
     "execution_count": 8,
     "metadata": {},
     "output_type": "execute_result"
    }
   ],
   "source": [
    "from sklearn.externals import joblib\n",
    "joblib.dump(loaded_model.best_estimator_,'models/model_gesture_rf_nip120_sa600_variances_lowest.pkl')"
   ]
  },
  {
   "cell_type": "code",
   "execution_count": 1,
   "metadata": {},
   "outputs": [
    {
     "name": "stdout",
     "output_type": "stream",
     "text": [
      "0 C:\\Users\\p.schambach\\Desktop\\DSR\\drone_steering\\models\n",
      "1 C:\\Users\\p.schambach\\Desktop\\DSR\\drone_steering\n"
     ]
    },
    {
     "name": "stderr",
     "output_type": "stream",
     "text": [
      "C:\\ProgramData\\Anaconda3\\envs\\DataScienceRetreat\\lib\\site-packages\\sklearn\\base.py:251: UserWarning: Trying to unpickle estimator DecisionTreeClassifier from version 0.19.0 when using version 0.20.0. This might lead to breaking code or invalid results. Use at your own risk.\n",
      "  UserWarning)\n",
      "C:\\ProgramData\\Anaconda3\\envs\\DataScienceRetreat\\lib\\site-packages\\sklearn\\base.py:251: UserWarning: Trying to unpickle estimator RandomForestClassifier from version 0.19.0 when using version 0.20.0. This might lead to breaking code or invalid results. Use at your own risk.\n",
      "  UserWarning)\n"
     ]
    },
    {
     "data": {
      "text/plain": [
       "RandomForestClassifier(bootstrap=True, class_weight=None, criterion='gini',\n",
       "            max_depth=75, max_features='sqrt', max_leaf_nodes=None,\n",
       "            min_impurity_decrease=0.0, min_impurity_split=None,\n",
       "            min_samples_leaf=1, min_samples_split=2,\n",
       "            min_weight_fraction_leaf=0.0, n_estimators=500, n_jobs=-1,\n",
       "            oob_score=False, random_state=None, verbose=1,\n",
       "            warm_start=False)"
      ]
     },
     "execution_count": 1,
     "metadata": {},
     "output_type": "execute_result"
    }
   ],
   "source": [
    "from sklearn.externals import joblib\n",
    "import os\n",
    "cwd = os.getcwd()\n",
    "\n",
    "counter = 0\n",
    "print(counter, cwd)\n",
    "while not cwd.endswith(\"drone_steering\") and counter < 10:\n",
    "    os.chdir('..')\n",
    "    cwd = os.getcwd()\n",
    "    counter = counter + 1\n",
    "    print(counter, cwd)\n",
    "\n",
    "loaded_model=joblib.load('models/model_gesture_rf_nip120_sa600_variances_lowest.pkl')\n",
    "loaded_model"
   ]
  },
  {
   "cell_type": "code",
   "execution_count": 2,
   "metadata": {},
   "outputs": [],
   "source": [
    "x12907 = joblib.load('models/x12907.pkl')"
   ]
  },
  {
   "cell_type": "code",
   "execution_count": 3,
   "metadata": {},
   "outputs": [
    {
     "name": "stderr",
     "output_type": "stream",
     "text": [
      "[Parallel(n_jobs=8)]: Using backend ThreadingBackend with 8 concurrent workers.\n",
      "[Parallel(n_jobs=8)]: Done  34 tasks      | elapsed:    0.0s\n",
      "[Parallel(n_jobs=8)]: Done 184 tasks      | elapsed:    0.0s\n",
      "[Parallel(n_jobs=8)]: Done 434 tasks      | elapsed:    0.0s\n",
      "[Parallel(n_jobs=8)]: Done 500 out of 500 | elapsed:    0.0s finished\n"
     ]
    },
    {
     "data": {
      "text/plain": [
       "array([[1., 0., 0., 0., 0., 0., 0.]])"
      ]
     },
     "execution_count": 3,
     "metadata": {},
     "output_type": "execute_result"
    }
   ],
   "source": [
    "loaded_model.predict(x12907)"
   ]
  },
  {
   "cell_type": "code",
   "execution_count": null,
   "metadata": {},
   "outputs": [],
   "source": []
  }
 ],
 "metadata": {
  "kernelspec": {
   "display_name": "Python 3",
   "language": "python",
   "name": "python3"
  },
  "language_info": {
   "codemirror_mode": {
    "name": "ipython",
    "version": 3
   },
   "file_extension": ".py",
   "mimetype": "text/x-python",
   "name": "python",
   "nbconvert_exporter": "python",
   "pygments_lexer": "ipython3",
   "version": "3.6.6"
  }
 },
 "nbformat": 4,
 "nbformat_minor": 2
}
