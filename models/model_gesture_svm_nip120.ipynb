{
 "cells": [
  {
   "cell_type": "markdown",
   "metadata": {},
   "source": [
    "# 1) Data Prep"
   ]
  },
  {
   "cell_type": "code",
   "execution_count": 1,
   "metadata": {},
   "outputs": [],
   "source": [
    "import numpy as np\n",
    "import pandas as pd\n",
    "import warnings\n",
    "warnings.filterwarnings(\"ignore\")"
   ]
  },
  {
   "cell_type": "code",
   "execution_count": 2,
   "metadata": {},
   "outputs": [
    {
     "name": "stdout",
     "output_type": "stream",
     "text": [
      "0 C:\\Users\\p.schambach\\Desktop\\DSR\\drone_steering\\models\\playground\n",
      "1 C:\\Users\\p.schambach\\Desktop\\DSR\\drone_steering\\models\n",
      "2 C:\\Users\\p.schambach\\Desktop\\DSR\\drone_steering\n"
     ]
    }
   ],
   "source": [
    "import os\n",
    "cwd = os.getcwd()\n",
    "\n",
    "counter = 0\n",
    "print(counter, cwd)\n",
    "while not cwd.endswith(\"drone_steering\") and counter < 10:\n",
    "    os.chdir('..')\n",
    "    cwd = os.getcwd()\n",
    "    counter = counter + 1\n",
    "    print(counter, cwd)"
   ]
  },
  {
   "cell_type": "markdown",
   "metadata": {},
   "source": [
    "## a) Data loading"
   ]
  },
  {
   "cell_type": "code",
   "execution_count": 5,
   "metadata": {},
   "outputs": [],
   "source": [
    "from app_local.module import DataEnsembler, GestureTransformer\n",
    "\n",
    "de = DataEnsembler(120)\n",
    "de.investigate_available_datafiles(data_dir='data/gesture/',is_frame_based=True)\n",
    "de.load_data()"
   ]
  },
  {
   "cell_type": "markdown",
   "metadata": {},
   "source": [
    "## b) Data rescaling to actual video length"
   ]
  },
  {
   "cell_type": "markdown",
   "metadata": {},
   "source": [
    "## c) Interpolate and adjust framebased labels"
   ]
  },
  {
   "cell_type": "markdown",
   "metadata": {},
   "source": [
    "## d) Generate training data"
   ]
  },
  {
   "cell_type": "code",
   "execution_count": 6,
   "metadata": {},
   "outputs": [],
   "source": [
    "de.assemble_data(tolerance_range=2)"
   ]
  },
  {
   "cell_type": "code",
   "execution_count": 7,
   "metadata": {},
   "outputs": [
    {
     "name": "stdout",
     "output_type": "stream",
     "text": [
      "i: 0 \tshape X: (603, 18, 16) \tshape y: (603,) \tcount: 101\n",
      "i: 1 \tshape X: (519, 18, 16) \tshape y: (519,) \tcount: 89\n",
      "i: 2 \tshape X: (498, 18, 16) \tshape y: (498,) \tcount: 119\n",
      "i: 3 \tshape X: (650, 18, 16) \tshape y: (650,) \tcount: 230\n",
      "i: 4 \tshape X: (508, 18, 16) \tshape y: (508,) \tcount: 147\n",
      "i: 5 \tshape X: (466, 18, 16) \tshape y: (466,) \tcount: 146\n",
      "i: 6 \tshape X: (601, 18, 16) \tshape y: (601,) \tcount: 159\n",
      "i: 7 \tshape X: (440, 18, 16) \tshape y: (440,) \tcount: 127\n",
      "i: 8 \tshape X: (490, 18, 16) \tshape y: (490,) \tcount: 110\n",
      "i: 9 \tshape X: (476, 18, 16) \tshape y: (476,) \tcount: 118\n",
      "i: 10 \tshape X: (492, 18, 16) \tshape y: (492,) \tcount: 121\n",
      "i: 11 \tshape X: (436, 18, 16) \tshape y: (436,) \tcount: 87\n",
      "i: 12 \tshape X: (466, 18, 16) \tshape y: (466,) \tcount: 126\n",
      "i: 13 \tshape X: (551, 18, 16) \tshape y: (551,) \tcount: 127\n",
      "i: 14 \tshape X: (550, 18, 16) \tshape y: (550,) \tcount: 114\n",
      "i: 15 \tshape X: (549, 18, 16) \tshape y: (549,) \tcount: 115\n",
      "i: 16 \tshape X: (541, 18, 16) \tshape y: (541,) \tcount: 92\n",
      "i: 17 \tshape X: (535, 18, 16) \tshape y: (535,) \tcount: 121\n",
      "i: 18 \tshape X: (549, 18, 16) \tshape y: (549,) \tcount: 108\n",
      "i: 19 \tshape X: (616, 18, 16) \tshape y: (616,) \tcount: 136\n",
      "i: 20 \tshape X: (621, 18, 16) \tshape y: (621,) \tcount: 269\n",
      "i: 21 \tshape X: (590, 18, 16) \tshape y: (590,) \tcount: 171\n",
      "i: 22 \tshape X: (460, 18, 16) \tshape y: (460,) \tcount: 0\n",
      "i: 23 \tshape X: (514, 18, 16) \tshape y: (514,) \tcount: 120\n",
      "i: 24 \tshape X: (923, 18, 16) \tshape y: (923,) \tcount: 214\n",
      "i: 25 \tshape X: (545, 18, 16) \tshape y: (545,) \tcount: 91\n",
      "i: 26 \tshape X: (547, 18, 16) \tshape y: (547,) \tcount: 124\n",
      "i: 27 \tshape X: (505, 18, 16) \tshape y: (505,) \tcount: 111\n",
      "i: 28 \tshape X: (469, 18, 16) \tshape y: (469,) \tcount: 121\n",
      "i: 29 \tshape X: (524, 18, 16) \tshape y: (524,) \tcount: 129\n",
      "i: 30 \tshape X: (569, 18, 16) \tshape y: (569,) \tcount: 157\n",
      "i: 31 \tshape X: (488, 18, 16) \tshape y: (488,) \tcount: 89\n",
      "i: 32 \tshape X: (481, 18, 16) \tshape y: (481,) \tcount: 106\n",
      "i: 33 \tshape X: (416, 18, 16) \tshape y: (416,) \tcount: 99\n",
      "-----------------------------------------------------------------------------\n",
      "shape final X: (18188, 18, 16)\n",
      "number of labeled samples: 4294\n",
      "Label 0: 13894 \t76.39% of total\n",
      "Label 1: 701 \t16.33% of labeled\n",
      "Label 2: 576 \t13.41% of labeled\n",
      "Label 3: 991 \t23.08% of labeled\n",
      "Label 4: 677 \t15.77% of labeled\n",
      "Label 5: 660 \t15.37% of labeled\n",
      "Label 6: 689 \t16.05% of labeled\n"
     ]
    }
   ],
   "source": [
    "de.display_information()"
   ]
  },
  {
   "cell_type": "markdown",
   "metadata": {},
   "source": [
    "## e) Data normalization"
   ]
  },
  {
   "cell_type": "code",
   "execution_count": 8,
   "metadata": {},
   "outputs": [
    {
     "name": "stdout",
     "output_type": "stream",
     "text": [
      "---------------------------------------------------------\n",
      "Performing row-based transformations:\n",
      "X-Mean of Hip and Shoulders:\n",
      "\tRow-based Mean is taken over each sample and each timestep\n",
      "\tShape: (18188, 18)\n",
      "Y-Mean of Hip and Shoulders:\n",
      "\tRow-based Mean is taken over each sample and each timestep\n",
      "\tShape: (18188, 18)\n",
      "Scaling based on Hip-Shoulder distance:\n",
      "\tRow-based distance is calculated for each sample and each timestep\n",
      "\tShape: (18188, 18)\n",
      "-----------------------------------------------------\n",
      "X-Shift:\n",
      "            min   mean  median    max   std\n",
      "timestep                                   \n",
      "0         196.8  294.5   280.8  511.9  38.9\n",
      "1         196.8  294.4   280.7  511.9  38.9\n",
      "2         196.8  294.4   280.7  511.9  38.9\n",
      "3         196.8  294.3   280.6  511.9  38.9\n",
      "4         196.8  294.3   280.6  511.9  38.9\n",
      "5         196.8  294.3   280.5  511.9  38.9\n",
      "6         196.8  294.2   280.5  511.9  38.9\n",
      "7         196.8  294.2   280.4  511.9  38.9\n",
      "8         196.8  294.1   280.4  511.9  38.9\n",
      "9         196.8  294.1   280.3  511.9  38.9\n",
      "10        196.8  294.1   280.3  511.9  38.9\n",
      "11        196.8  294.0   280.3  511.9  38.9\n",
      "12        196.8  294.0   280.3  511.9  39.0\n",
      "13        124.5  294.0   280.3  511.9  39.0\n",
      "14        124.5  294.0   280.2  511.9  39.0\n",
      "15        124.5  293.9   280.2  511.9  39.0\n",
      "16        124.5  293.9   280.2  511.9  39.0\n",
      "17        124.5  293.9   280.2  511.9  39.0\n",
      "-----------------------------------------------------\n",
      "Y-Shift:\n",
      "            min   mean  median    max   std\n",
      "timestep                                   \n",
      "0         135.1  210.5   212.6  268.8  19.8\n",
      "1         134.7  210.6   212.6  268.4  19.8\n",
      "2         134.7  210.6   212.6  266.4  19.8\n",
      "3         134.7  210.6   212.7  265.0  19.8\n",
      "4         134.7  210.6   212.7  265.0  19.8\n",
      "5         134.7  210.6   212.7  265.0  19.8\n",
      "6         134.7  210.6   212.7  265.0  19.8\n",
      "7         134.7  210.6   212.7  466.0  19.9\n",
      "8         134.7  210.6   212.7  466.0  19.9\n",
      "9         134.7  210.7   212.7  472.2  20.0\n",
      "10        134.7  210.7   212.7  472.2  20.1\n",
      "11        134.7  210.7   212.7  472.2  20.2\n",
      "12        134.7  210.7   212.7  472.2  20.3\n",
      "13        134.7  210.7   212.7  472.2  20.4\n",
      "14        134.7  210.8   212.7  472.2  20.5\n",
      "15        134.7  210.8   212.7  472.2  20.6\n",
      "16        134.7  210.8   212.7  472.2  20.7\n",
      "17        134.7  210.8   212.7  474.7  20.8\n",
      "-----------------------------------------------------\n",
      "Scaling-Diff:\n",
      "            min   mean  median   max  std\n",
      "timestep                                 \n",
      "0        -133.1 -105.2  -106.1 -73.0  8.1\n",
      "1        -133.1 -105.2  -106.1 -73.0  8.1\n",
      "2        -133.1 -105.2  -106.1 -73.0  8.1\n",
      "3        -133.1 -105.2  -106.1 -73.0  8.1\n",
      "4        -133.1 -105.2  -106.1 -73.0  8.1\n",
      "5        -133.1 -105.2  -106.1 -73.0  8.1\n",
      "6        -133.1 -105.2  -106.1 -73.0  8.1\n",
      "7        -133.1 -105.2  -106.1 -53.5  8.1\n",
      "8        -133.1 -105.2  -106.1 -32.6  8.1\n",
      "9        -133.1 -105.2  -106.1 -32.6  8.1\n",
      "10       -133.1 -105.2  -106.1 -32.6  8.2\n",
      "11       -133.1 -105.2  -106.1 -32.6  8.2\n",
      "12       -133.1 -105.2  -106.1 -32.6  8.2\n",
      "13       -133.1 -105.2  -106.1 -23.5  8.2\n",
      "14       -133.1 -105.2  -106.1 -23.5  8.2\n",
      "15       -133.1 -105.2  -106.1 -23.5  8.2\n",
      "16       -133.1 -105.2  -106.1 -23.5  8.2\n",
      "17       -133.1 -105.2  -106.1 -23.5  8.2\n"
     ]
    }
   ],
   "source": [
    "X = de.X.copy()\n",
    "y = de.y.copy().astype(\"int32\")\n",
    "gt = GestureTransformer(byrow=True, feature_names= list(de.feature_names))\n",
    "X = gt.transform(X, verbose = True)"
   ]
  },
  {
   "cell_type": "markdown",
   "metadata": {},
   "source": [
    "# 2) Model Training"
   ]
  },
  {
   "cell_type": "markdown",
   "metadata": {},
   "source": [
    "## a) Filtering 0-Labels"
   ]
  },
  {
   "cell_type": "code",
   "execution_count": 13,
   "metadata": {},
   "outputs": [
    {
     "name": "stdout",
     "output_type": "stream",
     "text": [
      "-------------------------------------\n",
      "Current number of zero-labels: 13894\n",
      "New number of zero-labels (selected with criterion=\"variance_lowest\"): 500\n"
     ]
    },
    {
     "data": {
      "text/html": [
       "<div>\n",
       "<style scoped>\n",
       "    .dataframe tbody tr th:only-of-type {\n",
       "        vertical-align: middle;\n",
       "    }\n",
       "\n",
       "    .dataframe tbody tr th {\n",
       "        vertical-align: top;\n",
       "    }\n",
       "\n",
       "    .dataframe thead th {\n",
       "        text-align: right;\n",
       "    }\n",
       "</style>\n",
       "<table border=\"1\" class=\"dataframe\">\n",
       "  <thead>\n",
       "    <tr style=\"text-align: right;\">\n",
       "      <th></th>\n",
       "      <th>abs_orig</th>\n",
       "      <th>pct_orig</th>\n",
       "      <th>abs_current</th>\n",
       "      <th>pct_current</th>\n",
       "    </tr>\n",
       "  </thead>\n",
       "  <tbody>\n",
       "    <tr>\n",
       "      <th>0</th>\n",
       "      <td>13894</td>\n",
       "      <td>76.39</td>\n",
       "      <td>500</td>\n",
       "      <td>10.43</td>\n",
       "    </tr>\n",
       "    <tr>\n",
       "      <th>1</th>\n",
       "      <td>701</td>\n",
       "      <td>3.85</td>\n",
       "      <td>701</td>\n",
       "      <td>14.62</td>\n",
       "    </tr>\n",
       "    <tr>\n",
       "      <th>2</th>\n",
       "      <td>576</td>\n",
       "      <td>3.17</td>\n",
       "      <td>576</td>\n",
       "      <td>12.02</td>\n",
       "    </tr>\n",
       "    <tr>\n",
       "      <th>3</th>\n",
       "      <td>991</td>\n",
       "      <td>5.45</td>\n",
       "      <td>991</td>\n",
       "      <td>20.67</td>\n",
       "    </tr>\n",
       "    <tr>\n",
       "      <th>4</th>\n",
       "      <td>677</td>\n",
       "      <td>3.72</td>\n",
       "      <td>677</td>\n",
       "      <td>14.12</td>\n",
       "    </tr>\n",
       "    <tr>\n",
       "      <th>5</th>\n",
       "      <td>660</td>\n",
       "      <td>3.63</td>\n",
       "      <td>660</td>\n",
       "      <td>13.77</td>\n",
       "    </tr>\n",
       "    <tr>\n",
       "      <th>6</th>\n",
       "      <td>689</td>\n",
       "      <td>3.79</td>\n",
       "      <td>689</td>\n",
       "      <td>14.37</td>\n",
       "    </tr>\n",
       "  </tbody>\n",
       "</table>\n",
       "</div>"
      ],
      "text/plain": [
       "  abs_orig pct_orig abs_current pct_current\n",
       "0    13894    76.39         500       10.43\n",
       "1      701     3.85         701       14.62\n",
       "2      576     3.17         576       12.02\n",
       "3      991     5.45         991       20.67\n",
       "4      677     3.72         677       14.12\n",
       "5      660     3.63         660       13.77\n",
       "6      689     3.79         689       14.37"
      ]
     },
     "execution_count": 13,
     "metadata": {},
     "output_type": "execute_result"
    }
   ],
   "source": [
    "from app_local.module import DataResampler\n",
    "dr_var = DataResampler()\n",
    "dr_var.fit(X,y)\n",
    "dr_var.restrict_zero_labels(500, criterion=\"variance_lowest\")\n",
    "dr_var.display_information()"
   ]
  },
  {
   "cell_type": "code",
   "execution_count": 14,
   "metadata": {},
   "outputs": [
    {
     "name": "stdout",
     "output_type": "stream",
     "text": [
      "-------------------------------------\n",
      "Current number of zero-labels: 13894\n",
      "New number of zero-labels: 500\n"
     ]
    },
    {
     "data": {
      "text/html": [
       "<div>\n",
       "<style scoped>\n",
       "    .dataframe tbody tr th:only-of-type {\n",
       "        vertical-align: middle;\n",
       "    }\n",
       "\n",
       "    .dataframe tbody tr th {\n",
       "        vertical-align: top;\n",
       "    }\n",
       "\n",
       "    .dataframe thead th {\n",
       "        text-align: right;\n",
       "    }\n",
       "</style>\n",
       "<table border=\"1\" class=\"dataframe\">\n",
       "  <thead>\n",
       "    <tr style=\"text-align: right;\">\n",
       "      <th></th>\n",
       "      <th>abs_orig</th>\n",
       "      <th>pct_orig</th>\n",
       "      <th>abs_current</th>\n",
       "      <th>pct_current</th>\n",
       "    </tr>\n",
       "  </thead>\n",
       "  <tbody>\n",
       "    <tr>\n",
       "      <th>0</th>\n",
       "      <td>13894</td>\n",
       "      <td>76.39</td>\n",
       "      <td>500</td>\n",
       "      <td>10.43</td>\n",
       "    </tr>\n",
       "    <tr>\n",
       "      <th>1</th>\n",
       "      <td>701</td>\n",
       "      <td>3.85</td>\n",
       "      <td>701</td>\n",
       "      <td>14.62</td>\n",
       "    </tr>\n",
       "    <tr>\n",
       "      <th>2</th>\n",
       "      <td>576</td>\n",
       "      <td>3.17</td>\n",
       "      <td>576</td>\n",
       "      <td>12.02</td>\n",
       "    </tr>\n",
       "    <tr>\n",
       "      <th>3</th>\n",
       "      <td>991</td>\n",
       "      <td>5.45</td>\n",
       "      <td>991</td>\n",
       "      <td>20.67</td>\n",
       "    </tr>\n",
       "    <tr>\n",
       "      <th>4</th>\n",
       "      <td>677</td>\n",
       "      <td>3.72</td>\n",
       "      <td>677</td>\n",
       "      <td>14.12</td>\n",
       "    </tr>\n",
       "    <tr>\n",
       "      <th>5</th>\n",
       "      <td>660</td>\n",
       "      <td>3.63</td>\n",
       "      <td>660</td>\n",
       "      <td>13.77</td>\n",
       "    </tr>\n",
       "    <tr>\n",
       "      <th>6</th>\n",
       "      <td>689</td>\n",
       "      <td>3.79</td>\n",
       "      <td>689</td>\n",
       "      <td>14.37</td>\n",
       "    </tr>\n",
       "  </tbody>\n",
       "</table>\n",
       "</div>"
      ],
      "text/plain": [
       "  abs_orig pct_orig abs_current pct_current\n",
       "0    13894    76.39         500       10.43\n",
       "1      701     3.85         701       14.62\n",
       "2      576     3.17         576       12.02\n",
       "3      991     5.45         991       20.67\n",
       "4      677     3.72         677       14.12\n",
       "5      660     3.63         660       13.77\n",
       "6      689     3.79         689       14.37"
      ]
     },
     "execution_count": 14,
     "metadata": {},
     "output_type": "execute_result"
    }
   ],
   "source": [
    "dr = DataResampler()\n",
    "dr.fit(X,y)\n",
    "dr.restrict_zero_labels(500)\n",
    "dr.display_information()"
   ]
  },
  {
   "cell_type": "code",
   "execution_count": 27,
   "metadata": {},
   "outputs": [
    {
     "name": "stdout",
     "output_type": "stream",
     "text": [
      "(4794, 18, 16)\n",
      "(5294, 18, 16) (5294,)\n"
     ]
    }
   ],
   "source": [
    "print(dr.X.shape)\n",
    "X_full_zero = np.concatenate( [dr.X, dr_var.X[(dr_var.y == 0),:,:]] )\n",
    "y_full_zero = np.concatenate( [dr.y, dr_var.y[dr_var.y == 0]])\n",
    "print(X_full_zero.shape, y_full_zero.shape)"
   ]
  },
  {
   "cell_type": "code",
   "execution_count": 28,
   "metadata": {},
   "outputs": [
    {
     "data": {
      "text/html": [
       "<div>\n",
       "<style scoped>\n",
       "    .dataframe tbody tr th:only-of-type {\n",
       "        vertical-align: middle;\n",
       "    }\n",
       "\n",
       "    .dataframe tbody tr th {\n",
       "        vertical-align: top;\n",
       "    }\n",
       "\n",
       "    .dataframe thead th {\n",
       "        text-align: right;\n",
       "    }\n",
       "</style>\n",
       "<table border=\"1\" class=\"dataframe\">\n",
       "  <thead>\n",
       "    <tr style=\"text-align: right;\">\n",
       "      <th></th>\n",
       "      <th>abs_orig</th>\n",
       "      <th>pct_orig</th>\n",
       "      <th>abs_current</th>\n",
       "      <th>pct_current</th>\n",
       "    </tr>\n",
       "  </thead>\n",
       "  <tbody>\n",
       "    <tr>\n",
       "      <th>0</th>\n",
       "      <td>1000</td>\n",
       "      <td>18.89</td>\n",
       "      <td>1000</td>\n",
       "      <td>18.89</td>\n",
       "    </tr>\n",
       "    <tr>\n",
       "      <th>1</th>\n",
       "      <td>701</td>\n",
       "      <td>13.24</td>\n",
       "      <td>701</td>\n",
       "      <td>13.24</td>\n",
       "    </tr>\n",
       "    <tr>\n",
       "      <th>2</th>\n",
       "      <td>576</td>\n",
       "      <td>10.88</td>\n",
       "      <td>576</td>\n",
       "      <td>10.88</td>\n",
       "    </tr>\n",
       "    <tr>\n",
       "      <th>3</th>\n",
       "      <td>991</td>\n",
       "      <td>18.72</td>\n",
       "      <td>991</td>\n",
       "      <td>18.72</td>\n",
       "    </tr>\n",
       "    <tr>\n",
       "      <th>4</th>\n",
       "      <td>677</td>\n",
       "      <td>12.79</td>\n",
       "      <td>677</td>\n",
       "      <td>12.79</td>\n",
       "    </tr>\n",
       "    <tr>\n",
       "      <th>5</th>\n",
       "      <td>660</td>\n",
       "      <td>12.47</td>\n",
       "      <td>660</td>\n",
       "      <td>12.47</td>\n",
       "    </tr>\n",
       "    <tr>\n",
       "      <th>6</th>\n",
       "      <td>689</td>\n",
       "      <td>13.01</td>\n",
       "      <td>689</td>\n",
       "      <td>13.01</td>\n",
       "    </tr>\n",
       "  </tbody>\n",
       "</table>\n",
       "</div>"
      ],
      "text/plain": [
       "  abs_orig pct_orig abs_current pct_current\n",
       "0     1000    18.89        1000       18.89\n",
       "1      701    13.24         701       13.24\n",
       "2      576    10.88         576       10.88\n",
       "3      991    18.72         991       18.72\n",
       "4      677    12.79         677       12.79\n",
       "5      660    12.47         660       12.47\n",
       "6      689    13.01         689       13.01"
      ]
     },
     "execution_count": 28,
     "metadata": {},
     "output_type": "execute_result"
    }
   ],
   "source": [
    "dr_up = DataResampler()\n",
    "dr_up.fit(X_full_zero, y_full_zero)\n",
    "dr_up.display_information()"
   ]
  },
  {
   "cell_type": "code",
   "execution_count": 30,
   "metadata": {},
   "outputs": [],
   "source": [
    "dr_up.upsample(n = 800, exceptions=[0,3])\n",
    "dr_up.display_information()\n",
    "X_final = dr_up.X\n",
    "y_final = dr_up.y"
   ]
  },
  {
   "cell_type": "markdown",
   "metadata": {},
   "source": [
    "## b) OneHot-Encoding of target vector"
   ]
  },
  {
   "cell_type": "code",
   "execution_count": 31,
   "metadata": {},
   "outputs": [],
   "source": [
    "from sklearn.preprocessing import OneHotEncoder"
   ]
  },
  {
   "cell_type": "code",
   "execution_count": 32,
   "metadata": {},
   "outputs": [
    {
     "name": "stdout",
     "output_type": "stream",
     "text": [
      "<class 'sklearn.preprocessing._encoders.OneHotEncoder'>\n",
      "Before: (5991,)\n",
      "After: (5991, 7)\n"
     ]
    },
    {
     "data": {
      "text/plain": [
       "array([[0., 0., 0., 1., 0., 0., 0.],\n",
       "       [0., 0., 0., 1., 0., 0., 0.],\n",
       "       [0., 0., 0., 1., 0., 0., 0.],\n",
       "       [0., 0., 0., 1., 0., 0., 0.],\n",
       "       [0., 0., 0., 1., 0., 0., 0.]])"
      ]
     },
     "execution_count": 32,
     "metadata": {},
     "output_type": "execute_result"
    }
   ],
   "source": [
    "ohe = OneHotEncoder(sparse = False)\n",
    "print(type(ohe))\n",
    "target = ohe.fit_transform(y_final.reshape(-1,1))\n",
    "print(\"Before:\", y_final.shape)\n",
    "print(\"After:\", target.shape)\n",
    "target[0:5,:]"
   ]
  },
  {
   "cell_type": "markdown",
   "metadata": {},
   "source": [
    "## c) Train-Test-Split"
   ]
  },
  {
   "cell_type": "markdown",
   "metadata": {},
   "source": [
    "## d) Model Training"
   ]
  },
  {
   "cell_type": "code",
   "execution_count": 34,
   "metadata": {},
   "outputs": [],
   "source": [
    "from sklearn.svm import SVC\n",
    "from sklearn.metrics import accuracy_score\n",
    "from sklearn.model_selection import GridSearchCV"
   ]
  },
  {
   "cell_type": "markdown",
   "metadata": {},
   "source": [
    "### Train a simple SV-Classifier"
   ]
  },
  {
   "cell_type": "code",
   "execution_count": 41,
   "metadata": {},
   "outputs": [
    {
     "data": {
      "text/plain": [
       "SVC(C=1.0, cache_size=200, class_weight=None, coef0=0.0,\n",
       "  decision_function_shape='ovr', degree=3, gamma='auto', kernel='rbf',\n",
       "  max_iter=-1, probability=False, random_state=42, shrinking=True,\n",
       "  tol=0.001, verbose=False)"
      ]
     },
     "execution_count": 41,
     "metadata": {},
     "output_type": "execute_result"
    }
   ],
   "source": [
    "x_final = X_final.reshape(X_final.shape[0],-1)\n",
    "\n",
    "model = SVC(\n",
    "    random_state = 42,\n",
    "    gamma = \"auto\"\n",
    ")\n",
    "\n",
    "model.fit(x_final, y_final)"
   ]
  },
  {
   "cell_type": "code",
   "execution_count": 46,
   "metadata": {},
   "outputs": [
    {
     "data": {
      "text/plain": [
       "0.9512602236688366"
      ]
     },
     "execution_count": 46,
     "metadata": {},
     "output_type": "execute_result"
    }
   ],
   "source": [
    "preds = model.predict(x_final)\n",
    "(preds == y_final).sum()/len(y_final)"
   ]
  },
  {
   "cell_type": "markdown",
   "metadata": {},
   "source": [
    "### Gridsearch with Crossvalidation"
   ]
  },
  {
   "cell_type": "code",
   "execution_count": 47,
   "metadata": {},
   "outputs": [
    {
     "data": {
      "text/plain": [
       "dict_keys(['C', 'cache_size', 'class_weight', 'coef0', 'decision_function_shape', 'degree', 'gamma', 'kernel', 'max_iter', 'probability', 'random_state', 'shrinking', 'tol', 'verbose'])"
      ]
     },
     "execution_count": 47,
     "metadata": {},
     "output_type": "execute_result"
    }
   ],
   "source": [
    "model.get_params().keys()"
   ]
  },
  {
   "cell_type": "code",
   "execution_count": 48,
   "metadata": {},
   "outputs": [
    {
     "name": "stdout",
     "output_type": "stream",
     "text": [
      "{'C': [1.0, 0.5, 0.1, 0.5, 0.01]}\n"
     ]
    }
   ],
   "source": [
    "# Number of trees in random forest\n",
    "n_estimators = [100, 500, 1000]\n",
    "# Number of features to consider at every split\n",
    "max_features = [5, 10, 'sqrt']\n",
    "# Maximum number of levels in tree\n",
    "max_depth = [int(x) for x in np.linspace(5, 110, num = 4)]\n",
    "max_depth.append(None)\n",
    "\n",
    "# Create the random grid\n",
    "random_grid = {'randomforestclassifier__n_estimators': n_estimators,\n",
    "               'randomforestclassifier__max_features': max_features,\n",
    "               'randomforestclassifier__max_depth': max_depth,\n",
    "              }\n",
    "\n",
    "random_grid = {\n",
    "                'C': [10,5.0.,2.0,1.0, 0.5, 0.1, 0.5, 0.01]\n",
    "              }\n",
    "\n",
    "print(random_grid)"
   ]
  },
  {
   "cell_type": "markdown",
   "metadata": {},
   "source": [
    "#### Training takes quite a long time - do not needlessly repeat it"
   ]
  },
  {
   "cell_type": "code",
   "execution_count": 49,
   "metadata": {},
   "outputs": [
    {
     "name": "stdout",
     "output_type": "stream",
     "text": [
      "Fitting 3 folds for each of 5 candidates, totalling 15 fits\n"
     ]
    },
    {
     "name": "stderr",
     "output_type": "stream",
     "text": [
      "[Parallel(n_jobs=-1)]: Using backend LokyBackend with 8 concurrent workers.\n",
      "[Parallel(n_jobs=-1)]: Done   2 out of  15 | elapsed:   13.3s remaining:  1.4min\n",
      "[Parallel(n_jobs=-1)]: Done   4 out of  15 | elapsed:   15.3s remaining:   42.3s\n",
      "[Parallel(n_jobs=-1)]: Done   6 out of  15 | elapsed:   17.1s remaining:   25.7s\n",
      "[Parallel(n_jobs=-1)]: Done   8 out of  15 | elapsed:   24.2s remaining:   21.2s\n",
      "[Parallel(n_jobs=-1)]: Done  10 out of  15 | elapsed:   24.9s remaining:   12.4s\n",
      "[Parallel(n_jobs=-1)]: Done  12 out of  15 | elapsed:   28.6s remaining:    7.1s\n",
      "[Parallel(n_jobs=-1)]: Done  15 out of  15 | elapsed:   43.1s finished\n"
     ]
    },
    {
     "data": {
      "text/plain": [
       "GridSearchCV(cv='warn', error_score='raise-deprecating',\n",
       "       estimator=SVC(C=1.0, cache_size=200, class_weight=None, coef0=0.0,\n",
       "  decision_function_shape='ovr', degree=3, gamma='auto', kernel='rbf',\n",
       "  max_iter=-1, probability=False, random_state=42, shrinking=True,\n",
       "  tol=0.001, verbose=False),\n",
       "       fit_params=None, iid='warn', n_jobs=-1,\n",
       "       param_grid={'C': [1.0, 0.5, 0.1, 0.5, 0.01]},\n",
       "       pre_dispatch='2*n_jobs', refit=True, return_train_score='warn',\n",
       "       scoring='accuracy', verbose=10)"
      ]
     },
     "execution_count": 49,
     "metadata": {},
     "output_type": "execute_result"
    }
   ],
   "source": [
    "params = random_grid\n",
    "scoring = \"accuracy\"\n",
    "clf = GridSearchCV(model, params, n_jobs = -1, verbose = 10, scoring = scoring)\n",
    "clf.fit(x_final, y_final)"
   ]
  },
  {
   "cell_type": "code",
   "execution_count": 50,
   "metadata": {},
   "outputs": [
    {
     "data": {
      "text/plain": [
       "dict_keys(['mean_fit_time', 'std_fit_time', 'mean_score_time', 'std_score_time', 'param_C', 'params', 'split0_test_score', 'split1_test_score', 'split2_test_score', 'mean_test_score', 'std_test_score', 'rank_test_score', 'split0_train_score', 'split1_train_score', 'split2_train_score', 'mean_train_score', 'std_train_score'])"
      ]
     },
     "execution_count": 50,
     "metadata": {},
     "output_type": "execute_result"
    }
   ],
   "source": [
    "clf.cv_results_.keys()"
   ]
  },
  {
   "cell_type": "code",
   "execution_count": 51,
   "metadata": {},
   "outputs": [
    {
     "data": {
      "text/plain": [
       "array([0.92505425, 0.91687531, 0.89467535, 0.91687531, 0.37656485])"
      ]
     },
     "execution_count": 51,
     "metadata": {},
     "output_type": "execute_result"
    }
   ],
   "source": [
    "clf.cv_results_[\"mean_test_score\"]"
   ]
  },
  {
   "cell_type": "code",
   "execution_count": 53,
   "metadata": {},
   "outputs": [
    {
     "data": {
      "text/plain": [
       "['model_geture_svm_[1000,800]_001.pkl']"
      ]
     },
     "execution_count": 53,
     "metadata": {},
     "output_type": "execute_result"
    }
   ],
   "source": [
    "#from sklearn.externals import joblib\n",
    "#joblib.dump(clf,'model/model_geture_svm_nip120_[1000,800]_00x.pkl')"
   ]
  },
  {
   "cell_type": "code",
   "execution_count": 54,
   "metadata": {},
   "outputs": [
    {
     "data": {
      "text/plain": [
       "dict_keys(['mean_fit_time', 'std_fit_time', 'mean_score_time', 'std_score_time', 'param_C', 'params', 'split0_test_score', 'split1_test_score', 'split2_test_score', 'mean_test_score', 'std_test_score', 'rank_test_score', 'split0_train_score', 'split1_train_score', 'split2_train_score', 'mean_train_score', 'std_train_score'])"
      ]
     },
     "execution_count": 54,
     "metadata": {},
     "output_type": "execute_result"
    }
   ],
   "source": [
    "#loaded_model = joblib.load('')\n",
    "#loaded_model.cv_results_.keys()"
   ]
  }
 ],
 "metadata": {
  "kernelspec": {
   "display_name": "Python 3",
   "language": "python",
   "name": "python3"
  },
  "language_info": {
   "codemirror_mode": {
    "name": "ipython",
    "version": 3
   },
   "file_extension": ".py",
   "mimetype": "text/x-python",
   "name": "python",
   "nbconvert_exporter": "python",
   "pygments_lexer": "ipython3",
   "version": "3.6.6"
  }
 },
 "nbformat": 4,
 "nbformat_minor": 2
}
