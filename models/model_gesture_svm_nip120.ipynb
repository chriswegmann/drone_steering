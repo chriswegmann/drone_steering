{
 "cells": [
  {
   "cell_type": "markdown",
   "metadata": {},
   "source": [
    "# 1) Data Prep"
   ]
  },
  {
   "cell_type": "code",
   "execution_count": 1,
   "metadata": {},
   "outputs": [],
   "source": [
    "import numpy as np\n",
    "import pandas as pd\n",
    "import warnings\n",
    "warnings.filterwarnings(\"ignore\")"
   ]
  },
  {
   "cell_type": "code",
   "execution_count": 2,
   "metadata": {},
   "outputs": [
    {
     "name": "stdout",
     "output_type": "stream",
     "text": [
      "0 C:\\Users\\p.schambach\\Desktop\\DSR\\drone_steering\\models\n",
      "1 C:\\Users\\p.schambach\\Desktop\\DSR\\drone_steering\n"
     ]
    }
   ],
   "source": [
    "import os\n",
    "cwd = os.getcwd()\n",
    "\n",
    "counter = 0\n",
    "print(counter, cwd)\n",
    "while not cwd.endswith(\"drone_steering\") and counter < 10:\n",
    "    os.chdir('..')\n",
    "    cwd = os.getcwd()\n",
    "    counter = counter + 1\n",
    "    print(counter, cwd)"
   ]
  },
  {
   "cell_type": "markdown",
   "metadata": {},
   "source": [
    "## a) Data loading"
   ]
  },
  {
   "cell_type": "code",
   "execution_count": 3,
   "metadata": {},
   "outputs": [],
   "source": [
    "from app_local.module import DataEnsembler, GestureTransformer\n",
    "\n",
    "de = DataEnsembler(120)\n",
    "de.investigate_available_datafiles(data_dir='data/gesture/',is_frame_based=True)\n",
    "de.load_data()"
   ]
  },
  {
   "cell_type": "markdown",
   "metadata": {},
   "source": [
    "## d) Generate training data"
   ]
  },
  {
   "cell_type": "code",
   "execution_count": 4,
   "metadata": {},
   "outputs": [],
   "source": [
    "de.assemble_data(tolerance_range=2)"
   ]
  },
  {
   "cell_type": "code",
   "execution_count": 5,
   "metadata": {},
   "outputs": [
    {
     "data": {
      "text/html": [
       "<div>\n",
       "<style scoped>\n",
       "    .dataframe tbody tr th:only-of-type {\n",
       "        vertical-align: middle;\n",
       "    }\n",
       "\n",
       "    .dataframe tbody tr th {\n",
       "        vertical-align: top;\n",
       "    }\n",
       "\n",
       "    .dataframe thead th {\n",
       "        text-align: right;\n",
       "    }\n",
       "</style>\n",
       "<table border=\"1\" class=\"dataframe\">\n",
       "  <thead>\n",
       "    <tr style=\"text-align: right;\">\n",
       "      <th></th>\n",
       "      <th>filename_features</th>\n",
       "      <th>filename_labels</th>\n",
       "    </tr>\n",
       "  </thead>\n",
       "  <tbody>\n",
       "    <tr>\n",
       "      <th>0</th>\n",
       "      <td>features_flip_c_01_120.csv</td>\n",
       "      <td>labels_flip_c_01.csv</td>\n",
       "    </tr>\n",
       "    <tr>\n",
       "      <th>1</th>\n",
       "      <td>features_flip_c_02_120.csv</td>\n",
       "      <td>labels_flip_c_02.csv</td>\n",
       "    </tr>\n",
       "    <tr>\n",
       "      <th>2</th>\n",
       "      <td>features_flip_c_03_120.csv</td>\n",
       "      <td>labels_flip_c_03.csv</td>\n",
       "    </tr>\n",
       "    <tr>\n",
       "      <th>3</th>\n",
       "      <td>features_flip_l_01_120.csv</td>\n",
       "      <td>labels_flip_l_01.csv</td>\n",
       "    </tr>\n",
       "    <tr>\n",
       "      <th>4</th>\n",
       "      <td>features_flip_l_02_120.csv</td>\n",
       "      <td>labels_flip_l_02.csv</td>\n",
       "    </tr>\n",
       "    <tr>\n",
       "      <th>5</th>\n",
       "      <td>features_flip_l_03_120.csv</td>\n",
       "      <td>labels_flip_l_03.csv</td>\n",
       "    </tr>\n",
       "    <tr>\n",
       "      <th>6</th>\n",
       "      <td>features_flip_p_01_120.csv</td>\n",
       "      <td>labels_flip_p_01.csv</td>\n",
       "    </tr>\n",
       "    <tr>\n",
       "      <th>7</th>\n",
       "      <td>features_land_c_01_120.csv</td>\n",
       "      <td>labels_land_c_01.csv</td>\n",
       "    </tr>\n",
       "    <tr>\n",
       "      <th>8</th>\n",
       "      <td>features_land_c_02_120.csv</td>\n",
       "      <td>labels_land_c_02.csv</td>\n",
       "    </tr>\n",
       "    <tr>\n",
       "      <th>9</th>\n",
       "      <td>features_land_c_03_120.csv</td>\n",
       "      <td>labels_land_c_03.csv</td>\n",
       "    </tr>\n",
       "    <tr>\n",
       "      <th>10</th>\n",
       "      <td>features_land_l_01_120.csv</td>\n",
       "      <td>labels_land_l_01.csv</td>\n",
       "    </tr>\n",
       "    <tr>\n",
       "      <th>11</th>\n",
       "      <td>features_land_l_02_120.csv</td>\n",
       "      <td>labels_land_l_02.csv</td>\n",
       "    </tr>\n",
       "    <tr>\n",
       "      <th>12</th>\n",
       "      <td>features_land_l_03_120.csv</td>\n",
       "      <td>labels_land_l_03.csv</td>\n",
       "    </tr>\n",
       "    <tr>\n",
       "      <th>13</th>\n",
       "      <td>features_left_c_01_120.csv</td>\n",
       "      <td>labels_left_c_01.csv</td>\n",
       "    </tr>\n",
       "    <tr>\n",
       "      <th>14</th>\n",
       "      <td>features_left_c_02_120.csv</td>\n",
       "      <td>labels_left_c_02.csv</td>\n",
       "    </tr>\n",
       "    <tr>\n",
       "      <th>15</th>\n",
       "      <td>features_left_c_03_120.csv</td>\n",
       "      <td>labels_left_c_03.csv</td>\n",
       "    </tr>\n",
       "    <tr>\n",
       "      <th>16</th>\n",
       "      <td>features_left_l_01_120.csv</td>\n",
       "      <td>labels_left_l_01.csv</td>\n",
       "    </tr>\n",
       "    <tr>\n",
       "      <th>17</th>\n",
       "      <td>features_left_l_02_120.csv</td>\n",
       "      <td>labels_left_l_02.csv</td>\n",
       "    </tr>\n",
       "    <tr>\n",
       "      <th>18</th>\n",
       "      <td>features_left_l_03_120.csv</td>\n",
       "      <td>labels_left_l_03.csv</td>\n",
       "    </tr>\n",
       "    <tr>\n",
       "      <th>19</th>\n",
       "      <td>features_left_l_04_120.csv</td>\n",
       "      <td>labels_left_l_04.csv</td>\n",
       "    </tr>\n",
       "    <tr>\n",
       "      <th>20</th>\n",
       "      <td>features_move_c_01_120.csv</td>\n",
       "      <td>labels_move_c_01.csv</td>\n",
       "    </tr>\n",
       "    <tr>\n",
       "      <th>21</th>\n",
       "      <td>features_move_l_01_120.csv</td>\n",
       "      <td>labels_move_l_01.csv</td>\n",
       "    </tr>\n",
       "    <tr>\n",
       "      <th>22</th>\n",
       "      <td>features_move_l_02_120.csv</td>\n",
       "      <td>labels_move_l_02.csv</td>\n",
       "    </tr>\n",
       "    <tr>\n",
       "      <th>23</th>\n",
       "      <td>features_move_p_01_120.csv</td>\n",
       "      <td>labels_move_p_01.csv</td>\n",
       "    </tr>\n",
       "    <tr>\n",
       "      <th>24</th>\n",
       "      <td>features_none_p_01_120.csv</td>\n",
       "      <td>labels_none.csv</td>\n",
       "    </tr>\n",
       "    <tr>\n",
       "      <th>25</th>\n",
       "      <td>features_none_p_02_120.csv</td>\n",
       "      <td>labels_none.csv</td>\n",
       "    </tr>\n",
       "    <tr>\n",
       "      <th>26</th>\n",
       "      <td>features_none_p_03_120.csv</td>\n",
       "      <td>labels_none.csv</td>\n",
       "    </tr>\n",
       "    <tr>\n",
       "      <th>27</th>\n",
       "      <td>features_right_c_01_120.csv</td>\n",
       "      <td>labels_right_c_01.csv</td>\n",
       "    </tr>\n",
       "    <tr>\n",
       "      <th>28</th>\n",
       "      <td>features_right_c_02_120.csv</td>\n",
       "      <td>labels_right_c_02.csv</td>\n",
       "    </tr>\n",
       "    <tr>\n",
       "      <th>29</th>\n",
       "      <td>features_right_l_01_120.csv</td>\n",
       "      <td>labels_right_l_01.csv</td>\n",
       "    </tr>\n",
       "    <tr>\n",
       "      <th>30</th>\n",
       "      <td>features_right_l_02_120.csv</td>\n",
       "      <td>labels_right_l_02.csv</td>\n",
       "    </tr>\n",
       "    <tr>\n",
       "      <th>31</th>\n",
       "      <td>features_right_l_03_120.csv</td>\n",
       "      <td>labels_right_l_03.csv</td>\n",
       "    </tr>\n",
       "    <tr>\n",
       "      <th>32</th>\n",
       "      <td>features_takeoff_c_01_120.csv</td>\n",
       "      <td>labels_takeoff_c_01.csv</td>\n",
       "    </tr>\n",
       "    <tr>\n",
       "      <th>33</th>\n",
       "      <td>features_takeoff_c_02_120.csv</td>\n",
       "      <td>labels_takeoff_c_02.csv</td>\n",
       "    </tr>\n",
       "    <tr>\n",
       "      <th>34</th>\n",
       "      <td>features_takeoff_c_03_120.csv</td>\n",
       "      <td>labels_takeoff_c_03.csv</td>\n",
       "    </tr>\n",
       "    <tr>\n",
       "      <th>35</th>\n",
       "      <td>features_takeoff_l_01_120.csv</td>\n",
       "      <td>labels_takeoff_l_01.csv</td>\n",
       "    </tr>\n",
       "    <tr>\n",
       "      <th>36</th>\n",
       "      <td>features_takeoff_l_02_120.csv</td>\n",
       "      <td>labels_takeoff_l_02.csv</td>\n",
       "    </tr>\n",
       "    <tr>\n",
       "      <th>37</th>\n",
       "      <td>features_takeoff_l_03_120.csv</td>\n",
       "      <td>labels_takeoff_l_03.csv</td>\n",
       "    </tr>\n",
       "  </tbody>\n",
       "</table>\n",
       "</div>"
      ],
      "text/plain": [
       "                filename_features          filename_labels\n",
       "0      features_flip_c_01_120.csv     labels_flip_c_01.csv\n",
       "1      features_flip_c_02_120.csv     labels_flip_c_02.csv\n",
       "2      features_flip_c_03_120.csv     labels_flip_c_03.csv\n",
       "3      features_flip_l_01_120.csv     labels_flip_l_01.csv\n",
       "4      features_flip_l_02_120.csv     labels_flip_l_02.csv\n",
       "5      features_flip_l_03_120.csv     labels_flip_l_03.csv\n",
       "6      features_flip_p_01_120.csv     labels_flip_p_01.csv\n",
       "7      features_land_c_01_120.csv     labels_land_c_01.csv\n",
       "8      features_land_c_02_120.csv     labels_land_c_02.csv\n",
       "9      features_land_c_03_120.csv     labels_land_c_03.csv\n",
       "10     features_land_l_01_120.csv     labels_land_l_01.csv\n",
       "11     features_land_l_02_120.csv     labels_land_l_02.csv\n",
       "12     features_land_l_03_120.csv     labels_land_l_03.csv\n",
       "13     features_left_c_01_120.csv     labels_left_c_01.csv\n",
       "14     features_left_c_02_120.csv     labels_left_c_02.csv\n",
       "15     features_left_c_03_120.csv     labels_left_c_03.csv\n",
       "16     features_left_l_01_120.csv     labels_left_l_01.csv\n",
       "17     features_left_l_02_120.csv     labels_left_l_02.csv\n",
       "18     features_left_l_03_120.csv     labels_left_l_03.csv\n",
       "19     features_left_l_04_120.csv     labels_left_l_04.csv\n",
       "20     features_move_c_01_120.csv     labels_move_c_01.csv\n",
       "21     features_move_l_01_120.csv     labels_move_l_01.csv\n",
       "22     features_move_l_02_120.csv     labels_move_l_02.csv\n",
       "23     features_move_p_01_120.csv     labels_move_p_01.csv\n",
       "24     features_none_p_01_120.csv          labels_none.csv\n",
       "25     features_none_p_02_120.csv          labels_none.csv\n",
       "26     features_none_p_03_120.csv          labels_none.csv\n",
       "27    features_right_c_01_120.csv    labels_right_c_01.csv\n",
       "28    features_right_c_02_120.csv    labels_right_c_02.csv\n",
       "29    features_right_l_01_120.csv    labels_right_l_01.csv\n",
       "30    features_right_l_02_120.csv    labels_right_l_02.csv\n",
       "31    features_right_l_03_120.csv    labels_right_l_03.csv\n",
       "32  features_takeoff_c_01_120.csv  labels_takeoff_c_01.csv\n",
       "33  features_takeoff_c_02_120.csv  labels_takeoff_c_02.csv\n",
       "34  features_takeoff_c_03_120.csv  labels_takeoff_c_03.csv\n",
       "35  features_takeoff_l_01_120.csv  labels_takeoff_l_01.csv\n",
       "36  features_takeoff_l_02_120.csv  labels_takeoff_l_02.csv\n",
       "37  features_takeoff_l_03_120.csv  labels_takeoff_l_03.csv"
      ]
     },
     "execution_count": 5,
     "metadata": {},
     "output_type": "execute_result"
    }
   ],
   "source": [
    "de.combined_data_files_df"
   ]
  },
  {
   "cell_type": "code",
   "execution_count": 6,
   "metadata": {},
   "outputs": [
    {
     "name": "stdout",
     "output_type": "stream",
     "text": [
      "i: 0 \tshape X: (603, 18, 16) \tshape y: (603,) \tcount: 101\n",
      "i: 1 \tshape X: (519, 18, 16) \tshape y: (519,) \tcount: 89\n",
      "i: 2 \tshape X: (498, 18, 16) \tshape y: (498,) \tcount: 119\n",
      "i: 3 \tshape X: (650, 18, 16) \tshape y: (650,) \tcount: 230\n",
      "i: 4 \tshape X: (508, 18, 16) \tshape y: (508,) \tcount: 147\n",
      "i: 5 \tshape X: (466, 18, 16) \tshape y: (466,) \tcount: 146\n",
      "i: 6 \tshape X: (601, 18, 16) \tshape y: (601,) \tcount: 159\n",
      "i: 7 \tshape X: (440, 18, 16) \tshape y: (440,) \tcount: 127\n",
      "i: 8 \tshape X: (490, 18, 16) \tshape y: (490,) \tcount: 110\n",
      "i: 9 \tshape X: (476, 18, 16) \tshape y: (476,) \tcount: 118\n",
      "i: 10 \tshape X: (492, 18, 16) \tshape y: (492,) \tcount: 121\n",
      "i: 11 \tshape X: (436, 18, 16) \tshape y: (436,) \tcount: 87\n",
      "i: 12 \tshape X: (466, 18, 16) \tshape y: (466,) \tcount: 126\n",
      "i: 13 \tshape X: (551, 18, 16) \tshape y: (551,) \tcount: 127\n",
      "i: 14 \tshape X: (550, 18, 16) \tshape y: (550,) \tcount: 114\n",
      "i: 15 \tshape X: (549, 18, 16) \tshape y: (549,) \tcount: 115\n",
      "i: 16 \tshape X: (541, 18, 16) \tshape y: (541,) \tcount: 92\n",
      "i: 17 \tshape X: (535, 18, 16) \tshape y: (535,) \tcount: 121\n",
      "i: 18 \tshape X: (549, 18, 16) \tshape y: (549,) \tcount: 108\n",
      "i: 19 \tshape X: (482, 18, 16) \tshape y: (482,) \tcount: 205\n",
      "i: 20 \tshape X: (616, 18, 16) \tshape y: (616,) \tcount: 136\n",
      "i: 21 \tshape X: (621, 18, 16) \tshape y: (621,) \tcount: 269\n",
      "i: 22 \tshape X: (470, 18, 16) \tshape y: (470,) \tcount: 187\n",
      "i: 23 \tshape X: (590, 18, 16) \tshape y: (590,) \tcount: 171\n",
      "i: 24 \tshape X: (460, 18, 16) \tshape y: (460,) \tcount: 0\n",
      "i: 25 \tshape X: (400, 18, 16) \tshape y: (400,) \tcount: 0\n",
      "i: 26 \tshape X: (419, 18, 16) \tshape y: (419,) \tcount: 0\n",
      "i: 27 \tshape X: (514, 18, 16) \tshape y: (514,) \tcount: 120\n",
      "i: 28 \tshape X: (923, 18, 16) \tshape y: (923,) \tcount: 214\n",
      "i: 29 \tshape X: (545, 18, 16) \tshape y: (545,) \tcount: 91\n",
      "i: 30 \tshape X: (547, 18, 16) \tshape y: (547,) \tcount: 124\n",
      "i: 31 \tshape X: (505, 18, 16) \tshape y: (505,) \tcount: 111\n",
      "i: 32 \tshape X: (469, 18, 16) \tshape y: (469,) \tcount: 121\n",
      "i: 33 \tshape X: (524, 18, 16) \tshape y: (524,) \tcount: 129\n",
      "i: 34 \tshape X: (569, 18, 16) \tshape y: (569,) \tcount: 157\n",
      "i: 35 \tshape X: (488, 18, 16) \tshape y: (488,) \tcount: 89\n",
      "i: 36 \tshape X: (481, 18, 16) \tshape y: (481,) \tcount: 106\n",
      "i: 37 \tshape X: (416, 18, 16) \tshape y: (416,) \tcount: 99\n",
      "-----------------------------------------------------------------------------\n",
      "shape final X: (19959, 18, 16)\n",
      "number of labeled samples: 4686\n",
      "Label 0: 15273 \t76.52% of total\n",
      "Label 1: 701 \t14.96% of labeled\n",
      "Label 2: 763 \t16.28% of labeled\n",
      "Label 3: 991 \t21.15% of labeled\n",
      "Label 4: 882 \t18.82% of labeled\n",
      "Label 5: 660 \t14.08% of labeled\n",
      "Label 6: 689 \t14.7% of labeled\n"
     ]
    }
   ],
   "source": [
    "de.display_information()"
   ]
  },
  {
   "cell_type": "markdown",
   "metadata": {},
   "source": [
    "## e) Data normalization"
   ]
  },
  {
   "cell_type": "code",
   "execution_count": 7,
   "metadata": {},
   "outputs": [
    {
     "name": "stdout",
     "output_type": "stream",
     "text": [
      "---------------------------------------------------------\n",
      "Performing row-based transformations:\n",
      "X-Mean of Hip and Shoulders:\n",
      "\tRow-based Mean is taken over each sample and each timestep\n",
      "\tShape: (19959, 18)\n",
      "Y-Mean of Hip and Shoulders:\n",
      "\tRow-based Mean is taken over each sample and each timestep\n",
      "\tShape: (19959, 18)\n",
      "Scaling based on Hip-Shoulder distance:\n",
      "\tRow-based distance is calculated for each sample and each timestep\n",
      "\tShape: (19959, 18)\n",
      "-----------------------------------------------------\n",
      "X-Shift:\n",
      "            min   mean  median    max   std\n",
      "timestep                                   \n",
      "0         196.8  294.4   282.6  511.9  37.5\n",
      "1         196.8  294.4   282.6  511.9  37.5\n",
      "2         196.8  294.3   282.5  511.9  37.6\n",
      "3         196.8  294.3   282.4  511.9  37.6\n",
      "4         196.8  294.2   282.4  511.9  37.6\n",
      "5         196.8  294.2   282.3  511.9  37.6\n",
      "6         196.8  294.2   282.3  511.9  37.6\n",
      "7         196.8  294.1   282.2  511.9  37.6\n",
      "8         196.8  294.1   282.2  511.9  37.6\n",
      "9         196.8  294.1   282.2  511.9  37.6\n",
      "10        196.8  294.1   282.1  511.9  37.6\n",
      "11        196.8  294.0   282.1  511.9  37.6\n",
      "12        196.8  294.0   282.0  511.9  37.6\n",
      "13        124.5  294.0   282.0  511.9  37.6\n",
      "14        124.5  294.0   282.0  511.9  37.6\n",
      "15        124.5  293.9   282.0  511.9  37.6\n",
      "16        124.5  293.9   281.9  511.9  37.7\n",
      "17        124.5  293.9   281.9  511.9  37.7\n",
      "-----------------------------------------------------\n",
      "Y-Shift:\n",
      "            min   mean  median    max   std\n",
      "timestep                                   \n",
      "0         135.1  210.0   211.8  268.8  20.1\n",
      "1         134.7  210.0   211.8  268.4  20.1\n",
      "2         134.7  210.1   211.8  266.4  20.1\n",
      "3         134.7  210.1   211.9  265.0  20.1\n",
      "4         134.7  210.1   211.9  265.0  20.1\n",
      "5         134.7  210.1   211.9  265.0  20.1\n",
      "6         134.7  210.1   211.9  265.0  20.1\n",
      "7         134.7  210.1   211.9  466.0  20.2\n",
      "8         134.7  210.1   211.9  466.0  20.3\n",
      "9         134.7  210.1   211.9  472.2  20.3\n",
      "10        134.7  210.2   211.9  472.2  20.4\n",
      "11        134.7  210.2   211.9  472.2  20.5\n",
      "12        134.7  210.2   212.0  472.2  20.6\n",
      "13        134.7  210.2   212.0  472.2  20.7\n",
      "14        134.7  210.2   212.0  472.2  20.8\n",
      "15        134.7  210.3   212.0  472.2  20.8\n",
      "16        134.7  210.3   212.0  472.2  20.9\n",
      "17        134.7  210.3   211.9  474.7  21.0\n",
      "-----------------------------------------------------\n",
      "Scaling-Diff:\n",
      "            min   mean  median   max  std\n",
      "timestep                                 \n",
      "0        -133.1 -104.2  -105.6 -73.0  9.2\n",
      "1        -133.1 -104.2  -105.6 -73.0  9.2\n",
      "2        -133.1 -104.2  -105.6 -73.0  9.2\n",
      "3        -133.1 -104.2  -105.6 -73.0  9.2\n",
      "4        -133.1 -104.2  -105.6 -73.0  9.2\n",
      "5        -133.1 -104.2  -105.6 -73.0  9.2\n",
      "6        -133.1 -104.2  -105.6 -73.0  9.2\n",
      "7        -133.1 -104.2  -105.6 -53.5  9.2\n",
      "8        -133.1 -104.2  -105.6 -32.6  9.2\n",
      "9        -133.1 -104.2  -105.6 -32.6  9.2\n",
      "10       -133.1 -104.2  -105.6 -32.6  9.3\n",
      "11       -133.1 -104.2  -105.6 -32.6  9.3\n",
      "12       -133.1 -104.2  -105.6 -32.6  9.3\n",
      "13       -133.1 -104.2  -105.6 -23.5  9.3\n",
      "14       -133.1 -104.2  -105.6 -23.5  9.3\n",
      "15       -133.1 -104.1  -105.6 -23.5  9.3\n",
      "16       -133.1 -104.1  -105.6 -23.5  9.3\n",
      "17       -133.1 -104.1  -105.6 -23.5  9.3\n"
     ]
    }
   ],
   "source": [
    "X = de.X.copy()\n",
    "y = de.y.copy().astype(\"int32\")\n",
    "gt = GestureTransformer(byrow=True, feature_names= list(de.feature_names))\n",
    "X = gt.transform(X, verbose = True)"
   ]
  },
  {
   "cell_type": "markdown",
   "metadata": {},
   "source": [
    "# 2) Model Training"
   ]
  },
  {
   "cell_type": "markdown",
   "metadata": {},
   "source": [
    "## a) Filtering 0-Labels"
   ]
  },
  {
   "cell_type": "code",
   "execution_count": 8,
   "metadata": {},
   "outputs": [
    {
     "name": "stdout",
     "output_type": "stream",
     "text": [
      "-------------------------------------\n",
      "Current number of zero-labels: 15273\n",
      "New number of zero-labels (selected with criterion=\"variance_lowest\"): 6000\n"
     ]
    },
    {
     "data": {
      "text/html": [
       "<div>\n",
       "<style scoped>\n",
       "    .dataframe tbody tr th:only-of-type {\n",
       "        vertical-align: middle;\n",
       "    }\n",
       "\n",
       "    .dataframe tbody tr th {\n",
       "        vertical-align: top;\n",
       "    }\n",
       "\n",
       "    .dataframe thead th {\n",
       "        text-align: right;\n",
       "    }\n",
       "</style>\n",
       "<table border=\"1\" class=\"dataframe\">\n",
       "  <thead>\n",
       "    <tr style=\"text-align: right;\">\n",
       "      <th></th>\n",
       "      <th>abs_orig</th>\n",
       "      <th>pct_orig</th>\n",
       "      <th>abs_current</th>\n",
       "      <th>pct_current</th>\n",
       "    </tr>\n",
       "  </thead>\n",
       "  <tbody>\n",
       "    <tr>\n",
       "      <th>0</th>\n",
       "      <td>15273</td>\n",
       "      <td>76.52</td>\n",
       "      <td>6000</td>\n",
       "      <td>56.15</td>\n",
       "    </tr>\n",
       "    <tr>\n",
       "      <th>1</th>\n",
       "      <td>701</td>\n",
       "      <td>3.51</td>\n",
       "      <td>701</td>\n",
       "      <td>6.56</td>\n",
       "    </tr>\n",
       "    <tr>\n",
       "      <th>2</th>\n",
       "      <td>763</td>\n",
       "      <td>3.82</td>\n",
       "      <td>763</td>\n",
       "      <td>7.14</td>\n",
       "    </tr>\n",
       "    <tr>\n",
       "      <th>3</th>\n",
       "      <td>991</td>\n",
       "      <td>4.97</td>\n",
       "      <td>991</td>\n",
       "      <td>9.27</td>\n",
       "    </tr>\n",
       "    <tr>\n",
       "      <th>4</th>\n",
       "      <td>882</td>\n",
       "      <td>4.42</td>\n",
       "      <td>882</td>\n",
       "      <td>8.25</td>\n",
       "    </tr>\n",
       "    <tr>\n",
       "      <th>5</th>\n",
       "      <td>660</td>\n",
       "      <td>3.31</td>\n",
       "      <td>660</td>\n",
       "      <td>6.18</td>\n",
       "    </tr>\n",
       "    <tr>\n",
       "      <th>6</th>\n",
       "      <td>689</td>\n",
       "      <td>3.45</td>\n",
       "      <td>689</td>\n",
       "      <td>6.45</td>\n",
       "    </tr>\n",
       "  </tbody>\n",
       "</table>\n",
       "</div>"
      ],
      "text/plain": [
       "  abs_orig pct_orig abs_current pct_current\n",
       "0    15273    76.52        6000       56.15\n",
       "1      701     3.51         701        6.56\n",
       "2      763     3.82         763        7.14\n",
       "3      991     4.97         991        9.27\n",
       "4      882     4.42         882        8.25\n",
       "5      660     3.31         660        6.18\n",
       "6      689     3.45         689        6.45"
      ]
     },
     "execution_count": 8,
     "metadata": {},
     "output_type": "execute_result"
    }
   ],
   "source": [
    "from app_local.module import DataResampler\n",
    "dr_var = DataResampler()\n",
    "dr_var.fit(X,y)\n",
    "dr_var.restrict_zero_labels(6000, criterion=\"variance_lowest\")\n",
    "dr_var.display_information()"
   ]
  },
  {
   "cell_type": "code",
   "execution_count": 9,
   "metadata": {},
   "outputs": [
    {
     "name": "stdout",
     "output_type": "stream",
     "text": [
      "-------------------------------------\n",
      "Current number of zero-labels: 15273\n",
      "New number of zero-labels: 6000\n"
     ]
    },
    {
     "data": {
      "text/html": [
       "<div>\n",
       "<style scoped>\n",
       "    .dataframe tbody tr th:only-of-type {\n",
       "        vertical-align: middle;\n",
       "    }\n",
       "\n",
       "    .dataframe tbody tr th {\n",
       "        vertical-align: top;\n",
       "    }\n",
       "\n",
       "    .dataframe thead th {\n",
       "        text-align: right;\n",
       "    }\n",
       "</style>\n",
       "<table border=\"1\" class=\"dataframe\">\n",
       "  <thead>\n",
       "    <tr style=\"text-align: right;\">\n",
       "      <th></th>\n",
       "      <th>abs_orig</th>\n",
       "      <th>pct_orig</th>\n",
       "      <th>abs_current</th>\n",
       "      <th>pct_current</th>\n",
       "    </tr>\n",
       "  </thead>\n",
       "  <tbody>\n",
       "    <tr>\n",
       "      <th>0</th>\n",
       "      <td>15273</td>\n",
       "      <td>76.52</td>\n",
       "      <td>6000</td>\n",
       "      <td>56.15</td>\n",
       "    </tr>\n",
       "    <tr>\n",
       "      <th>1</th>\n",
       "      <td>701</td>\n",
       "      <td>3.51</td>\n",
       "      <td>701</td>\n",
       "      <td>6.56</td>\n",
       "    </tr>\n",
       "    <tr>\n",
       "      <th>2</th>\n",
       "      <td>763</td>\n",
       "      <td>3.82</td>\n",
       "      <td>763</td>\n",
       "      <td>7.14</td>\n",
       "    </tr>\n",
       "    <tr>\n",
       "      <th>3</th>\n",
       "      <td>991</td>\n",
       "      <td>4.97</td>\n",
       "      <td>991</td>\n",
       "      <td>9.27</td>\n",
       "    </tr>\n",
       "    <tr>\n",
       "      <th>4</th>\n",
       "      <td>882</td>\n",
       "      <td>4.42</td>\n",
       "      <td>882</td>\n",
       "      <td>8.25</td>\n",
       "    </tr>\n",
       "    <tr>\n",
       "      <th>5</th>\n",
       "      <td>660</td>\n",
       "      <td>3.31</td>\n",
       "      <td>660</td>\n",
       "      <td>6.18</td>\n",
       "    </tr>\n",
       "    <tr>\n",
       "      <th>6</th>\n",
       "      <td>689</td>\n",
       "      <td>3.45</td>\n",
       "      <td>689</td>\n",
       "      <td>6.45</td>\n",
       "    </tr>\n",
       "  </tbody>\n",
       "</table>\n",
       "</div>"
      ],
      "text/plain": [
       "  abs_orig pct_orig abs_current pct_current\n",
       "0    15273    76.52        6000       56.15\n",
       "1      701     3.51         701        6.56\n",
       "2      763     3.82         763        7.14\n",
       "3      991     4.97         991        9.27\n",
       "4      882     4.42         882        8.25\n",
       "5      660     3.31         660        6.18\n",
       "6      689     3.45         689        6.45"
      ]
     },
     "execution_count": 9,
     "metadata": {},
     "output_type": "execute_result"
    }
   ],
   "source": [
    "dr = DataResampler()\n",
    "dr.fit(X,y)\n",
    "dr.restrict_zero_labels(6000)\n",
    "dr.display_information()"
   ]
  },
  {
   "cell_type": "code",
   "execution_count": 10,
   "metadata": {},
   "outputs": [
    {
     "name": "stdout",
     "output_type": "stream",
     "text": [
      "(10686, 18, 16)\n",
      "(16686, 18, 16) (16686,)\n"
     ]
    }
   ],
   "source": [
    "print(dr.X.shape)\n",
    "X_full_zero = np.concatenate( [dr.X, dr_var.X[(dr_var.y == 0),:,:]] )\n",
    "y_full_zero = np.concatenate( [dr.y, dr_var.y[dr_var.y == 0]])\n",
    "print(X_full_zero.shape, y_full_zero.shape)"
   ]
  },
  {
   "cell_type": "code",
   "execution_count": 11,
   "metadata": {},
   "outputs": [
    {
     "data": {
      "text/html": [
       "<div>\n",
       "<style scoped>\n",
       "    .dataframe tbody tr th:only-of-type {\n",
       "        vertical-align: middle;\n",
       "    }\n",
       "\n",
       "    .dataframe tbody tr th {\n",
       "        vertical-align: top;\n",
       "    }\n",
       "\n",
       "    .dataframe thead th {\n",
       "        text-align: right;\n",
       "    }\n",
       "</style>\n",
       "<table border=\"1\" class=\"dataframe\">\n",
       "  <thead>\n",
       "    <tr style=\"text-align: right;\">\n",
       "      <th></th>\n",
       "      <th>abs_orig</th>\n",
       "      <th>pct_orig</th>\n",
       "      <th>abs_current</th>\n",
       "      <th>pct_current</th>\n",
       "    </tr>\n",
       "  </thead>\n",
       "  <tbody>\n",
       "    <tr>\n",
       "      <th>0</th>\n",
       "      <td>12000</td>\n",
       "      <td>71.92</td>\n",
       "      <td>12000</td>\n",
       "      <td>71.92</td>\n",
       "    </tr>\n",
       "    <tr>\n",
       "      <th>1</th>\n",
       "      <td>701</td>\n",
       "      <td>4.2</td>\n",
       "      <td>701</td>\n",
       "      <td>4.2</td>\n",
       "    </tr>\n",
       "    <tr>\n",
       "      <th>2</th>\n",
       "      <td>763</td>\n",
       "      <td>4.57</td>\n",
       "      <td>763</td>\n",
       "      <td>4.57</td>\n",
       "    </tr>\n",
       "    <tr>\n",
       "      <th>3</th>\n",
       "      <td>991</td>\n",
       "      <td>5.94</td>\n",
       "      <td>991</td>\n",
       "      <td>5.94</td>\n",
       "    </tr>\n",
       "    <tr>\n",
       "      <th>4</th>\n",
       "      <td>882</td>\n",
       "      <td>5.29</td>\n",
       "      <td>882</td>\n",
       "      <td>5.29</td>\n",
       "    </tr>\n",
       "    <tr>\n",
       "      <th>5</th>\n",
       "      <td>660</td>\n",
       "      <td>3.96</td>\n",
       "      <td>660</td>\n",
       "      <td>3.96</td>\n",
       "    </tr>\n",
       "    <tr>\n",
       "      <th>6</th>\n",
       "      <td>689</td>\n",
       "      <td>4.13</td>\n",
       "      <td>689</td>\n",
       "      <td>4.13</td>\n",
       "    </tr>\n",
       "  </tbody>\n",
       "</table>\n",
       "</div>"
      ],
      "text/plain": [
       "  abs_orig pct_orig abs_current pct_current\n",
       "0    12000    71.92       12000       71.92\n",
       "1      701      4.2         701         4.2\n",
       "2      763     4.57         763        4.57\n",
       "3      991     5.94         991        5.94\n",
       "4      882     5.29         882        5.29\n",
       "5      660     3.96         660        3.96\n",
       "6      689     4.13         689        4.13"
      ]
     },
     "execution_count": 11,
     "metadata": {},
     "output_type": "execute_result"
    }
   ],
   "source": [
    "dr_up = DataResampler()\n",
    "dr_up.fit(X_full_zero, y_full_zero)\n",
    "dr_up.display_information()"
   ]
  },
  {
   "cell_type": "code",
   "execution_count": 12,
   "metadata": {},
   "outputs": [
    {
     "data": {
      "text/html": [
       "<div>\n",
       "<style scoped>\n",
       "    .dataframe tbody tr th:only-of-type {\n",
       "        vertical-align: middle;\n",
       "    }\n",
       "\n",
       "    .dataframe tbody tr th {\n",
       "        vertical-align: top;\n",
       "    }\n",
       "\n",
       "    .dataframe thead th {\n",
       "        text-align: right;\n",
       "    }\n",
       "</style>\n",
       "<table border=\"1\" class=\"dataframe\">\n",
       "  <thead>\n",
       "    <tr style=\"text-align: right;\">\n",
       "      <th></th>\n",
       "      <th>abs_orig</th>\n",
       "      <th>pct_orig</th>\n",
       "      <th>abs_current</th>\n",
       "      <th>pct_current</th>\n",
       "    </tr>\n",
       "  </thead>\n",
       "  <tbody>\n",
       "    <tr>\n",
       "      <th>0</th>\n",
       "      <td>12000</td>\n",
       "      <td>71.92</td>\n",
       "      <td>12000</td>\n",
       "      <td>16.67</td>\n",
       "    </tr>\n",
       "    <tr>\n",
       "      <th>1</th>\n",
       "      <td>701</td>\n",
       "      <td>4.2</td>\n",
       "      <td>10000</td>\n",
       "      <td>13.89</td>\n",
       "    </tr>\n",
       "    <tr>\n",
       "      <th>2</th>\n",
       "      <td>763</td>\n",
       "      <td>4.57</td>\n",
       "      <td>10000</td>\n",
       "      <td>13.89</td>\n",
       "    </tr>\n",
       "    <tr>\n",
       "      <th>3</th>\n",
       "      <td>991</td>\n",
       "      <td>5.94</td>\n",
       "      <td>10000</td>\n",
       "      <td>13.89</td>\n",
       "    </tr>\n",
       "    <tr>\n",
       "      <th>4</th>\n",
       "      <td>882</td>\n",
       "      <td>5.29</td>\n",
       "      <td>10000</td>\n",
       "      <td>13.89</td>\n",
       "    </tr>\n",
       "    <tr>\n",
       "      <th>5</th>\n",
       "      <td>660</td>\n",
       "      <td>3.96</td>\n",
       "      <td>10000</td>\n",
       "      <td>13.89</td>\n",
       "    </tr>\n",
       "    <tr>\n",
       "      <th>6</th>\n",
       "      <td>689</td>\n",
       "      <td>4.13</td>\n",
       "      <td>10000</td>\n",
       "      <td>13.89</td>\n",
       "    </tr>\n",
       "  </tbody>\n",
       "</table>\n",
       "</div>"
      ],
      "text/plain": [
       "  abs_orig pct_orig abs_current pct_current\n",
       "0    12000    71.92       12000       16.67\n",
       "1      701      4.2       10000       13.89\n",
       "2      763     4.57       10000       13.89\n",
       "3      991     5.94       10000       13.89\n",
       "4      882     5.29       10000       13.89\n",
       "5      660     3.96       10000       13.89\n",
       "6      689     4.13       10000       13.89"
      ]
     },
     "execution_count": 12,
     "metadata": {},
     "output_type": "execute_result"
    }
   ],
   "source": [
    "dr_up.upsample(n = 10000, exceptions=[0])\n",
    "\n",
    "X_final = dr_up.X\n",
    "y_final = dr_up.y\n",
    "dr_up.display_information()"
   ]
  },
  {
   "cell_type": "markdown",
   "metadata": {},
   "source": [
    "## c) Train-Test-Split"
   ]
  },
  {
   "cell_type": "markdown",
   "metadata": {},
   "source": [
    "## d) Model Training"
   ]
  },
  {
   "cell_type": "code",
   "execution_count": 13,
   "metadata": {},
   "outputs": [],
   "source": [
    "from sklearn.svm import SVC\n",
    "from sklearn.metrics import accuracy_score\n",
    "from sklearn.model_selection import GridSearchCV"
   ]
  },
  {
   "cell_type": "markdown",
   "metadata": {},
   "source": [
    "### Train a simple SV-Classifier"
   ]
  },
  {
   "cell_type": "code",
   "execution_count": 14,
   "metadata": {},
   "outputs": [],
   "source": [
    "x_final = X_final.reshape(X_final.shape[0],-1)\n",
    "\n",
    "model = SVC(\n",
    "    random_state = 42,\n",
    "    gamma = \"auto\"\n",
    ")\n",
    "\n",
    "#model.fit(x_final, y_final)"
   ]
  },
  {
   "cell_type": "code",
   "execution_count": null,
   "metadata": {},
   "outputs": [],
   "source": [
    "preds = model.predict(x_final)\n",
    "(preds == y_final).sum()/len(y_final)"
   ]
  },
  {
   "cell_type": "markdown",
   "metadata": {},
   "source": [
    "### Gridsearch with Crossvalidation"
   ]
  },
  {
   "cell_type": "code",
   "execution_count": 15,
   "metadata": {},
   "outputs": [
    {
     "data": {
      "text/plain": [
       "dict_keys(['C', 'cache_size', 'class_weight', 'coef0', 'decision_function_shape', 'degree', 'gamma', 'kernel', 'max_iter', 'probability', 'random_state', 'shrinking', 'tol', 'verbose'])"
      ]
     },
     "execution_count": 15,
     "metadata": {},
     "output_type": "execute_result"
    }
   ],
   "source": [
    "model.get_params().keys()"
   ]
  },
  {
   "cell_type": "code",
   "execution_count": 16,
   "metadata": {},
   "outputs": [
    {
     "name": "stdout",
     "output_type": "stream",
     "text": [
      "{'C': [10, 1.0, 0.1], 'gamma': ['auto'], 'kernel': ['rbf']}\n"
     ]
    }
   ],
   "source": [
    "# Create the random grid vor SVM\n",
    "\n",
    "random_grid = {\n",
    "                'C': [10, 1.0, 0.1],\n",
    "                'gamma': [\"auto\"],\n",
    "                'kernel': [\"rbf\"]\n",
    "              }\n",
    "\n",
    "print(random_grid)"
   ]
  },
  {
   "cell_type": "code",
   "execution_count": 19,
   "metadata": {},
   "outputs": [
    {
     "data": {
      "text/plain": [
       "['accuracy',\n",
       " 'adjusted_mutual_info_score',\n",
       " 'adjusted_rand_score',\n",
       " 'average_precision',\n",
       " 'balanced_accuracy',\n",
       " 'brier_score_loss',\n",
       " 'completeness_score',\n",
       " 'explained_variance',\n",
       " 'f1',\n",
       " 'f1_macro',\n",
       " 'f1_micro',\n",
       " 'f1_samples',\n",
       " 'f1_weighted',\n",
       " 'fowlkes_mallows_score',\n",
       " 'homogeneity_score',\n",
       " 'mutual_info_score',\n",
       " 'neg_log_loss',\n",
       " 'neg_mean_absolute_error',\n",
       " 'neg_mean_squared_error',\n",
       " 'neg_mean_squared_log_error',\n",
       " 'neg_median_absolute_error',\n",
       " 'normalized_mutual_info_score',\n",
       " 'precision',\n",
       " 'precision_macro',\n",
       " 'precision_micro',\n",
       " 'precision_samples',\n",
       " 'precision_weighted',\n",
       " 'r2',\n",
       " 'recall',\n",
       " 'recall_macro',\n",
       " 'recall_micro',\n",
       " 'recall_samples',\n",
       " 'recall_weighted',\n",
       " 'roc_auc',\n",
       " 'v_measure_score']"
      ]
     },
     "execution_count": 19,
     "metadata": {},
     "output_type": "execute_result"
    }
   ],
   "source": [
    "import sklearn\n",
    "sorted(sklearn.metrics.SCORERS.keys())"
   ]
  },
  {
   "cell_type": "code",
   "execution_count": 20,
   "metadata": {},
   "outputs": [
    {
     "name": "stdout",
     "output_type": "stream",
     "text": [
      "Fitting 3 folds for each of 3 candidates, totalling 9 fits\n"
     ]
    },
    {
     "name": "stderr",
     "output_type": "stream",
     "text": [
      "[Parallel(n_jobs=-1)]: Using backend LokyBackend with 8 concurrent workers.\n",
      "[Parallel(n_jobs=-1)]: Done   4 out of   9 | elapsed:  7.4min remaining:  9.2min\n",
      "[Parallel(n_jobs=-1)]: Done   9 out of   9 | elapsed: 15.7min remaining:    0.0s\n",
      "[Parallel(n_jobs=-1)]: Done   9 out of   9 | elapsed: 15.7min finished\n"
     ]
    },
    {
     "data": {
      "text/plain": [
       "GridSearchCV(cv='warn', error_score='raise-deprecating',\n",
       "       estimator=SVC(C=1.0, cache_size=200, class_weight=None, coef0=0.0,\n",
       "  decision_function_shape='ovr', degree=3, gamma='auto', kernel='rbf',\n",
       "  max_iter=-1, probability=False, random_state=42, shrinking=True,\n",
       "  tol=0.001, verbose=False),\n",
       "       fit_params=None, iid='warn', n_jobs=-1,\n",
       "       param_grid={'C': [10, 1.0, 0.1], 'gamma': ['auto'], 'kernel': ['rbf']},\n",
       "       pre_dispatch='2*n_jobs', refit=True, return_train_score='warn',\n",
       "       scoring='accuracy', verbose=2)"
      ]
     },
     "execution_count": 20,
     "metadata": {},
     "output_type": "execute_result"
    }
   ],
   "source": [
    "params = random_grid\n",
    "scoring = \"accuracy\"\n",
    "clf = GridSearchCV(model, params, n_jobs = -1, verbose = 2, scoring = scoring)\n",
    "clf.fit(x_final, y_final)"
   ]
  },
  {
   "cell_type": "code",
   "execution_count": 21,
   "metadata": {},
   "outputs": [
    {
     "data": {
      "text/plain": [
       "dict_keys(['mean_fit_time', 'std_fit_time', 'mean_score_time', 'std_score_time', 'param_C', 'param_gamma', 'param_kernel', 'params', 'split0_test_score', 'split1_test_score', 'split2_test_score', 'mean_test_score', 'std_test_score', 'rank_test_score', 'split0_train_score', 'split1_train_score', 'split2_train_score', 'mean_train_score', 'std_train_score'])"
      ]
     },
     "execution_count": 21,
     "metadata": {},
     "output_type": "execute_result"
    }
   ],
   "source": [
    "clf.cv_results_.keys()"
   ]
  },
  {
   "cell_type": "code",
   "execution_count": 22,
   "metadata": {},
   "outputs": [
    {
     "name": "stdout",
     "output_type": "stream",
     "text": [
      "Index: 1\n",
      "Score: 0.9335416666666667\n",
      "Params: {'C': 1.0, 'gamma': 'auto', 'kernel': 'rbf'}\n"
     ]
    }
   ],
   "source": [
    "print(\"Index: {0}\".format(clf.best_index_))\n",
    "print(\"Score: {0}\".format(clf.best_score_))\n",
    "print(\"Params: {0}\".format(clf.best_params_))"
   ]
  },
  {
   "cell_type": "code",
   "execution_count": 23,
   "metadata": {},
   "outputs": [],
   "source": [
    "clf.best_estimator_.verbose = 0"
   ]
  },
  {
   "cell_type": "code",
   "execution_count": 24,
   "metadata": {},
   "outputs": [
    {
     "data": {
      "text/plain": [
       "['models/model_gesture_svm_nip120_[12000,10000]_001.pkl']"
      ]
     },
     "execution_count": 24,
     "metadata": {},
     "output_type": "execute_result"
    }
   ],
   "source": [
    "from sklearn.externals import joblib\n",
    "joblib.dump(clf.best_estimator_,'models/model_gesture_svm_nip120_[12000,10000]_001.pkl')"
   ]
  },
  {
   "cell_type": "code",
   "execution_count": null,
   "metadata": {},
   "outputs": [],
   "source": [
    "from sklearn.externals import joblib\n",
    "import os\n",
    "cwd = os.getcwd()\n",
    "\n",
    "counter = 0\n",
    "print(counter, cwd)\n",
    "while not cwd.endswith(\"drone_steering\") and counter < 10:\n",
    "    os.chdir('..')\n",
    "    cwd = os.getcwd()\n",
    "    counter = counter + 1\n",
    "    print(counter, cwd)\n",
    "\n",
    "loaded_model = joblib.load('models/model_gesture_svm_nip120_[12000,10000]_001.pkl')\n",
    "print(type(loaded_model))"
   ]
  },
  {
   "cell_type": "code",
   "execution_count": null,
   "metadata": {},
   "outputs": [],
   "source": []
  },
  {
   "cell_type": "code",
   "execution_count": null,
   "metadata": {},
   "outputs": [],
   "source": [
    "x12907 = joblib.load('models/x12907.pkl')\n",
    "x12907"
   ]
  },
  {
   "cell_type": "code",
   "execution_count": null,
   "metadata": {},
   "outputs": [],
   "source": [
    "loaded_model.predict(x12907)[0]"
   ]
  },
  {
   "cell_type": "code",
   "execution_count": null,
   "metadata": {},
   "outputs": [],
   "source": [
    "i = 0\n",
    "pred = [-1]\n",
    "while pred[0] != 1:\n",
    "    pred = loaded_model.predict(X[i,:,:].reshape(1,-1))\n",
    "    print(i, pred)\n",
    "    i += 1\n"
   ]
  }
 ],
 "metadata": {
  "kernelspec": {
   "display_name": "Python 3",
   "language": "python",
   "name": "python3"
  },
  "language_info": {
   "codemirror_mode": {
    "name": "ipython",
    "version": 3
   },
   "file_extension": ".py",
   "mimetype": "text/x-python",
   "name": "python",
   "nbconvert_exporter": "python",
   "pygments_lexer": "ipython3",
   "version": "3.6.6"
  }
 },
 "nbformat": 4,
 "nbformat_minor": 2
}
