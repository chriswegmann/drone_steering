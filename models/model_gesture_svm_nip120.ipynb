{
 "cells": [
  {
   "cell_type": "markdown",
   "metadata": {},
   "source": [
    "# 1) Data Prep"
   ]
  },
  {
   "cell_type": "code",
   "execution_count": 1,
   "metadata": {},
   "outputs": [],
   "source": [
    "import numpy as np\n",
    "import pandas as pd\n",
    "import warnings\n",
    "warnings.filterwarnings(\"ignore\")"
   ]
  },
  {
   "cell_type": "code",
   "execution_count": 2,
   "metadata": {},
   "outputs": [
    {
     "name": "stdout",
     "output_type": "stream",
     "text": [
      "0 C:\\Users\\p.schambach\\Desktop\\DSR\\drone_steering\\models\n",
      "1 C:\\Users\\p.schambach\\Desktop\\DSR\\drone_steering\n"
     ]
    }
   ],
   "source": [
    "import os\n",
    "cwd = os.getcwd()\n",
    "\n",
    "counter = 0\n",
    "print(counter, cwd)\n",
    "while not cwd.endswith(\"drone_steering\") and counter < 10:\n",
    "    os.chdir('..')\n",
    "    cwd = os.getcwd()\n",
    "    counter = counter + 1\n",
    "    print(counter, cwd)"
   ]
  },
  {
   "cell_type": "markdown",
   "metadata": {},
   "source": [
    "## a) Data loading"
   ]
  },
  {
   "cell_type": "code",
   "execution_count": 3,
   "metadata": {},
   "outputs": [],
   "source": [
    "from app_local.module import DataEnsembler, GestureTransformer\n",
    "\n",
    "de = DataEnsembler(120)\n",
    "de.investigate_available_datafiles(data_dir='data/gesture/',is_frame_based=True)\n",
    "de.load_data()"
   ]
  },
  {
   "cell_type": "markdown",
   "metadata": {},
   "source": [
    "## d) Generate training data"
   ]
  },
  {
   "cell_type": "code",
   "execution_count": 4,
   "metadata": {},
   "outputs": [],
   "source": [
    "de.assemble_data(tolerance_range=2)"
   ]
  },
  {
   "cell_type": "code",
   "execution_count": null,
   "metadata": {},
   "outputs": [],
   "source": [
    "de.combined_data_files_df"
   ]
  },
  {
   "cell_type": "code",
   "execution_count": null,
   "metadata": {},
   "outputs": [],
   "source": [
    "de.display_information()"
   ]
  },
  {
   "cell_type": "markdown",
   "metadata": {},
   "source": [
    "## e) Data normalization"
   ]
  },
  {
   "cell_type": "code",
   "execution_count": 5,
   "metadata": {},
   "outputs": [
    {
     "name": "stdout",
     "output_type": "stream",
     "text": [
      "---------------------------------------------------------\n",
      "Performing row-based transformations:\n",
      "X-Mean of Hip and Shoulders:\n",
      "\tRow-based Mean is taken over each sample and each timestep\n",
      "\tShape: (19559, 18)\n",
      "Y-Mean of Hip and Shoulders:\n",
      "\tRow-based Mean is taken over each sample and each timestep\n",
      "\tShape: (19559, 18)\n",
      "Scaling based on Hip-Shoulder distance:\n",
      "\tRow-based distance is calculated for each sample and each timestep\n",
      "\tShape: (19559, 18)\n",
      "-----------------------------------------------------\n",
      "X-Shift:\n",
      "            min   mean  median    max   std\n",
      "timestep                                   \n",
      "0         196.8  295.0   282.9  511.9  37.6\n",
      "1         196.8  294.9   282.8  511.9  37.6\n",
      "2         196.8  294.9   282.7  511.9  37.6\n",
      "3         196.8  294.9   282.7  511.9  37.6\n",
      "4         196.8  294.8   282.6  511.9  37.6\n",
      "5         196.8  294.8   282.6  511.9  37.6\n",
      "6         196.8  294.7   282.5  511.9  37.6\n",
      "7         196.8  294.7   282.5  511.9  37.6\n",
      "8         196.8  294.7   282.4  511.9  37.6\n",
      "9         196.8  294.6   282.4  511.9  37.6\n",
      "10        196.8  294.6   282.4  511.9  37.7\n",
      "11        196.8  294.6   282.4  511.9  37.7\n",
      "12        196.8  294.6   282.3  511.9  37.7\n",
      "13        124.5  294.5   282.3  511.9  37.7\n",
      "14        124.5  294.5   282.2  511.9  37.7\n",
      "15        124.5  294.5   282.2  511.9  37.7\n",
      "16        124.5  294.5   282.2  511.9  37.7\n",
      "17        124.5  294.5   282.2  511.9  37.7\n",
      "-----------------------------------------------------\n",
      "Y-Shift:\n",
      "            min   mean  median    max   std\n",
      "timestep                                   \n",
      "0         135.1  210.6   212.2  268.8  19.8\n",
      "1         134.7  210.6   212.2  268.4  19.8\n",
      "2         134.7  210.7   212.2  266.4  19.8\n",
      "3         134.7  210.7   212.2  265.0  19.8\n",
      "4         134.7  210.7   212.2  265.0  19.8\n",
      "5         134.7  210.7   212.2  265.0  19.8\n",
      "6         134.7  210.7   212.3  265.0  19.8\n",
      "7         134.7  210.7   212.3  466.0  19.8\n",
      "8         134.7  210.7   212.3  466.0  19.9\n",
      "9         134.7  210.8   212.3  472.2  20.0\n",
      "10        134.7  210.8   212.3  472.2  20.1\n",
      "11        134.7  210.8   212.3  472.2  20.2\n",
      "12        134.7  210.8   212.3  472.2  20.3\n",
      "13        134.7  210.8   212.3  472.2  20.3\n",
      "14        134.7  210.9   212.3  472.2  20.4\n",
      "15        134.7  210.9   212.3  472.2  20.5\n",
      "16        134.7  210.9   212.3  472.2  20.6\n",
      "17        134.7  210.9   212.3  474.7  20.7\n",
      "-----------------------------------------------------\n",
      "Scaling-Diff:\n",
      "            min   mean  median   max  std\n",
      "timestep                                 \n",
      "0        -133.1 -104.1  -105.5 -73.0  9.3\n",
      "1        -133.1 -104.1  -105.5 -73.0  9.3\n",
      "2        -133.1 -104.1  -105.5 -73.0  9.3\n",
      "3        -133.1 -104.1  -105.5 -73.0  9.3\n",
      "4        -133.1 -104.1  -105.5 -73.0  9.3\n",
      "5        -133.1 -104.1  -105.5 -73.0  9.3\n",
      "6        -133.1 -104.1  -105.5 -73.0  9.3\n",
      "7        -133.1 -104.1  -105.5 -53.5  9.3\n",
      "8        -133.1 -104.1  -105.5 -32.6  9.3\n",
      "9        -133.1 -104.1  -105.5 -32.6  9.3\n",
      "10       -133.1 -104.1  -105.5 -32.6  9.3\n",
      "11       -133.1 -104.1  -105.5 -32.6  9.3\n",
      "12       -133.1 -104.1  -105.5 -32.6  9.3\n",
      "13       -133.1 -104.1  -105.5 -23.5  9.3\n",
      "14       -133.1 -104.1  -105.5 -23.5  9.4\n",
      "15       -133.1 -104.1  -105.5 -23.5  9.4\n",
      "16       -133.1 -104.1  -105.5 -23.5  9.4\n",
      "17       -133.1 -104.0  -105.5 -23.5  9.4\n"
     ]
    }
   ],
   "source": [
    "X = de.X.copy()\n",
    "y = de.y.copy().astype(\"int32\")\n",
    "gt = GestureTransformer(byrow=True, feature_names= list(de.feature_names))\n",
    "X = gt.transform(X, verbose = True)"
   ]
  },
  {
   "cell_type": "markdown",
   "metadata": {},
   "source": [
    "# 2) Model Training"
   ]
  },
  {
   "cell_type": "markdown",
   "metadata": {},
   "source": [
    "## a) Filtering 0-Labels"
   ]
  },
  {
   "cell_type": "code",
   "execution_count": null,
   "metadata": {},
   "outputs": [],
   "source": [
    "from app_local.module import DataResampler\n",
    "dr_var = DataResampler()\n",
    "dr_var.fit(X,y)\n",
    "dr_var.restrict_zero_labels(500, criterion=\"variance_lowest\")\n",
    "dr_var.display_information()"
   ]
  },
  {
   "cell_type": "code",
   "execution_count": null,
   "metadata": {},
   "outputs": [],
   "source": [
    "dr = DataResampler()\n",
    "dr.fit(X,y)\n",
    "dr.restrict_zero_labels(500)\n",
    "dr.display_information()"
   ]
  },
  {
   "cell_type": "code",
   "execution_count": null,
   "metadata": {},
   "outputs": [],
   "source": [
    "print(dr.X.shape)\n",
    "X_full_zero = np.concatenate( [dr.X, dr_var.X[(dr_var.y == 0),:,:]] )\n",
    "y_full_zero = np.concatenate( [dr.y, dr_var.y[dr_var.y == 0]])\n",
    "print(X_full_zero.shape, y_full_zero.shape)"
   ]
  },
  {
   "cell_type": "code",
   "execution_count": null,
   "metadata": {},
   "outputs": [],
   "source": [
    "dr_up = DataResampler()\n",
    "dr_up.fit(X_full_zero, y_full_zero)\n",
    "dr_up.display_information()"
   ]
  },
  {
   "cell_type": "code",
   "execution_count": null,
   "metadata": {},
   "outputs": [],
   "source": [
    "dr_up.upsample(n = 800, exceptions=[0,3])\n",
    "dr_up.display_information()\n",
    "X_final = dr_up.X\n",
    "y_final = dr_up.y"
   ]
  },
  {
   "cell_type": "markdown",
   "metadata": {},
   "source": [
    "## b) OneHot-Encoding of target vector"
   ]
  },
  {
   "cell_type": "code",
   "execution_count": null,
   "metadata": {},
   "outputs": [],
   "source": [
    "from sklearn.preprocessing import OneHotEncoder"
   ]
  },
  {
   "cell_type": "code",
   "execution_count": null,
   "metadata": {},
   "outputs": [],
   "source": [
    "ohe = OneHotEncoder(sparse = False)\n",
    "print(type(ohe))\n",
    "target = ohe.fit_transform(y_final.reshape(-1,1))\n",
    "print(\"Before:\", y_final.shape)\n",
    "print(\"After:\", target.shape)\n",
    "target[0:5,:]"
   ]
  },
  {
   "cell_type": "markdown",
   "metadata": {},
   "source": [
    "## c) Train-Test-Split"
   ]
  },
  {
   "cell_type": "markdown",
   "metadata": {},
   "source": [
    "## d) Model Training"
   ]
  },
  {
   "cell_type": "code",
   "execution_count": null,
   "metadata": {},
   "outputs": [],
   "source": [
    "from sklearn.svm import SVC\n",
    "from sklearn.metrics import accuracy_score\n",
    "from sklearn.model_selection import GridSearchCV"
   ]
  },
  {
   "cell_type": "markdown",
   "metadata": {},
   "source": [
    "### Train a simple SV-Classifier"
   ]
  },
  {
   "cell_type": "code",
   "execution_count": null,
   "metadata": {},
   "outputs": [],
   "source": [
    "x_final = X_final.reshape(X_final.shape[0],-1)\n",
    "\n",
    "model = SVC(\n",
    "    random_state = 42,\n",
    "    gamma = \"auto\"\n",
    ")\n",
    "\n",
    "model.fit(x_final, y_final)"
   ]
  },
  {
   "cell_type": "code",
   "execution_count": null,
   "metadata": {},
   "outputs": [],
   "source": [
    "preds = model.predict(x_final)\n",
    "(preds == y_final).sum()/len(y_final)"
   ]
  },
  {
   "cell_type": "markdown",
   "metadata": {},
   "source": [
    "### Gridsearch with Crossvalidation"
   ]
  },
  {
   "cell_type": "code",
   "execution_count": null,
   "metadata": {},
   "outputs": [],
   "source": [
    "model.get_params().keys()"
   ]
  },
  {
   "cell_type": "code",
   "execution_count": null,
   "metadata": {},
   "outputs": [],
   "source": [
    "# Create the random grid vor SVM\n",
    "\n",
    "random_grid = {\n",
    "                'C': [100,10,5.0,2.0,1.0, 0.5, 0.1, 0.5, 0.01],\n",
    "                'gamma': [\"auto\", 0.001, 0.0001],\n",
    "                'kernel': [\"rbf\",\"poly\"]\n",
    "              }\n",
    "\n",
    "print(random_grid)"
   ]
  },
  {
   "cell_type": "code",
   "execution_count": null,
   "metadata": {},
   "outputs": [],
   "source": [
    "params = random_grid\n",
    "scoring = \"accuracy\"\n",
    "clf = GridSearchCV(model, params, n_jobs = -1, verbose = 2, scoring = scoring)\n",
    "clf.fit(x_final, y_final)"
   ]
  },
  {
   "cell_type": "code",
   "execution_count": null,
   "metadata": {},
   "outputs": [],
   "source": [
    "clf.cv_results_.keys()"
   ]
  },
  {
   "cell_type": "code",
   "execution_count": null,
   "metadata": {},
   "outputs": [],
   "source": [
    "print(\"Index: {0}\".format(clf.best_index_))\n",
    "print(\"Score: {0}\".format(clf.best_score_))\n",
    "print(\"Params: {0}\".format(clf.best_params_))"
   ]
  },
  {
   "cell_type": "code",
   "execution_count": null,
   "metadata": {},
   "outputs": [],
   "source": [
    "from sklearn.externals import joblib\n",
    "joblib.dump(clf.best_estimator_,'models/model_gesture_svm_nip120_[1000,800]_002.pkl')"
   ]
  },
  {
   "cell_type": "code",
   "execution_count": 6,
   "metadata": {},
   "outputs": [
    {
     "name": "stdout",
     "output_type": "stream",
     "text": [
      "0 C:\\Users\\p.schambach\\Desktop\\DSR\\drone_steering\n",
      "<class 'sklearn.model_selection._search.GridSearchCV'>\n"
     ]
    }
   ],
   "source": [
    "from sklearn.externals import joblib\n",
    "import os\n",
    "cwd = os.getcwd()\n",
    "\n",
    "counter = 0\n",
    "print(counter, cwd)\n",
    "while not cwd.endswith(\"drone_steering\") and counter < 10:\n",
    "    os.chdir('..')\n",
    "    cwd = os.getcwd()\n",
    "    counter = counter + 1\n",
    "    print(counter, cwd)\n",
    "\n",
    "loaded_model = joblib.load('models/model_gesture_svm_nip120_[1000,800]_001.pkl')\n",
    "print(type(loaded_model))"
   ]
  },
  {
   "cell_type": "code",
   "execution_count": 12,
   "metadata": {},
   "outputs": [
    {
     "name": "stdout",
     "output_type": "stream",
     "text": [
      "[3]\n"
     ]
    }
   ],
   "source": [
    "print(loaded_model.predict(X[6,:,:].reshape(1,-1)))\n",
    "x6 = X[6,:,:].reshape(1,-1)"
   ]
  },
  {
   "cell_type": "code",
   "execution_count": 13,
   "metadata": {},
   "outputs": [
    {
     "data": {
      "text/plain": [
       "['models/x6.pkl']"
      ]
     },
     "execution_count": 13,
     "metadata": {},
     "output_type": "execute_result"
    }
   ],
   "source": [
    "joblib.dump(x6,\"models/x6.pkl\")"
   ]
  },
  {
   "cell_type": "code",
   "execution_count": 14,
   "metadata": {},
   "outputs": [
    {
     "data": {
      "text/plain": [
       "['models/model_gesture_svm_nip120_[1000,800]_001.pkl']"
      ]
     },
     "execution_count": 14,
     "metadata": {},
     "output_type": "execute_result"
    }
   ],
   "source": [
    "from sklearn.externals import joblib\n",
    "joblib.dump(loaded_model.best_estimator_,'models/model_gesture_svm_nip120_[1000,800]_001.pkl')"
   ]
  },
  {
   "cell_type": "code",
   "execution_count": null,
   "metadata": {},
   "outputs": [],
   "source": []
  }
 ],
 "metadata": {
  "kernelspec": {
   "display_name": "Python 3",
   "language": "python",
   "name": "python3"
  },
  "language_info": {
   "codemirror_mode": {
    "name": "ipython",
    "version": 3
   },
   "file_extension": ".py",
   "mimetype": "text/x-python",
   "name": "python",
   "nbconvert_exporter": "python",
   "pygments_lexer": "ipython3",
   "version": "3.6.6"
  }
 },
 "nbformat": 4,
 "nbformat_minor": 2
}
