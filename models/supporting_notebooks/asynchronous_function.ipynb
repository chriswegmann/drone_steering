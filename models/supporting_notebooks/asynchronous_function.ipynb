{
 "cells": [
  {
   "cell_type": "code",
   "execution_count": 1,
   "metadata": {},
   "outputs": [],
   "source": [
    "import pandas as pd\n",
    "import time\n",
    "import threading"
   ]
  },
  {
   "cell_type": "markdown",
   "metadata": {},
   "source": [
    "### Simple Example With Two Functions Started in Parallel"
   ]
  },
  {
   "cell_type": "code",
   "execution_count": 2,
   "metadata": {},
   "outputs": [
    {
     "name": "stdout",
     "output_type": "stream",
     "text": [
      "func_a started\n",
      "func_b started\n"
     ]
    }
   ],
   "source": [
    "def func_a():\n",
    "    print(\"func_a started\")\n",
    "    time.sleep(3)\n",
    "    print(\"func_a finished\")\n",
    "\n",
    "def func_b():\n",
    "    print(\"func_b started\")\n",
    "    time.sleep(3)\n",
    "    print(\"func_b finished\")\n",
    "    \n",
    "threading.Thread(target=func_a).start()\n",
    "threading.Thread(target=func_b).start()"
   ]
  },
  {
   "cell_type": "code",
   "execution_count": 3,
   "metadata": {},
   "outputs": [
    {
     "name": "stdout",
     "output_type": "stream",
     "text": [
      "func_a finished\n",
      "func_b finished\n"
     ]
    }
   ],
   "source": [
    "time.sleep(5)"
   ]
  },
  {
   "cell_type": "markdown",
   "metadata": {},
   "source": [
    "### Drone Emulation"
   ]
  },
  {
   "cell_type": "code",
   "execution_count": 4,
   "metadata": {},
   "outputs": [],
   "source": [
    "df = pd.read_csv('../../data/posture/posture_training_data.csv')\n",
    "\n",
    "interval = 0.130\n",
    "drone_last_action = time.time()\n",
    "drone_status = 'grounded'\n",
    "movements = {0: 'takeoff',\n",
    "             1: 'move_forward',\n",
    "             2: 'flip',\n",
    "             3: 'rotate_cw',\n",
    "             4: 'rotate_ccw',\n",
    "             5: 'land',\n",
    "             999: 'not detected'}"
   ]
  },
  {
   "cell_type": "code",
   "execution_count": 5,
   "metadata": {},
   "outputs": [
    {
     "data": {
      "text/html": [
       "<div>\n",
       "<style scoped>\n",
       "    .dataframe tbody tr th:only-of-type {\n",
       "        vertical-align: middle;\n",
       "    }\n",
       "\n",
       "    .dataframe tbody tr th {\n",
       "        vertical-align: top;\n",
       "    }\n",
       "\n",
       "    .dataframe thead th {\n",
       "        text-align: right;\n",
       "    }\n",
       "</style>\n",
       "<table border=\"1\" class=\"dataframe\">\n",
       "  <thead>\n",
       "    <tr style=\"text-align: right;\">\n",
       "      <th></th>\n",
       "      <th>leftShoulder_x</th>\n",
       "      <th>leftShoulder_y</th>\n",
       "      <th>rightShoulder_x</th>\n",
       "      <th>rightShoulder_y</th>\n",
       "      <th>leftWrist_x</th>\n",
       "      <th>leftWrist_y</th>\n",
       "      <th>rightWrist_x</th>\n",
       "      <th>rightWrist_y</th>\n",
       "      <th>leftHip_x</th>\n",
       "      <th>leftHip_y</th>\n",
       "      <th>rightHip_x</th>\n",
       "      <th>rightHip_y</th>\n",
       "      <th>label</th>\n",
       "    </tr>\n",
       "  </thead>\n",
       "  <tbody>\n",
       "    <tr>\n",
       "      <th>899</th>\n",
       "      <td>273.643012</td>\n",
       "      <td>174.031938</td>\n",
       "      <td>223.671055</td>\n",
       "      <td>171.372575</td>\n",
       "      <td>355.393601</td>\n",
       "      <td>159.416145</td>\n",
       "      <td>144.867507</td>\n",
       "      <td>167.850433</td>\n",
       "      <td>267.015255</td>\n",
       "      <td>255.516243</td>\n",
       "      <td>235.386515</td>\n",
       "      <td>252.927435</td>\n",
       "      <td>2</td>\n",
       "    </tr>\n",
       "    <tr>\n",
       "      <th>68</th>\n",
       "      <td>369.905967</td>\n",
       "      <td>161.509110</td>\n",
       "      <td>325.248454</td>\n",
       "      <td>154.171085</td>\n",
       "      <td>383.333624</td>\n",
       "      <td>242.164282</td>\n",
       "      <td>243.211328</td>\n",
       "      <td>143.941467</td>\n",
       "      <td>365.549369</td>\n",
       "      <td>237.659162</td>\n",
       "      <td>332.829002</td>\n",
       "      <td>239.078635</td>\n",
       "      <td>4</td>\n",
       "    </tr>\n",
       "    <tr>\n",
       "      <th>224</th>\n",
       "      <td>337.397562</td>\n",
       "      <td>138.261967</td>\n",
       "      <td>300.869204</td>\n",
       "      <td>141.371509</td>\n",
       "      <td>337.336890</td>\n",
       "      <td>65.369459</td>\n",
       "      <td>296.043133</td>\n",
       "      <td>64.239784</td>\n",
       "      <td>334.968510</td>\n",
       "      <td>230.549861</td>\n",
       "      <td>306.783627</td>\n",
       "      <td>231.192493</td>\n",
       "      <td>1</td>\n",
       "    </tr>\n",
       "  </tbody>\n",
       "</table>\n",
       "</div>"
      ],
      "text/plain": [
       "     leftShoulder_x  leftShoulder_y  rightShoulder_x  rightShoulder_y  \\\n",
       "899      273.643012      174.031938       223.671055       171.372575   \n",
       "68       369.905967      161.509110       325.248454       154.171085   \n",
       "224      337.397562      138.261967       300.869204       141.371509   \n",
       "\n",
       "     leftWrist_x  leftWrist_y  rightWrist_x  rightWrist_y   leftHip_x  \\\n",
       "899   355.393601   159.416145    144.867507    167.850433  267.015255   \n",
       "68    383.333624   242.164282    243.211328    143.941467  365.549369   \n",
       "224   337.336890    65.369459    296.043133     64.239784  334.968510   \n",
       "\n",
       "      leftHip_y  rightHip_x  rightHip_y  label  \n",
       "899  255.516243  235.386515  252.927435      2  \n",
       "68   237.659162  332.829002  239.078635      4  \n",
       "224  230.549861  306.783627  231.192493      1  "
      ]
     },
     "execution_count": 5,
     "metadata": {},
     "output_type": "execute_result"
    }
   ],
   "source": [
    "df.sample(3)"
   ]
  },
  {
   "cell_type": "code",
   "execution_count": 6,
   "metadata": {},
   "outputs": [],
   "source": [
    "def steer_drone(movement):\n",
    "    global drone_last_action\n",
    "    global drone_status\n",
    "    if (time.time() - drone_last_action) > 1.5:\n",
    "        drone_last_action = time.time()\n",
    "        if ((movement == 0) & (drone_status == 'grounded')):\n",
    "            threading.Thread(target=drone_takeoff).start()\n",
    "        if (drone_status != 'grounded'):\n",
    "            if movement == 1:\n",
    "                threading.Thread(target=drone_move_forward).start()\n",
    "            if movement == 2:\n",
    "                threading.Thread(target=drone_flip).start()\n",
    "            if movement == 3:\n",
    "                threading.Thread(target=drone_rotate_cw).start()\n",
    "            if movement == 4:\n",
    "                threading.Thread(target=drone_rotate_ccw).start()\n",
    "            if movement == 5:\n",
    "                threading.Thread(target=drone_land).start()"
   ]
  },
  {
   "cell_type": "code",
   "execution_count": 7,
   "metadata": {},
   "outputs": [],
   "source": [
    "def predict_movement(pose):\n",
    "\n",
    "    movement = 999\n",
    "\n",
    "    leftArm_x = pose['leftWrist_x'] - pose['leftShoulder_x']\n",
    "    rightArm_x = pose['rightShoulder_x'] - pose['rightWrist_x']\n",
    "    leftArm_y = pose['leftShoulder_y'] - pose['leftWrist_y']\n",
    "    rightArm_y = pose['rightShoulder_y'] - pose['rightWrist_y']\n",
    "\n",
    "    if ((leftArm_y > 100) & (rightArm_y > 100) & (abs(leftArm_x) < 30) & (abs(rightArm_x) < 30)):\n",
    "        movement = 0 # takeoff\n",
    "    \n",
    "    if ((abs(leftArm_y) < 30) & (abs(rightArm_y) < 30) & (leftArm_x > 60) & (rightArm_x > 60)):\n",
    "        movement = 1 # move_forward\n",
    "\n",
    "    if ((abs(leftArm_x) < 30) & (abs(rightArm_x) < 30) & (abs(leftArm_y) < 30) & (abs(rightArm_y) < 30)):\n",
    "        movement = 2 # flip\n",
    "\n",
    "    if ((leftArm_y < -100) & (abs(rightArm_y) < 30) & (abs(leftArm_x) < 30) & (rightArm_x > 60)):\n",
    "        movement = 3 # rotate_cw\n",
    "\n",
    "    if ((abs(leftArm_y) < 30) & (rightArm_y < -100) & (leftArm_x > 60) & (abs(rightArm_x) < 30)):\n",
    "        movement = 4 # rotate_ccw\n",
    "\n",
    "    if ((leftArm_y < -100) & (rightArm_y < -100) & (abs(leftArm_x) < 30) & (abs(rightArm_x) < 30)):\n",
    "        movement = 5 # land\n",
    "\n",
    "    return movement"
   ]
  },
  {
   "cell_type": "code",
   "execution_count": 8,
   "metadata": {},
   "outputs": [],
   "source": [
    "def drone_takeoff():\n",
    "    global drone_status\n",
    "    drone_status = 'flying'\n",
    "    print('drone.takeoff()')\n",
    "    print(\"drone_status = 'flying'\")\n",
    "    print('time.sleep(5)')\n",
    "    time.sleep(5)"
   ]
  },
  {
   "cell_type": "code",
   "execution_count": 9,
   "metadata": {},
   "outputs": [],
   "source": [
    "def drone_move_forward():\n",
    "    print('drone.move_forward(2)')\n",
    "    time.sleep(1)"
   ]
  },
  {
   "cell_type": "code",
   "execution_count": 10,
   "metadata": {},
   "outputs": [],
   "source": [
    "def drone_flip():\n",
    "    print(\"drone.flip('r')\")\n",
    "    time.sleep(1)"
   ]
  },
  {
   "cell_type": "code",
   "execution_count": 11,
   "metadata": {},
   "outputs": [],
   "source": [
    "def drone_rotate_cw():\n",
    "    print('drone.rotate_cw(45)')\n",
    "    time.sleep(1)"
   ]
  },
  {
   "cell_type": "code",
   "execution_count": 12,
   "metadata": {},
   "outputs": [],
   "source": [
    "def drone_rotate_ccw():\n",
    "    print('drone.rotate_ccw(45)')\n",
    "    time.sleep(1)"
   ]
  },
  {
   "cell_type": "code",
   "execution_count": 13,
   "metadata": {},
   "outputs": [],
   "source": [
    "def drone_land():\n",
    "    global drone_status\n",
    "    drone_status = 'grounded'\n",
    "    print('drone.land()')\n",
    "    print(\"drone_status = 'grounded'\")"
   ]
  },
  {
   "cell_type": "code",
   "execution_count": 14,
   "metadata": {},
   "outputs": [
    {
     "name": "stdout",
     "output_type": "stream",
     "text": [
      "drone.takeoff()\n",
      "drone_status = 'flying'\n",
      "time.sleep(5)\n"
     ]
    }
   ],
   "source": [
    "steer_drone(0)"
   ]
  },
  {
   "cell_type": "code",
   "execution_count": 15,
   "metadata": {},
   "outputs": [],
   "source": [
    "time.sleep(5)"
   ]
  },
  {
   "cell_type": "code",
   "execution_count": 16,
   "metadata": {},
   "outputs": [
    {
     "name": "stdout",
     "output_type": "stream",
     "text": [
      "drone.flip('r')\n",
      "drone.move_forward(2)\n",
      "drone.flip('r')\n",
      "drone.flip('r')\n"
     ]
    }
   ],
   "source": [
    "for index, pose in df.iterrows():\n",
    "    steer_drone(predict_movement(pose))\n",
    "    time.sleep(interval)\n",
    "    if (index > 100):\n",
    "        break"
   ]
  }
 ],
 "metadata": {
  "kernelspec": {
   "display_name": "Python 3",
   "language": "python",
   "name": "python3"
  },
  "language_info": {
   "codemirror_mode": {
    "name": "ipython",
    "version": 3
   },
   "file_extension": ".py",
   "mimetype": "text/x-python",
   "name": "python",
   "nbconvert_exporter": "python",
   "pygments_lexer": "ipython3",
   "version": "3.6.6"
  }
 },
 "nbformat": 4,
 "nbformat_minor": 2
}
