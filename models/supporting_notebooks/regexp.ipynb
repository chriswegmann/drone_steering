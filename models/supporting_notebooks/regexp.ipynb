{
 "cells": [
  {
   "cell_type": "code",
   "execution_count": 1,
   "metadata": {},
   "outputs": [],
   "source": [
    "import numpy as np\n",
    "import pandas as pd\n",
    "from os import listdir\n",
    "import os\n",
    "import re"
   ]
  },
  {
   "cell_type": "code",
   "execution_count": 2,
   "metadata": {},
   "outputs": [],
   "source": [
    "os.chdir('../..')"
   ]
  },
  {
   "cell_type": "code",
   "execution_count": 3,
   "metadata": {},
   "outputs": [],
   "source": [
    "ms_per_frame = 120\n",
    "data_dir = 'data/gesture/'\n",
    "is_frame_based = True"
   ]
  },
  {
   "cell_type": "code",
   "execution_count": 4,
   "metadata": {},
   "outputs": [],
   "source": [
    "ds = pd.DataFrame(columns = ['filename','filetype','movement','person','filenum','frame_length'])"
   ]
  },
  {
   "cell_type": "code",
   "execution_count": 5,
   "metadata": {},
   "outputs": [],
   "source": [
    "filenames_features = listdir(data_dir + 'features/')\n",
    "if is_frame_based:\n",
    "    filenames_labels = listdir(data_dir + 'labels_framebased/')\n",
    "else:\n",
    "    filenames_labels = listdir(data_dir + 'labels_timebased/')"
   ]
  },
  {
   "cell_type": "code",
   "execution_count": 6,
   "metadata": {},
   "outputs": [],
   "source": [
    "re_filename = '(?P<filename>(?P<filetype>[a-z]*)_'\n",
    "re_movement = '(?P<movement>[a-z]*)_'\n",
    "re_person = '(?P<person>[a-z]*)_'\n",
    "re_filenum = '(?P<filenum>\\d*)(_'\n",
    "re_frame_length = '(?P<frame_length>\\d*))?\\.csv)'\n",
    "\n",
    "reg = re.compile(re_filename + re_movement + re_person + re_filenum + re_frame_length)"
   ]
  },
  {
   "cell_type": "code",
   "execution_count": 7,
   "metadata": {},
   "outputs": [],
   "source": [
    "matches = []\n",
    "\n",
    "for file_name in filenames_features:\n",
    "    match = reg.search(file_name)\n",
    "    if match:\n",
    "        matches.append(match)\n",
    "\n",
    "for file_name in filenames_labels:\n",
    "    match = reg.search(file_name)\n",
    "    if match:\n",
    "        matches.append(match)\n",
    "\n",
    "for i, match in enumerate(matches):\n",
    "    ds.loc[i] = match.groupdict()\n",
    "\n",
    "ds_features = ds[(ds.filetype == 'features') & (ds.frame_length == '000{0}'.format(str(ms_per_frame))[-3:])]\n",
    "ds_labels = ds[ds.filetype == 'labels']\n",
    "\n",
    "comb_ds = pd.merge(ds_features,\n",
    "                   ds_labels,\n",
    "                   on = ['movement','person','filenum'],\n",
    "                   how = 'left',\n",
    "                   suffixes = ['_features','_labels'])[['movement','filename_features','filename_labels']]\n",
    "\n",
    "comb_ds = comb_ds.drop(comb_ds[(comb_ds.movement != 'none') & (pd.isnull(comb_ds.filename_labels))].index)\n",
    "comb_ds = comb_ds.fillna({'filename_labels': 'labels_none.csv'})\n",
    "comb_ds = comb_ds.reset_index(drop = True)\n",
    "comb_ds = comb_ds[['filename_features','filename_labels']]\n",
    "\n",
    "data_source_df = ds\n",
    "combined_data_files_df = comb_ds"
   ]
  },
  {
   "cell_type": "code",
   "execution_count": 8,
   "metadata": {},
   "outputs": [
    {
     "data": {
      "text/html": [
       "<div>\n",
       "<style scoped>\n",
       "    .dataframe tbody tr th:only-of-type {\n",
       "        vertical-align: middle;\n",
       "    }\n",
       "\n",
       "    .dataframe tbody tr th {\n",
       "        vertical-align: top;\n",
       "    }\n",
       "\n",
       "    .dataframe thead th {\n",
       "        text-align: right;\n",
       "    }\n",
       "</style>\n",
       "<table border=\"1\" class=\"dataframe\">\n",
       "  <thead>\n",
       "    <tr style=\"text-align: right;\">\n",
       "      <th></th>\n",
       "      <th>filename</th>\n",
       "      <th>filetype</th>\n",
       "      <th>movement</th>\n",
       "      <th>person</th>\n",
       "      <th>filenum</th>\n",
       "      <th>frame_length</th>\n",
       "    </tr>\n",
       "  </thead>\n",
       "  <tbody>\n",
       "    <tr>\n",
       "      <th>71</th>\n",
       "      <td>labels_right_c_02.csv</td>\n",
       "      <td>labels</td>\n",
       "      <td>right</td>\n",
       "      <td>c</td>\n",
       "      <td>02</td>\n",
       "      <td>None</td>\n",
       "    </tr>\n",
       "    <tr>\n",
       "      <th>70</th>\n",
       "      <td>labels_right_c_01.csv</td>\n",
       "      <td>labels</td>\n",
       "      <td>right</td>\n",
       "      <td>c</td>\n",
       "      <td>01</td>\n",
       "      <td>None</td>\n",
       "    </tr>\n",
       "    <tr>\n",
       "      <th>55</th>\n",
       "      <td>labels_land_l_01.csv</td>\n",
       "      <td>labels</td>\n",
       "      <td>land</td>\n",
       "      <td>l</td>\n",
       "      <td>01</td>\n",
       "      <td>None</td>\n",
       "    </tr>\n",
       "    <tr>\n",
       "      <th>80</th>\n",
       "      <td>labels_takeoff_l_02.csv</td>\n",
       "      <td>labels</td>\n",
       "      <td>takeoff</td>\n",
       "      <td>l</td>\n",
       "      <td>02</td>\n",
       "      <td>None</td>\n",
       "    </tr>\n",
       "    <tr>\n",
       "      <th>73</th>\n",
       "      <td>labels_right_l_01.csv</td>\n",
       "      <td>labels</td>\n",
       "      <td>right</td>\n",
       "      <td>l</td>\n",
       "      <td>01</td>\n",
       "      <td>None</td>\n",
       "    </tr>\n",
       "  </tbody>\n",
       "</table>\n",
       "</div>"
      ],
      "text/plain": [
       "                   filename filetype movement person filenum frame_length\n",
       "71    labels_right_c_02.csv   labels    right      c      02         None\n",
       "70    labels_right_c_01.csv   labels    right      c      01         None\n",
       "55     labels_land_l_01.csv   labels     land      l      01         None\n",
       "80  labels_takeoff_l_02.csv   labels  takeoff      l      02         None\n",
       "73    labels_right_l_01.csv   labels    right      l      01         None"
      ]
     },
     "execution_count": 8,
     "metadata": {},
     "output_type": "execute_result"
    }
   ],
   "source": [
    "ds_labels.sample(5)"
   ]
  },
  {
   "cell_type": "code",
   "execution_count": 9,
   "metadata": {},
   "outputs": [
    {
     "data": {
      "text/html": [
       "<div>\n",
       "<style scoped>\n",
       "    .dataframe tbody tr th:only-of-type {\n",
       "        vertical-align: middle;\n",
       "    }\n",
       "\n",
       "    .dataframe tbody tr th {\n",
       "        vertical-align: top;\n",
       "    }\n",
       "\n",
       "    .dataframe thead th {\n",
       "        text-align: right;\n",
       "    }\n",
       "</style>\n",
       "<table border=\"1\" class=\"dataframe\">\n",
       "  <thead>\n",
       "    <tr style=\"text-align: right;\">\n",
       "      <th></th>\n",
       "      <th>filename_features</th>\n",
       "      <th>filename_labels</th>\n",
       "    </tr>\n",
       "  </thead>\n",
       "  <tbody>\n",
       "    <tr>\n",
       "      <th>33</th>\n",
       "      <td>features_right_l_03_120.csv</td>\n",
       "      <td>labels_right_l_03.csv</td>\n",
       "    </tr>\n",
       "    <tr>\n",
       "      <th>29</th>\n",
       "      <td>features_right_c_02_120.csv</td>\n",
       "      <td>labels_right_c_02.csv</td>\n",
       "    </tr>\n",
       "    <tr>\n",
       "      <th>14</th>\n",
       "      <td>features_left_c_02_120.csv</td>\n",
       "      <td>labels_left_c_02.csv</td>\n",
       "    </tr>\n",
       "    <tr>\n",
       "      <th>27</th>\n",
       "      <td>features_none_p_03_120.csv</td>\n",
       "      <td>labels_none.csv</td>\n",
       "    </tr>\n",
       "    <tr>\n",
       "      <th>39</th>\n",
       "      <td>features_takeoff_l_03_120.csv</td>\n",
       "      <td>labels_takeoff_l_03.csv</td>\n",
       "    </tr>\n",
       "  </tbody>\n",
       "</table>\n",
       "</div>"
      ],
      "text/plain": [
       "                filename_features          filename_labels\n",
       "33    features_right_l_03_120.csv    labels_right_l_03.csv\n",
       "29    features_right_c_02_120.csv    labels_right_c_02.csv\n",
       "14     features_left_c_02_120.csv     labels_left_c_02.csv\n",
       "27     features_none_p_03_120.csv          labels_none.csv\n",
       "39  features_takeoff_l_03_120.csv  labels_takeoff_l_03.csv"
      ]
     },
     "execution_count": 9,
     "metadata": {},
     "output_type": "execute_result"
    }
   ],
   "source": [
    "combined_data_files_df.sample(5)"
   ]
  }
 ],
 "metadata": {
  "kernelspec": {
   "display_name": "Python 3",
   "language": "python",
   "name": "python3"
  },
  "language_info": {
   "codemirror_mode": {
    "name": "ipython",
    "version": 3
   },
   "file_extension": ".py",
   "mimetype": "text/x-python",
   "name": "python",
   "nbconvert_exporter": "python",
   "pygments_lexer": "ipython3",
   "version": "3.6.6"
  }
 },
 "nbformat": 4,
 "nbformat_minor": 2
}
