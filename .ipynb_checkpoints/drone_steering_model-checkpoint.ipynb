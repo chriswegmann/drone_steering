{
 "cells": [
  {
   "cell_type": "code",
   "execution_count": 91,
   "metadata": {},
   "outputs": [],
   "source": [
    "import pandas as pd\n",
    "import numpy as np\n",
    "import seaborn as sns"
   ]
  },
  {
   "cell_type": "markdown",
   "metadata": {},
   "source": [
    "### Inspecting Train Data"
   ]
  },
  {
   "cell_type": "code",
   "execution_count": 94,
   "metadata": {},
   "outputs": [
    {
     "data": {
      "text/html": [
       "<div>\n",
       "<style scoped>\n",
       "    .dataframe tbody tr th:only-of-type {\n",
       "        vertical-align: middle;\n",
       "    }\n",
       "\n",
       "    .dataframe tbody tr th {\n",
       "        vertical-align: top;\n",
       "    }\n",
       "\n",
       "    .dataframe thead th {\n",
       "        text-align: right;\n",
       "    }\n",
       "</style>\n",
       "<table border=\"1\" class=\"dataframe\">\n",
       "  <thead>\n",
       "    <tr style=\"text-align: right;\">\n",
       "      <th></th>\n",
       "      <th>leftShoulder_x</th>\n",
       "      <th>leftShoulder_y</th>\n",
       "      <th>rightShoulder_x</th>\n",
       "      <th>rightShoulder_y</th>\n",
       "      <th>leftElbow_x</th>\n",
       "      <th>leftElbow_y</th>\n",
       "      <th>rightElbow_x</th>\n",
       "      <th>rightElbow_y</th>\n",
       "      <th>leftWrist_x</th>\n",
       "      <th>leftWrist_y</th>\n",
       "      <th>rightWrist_x</th>\n",
       "      <th>rightWrist_y</th>\n",
       "      <th>label</th>\n",
       "    </tr>\n",
       "  </thead>\n",
       "  <tbody>\n",
       "    <tr>\n",
       "      <th>0</th>\n",
       "      <td>392</td>\n",
       "      <td>152</td>\n",
       "      <td>322</td>\n",
       "      <td>146</td>\n",
       "      <td>402</td>\n",
       "      <td>210</td>\n",
       "      <td>268</td>\n",
       "      <td>160</td>\n",
       "      <td>401</td>\n",
       "      <td>267</td>\n",
       "      <td>230</td>\n",
       "      <td>148</td>\n",
       "      <td>1</td>\n",
       "    </tr>\n",
       "    <tr>\n",
       "      <th>1</th>\n",
       "      <td>393</td>\n",
       "      <td>152</td>\n",
       "      <td>319</td>\n",
       "      <td>147</td>\n",
       "      <td>399</td>\n",
       "      <td>210</td>\n",
       "      <td>260</td>\n",
       "      <td>164</td>\n",
       "      <td>402</td>\n",
       "      <td>272</td>\n",
       "      <td>219</td>\n",
       "      <td>147</td>\n",
       "      <td>1</td>\n",
       "    </tr>\n",
       "    <tr>\n",
       "      <th>2</th>\n",
       "      <td>391</td>\n",
       "      <td>151</td>\n",
       "      <td>321</td>\n",
       "      <td>147</td>\n",
       "      <td>403</td>\n",
       "      <td>207</td>\n",
       "      <td>269</td>\n",
       "      <td>162</td>\n",
       "      <td>408</td>\n",
       "      <td>270</td>\n",
       "      <td>356</td>\n",
       "      <td>272</td>\n",
       "      <td>1</td>\n",
       "    </tr>\n",
       "    <tr>\n",
       "      <th>3</th>\n",
       "      <td>391</td>\n",
       "      <td>150</td>\n",
       "      <td>321</td>\n",
       "      <td>145</td>\n",
       "      <td>403</td>\n",
       "      <td>207</td>\n",
       "      <td>265</td>\n",
       "      <td>166</td>\n",
       "      <td>397</td>\n",
       "      <td>267</td>\n",
       "      <td>335</td>\n",
       "      <td>266</td>\n",
       "      <td>1</td>\n",
       "    </tr>\n",
       "    <tr>\n",
       "      <th>4</th>\n",
       "      <td>390</td>\n",
       "      <td>150</td>\n",
       "      <td>322</td>\n",
       "      <td>149</td>\n",
       "      <td>403</td>\n",
       "      <td>210</td>\n",
       "      <td>270</td>\n",
       "      <td>159</td>\n",
       "      <td>406</td>\n",
       "      <td>269</td>\n",
       "      <td>224</td>\n",
       "      <td>148</td>\n",
       "      <td>1</td>\n",
       "    </tr>\n",
       "  </tbody>\n",
       "</table>\n",
       "</div>"
      ],
      "text/plain": [
       "   leftShoulder_x  leftShoulder_y  rightShoulder_x  rightShoulder_y  \\\n",
       "0             392             152              322              146   \n",
       "1             393             152              319              147   \n",
       "2             391             151              321              147   \n",
       "3             391             150              321              145   \n",
       "4             390             150              322              149   \n",
       "\n",
       "   leftElbow_x  leftElbow_y  rightElbow_x  rightElbow_y  leftWrist_x  \\\n",
       "0          402          210           268           160          401   \n",
       "1          399          210           260           164          402   \n",
       "2          403          207           269           162          408   \n",
       "3          403          207           265           166          397   \n",
       "4          403          210           270           159          406   \n",
       "\n",
       "   leftWrist_y  rightWrist_x  rightWrist_y  label  \n",
       "0          267           230           148      1  \n",
       "1          272           219           147      1  \n",
       "2          270           356           272      1  \n",
       "3          267           335           266      1  \n",
       "4          269           224           148      1  "
      ]
     },
     "execution_count": 94,
     "metadata": {},
     "output_type": "execute_result"
    }
   ],
   "source": [
    "df = pd.read_csv(r'data\\video_001.csv')\n",
    "df.head()"
   ]
  },
  {
   "cell_type": "code",
   "execution_count": 95,
   "metadata": {},
   "outputs": [
    {
     "data": {
      "text/html": [
       "<div>\n",
       "<style scoped>\n",
       "    .dataframe tbody tr th:only-of-type {\n",
       "        vertical-align: middle;\n",
       "    }\n",
       "\n",
       "    .dataframe tbody tr th {\n",
       "        vertical-align: top;\n",
       "    }\n",
       "\n",
       "    .dataframe thead th {\n",
       "        text-align: right;\n",
       "    }\n",
       "</style>\n",
       "<table border=\"1\" class=\"dataframe\">\n",
       "  <thead>\n",
       "    <tr style=\"text-align: right;\">\n",
       "      <th></th>\n",
       "      <th>leftShoulder_x</th>\n",
       "      <th>leftShoulder_y</th>\n",
       "      <th>rightShoulder_x</th>\n",
       "      <th>rightShoulder_y</th>\n",
       "      <th>leftElbow_x</th>\n",
       "      <th>leftElbow_y</th>\n",
       "      <th>rightElbow_x</th>\n",
       "      <th>rightElbow_y</th>\n",
       "      <th>leftWrist_x</th>\n",
       "      <th>leftWrist_y</th>\n",
       "      <th>rightWrist_x</th>\n",
       "      <th>rightWrist_y</th>\n",
       "      <th>label</th>\n",
       "    </tr>\n",
       "  </thead>\n",
       "  <tbody>\n",
       "    <tr>\n",
       "      <th>count</th>\n",
       "      <td>63.000000</td>\n",
       "      <td>63.000000</td>\n",
       "      <td>63.000000</td>\n",
       "      <td>63.000000</td>\n",
       "      <td>63.000000</td>\n",
       "      <td>63.000000</td>\n",
       "      <td>63.000000</td>\n",
       "      <td>63.000000</td>\n",
       "      <td>63.000000</td>\n",
       "      <td>63.000000</td>\n",
       "      <td>63.000000</td>\n",
       "      <td>63.000000</td>\n",
       "      <td>63.000000</td>\n",
       "    </tr>\n",
       "    <tr>\n",
       "      <th>mean</th>\n",
       "      <td>379.285714</td>\n",
       "      <td>147.746032</td>\n",
       "      <td>309.888889</td>\n",
       "      <td>147.349206</td>\n",
       "      <td>402.412698</td>\n",
       "      <td>184.238095</td>\n",
       "      <td>282.222222</td>\n",
       "      <td>177.222222</td>\n",
       "      <td>405.190476</td>\n",
       "      <td>226.682540</td>\n",
       "      <td>277.634921</td>\n",
       "      <td>205.222222</td>\n",
       "      <td>2.619048</td>\n",
       "    </tr>\n",
       "    <tr>\n",
       "      <th>std</th>\n",
       "      <td>5.592127</td>\n",
       "      <td>5.665311</td>\n",
       "      <td>4.701102</td>\n",
       "      <td>6.481136</td>\n",
       "      <td>15.449851</td>\n",
       "      <td>41.403488</td>\n",
       "      <td>24.600973</td>\n",
       "      <td>45.937350</td>\n",
       "      <td>37.441937</td>\n",
       "      <td>76.862849</td>\n",
       "      <td>41.038653</td>\n",
       "      <td>82.635118</td>\n",
       "      <td>1.249885</td>\n",
       "    </tr>\n",
       "    <tr>\n",
       "      <th>min</th>\n",
       "      <td>367.000000</td>\n",
       "      <td>130.000000</td>\n",
       "      <td>298.000000</td>\n",
       "      <td>129.000000</td>\n",
       "      <td>375.000000</td>\n",
       "      <td>88.000000</td>\n",
       "      <td>245.000000</td>\n",
       "      <td>83.000000</td>\n",
       "      <td>373.000000</td>\n",
       "      <td>19.000000</td>\n",
       "      <td>186.000000</td>\n",
       "      <td>13.000000</td>\n",
       "      <td>1.000000</td>\n",
       "    </tr>\n",
       "    <tr>\n",
       "      <th>25%</th>\n",
       "      <td>377.000000</td>\n",
       "      <td>148.000000</td>\n",
       "      <td>308.000000</td>\n",
       "      <td>146.000000</td>\n",
       "      <td>392.000000</td>\n",
       "      <td>156.000000</td>\n",
       "      <td>265.000000</td>\n",
       "      <td>156.000000</td>\n",
       "      <td>387.000000</td>\n",
       "      <td>253.000000</td>\n",
       "      <td>251.500000</td>\n",
       "      <td>141.000000</td>\n",
       "      <td>1.000000</td>\n",
       "    </tr>\n",
       "    <tr>\n",
       "      <th>50%</th>\n",
       "      <td>379.000000</td>\n",
       "      <td>150.000000</td>\n",
       "      <td>309.000000</td>\n",
       "      <td>150.000000</td>\n",
       "      <td>397.000000</td>\n",
       "      <td>209.000000</td>\n",
       "      <td>291.000000</td>\n",
       "      <td>210.000000</td>\n",
       "      <td>392.000000</td>\n",
       "      <td>263.000000</td>\n",
       "      <td>290.000000</td>\n",
       "      <td>263.000000</td>\n",
       "      <td>3.000000</td>\n",
       "    </tr>\n",
       "    <tr>\n",
       "      <th>75%</th>\n",
       "      <td>382.000000</td>\n",
       "      <td>151.000000</td>\n",
       "      <td>311.500000</td>\n",
       "      <td>152.000000</td>\n",
       "      <td>410.000000</td>\n",
       "      <td>211.000000</td>\n",
       "      <td>295.000000</td>\n",
       "      <td>215.000000</td>\n",
       "      <td>402.500000</td>\n",
       "      <td>267.000000</td>\n",
       "      <td>298.000000</td>\n",
       "      <td>268.000000</td>\n",
       "      <td>4.000000</td>\n",
       "    </tr>\n",
       "    <tr>\n",
       "      <th>max</th>\n",
       "      <td>393.000000</td>\n",
       "      <td>154.000000</td>\n",
       "      <td>322.000000</td>\n",
       "      <td>154.000000</td>\n",
       "      <td>446.000000</td>\n",
       "      <td>217.000000</td>\n",
       "      <td>414.000000</td>\n",
       "      <td>219.000000</td>\n",
       "      <td>523.000000</td>\n",
       "      <td>273.000000</td>\n",
       "      <td>404.000000</td>\n",
       "      <td>274.000000</td>\n",
       "      <td>4.000000</td>\n",
       "    </tr>\n",
       "  </tbody>\n",
       "</table>\n",
       "</div>"
      ],
      "text/plain": [
       "       leftShoulder_x  leftShoulder_y  rightShoulder_x  rightShoulder_y  \\\n",
       "count       63.000000       63.000000        63.000000        63.000000   \n",
       "mean       379.285714      147.746032       309.888889       147.349206   \n",
       "std          5.592127        5.665311         4.701102         6.481136   \n",
       "min        367.000000      130.000000       298.000000       129.000000   \n",
       "25%        377.000000      148.000000       308.000000       146.000000   \n",
       "50%        379.000000      150.000000       309.000000       150.000000   \n",
       "75%        382.000000      151.000000       311.500000       152.000000   \n",
       "max        393.000000      154.000000       322.000000       154.000000   \n",
       "\n",
       "       leftElbow_x  leftElbow_y  rightElbow_x  rightElbow_y  leftWrist_x  \\\n",
       "count    63.000000    63.000000     63.000000     63.000000    63.000000   \n",
       "mean    402.412698   184.238095    282.222222    177.222222   405.190476   \n",
       "std      15.449851    41.403488     24.600973     45.937350    37.441937   \n",
       "min     375.000000    88.000000    245.000000     83.000000   373.000000   \n",
       "25%     392.000000   156.000000    265.000000    156.000000   387.000000   \n",
       "50%     397.000000   209.000000    291.000000    210.000000   392.000000   \n",
       "75%     410.000000   211.000000    295.000000    215.000000   402.500000   \n",
       "max     446.000000   217.000000    414.000000    219.000000   523.000000   \n",
       "\n",
       "       leftWrist_y  rightWrist_x  rightWrist_y      label  \n",
       "count    63.000000     63.000000     63.000000  63.000000  \n",
       "mean    226.682540    277.634921    205.222222   2.619048  \n",
       "std      76.862849     41.038653     82.635118   1.249885  \n",
       "min      19.000000    186.000000     13.000000   1.000000  \n",
       "25%     253.000000    251.500000    141.000000   1.000000  \n",
       "50%     263.000000    290.000000    263.000000   3.000000  \n",
       "75%     267.000000    298.000000    268.000000   4.000000  \n",
       "max     273.000000    404.000000    274.000000   4.000000  "
      ]
     },
     "execution_count": 95,
     "metadata": {},
     "output_type": "execute_result"
    }
   ],
   "source": [
    "df.describe()"
   ]
  },
  {
   "cell_type": "code",
   "execution_count": 96,
   "metadata": {},
   "outputs": [
    {
     "data": {
      "text/plain": [
       "array([1, 3, 4, 2], dtype=int64)"
      ]
     },
     "execution_count": 96,
     "metadata": {},
     "output_type": "execute_result"
    }
   ],
   "source": [
    "df.label.unique()"
   ]
  },
  {
   "cell_type": "markdown",
   "metadata": {},
   "source": [
    "### Loading Data and Training Model"
   ]
  },
  {
   "cell_type": "code",
   "execution_count": 97,
   "metadata": {},
   "outputs": [],
   "source": [
    "data_csv = np.genfromtxt('data/video_001.csv', delimiter=',')\n",
    "\n",
    "train_x = data_csv[1:50,0:12] / 600\n",
    "train_y = data_csv[1:50,12:13]\n",
    "test_x = data_csv[50:,0:12] / 600\n",
    "test_y = data_csv[50:,12:13]"
   ]
  },
  {
   "cell_type": "code",
   "execution_count": 98,
   "metadata": {},
   "outputs": [
    {
     "data": {
      "text/plain": [
       "(49, 12)"
      ]
     },
     "execution_count": 98,
     "metadata": {},
     "output_type": "execute_result"
    }
   ],
   "source": [
    "train_x.shape"
   ]
  },
  {
   "cell_type": "code",
   "execution_count": 99,
   "metadata": {},
   "outputs": [],
   "source": [
    "from keras.utils import to_categorical\n",
    "train_y = to_categorical(train_y)\n",
    "test_y = to_categorical(test_y)"
   ]
  },
  {
   "cell_type": "code",
   "execution_count": 100,
   "metadata": {},
   "outputs": [
    {
     "name": "stdout",
     "output_type": "stream",
     "text": [
      "[0.65       0.25       0.53666667 0.24833333 0.67166667 0.35\n",
      " 0.45       0.265      0.67666667 0.44833333 0.37333333 0.24666667]\n",
      "[0. 1. 0. 0. 0.]\n"
     ]
    }
   ],
   "source": [
    "print(train_x[4])\n",
    "print(train_y[4])"
   ]
  },
  {
   "cell_type": "code",
   "execution_count": 101,
   "metadata": {},
   "outputs": [
    {
     "name": "stdout",
     "output_type": "stream",
     "text": [
      "[0.63166667 0.24666667 0.51333333 0.25166667 0.655      0.355\n",
      " 0.49333333 0.35333333 0.65333333 0.445      0.49333333 0.45166667]\n",
      "[0. 0. 0. 0. 1.]\n"
     ]
    }
   ],
   "source": [
    "print(test_x[4])\n",
    "print(test_y[4])"
   ]
  },
  {
   "cell_type": "code",
   "execution_count": 102,
   "metadata": {},
   "outputs": [
    {
     "name": "stdout",
     "output_type": "stream",
     "text": [
      "_________________________________________________________________\n",
      "Layer (type)                 Output Shape              Param #   \n",
      "=================================================================\n",
      "dense_19 (Dense)             (None, 10)                130       \n",
      "_________________________________________________________________\n",
      "dense_20 (Dense)             (None, 8)                 88        \n",
      "_________________________________________________________________\n",
      "dense_21 (Dense)             (None, 5)                 45        \n",
      "=================================================================\n",
      "Total params: 263\n",
      "Trainable params: 263\n",
      "Non-trainable params: 0\n",
      "_________________________________________________________________\n"
     ]
    }
   ],
   "source": [
    "from keras import models, layers\n",
    "\n",
    "model = models.Sequential()\n",
    "model.add(layers.Dense(\n",
    "    10, \n",
    "    activation=\"relu\", \n",
    "    input_shape=(12, )))\n",
    "model.add(layers.Dense(8, activation=\"relu\"))\n",
    "model.add(layers.Dense(5, activation=\"softmax\"))\n",
    "\n",
    "model.summary()                                         \n",
    "\n",
    "from keras import optimizers, losses, metrics\n",
    "model.compile(\n",
    "    optimizer=optimizers.RMSprop(lr=0.001),\n",
    "    loss=losses.categorical_crossentropy,\n",
    "    metrics=[metrics.categorical_accuracy]\n",
    ")"
   ]
  },
  {
   "cell_type": "code",
   "execution_count": 103,
   "metadata": {},
   "outputs": [
    {
     "name": "stdout",
     "output_type": "stream",
     "text": [
      "Epoch 1/3\n",
      "49/49 [==============================] - 1s 19ms/step - loss: 1.8140 - categorical_accuracy: 0.2245\n",
      "Epoch 2/3\n",
      "49/49 [==============================] - 0s 469us/step - loss: 1.7740 - categorical_accuracy: 0.2245\n",
      "Epoch 3/3\n",
      "49/49 [==============================] - 0s 653us/step - loss: 1.7442 - categorical_accuracy: 0.2245\n"
     ]
    }
   ],
   "source": [
    "history = model.fit(\n",
    "    train_x,\n",
    "    train_y,\n",
    "    epochs=3,\n",
    "    batch_size=10\n",
    ")"
   ]
  },
  {
   "cell_type": "code",
   "execution_count": 104,
   "metadata": {},
   "outputs": [
    {
     "name": "stdout",
     "output_type": "stream",
     "text": [
      "14/14 [==============================] - 0s 18ms/step\n",
      "Loss / Accuracy Evaluation\n",
      "--------------------------\n",
      "Loss:     1.73362\n",
      "Accuracy: 0.0\n"
     ]
    }
   ],
   "source": [
    "test_loss, test_acc = model.evaluate(test_x, test_y)\n",
    "print(\"Loss / Accuracy Evaluation\")\n",
    "print(\"--------------------------\")\n",
    "print(\"Loss:     \" + str(round(test_loss,5)))\n",
    "print(\"Accuracy: \" + str(round(test_acc,2)))"
   ]
  },
  {
   "cell_type": "code",
   "execution_count": 105,
   "metadata": {},
   "outputs": [],
   "source": [
    "test_y_pred = model.predict(test_x)"
   ]
  },
  {
   "cell_type": "code",
   "execution_count": 106,
   "metadata": {},
   "outputs": [
    {
     "data": {
      "text/plain": [
       "array([[0.23112848, 0.12233267, 0.18304035, 0.26989207, 0.1936064 ],\n",
       "       [0.23532586, 0.11970539, 0.1806224 , 0.26995486, 0.19439135],\n",
       "       [0.23674181, 0.11945816, 0.17963599, 0.26807827, 0.19608578],\n",
       "       [0.23703484, 0.11922859, 0.17941365, 0.2680425 , 0.19628039],\n",
       "       [0.23651321, 0.1198763 , 0.17970033, 0.26768506, 0.19622518],\n",
       "       [0.2367021 , 0.11952338, 0.17963837, 0.26802763, 0.19610849],\n",
       "       [0.23646438, 0.11962967, 0.17978045, 0.2682271 , 0.19589846],\n",
       "       [0.2367607 , 0.11935552, 0.17957032, 0.26826656, 0.19604693],\n",
       "       [0.23699792, 0.11958047, 0.17939425, 0.26743743, 0.19658999],\n",
       "       [0.23685658, 0.1197015 , 0.17943272, 0.26746148, 0.19654767],\n",
       "       [0.23752542, 0.11859722, 0.17920268, 0.26840317, 0.19627152],\n",
       "       [0.23611319, 0.12016328, 0.18004316, 0.26777163, 0.19590874],\n",
       "       [0.23566505, 0.12038782, 0.18045357, 0.26804608, 0.1954475 ],\n",
       "       [0.23566505, 0.12038782, 0.18045357, 0.26804608, 0.1954475 ]],\n",
       "      dtype=float32)"
      ]
     },
     "execution_count": 106,
     "metadata": {},
     "output_type": "execute_result"
    }
   ],
   "source": [
    "test_y_pred"
   ]
  },
  {
   "cell_type": "code",
   "execution_count": 107,
   "metadata": {},
   "outputs": [],
   "source": [
    "model.save('model.hdf5')"
   ]
  }
 ],
 "metadata": {
  "kernelspec": {
   "display_name": "Python 3",
   "language": "python",
   "name": "python3"
  },
  "language_info": {
   "codemirror_mode": {
    "name": "ipython",
    "version": 3
   },
   "file_extension": ".py",
   "mimetype": "text/x-python",
   "name": "python",
   "nbconvert_exporter": "python",
   "pygments_lexer": "ipython3",
   "version": "3.6.4"
  }
 },
 "nbformat": 4,
 "nbformat_minor": 2
}
