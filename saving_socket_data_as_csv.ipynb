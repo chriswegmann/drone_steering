{
 "cells": [
  {
   "cell_type": "code",
   "execution_count": 1,
   "metadata": {},
   "outputs": [],
   "source": [
    "import pandas as pd\n",
    "import json\n",
    "import timeit"
   ]
  },
  {
   "cell_type": "code",
   "execution_count": 2,
   "metadata": {},
   "outputs": [],
   "source": [
    "import warnings\n",
    "warnings.filterwarnings(\"ignore\")"
   ]
  },
  {
   "cell_type": "code",
   "execution_count": 3,
   "metadata": {},
   "outputs": [],
   "source": [
    "columns = ['leftShoulder_x',\n",
    "           'leftShoulder_y',\n",
    "           'rightShoulder_x',\n",
    "           'rightShoulder_y',\n",
    "           'leftElbow_x',\n",
    "           'leftElbow_y',\n",
    "           'rightElbow_x',\n",
    "           'rightElbow_y',\n",
    "           'leftWrist_x',\n",
    "           'leftWrist_y',\n",
    "           'rightWrist_x',\n",
    "           'rightWrist_y',\n",
    "           'leftHip_x',\n",
    "           'leftHip_y',\n",
    "           'rightHip_x',\n",
    "           'rightHip_y']"
   ]
  },
  {
   "cell_type": "code",
   "execution_count": 4,
   "metadata": {},
   "outputs": [],
   "source": [
    "pose = '{\"poses\":[{\"score\":0.3305602508857298,\"keypoints\":[{\"score\":0.9985909461975098,\"part\":\"nose\",\"position\":{\"x\":248.6576838258837,\"y\":256.0402913411458}},{\"score\":0.9997169375419617,\"part\":\"leftEye\",\"position\":{\"x\":288.0274458087859,\"y\":236.07972819010416}},{\"score\":0.9891241788864136,\"part\":\"rightEye\",\"position\":{\"x\":218.41943759605533,\"y\":244.81049397786458}},{\"score\":0.9666750431060791,\"part\":\"leftEar\",\"position\":{\"x\":335.9838671137075,\"y\":290.9280598958333}},{\"score\":0.786156952381134,\"part\":\"rightEar\",\"position\":{\"x\":183.74859819255892,\"y\":301.9474772135417}},{\"score\":0.657204270362854,\"part\":\"leftShoulder\",\"position\":{\"x\":443.04252449410865,\"y\":472.5755121866862}},{\"score\":0.16853265464305878,\"part\":\"rightShoulder\",\"position\":{\"x\":119.14107726050206,\"y\":453.5830586751302}},{\"score\":0.016177650541067123,\"part\":\"leftElbow\",\"position\":{\"x\":493.0340886350538,\"y\":489.2761617024739}},{\"score\":0.008160887286067009,\"part\":\"rightElbow\",\"position\":{\"x\":-15.11167832671619,\"y\":497.9180094401042}},{\"score\":0.004399956203997135,\"part\":\"leftWrist\",\"position\":{\"x\":466.03887689309045,\"y\":504.0832194010417}},{\"score\":0.004726673010736704,\"part\":\"rightWrist\",\"position\":{\"x\":43.51104736328125,\"y\":498.2728698730469}},{\"score\":0.004330772906541824,\"part\":\"leftHip\",\"position\":{\"x\":397.88377405385506,\"y\":502.5487772623698}},{\"score\":0.0069005475379526615,\"part\":\"rightHip\",\"position\":{\"x\":91.98278208247952,\"y\":488.4844584147135}},{\"score\":0.003729963442310691,\"part\":\"leftKnee\",\"position\":{\"x\":444.6972150958953,\"y\":471.8383005777995}},{\"score\":0.0024850412737578154,\"part\":\"rightKnee\",\"position\":{\"x\":7.370285284323771,\"y\":500.6000691731771}},{\"score\":0.0016965661197900772,\"part\":\"leftAnkle\",\"position\":{\"x\":444.20433669793806,\"y\":484.8676361083984}},{\"score\":0.0009152236161753535,\"part\":\"rightAnkle\",\"position\":{\"x\":25.47802734375,\"y\":479.93550135294595}}]}],\"image\":{\"width\":640,\"height\":480}}'"
   ]
  },
  {
   "cell_type": "code",
   "execution_count": 5,
   "metadata": {},
   "outputs": [],
   "source": [
    "df = pd.DataFrame(columns=columns)"
   ]
  },
  {
   "cell_type": "code",
   "execution_count": 6,
   "metadata": {},
   "outputs": [],
   "source": [
    "def get_pose_dict(pose):\n",
    "    x = json.loads(pose)\n",
    "    pose_dict = {}\n",
    "    for i in range(7):\n",
    "        pose_dict[x['poses'][0]['keypoints'][i+5]['part'] + '_x'] = x['poses'][0]['keypoints'][i + 5]['position']['x']\n",
    "        pose_dict[x['poses'][0]['keypoints'][i+5]['part'] + '_y'] = x['poses'][0]['keypoints'][i + 5]['position']['y']\n",
    "    return pose_dict    "
   ]
  },
  {
   "cell_type": "code",
   "execution_count": 7,
   "metadata": {},
   "outputs": [
    {
     "name": "stdout",
     "output_type": "stream",
     "text": [
      "Time:  10.312608509065656\n"
     ]
    }
   ],
   "source": [
    "start = timeit.default_timer()\n",
    "df = df.append(pd.DataFrame(get_pose_dict(pose), index=[0]))\n",
    "stop = timeit.default_timer()\n",
    "print('Time: ', 1000*(stop - start))"
   ]
  },
  {
   "cell_type": "code",
   "execution_count": 10,
   "metadata": {},
   "outputs": [
    {
     "data": {
      "text/html": [
       "<div>\n",
       "<style scoped>\n",
       "    .dataframe tbody tr th:only-of-type {\n",
       "        vertical-align: middle;\n",
       "    }\n",
       "\n",
       "    .dataframe tbody tr th {\n",
       "        vertical-align: top;\n",
       "    }\n",
       "\n",
       "    .dataframe thead th {\n",
       "        text-align: right;\n",
       "    }\n",
       "</style>\n",
       "<table border=\"1\" class=\"dataframe\">\n",
       "  <thead>\n",
       "    <tr style=\"text-align: right;\">\n",
       "      <th></th>\n",
       "      <th>leftElbow_x</th>\n",
       "      <th>leftElbow_y</th>\n",
       "      <th>leftHip_x</th>\n",
       "      <th>leftHip_y</th>\n",
       "      <th>leftShoulder_x</th>\n",
       "      <th>leftShoulder_y</th>\n",
       "      <th>leftWrist_x</th>\n",
       "      <th>leftWrist_y</th>\n",
       "      <th>rightElbow_x</th>\n",
       "      <th>rightElbow_y</th>\n",
       "      <th>rightHip_x</th>\n",
       "      <th>rightHip_y</th>\n",
       "      <th>rightShoulder_x</th>\n",
       "      <th>rightShoulder_y</th>\n",
       "      <th>rightWrist_x</th>\n",
       "      <th>rightWrist_y</th>\n",
       "    </tr>\n",
       "  </thead>\n",
       "  <tbody>\n",
       "    <tr>\n",
       "      <th>0</th>\n",
       "      <td>493.034089</td>\n",
       "      <td>489.276162</td>\n",
       "      <td>397.883774</td>\n",
       "      <td>502.548777</td>\n",
       "      <td>443.042524</td>\n",
       "      <td>472.575512</td>\n",
       "      <td>466.038877</td>\n",
       "      <td>504.083219</td>\n",
       "      <td>-15.111678</td>\n",
       "      <td>497.918009</td>\n",
       "      <td>NaN</td>\n",
       "      <td>NaN</td>\n",
       "      <td>119.141077</td>\n",
       "      <td>453.583059</td>\n",
       "      <td>43.511047</td>\n",
       "      <td>498.27287</td>\n",
       "    </tr>\n",
       "  </tbody>\n",
       "</table>\n",
       "</div>"
      ],
      "text/plain": [
       "   leftElbow_x  leftElbow_y   leftHip_x   leftHip_y  leftShoulder_x  \\\n",
       "0   493.034089   489.276162  397.883774  502.548777      443.042524   \n",
       "\n",
       "   leftShoulder_y  leftWrist_x  leftWrist_y  rightElbow_x  rightElbow_y  \\\n",
       "0      472.575512   466.038877   504.083219    -15.111678    497.918009   \n",
       "\n",
       "  rightHip_x rightHip_y  rightShoulder_x  rightShoulder_y  rightWrist_x  \\\n",
       "0        NaN        NaN       119.141077       453.583059     43.511047   \n",
       "\n",
       "   rightWrist_y  \n",
       "0     498.27287  "
      ]
     },
     "execution_count": 10,
     "metadata": {},
     "output_type": "execute_result"
    }
   ],
   "source": [
    "df"
   ]
  },
  {
   "cell_type": "code",
   "execution_count": null,
   "metadata": {},
   "outputs": [],
   "source": [
    "df.dr"
   ]
  },
  {
   "cell_type": "code",
   "execution_count": null,
   "metadata": {},
   "outputs": [],
   "source": [
    "df.to_csv('out_test.csv')"
   ]
  },
  {
   "cell_type": "code",
   "execution_count": null,
   "metadata": {},
   "outputs": [],
   "source": [
    "df.drop(df.index, inplace=True)"
   ]
  },
  {
   "cell_type": "code",
   "execution_count": null,
   "metadata": {},
   "outputs": [],
   "source": [
    "df"
   ]
  },
  {
   "cell_type": "code",
   "execution_count": null,
   "metadata": {},
   "outputs": [],
   "source": [
    "\n",
    "\n",
    "\n"
   ]
  }
 ],
 "metadata": {
  "kernelspec": {
   "display_name": "Python 3",
   "language": "python",
   "name": "python3"
  },
  "language_info": {
   "codemirror_mode": {
    "name": "ipython",
    "version": 3
   },
   "file_extension": ".py",
   "mimetype": "text/x-python",
   "name": "python",
   "nbconvert_exporter": "python",
   "pygments_lexer": "ipython3",
   "version": "3.6.6"
  }
 },
 "nbformat": 4,
 "nbformat_minor": 2
}
