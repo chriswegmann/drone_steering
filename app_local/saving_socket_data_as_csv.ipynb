{
 "cells": [
  {
   "cell_type": "code",
   "execution_count": 19,
   "metadata": {},
   "outputs": [],
   "source": [
    "import pandas as pd\n",
    "import json\n",
    "import timeit\n",
    "import time"
   ]
  },
  {
   "cell_type": "code",
   "execution_count": 21,
   "metadata": {},
   "outputs": [],
   "source": [
    "drone_last_action = time.time()\n",
    "time.sleep(1.2) # needed for first action to be taken into account\n",
    "drone_status = 'grounded'"
   ]
  },
  {
   "cell_type": "code",
   "execution_count": 2,
   "metadata": {},
   "outputs": [],
   "source": [
    "import warnings\n",
    "warnings.filterwarnings(\"ignore\")"
   ]
  },
  {
   "cell_type": "code",
   "execution_count": 3,
   "metadata": {},
   "outputs": [],
   "source": [
    "columns = ['leftShoulder_x',\n",
    "           'leftShoulder_y',\n",
    "           'rightShoulder_x',\n",
    "           'rightShoulder_y',\n",
    "           'leftElbow_x',\n",
    "           'leftElbow_y',\n",
    "           'rightElbow_x',\n",
    "           'rightElbow_y',\n",
    "           'leftWrist_x',\n",
    "           'leftWrist_y',\n",
    "           'rightWrist_x',\n",
    "           'rightWrist_y',\n",
    "           'leftHip_x',\n",
    "           'leftHip_y',\n",
    "           'rightHip_x',\n",
    "           'rightHip_y']"
   ]
  },
  {
   "cell_type": "code",
   "execution_count": 4,
   "metadata": {},
   "outputs": [],
   "source": [
    "pose = '{\"poses\":[{\"score\":0.3305602508857298,\"keypoints\":[{\"score\":0.9985909461975098,\"part\":\"nose\",\"position\":{\"x\":248.6576838258837,\"y\":256.0402913411458}},{\"score\":0.9997169375419617,\"part\":\"leftEye\",\"position\":{\"x\":288.0274458087859,\"y\":236.07972819010416}},{\"score\":0.9891241788864136,\"part\":\"rightEye\",\"position\":{\"x\":218.41943759605533,\"y\":244.81049397786458}},{\"score\":0.9666750431060791,\"part\":\"leftEar\",\"position\":{\"x\":335.9838671137075,\"y\":290.9280598958333}},{\"score\":0.786156952381134,\"part\":\"rightEar\",\"position\":{\"x\":183.74859819255892,\"y\":301.9474772135417}},{\"score\":0.657204270362854,\"part\":\"leftShoulder\",\"position\":{\"x\":443.04252449410865,\"y\":472.5755121866862}},{\"score\":0.16853265464305878,\"part\":\"rightShoulder\",\"position\":{\"x\":119.14107726050206,\"y\":453.5830586751302}},{\"score\":0.016177650541067123,\"part\":\"leftElbow\",\"position\":{\"x\":493.0340886350538,\"y\":489.2761617024739}},{\"score\":0.008160887286067009,\"part\":\"rightElbow\",\"position\":{\"x\":-15.11167832671619,\"y\":497.9180094401042}},{\"score\":0.004399956203997135,\"part\":\"leftWrist\",\"position\":{\"x\":466.03887689309045,\"y\":504.0832194010417}},{\"score\":0.004726673010736704,\"part\":\"rightWrist\",\"position\":{\"x\":43.51104736328125,\"y\":498.2728698730469}},{\"score\":0.004330772906541824,\"part\":\"leftHip\",\"position\":{\"x\":397.88377405385506,\"y\":502.5487772623698}},{\"score\":0.0069005475379526615,\"part\":\"rightHip\",\"position\":{\"x\":91.98278208247952,\"y\":488.4844584147135}},{\"score\":0.003729963442310691,\"part\":\"leftKnee\",\"position\":{\"x\":444.6972150958953,\"y\":471.8383005777995}},{\"score\":0.0024850412737578154,\"part\":\"rightKnee\",\"position\":{\"x\":7.370285284323771,\"y\":500.6000691731771}},{\"score\":0.0016965661197900772,\"part\":\"leftAnkle\",\"position\":{\"x\":444.20433669793806,\"y\":484.8676361083984}},{\"score\":0.0009152236161753535,\"part\":\"rightAnkle\",\"position\":{\"x\":25.47802734375,\"y\":479.93550135294595}}]}],\"image\":{\"width\":640,\"height\":480}}'"
   ]
  },
  {
   "cell_type": "code",
   "execution_count": 5,
   "metadata": {},
   "outputs": [],
   "source": [
    "df = pd.DataFrame(columns=columns)"
   ]
  },
  {
   "cell_type": "code",
   "execution_count": 8,
   "metadata": {},
   "outputs": [],
   "source": [
    "def get_pose_dict(pose):\n",
    "    x = json.loads(pose)\n",
    "    pose_dict = {}\n",
    "    for i in range(8):\n",
    "        pose_dict[x['poses'][0]['keypoints'][i+5]['part'] + '_x'] = x['poses'][0]['keypoints'][i + 5]['position']['x']\n",
    "        pose_dict[x['poses'][0]['keypoints'][i+5]['part'] + '_y'] = x['poses'][0]['keypoints'][i + 5]['position']['y']\n",
    "    return pose_dict    "
   ]
  },
  {
   "cell_type": "code",
   "execution_count": 9,
   "metadata": {},
   "outputs": [],
   "source": [
    "def predict_movement(pose):\n",
    "    \n",
    "    movement = 5\n",
    "    \n",
    "    leftArm_x = pose['leftWrist_x'] - pose['leftShoulder_x']\n",
    "    rightArm_x = pose['rightShoulder_x'] - pose['rightWrist_x']\n",
    "    leftArm_y = pose['leftShoulder_y'] - pose['leftWrist_y']\n",
    "    rightArm_y = pose['rightShoulder_y'] - pose['rightWrist_y']\n",
    "    \n",
    "    if leftArm_x > 60:\n",
    "        movement = 1\n",
    "\n",
    "    if rightArm_x > 60:\n",
    "        movement = 2\n",
    "\n",
    "    if ((leftArm_x > 60) & (rightArm_x > 60)):\n",
    "        movement = 0\n",
    "\n",
    "    if ((leftArm_y > 100) & (rightArm_y > 100)):\n",
    "        movement = 3\n",
    "\n",
    "    if ((leftArm_y < -100) & (rightArm_y < -100)):\n",
    "        movement = 4\n",
    "        \n",
    "    return movement"
   ]
  },
  {
   "cell_type": "code",
   "execution_count": 10,
   "metadata": {},
   "outputs": [],
   "source": [
    "def steer_drone(movement):\n",
    "    global drone_last_action\n",
    "    global drone_status\n",
    "    if (time.time() - drone_last_action) > 1:\n",
    "        #print(movements[movement] + ' | ' + drone_status)\n",
    "        drone_last_action = time.time()\n",
    "        if ((movement == 4) & (drone_status == 'grounded')):\n",
    "            drone_status = 'flying'\n",
    "            print('drone.takeoff()')\n",
    "        if (drone_status != 'grounded'):\n",
    "            if movement == 6:\n",
    "                drone_status = 'grounded'\n",
    "                print('drone.land()')\n",
    "            if movement == 0:\n",
    "                print(\"drone.flip('r')\")\n",
    "            if movement == 1:\n",
    "                print('drone.rotate_ccw(45)')\n",
    "            if movement == 2:\n",
    "                print('drone.rotate_cw(45)')\n",
    "            if movement == 5:\n",
    "                print('drone.move_forward(1)')"
   ]
  },
  {
   "cell_type": "code",
   "execution_count": 14,
   "metadata": {},
   "outputs": [],
   "source": [
    "pose_test = get_pose_dict(pose)"
   ]
  },
  {
   "cell_type": "code",
   "execution_count": 16,
   "metadata": {},
   "outputs": [
    {
     "data": {
      "text/plain": [
       "2"
      ]
     },
     "execution_count": 16,
     "metadata": {},
     "output_type": "execute_result"
    }
   ],
   "source": [
    "predict_movement(pose_test)"
   ]
  },
  {
   "cell_type": "code",
   "execution_count": 22,
   "metadata": {},
   "outputs": [
    {
     "name": "stdout",
     "output_type": "stream",
     "text": [
      "Time:  0.2094546916850959\n"
     ]
    }
   ],
   "source": [
    "start = timeit.default_timer()\n",
    "steer_drone(predict_movement(get_pose_dict(pose)))\n",
    "stop = timeit.default_timer()\n",
    "print('Time: ', 1000*(stop - start))"
   ]
  },
  {
   "cell_type": "code",
   "execution_count": null,
   "metadata": {},
   "outputs": [],
   "source": [
    "df"
   ]
  },
  {
   "cell_type": "code",
   "execution_count": null,
   "metadata": {},
   "outputs": [],
   "source": [
    "df.dr"
   ]
  },
  {
   "cell_type": "code",
   "execution_count": null,
   "metadata": {},
   "outputs": [],
   "source": [
    "df.to_csv('out_test.csv')"
   ]
  },
  {
   "cell_type": "code",
   "execution_count": null,
   "metadata": {},
   "outputs": [],
   "source": [
    "df.drop(df.index, inplace=True)"
   ]
  },
  {
   "cell_type": "code",
   "execution_count": null,
   "metadata": {},
   "outputs": [],
   "source": [
    "df"
   ]
  },
  {
   "cell_type": "code",
   "execution_count": null,
   "metadata": {},
   "outputs": [],
   "source": [
    "\n",
    "\n",
    "\n"
   ]
  }
 ],
 "metadata": {
  "kernelspec": {
   "display_name": "Python 3",
   "language": "python",
   "name": "python3"
  },
  "language_info": {
   "codemirror_mode": {
    "name": "ipython",
    "version": 3
   },
   "file_extension": ".py",
   "mimetype": "text/x-python",
   "name": "python",
   "nbconvert_exporter": "python",
   "pygments_lexer": "ipython3",
   "version": "3.6.6"
  }
 },
 "nbformat": 4,
 "nbformat_minor": 2
}
